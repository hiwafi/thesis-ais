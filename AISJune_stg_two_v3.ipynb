{
 "cells": [
  {
   "cell_type": "code",
   "execution_count": 4,
   "metadata": {},
   "outputs": [],
   "source": [
    "import pandas as pd\n",
    "# from matplotlib import pyplot\n",
    "import numpy as np\n",
    "import seaborn as sns\n",
    "import math\n",
    "import datetime\n",
    "import pickle\n",
    "import joblib\n",
    "import matplotlib.pyplot as plt\n",
    "\n",
    "plt.rcParams.update({\n",
    "    \"text.usetex\": True,\n",
    "    \"font.family\": \"serif\"\n",
    "})\n",
    "\n",
    "model_rfr_ftr = joblib.load('savemodel_rfr_ftr.sav')\n",
    "# model_rfr_hpo = joblib.load('savemodel_rfr_ftr_hpo.sav')\n",
    "model_rfr_hpov = joblib.load('savemodel_rfr_ftr_hpov.sav')\n",
    "# model_rft = joblib.load('savemodel_rf.sav')\n",
    "\n",
    "\n",
    "model_etr = joblib.load('savemodel_etr.sav')\n",
    "model_etr_hpov = joblib.load('savemodel_etr_hpov.sav')\n",
    "\n",
    "model_dtr_ftr = joblib.load('savemodel_dtr_ftr.sav')\n",
    "model_dtr_hpov = joblib.load('savemodel_dtr_hpov.sav')\n",
    "\n",
    "\n",
    "model_mlr_ftr = joblib.load('savemodel_mlr_ftr.sav')\n",
    "\n",
    "dfmain = pd.read_csv(\"AIS_weather_H_ok2_copy.csv\",parse_dates=[\"Time\"])\n",
    "dfmain = dfmain[dfmain['LAT'] > 55.04 ]\n",
    "\n",
    "dfpre = pd.read_csv(\"AIS_weather_h_rename_copy.csv\",parse_dates=[\"Time\"])\n",
    "dfpre = dfpre[dfpre['LAT'] > 55.04 ]"
   ]
  },
  {
   "cell_type": "code",
   "execution_count": 5,
   "metadata": {},
   "outputs": [],
   "source": [
    "dfmain = dfmain.drop(['Wind Speed','Current Speed'],axis=1)"
   ]
  },
  {
   "cell_type": "code",
   "execution_count": 6,
   "metadata": {},
   "outputs": [
    {
     "data": {
      "text/html": [
       "<div>\n",
       "<style scoped>\n",
       "    .dataframe tbody tr th:only-of-type {\n",
       "        vertical-align: middle;\n",
       "    }\n",
       "\n",
       "    .dataframe tbody tr th {\n",
       "        vertical-align: top;\n",
       "    }\n",
       "\n",
       "    .dataframe thead th {\n",
       "        text-align: right;\n",
       "    }\n",
       "</style>\n",
       "<table border=\"1\" class=\"dataframe\">\n",
       "  <thead>\n",
       "    <tr style=\"text-align: right;\">\n",
       "      <th></th>\n",
       "      <th>eastwind</th>\n",
       "      <th>northwind</th>\n",
       "      <th>eastcurrent</th>\n",
       "      <th>northcurrent</th>\n",
       "      <th>sog</th>\n",
       "      <th>cog</th>\n",
       "    </tr>\n",
       "  </thead>\n",
       "  <tbody>\n",
       "    <tr>\n",
       "      <th>0</th>\n",
       "      <td>2.267688</td>\n",
       "      <td>6.741482</td>\n",
       "      <td>0.113690</td>\n",
       "      <td>0.044994</td>\n",
       "      <td>0.0</td>\n",
       "      <td>358.9</td>\n",
       "    </tr>\n",
       "    <tr>\n",
       "      <th>1</th>\n",
       "      <td>1.782681</td>\n",
       "      <td>6.410275</td>\n",
       "      <td>0.113690</td>\n",
       "      <td>0.044994</td>\n",
       "      <td>0.0</td>\n",
       "      <td>358.9</td>\n",
       "    </tr>\n",
       "    <tr>\n",
       "      <th>2</th>\n",
       "      <td>1.154659</td>\n",
       "      <td>6.385135</td>\n",
       "      <td>0.083984</td>\n",
       "      <td>0.054000</td>\n",
       "      <td>0.0</td>\n",
       "      <td>358.9</td>\n",
       "    </tr>\n",
       "    <tr>\n",
       "      <th>3</th>\n",
       "      <td>0.348801</td>\n",
       "      <td>6.094659</td>\n",
       "      <td>0.083984</td>\n",
       "      <td>0.054000</td>\n",
       "      <td>0.0</td>\n",
       "      <td>358.9</td>\n",
       "    </tr>\n",
       "    <tr>\n",
       "      <th>4</th>\n",
       "      <td>-0.593128</td>\n",
       "      <td>6.153186</td>\n",
       "      <td>0.083984</td>\n",
       "      <td>0.054000</td>\n",
       "      <td>0.0</td>\n",
       "      <td>358.9</td>\n",
       "    </tr>\n",
       "  </tbody>\n",
       "</table>\n",
       "</div>"
      ],
      "text/plain": [
       "   eastwind  northwind  eastcurrent  northcurrent  sog    cog\n",
       "0  2.267688   6.741482     0.113690      0.044994  0.0  358.9\n",
       "1  1.782681   6.410275     0.113690      0.044994  0.0  358.9\n",
       "2  1.154659   6.385135     0.083984      0.054000  0.0  358.9\n",
       "3  0.348801   6.094659     0.083984      0.054000  0.0  358.9\n",
       "4 -0.593128   6.153186     0.083984      0.054000  0.0  358.9"
      ]
     },
     "execution_count": 6,
     "metadata": {},
     "output_type": "execute_result"
    }
   ],
   "source": [
    "dfpre = dfpre.drop(dfpre.columns[[0,1,2,5,6,7,8,9,10,11,12,13,14,15,16,17,18,21,22,23,26]],axis=1)\n",
    "dfpre = dfpre.rename({'Eastward wind': 'eastwind', 'Northward wind': 'northwind',\n",
    "                           'Eastward current': 'eastcurrent', 'Northward current': 'northcurrent',\n",
    "                           'SOG':'sog','COG':'cog','Heading':'heading'},axis=1) \n",
    "dfpre.head(n=5)"
   ]
  },
  {
   "cell_type": "code",
   "execution_count": 7,
   "metadata": {},
   "outputs": [
    {
     "data": {
      "text/html": [
       "<style>#sk-container-id-1 {color: black;background-color: white;}#sk-container-id-1 pre{padding: 0;}#sk-container-id-1 div.sk-toggleable {background-color: white;}#sk-container-id-1 label.sk-toggleable__label {cursor: pointer;display: block;width: 100%;margin-bottom: 0;padding: 0.3em;box-sizing: border-box;text-align: center;}#sk-container-id-1 label.sk-toggleable__label-arrow:before {content: \"▸\";float: left;margin-right: 0.25em;color: #696969;}#sk-container-id-1 label.sk-toggleable__label-arrow:hover:before {color: black;}#sk-container-id-1 div.sk-estimator:hover label.sk-toggleable__label-arrow:before {color: black;}#sk-container-id-1 div.sk-toggleable__content {max-height: 0;max-width: 0;overflow: hidden;text-align: left;background-color: #f0f8ff;}#sk-container-id-1 div.sk-toggleable__content pre {margin: 0.2em;color: black;border-radius: 0.25em;background-color: #f0f8ff;}#sk-container-id-1 input.sk-toggleable__control:checked~div.sk-toggleable__content {max-height: 200px;max-width: 100%;overflow: auto;}#sk-container-id-1 input.sk-toggleable__control:checked~label.sk-toggleable__label-arrow:before {content: \"▾\";}#sk-container-id-1 div.sk-estimator input.sk-toggleable__control:checked~label.sk-toggleable__label {background-color: #d4ebff;}#sk-container-id-1 div.sk-label input.sk-toggleable__control:checked~label.sk-toggleable__label {background-color: #d4ebff;}#sk-container-id-1 input.sk-hidden--visually {border: 0;clip: rect(1px 1px 1px 1px);clip: rect(1px, 1px, 1px, 1px);height: 1px;margin: -1px;overflow: hidden;padding: 0;position: absolute;width: 1px;}#sk-container-id-1 div.sk-estimator {font-family: monospace;background-color: #f0f8ff;border: 1px dotted black;border-radius: 0.25em;box-sizing: border-box;margin-bottom: 0.5em;}#sk-container-id-1 div.sk-estimator:hover {background-color: #d4ebff;}#sk-container-id-1 div.sk-parallel-item::after {content: \"\";width: 100%;border-bottom: 1px solid gray;flex-grow: 1;}#sk-container-id-1 div.sk-label:hover label.sk-toggleable__label {background-color: #d4ebff;}#sk-container-id-1 div.sk-serial::before {content: \"\";position: absolute;border-left: 1px solid gray;box-sizing: border-box;top: 0;bottom: 0;left: 50%;z-index: 0;}#sk-container-id-1 div.sk-serial {display: flex;flex-direction: column;align-items: center;background-color: white;padding-right: 0.2em;padding-left: 0.2em;position: relative;}#sk-container-id-1 div.sk-item {position: relative;z-index: 1;}#sk-container-id-1 div.sk-parallel {display: flex;align-items: stretch;justify-content: center;background-color: white;position: relative;}#sk-container-id-1 div.sk-item::before, #sk-container-id-1 div.sk-parallel-item::before {content: \"\";position: absolute;border-left: 1px solid gray;box-sizing: border-box;top: 0;bottom: 0;left: 50%;z-index: -1;}#sk-container-id-1 div.sk-parallel-item {display: flex;flex-direction: column;z-index: 1;position: relative;background-color: white;}#sk-container-id-1 div.sk-parallel-item:first-child::after {align-self: flex-end;width: 50%;}#sk-container-id-1 div.sk-parallel-item:last-child::after {align-self: flex-start;width: 50%;}#sk-container-id-1 div.sk-parallel-item:only-child::after {width: 0;}#sk-container-id-1 div.sk-dashed-wrapped {border: 1px dashed gray;margin: 0 0.4em 0.5em 0.4em;box-sizing: border-box;padding-bottom: 0.4em;background-color: white;}#sk-container-id-1 div.sk-label label {font-family: monospace;font-weight: bold;display: inline-block;line-height: 1.2em;}#sk-container-id-1 div.sk-label-container {text-align: center;}#sk-container-id-1 div.sk-container {/* jupyter's `normalize.less` sets `[hidden] { display: none; }` but bootstrap.min.css set `[hidden] { display: none !important; }` so we also need the `!important` here to be able to override the default hidden behavior on the sphinx rendered scikit-learn.org. See: https://github.com/scikit-learn/scikit-learn/issues/21755 */display: inline-block !important;position: relative;}#sk-container-id-1 div.sk-text-repr-fallback {display: none;}</style><div id=\"sk-container-id-1\" class=\"sk-top-container\"><div class=\"sk-text-repr-fallback\"><pre>KNNImputer(n_neighbors=50)</pre><b>In a Jupyter environment, please rerun this cell to show the HTML representation or trust the notebook. <br />On GitHub, the HTML representation is unable to render, please try loading this page with nbviewer.org.</b></div><div class=\"sk-container\" hidden><div class=\"sk-item\"><div class=\"sk-estimator sk-toggleable\"><input class=\"sk-toggleable__control sk-hidden--visually\" id=\"sk-estimator-id-1\" type=\"checkbox\" checked><label for=\"sk-estimator-id-1\" class=\"sk-toggleable__label sk-toggleable__label-arrow\">KNNImputer</label><div class=\"sk-toggleable__content\"><pre>KNNImputer(n_neighbors=50)</pre></div></div></div></div></div>"
      ],
      "text/plain": [
       "KNNImputer(n_neighbors=50)"
      ]
     },
     "execution_count": 7,
     "metadata": {},
     "output_type": "execute_result"
    }
   ],
   "source": [
    "from sklearn.impute import KNNImputer\n",
    "\n",
    "imputer = KNNImputer(n_neighbors=50)\n",
    "imputer.fit(dfpre)"
   ]
  },
  {
   "cell_type": "code",
   "execution_count": 8,
   "metadata": {},
   "outputs": [],
   "source": [
    "x_pre = imputer.transform(dfpre)"
   ]
  },
  {
   "cell_type": "code",
   "execution_count": 9,
   "metadata": {},
   "outputs": [],
   "source": [
    "dfpre = pd.DataFrame(x_pre, columns=dfpre.columns, index=dfpre.index)"
   ]
  },
  {
   "cell_type": "code",
   "execution_count": 10,
   "metadata": {},
   "outputs": [],
   "source": [
    "dfpre[\"Current Speed\"] = np.sqrt(dfpre[\"eastcurrent\"]**2 + dfpre[\"northcurrent\"]**2)\n",
    "dfpre[\"Wind Speed\"] = np.sqrt(dfpre[\"eastwind\"]**2 + dfpre[\"northwind\"]**2)"
   ]
  },
  {
   "cell_type": "code",
   "execution_count": 11,
   "metadata": {},
   "outputs": [
    {
     "data": {
      "text/html": [
       "<div>\n",
       "<style scoped>\n",
       "    .dataframe tbody tr th:only-of-type {\n",
       "        vertical-align: middle;\n",
       "    }\n",
       "\n",
       "    .dataframe tbody tr th {\n",
       "        vertical-align: top;\n",
       "    }\n",
       "\n",
       "    .dataframe thead th {\n",
       "        text-align: right;\n",
       "    }\n",
       "</style>\n",
       "<table border=\"1\" class=\"dataframe\">\n",
       "  <thead>\n",
       "    <tr style=\"text-align: right;\">\n",
       "      <th></th>\n",
       "      <th>eastwind</th>\n",
       "      <th>northwind</th>\n",
       "      <th>eastcurrent</th>\n",
       "      <th>northcurrent</th>\n",
       "      <th>sog</th>\n",
       "      <th>cog</th>\n",
       "      <th>Current Speed</th>\n",
       "      <th>Wind Speed</th>\n",
       "    </tr>\n",
       "  </thead>\n",
       "  <tbody>\n",
       "    <tr>\n",
       "      <th>count</th>\n",
       "      <td>7453.000000</td>\n",
       "      <td>7453.000000</td>\n",
       "      <td>7453.000000</td>\n",
       "      <td>7453.000000</td>\n",
       "      <td>7453.000000</td>\n",
       "      <td>7453.000000</td>\n",
       "      <td>7453.000000</td>\n",
       "      <td>7453.000000</td>\n",
       "    </tr>\n",
       "    <tr>\n",
       "      <th>mean</th>\n",
       "      <td>1.976344</td>\n",
       "      <td>0.379926</td>\n",
       "      <td>0.019228</td>\n",
       "      <td>0.004214</td>\n",
       "      <td>8.870751</td>\n",
       "      <td>242.699284</td>\n",
       "      <td>0.096788</td>\n",
       "      <td>6.513813</td>\n",
       "    </tr>\n",
       "    <tr>\n",
       "      <th>std</th>\n",
       "      <td>5.296850</td>\n",
       "      <td>4.429899</td>\n",
       "      <td>0.089903</td>\n",
       "      <td>0.074041</td>\n",
       "      <td>8.619512</td>\n",
       "      <td>108.555287</td>\n",
       "      <td>0.067697</td>\n",
       "      <td>3.048934</td>\n",
       "    </tr>\n",
       "    <tr>\n",
       "      <th>min</th>\n",
       "      <td>-15.216397</td>\n",
       "      <td>-12.824582</td>\n",
       "      <td>-0.491010</td>\n",
       "      <td>-0.404690</td>\n",
       "      <td>-0.009130</td>\n",
       "      <td>-0.134241</td>\n",
       "      <td>0.000735</td>\n",
       "      <td>0.193221</td>\n",
       "    </tr>\n",
       "    <tr>\n",
       "      <th>25%</th>\n",
       "      <td>-1.756650</td>\n",
       "      <td>-2.534061</td>\n",
       "      <td>-0.021486</td>\n",
       "      <td>-0.033055</td>\n",
       "      <td>0.000000</td>\n",
       "      <td>124.116508</td>\n",
       "      <td>0.047447</td>\n",
       "      <td>4.149883</td>\n",
       "    </tr>\n",
       "    <tr>\n",
       "      <th>50%</th>\n",
       "      <td>2.294543</td>\n",
       "      <td>0.385690</td>\n",
       "      <td>0.025485</td>\n",
       "      <td>0.003718</td>\n",
       "      <td>6.953578</td>\n",
       "      <td>283.216008</td>\n",
       "      <td>0.079148</td>\n",
       "      <td>6.285080</td>\n",
       "    </tr>\n",
       "    <tr>\n",
       "      <th>75%</th>\n",
       "      <td>5.838650</td>\n",
       "      <td>3.339456</td>\n",
       "      <td>0.062644</td>\n",
       "      <td>0.039626</td>\n",
       "      <td>18.014436</td>\n",
       "      <td>346.200000</td>\n",
       "      <td>0.128444</td>\n",
       "      <td>8.525129</td>\n",
       "    </tr>\n",
       "    <tr>\n",
       "      <th>max</th>\n",
       "      <td>16.338177</td>\n",
       "      <td>14.519458</td>\n",
       "      <td>0.522374</td>\n",
       "      <td>0.364966</td>\n",
       "      <td>21.070514</td>\n",
       "      <td>359.728115</td>\n",
       "      <td>0.525174</td>\n",
       "      <td>16.760001</td>\n",
       "    </tr>\n",
       "  </tbody>\n",
       "</table>\n",
       "</div>"
      ],
      "text/plain": [
       "          eastwind    northwind  eastcurrent  northcurrent          sog  \\\n",
       "count  7453.000000  7453.000000  7453.000000   7453.000000  7453.000000   \n",
       "mean      1.976344     0.379926     0.019228      0.004214     8.870751   \n",
       "std       5.296850     4.429899     0.089903      0.074041     8.619512   \n",
       "min     -15.216397   -12.824582    -0.491010     -0.404690    -0.009130   \n",
       "25%      -1.756650    -2.534061    -0.021486     -0.033055     0.000000   \n",
       "50%       2.294543     0.385690     0.025485      0.003718     6.953578   \n",
       "75%       5.838650     3.339456     0.062644      0.039626    18.014436   \n",
       "max      16.338177    14.519458     0.522374      0.364966    21.070514   \n",
       "\n",
       "               cog  Current Speed   Wind Speed  \n",
       "count  7453.000000    7453.000000  7453.000000  \n",
       "mean    242.699284       0.096788     6.513813  \n",
       "std     108.555287       0.067697     3.048934  \n",
       "min      -0.134241       0.000735     0.193221  \n",
       "25%     124.116508       0.047447     4.149883  \n",
       "50%     283.216008       0.079148     6.285080  \n",
       "75%     346.200000       0.128444     8.525129  \n",
       "max     359.728115       0.525174    16.760001  "
      ]
     },
     "execution_count": 11,
     "metadata": {},
     "output_type": "execute_result"
    }
   ],
   "source": [
    "dfpre.describe()"
   ]
  },
  {
   "cell_type": "code",
   "execution_count": 12,
   "metadata": {},
   "outputs": [],
   "source": [
    "# dfpre[\"True North Wind Direction\"] =  180 +  np.rad2deg(np.arctan((dfpre[\"eastwind\"])/(dfpre[\"northwind\"])))\n",
    "\n",
    "condwind = [(dfpre['eastwind']>0) & (dfpre['northwind']<0),\n",
    "            (dfpre['eastwind']<0) & (dfpre['northwind']>0),\n",
    "            (dfpre['eastwind']>0) & (dfpre['northwind']>0)]\n",
    "\n",
    "choicewind = [360 - np.abs(np.rad2deg(np.arctan(dfpre[\"eastwind\"]/dfpre[\"northwind\"]))),\n",
    "              180 - np.abs(np.rad2deg(np.arctan(dfpre[\"eastwind\"]/dfpre[\"northwind\"]))),\n",
    "              270 - np.abs(np.rad2deg(np.arctan(dfpre[\"eastwind\"]/dfpre[\"northwind\"])))]\n",
    "\n",
    "dfpre[\"True North Wind Direction\"] = np.select(condwind, choicewind, \n",
    "                                                np.abs(np.rad2deg(np.arctan(dfpre[\"eastwind\"]/dfpre[\"northwind\"]))))\n",
    "\n",
    "# dfpre[\"True North Wind Direction\"] = np.where(dfpre[\"True North Wind Direction\"] > 0, 180 + dfpre[\"True North Wind Direction\"] , 180 - dfpre[\"True North Wind Direction\"])\n",
    "\n",
    "# if dfpre[\"True North Wind Direction\"]<0:\n",
    "#     dfpre[\"True North Wind Direction\"] = 180 - dfpre[\"True North Wind Direction\"]\n",
    "# elif dfpre[\"True North Wind Direction\"]>0:\n",
    "#     dfpre[\"True North Wind Direction\"] = 180 - dfpre[\"True North Wind Direction\"]"
   ]
  },
  {
   "cell_type": "code",
   "execution_count": 13,
   "metadata": {},
   "outputs": [],
   "source": [
    "# dfpre[\"True North Current Direction\"] = np.rad2deg(np.arctan(dfpre[\"eastcurrent\"]/dfpre[\"northcurrent\"]))\n",
    "\n",
    "# dfpre[\"True North Current Direction\"] = np.rad2deg(np.arctan(dfpre[\"eastcurrent\"]/dfpre[\"northcurrent\"]))\n",
    "\n",
    "\n",
    "# \n",
    "condcurr = [(dfpre['eastcurrent']<0) & (dfpre['northcurrent']>0),\n",
    "            (dfpre['eastcurrent']>0) & (dfpre['northcurrent']<0),\n",
    "            (dfpre['eastcurrent']<0) & (dfpre['northcurrent']<0)]\n",
    "\n",
    "choicecurr = [360 - np.abs(np.rad2deg(np.arctan(dfpre[\"eastcurrent\"]/dfpre[\"northcurrent\"]))),\n",
    "              180 - np.abs(np.rad2deg(np.arctan(dfpre[\"eastcurrent\"]/dfpre[\"northcurrent\"]))),\n",
    "              270 - np.abs(np.rad2deg(np.arctan(dfpre[\"eastcurrent\"]/dfpre[\"northcurrent\"])))]\n",
    "\n",
    "dfpre[\"True North Current Direction\"] = np.select(condcurr, choicecurr, \n",
    "                                                np.abs(np.rad2deg(np.arctan(dfpre[\"eastcurrent\"]/dfpre[\"northcurrent\"]))))"
   ]
  },
  {
   "cell_type": "code",
   "execution_count": 14,
   "metadata": {},
   "outputs": [],
   "source": [
    "dfpre = dfpre.drop(['eastwind','northwind','eastcurrent','northcurrent','sog','cog'],axis=1)"
   ]
  },
  {
   "cell_type": "code",
   "execution_count": 15,
   "metadata": {},
   "outputs": [
    {
     "data": {
      "text/html": [
       "<div>\n",
       "<style scoped>\n",
       "    .dataframe tbody tr th:only-of-type {\n",
       "        vertical-align: middle;\n",
       "    }\n",
       "\n",
       "    .dataframe tbody tr th {\n",
       "        vertical-align: top;\n",
       "    }\n",
       "\n",
       "    .dataframe thead th {\n",
       "        text-align: right;\n",
       "    }\n",
       "</style>\n",
       "<table border=\"1\" class=\"dataframe\">\n",
       "  <thead>\n",
       "    <tr style=\"text-align: right;\">\n",
       "      <th></th>\n",
       "      <th>Unnamed: 0</th>\n",
       "      <th>Time</th>\n",
       "      <th>LON</th>\n",
       "      <th>LAT</th>\n",
       "      <th>Temperature above oceans</th>\n",
       "      <th>Air density above oceans</th>\n",
       "      <th>Max wave height</th>\n",
       "      <th>Swell period</th>\n",
       "      <th>Wind wave period</th>\n",
       "      <th>Wave period</th>\n",
       "      <th>...</th>\n",
       "      <th>Heading</th>\n",
       "      <th>True Wind Direction</th>\n",
       "      <th>True Current Direction</th>\n",
       "      <th>True Swell Direction</th>\n",
       "      <th>True Wind Wave Direction</th>\n",
       "      <th>True Wave Direction</th>\n",
       "      <th>Current Speed</th>\n",
       "      <th>Wind Speed</th>\n",
       "      <th>True North Wind Direction</th>\n",
       "      <th>True North Current Direction</th>\n",
       "    </tr>\n",
       "  </thead>\n",
       "  <tbody>\n",
       "    <tr>\n",
       "      <th>0</th>\n",
       "      <td>0</td>\n",
       "      <td>2021-01-01 00:00:00</td>\n",
       "      <td>14.689663</td>\n",
       "      <td>55.098452</td>\n",
       "      <td>277.311035</td>\n",
       "      <td>1.259323</td>\n",
       "      <td>1.893614</td>\n",
       "      <td>4.818881</td>\n",
       "      <td>3.818459</td>\n",
       "      <td>4.154329</td>\n",
       "      <td>...</td>\n",
       "      <td>174.0</td>\n",
       "      <td>155.408180</td>\n",
       "      <td>105.591753</td>\n",
       "      <td>22.854050</td>\n",
       "      <td>22.749664</td>\n",
       "      <td>22.610062</td>\n",
       "      <td>0.122270</td>\n",
       "      <td>7.112664</td>\n",
       "      <td>251.408180</td>\n",
       "      <td>68.408246</td>\n",
       "    </tr>\n",
       "    <tr>\n",
       "      <th>1</th>\n",
       "      <td>1</td>\n",
       "      <td>2021-01-01 01:00:00</td>\n",
       "      <td>14.689659</td>\n",
       "      <td>55.098451</td>\n",
       "      <td>277.328369</td>\n",
       "      <td>1.259985</td>\n",
       "      <td>1.752303</td>\n",
       "      <td>4.755800</td>\n",
       "      <td>3.470216</td>\n",
       "      <td>4.130580</td>\n",
       "      <td>...</td>\n",
       "      <td>174.0</td>\n",
       "      <td>158.458891</td>\n",
       "      <td>105.591753</td>\n",
       "      <td>26.122772</td>\n",
       "      <td>19.152008</td>\n",
       "      <td>22.209274</td>\n",
       "      <td>0.122270</td>\n",
       "      <td>6.653538</td>\n",
       "      <td>254.458891</td>\n",
       "      <td>68.408246</td>\n",
       "    </tr>\n",
       "    <tr>\n",
       "      <th>2</th>\n",
       "      <td>2</td>\n",
       "      <td>2021-01-01 02:00:00</td>\n",
       "      <td>14.689648</td>\n",
       "      <td>55.098468</td>\n",
       "      <td>277.390625</td>\n",
       "      <td>1.260244</td>\n",
       "      <td>1.619775</td>\n",
       "      <td>4.645083</td>\n",
       "      <td>3.259682</td>\n",
       "      <td>4.083755</td>\n",
       "      <td>...</td>\n",
       "      <td>174.0</td>\n",
       "      <td>163.749663</td>\n",
       "      <td>116.740448</td>\n",
       "      <td>28.498383</td>\n",
       "      <td>12.424912</td>\n",
       "      <td>20.857971</td>\n",
       "      <td>0.099846</td>\n",
       "      <td>6.488697</td>\n",
       "      <td>259.749663</td>\n",
       "      <td>57.259552</td>\n",
       "    </tr>\n",
       "    <tr>\n",
       "      <th>3</th>\n",
       "      <td>3</td>\n",
       "      <td>2021-01-01 03:00:00</td>\n",
       "      <td>14.689646</td>\n",
       "      <td>55.098471</td>\n",
       "      <td>277.411377</td>\n",
       "      <td>1.260148</td>\n",
       "      <td>1.518736</td>\n",
       "      <td>4.588384</td>\n",
       "      <td>3.177906</td>\n",
       "      <td>4.010502</td>\n",
       "      <td>...</td>\n",
       "      <td>174.0</td>\n",
       "      <td>170.724504</td>\n",
       "      <td>116.740448</td>\n",
       "      <td>29.956985</td>\n",
       "      <td>6.725922</td>\n",
       "      <td>18.732071</td>\n",
       "      <td>0.099846</td>\n",
       "      <td>6.104632</td>\n",
       "      <td>266.724504</td>\n",
       "      <td>57.259552</td>\n",
       "    </tr>\n",
       "    <tr>\n",
       "      <th>4</th>\n",
       "      <td>4</td>\n",
       "      <td>2021-01-01 04:00:00</td>\n",
       "      <td>14.689644</td>\n",
       "      <td>55.098462</td>\n",
       "      <td>277.430664</td>\n",
       "      <td>1.260634</td>\n",
       "      <td>1.455034</td>\n",
       "      <td>4.528841</td>\n",
       "      <td>3.281654</td>\n",
       "      <td>3.913362</td>\n",
       "      <td>...</td>\n",
       "      <td>174.0</td>\n",
       "      <td>179.505940</td>\n",
       "      <td>116.740448</td>\n",
       "      <td>34.486298</td>\n",
       "      <td>3.761627</td>\n",
       "      <td>15.731430</td>\n",
       "      <td>0.099846</td>\n",
       "      <td>6.181707</td>\n",
       "      <td>174.494060</td>\n",
       "      <td>57.259552</td>\n",
       "    </tr>\n",
       "  </tbody>\n",
       "</table>\n",
       "<p>5 rows × 30 columns</p>\n",
       "</div>"
      ],
      "text/plain": [
       "   Unnamed: 0                Time        LON        LAT  \\\n",
       "0           0 2021-01-01 00:00:00  14.689663  55.098452   \n",
       "1           1 2021-01-01 01:00:00  14.689659  55.098451   \n",
       "2           2 2021-01-01 02:00:00  14.689648  55.098468   \n",
       "3           3 2021-01-01 03:00:00  14.689646  55.098471   \n",
       "4           4 2021-01-01 04:00:00  14.689644  55.098462   \n",
       "\n",
       "   Temperature above oceans  Air density above oceans  Max wave height  \\\n",
       "0                277.311035                  1.259323         1.893614   \n",
       "1                277.328369                  1.259985         1.752303   \n",
       "2                277.390625                  1.260244         1.619775   \n",
       "3                277.411377                  1.260148         1.518736   \n",
       "4                277.430664                  1.260634         1.455034   \n",
       "\n",
       "   Swell period  Wind wave period  Wave period  ...  Heading  \\\n",
       "0      4.818881          3.818459     4.154329  ...    174.0   \n",
       "1      4.755800          3.470216     4.130580  ...    174.0   \n",
       "2      4.645083          3.259682     4.083755  ...    174.0   \n",
       "3      4.588384          3.177906     4.010502  ...    174.0   \n",
       "4      4.528841          3.281654     3.913362  ...    174.0   \n",
       "\n",
       "   True Wind Direction  True Current Direction  True Swell Direction  \\\n",
       "0           155.408180              105.591753             22.854050   \n",
       "1           158.458891              105.591753             26.122772   \n",
       "2           163.749663              116.740448             28.498383   \n",
       "3           170.724504              116.740448             29.956985   \n",
       "4           179.505940              116.740448             34.486298   \n",
       "\n",
       "   True Wind Wave Direction  True Wave Direction  Current Speed  Wind Speed  \\\n",
       "0                 22.749664            22.610062       0.122270    7.112664   \n",
       "1                 19.152008            22.209274       0.122270    6.653538   \n",
       "2                 12.424912            20.857971       0.099846    6.488697   \n",
       "3                  6.725922            18.732071       0.099846    6.104632   \n",
       "4                  3.761627            15.731430       0.099846    6.181707   \n",
       "\n",
       "   True North Wind Direction  True North Current Direction  \n",
       "0                 251.408180                     68.408246  \n",
       "1                 254.458891                     68.408246  \n",
       "2                 259.749663                     57.259552  \n",
       "3                 266.724504                     57.259552  \n",
       "4                 174.494060                     57.259552  \n",
       "\n",
       "[5 rows x 30 columns]"
      ]
     },
     "execution_count": 15,
     "metadata": {},
     "output_type": "execute_result"
    }
   ],
   "source": [
    "df = pd.concat([dfmain,dfpre],axis=1)\n",
    "df.head()"
   ]
  },
  {
   "cell_type": "code",
   "execution_count": 16,
   "metadata": {},
   "outputs": [],
   "source": [
    "# SOG threshold according to Abebe\n",
    "df = df[df['SOG'] > 5 ]"
   ]
  },
  {
   "cell_type": "code",
   "execution_count": 17,
   "metadata": {},
   "outputs": [],
   "source": [
    "# Exclude data for the month of June to check the model's forecasting performance \n",
    "\n",
    "dfdate6 = df[df['Time'].dt.strftime('%Y-%m') == '2021-06']\n",
    "df = df[df['Time'].dt.strftime('%Y-%m') != '2021-06']\n",
    "\n",
    "# Extract information of a journey from a single day\n",
    "\n",
    "koege_dep = df[df['Time'].dt.strftime('%Y-%m-%d %H:%M:%S') == '2021-05-31 23:00:00']\n",
    "koege_arr = dfdate6[dfdate6['Time'].dt.strftime('%Y-%m-%d') == '2021-06-01']\n",
    "\n",
    "# Drop the departure time for next trip\n",
    "\n",
    "koege_arr2 = koege_arr.drop(koege_arr.index[14])\n",
    "\n",
    "# To gain information for a single trip from Koege to Ronne\n",
    "\n",
    "ronne_arr = koege_arr.drop(koege_arr.index[4:15])\n",
    "\n",
    "dfday6 = pd.concat([koege_dep,koege_arr2])\n",
    "dfone6 = pd.concat([koege_dep,ronne_arr])\n",
    "\n",
    "# # For Qgis Single Journey\n",
    "# dfday6.to_csv(\"AIS_01_06_21_koegeronne.csv\")"
   ]
  },
  {
   "cell_type": "code",
   "execution_count": 18,
   "metadata": {},
   "outputs": [
    {
     "name": "stdout",
     "output_type": "stream",
     "text": [
      "<class 'pandas.core.frame.DataFrame'>\n",
      "Int64Index: 3506 entries, 8 to 7976\n",
      "Data columns (total 30 columns):\n",
      " #   Column                                Non-Null Count  Dtype         \n",
      "---  ------                                --------------  -----         \n",
      " 0   Unnamed: 0                            3506 non-null   int64         \n",
      " 1   Time                                  3506 non-null   datetime64[ns]\n",
      " 2   LON                                   3506 non-null   float64       \n",
      " 3   LAT                                   3506 non-null   float64       \n",
      " 4   Temperature above oceans              3506 non-null   float64       \n",
      " 5   Air density above oceans              3405 non-null   float64       \n",
      " 6   Max wave height                       3152 non-null   float64       \n",
      " 7   Swell period                          3152 non-null   float64       \n",
      " 8   Wind wave period                      3152 non-null   float64       \n",
      " 9   Wave period                           3152 non-null   float64       \n",
      " 10  Sea surface temperature               3391 non-null   float64       \n",
      " 11  Combined wind waves and swell height  3152 non-null   float64       \n",
      " 12  Swell height                          3152 non-null   float64       \n",
      " 13  Wind wave height                      3152 non-null   float64       \n",
      " 14  Surface pressure                      3506 non-null   float64       \n",
      " 15  Draught                               3506 non-null   float64       \n",
      " 16  Width                                 3506 non-null   int64         \n",
      " 17  Length                                3506 non-null   int64         \n",
      " 18  SOG                                   3506 non-null   float64       \n",
      " 19  COG                                   3506 non-null   float64       \n",
      " 20  Heading                               3506 non-null   float64       \n",
      " 21  True Wind Direction                   3506 non-null   float64       \n",
      " 22  True Current Direction                3506 non-null   float64       \n",
      " 23  True Swell Direction                  3152 non-null   float64       \n",
      " 24  True Wind Wave Direction              3152 non-null   float64       \n",
      " 25  True Wave Direction                   3152 non-null   float64       \n",
      " 26  Current Speed                         3506 non-null   float64       \n",
      " 27  Wind Speed                            3506 non-null   float64       \n",
      " 28  True North Wind Direction             3506 non-null   float64       \n",
      " 29  True North Current Direction          3506 non-null   float64       \n",
      "dtypes: datetime64[ns](1), float64(26), int64(3)\n",
      "memory usage: 849.1 KB\n"
     ]
    }
   ],
   "source": [
    "df.info()"
   ]
  },
  {
   "attachments": {},
   "cell_type": "markdown",
   "metadata": {},
   "source": [
    "Add test data for 3 months into validation data"
   ]
  },
  {
   "cell_type": "code",
   "execution_count": 19,
   "metadata": {},
   "outputs": [],
   "source": [
    "# Data Splitting\n",
    "\n",
    "from sklearn.model_selection import train_test_split\n",
    "\n",
    "# Dropping some feature can be done here to (possibly) increase the model's performance \n",
    "x_train,x_test,y_train,y_test = train_test_split(df.drop(['SOG']\n",
    "                                                                 ,axis=1)\n",
    "                                                                ,df.SOG,test_size=0.2,random_state=42)"
   ]
  },
  {
   "cell_type": "code",
   "execution_count": 20,
   "metadata": {},
   "outputs": [],
   "source": [
    "df_test = pd.concat([x_test,y_test],axis=1)"
   ]
  },
  {
   "cell_type": "code",
   "execution_count": 21,
   "metadata": {},
   "outputs": [],
   "source": [
    "# Extract three months of data from the test datasets\n",
    "\n",
    "# Test with more data\n",
    "dfdate1 = df_test[df_test['Time'].dt.strftime('%Y-%m') == '2021-01']\n",
    "dfdate2 = df_test[df_test['Time'].dt.strftime('%Y-%m') == '2021-02']\n",
    "dfdate3 = df_test[df_test['Time'].dt.strftime('%Y-%m') == '2021-03']\n",
    "dfdate4 = df_test[df_test['Time'].dt.strftime('%Y-%m') == '2021-04']\n",
    "dfdate5 = df_test[df_test['Time'].dt.strftime('%Y-%m') == '2021-05']\n",
    "# ##########################################################################\n",
    "\n",
    "dfdate7 = df_test[df_test['Time'].dt.strftime('%Y-%m') == '2021-07']\n",
    "dfdate8 = df_test[df_test['Time'].dt.strftime('%Y-%m') == '2021-08']\n",
    "dfdate9 = df_test[df_test['Time'].dt.strftime('%Y-%m') == '2021-09']\n",
    "dfdate10 = df_test[df_test['Time'].dt.strftime('%Y-%m') == '2021-10']\n",
    "dfdate11 = df_test[df_test['Time'].dt.strftime('%Y-%m') == '2021-11']\n",
    "dfdate12 = df_test[df_test['Time'].dt.strftime('%Y-%m') == '2021-12']\n",
    "\n",
    "\n",
    "\n",
    "# Concatenate 6 months data into df_ship\n",
    "\n",
    "# df_months6 = pd.concat([dfdate7,dfdate8,dfdate9,dfdate10,dfdate11,dfdate12])\n",
    "\n",
    "# Test section with more data \n",
    "\n",
    "df_months6 = pd.concat([dfdate1,dfdate2,dfdate3,dfdate4,dfdate5,dfdate7,dfdate8,dfdate9,dfdate10,dfdate11,dfdate12])\n",
    "\n"
   ]
  },
  {
   "cell_type": "code",
   "execution_count": 22,
   "metadata": {},
   "outputs": [
    {
     "data": {
      "text/html": [
       "<div>\n",
       "<style scoped>\n",
       "    .dataframe tbody tr th:only-of-type {\n",
       "        vertical-align: middle;\n",
       "    }\n",
       "\n",
       "    .dataframe tbody tr th {\n",
       "        vertical-align: top;\n",
       "    }\n",
       "\n",
       "    .dataframe thead th {\n",
       "        text-align: right;\n",
       "    }\n",
       "</style>\n",
       "<table border=\"1\" class=\"dataframe\">\n",
       "  <thead>\n",
       "    <tr style=\"text-align: right;\">\n",
       "      <th></th>\n",
       "      <th>Temperature above oceans</th>\n",
       "      <th>Max wave height</th>\n",
       "      <th>Swell period</th>\n",
       "      <th>Wind wave period</th>\n",
       "      <th>Wave period</th>\n",
       "      <th>Sea surface temperature</th>\n",
       "      <th>Combined wind waves and swell height</th>\n",
       "      <th>Swell height</th>\n",
       "      <th>Wind wave height</th>\n",
       "      <th>Draught</th>\n",
       "      <th>...</th>\n",
       "      <th>True Wind Direction</th>\n",
       "      <th>True Current Direction</th>\n",
       "      <th>True Swell Direction</th>\n",
       "      <th>True Wind Wave Direction</th>\n",
       "      <th>True Wave Direction</th>\n",
       "      <th>Current Speed</th>\n",
       "      <th>Wind Speed</th>\n",
       "      <th>True North Wind Direction</th>\n",
       "      <th>True North Current Direction</th>\n",
       "      <th>SOG</th>\n",
       "    </tr>\n",
       "  </thead>\n",
       "  <tbody>\n",
       "    <tr>\n",
       "      <th>702</th>\n",
       "      <td>273.350830</td>\n",
       "      <td>1.639553</td>\n",
       "      <td>5.229636</td>\n",
       "      <td>3.234901</td>\n",
       "      <td>4.094504</td>\n",
       "      <td>277.717895</td>\n",
       "      <td>0.854533</td>\n",
       "      <td>0.560547</td>\n",
       "      <td>0.642914</td>\n",
       "      <td>4.834130</td>\n",
       "      <td>...</td>\n",
       "      <td>167.639484</td>\n",
       "      <td>106.755485</td>\n",
       "      <td>100.890698</td>\n",
       "      <td>23.424774</td>\n",
       "      <td>57.035614</td>\n",
       "      <td>0.105747</td>\n",
       "      <td>7.899833</td>\n",
       "      <td>296.750531</td>\n",
       "      <td>177.634530</td>\n",
       "      <td>17.796529</td>\n",
       "    </tr>\n",
       "    <tr>\n",
       "      <th>425</th>\n",
       "      <td>277.373535</td>\n",
       "      <td>1.363195</td>\n",
       "      <td>4.333393</td>\n",
       "      <td>2.725380</td>\n",
       "      <td>3.808491</td>\n",
       "      <td>278.187500</td>\n",
       "      <td>0.717416</td>\n",
       "      <td>0.493626</td>\n",
       "      <td>0.452545</td>\n",
       "      <td>5.385540</td>\n",
       "      <td>...</td>\n",
       "      <td>6.853836</td>\n",
       "      <td>57.056116</td>\n",
       "      <td>81.702482</td>\n",
       "      <td>162.263868</td>\n",
       "      <td>121.675917</td>\n",
       "      <td>0.068111</td>\n",
       "      <td>6.477506</td>\n",
       "      <td>271.208773</td>\n",
       "      <td>155.118725</td>\n",
       "      <td>18.973217</td>\n",
       "    </tr>\n",
       "    <tr>\n",
       "      <th>7305</th>\n",
       "      <td>275.485107</td>\n",
       "      <td>1.207072</td>\n",
       "      <td>5.079647</td>\n",
       "      <td>2.175282</td>\n",
       "      <td>5.028988</td>\n",
       "      <td>281.692139</td>\n",
       "      <td>0.642756</td>\n",
       "      <td>0.637711</td>\n",
       "      <td>0.065796</td>\n",
       "      <td>5.470698</td>\n",
       "      <td>...</td>\n",
       "      <td>63.460148</td>\n",
       "      <td>151.271969</td>\n",
       "      <td>50.719773</td>\n",
       "      <td>118.366245</td>\n",
       "      <td>50.614403</td>\n",
       "      <td>0.208269</td>\n",
       "      <td>2.273218</td>\n",
       "      <td>235.776237</td>\n",
       "      <td>201.044120</td>\n",
       "      <td>18.584076</td>\n",
       "    </tr>\n",
       "    <tr>\n",
       "      <th>302</th>\n",
       "      <td>274.433594</td>\n",
       "      <td>2.649884</td>\n",
       "      <td>4.345334</td>\n",
       "      <td>4.285193</td>\n",
       "      <td>4.287695</td>\n",
       "      <td>277.633911</td>\n",
       "      <td>1.368544</td>\n",
       "      <td>0.258740</td>\n",
       "      <td>1.343628</td>\n",
       "      <td>5.289444</td>\n",
       "      <td>...</td>\n",
       "      <td>81.400359</td>\n",
       "      <td>144.552992</td>\n",
       "      <td>45.264404</td>\n",
       "      <td>96.999874</td>\n",
       "      <td>96.106695</td>\n",
       "      <td>0.256832</td>\n",
       "      <td>10.366420</td>\n",
       "      <td>20.462256</td>\n",
       "      <td>186.385110</td>\n",
       "      <td>17.367918</td>\n",
       "    </tr>\n",
       "    <tr>\n",
       "      <th>615</th>\n",
       "      <td>275.730713</td>\n",
       "      <td>1.330918</td>\n",
       "      <td>3.942446</td>\n",
       "      <td>3.345863</td>\n",
       "      <td>3.439272</td>\n",
       "      <td>277.380493</td>\n",
       "      <td>0.703928</td>\n",
       "      <td>0.279053</td>\n",
       "      <td>0.645996</td>\n",
       "      <td>5.379842</td>\n",
       "      <td>...</td>\n",
       "      <td>5.408478</td>\n",
       "      <td>34.711324</td>\n",
       "      <td>122.409087</td>\n",
       "      <td>171.729094</td>\n",
       "      <td>165.529997</td>\n",
       "      <td>0.028694</td>\n",
       "      <td>6.797408</td>\n",
       "      <td>286.243468</td>\n",
       "      <td>66.123666</td>\n",
       "      <td>18.056660</td>\n",
       "    </tr>\n",
       "  </tbody>\n",
       "</table>\n",
       "<p>5 rows × 22 columns</p>\n",
       "</div>"
      ],
      "text/plain": [
       "      Temperature above oceans  Max wave height  Swell period  \\\n",
       "702                 273.350830         1.639553      5.229636   \n",
       "425                 277.373535         1.363195      4.333393   \n",
       "7305                275.485107         1.207072      5.079647   \n",
       "302                 274.433594         2.649884      4.345334   \n",
       "615                 275.730713         1.330918      3.942446   \n",
       "\n",
       "      Wind wave period  Wave period  Sea surface temperature  \\\n",
       "702           3.234901     4.094504               277.717895   \n",
       "425           2.725380     3.808491               278.187500   \n",
       "7305          2.175282     5.028988               281.692139   \n",
       "302           4.285193     4.287695               277.633911   \n",
       "615           3.345863     3.439272               277.380493   \n",
       "\n",
       "      Combined wind waves and swell height  Swell height  Wind wave height  \\\n",
       "702                               0.854533      0.560547          0.642914   \n",
       "425                               0.717416      0.493626          0.452545   \n",
       "7305                              0.642756      0.637711          0.065796   \n",
       "302                               1.368544      0.258740          1.343628   \n",
       "615                               0.703928      0.279053          0.645996   \n",
       "\n",
       "       Draught  ...  True Wind Direction  True Current Direction  \\\n",
       "702   4.834130  ...           167.639484              106.755485   \n",
       "425   5.385540  ...             6.853836               57.056116   \n",
       "7305  5.470698  ...            63.460148              151.271969   \n",
       "302   5.289444  ...            81.400359              144.552992   \n",
       "615   5.379842  ...             5.408478               34.711324   \n",
       "\n",
       "      True Swell Direction  True Wind Wave Direction  True Wave Direction  \\\n",
       "702             100.890698                 23.424774            57.035614   \n",
       "425              81.702482                162.263868           121.675917   \n",
       "7305             50.719773                118.366245            50.614403   \n",
       "302              45.264404                 96.999874            96.106695   \n",
       "615             122.409087                171.729094           165.529997   \n",
       "\n",
       "      Current Speed  Wind Speed  True North Wind Direction  \\\n",
       "702        0.105747    7.899833                 296.750531   \n",
       "425        0.068111    6.477506                 271.208773   \n",
       "7305       0.208269    2.273218                 235.776237   \n",
       "302        0.256832   10.366420                  20.462256   \n",
       "615        0.028694    6.797408                 286.243468   \n",
       "\n",
       "      True North Current Direction        SOG  \n",
       "702                     177.634530  17.796529  \n",
       "425                     155.118725  18.973217  \n",
       "7305                    201.044120  18.584076  \n",
       "302                     186.385110  17.367918  \n",
       "615                      66.123666  18.056660  \n",
       "\n",
       "[5 rows x 22 columns]"
      ]
     },
     "execution_count": 22,
     "metadata": {},
     "output_type": "execute_result"
    }
   ],
   "source": [
    "df_ship = df_months6.drop(['Unnamed: 0','LON','LAT','Time','Air density above oceans',\n",
    "                    'Surface pressure','Width','Length'],axis=1)\n",
    "df_ship.head(n=5)"
   ]
  },
  {
   "cell_type": "code",
   "execution_count": 23,
   "metadata": {},
   "outputs": [],
   "source": [
    "df_ship2 = df_ship.rename({'Max wave height': 'waveheight', 'Draught': 'draught',\n",
    "                           'SOG': 'sog', 'Wind Speed': 'windspeed', \n",
    "                           'True Wind Direction': 'truewinddir','Temperature above oceans' : 'oceantemperature',\n",
    "                           'COG': 'cog', 'Current Speed' : 'curspeed','True Wave Direction' : 'truewavedir',\n",
    "                            'Swell period': 'swellperiod','Wind wave period': 'windwaveperiod','Sea surface temperature': 'surftemp',\n",
    "                            'Combined wind waves and swell height': 'windwaveswellheight','Swell height': 'swellheight','Wind wave height': 'windwaveheight',\n",
    "                            'Heading': 'heading','True Current Direction': 'truecurrentdir','True Swell Direction': 'trueswelldir',\n",
    "                            'True Wind Wave Direction': 'truewindwavedir','Wave period': 'waveperiod',\n",
    "                            'True North Wind Direction' : 'truenorthwinddir' , 'True North Current Direction' : 'truenorthcurrentdir'\n",
    "                           }, axis=1) "
   ]
  },
  {
   "cell_type": "code",
   "execution_count": 24,
   "metadata": {},
   "outputs": [],
   "source": [
    "df_ship2 = df_ship2[['oceantemperature','waveheight','swellperiod','windwaveperiod','waveperiod','surftemp','windwaveswellheight','swellheight','windwaveheight','draught','sog','cog','heading','windspeed','curspeed','truewinddir','truecurrentdir','trueswelldir','truewindwavedir','truewavedir', 'truenorthwinddir' , 'truenorthcurrentdir']]"
   ]
  },
  {
   "cell_type": "code",
   "execution_count": 25,
   "metadata": {},
   "outputs": [],
   "source": [
    "df_ship2 = df_ship2.drop(['waveheight','swellheight','windwaveheight',\n",
    "                        'windwaveperiod','swellperiod',\n",
    "                        'truewindwavedir','trueswelldir',\n",
    "                        'truenorthcurrentdir','truenorthwinddir'],axis=1)"
   ]
  },
  {
   "cell_type": "code",
   "execution_count": 26,
   "metadata": {},
   "outputs": [
    {
     "data": {
      "text/html": [
       "<style>#sk-container-id-2 {color: black;background-color: white;}#sk-container-id-2 pre{padding: 0;}#sk-container-id-2 div.sk-toggleable {background-color: white;}#sk-container-id-2 label.sk-toggleable__label {cursor: pointer;display: block;width: 100%;margin-bottom: 0;padding: 0.3em;box-sizing: border-box;text-align: center;}#sk-container-id-2 label.sk-toggleable__label-arrow:before {content: \"▸\";float: left;margin-right: 0.25em;color: #696969;}#sk-container-id-2 label.sk-toggleable__label-arrow:hover:before {color: black;}#sk-container-id-2 div.sk-estimator:hover label.sk-toggleable__label-arrow:before {color: black;}#sk-container-id-2 div.sk-toggleable__content {max-height: 0;max-width: 0;overflow: hidden;text-align: left;background-color: #f0f8ff;}#sk-container-id-2 div.sk-toggleable__content pre {margin: 0.2em;color: black;border-radius: 0.25em;background-color: #f0f8ff;}#sk-container-id-2 input.sk-toggleable__control:checked~div.sk-toggleable__content {max-height: 200px;max-width: 100%;overflow: auto;}#sk-container-id-2 input.sk-toggleable__control:checked~label.sk-toggleable__label-arrow:before {content: \"▾\";}#sk-container-id-2 div.sk-estimator input.sk-toggleable__control:checked~label.sk-toggleable__label {background-color: #d4ebff;}#sk-container-id-2 div.sk-label input.sk-toggleable__control:checked~label.sk-toggleable__label {background-color: #d4ebff;}#sk-container-id-2 input.sk-hidden--visually {border: 0;clip: rect(1px 1px 1px 1px);clip: rect(1px, 1px, 1px, 1px);height: 1px;margin: -1px;overflow: hidden;padding: 0;position: absolute;width: 1px;}#sk-container-id-2 div.sk-estimator {font-family: monospace;background-color: #f0f8ff;border: 1px dotted black;border-radius: 0.25em;box-sizing: border-box;margin-bottom: 0.5em;}#sk-container-id-2 div.sk-estimator:hover {background-color: #d4ebff;}#sk-container-id-2 div.sk-parallel-item::after {content: \"\";width: 100%;border-bottom: 1px solid gray;flex-grow: 1;}#sk-container-id-2 div.sk-label:hover label.sk-toggleable__label {background-color: #d4ebff;}#sk-container-id-2 div.sk-serial::before {content: \"\";position: absolute;border-left: 1px solid gray;box-sizing: border-box;top: 0;bottom: 0;left: 50%;z-index: 0;}#sk-container-id-2 div.sk-serial {display: flex;flex-direction: column;align-items: center;background-color: white;padding-right: 0.2em;padding-left: 0.2em;position: relative;}#sk-container-id-2 div.sk-item {position: relative;z-index: 1;}#sk-container-id-2 div.sk-parallel {display: flex;align-items: stretch;justify-content: center;background-color: white;position: relative;}#sk-container-id-2 div.sk-item::before, #sk-container-id-2 div.sk-parallel-item::before {content: \"\";position: absolute;border-left: 1px solid gray;box-sizing: border-box;top: 0;bottom: 0;left: 50%;z-index: -1;}#sk-container-id-2 div.sk-parallel-item {display: flex;flex-direction: column;z-index: 1;position: relative;background-color: white;}#sk-container-id-2 div.sk-parallel-item:first-child::after {align-self: flex-end;width: 50%;}#sk-container-id-2 div.sk-parallel-item:last-child::after {align-self: flex-start;width: 50%;}#sk-container-id-2 div.sk-parallel-item:only-child::after {width: 0;}#sk-container-id-2 div.sk-dashed-wrapped {border: 1px dashed gray;margin: 0 0.4em 0.5em 0.4em;box-sizing: border-box;padding-bottom: 0.4em;background-color: white;}#sk-container-id-2 div.sk-label label {font-family: monospace;font-weight: bold;display: inline-block;line-height: 1.2em;}#sk-container-id-2 div.sk-label-container {text-align: center;}#sk-container-id-2 div.sk-container {/* jupyter's `normalize.less` sets `[hidden] { display: none; }` but bootstrap.min.css set `[hidden] { display: none !important; }` so we also need the `!important` here to be able to override the default hidden behavior on the sphinx rendered scikit-learn.org. See: https://github.com/scikit-learn/scikit-learn/issues/21755 */display: inline-block !important;position: relative;}#sk-container-id-2 div.sk-text-repr-fallback {display: none;}</style><div id=\"sk-container-id-2\" class=\"sk-top-container\"><div class=\"sk-text-repr-fallback\"><pre>KNNImputer(n_neighbors=50)</pre><b>In a Jupyter environment, please rerun this cell to show the HTML representation or trust the notebook. <br />On GitHub, the HTML representation is unable to render, please try loading this page with nbviewer.org.</b></div><div class=\"sk-container\" hidden><div class=\"sk-item\"><div class=\"sk-estimator sk-toggleable\"><input class=\"sk-toggleable__control sk-hidden--visually\" id=\"sk-estimator-id-2\" type=\"checkbox\" checked><label for=\"sk-estimator-id-2\" class=\"sk-toggleable__label sk-toggleable__label-arrow\">KNNImputer</label><div class=\"sk-toggleable__content\"><pre>KNNImputer(n_neighbors=50)</pre></div></div></div></div></div>"
      ],
      "text/plain": [
       "KNNImputer(n_neighbors=50)"
      ]
     },
     "execution_count": 26,
     "metadata": {},
     "output_type": "execute_result"
    }
   ],
   "source": [
    "import numpy as np\n",
    "from sklearn.impute import KNNImputer\n",
    "\n",
    "imputer = KNNImputer(n_neighbors=50)\n",
    "imputer.fit(df_ship2)\n"
   ]
  },
  {
   "cell_type": "code",
   "execution_count": 27,
   "metadata": {},
   "outputs": [],
   "source": [
    "X = imputer.transform(df_ship2)"
   ]
  },
  {
   "cell_type": "code",
   "execution_count": 28,
   "metadata": {},
   "outputs": [],
   "source": [
    "df_ship2tr = pd.DataFrame(X, columns=df_ship2.columns, index=df_ship2.index)"
   ]
  },
  {
   "cell_type": "code",
   "execution_count": 29,
   "metadata": {},
   "outputs": [],
   "source": [
    "x_months6 = df_ship2tr.drop(['sog'],axis=1)\n",
    "y_months6 = df_ship2tr.sog"
   ]
  },
  {
   "cell_type": "code",
   "execution_count": 30,
   "metadata": {},
   "outputs": [
    {
     "name": "stdout",
     "output_type": "stream",
     "text": [
      "Amount of the test dataset is: 702\n"
     ]
    }
   ],
   "source": [
    "print(\"Amount of the test dataset is:\",len(x_months6))"
   ]
  },
  {
   "attachments": {},
   "cell_type": "markdown",
   "metadata": {},
   "source": [
    "Special Section"
   ]
  },
  {
   "cell_type": "code",
   "execution_count": 31,
   "metadata": {},
   "outputs": [],
   "source": [
    "# # Check model performance for one trip\n",
    "# # PLEASE COMMMENT WHEN DONE !!!\n",
    "\n",
    "# dfdate6 = dfone6"
   ]
  },
  {
   "attachments": {},
   "cell_type": "markdown",
   "metadata": {},
   "source": [
    "Exporting File"
   ]
  },
  {
   "cell_type": "code",
   "execution_count": 32,
   "metadata": {},
   "outputs": [],
   "source": [
    "# df.to_csv('June_update.csv')"
   ]
  },
  {
   "attachments": {},
   "cell_type": "markdown",
   "metadata": {},
   "source": [
    "Measure performance in one month"
   ]
  },
  {
   "cell_type": "code",
   "execution_count": 33,
   "metadata": {},
   "outputs": [
    {
     "data": {
      "text/html": [
       "<div>\n",
       "<style scoped>\n",
       "    .dataframe tbody tr th:only-of-type {\n",
       "        vertical-align: middle;\n",
       "    }\n",
       "\n",
       "    .dataframe tbody tr th {\n",
       "        vertical-align: top;\n",
       "    }\n",
       "\n",
       "    .dataframe thead th {\n",
       "        text-align: right;\n",
       "    }\n",
       "</style>\n",
       "<table border=\"1\" class=\"dataframe\">\n",
       "  <thead>\n",
       "    <tr style=\"text-align: right;\">\n",
       "      <th></th>\n",
       "      <th>Temperature above oceans</th>\n",
       "      <th>Max wave height</th>\n",
       "      <th>Swell period</th>\n",
       "      <th>Wind wave period</th>\n",
       "      <th>Wave period</th>\n",
       "      <th>Sea surface temperature</th>\n",
       "      <th>Combined wind waves and swell height</th>\n",
       "      <th>Swell height</th>\n",
       "      <th>Wind wave height</th>\n",
       "      <th>Draught</th>\n",
       "      <th>...</th>\n",
       "      <th>Heading</th>\n",
       "      <th>True Wind Direction</th>\n",
       "      <th>True Current Direction</th>\n",
       "      <th>True Swell Direction</th>\n",
       "      <th>True Wind Wave Direction</th>\n",
       "      <th>True Wave Direction</th>\n",
       "      <th>Current Speed</th>\n",
       "      <th>Wind Speed</th>\n",
       "      <th>True North Wind Direction</th>\n",
       "      <th>True North Current Direction</th>\n",
       "    </tr>\n",
       "  </thead>\n",
       "  <tbody>\n",
       "    <tr>\n",
       "      <th>119</th>\n",
       "      <td>275.823975</td>\n",
       "      <td>3.358080</td>\n",
       "      <td>6.738089</td>\n",
       "      <td>4.925452</td>\n",
       "      <td>5.291555</td>\n",
       "      <td>278.661621</td>\n",
       "      <td>1.759765</td>\n",
       "      <td>0.743164</td>\n",
       "      <td>1.583740</td>\n",
       "      <td>5.281861</td>\n",
       "      <td>...</td>\n",
       "      <td>100.782313</td>\n",
       "      <td>100.989288</td>\n",
       "      <td>164.871808</td>\n",
       "      <td>15.554049</td>\n",
       "      <td>66.843493</td>\n",
       "      <td>57.268527</td>\n",
       "      <td>0.144914</td>\n",
       "      <td>10.248966</td>\n",
       "      <td>21.771601</td>\n",
       "      <td>184.345879</td>\n",
       "    </tr>\n",
       "    <tr>\n",
       "      <th>120</th>\n",
       "      <td>275.924011</td>\n",
       "      <td>3.578120</td>\n",
       "      <td>7.185143</td>\n",
       "      <td>5.342444</td>\n",
       "      <td>5.697814</td>\n",
       "      <td>278.936035</td>\n",
       "      <td>1.950242</td>\n",
       "      <td>0.841925</td>\n",
       "      <td>1.757568</td>\n",
       "      <td>5.289403</td>\n",
       "      <td>...</td>\n",
       "      <td>96.934816</td>\n",
       "      <td>108.737155</td>\n",
       "      <td>153.650411</td>\n",
       "      <td>11.071672</td>\n",
       "      <td>60.455881</td>\n",
       "      <td>51.313932</td>\n",
       "      <td>0.246220</td>\n",
       "      <td>11.364678</td>\n",
       "      <td>25.671971</td>\n",
       "      <td>199.414773</td>\n",
       "    </tr>\n",
       "    <tr>\n",
       "      <th>121</th>\n",
       "      <td>276.285034</td>\n",
       "      <td>4.184914</td>\n",
       "      <td>7.260825</td>\n",
       "      <td>5.460486</td>\n",
       "      <td>6.126474</td>\n",
       "      <td>279.209961</td>\n",
       "      <td>2.189788</td>\n",
       "      <td>0.933936</td>\n",
       "      <td>1.910706</td>\n",
       "      <td>5.288446</td>\n",
       "      <td>...</td>\n",
       "      <td>97.525758</td>\n",
       "      <td>114.910729</td>\n",
       "      <td>153.031589</td>\n",
       "      <td>16.281358</td>\n",
       "      <td>57.086511</td>\n",
       "      <td>46.894106</td>\n",
       "      <td>0.284315</td>\n",
       "      <td>12.666946</td>\n",
       "      <td>32.436488</td>\n",
       "      <td>199.442652</td>\n",
       "    </tr>\n",
       "    <tr>\n",
       "      <th>122</th>\n",
       "      <td>277.189484</td>\n",
       "      <td>4.908680</td>\n",
       "      <td>6.808745</td>\n",
       "      <td>6.225745</td>\n",
       "      <td>6.284671</td>\n",
       "      <td>279.216553</td>\n",
       "      <td>2.565230</td>\n",
       "      <td>0.723303</td>\n",
       "      <td>2.452637</td>\n",
       "      <td>5.290781</td>\n",
       "      <td>...</td>\n",
       "      <td>106.941521</td>\n",
       "      <td>123.568984</td>\n",
       "      <td>153.643227</td>\n",
       "      <td>69.175152</td>\n",
       "      <td>55.507286</td>\n",
       "      <td>56.527939</td>\n",
       "      <td>0.300428</td>\n",
       "      <td>13.386999</td>\n",
       "      <td>50.510505</td>\n",
       "      <td>189.415252</td>\n",
       "    </tr>\n",
       "    <tr>\n",
       "      <th>126</th>\n",
       "      <td>277.408752</td>\n",
       "      <td>4.621826</td>\n",
       "      <td>6.813305</td>\n",
       "      <td>5.970984</td>\n",
       "      <td>6.291378</td>\n",
       "      <td>279.319824</td>\n",
       "      <td>2.414834</td>\n",
       "      <td>1.022894</td>\n",
       "      <td>2.130981</td>\n",
       "      <td>4.842367</td>\n",
       "      <td>...</td>\n",
       "      <td>227.680837</td>\n",
       "      <td>26.476633</td>\n",
       "      <td>41.766758</td>\n",
       "      <td>158.632374</td>\n",
       "      <td>159.050718</td>\n",
       "      <td>167.192888</td>\n",
       "      <td>0.262897</td>\n",
       "      <td>12.053293</td>\n",
       "      <td>74.157471</td>\n",
       "      <td>180.552404</td>\n",
       "    </tr>\n",
       "  </tbody>\n",
       "</table>\n",
       "<p>5 rows × 22 columns</p>\n",
       "</div>"
      ],
      "text/plain": [
       "     Temperature above oceans  Max wave height  Swell period  \\\n",
       "119                275.823975         3.358080      6.738089   \n",
       "120                275.924011         3.578120      7.185143   \n",
       "121                276.285034         4.184914      7.260825   \n",
       "122                277.189484         4.908680      6.808745   \n",
       "126                277.408752         4.621826      6.813305   \n",
       "\n",
       "     Wind wave period  Wave period  Sea surface temperature  \\\n",
       "119          4.925452     5.291555               278.661621   \n",
       "120          5.342444     5.697814               278.936035   \n",
       "121          5.460486     6.126474               279.209961   \n",
       "122          6.225745     6.284671               279.216553   \n",
       "126          5.970984     6.291378               279.319824   \n",
       "\n",
       "     Combined wind waves and swell height  Swell height  Wind wave height  \\\n",
       "119                              1.759765      0.743164          1.583740   \n",
       "120                              1.950242      0.841925          1.757568   \n",
       "121                              2.189788      0.933936          1.910706   \n",
       "122                              2.565230      0.723303          2.452637   \n",
       "126                              2.414834      1.022894          2.130981   \n",
       "\n",
       "      Draught  ...     Heading  True Wind Direction  True Current Direction  \\\n",
       "119  5.281861  ...  100.782313           100.989288              164.871808   \n",
       "120  5.289403  ...   96.934816           108.737155              153.650411   \n",
       "121  5.288446  ...   97.525758           114.910729              153.031589   \n",
       "122  5.290781  ...  106.941521           123.568984              153.643227   \n",
       "126  4.842367  ...  227.680837            26.476633               41.766758   \n",
       "\n",
       "     True Swell Direction  True Wind Wave Direction  True Wave Direction  \\\n",
       "119             15.554049                 66.843493            57.268527   \n",
       "120             11.071672                 60.455881            51.313932   \n",
       "121             16.281358                 57.086511            46.894106   \n",
       "122             69.175152                 55.507286            56.527939   \n",
       "126            158.632374                159.050718           167.192888   \n",
       "\n",
       "     Current Speed  Wind Speed  True North Wind Direction  \\\n",
       "119       0.144914   10.248966                  21.771601   \n",
       "120       0.246220   11.364678                  25.671971   \n",
       "121       0.284315   12.666946                  32.436488   \n",
       "122       0.300428   13.386999                  50.510505   \n",
       "126       0.262897   12.053293                  74.157471   \n",
       "\n",
       "     True North Current Direction  \n",
       "119                    184.345879  \n",
       "120                    199.414773  \n",
       "121                    199.442652  \n",
       "122                    189.415252  \n",
       "126                    180.552404  \n",
       "\n",
       "[5 rows x 22 columns]"
      ]
     },
     "execution_count": 33,
     "metadata": {},
     "output_type": "execute_result"
    }
   ],
   "source": [
    "dfdate6 = dfdate6.drop(['Unnamed: 0','Time','LON','LAT','Air density above oceans',\n",
    "'Surface pressure','Width','Length'],axis=1)\n",
    "dfdate6.head(n=5)"
   ]
  },
  {
   "cell_type": "code",
   "execution_count": 34,
   "metadata": {},
   "outputs": [],
   "source": [
    "dfdate6= dfdate6.rename({'Max wave height': 'waveheight', 'Draught': 'draught',\n",
    "                           'SOG': 'sog', 'Wind Speed': 'windspeed', \n",
    "                           'True Wind Direction': 'truewinddir','Temperature above oceans' : 'oceantemperature',\n",
    "                           'COG': 'cog', 'Current Speed' : 'curspeed','True Wave Direction' : 'truewavedir',\n",
    "                            'Swell period': 'swellperiod','Wind wave period': 'windwaveperiod','Sea surface temperature': 'surftemp',\n",
    "                            'Combined wind waves and swell height': 'windwaveswellheight','Swell height': 'swellheight','Wind wave height': 'windwaveheight',\n",
    "                            'Heading': 'heading','True Current Direction': 'truecurrentdir','True Swell Direction': 'trueswelldir',\n",
    "                            'True Wind Wave Direction': 'truewindwavedir','Wave period': 'waveperiod',\n",
    "                            'True North Wind Direction' : 'truenorthwinddir' , 'True North Current Direction' : 'truenorthcurrentdir'\n",
    "                           }, axis=1) "
   ]
  },
  {
   "cell_type": "code",
   "execution_count": 35,
   "metadata": {},
   "outputs": [],
   "source": [
    "# Rearrange column to match model \n",
    "# Also dropping the features as described in the main script\n",
    "\n",
    "dfdate6 = dfdate6[['oceantemperature','waveperiod','surftemp','windwaveswellheight','draught','sog','cog','heading','windspeed','curspeed','truewinddir','truecurrentdir','truewavedir', 'truenorthwinddir' , 'truenorthcurrentdir']]\n",
    "\n",
    "\n",
    "# dfdate6 = dfdate6[['oceantemperature','waveheight','swellperiod','windwaveperiod','waveperiod','surftemp','windwaveswellheight','swellheight','windwaveheight','draught','sog','cog','heading','windspeed','curspeed','truewinddir','truecurrentdir','trueswelldir','truewindwavedir','truewavedir', 'truenorthwinddir' , 'truenorthcurrentdir']]"
   ]
  },
  {
   "cell_type": "code",
   "execution_count": 36,
   "metadata": {},
   "outputs": [],
   "source": [
    "stats2 = dfdate6['curspeed'].value_counts()"
   ]
  },
  {
   "cell_type": "code",
   "execution_count": 37,
   "metadata": {},
   "outputs": [],
   "source": [
    "import numpy as np\n",
    "from sklearn.impute import KNNImputer\n",
    "\n",
    "imputer = KNNImputer(n_neighbors=50)\n"
   ]
  },
  {
   "cell_type": "code",
   "execution_count": 38,
   "metadata": {},
   "outputs": [
    {
     "data": {
      "text/html": [
       "<style>#sk-container-id-3 {color: black;background-color: white;}#sk-container-id-3 pre{padding: 0;}#sk-container-id-3 div.sk-toggleable {background-color: white;}#sk-container-id-3 label.sk-toggleable__label {cursor: pointer;display: block;width: 100%;margin-bottom: 0;padding: 0.3em;box-sizing: border-box;text-align: center;}#sk-container-id-3 label.sk-toggleable__label-arrow:before {content: \"▸\";float: left;margin-right: 0.25em;color: #696969;}#sk-container-id-3 label.sk-toggleable__label-arrow:hover:before {color: black;}#sk-container-id-3 div.sk-estimator:hover label.sk-toggleable__label-arrow:before {color: black;}#sk-container-id-3 div.sk-toggleable__content {max-height: 0;max-width: 0;overflow: hidden;text-align: left;background-color: #f0f8ff;}#sk-container-id-3 div.sk-toggleable__content pre {margin: 0.2em;color: black;border-radius: 0.25em;background-color: #f0f8ff;}#sk-container-id-3 input.sk-toggleable__control:checked~div.sk-toggleable__content {max-height: 200px;max-width: 100%;overflow: auto;}#sk-container-id-3 input.sk-toggleable__control:checked~label.sk-toggleable__label-arrow:before {content: \"▾\";}#sk-container-id-3 div.sk-estimator input.sk-toggleable__control:checked~label.sk-toggleable__label {background-color: #d4ebff;}#sk-container-id-3 div.sk-label input.sk-toggleable__control:checked~label.sk-toggleable__label {background-color: #d4ebff;}#sk-container-id-3 input.sk-hidden--visually {border: 0;clip: rect(1px 1px 1px 1px);clip: rect(1px, 1px, 1px, 1px);height: 1px;margin: -1px;overflow: hidden;padding: 0;position: absolute;width: 1px;}#sk-container-id-3 div.sk-estimator {font-family: monospace;background-color: #f0f8ff;border: 1px dotted black;border-radius: 0.25em;box-sizing: border-box;margin-bottom: 0.5em;}#sk-container-id-3 div.sk-estimator:hover {background-color: #d4ebff;}#sk-container-id-3 div.sk-parallel-item::after {content: \"\";width: 100%;border-bottom: 1px solid gray;flex-grow: 1;}#sk-container-id-3 div.sk-label:hover label.sk-toggleable__label {background-color: #d4ebff;}#sk-container-id-3 div.sk-serial::before {content: \"\";position: absolute;border-left: 1px solid gray;box-sizing: border-box;top: 0;bottom: 0;left: 50%;z-index: 0;}#sk-container-id-3 div.sk-serial {display: flex;flex-direction: column;align-items: center;background-color: white;padding-right: 0.2em;padding-left: 0.2em;position: relative;}#sk-container-id-3 div.sk-item {position: relative;z-index: 1;}#sk-container-id-3 div.sk-parallel {display: flex;align-items: stretch;justify-content: center;background-color: white;position: relative;}#sk-container-id-3 div.sk-item::before, #sk-container-id-3 div.sk-parallel-item::before {content: \"\";position: absolute;border-left: 1px solid gray;box-sizing: border-box;top: 0;bottom: 0;left: 50%;z-index: -1;}#sk-container-id-3 div.sk-parallel-item {display: flex;flex-direction: column;z-index: 1;position: relative;background-color: white;}#sk-container-id-3 div.sk-parallel-item:first-child::after {align-self: flex-end;width: 50%;}#sk-container-id-3 div.sk-parallel-item:last-child::after {align-self: flex-start;width: 50%;}#sk-container-id-3 div.sk-parallel-item:only-child::after {width: 0;}#sk-container-id-3 div.sk-dashed-wrapped {border: 1px dashed gray;margin: 0 0.4em 0.5em 0.4em;box-sizing: border-box;padding-bottom: 0.4em;background-color: white;}#sk-container-id-3 div.sk-label label {font-family: monospace;font-weight: bold;display: inline-block;line-height: 1.2em;}#sk-container-id-3 div.sk-label-container {text-align: center;}#sk-container-id-3 div.sk-container {/* jupyter's `normalize.less` sets `[hidden] { display: none; }` but bootstrap.min.css set `[hidden] { display: none !important; }` so we also need the `!important` here to be able to override the default hidden behavior on the sphinx rendered scikit-learn.org. See: https://github.com/scikit-learn/scikit-learn/issues/21755 */display: inline-block !important;position: relative;}#sk-container-id-3 div.sk-text-repr-fallback {display: none;}</style><div id=\"sk-container-id-3\" class=\"sk-top-container\"><div class=\"sk-text-repr-fallback\"><pre>KNNImputer(n_neighbors=50)</pre><b>In a Jupyter environment, please rerun this cell to show the HTML representation or trust the notebook. <br />On GitHub, the HTML representation is unable to render, please try loading this page with nbviewer.org.</b></div><div class=\"sk-container\" hidden><div class=\"sk-item\"><div class=\"sk-estimator sk-toggleable\"><input class=\"sk-toggleable__control sk-hidden--visually\" id=\"sk-estimator-id-3\" type=\"checkbox\" checked><label for=\"sk-estimator-id-3\" class=\"sk-toggleable__label sk-toggleable__label-arrow\">KNNImputer</label><div class=\"sk-toggleable__content\"><pre>KNNImputer(n_neighbors=50)</pre></div></div></div></div></div>"
      ],
      "text/plain": [
       "KNNImputer(n_neighbors=50)"
      ]
     },
     "execution_count": 38,
     "metadata": {},
     "output_type": "execute_result"
    }
   ],
   "source": [
    "imputer.fit(dfdate6)"
   ]
  },
  {
   "cell_type": "code",
   "execution_count": 39,
   "metadata": {},
   "outputs": [],
   "source": [
    "xdate = imputer.transform(dfdate6)"
   ]
  },
  {
   "cell_type": "code",
   "execution_count": 40,
   "metadata": {},
   "outputs": [],
   "source": [
    "dfdate6tr = pd.DataFrame(xdate, columns=dfdate6.columns, index=dfdate6.index)"
   ]
  },
  {
   "cell_type": "code",
   "execution_count": 41,
   "metadata": {},
   "outputs": [],
   "source": [
    "# x_date = dfdate6tr.drop(['sog','truenorthcurrentdir','truenorthwinddir'],axis=1)\n",
    "# y_date = dfdate6tr.sog\n",
    "\n",
    "x_date = dfdate6tr.drop(['sog','truenorthcurrentdir','truenorthwinddir'],axis=1)\n",
    "y_date = dfdate6tr.sog"
   ]
  },
  {
   "cell_type": "code",
   "execution_count": 42,
   "metadata": {},
   "outputs": [
    {
     "name": "stdout",
     "output_type": "stream",
     "text": [
      "Amount of the test dataset is 322\n"
     ]
    }
   ],
   "source": [
    "print(f\"Amount of the test dataset is {len(x_date)}\")"
   ]
  },
  {
   "cell_type": "code",
   "execution_count": 43,
   "metadata": {},
   "outputs": [
    {
     "data": {
      "text/html": [
       "<div>\n",
       "<style scoped>\n",
       "    .dataframe tbody tr th:only-of-type {\n",
       "        vertical-align: middle;\n",
       "    }\n",
       "\n",
       "    .dataframe tbody tr th {\n",
       "        vertical-align: top;\n",
       "    }\n",
       "\n",
       "    .dataframe thead th {\n",
       "        text-align: right;\n",
       "    }\n",
       "</style>\n",
       "<table border=\"1\" class=\"dataframe\">\n",
       "  <thead>\n",
       "    <tr style=\"text-align: right;\">\n",
       "      <th></th>\n",
       "      <th>oceantemperature</th>\n",
       "      <th>waveperiod</th>\n",
       "      <th>surftemp</th>\n",
       "      <th>windwaveswellheight</th>\n",
       "      <th>draught</th>\n",
       "      <th>sog</th>\n",
       "      <th>cog</th>\n",
       "      <th>heading</th>\n",
       "      <th>windspeed</th>\n",
       "      <th>curspeed</th>\n",
       "      <th>truewinddir</th>\n",
       "      <th>truecurrentdir</th>\n",
       "      <th>truewavedir</th>\n",
       "      <th>truenorthwinddir</th>\n",
       "      <th>truenorthcurrentdir</th>\n",
       "    </tr>\n",
       "  </thead>\n",
       "  <tbody>\n",
       "    <tr>\n",
       "      <th>count</th>\n",
       "      <td>322.000000</td>\n",
       "      <td>287.000000</td>\n",
       "      <td>305.000000</td>\n",
       "      <td>287.000000</td>\n",
       "      <td>322.000000</td>\n",
       "      <td>322.000000</td>\n",
       "      <td>322.000000</td>\n",
       "      <td>322.000000</td>\n",
       "      <td>322.000000</td>\n",
       "      <td>322.000000</td>\n",
       "      <td>322.000000</td>\n",
       "      <td>322.000000</td>\n",
       "      <td>287.000000</td>\n",
       "      <td>322.000000</td>\n",
       "      <td>322.000000</td>\n",
       "    </tr>\n",
       "    <tr>\n",
       "      <th>mean</th>\n",
       "      <td>287.133146</td>\n",
       "      <td>3.411435</td>\n",
       "      <td>287.261956</td>\n",
       "      <td>0.665559</td>\n",
       "      <td>5.282713</td>\n",
       "      <td>17.449699</td>\n",
       "      <td>197.436423</td>\n",
       "      <td>189.432992</td>\n",
       "      <td>5.832751</td>\n",
       "      <td>0.092478</td>\n",
       "      <td>86.173628</td>\n",
       "      <td>86.811052</td>\n",
       "      <td>95.744646</td>\n",
       "      <td>193.881748</td>\n",
       "      <td>155.282564</td>\n",
       "    </tr>\n",
       "    <tr>\n",
       "      <th>std</th>\n",
       "      <td>6.306975</td>\n",
       "      <td>1.018301</td>\n",
       "      <td>4.927599</td>\n",
       "      <td>0.572845</td>\n",
       "      <td>0.162420</td>\n",
       "      <td>3.069944</td>\n",
       "      <td>86.327689</td>\n",
       "      <td>88.499255</td>\n",
       "      <td>3.020207</td>\n",
       "      <td>0.068917</td>\n",
       "      <td>62.588681</td>\n",
       "      <td>59.359251</td>\n",
       "      <td>63.892090</td>\n",
       "      <td>89.816472</td>\n",
       "      <td>102.716811</td>\n",
       "    </tr>\n",
       "    <tr>\n",
       "      <th>min</th>\n",
       "      <td>269.606903</td>\n",
       "      <td>1.915993</td>\n",
       "      <td>275.485352</td>\n",
       "      <td>0.073242</td>\n",
       "      <td>4.754639</td>\n",
       "      <td>5.224523</td>\n",
       "      <td>82.664990</td>\n",
       "      <td>79.551648</td>\n",
       "      <td>0.441768</td>\n",
       "      <td>0.002006</td>\n",
       "      <td>0.565115</td>\n",
       "      <td>1.295289</td>\n",
       "      <td>0.200645</td>\n",
       "      <td>3.207821</td>\n",
       "      <td>0.112383</td>\n",
       "    </tr>\n",
       "    <tr>\n",
       "      <th>25%</th>\n",
       "      <td>285.292786</td>\n",
       "      <td>2.656420</td>\n",
       "      <td>286.814697</td>\n",
       "      <td>0.254164</td>\n",
       "      <td>5.199718</td>\n",
       "      <td>16.568861</td>\n",
       "      <td>103.569971</td>\n",
       "      <td>101.685445</td>\n",
       "      <td>3.442231</td>\n",
       "      <td>0.043318</td>\n",
       "      <td>24.875738</td>\n",
       "      <td>28.600108</td>\n",
       "      <td>29.381058</td>\n",
       "      <td>120.064906</td>\n",
       "      <td>83.669063</td>\n",
       "    </tr>\n",
       "    <tr>\n",
       "      <th>50%</th>\n",
       "      <td>289.505615</td>\n",
       "      <td>3.125275</td>\n",
       "      <td>289.625977</td>\n",
       "      <td>0.431268</td>\n",
       "      <td>5.290842</td>\n",
       "      <td>18.413643</td>\n",
       "      <td>193.360899</td>\n",
       "      <td>125.125521</td>\n",
       "      <td>5.528616</td>\n",
       "      <td>0.073482</td>\n",
       "      <td>82.212973</td>\n",
       "      <td>79.271353</td>\n",
       "      <td>104.919772</td>\n",
       "      <td>193.709354</td>\n",
       "      <td>129.304190</td>\n",
       "    </tr>\n",
       "    <tr>\n",
       "      <th>75%</th>\n",
       "      <td>291.391602</td>\n",
       "      <td>3.919880</td>\n",
       "      <td>290.497070</td>\n",
       "      <td>0.836488</td>\n",
       "      <td>5.381292</td>\n",
       "      <td>19.421633</td>\n",
       "      <td>283.259801</td>\n",
       "      <td>279.238872</td>\n",
       "      <td>7.569939</td>\n",
       "      <td>0.123647</td>\n",
       "      <td>149.107733</td>\n",
       "      <td>146.039105</td>\n",
       "      <td>159.782560</td>\n",
       "      <td>279.768652</td>\n",
       "      <td>249.619550</td>\n",
       "    </tr>\n",
       "    <tr>\n",
       "      <th>max</th>\n",
       "      <td>294.685303</td>\n",
       "      <td>6.291378</td>\n",
       "      <td>292.665649</td>\n",
       "      <td>2.565230</td>\n",
       "      <td>5.657671</td>\n",
       "      <td>21.031230</td>\n",
       "      <td>319.851509</td>\n",
       "      <td>304.969531</td>\n",
       "      <td>13.386999</td>\n",
       "      <td>0.417155</td>\n",
       "      <td>179.309007</td>\n",
       "      <td>179.405213</td>\n",
       "      <td>179.699225</td>\n",
       "      <td>357.291804</td>\n",
       "      <td>359.450078</td>\n",
       "    </tr>\n",
       "  </tbody>\n",
       "</table>\n",
       "</div>"
      ],
      "text/plain": [
       "       oceantemperature  waveperiod    surftemp  windwaveswellheight  \\\n",
       "count        322.000000  287.000000  305.000000           287.000000   \n",
       "mean         287.133146    3.411435  287.261956             0.665559   \n",
       "std            6.306975    1.018301    4.927599             0.572845   \n",
       "min          269.606903    1.915993  275.485352             0.073242   \n",
       "25%          285.292786    2.656420  286.814697             0.254164   \n",
       "50%          289.505615    3.125275  289.625977             0.431268   \n",
       "75%          291.391602    3.919880  290.497070             0.836488   \n",
       "max          294.685303    6.291378  292.665649             2.565230   \n",
       "\n",
       "          draught         sog         cog     heading   windspeed    curspeed  \\\n",
       "count  322.000000  322.000000  322.000000  322.000000  322.000000  322.000000   \n",
       "mean     5.282713   17.449699  197.436423  189.432992    5.832751    0.092478   \n",
       "std      0.162420    3.069944   86.327689   88.499255    3.020207    0.068917   \n",
       "min      4.754639    5.224523   82.664990   79.551648    0.441768    0.002006   \n",
       "25%      5.199718   16.568861  103.569971  101.685445    3.442231    0.043318   \n",
       "50%      5.290842   18.413643  193.360899  125.125521    5.528616    0.073482   \n",
       "75%      5.381292   19.421633  283.259801  279.238872    7.569939    0.123647   \n",
       "max      5.657671   21.031230  319.851509  304.969531   13.386999    0.417155   \n",
       "\n",
       "       truewinddir  truecurrentdir  truewavedir  truenorthwinddir  \\\n",
       "count   322.000000      322.000000   287.000000        322.000000   \n",
       "mean     86.173628       86.811052    95.744646        193.881748   \n",
       "std      62.588681       59.359251    63.892090         89.816472   \n",
       "min       0.565115        1.295289     0.200645          3.207821   \n",
       "25%      24.875738       28.600108    29.381058        120.064906   \n",
       "50%      82.212973       79.271353   104.919772        193.709354   \n",
       "75%     149.107733      146.039105   159.782560        279.768652   \n",
       "max     179.309007      179.405213   179.699225        357.291804   \n",
       "\n",
       "       truenorthcurrentdir  \n",
       "count           322.000000  \n",
       "mean            155.282564  \n",
       "std             102.716811  \n",
       "min               0.112383  \n",
       "25%              83.669063  \n",
       "50%             129.304190  \n",
       "75%             249.619550  \n",
       "max             359.450078  "
      ]
     },
     "execution_count": 43,
     "metadata": {},
     "output_type": "execute_result"
    }
   ],
   "source": [
    "dfdate6.describe()"
   ]
  },
  {
   "attachments": {},
   "cell_type": "markdown",
   "metadata": {},
   "source": [
    "Reverse Modelling Test "
   ]
  },
  {
   "attachments": {},
   "cell_type": "markdown",
   "metadata": {},
   "source": [
    "Concatenate test and validation data "
   ]
  },
  {
   "cell_type": "code",
   "execution_count": 44,
   "metadata": {},
   "outputs": [],
   "source": [
    "x_date_c = pd.concat([x_date,x_months6])\n",
    "y_date_c = pd.concat([y_date,y_months6])"
   ]
  },
  {
   "cell_type": "code",
   "execution_count": 45,
   "metadata": {},
   "outputs": [],
   "source": [
    "def evaluate(model, features_x, labels_y):\n",
    "    from sklearn.model_selection import cross_val_score\n",
    "\n",
    "    score_r2 = cross_val_score(model,features_x,labels_y,\n",
    "                           scoring='r2',cv=10)\n",
    "    rsquared = score_r2.mean()\n",
    "    stadev_rsquared = score_r2.std()\n",
    "    max_rsquared = score_r2.max()\n",
    "    min_rsquared = score_r2.min()\n",
    "\n",
    "    score_expVar = cross_val_score(model,features_x,labels_y,\n",
    "                           scoring='explained_variance',cv=10)\n",
    "    expVar = score_expVar.mean()\n",
    "    stadev_expVar = score_expVar.std()\n",
    "    max_expVar = score_expVar.max()\n",
    "    min_expVar = score_expVar.min()\n",
    "\n",
    "    score_MAE = cross_val_score(model,features_x,labels_y,\n",
    "                           scoring='neg_mean_absolute_error',cv=10)\n",
    "    MAE = -score_MAE.mean()\n",
    "    stadev_MAE = score_MAE.std()\n",
    "    max_MAE = -score_MAE.max()\n",
    "    min_MAE = -score_MAE.min()\n",
    "\n",
    "    score_MAD = cross_val_score(model,features_x,labels_y,\n",
    "                           scoring='neg_median_absolute_error',cv=10)\n",
    "    MAD = -score_MAD.mean()\n",
    "    stadev_MAD = score_MAD.std()\n",
    "    max_MAD = -score_MAD.max()\n",
    "    min_MAD = -score_MAD.min()\n",
    "\n",
    "\n",
    "\n",
    "    score_RMSE = cross_val_score(model,features_x,labels_y,\n",
    "                           scoring='neg_root_mean_squared_error',cv=10)\n",
    "    RMSE = -score_RMSE.mean()\n",
    "    stadev_RMSE = score_RMSE.std()\n",
    "    max_RMSE = -score_RMSE.max()\n",
    "    min_RMSE = -score_RMSE.min()\n",
    "\n",
    "\n",
    "    print(f\"Model Performance of {model}\")\n",
    "    print(f\"R^2 = {rsquared:0.4f}, std = {stadev_rsquared:0.4f}, max = {max_rsquared:0.4f}, min = {min_rsquared:0.4f}\")\n",
    "    print(f\"explained Variance = {expVar:0.4f}, std = {stadev_expVar:0.4f}, max = {max_expVar:0.4f}, min = {min_expVar:0.4f}\")\n",
    "    print(f\"MAE = {MAE:0.4f}, std = {stadev_MAE:0.4f}, max = {max_MAE:0.4f}, min = {min_MAE:0.4f}\")\n",
    "    print(f\"RMSE = {RMSE:0.4f}, std = {stadev_RMSE:0.4f}, max = {max_RMSE:0.4f}, min = {min_RMSE:0.4f}\")\n",
    "    print(f\"MAD = {MAD:0.4f}, std = {stadev_MAD:0.4f}, max = {max_MAD:0.4f}, min = {min_MAD:0.4f}\\n\")\n",
    "\n",
    "    return score_r2,score_expVar,score_MAE,score_MAD,score_RMSE    "
   ]
  },
  {
   "attachments": {},
   "cell_type": "markdown",
   "metadata": {},
   "source": [
    "RFR evaluation"
   ]
  },
  {
   "cell_type": "code",
   "execution_count": 46,
   "metadata": {},
   "outputs": [
    {
     "name": "stdout",
     "output_type": "stream",
     "text": [
      "Model Performance of RandomForestRegressor(random_state=42)\n",
      "R^2 = 0.7562, std = 0.2182, max = 0.9392, min = 0.3669\n",
      "explained Variance = 0.7865, std = 0.1911, max = 0.9397, min = 0.4465\n",
      "MAE = 0.9594, std = 0.4931, max = 0.5719, min = 2.3230\n",
      "RMSE = 1.3125, std = 0.7283, max = 0.6874, min = 3.2810\n",
      "MAD = 0.7261, std = 0.2845, max = 0.2943, min = 1.4170\n",
      "\n"
     ]
    }
   ],
   "source": [
    "r2_rf,expVar_rf,MAE_rf,RMSE_rf,MAD_rf = evaluate(model_rfr_ftr,x_date,y_date)"
   ]
  },
  {
   "cell_type": "code",
   "execution_count": 47,
   "metadata": {},
   "outputs": [
    {
     "name": "stdout",
     "output_type": "stream",
     "text": [
      "Model Performance of RandomForestRegressor(max_depth=120, max_features=10, random_state=42)\n",
      "R^2 = 0.7519, std = 0.2245, max = 0.9362, min = 0.3532\n",
      "explained Variance = 0.7862, std = 0.1896, max = 0.9374, min = 0.4354\n",
      "MAE = 0.9581, std = 0.4977, max = 0.5610, min = 2.3235\n",
      "RMSE = 1.3207, std = 0.7349, max = 0.6768, min = 3.3163\n",
      "MAD = 0.7263, std = 0.2968, max = 0.1940, min = 1.3525\n",
      "\n"
     ]
    }
   ],
   "source": [
    "r2_rfo,expVar_rfo,MAE_rfo,RMSE_rfo,MAD_rfo = evaluate(model_rfr_hpov,x_date,y_date)"
   ]
  },
  {
   "cell_type": "code",
   "execution_count": 48,
   "metadata": {},
   "outputs": [
    {
     "name": "stdout",
     "output_type": "stream",
     "text": [
      "Model Performance of ExtraTreesRegressor(random_state=42)\n",
      "R^2 = 0.7970, std = 0.1582, max = 0.9446, min = 0.4831\n",
      "explained Variance = 0.8234, std = 0.1285, max = 0.9478, min = 0.6018\n",
      "MAE = 0.9057, std = 0.3844, max = 0.5302, min = 1.9772\n",
      "RMSE = 1.2205, std = 0.5432, max = 0.6185, min = 2.6923\n",
      "MAD = 0.6861, std = 0.2689, max = 0.3620, min = 1.3711\n",
      "\n"
     ]
    }
   ],
   "source": [
    "r2_et,expVar_et,MAE_et,RMSE_et,MAD_et = evaluate(model_etr,x_date,y_date)"
   ]
  },
  {
   "cell_type": "code",
   "execution_count": 49,
   "metadata": {},
   "outputs": [
    {
     "name": "stdout",
     "output_type": "stream",
     "text": [
      "Model Performance of ExtraTreesRegressor(max_depth=120, max_features=12, min_samples_split=9,\n",
      "                    n_estimators=800, random_state=42)\n",
      "R^2 = 0.8095, std = 0.1467, max = 0.9451, min = 0.5675\n",
      "explained Variance = 0.8324, std = 0.1246, max = 0.9468, min = 0.6294\n",
      "MAE = 0.8844, std = 0.3895, max = 0.5277, min = 1.9626\n",
      "RMSE = 1.1892, std = 0.5493, max = 0.6156, min = 2.6718\n",
      "MAD = 0.6730, std = 0.2809, max = 0.2382, min = 1.3678\n",
      "\n"
     ]
    }
   ],
   "source": [
    "r2_eto,expVar_eto,MAE_eto,RMSE_eto,MAD_eto = evaluate(model_etr_hpov,x_date,y_date)"
   ]
  },
  {
   "cell_type": "code",
   "execution_count": 50,
   "metadata": {},
   "outputs": [
    {
     "name": "stdout",
     "output_type": "stream",
     "text": [
      "Model Performance of DecisionTreeRegressor()\n",
      "R^2 = 0.7019, std = 0.2065, max = 0.8827, min = 0.1810\n",
      "explained Variance = 0.7264, std = 0.2279, max = 0.9396, min = 0.1284\n",
      "MAE = 1.0436, std = 0.3790, max = 0.5902, min = 2.0948\n",
      "RMSE = 1.5421, std = 0.6081, max = 0.8044, min = 2.9895\n",
      "MAD = 0.7378, std = 0.2730, max = 0.3703, min = 1.1943\n",
      "\n"
     ]
    }
   ],
   "source": [
    "r2_dt,expVar_dt,MAE_dt,RMSE_dt,MAD_dt = evaluate(model_dtr_ftr,x_date,y_date)"
   ]
  },
  {
   "cell_type": "code",
   "execution_count": 51,
   "metadata": {},
   "outputs": [
    {
     "name": "stdout",
     "output_type": "stream",
     "text": [
      "Model Performance of DecisionTreeRegressor(max_depth=8, max_features=12, min_samples_leaf=10,\n",
      "                      min_samples_split=7)\n",
      "R^2 = 0.7209, std = 0.1995, max = 0.9309, min = 0.3210\n",
      "explained Variance = 0.7438, std = 0.1814, max = 0.9387, min = 0.3733\n",
      "MAE = 1.0460, std = 0.4222, max = 0.6452, min = 2.1729\n",
      "RMSE = 1.4647, std = 0.6379, max = 0.8394, min = 3.0618\n",
      "MAD = 0.7356, std = 0.2999, max = 0.4094, min = 1.5088\n",
      "\n"
     ]
    }
   ],
   "source": [
    "r2_dto,expVar_dto,MAE_dto,RMSE_dto,MAD_dto = evaluate(model_dtr_hpov,x_date,y_date)"
   ]
  },
  {
   "cell_type": "code",
   "execution_count": 52,
   "metadata": {},
   "outputs": [
    {
     "name": "stdout",
     "output_type": "stream",
     "text": [
      "Model Performance of LinearRegression()\n",
      "R^2 = 0.3935, std = 0.8308, max = 0.8044, min = -2.0209\n",
      "explained Variance = 0.4096, std = 0.8268, max = 0.8377, min = -2.0009\n",
      "MAE = 1.4308, std = 0.3603, max = 1.0765, min = 2.3214\n",
      "RMSE = 1.9116, std = 0.9133, max = 1.2116, min = 4.4828\n",
      "MAD = 1.2237, std = 0.2026, max = 0.9489, min = 1.5400\n",
      "\n"
     ]
    }
   ],
   "source": [
    "r2_mlr,expVar_mlr,MAE_mlr,RMSE_mlr,MAD_mlr = evaluate(model_mlr_ftr,x_date,y_date)"
   ]
  },
  {
   "attachments": {},
   "cell_type": "markdown",
   "metadata": {},
   "source": [
    "Experiment on amount of data effectiveness"
   ]
  },
  {
   "cell_type": "code",
   "execution_count": 53,
   "metadata": {},
   "outputs": [
    {
     "name": "stdout",
     "output_type": "stream",
     "text": [
      "Combined data length of June data + 6 months is 1024\n"
     ]
    }
   ],
   "source": [
    "print(f\"Combined data length of June data + 6 months is {len(x_date_c)}\")"
   ]
  },
  {
   "cell_type": "code",
   "execution_count": 54,
   "metadata": {},
   "outputs": [
    {
     "name": "stdout",
     "output_type": "stream",
     "text": [
      "Model Performance of RandomForestRegressor(random_state=42)\n",
      "R^2 = 0.8771, std = 0.0423, max = 0.9366, min = 0.8057\n",
      "explained Variance = 0.8846, std = 0.0355, max = 0.9379, min = 0.8209\n",
      "MAE = 0.7467, std = 0.1136, max = 0.5984, min = 0.9363\n",
      "RMSE = 1.0846, std = 0.1485, max = 0.8255, min = 1.2890\n",
      "MAD = 0.5588, std = 0.1351, max = 0.3932, min = 0.8129\n",
      "\n"
     ]
    }
   ],
   "source": [
    "r2_rfc,expVar_rfc,MAE_rfc,RMSE_rfc,MAD_rfc = evaluate(model_rfr_ftr,x_date_c,y_date_c)"
   ]
  },
  {
   "cell_type": "code",
   "execution_count": 55,
   "metadata": {},
   "outputs": [
    {
     "name": "stdout",
     "output_type": "stream",
     "text": [
      "Model Performance of RandomForestRegressor(max_depth=120, max_features=10, random_state=42)\n",
      "R^2 = 0.8790, std = 0.0409, max = 0.9401, min = 0.8078\n",
      "explained Variance = 0.8871, std = 0.0342, max = 0.9413, min = 0.8239\n",
      "MAE = 0.7407, std = 0.1163, max = 0.5682, min = 0.9254\n",
      "RMSE = 1.0772, std = 0.1501, max = 0.8025, min = 1.2819\n",
      "MAD = 0.5504, std = 0.1259, max = 0.3892, min = 0.8116\n",
      "\n"
     ]
    }
   ],
   "source": [
    "r2_rfco,expVar_rfco,MAE_rfco,RMSE_rfco,MAD_rfco = evaluate(model_rfr_hpov,x_date_c,y_date_c)"
   ]
  },
  {
   "cell_type": "code",
   "execution_count": 56,
   "metadata": {},
   "outputs": [
    {
     "name": "stdout",
     "output_type": "stream",
     "text": [
      "Model Performance of ExtraTreesRegressor(random_state=42)\n",
      "R^2 = 0.8932, std = 0.0360, max = 0.9433, min = 0.8135\n",
      "explained Variance = 0.9012, std = 0.0328, max = 0.9547, min = 0.8320\n",
      "MAE = 0.7109, std = 0.0916, max = 0.5887, min = 0.9036\n",
      "RMSE = 1.0103, std = 0.1287, max = 0.7806, min = 1.2629\n",
      "MAD = 0.5362, std = 0.0985, max = 0.4246, min = 0.7022\n",
      "\n"
     ]
    }
   ],
   "source": [
    "r2_etc,expVar_etc,MAE_etc,RMSE_etc,MAD_etc = evaluate(model_etr,x_date_c,y_date_c)"
   ]
  },
  {
   "cell_type": "code",
   "execution_count": 57,
   "metadata": {},
   "outputs": [
    {
     "name": "stdout",
     "output_type": "stream",
     "text": [
      "Model Performance of ExtraTreesRegressor(max_depth=120, max_features=12, min_samples_split=9,\n",
      "                    n_estimators=800, random_state=42)\n",
      "R^2 = 0.8935, std = 0.0326, max = 0.9453, min = 0.8310\n",
      "explained Variance = 0.9015, std = 0.0305, max = 0.9515, min = 0.8485\n",
      "MAE = 0.7062, std = 0.0867, max = 0.5731, min = 0.8887\n",
      "RMSE = 1.0117, std = 0.1221, max = 0.7664, min = 1.2022\n",
      "MAD = 0.5402, std = 0.1166, max = 0.3878, min = 0.7420\n",
      "\n"
     ]
    }
   ],
   "source": [
    "r2_etco,expVar_etco,MAE_etco,RMSE_etco,MAD_etco = evaluate(model_etr_hpov,x_date_c,y_date_c)"
   ]
  },
  {
   "cell_type": "code",
   "execution_count": 58,
   "metadata": {},
   "outputs": [
    {
     "name": "stdout",
     "output_type": "stream",
     "text": [
      "Model Performance of DecisionTreeRegressor()\n",
      "R^2 = 0.8065, std = 0.0674, max = 0.9113, min = 0.6918\n",
      "explained Variance = 0.8139, std = 0.0634, max = 0.9111, min = 0.7215\n",
      "MAE = 0.9802, std = 0.1248, max = 0.6952, min = 1.1365\n",
      "RMSE = 1.4401, std = 0.2349, max = 0.9403, min = 1.6717\n",
      "MAD = 0.7227, std = 0.0717, max = 0.5797, min = 0.8392\n",
      "\n"
     ]
    }
   ],
   "source": [
    "r2_dtc,expVar_dtc,MAE_dtc,RMSE_dtc,MAD_dtc = evaluate(model_dtr_ftr,x_date_c,y_date_c)"
   ]
  },
  {
   "cell_type": "code",
   "execution_count": 59,
   "metadata": {},
   "outputs": [
    {
     "name": "stdout",
     "output_type": "stream",
     "text": [
      "Model Performance of DecisionTreeRegressor(max_depth=8, max_features=12, min_samples_leaf=10,\n",
      "                      min_samples_split=7)\n",
      "R^2 = 0.8382, std = 0.0464, max = 0.9096, min = 0.7544\n",
      "explained Variance = 0.8459, std = 0.0442, max = 0.9179, min = 0.7552\n",
      "MAE = 0.8457, std = 0.1119, max = 0.6362, min = 0.9889\n",
      "RMSE = 1.2519, std = 0.1603, max = 1.0480, min = 1.6247\n",
      "MAD = 0.6164, std = 0.1166, max = 0.4177, min = 0.8241\n",
      "\n"
     ]
    }
   ],
   "source": [
    "r2_dtco,expVar_dtco,MAE_dtco,RMSE_dtco,MAD_dtco = evaluate(model_dtr_hpov,x_date_c,y_date_c)"
   ]
  },
  {
   "cell_type": "code",
   "execution_count": 60,
   "metadata": {},
   "outputs": [
    {
     "name": "stdout",
     "output_type": "stream",
     "text": [
      "Model Performance of LinearRegression()\n",
      "R^2 = 0.6376, std = 0.1757, max = 0.8447, min = 0.2085\n",
      "explained Variance = 0.6500, std = 0.1716, max = 0.8448, min = 0.2148\n",
      "MAE = 1.2226, std = 0.1964, max = 1.0156, min = 1.6094\n",
      "RMSE = 1.8482, std = 0.4157, max = 1.2905, min = 2.6015\n",
      "MAD = 0.9911, std = 0.2360, max = 0.6371, min = 1.3907\n",
      "\n"
     ]
    }
   ],
   "source": [
    "r2_mlrc,expVar_mlrc,MAE_mlrc,RMSE_mlrc,MAD_mlrc = evaluate(model_mlr_ftr,x_date_c,y_date_c)"
   ]
  },
  {
   "cell_type": "code",
   "execution_count": 156,
   "metadata": {},
   "outputs": [],
   "source": [
    "def evaluate_SOG(model,x_date,y_date):\n",
    "    from sklearn.metrics import mean_squared_error,mean_absolute_percentage_error,r2_score,explained_variance_score,median_absolute_error,mean_absolute_error\n",
    "    \n",
    "    def label_predict(model,test_features):\n",
    "        predictions = model.predict(test_features)\n",
    "        return predictions\n",
    "    \n",
    "    predictions = label_predict(model,x_date)\n",
    "\n",
    "    Rsquared_FOC = r2_score(y_date,predictions)\n",
    "    expVar_FOC = explained_variance_score(y_date,predictions)\n",
    "    MAE_FOC = mean_absolute_error(y_date,predictions)\n",
    "    RMSE_FOC = math.sqrt(mean_squared_error(y_date, predictions))\n",
    "    MAD_FOC = median_absolute_error(y_date,predictions)\n",
    "    MAPE_FOC = mean_absolute_percentage_error(y_date, predictions)\n",
    "    \n",
    "\n",
    "    print(f\"Model Performance of {model}\")\n",
    "    print(f\"R^2 SOG = {Rsquared_FOC:0.4f}\")\n",
    "    print(f\"Explained Variance SOG = {expVar_FOC:0.4f}\")\n",
    "    print(f\"MSE SOG = {MAE_FOC:0.4f} Knots\")    \n",
    "    print(f\"RMSE SOG = {RMSE_FOC:0.4f} Knots\")\n",
    "    print(f\"MAD SOG = {MAD_FOC:0.4f} Knots\")    \n",
    "    print(f\"MAPE SOG = {MAPE_FOC:0.4f} %\")"
   ]
  },
  {
   "cell_type": "markdown",
   "metadata": {},
   "source": [
    "Check absolute performance of the model on test data"
   ]
  },
  {
   "cell_type": "code",
   "execution_count": 162,
   "metadata": {},
   "outputs": [
    {
     "name": "stdout",
     "output_type": "stream",
     "text": [
      "Model Performance of ExtraTreesRegressor(max_depth=120, max_features=12, min_samples_split=9,\n",
      "                    n_estimators=800, random_state=42)\n",
      "R^2 SOG = 0.8732\n",
      "Explained Variance SOG = 0.8921\n",
      "MSE SOG = 0.8072 Knots\n",
      "RMSE SOG = 1.0916 Knots\n",
      "MAD SOG = 0.6329 Knots\n",
      "MAPE SOG = 0.0473 %\n"
     ]
    }
   ],
   "source": [
    "evaluate_SOG(model_etr_hpov,x_date,y_date)"
   ]
  },
  {
   "cell_type": "code",
   "execution_count": 165,
   "metadata": {},
   "outputs": [
    {
     "name": "stdout",
     "output_type": "stream",
     "text": [
      "Model Performance of ExtraTreesRegressor(max_depth=120, max_features=12, min_samples_split=9,\n",
      "                    n_estimators=800, random_state=42)\n",
      "R^2 SOG = 0.9166\n",
      "Explained Variance SOG = 0.9189\n",
      "MSE SOG = 0.6280 Knots\n",
      "RMSE SOG = 0.9246 Knots\n",
      "MAD SOG = 0.4513 Knots\n",
      "MAPE SOG = 0.0401 %\n"
     ]
    }
   ],
   "source": [
    "evaluate_SOG(model_etr_hpov,x_date_c,y_date_c)"
   ]
  },
  {
   "cell_type": "code",
   "execution_count": 168,
   "metadata": {},
   "outputs": [
    {
     "name": "stdout",
     "output_type": "stream",
     "text": [
      "Model Performance of RandomForestRegressor(max_depth=120, max_features=10, random_state=42)\n",
      "R^2 SOG = 0.8670\n",
      "Explained Variance SOG = 0.8863\n",
      "MSE SOG = 0.8134 Knots\n",
      "RMSE SOG = 1.1180 Knots\n",
      "MAD SOG = 0.6506 Knots\n",
      "MAPE SOG = 0.0480 %\n"
     ]
    }
   ],
   "source": [
    "evaluate_SOG(model_rfr_hpov,x_date,y_date)"
   ]
  },
  {
   "cell_type": "code",
   "execution_count": 167,
   "metadata": {},
   "outputs": [
    {
     "name": "stdout",
     "output_type": "stream",
     "text": [
      "Model Performance of RandomForestRegressor(max_depth=120, max_features=10, random_state=42)\n",
      "R^2 SOG = 0.9141\n",
      "Explained Variance SOG = 0.9162\n",
      "MSE SOG = 0.6374 Knots\n",
      "RMSE SOG = 0.9386 Knots\n",
      "MAD SOG = 0.4261 Knots\n",
      "MAPE SOG = 0.0410 %\n"
     ]
    }
   ],
   "source": [
    "evaluate_SOG(model_rfr_hpov,x_date_c,y_date_c)"
   ]
  },
  {
   "cell_type": "code",
   "execution_count": 171,
   "metadata": {},
   "outputs": [
    {
     "name": "stdout",
     "output_type": "stream",
     "text": [
      "Model Performance of DecisionTreeRegressor()\n",
      "R^2 SOG = 0.7931\n",
      "Explained Variance SOG = 0.8159\n",
      "MSE SOG = 0.9979 Knots\n",
      "RMSE SOG = 1.3943 Knots\n",
      "MAD SOG = 0.7375 Knots\n",
      "MAPE SOG = 0.0586 %\n"
     ]
    }
   ],
   "source": [
    "evaluate_SOG(model_dtr_ftr,x_date,y_date)"
   ]
  },
  {
   "cell_type": "code",
   "execution_count": 163,
   "metadata": {},
   "outputs": [
    {
     "name": "stdout",
     "output_type": "stream",
     "text": [
      "Model Performance of DecisionTreeRegressor(max_depth=8, max_features=12, min_samples_leaf=10,\n",
      "                      min_samples_split=7)\n",
      "R^2 SOG = 0.8451\n",
      "Explained Variance SOG = 0.8647\n",
      "MSE SOG = 0.8963 Knots\n",
      "RMSE SOG = 1.2062 Knots\n",
      "MAD SOG = 0.6815 Knots\n",
      "MAPE SOG = 0.0528 %\n"
     ]
    }
   ],
   "source": [
    "evaluate_SOG(model_dtr_hpov,x_date,y_date)"
   ]
  },
  {
   "cell_type": "code",
   "execution_count": 169,
   "metadata": {},
   "outputs": [
    {
     "name": "stdout",
     "output_type": "stream",
     "text": [
      "Model Performance of DecisionTreeRegressor(max_depth=8, max_features=12, min_samples_leaf=10,\n",
      "                      min_samples_split=7)\n",
      "R^2 SOG = 0.8856\n",
      "Explained Variance SOG = 0.8880\n",
      "MSE SOG = 0.7403 Knots\n",
      "RMSE SOG = 1.0830 Knots\n",
      "MAD SOG = 0.5087 Knots\n",
      "MAPE SOG = 0.0475 %\n"
     ]
    }
   ],
   "source": [
    "evaluate_SOG(model_dtr_hpov,x_date_c,y_date_c)"
   ]
  },
  {
   "cell_type": "code",
   "execution_count": 164,
   "metadata": {},
   "outputs": [
    {
     "name": "stdout",
     "output_type": "stream",
     "text": [
      "Model Performance of LinearRegression()\n",
      "R^2 SOG = 0.5745\n",
      "Explained Variance SOG = 0.5969\n",
      "MSE SOG = 1.4247 Knots\n",
      "RMSE SOG = 1.9995 Knots\n",
      "MAD SOG = 1.2763 Knots\n",
      "MAPE SOG = 0.0866 %\n"
     ]
    }
   ],
   "source": [
    "evaluate_SOG(model_mlr_ftr,x_date,y_date)"
   ]
  },
  {
   "cell_type": "code",
   "execution_count": 170,
   "metadata": {},
   "outputs": [
    {
     "name": "stdout",
     "output_type": "stream",
     "text": [
      "Model Performance of LinearRegression()\n",
      "R^2 SOG = 0.6587\n",
      "Explained Variance SOG = 0.6618\n",
      "MSE SOG = 1.2291 Knots\n",
      "RMSE SOG = 1.8705 Knots\n",
      "MAD SOG = 1.0140 Knots\n",
      "MAPE SOG = 0.0812 %\n"
     ]
    }
   ],
   "source": [
    "evaluate_SOG(model_mlr_ftr,x_date_c,y_date_c)"
   ]
  },
  {
   "cell_type": "code",
   "execution_count": 61,
   "metadata": {},
   "outputs": [],
   "source": [
    "# fit a y = mx + c for the predicted vs actual  \n",
    "\n",
    "from numpy import arange\n",
    "from scipy.optimize import curve_fit\n",
    "\n",
    "# plt.figure(figsize=(5,5))\n",
    "\n",
    "# define the true objective function\n",
    "def objective(x, a, b ):\n",
    "\treturn a * x + b\n",
    "\n",
    "def label_predict(model,test_features):\n",
    "    predictions = model.predict(test_features)\n",
    "    return predictions\n",
    "\n",
    "def pred_plot(model,modelname,test_feature,test_label):\n",
    "    \n",
    "    plt.rcParams.update({\n",
    "\t\"text.usetex\": True,\n",
    "\t\"font.family\": \"serif\",\n",
    "\t\"font.serif\": \"bookman\",\n",
    "\t})\n",
    "    from sklearn.linear_model import LinearRegression\n",
    "    predict = label_predict(model,test_feature)\n",
    "\n",
    "    from sklearn.metrics import r2_score\n",
    "\n",
    "    print(r2_score(test_label, predict))\n",
    "\n",
    "    # choose the input and output variables\n",
    "    x, y = test_label, predict\n",
    "\n",
    "    reg = LinearRegression().fit(x.values.reshape(-1,1) , y)\n",
    "    b = reg.intercept_\n",
    "    m = reg.coef_[0]\n",
    "    plt.axline(xy1=(0, b), slope=m, label=rf'$y = {m:.1f}x {b:+.1f}$',color = 'r', ls ='--')\n",
    "\n",
    "    # curve fit\n",
    "    popt, _ = curve_fit(objective, x, y)\n",
    "\n",
    "    # summarize the parameter values\n",
    "    a, b = popt\n",
    "    print('y = %.1f * x + %.1f' % (a, b ))\n",
    "\n",
    "    # plot input vs output\n",
    "    \n",
    "    plt.scatter(x, y,edgecolors='black')\n",
    "    \n",
    "    # define a sequence of inputs between the smallest and largest known inputs\n",
    "    \n",
    "    x_line = arange(min(x), max(x), 1)\n",
    "        \n",
    "    # calculate the output for the range\n",
    "    \n",
    "    y_line = objective(x_line, a, b)\n",
    "    \n",
    "    # create a line plot for the mapping function\n",
    "    \n",
    "    # plt.plot(x_line, y_line, color='red')\n",
    "    plt.xlabel(r'Predicted SOG [$m/s$]', fontsize=13)\n",
    "    plt.ylabel(r'Actual SOG [$m/s$]', fontsize=13)\n",
    "    plt.grid(linestyle = '--', linewidth = 0.5)\n",
    "    plt.title(rf\"{modelname}\", fontsize=14)\n",
    "    plt.xlim(0,25)\n",
    "    plt.ylim(0,25)\n",
    "    plt.legend()\n",
    "\n"
   ]
  },
  {
   "cell_type": "code",
   "execution_count": 62,
   "metadata": {},
   "outputs": [
    {
     "name": "stdout",
     "output_type": "stream",
     "text": [
      "0.7930691573886957\n",
      "y = 0.9 * x + 1.9\n",
      "0.8451332064434847\n",
      "y = 0.8 * x + 2.3\n"
     ]
    },
    {
     "data": {
      "image/png": "[encoded data removed]",
      "text/plain": [
       "<Figure size 1000x400 with 2 Axes>"
      ]
     },
     "metadata": {},
     "output_type": "display_data"
    }
   ],
   "source": [
    "fig, axes = plt.subplots(ncols=2, figsize=(10, 4), sharey=True)\n",
    "plt.sca(axes[0])\n",
    "pred_plot(model_dtr_ftr,'Decision Tree Regressor',x_date,y_date)\n",
    "plt.sca(axes[1])\n",
    "pred_plot(model_dtr_hpov,'Decision Tree Regressor + HPO',x_date,y_date)\n",
    "plt.ylabel(\"\")\n",
    "plt.show()"
   ]
  },
  {
   "cell_type": "code",
   "execution_count": 63,
   "metadata": {},
   "outputs": [
    {
     "name": "stdout",
     "output_type": "stream",
     "text": [
      "0.8641250686489151\n",
      "y = 0.8 * x + 2.2\n",
      "0.8669620381079686\n",
      "y = 0.8 * x + 2.3\n"
     ]
    },
    {
     "data": {
      "image/png": "[encoded data removed]",
      "text/plain": [
       "<Figure size 1000x400 with 2 Axes>"
      ]
     },
     "metadata": {},
     "output_type": "display_data"
    }
   ],
   "source": [
    "fig, axes = plt.subplots(ncols=2, figsize=(10, 4), sharey=True)\n",
    "plt.sca(axes[0])\n",
    "pred_plot(model_rfr_ftr,'Random Forest Regressor',x_date,y_date)\n",
    "plt.sca(axes[1])\n",
    "pred_plot(model_rfr_hpov,'Random Forest Regressor + HPO',x_date,y_date)\n",
    "plt.ylabel(\"\")\n",
    "plt.show()"
   ]
  },
  {
   "cell_type": "code",
   "execution_count": 64,
   "metadata": {},
   "outputs": [
    {
     "name": "stdout",
     "output_type": "stream",
     "text": [
      "0.8743301165173356\n",
      "y = 0.9 * x + 2.2\n",
      "0.8731763195782185\n",
      "y = 0.8 * x + 2.3\n"
     ]
    },
    {
     "data": {
      "image/png": "[encoded data removed]",
      "text/plain": [
       "<Figure size 1000x400 with 2 Axes>"
      ]
     },
     "metadata": {},
     "output_type": "display_data"
    }
   ],
   "source": [
    "fig, axes = plt.subplots(ncols=2, figsize=(10, 4), sharey=True)\n",
    "plt.sca(axes[0])\n",
    "pred_plot(model_etr,'Extra Trees Regressor',x_date,y_date)\n",
    "plt.sca(axes[1])\n",
    "pred_plot(model_etr_hpov,'Extra Trees Regressor + HPO',x_date,y_date)\n",
    "plt.ylabel(\"\")\n",
    "plt.show()"
   ]
  },
  {
   "attachments": {},
   "cell_type": "markdown",
   "metadata": {},
   "source": [
    "Evaluation using Cross Validation"
   ]
  },
  {
   "cell_type": "code",
   "execution_count": 65,
   "metadata": {},
   "outputs": [
    {
     "data": {
      "text/plain": [
       "<Figure size 500x300 with 0 Axes>"
      ]
     },
     "metadata": {},
     "output_type": "display_data"
    },
    {
     "data": {
      "image/png": "[encoded data removed]",
      "text/plain": [
       "<Figure size 640x480 with 1 Axes>"
      ]
     },
     "metadata": {},
     "output_type": "display_data"
    }
   ],
   "source": [
    "scores_test = [r2_rf,r2_et,r2_dt,r2_mlr]\n",
    "fig = plt.figure(figsize=(5,3))\n",
    "# Creating axes instance\n",
    "# ax = fig.add_axes([0, 0, 1, 1])\n",
    "fig,ax = plt.subplots()\n",
    "plt.title(\"Validation Data Model Performance\")\n",
    "plt.ylabel(\"R-squared\")\n",
    "plt.xlabel(\"Model\")\n",
    "plt.yscale('linear')\n",
    "plt.ylim(0.2,1.0)\n",
    "plt.boxplot(scores_test,showmeans=True)\n",
    "plt.grid(axis='y',linestyle = '--', linewidth = 0.5)\n",
    "ax.set_xticklabels(['RFR', 'ETR',\n",
    "                    'DTR','MLR'])\n",
    "plt.show()"
   ]
  },
  {
   "cell_type": "code",
   "execution_count": 66,
   "metadata": {},
   "outputs": [
    {
     "data": {
      "text/plain": [
       "<Figure size 500x300 with 0 Axes>"
      ]
     },
     "metadata": {},
     "output_type": "display_data"
    },
    {
     "data": {
      "image/png": "[encoded data removed]",
      "text/plain": [
       "<Figure size 640x480 with 1 Axes>"
      ]
     },
     "metadata": {},
     "output_type": "display_data"
    }
   ],
   "source": [
    "scores_test = [-RMSE_rf,-RMSE_et,-RMSE_dt,-RMSE_mlr]\n",
    "fig = plt.figure(figsize=(5,3))\n",
    "# Creating axes instance\n",
    "# ax = fig.add_axes([0, 0, 1, 1])\n",
    "fig,ax = plt.subplots()\n",
    "plt.title(\"Validation Data Model Performance\")\n",
    "plt.ylabel(\"RMSE\")\n",
    "plt.xlabel(\"Model\")\n",
    "plt.yscale('linear')\n",
    "plt.ylim(0,1.6)\n",
    "plt.boxplot(scores_test,showmeans=True)\n",
    "plt.grid(axis='y',linestyle = '--', linewidth = 0.5)\n",
    "ax.set_xticklabels(['RFR', 'ETR',\n",
    "                    'DTR','MLR'])\n",
    "plt.show()"
   ]
  },
  {
   "attachments": {},
   "cell_type": "markdown",
   "metadata": {},
   "source": [
    "Optimization comparison"
   ]
  },
  {
   "cell_type": "code",
   "execution_count": 67,
   "metadata": {},
   "outputs": [
    {
     "data": {
      "text/plain": [
       "<Figure size 500x300 with 0 Axes>"
      ]
     },
     "metadata": {},
     "output_type": "display_data"
    },
    {
     "data": {
      "image/png": "[encoded data removed]",
      "text/plain": [
       "<Figure size 640x480 with 1 Axes>"
      ]
     },
     "metadata": {},
     "output_type": "display_data"
    }
   ],
   "source": [
    "scores_opt = [r2_rf,r2_rfo,r2_et,r2_eto,r2_dt,r2_dto]\n",
    "fig = plt.figure(figsize=(5,3))\n",
    "# Creating axes instance\n",
    "fig,ax = plt.subplots() \n",
    "plt.title(\"Optimized Model on Test Dataset Performance\")\n",
    "plt.ylabel(\"R-squared\")\n",
    "plt.xlabel(\"Model\")\n",
    "plt.ylim(0.2,1.0)\n",
    "plt.yscale('linear')\n",
    "ax.boxplot(scores_opt,showmeans=True)\n",
    "plt.grid(axis='y',linestyle = '--', linewidth = 0.5)\n",
    "ax.set_xticklabels([r'RFR', r'$RFR_{opt}$',\n",
    "                    r'ETR', r'$ETR_{opt}$',\n",
    "                    r'DTR',r'$DTR_{opt}$'])\n",
    "plt.show()"
   ]
  },
  {
   "cell_type": "code",
   "execution_count": 68,
   "metadata": {},
   "outputs": [
    {
     "data": {
      "text/plain": [
       "<Figure size 500x300 with 0 Axes>"
      ]
     },
     "metadata": {},
     "output_type": "display_data"
    },
    {
     "data": {
      "image/png": "[encoded data removed]",
      "text/plain": [
       "<Figure size 640x480 with 1 Axes>"
      ]
     },
     "metadata": {},
     "output_type": "display_data"
    }
   ],
   "source": [
    "rmse_opt = [-RMSE_rf,-RMSE_rfo,-RMSE_et,-RMSE_eto,-RMSE_dt,-RMSE_dto]\n",
    "fig = plt.figure(figsize=(5,3))\n",
    "# Creating axes instance\n",
    "fig,ax = plt.subplots() \n",
    "plt.title(\"Optimized Model Performance\")\n",
    "plt.ylabel(\"RMSE\")\n",
    "plt.xlabel(\"Model\")\n",
    "plt.yscale('linear')\n",
    "plt.ylim(0,1.6)\n",
    "ax.boxplot(rmse_opt,showmeans=True)\n",
    "plt.grid(axis='y',linestyle = '--', linewidth = 0.5)\n",
    "ax.set_xticklabels([r'RFR', r'$RFR_{opt}$',\n",
    "                    r'ETR', r'$ETR_{opt}$',\n",
    "                    r'DTR',r'$DTR_{opt}$'])\n",
    "plt.show()"
   ]
  },
  {
   "cell_type": "code",
   "execution_count": 69,
   "metadata": {},
   "outputs": [
    {
     "data": {
      "text/plain": [
       "<Figure size 500x300 with 0 Axes>"
      ]
     },
     "metadata": {},
     "output_type": "display_data"
    },
    {
     "data": {
      "image/png": "[encoded data removed]",
      "text/plain": [
       "<Figure size 640x480 with 1 Axes>"
      ]
     },
     "metadata": {},
     "output_type": "display_data"
    }
   ],
   "source": [
    "scores_opt = [r2_rf,r2_rfc,r2_et,r2_etc,r2_dt,r2_dtc]\n",
    "fig = plt.figure(figsize=(5,3))\n",
    "# Creating axes instance\n",
    "fig,ax = plt.subplots() \n",
    "plt.title(\"Impact of amount of data\")\n",
    "plt.ylabel(\"R-squared\")\n",
    "plt.xlabel(\"Model\")\n",
    "plt.ylim(0.2,1.0)\n",
    "plt.yscale('linear')\n",
    "ax.boxplot(scores_opt,showmeans=True)\n",
    "plt.grid(axis='y',linestyle = '--', linewidth = 0.5)\n",
    "ax.set_xticklabels([r'RFR', r'$RFR_{6mths}$',\n",
    "                    r'ETR', r'$ETR_{6mths}$',\n",
    "                    r'DTR',r'$DTR_{6mths}$'])\n",
    "plt.show()"
   ]
  },
  {
   "cell_type": "code",
   "execution_count": 70,
   "metadata": {},
   "outputs": [
    {
     "data": {
      "text/plain": [
       "<Figure size 500x300 with 0 Axes>"
      ]
     },
     "metadata": {},
     "output_type": "display_data"
    },
    {
     "data": {
      "image/png": "[encoded data removed]",
      "text/plain": [
       "<Figure size 640x480 with 1 Axes>"
      ]
     },
     "metadata": {},
     "output_type": "display_data"
    }
   ],
   "source": [
    "rmse_opt = [-RMSE_rf,-RMSE_rfc,-RMSE_et,-RMSE_etc,-RMSE_dt,-RMSE_dtc]\n",
    "fig = plt.figure(figsize=(5,3))\n",
    "# Creating axes instance\n",
    "fig,ax = plt.subplots() \n",
    "plt.title(\"Impact of Amount of Data\")\n",
    "plt.ylabel(\"RMSE\")\n",
    "plt.xlabel(\"Model\")\n",
    "plt.yscale('linear')\n",
    "plt.ylim(0,1.6)\n",
    "ax.boxplot(rmse_opt,showmeans=True)\n",
    "plt.grid(axis='y',linestyle = '--', linewidth = 0.5)\n",
    "ax.set_xticklabels([r'RFR', r'$RFR_{6mths}$',\n",
    "                    r'ETR', r'$ETR_{6mths}$',\n",
    "                    r'DTR',r'$DTR_{6mths}$'])\n",
    "plt.show()"
   ]
  },
  {
   "cell_type": "code",
   "execution_count": 71,
   "metadata": {},
   "outputs": [],
   "source": [
    "# # define the true objective function\n",
    "# def objective(x, a, b, c):\n",
    "# \treturn a * x + b * x**2 + c"
   ]
  },
  {
   "attachments": {},
   "cell_type": "markdown",
   "metadata": {},
   "source": [
    "STW Calculation"
   ]
  },
  {
   "cell_type": "code",
   "execution_count": 363,
   "metadata": {},
   "outputs": [],
   "source": [
    "# def label_predict(model,test_features):\n",
    "#     predictions = model.predict(test_features)\n",
    "#     return predictions\n",
    "\n",
    "# ydate_pred = label_predict(model_etr_hpov,x_date_c)\n",
    " \n",
    "# dfprog_sog = pd.Series(y_date_c,name=\"sog_act\").to_frame()\n",
    "# dfprog_sog[\"sog_pred\"] = ydate_pred\n",
    "# dfprog_sog[\"gamma\"] = pd.concat([dfdate6tr[\"truenorthcurrentdir\"],df_months6[\"True North Current Direction\"]])\n",
    "# dfprog_sog[\"nwinddir\"] = pd.concat([dfdate6tr[\"truenorthwinddir\"],df_months6[\"True North Wind Direction\"]])\n",
    "\n",
    "# print(dfprog_sog)"
   ]
  },
  {
   "cell_type": "code",
   "execution_count": 364,
   "metadata": {},
   "outputs": [],
   "source": [
    "# dfprog = pd.concat([x_date_c,dfprog_sog],axis=1)\n",
    "# dfprog.head(n=10)"
   ]
  },
  {
   "cell_type": "code",
   "execution_count": 365,
   "metadata": {},
   "outputs": [
    {
     "name": "stdout",
     "output_type": "stream",
     "text": [
      "        sog_act       gamma    nwinddir   sog_pred  sog_pred_rf  sog_pred_dt  \\\n",
      "119   18.998906  184.345879   21.771601  18.378565    18.502608    18.548179   \n",
      "120   19.334278  199.414773   25.671971  18.451394    18.685107    18.548179   \n",
      "121   18.911047  199.442652   32.436488  18.381229    18.547404    18.548179   \n",
      "122   13.854933  189.415252   50.510505  14.118469    13.942330    14.284119   \n",
      "126    9.305198  180.552404   74.157471  10.229631    10.907485     9.363115   \n",
      "...         ...         ...         ...        ...          ...          ...   \n",
      "7413  19.072622  104.966166  110.959927  18.393094    18.294820    18.235824   \n",
      "7414  17.696584   86.330174  126.837339  17.721502    17.628170    18.081634   \n",
      "7415  15.963630   83.486098  119.018621  16.351225    16.571597    17.437601   \n",
      "7418   8.988086   89.745593  140.723377   8.852668     8.643221     8.484998   \n",
      "7419  17.672769   15.792214  143.902554  17.400909    17.420793    17.530308   \n",
      "\n",
      "      sog_pred_mlr  \n",
      "119      17.686435  \n",
      "120      17.769742  \n",
      "121      17.799333  \n",
      "122      19.977842  \n",
      "126      26.956182  \n",
      "...            ...  \n",
      "7413     17.618604  \n",
      "7414     17.468312  \n",
      "7415     17.222086  \n",
      "7418     10.277190  \n",
      "7419     17.545558  \n",
      "\n",
      "[322 rows x 7 columns]\n"
     ]
    }
   ],
   "source": [
    "def label_predict(model,test_features):\n",
    "    predictions = model.predict(test_features)\n",
    "    return predictions\n",
    "\n",
    "# With more data \n",
    "\n",
    "# ydate_pred = label_predict(model_etr_hpov,x_date_c)\n",
    "# ydate_pred_rf = label_predict(model_rfr_hpov,x_date_c)\n",
    "# ydate_pred_dt = label_predict(model_dtr_hpov,x_date_c)\n",
    "# ydate_pred_mlr = label_predict(model_mlr_ftr,x_date_c)\n",
    "# dfprog_sog = pd.Series(y_date_c,name=\"sog_act\").to_frame()\n",
    "# dfprog_sog[\"gamma\"] = pd.concat([dfdate6tr[\"truenorthcurrentdir\"],df_months6[\"True North Current Direction\"]])\n",
    "# dfprog_sog[\"nwinddir\"] = pd.concat([dfdate6tr[\"truenorthwinddir\"],df_months6[\"True North Wind Direction\"]])\n",
    "# dfprog = pd.concat([x_date_c,dfprog_sog],axis=1)\n",
    "# dfprog.head(n=10)\n",
    "\n",
    "# Normal test data\n",
    "\n",
    "ydate_pred = label_predict(model_etr_hpov,x_date)\n",
    "ydate_pred_rf = label_predict(model_rfr_hpov,x_date)\n",
    "ydate_pred_dt = label_predict(model_dtr_hpov,x_date)\n",
    "ydate_pred_mlr = label_predict(model_mlr_ftr,x_date)\n",
    "dfprog_sog = pd.Series(y_date,name=\"sog_act\").to_frame()\n",
    "dfprog_sog[\"gamma\"] = dfdate6tr[\"truenorthcurrentdir\"]\n",
    "dfprog_sog[\"nwinddir\"] = dfdate6tr[\"truenorthwinddir\"]\n",
    "dfprog = pd.concat([x_date,dfprog_sog],axis=1)\n",
    "dfprog.head(n=10)\n",
    "\n",
    "# Global\n",
    "dfprog_sog[\"sog_pred\"] = ydate_pred\n",
    "dfprog_sog[\"sog_pred_rf\"] = ydate_pred_rf\n",
    "dfprog_sog[\"sog_pred_dt\"] = ydate_pred_dt\n",
    "dfprog_sog[\"sog_pred_mlr\"] = ydate_pred_mlr\n",
    "\n",
    "print(dfprog_sog)"
   ]
  },
  {
   "cell_type": "code",
   "execution_count": 366,
   "metadata": {},
   "outputs": [],
   "source": [
    "def sog_corr(sog,gamma,heading,current_speed):\n",
    "    # Conversion of predicted SOG to m/s\n",
    "    vgms = sog/1.9438\n",
    "    rad_gamma = np.deg2rad(gamma)\n",
    "    rad_cog = np.deg2rad(heading)\n",
    "    # Calculation of the predicted x-component of SOG\n",
    "\n",
    "    vgx = vgms * np.sin(rad_cog)\n",
    "    vcx = current_speed * np.sin(rad_gamma)\n",
    "    stw_x = vgx - vcx\n",
    "\n",
    "    # Calculation of the predicted y-component of SOG \n",
    "\n",
    "    vgy = vgms * np.cos(rad_cog)\n",
    "    vcy = current_speed * rad_gamma\n",
    "    stw_y = vgy - vcy\n",
    "\n",
    "    vwms_p = np.sqrt(stw_x**2 + stw_y**2)\n",
    "    stw_pred = vwms_p*1.9438\n",
    "\n",
    "    return stw_pred"
   ]
  },
  {
   "cell_type": "code",
   "execution_count": 367,
   "metadata": {},
   "outputs": [],
   "source": [
    "# Predicted SOG from ET model\n",
    "\n",
    "stw_pred_et = sog_corr(dfprog_sog['sog_pred'],dfprog['gamma'],dfprog['heading'],dfprog['curspeed'])\n",
    "\n",
    "dfprog['stw_pred'] = stw_pred_et"
   ]
  },
  {
   "cell_type": "code",
   "execution_count": 368,
   "metadata": {},
   "outputs": [],
   "source": [
    "# Predicted SOG from RF model\n",
    "\n",
    "stw_pred_rf = sog_corr(dfprog_sog['sog_pred_rf'],dfprog['gamma'],dfprog['heading'],dfprog['curspeed'])\n",
    "\n",
    "dfprog['stw_pred_rf'] = stw_pred_rf"
   ]
  },
  {
   "cell_type": "code",
   "execution_count": 369,
   "metadata": {},
   "outputs": [],
   "source": [
    "# Predicted SOG from DT model\n",
    "\n",
    "stw_pred_dt = sog_corr(dfprog_sog['sog_pred_dt'],dfprog['gamma'],dfprog['heading'],dfprog['curspeed'])\n",
    "\n",
    "dfprog['stw_pred_dt'] = stw_pred_dt"
   ]
  },
  {
   "cell_type": "code",
   "execution_count": 370,
   "metadata": {},
   "outputs": [],
   "source": [
    "# Predicted SOG from MLR model\n",
    "\n",
    "stw_pred_mlr = sog_corr(dfprog_sog['sog_pred_mlr'],dfprog['gamma'],dfprog['heading'],dfprog['curspeed'])\n",
    "\n",
    "dfprog['stw_pred_mlr'] = stw_pred_mlr"
   ]
  },
  {
   "cell_type": "code",
   "execution_count": 371,
   "metadata": {},
   "outputs": [],
   "source": [
    "# Actual SOG\n",
    "\n",
    "stw_pred_act = sog_corr(dfprog_sog['sog_act'],dfprog['gamma'],dfprog['heading'],dfprog['curspeed'])\n",
    "\n",
    "dfprog['stw_act'] = stw_pred_act"
   ]
  },
  {
   "cell_type": "code",
   "execution_count": 372,
   "metadata": {},
   "outputs": [
    {
     "data": {
      "text/html": [
       "<div>\n",
       "<style scoped>\n",
       "    .dataframe tbody tr th:only-of-type {\n",
       "        vertical-align: middle;\n",
       "    }\n",
       "\n",
       "    .dataframe tbody tr th {\n",
       "        vertical-align: top;\n",
       "    }\n",
       "\n",
       "    .dataframe thead th {\n",
       "        text-align: right;\n",
       "    }\n",
       "</style>\n",
       "<table border=\"1\" class=\"dataframe\">\n",
       "  <thead>\n",
       "    <tr style=\"text-align: right;\">\n",
       "      <th></th>\n",
       "      <th>oceantemperature</th>\n",
       "      <th>waveperiod</th>\n",
       "      <th>surftemp</th>\n",
       "      <th>windwaveswellheight</th>\n",
       "      <th>draught</th>\n",
       "      <th>cog</th>\n",
       "      <th>heading</th>\n",
       "      <th>windspeed</th>\n",
       "      <th>curspeed</th>\n",
       "      <th>truewinddir</th>\n",
       "      <th>truecurrentdir</th>\n",
       "      <th>truewavedir</th>\n",
       "      <th>sog_act</th>\n",
       "      <th>gamma</th>\n",
       "      <th>nwinddir</th>\n",
       "      <th>stw_pred</th>\n",
       "      <th>stw_pred_rf</th>\n",
       "      <th>stw_pred_dt</th>\n",
       "      <th>stw_pred_mlr</th>\n",
       "      <th>stw_act</th>\n",
       "    </tr>\n",
       "  </thead>\n",
       "  <tbody>\n",
       "    <tr>\n",
       "      <th>count</th>\n",
       "      <td>322.000000</td>\n",
       "      <td>322.000000</td>\n",
       "      <td>322.000000</td>\n",
       "      <td>322.000000</td>\n",
       "      <td>322.000000</td>\n",
       "      <td>322.000000</td>\n",
       "      <td>322.000000</td>\n",
       "      <td>322.000000</td>\n",
       "      <td>322.000000</td>\n",
       "      <td>322.000000</td>\n",
       "      <td>322.000000</td>\n",
       "      <td>322.000000</td>\n",
       "      <td>322.000000</td>\n",
       "      <td>322.000000</td>\n",
       "      <td>322.000000</td>\n",
       "      <td>322.000000</td>\n",
       "      <td>322.000000</td>\n",
       "      <td>322.000000</td>\n",
       "      <td>322.000000</td>\n",
       "      <td>322.000000</td>\n",
       "    </tr>\n",
       "    <tr>\n",
       "      <th>mean</th>\n",
       "      <td>287.133146</td>\n",
       "      <td>3.400343</td>\n",
       "      <td>287.256948</td>\n",
       "      <td>0.661506</td>\n",
       "      <td>5.282713</td>\n",
       "      <td>197.436423</td>\n",
       "      <td>189.432992</td>\n",
       "      <td>5.832751</td>\n",
       "      <td>0.092478</td>\n",
       "      <td>86.173628</td>\n",
       "      <td>86.811052</td>\n",
       "      <td>96.072486</td>\n",
       "      <td>17.449699</td>\n",
       "      <td>155.282564</td>\n",
       "      <td>193.881748</td>\n",
       "      <td>17.073021</td>\n",
       "      <td>17.068078</td>\n",
       "      <td>17.065425</td>\n",
       "      <td>17.034539</td>\n",
       "      <td>17.493705</td>\n",
       "    </tr>\n",
       "    <tr>\n",
       "      <th>std</th>\n",
       "      <td>6.306975</td>\n",
       "      <td>0.965020</td>\n",
       "      <td>4.797442</td>\n",
       "      <td>0.541832</td>\n",
       "      <td>0.162420</td>\n",
       "      <td>86.327689</td>\n",
       "      <td>88.499255</td>\n",
       "      <td>3.020207</td>\n",
       "      <td>0.068917</td>\n",
       "      <td>62.588681</td>\n",
       "      <td>59.359251</td>\n",
       "      <td>62.354792</td>\n",
       "      <td>3.069944</td>\n",
       "      <td>102.716811</td>\n",
       "      <td>89.816472</td>\n",
       "      <td>2.699292</td>\n",
       "      <td>2.707379</td>\n",
       "      <td>2.746486</td>\n",
       "      <td>2.464927</td>\n",
       "      <td>3.024190</td>\n",
       "    </tr>\n",
       "    <tr>\n",
       "      <th>min</th>\n",
       "      <td>269.606903</td>\n",
       "      <td>1.915993</td>\n",
       "      <td>275.485352</td>\n",
       "      <td>0.073242</td>\n",
       "      <td>4.754639</td>\n",
       "      <td>82.664990</td>\n",
       "      <td>79.551648</td>\n",
       "      <td>0.441768</td>\n",
       "      <td>0.002006</td>\n",
       "      <td>0.565115</td>\n",
       "      <td>1.295289</td>\n",
       "      <td>0.200645</td>\n",
       "      <td>5.224523</td>\n",
       "      <td>0.112383</td>\n",
       "      <td>3.207821</td>\n",
       "      <td>5.338676</td>\n",
       "      <td>5.391370</td>\n",
       "      <td>5.246078</td>\n",
       "      <td>4.304776</td>\n",
       "      <td>5.196163</td>\n",
       "    </tr>\n",
       "    <tr>\n",
       "      <th>25%</th>\n",
       "      <td>285.292786</td>\n",
       "      <td>2.692099</td>\n",
       "      <td>286.832031</td>\n",
       "      <td>0.272528</td>\n",
       "      <td>5.199718</td>\n",
       "      <td>103.569971</td>\n",
       "      <td>101.685445</td>\n",
       "      <td>3.442231</td>\n",
       "      <td>0.043318</td>\n",
       "      <td>24.875738</td>\n",
       "      <td>28.600108</td>\n",
       "      <td>30.508970</td>\n",
       "      <td>16.568861</td>\n",
       "      <td>83.669063</td>\n",
       "      <td>120.064906</td>\n",
       "      <td>16.712165</td>\n",
       "      <td>16.623348</td>\n",
       "      <td>16.659398</td>\n",
       "      <td>17.085945</td>\n",
       "      <td>16.558515</td>\n",
       "    </tr>\n",
       "    <tr>\n",
       "      <th>50%</th>\n",
       "      <td>289.505615</td>\n",
       "      <td>3.160003</td>\n",
       "      <td>289.004578</td>\n",
       "      <td>0.474936</td>\n",
       "      <td>5.290842</td>\n",
       "      <td>193.360899</td>\n",
       "      <td>125.125521</td>\n",
       "      <td>5.528616</td>\n",
       "      <td>0.073482</td>\n",
       "      <td>82.212973</td>\n",
       "      <td>79.271353</td>\n",
       "      <td>102.070984</td>\n",
       "      <td>18.413643</td>\n",
       "      <td>129.304190</td>\n",
       "      <td>193.709354</td>\n",
       "      <td>18.069669</td>\n",
       "      <td>18.116323</td>\n",
       "      <td>18.047426</td>\n",
       "      <td>17.705829</td>\n",
       "      <td>18.394336</td>\n",
       "    </tr>\n",
       "    <tr>\n",
       "      <th>75%</th>\n",
       "      <td>291.391602</td>\n",
       "      <td>3.764453</td>\n",
       "      <td>290.458008</td>\n",
       "      <td>0.788779</td>\n",
       "      <td>5.381292</td>\n",
       "      <td>283.259801</td>\n",
       "      <td>279.238872</td>\n",
       "      <td>7.569939</td>\n",
       "      <td>0.123647</td>\n",
       "      <td>149.107733</td>\n",
       "      <td>146.039105</td>\n",
       "      <td>158.513351</td>\n",
       "      <td>19.421633</td>\n",
       "      <td>249.619550</td>\n",
       "      <td>279.768652</td>\n",
       "      <td>18.652409</td>\n",
       "      <td>18.674156</td>\n",
       "      <td>18.613179</td>\n",
       "      <td>18.054556</td>\n",
       "      <td>19.461596</td>\n",
       "    </tr>\n",
       "    <tr>\n",
       "      <th>max</th>\n",
       "      <td>294.685303</td>\n",
       "      <td>6.291378</td>\n",
       "      <td>292.665649</td>\n",
       "      <td>2.565230</td>\n",
       "      <td>5.657671</td>\n",
       "      <td>319.851509</td>\n",
       "      <td>304.969531</td>\n",
       "      <td>13.386999</td>\n",
       "      <td>0.417155</td>\n",
       "      <td>179.309007</td>\n",
       "      <td>179.405213</td>\n",
       "      <td>179.699225</td>\n",
       "      <td>21.031230</td>\n",
       "      <td>359.450078</td>\n",
       "      <td>357.291804</td>\n",
       "      <td>19.666545</td>\n",
       "      <td>19.707809</td>\n",
       "      <td>19.805261</td>\n",
       "      <td>28.062130</td>\n",
       "      <td>21.800027</td>\n",
       "    </tr>\n",
       "  </tbody>\n",
       "</table>\n",
       "</div>"
      ],
      "text/plain": [
       "       oceantemperature  waveperiod    surftemp  windwaveswellheight  \\\n",
       "count        322.000000  322.000000  322.000000           322.000000   \n",
       "mean         287.133146    3.400343  287.256948             0.661506   \n",
       "std            6.306975    0.965020    4.797442             0.541832   \n",
       "min          269.606903    1.915993  275.485352             0.073242   \n",
       "25%          285.292786    2.692099  286.832031             0.272528   \n",
       "50%          289.505615    3.160003  289.004578             0.474936   \n",
       "75%          291.391602    3.764453  290.458008             0.788779   \n",
       "max          294.685303    6.291378  292.665649             2.565230   \n",
       "\n",
       "          draught         cog     heading   windspeed    curspeed  \\\n",
       "count  322.000000  322.000000  322.000000  322.000000  322.000000   \n",
       "mean     5.282713  197.436423  189.432992    5.832751    0.092478   \n",
       "std      0.162420   86.327689   88.499255    3.020207    0.068917   \n",
       "min      4.754639   82.664990   79.551648    0.441768    0.002006   \n",
       "25%      5.199718  103.569971  101.685445    3.442231    0.043318   \n",
       "50%      5.290842  193.360899  125.125521    5.528616    0.073482   \n",
       "75%      5.381292  283.259801  279.238872    7.569939    0.123647   \n",
       "max      5.657671  319.851509  304.969531   13.386999    0.417155   \n",
       "\n",
       "       truewinddir  truecurrentdir  truewavedir     sog_act       gamma  \\\n",
       "count   322.000000      322.000000   322.000000  322.000000  322.000000   \n",
       "mean     86.173628       86.811052    96.072486   17.449699  155.282564   \n",
       "std      62.588681       59.359251    62.354792    3.069944  102.716811   \n",
       "min       0.565115        1.295289     0.200645    5.224523    0.112383   \n",
       "25%      24.875738       28.600108    30.508970   16.568861   83.669063   \n",
       "50%      82.212973       79.271353   102.070984   18.413643  129.304190   \n",
       "75%     149.107733      146.039105   158.513351   19.421633  249.619550   \n",
       "max     179.309007      179.405213   179.699225   21.031230  359.450078   \n",
       "\n",
       "         nwinddir    stw_pred  stw_pred_rf  stw_pred_dt  stw_pred_mlr  \\\n",
       "count  322.000000  322.000000   322.000000   322.000000    322.000000   \n",
       "mean   193.881748   17.073021    17.068078    17.065425     17.034539   \n",
       "std     89.816472    2.699292     2.707379     2.746486      2.464927   \n",
       "min      3.207821    5.338676     5.391370     5.246078      4.304776   \n",
       "25%    120.064906   16.712165    16.623348    16.659398     17.085945   \n",
       "50%    193.709354   18.069669    18.116323    18.047426     17.705829   \n",
       "75%    279.768652   18.652409    18.674156    18.613179     18.054556   \n",
       "max    357.291804   19.666545    19.707809    19.805261     28.062130   \n",
       "\n",
       "          stw_act  \n",
       "count  322.000000  \n",
       "mean    17.493705  \n",
       "std      3.024190  \n",
       "min      5.196163  \n",
       "25%     16.558515  \n",
       "50%     18.394336  \n",
       "75%     19.461596  \n",
       "max     21.800027  "
      ]
     },
     "execution_count": 372,
     "metadata": {},
     "output_type": "execute_result"
    }
   ],
   "source": [
    "dfprog.describe()"
   ]
  },
  {
   "attachments": {},
   "cell_type": "markdown",
   "metadata": {},
   "source": [
    "Integration of Holtrop Mennen Estimations to calculate Resistance and consequently FOC"
   ]
  },
  {
   "cell_type": "code",
   "execution_count": 373,
   "metadata": {},
   "outputs": [],
   "source": [
    "# Ship Information, that are readily available in ship specification\n",
    "\n",
    "loa = 158 # ship overall length\n",
    "lwl = 144.8 # ship waterline length, m\n",
    "lpp = 0.97*lwl # ship perpendicular length , m, according to information\n",
    "B = 24.5 # Ship breadth, m\n",
    "depth = 13.8 # Ship depth. m\n",
    "T_n = 5.85 # Nominal max draught , m\n",
    "# T_n = 5.7 # Nominal design draught , m\n",
    "dwt = 5110 # ship dead weight , t\n",
    "V_n = 17.7 # ship design speed, knots\n",
    "\n",
    "# Environmental Constants\n",
    "\n",
    "g = 9.805 # gravity, kg/ms^2 \n",
    "rho_sea = 1025 # kg/m3\n",
    "nu_sea = 0.00000118 # Dynamic viscosity of sea m^2/s\n",
    "rho_air = 1.25 # density air \n",
    "\n",
    "# Any other additional ship parameters beyond here are approximated based on literature review."
   ]
  },
  {
   "attachments": {},
   "cell_type": "markdown",
   "metadata": {},
   "source": [
    "Switch between actual and predicted here"
   ]
  },
  {
   "cell_type": "code",
   "execution_count": 374,
   "metadata": {},
   "outputs": [
    {
     "name": "stdout",
     "output_type": "stream",
     "text": [
      "Froude Number 0.2454\n",
      "C_b 0.6451\n"
     ]
    }
   ],
   "source": [
    "# Convert STW to m/s, stw with only current correction\n",
    "\n",
    "# dfprog['stw_pred_ms'] = dfprog['stw_pred'] / 1.94384\n",
    "\n",
    "# Switch between actual and predicted here \n",
    "\n",
    "dfprog['stw_pred_ms'] = dfprog['stw_act'] / 1.94384\n",
    "\n",
    "# Calculation for Block coefficient,C_b, according to Schneekluth and Bertram 1998\n",
    "# Then Froude number is required\n",
    "\n",
    "V_n = 17.7/1.94384\n",
    "Fr_n = V_n / math.sqrt(g*lpp)\n",
    "print(f\"Froude Number {Fr_n:0.4f}\")\n",
    "\n",
    "C_b = -4.22 + 27.8*math.sqrt(Fr_n) - 39.1*Fr_n + 46.6*(Fr_n)**3\n",
    "print(f\"C_b {C_b:0.4f}\")"
   ]
  },
  {
   "cell_type": "code",
   "execution_count": 375,
   "metadata": {},
   "outputs": [
    {
     "name": "stdout",
     "output_type": "stream",
     "text": [
      "C_m 0.9741\n",
      "C_p 0.6623\n"
     ]
    }
   ],
   "source": [
    "# calculation for midship section coefficient, C_m according to Jensen from Birk\n",
    "\n",
    "C_m = 1 / (1+(1-C_b)**3.5)\n",
    "# C_m = 0.977 + 0.085*(C_b-0.6) # Charcalis\n",
    "print(f\"C_m {C_m:0.4f}\")\n",
    "\n",
    "# prismatic coefficient C_p can be calculated according to Biran\n",
    "\n",
    "C_p = C_b/C_m \n",
    "print(f\"C_p {C_p:0.4f}\")"
   ]
  },
  {
   "cell_type": "code",
   "execution_count": 376,
   "metadata": {},
   "outputs": [
    {
     "name": "stdout",
     "output_type": "stream",
     "text": [
      "dsp 13388.8120 m^3\n"
     ]
    }
   ],
   "source": [
    "# Displacement calculation according to Barras \n",
    "# Use approximate value cd=0.35 according to Barras\n",
    "# Readjust displacement to standard formula\n",
    "\n",
    "# C_d = 0.35\n",
    "# dsp = dwt/C_d # m^3\n",
    "\n",
    "dsp = C_b * lwl * B * T_n\n",
    "\n",
    "print(f\"dsp {dsp:0.4f} m^3\")"
   ]
  },
  {
   "cell_type": "code",
   "execution_count": 377,
   "metadata": {},
   "outputs": [
    {
     "name": "stdout",
     "output_type": "stream",
     "text": [
      "c14 1.1100\n"
     ]
    }
   ],
   "source": [
    "# coefficient c14 to account for stern shape according to holtrop mennen\n",
    "\n",
    "C_stern = 10 # assume u shaped stern\n",
    "c14 = 1 + 0.011*C_stern \n",
    "print(f\"c14 {c14:0.4f}\")"
   ]
  },
  {
   "cell_type": "code",
   "execution_count": 378,
   "metadata": {},
   "outputs": [
    {
     "name": "stdout",
     "output_type": "stream",
     "text": [
      "lr 48.8488 m\n"
     ]
    }
   ],
   "source": [
    "# Calculate length of run according to holtrop mennen\n",
    "\n",
    "# lcb = -2/100 # according to Barras\n",
    "lcb = -(0.44*Fr_n - 0.094) # according to Guldhammer and Harvald\n",
    "\n",
    "# L in holtrop mennen is lwl\n",
    "\n",
    "lr = lwl*(1-C_p+(0.06*C_p*lcb/(4*C_p-1)))\n",
    "print(f\"lr {lr:0.4f} m\")"
   ]
  },
  {
   "cell_type": "code",
   "execution_count": 379,
   "metadata": {},
   "outputs": [
    {
     "name": "stdout",
     "output_type": "stream",
     "text": [
      "k1_const 1.2102\n"
     ]
    }
   ],
   "source": [
    "# now the (1+k1) can be calculated\n",
    "\n",
    "k1a = 0.487118*c14*(B/lwl)**1.06806\n",
    "k1b = (dfprog['draught']/lwl)**0.46106\n",
    "k1c = (lwl/lr)**0.121563\n",
    "k1d = (lwl**3/dsp)**0.36486\n",
    "k1e = (1-C_p)**-0.604247\n",
    "\n",
    "dfprog['k1_const'] = 0.93 + k1a*k1b*k1c*k1d*k1e\n",
    "print(f\"k1_const {dfprog['k1_const'].mean():0.4f}\")\n"
   ]
  },
  {
   "cell_type": "code",
   "execution_count": 380,
   "metadata": {},
   "outputs": [
    {
     "name": "stdout",
     "output_type": "stream",
     "text": [
      "Mean Reynold Number 1104352782.16\n",
      "Mean Coefficient of friction 0.000919\n"
     ]
    }
   ],
   "source": [
    "# Calculate Reynold number and Coefficient of Friction C_f. Here, the C_f will be dynamic and depend on the velocity of the ship\n",
    "\n",
    "dfprog['Re'] =( dfprog['stw_pred_ms'] * lwl ) / nu_sea\n",
    "dfprog['C_f'] = 0.075 / (np.log10(dfprog['Re']-2)**2)\n",
    "\n",
    "print(f\"Mean Reynold Number {dfprog['Re'].mean():0.2f}\")\n",
    "print(f\"Mean Coefficient of friction {dfprog['C_f'].mean():0.6f}\")"
   ]
  },
  {
   "cell_type": "code",
   "execution_count": 381,
   "metadata": {},
   "outputs": [
    {
     "name": "stdout",
     "output_type": "stream",
     "text": [
      "C_wp 0.7634\n",
      "A_m 143.93 m^2\n",
      "A_t 7.34 m^2\n",
      "A_bt 12.23 m^2\n",
      "S_bh 3843.36 m^2\n"
     ]
    }
   ],
   "source": [
    "# Calculate the appendage area of bare hull S_bh\n",
    "# Formula according to Holtrop Mennen\n",
    "\n",
    "# Calculate the waterplane area coefficient \n",
    "# Formula according to Schneekluth and Bertram\n",
    "\n",
    "C_wp = (1+2*C_b)/3\n",
    "print(f\"C_wp {C_wp:0.4f}\")\n",
    "\n",
    "# Calculate transverse bulb area A_bt, Transom area A_t and immersed midship section area A_m according to Kim 2019\n",
    "\n",
    "# dfprog['A_m'] = B*dfprog['draught']*C_m\n",
    "dfprog['A_m'] = dsp/(lpp*C_p)\n",
    "dfprog['A_t'] = 0.051 * dfprog['A_m']\n",
    "dfprog['A_bt'] = 0.085*dfprog['A_m'] # From approximation of Kracht78, Similar to Charcalis\n",
    "# dfprog['A_bt'] = 0.08*dfprog['A_m'] # From approximation of Kracht78, Similar to Charcalis\n",
    "print(f\"A_m {dfprog['A_m'].mean():0.2f} m^2\")\n",
    "print(f\"A_t {dfprog['A_t'].mean():0.2f} m^2\")\n",
    "print(f\"A_bt {dfprog['A_bt'].mean():0.2f} m^2\")\n",
    "\n",
    "dfprog['sbh_a'] = lwl*(2*dfprog['draught']+B)*math.sqrt(C_m)\n",
    "sbh_b = 0.453\n",
    "sbh_c = 0.4425*C_b\n",
    "sbh_d = 0.2862*C_m\n",
    "dfprog['sbh_e'] = 0.003467*(B/dfprog['draught'])\n",
    "sbh_f = 0.3696*C_wp\n",
    "dfprog['sbh_g'] = 2.38*dfprog['A_bt']/C_b\n",
    "\n",
    "dfprog['S_bh'] = dfprog['sbh_a']*(sbh_b+sbh_c-sbh_d+dfprog['sbh_e']+sbh_f)+dfprog['sbh_g']\n",
    "\n",
    "print(f\"S_bh {dfprog['S_bh'].mean():0.2f} m^2\")"
   ]
  },
  {
   "cell_type": "code",
   "execution_count": 382,
   "metadata": {},
   "outputs": [
    {
     "name": "stdout",
     "output_type": "stream",
     "text": [
      "Mean STW 17.07 kt\n",
      "Frictional Resistance 181741.13 N\n"
     ]
    }
   ],
   "source": [
    "# Calculate R_f\n",
    "\n",
    "dfprog['R_f'] = 0.5 * rho_sea * (dfprog['stw_pred_ms'])**2 * dfprog['C_f'] * dfprog['S_bh'] * dfprog['k1_const']\n",
    "\n",
    "print(f\"Mean STW {dfprog['stw_pred'].mean():0.2f} kt\")\n",
    "print(f\"Frictional Resistance {dfprog['R_f'].mean():0.2f} N\")"
   ]
  },
  {
   "cell_type": "code",
   "execution_count": 383,
   "metadata": {},
   "outputs": [
    {
     "name": "stdout",
     "output_type": "stream",
     "text": [
      "S_app between 124.51 and 200.96 according to Hollenbach\n",
      "Wetted area of hull is 3843.36\n",
      "(1+k2) equivalent 1.17\n",
      "Total Appendage area is 155.23\n",
      "Friction due to bow thrusters 13688.21 N\n",
      "Mean STW 17.07 kt\n",
      "Appendage Friction 34486.04 N\n"
     ]
    }
   ],
   "source": [
    "# Calculate resistance due to appendage\n",
    "\n",
    "# Assume S_app\n",
    "# Taken from Holtrop Mennen worked example\n",
    "# S_app = 50 # m^2 \n",
    "\n",
    "# Calculation of appendage area according to Hollenbach method, the formula is for twin screw ship\n",
    "\n",
    "# Lower limit\n",
    "S_app_lo = dfprog['S_bh'].mean()*(0.028+0.01*math.exp(-(lpp*T_n)/1000))\n",
    "\n",
    "# Upper limit\n",
    "S_app_hi = dfprog['S_bh'].mean()*(0.0325+0.045*math.exp(-(lpp*T_n)/1000))\n",
    "\n",
    "print(f\"S_app between {S_app_lo:.02f} and {S_app_hi:.02f} according to Hollenbach\")\n",
    "\n",
    "# The following appendage area are scaled from the picture of the ship\n",
    "# Constant k here means (1+k_2) !\n",
    "\n",
    "D_shaft = 0.55 # m, approx\n",
    "l_shaft = 13.54 # m, approx\n",
    "\n",
    "S_app_shaft = math.pi * D_shaft * l_shaft\n",
    "k2_shaft = 2   \n",
    "\n",
    "h_rudder = 4.06 #m, approx\n",
    "B_rudder = 1.99 #m, approx\n",
    "S_app_rudder = 2 * h_rudder * B_rudder #m, two side\n",
    "k2_rudder = 3\n",
    "\n",
    "h_skeg = 4.41 #m, approx\n",
    "l_skeg = 26.23 #m, approx\n",
    "S_app_skeg =  h_skeg * l_skeg #two side\n",
    "k2_skeg = 0.75\n",
    "\n",
    "S_app = S_app_shaft + S_app_rudder + S_app_skeg\n",
    "\n",
    "k2_const = (k2_shaft*S_app_shaft + k2_rudder*S_app_rudder + k2_skeg*S_app_skeg)/S_app\n",
    "\n",
    "print(f\"Wetted area of hull is {dfprog['S_bh'].mean():0.2f}\")\n",
    "print(f\"(1+k2) equivalent {k2_const:0.2f}\")\n",
    "print(f\"Total Appendage area is {S_app:0.2f}\")\n",
    "# from holtrop mennen, take case of twin screw\n",
    "# k2_const = 2.8\n",
    "\n",
    "# Add resistance due to Bow Thrusters\n",
    "\n",
    "d_th = 2.15 #m, approx\n",
    "\n",
    "# Use formula from Hollenach\n",
    "C_dth = 0.003 + 0.003*((10*d_th/T_n)-1)\n",
    "# C_dth = 0.003 # The picture shows that the thruster are fairly parallel to midship area\n",
    "# There are two bow thruster in this ship\n",
    "dfprog['R_th'] = rho_sea*dfprog['stw_pred_ms']**2*math.pi*d_th**2*C_dth\n",
    "print(f\"Friction due to bow thrusters {dfprog['R_th'].mean():0.2f} N\")\n",
    "\n",
    "dfprog['R_app'] = (0.5 * rho_sea * (dfprog['stw_pred_ms'])**2 * (dfprog['C_f']) * S_app *k2_const) + 2*dfprog['R_th']\n",
    "print(f\"Mean STW {dfprog['stw_pred'].mean():0.2f} kt\")\n",
    "print(f\"Appendage Friction {dfprog['R_app'].mean():0.2f} N\")"
   ]
  },
  {
   "cell_type": "code",
   "execution_count": 384,
   "metadata": {},
   "outputs": [
    {
     "name": "stdout",
     "output_type": "stream",
     "text": [
      "Ratio check to ensure correct formula is used for Holtrop Mennen\n",
      "B/lwl = 0.17\n",
      "lwl^3/displacemt = 226.76\n",
      "C_p = 0.6623\n",
      "Mean STW 17.07 kt\n",
      "Wave resistance 129190.46 N\n"
     ]
    }
   ],
   "source": [
    "# Calculate wave-making and wave-breaking resistance\n",
    "\n",
    "print(\"Ratio check to ensure correct formula is used for Holtrop Mennen\")\n",
    "print(f\"B/lwl = {B/lwl:0.2f}\")\n",
    "print(f\"lwl^3/displacemt = {lwl**3/dsp:0.2f}\")\n",
    "print(f\"C_p = {C_p:0.4f}\")\n",
    "\n",
    "\n",
    "c7 = B/lwl\n",
    "T_fwd = dfprog['draught'] # See reasoning from Rakke16 \n",
    "h_b = 0.4*T_n # must not exceed 0.6 T_f, here T_n = T_f (design), reasong and coefficient value taken from Rakke\n",
    "\n",
    "# All formulas here are listed by Holtrop Mennen\n",
    "\n",
    "dfprog['c3'] = 0.56 * dfprog['A_bt']**1.5 / (B*dfprog['draught']*(0.31*np.sqrt(dfprog['A_bt'])+T_fwd-h_b))\n",
    "c2 = np.exp(-1.89*np.sqrt(dfprog['c3']))\n",
    "dfprog['c5'] = 1 - 0.8*(dfprog['A_t']/(B*dfprog['draught']*C_m))\n",
    "lambda_const = (1.446 * C_p) - 0.03*(lwl/B)\n",
    "c16 = 8.07981*C_p - 13.8673*C_p**2 + 6.984388*C_p**3\n",
    "dfprog['m_1'] = 0.0140407 * (lwl/dfprog['draught']) - 1.75254*(dsp**(1/3)/lwl) -  4.79323*(B/lwl) - c16\n",
    "c15 = -1.69385\n",
    "\n",
    "# Use dynamic Froude here to refect the actual resistance due to ship movement \n",
    "\n",
    "dfprog['Fr_n'] = dfprog['stw_pred_ms'] / math.sqrt(g*lpp)\n",
    "# Updated formula use m_4\n",
    "dfprog['m_4'] = 0.4 * c15 * np.exp(-0.034*dfprog['Fr_n']**-3.29)\n",
    "\n",
    "i_e = 1 + 89*math.exp(-(lwl/B)**0.80856*(1-C_wp)**0.30484*(1-C_p-0.0225*lcb)**0.6367*(lr/B)**0.34574*((100*dsp)/lwl**3)**0.16302)\n",
    "dfprog['c1'] = 2223105 * c7**3.78613 * (dfprog['draught']/B)**1.07961*(90-i_e)**-1.37565\n",
    "d = -0.9\n",
    "\n",
    "# Use updated formula with m4\n",
    "\n",
    "dfprog['R_w'] = dfprog['c1']*c2*dfprog['c5']*dsp*g*rho_sea*np.exp(dfprog['m_1']*dfprog['Fr_n']**d+dfprog['m_4']*np.cos(lambda_const*dfprog['Fr_n']**-2))\n",
    "\n",
    "print(f\"Mean STW {dfprog['stw_pred'].mean():0.2f} kt\")\n",
    "print(f\"Wave resistance {dfprog['R_w'].mean():0.2f} N\")"
   ]
  },
  {
   "cell_type": "code",
   "execution_count": 385,
   "metadata": {},
   "outputs": [
    {
     "name": "stdout",
     "output_type": "stream",
     "text": [
      "Emergence of bulb Pb 1.1150\n",
      "Immersion Froude number Fn_i 1.56\n",
      "Mean STW 17.07 kt\n",
      "Resistance due to bulbous bow 4939.05 N\n"
     ]
    }
   ],
   "source": [
    "# Calculate Resistance due to Bulbous Bow\n",
    "# Calculate effect of forward sinkage h_f and local wave height at bow h_w\n",
    "\n",
    "h_f = C_p * C_m * ((B*T_n)/lwl) * (136-316-3*dfprog['Fr_n'])*dfprog['Fr_n']**3\n",
    "h_w = (i_e * dfprog['stw_pred_ms']**2) / (400*g)\n",
    "\n",
    "P_b = 0.56*np.sqrt(dfprog['A_bt'])/(T_fwd-1.5*h_b)\n",
    "dfprog['Fn_i'] = dfprog['stw_pred_ms'] / np.sqrt(g*(T_fwd-h_b-0.25*np.sqrt(dfprog['A_bt']))+0.15*dfprog['stw_pred_ms']**2)\n",
    "# Updated Fn_i\n",
    "# dfprog['Fn_i'] = dfprog['stw_pred_ms'] / np.sqrt(g*(T_fwd-h_b-0.25*np.sqrt(dfprog['A_bt'])+h_f+h_w))\n",
    "dfprog['R_b'] = 0.11 * np.exp(-3*P_b**-2)*dfprog['Fn_i']**3*dfprog['A_bt']**1.5*rho_sea*g/(1+dfprog['Fn_i']**2)\n",
    "# Update R_b\n",
    "# dfprog['R_b'] = 0.11 * rho_sea * g * np.sqrt(dfprog['A_bt'])**3 * ((dfprog['Fn_i']**3)/(1 + dfprog['Fn_i']**2)) * np.exp(-3*P_b**-2)\n",
    "\n",
    "print(f\"Emergence of bulb Pb {P_b.mean():0.4f}\")\n",
    "print(f\"Immersion Froude number Fn_i {dfprog['Fn_i'].mean():0.2f}\")\n",
    "print(f\"Mean STW {dfprog['stw_pred'].mean():0.2f} kt\")\n",
    "print(f\"Resistance due to bulbous bow {dfprog['R_b'].mean():0.2f} N\")"
   ]
  },
  {
   "cell_type": "code",
   "execution_count": 386,
   "metadata": {},
   "outputs": [
    {
     "name": "stdout",
     "output_type": "stream",
     "text": [
      "Froude for Transom 4.9305\n",
      "Mean STW 17.07 kt\n",
      "Resistance due to transom 4951.12 N\n"
     ]
    }
   ],
   "source": [
    "#Calculate Transom Resistance \n",
    "\n",
    "dfprog['Fn_tr'] = dfprog['stw_pred_ms'] / np.sqrt(2*g*dfprog['A_t']/(B+(B*C_wp)))\n",
    "print(f\"Froude for Transom {dfprog['Fn_tr'].mean():0.4f}\")\n",
    "\n",
    "# Use condition to calculate Froude due to transom\n",
    "\n",
    "cond_Fn_tr = [dfprog['Fn_tr'] < 5 ]\n",
    "cond_c6 = [0.2*(1-0.2*dfprog[('Fn_tr')])]\n",
    "\n",
    "dfprog['c6'] = np.select(cond_Fn_tr,cond_c6,0)\n",
    "dfprog['R_tr'] = 0.5*rho_sea*10**2*dfprog['A_t']*dfprog['c6']\n",
    "print(f\"Mean STW {dfprog['stw_pred'].mean():0.2f} kt\")\n",
    "print(f\"Resistance due to transom {dfprog['R_tr'].mean():0.2f} N\")"
   ]
  },
  {
   "cell_type": "code",
   "execution_count": 387,
   "metadata": {},
   "outputs": [
    {
     "data": {
      "image/png": "[encoded data removed]",
      "text/plain": [
       "<Figure size 640x480 with 1 Axes>"
      ]
     },
     "metadata": {},
     "output_type": "display_data"
    }
   ],
   "source": [
    "R_tr = dfprog['R_tr']\n",
    "R_tr.hist()\n",
    "plt.title(\"Transom Resistance\")\n",
    "plt.show()"
   ]
  },
  {
   "cell_type": "code",
   "execution_count": 388,
   "metadata": {},
   "outputs": [
    {
     "name": "stdout",
     "output_type": "stream",
     "text": [
      "C_a 0.0002698825982860096\n",
      "Mean STW 17.07 kt\n",
      "Correlation allowance resistance 46129.08 N\n"
     ]
    }
   ],
   "source": [
    "# Model ship correlation resistance\n",
    "\n",
    "# print(\"Ratio check to ensure correct formula is used for Holtrop Mennen\")\n",
    "\n",
    "cond_Tf_lwl = [(T_fwd/lwl) <= 0.04 ]\n",
    "cond_c4 = [T_fwd/lwl]\n",
    "dfprog['c4'] = np.select(cond_Tf_lwl,cond_c4,0.04)\n",
    "\n",
    "C_a = 0.00546*(lwl+100)**-0.16 - 0.002 + 0.003*math.sqrt(lwl/7.5)*C_b**4*c2*(0.04-dfprog ['c4'])\n",
    "\n",
    "dfprog['R_a'] = 0.5*rho_sea*dfprog['stw_pred_ms']**2*C_a*(dfprog['S_bh']+S_app)\n",
    "\n",
    "print(f\"C_a {C_a.mean()}\")\n",
    "print(f\"Mean STW {dfprog['stw_pred'].mean():0.2f} kt\")\n",
    "print(f\"Correlation allowance resistance {dfprog['R_a'].mean():0.2f} N\")\n"
   ]
  },
  {
   "cell_type": "markdown",
   "metadata": {},
   "source": [
    "Calculation of Wind speed <br>\n",
    "- There are two formula, one from Holtrop another one from Blendermann, Blendermann seems to be more reasonable as it considers the wind direction"
   ]
  },
  {
   "cell_type": "code",
   "execution_count": 389,
   "metadata": {},
   "outputs": [
    {
     "name": "stdout",
     "output_type": "stream",
     "text": [
      "Mean wind resistance Holtrop Mennen 13565.83 N\n"
     ]
    }
   ],
   "source": [
    "# Calculate using Holtrop Mennen\n",
    "A_f = 325.3\n",
    "dfprog['R_aa_hm'] = 0.5 * rho_air * dfprog['stw_pred_ms']**2 * 0.8 * A_f\n",
    "print(f\"Mean wind resistance Holtrop Mennen {dfprog['R_aa_hm'].mean():0.2f} N\")"
   ]
  },
  {
   "cell_type": "code",
   "execution_count": 390,
   "metadata": {},
   "outputs": [
    {
     "name": "stdout",
     "output_type": "stream",
     "text": [
      "Mean wind resistance Blendermann 12026.31N\n"
     ]
    }
   ],
   "source": [
    "# Calculate Additional Resistance, consist of wind resistance and wave resistance\n",
    "# Calculate Apparent velocities and Apparent Angle \n",
    "\n",
    "dfprog['V_aw'] = np.sqrt(dfprog['windspeed']**2 + dfprog['stw_pred_ms']**2 + 2*dfprog['windspeed']*dfprog['stw_pred_ms']*np.cos(np.deg2rad(dfprog['truewinddir'])))\n",
    "\n",
    "dfprog['awa_c1'] = (dfprog['windspeed']/dfprog['V_aw'])*np.sin(np.deg2rad(dfprog['truewinddir']))\n",
    "\n",
    "# Epsilon is Apparent Wind Angle AWA\n",
    "\n",
    "dfprog['epsilon'] = np.rad2deg(np.arcsin(dfprog['awa_c1']))\n",
    "\n",
    "# Values and method from Blendermann\n",
    "\n",
    "C_DlAf = 0.45\n",
    "A_f = 325.3\n",
    "A_l = 2125.8\n",
    "C_Dt = 0.9\n",
    "delta = 0.8\n",
    "C_Dl = C_DlAf * A_f / A_l\n",
    "L_bwl = 43.75 # m, acquired from picture\n",
    "\n",
    "dfprog['Raa_const1'] = (rho_air/2) * dfprog['V_aw']**2 * A_l * C_Dl\n",
    "dfprog['Raa_const2'] = np.cos(np.deg2rad(dfprog['epsilon']))\n",
    "dfprog['Raa_const3'] = 1 - (delta/2) * ((1-(C_Dl/C_Dt))*(np.sin(np.deg2rad(2*dfprog['epsilon'])))**2)\n",
    "\n",
    "dfprog['R_aa'] = dfprog['Raa_const1'] * dfprog['Raa_const2'] / dfprog['Raa_const3'] \n",
    "\n",
    "print(f\"Mean wind resistance Blendermann {dfprog['R_aa'].mean():0.2f}N\")"
   ]
  },
  {
   "cell_type": "code",
   "execution_count": 391,
   "metadata": {},
   "outputs": [
    {
     "data": {
      "image/png": "[encoded data removed]",
      "text/plain": [
       "<Figure size 1000x400 with 2 Axes>"
      ]
     },
     "metadata": {},
     "output_type": "display_data"
    }
   ],
   "source": [
    "fig, axes = plt.subplots(ncols=2, figsize=(10, 4), sharey=True)\n",
    "plt.sca(axes[0])\n",
    "R_aa_hm = dfprog['R_aa_hm']\n",
    "R_aa_hm.hist()\n",
    "plt.title(\"Holtrop Mennen Wind Resistance\")\n",
    "plt.sca(axes[1])\n",
    "R_aa = dfprog['R_aa']\n",
    "R_aa.hist()\n",
    "plt.title(\"Blendermann Wind Resistance\")\n",
    "plt.ylabel(\"\")\n",
    "plt.show()"
   ]
  },
  {
   "cell_type": "code",
   "execution_count": 392,
   "metadata": {},
   "outputs": [
    {
     "name": "stdout",
     "output_type": "stream",
     "text": [
      "Mean wave resistance STAWAVE-1 109.71 N\n"
     ]
    }
   ],
   "source": [
    "# Calculate Wave Resistance according to STAWAVE-1\n",
    "\n",
    "Rawl = 1/16 * rho_sea * g * dfprog['windwaveswellheight']**2 * math.sqrt(B/L_bwl)\n",
    "\n",
    "condwave = [dfprog['truewavedir']<=45]\n",
    "choicewave = [Rawl]\n",
    "\n",
    "dfprog['R_awl'] = np.select(condwave,choicewave,0)\n",
    "\n",
    "print(f\"Mean wave resistance STAWAVE-1 {dfprog['R_awl'].mean():0.2f} N\")"
   ]
  },
  {
   "cell_type": "code",
   "execution_count": 393,
   "metadata": {},
   "outputs": [],
   "source": [
    "# Calculate total Resistance\n",
    "\n",
    "dfprog['R_tot'] = dfprog['R_f'] + dfprog['R_app'] + dfprog['R_w'] + dfprog['R_b'] + dfprog['R_a']  + dfprog['R_aa'] + dfprog['R_awl'] + dfprog['R_tr']\n",
    "# dfprog['R_tot'] = dfprog['R_f'] + dfprog['R_app'] + dfprog['R_w'] + dfprog['R_b'] + dfprog['R_a']  + dfprog['R_aa_hm'] + dfprog['R_awl']\n",
    "\n",
    "dfprog['R_tot'] = dfprog['R_tot'] / 1e3\n",
    "\n",
    "df_prog=dfprog.drop(['C_f','Re','Fn_i'],axis=1)"
   ]
  },
  {
   "cell_type": "code",
   "execution_count": 394,
   "metadata": {},
   "outputs": [
    {
     "name": "stdout",
     "output_type": "stream",
     "text": [
      "Total Efficiency 0.767 N\n"
     ]
    }
   ],
   "source": [
    "# Calculate Efficiencies\n",
    "\n",
    "# Diameter value for ship estimated from Bertram \n",
    "\n",
    "# D = 0.215*16 #m \n",
    "# Revised D, 08.07.23\n",
    "D = 4 # m, from flyer\n",
    "\n",
    "# Update C_v formula\n",
    "\n",
    "dfprog['C_v'] = (dfprog['k1_const']*dfprog['R_f'] + dfprog['R_app'] + dfprog['R_a']) / (0.5*rho_sea*dfprog['stw_pred_ms']**2*(dfprog['S_bh']+S_app))\n",
    "dfprog['w'] = 0.3095 * C_b + 10*dfprog['C_v']*C_b - (0.23*D)/np.sqrt(B*dfprog['draught']) \n",
    "dfprog['t'] = 0.325*C_b - 0.1885*D/np.sqrt(B*dfprog['draught'])\n",
    "dfprog['eff_h'] = (1-dfprog['t']) / (1-dfprog['w'])\n",
    "dfprog['eff_r'] = 0.9737 + 0.111*(C_p - 0.225*lcb) - 0.06325*lcb\n",
    "dfprog['eff_s'] = 0.99 # Set according to holtrop mennen and man\n",
    "dfprog['eff_o'] = 0.75 # Approximation from Wageningen Line from Breslin94, since Holtrop perform their measurement in Wageningen basin \n",
    "\n",
    "dfprog['eff_tot'] = dfprog['eff_h']* dfprog['eff_r']* dfprog['eff_s']*dfprog['eff_o'] # consider sea margin\n",
    "\n",
    "print(f\"Total Efficiency {dfprog['eff_tot'].mean():0.3f} N\")"
   ]
  },
  {
   "cell_type": "code",
   "execution_count": 395,
   "metadata": {},
   "outputs": [
    {
     "name": "stdout",
     "output_type": "stream",
     "text": [
      "Average Power 5122.257 kW\n",
      "Max Power 11293.103 kW\n",
      "Average Fuel Consumption per hour 0.868 T\n"
     ]
    }
   ],
   "source": [
    "# Calculate power and FOC\n",
    "\n",
    "dfprog['P_b'] = (dfprog['R_tot'] * dfprog['stw_pred_ms'])/dfprog['eff_tot'] # in kW\n",
    "SFOC = 169.4 # g/kWh, taken from datasheet Waertsilla 8V31\n",
    "dfprog['FOC'] = (dfprog['P_b'] * SFOC)/1e6 # get FOC t/h\n",
    "\n",
    "print(f\"Average Power {dfprog['P_b'].mean():0.3f} kW\")\n",
    "print(f\"Max Power {dfprog['P_b'].max():0.3f} kW\")\n",
    "print(f\"Average Fuel Consumption per hour {dfprog['FOC'].mean():0.3f} T\")"
   ]
  },
  {
   "cell_type": "code",
   "execution_count": 396,
   "metadata": {},
   "outputs": [
    {
     "name": "stdout",
     "output_type": "stream",
     "text": [
      "<class 'pandas.core.frame.DataFrame'>\n",
      "Int64Index: 322 entries, 119 to 7419\n",
      "Data columns (total 68 columns):\n",
      " #   Column               Non-Null Count  Dtype  \n",
      "---  ------               --------------  -----  \n",
      " 0   oceantemperature     322 non-null    float64\n",
      " 1   waveperiod           322 non-null    float64\n",
      " 2   surftemp             322 non-null    float64\n",
      " 3   windwaveswellheight  322 non-null    float64\n",
      " 4   draught              322 non-null    float64\n",
      " 5   cog                  322 non-null    float64\n",
      " 6   heading              322 non-null    float64\n",
      " 7   windspeed            322 non-null    float64\n",
      " 8   curspeed             322 non-null    float64\n",
      " 9   truewinddir          322 non-null    float64\n",
      " 10  truecurrentdir       322 non-null    float64\n",
      " 11  truewavedir          322 non-null    float64\n",
      " 12  sog_act              322 non-null    float64\n",
      " 13  gamma                322 non-null    float64\n",
      " 14  nwinddir             322 non-null    float64\n",
      " 15  stw_pred             322 non-null    float64\n",
      " 16  stw_pred_rf          322 non-null    float64\n",
      " 17  stw_pred_dt          322 non-null    float64\n",
      " 18  stw_pred_mlr         322 non-null    float64\n",
      " 19  stw_act              322 non-null    float64\n",
      " 20  stw_pred_ms          322 non-null    float64\n",
      " 21  k1_const             322 non-null    float64\n",
      " 22  Re                   322 non-null    float64\n",
      " 23  C_f                  322 non-null    float64\n",
      " 24  A_m                  322 non-null    float64\n",
      " 25  A_t                  322 non-null    float64\n",
      " 26  A_bt                 322 non-null    float64\n",
      " 27  sbh_a                322 non-null    float64\n",
      " 28  sbh_e                322 non-null    float64\n",
      " 29  sbh_g                322 non-null    float64\n",
      " 30  S_bh                 322 non-null    float64\n",
      " 31  R_f                  322 non-null    float64\n",
      " 32  R_th                 322 non-null    float64\n",
      " 33  R_app                322 non-null    float64\n",
      " 34  c3                   322 non-null    float64\n",
      " 35  c5                   322 non-null    float64\n",
      " 36  m_1                  322 non-null    float64\n",
      " 37  Fr_n                 322 non-null    float64\n",
      " 38  m_4                  322 non-null    float64\n",
      " 39  c1                   322 non-null    float64\n",
      " 40  R_w                  322 non-null    float64\n",
      " 41  Fn_i                 322 non-null    float64\n",
      " 42  R_b                  322 non-null    float64\n",
      " 43  Fn_tr                322 non-null    float64\n",
      " 44  c6                   322 non-null    float64\n",
      " 45  R_tr                 322 non-null    float64\n",
      " 46  c4                   322 non-null    float64\n",
      " 47  R_a                  322 non-null    float64\n",
      " 48  R_aa_hm              322 non-null    float64\n",
      " 49  V_aw                 322 non-null    float64\n",
      " 50  awa_c1               322 non-null    float64\n",
      " 51  epsilon              322 non-null    float64\n",
      " 52  Raa_const1           322 non-null    float64\n",
      " 53  Raa_const2           322 non-null    float64\n",
      " 54  Raa_const3           322 non-null    float64\n",
      " 55  R_aa                 322 non-null    float64\n",
      " 56  R_awl                322 non-null    float64\n",
      " 57  R_tot                322 non-null    float64\n",
      " 58  C_v                  322 non-null    float64\n",
      " 59  w                    322 non-null    float64\n",
      " 60  t                    322 non-null    float64\n",
      " 61  eff_h                322 non-null    float64\n",
      " 62  eff_r                322 non-null    float64\n",
      " 63  eff_s                322 non-null    float64\n",
      " 64  eff_o                322 non-null    float64\n",
      " 65  eff_tot              322 non-null    float64\n",
      " 66  P_b                  322 non-null    float64\n",
      " 67  FOC                  322 non-null    float64\n",
      "dtypes: float64(68)\n",
      "memory usage: 181.7 KB\n"
     ]
    }
   ],
   "source": [
    "dfprog.info()"
   ]
  },
  {
   "cell_type": "code",
   "execution_count": 397,
   "metadata": {},
   "outputs": [],
   "source": [
    "# Drop All intermediate Constants\n",
    "\n",
    "dfprog_f = dfprog.drop(['Re','C_f','Fr_n','m_4','Fn_i',\n",
    "                        'C_v','w','t','sog_act','stw_pred_ms','V_aw','awa_c1','epsilon','Raa_const1','Raa_const2','Raa_const3',\n",
    "                        'k1_const','A_m','A_t','A_bt','sbh_a','sbh_e','sbh_g',\n",
    "                        'S_bh','c3','c5','m_1','c1','Fn_tr','R_tr','c6','c4'],axis=1)"
   ]
  },
  {
   "cell_type": "code",
   "execution_count": 398,
   "metadata": {},
   "outputs": [],
   "source": [
    "# dfprog_f.info()"
   ]
  },
  {
   "cell_type": "code",
   "execution_count": 399,
   "metadata": {},
   "outputs": [
    {
     "name": "stdout",
     "output_type": "stream",
     "text": [
      "       oceantemperature  waveperiod    surftemp  windwaveswellheight  \\\n",
      "count        322.000000  322.000000  322.000000           322.000000   \n",
      "mean         287.133146    3.400343  287.256948             0.661506   \n",
      "std            6.306975    0.965020    4.797442             0.541832   \n",
      "min          269.606903    1.915993  275.485352             0.073242   \n",
      "25%          285.292786    2.692099  286.832031             0.272528   \n",
      "50%          289.505615    3.160003  289.004578             0.474936   \n",
      "75%          291.391602    3.764453  290.458008             0.788779   \n",
      "max          294.685303    6.291378  292.665649             2.565230   \n",
      "\n",
      "          draught         cog     heading   windspeed    curspeed  \\\n",
      "count  322.000000  322.000000  322.000000  322.000000  322.000000   \n",
      "mean     5.282713  197.436423  189.432992    5.832751    0.092478   \n",
      "std      0.162420   86.327689   88.499255    3.020207    0.068917   \n",
      "min      4.754639   82.664990   79.551648    0.441768    0.002006   \n",
      "25%      5.199718  103.569971  101.685445    3.442231    0.043318   \n",
      "50%      5.290842  193.360899  125.125521    5.528616    0.073482   \n",
      "75%      5.381292  283.259801  279.238872    7.569939    0.123647   \n",
      "max      5.657671  319.851509  304.969531   13.386999    0.417155   \n",
      "\n",
      "       truewinddir  ...          R_aa        R_awl       R_tot       eff_h  \\\n",
      "count   322.000000  ...    322.000000   322.000000  322.000000  322.000000   \n",
      "mean     86.173628  ...  12026.310316   109.713124  413.572912    0.984823   \n",
      "std      62.588681  ...  10981.871636   338.448884  143.864655    0.000348   \n",
      "min       0.565115  ...     14.798185     0.000000   78.844852    0.983872   \n",
      "25%      24.875738  ...   2828.719151     0.000000  317.379384    0.984663   \n",
      "50%      82.212973  ...   9245.608510     0.000000  428.625559    0.984846   \n",
      "75%     149.107733  ...  18140.638605    32.695365  519.898656    0.984990   \n",
      "max     179.309007  ...  46716.656141  2179.320124  771.329062    0.986138   \n",
      "\n",
      "              eff_r         eff_s   eff_o     eff_tot           P_b  \\\n",
      "count  3.220000e+02  3.220000e+02  322.00  322.000000    322.000000   \n",
      "mean   1.048448e+00  9.900000e-01    0.75    0.766658   5122.256667   \n",
      "std    6.671706e-16  4.558999e-15    0.00    0.000271   2256.692771   \n",
      "min    1.048448e+00  9.900000e-01    0.75    0.765918    275.225176   \n",
      "25%    1.048448e+00  9.900000e-01    0.75    0.766534   3532.408477   \n",
      "50%    1.048448e+00  9.900000e-01    0.75    0.766676   5288.352713   \n",
      "75%    1.048448e+00  9.900000e-01    0.75    0.766788   6810.321764   \n",
      "max    1.048448e+00  9.900000e-01    0.75    0.767681  11293.102738   \n",
      "\n",
      "              FOC  \n",
      "count  322.000000  \n",
      "mean     0.867710  \n",
      "std      0.382284  \n",
      "min      0.046623  \n",
      "25%      0.598390  \n",
      "50%      0.895847  \n",
      "75%      1.153669  \n",
      "max      1.913052  \n",
      "\n",
      "[8 rows x 36 columns]\n"
     ]
    }
   ],
   "source": [
    "print(dfprog_f.describe())\n",
    "stats = dfprog_f.describe()"
   ]
  },
  {
   "cell_type": "code",
   "execution_count": 400,
   "metadata": {},
   "outputs": [
    {
     "data": {
      "image/png": "[encoded data removed]",
      "text/plain": [
       "<Figure size 1000x1500 with 12 Axes>"
      ]
     },
     "metadata": {},
     "output_type": "display_data"
    }
   ],
   "source": [
    "fs = 10\n",
    "\n",
    "plt.rcParams.update(plt.rcParamsDefault)\n",
    "# Parameter to plot in nice latex fonts\n",
    "plt.rcParams.update({\n",
    "\t\"text.usetex\": True,\n",
    "\t\"font.family\": \"serif\",\n",
    "\t\"font.serif\": \"bookman\",\n",
    "\t})\n",
    "\n",
    "\n",
    "stw = dfprog_f['stw_pred']\n",
    "R_f = dfprog_f['R_f']/1e3\n",
    "R_app = dfprog_f['R_app']/1e3\n",
    "R_w = dfprog_f['R_w']/1e3\n",
    "R_b = dfprog_f['R_b']/1e3\n",
    "R_tr = dfprog['R_tr']/1e3\n",
    "R_a = dfprog_f['R_a']/1e3\n",
    "R_aa = dfprog_f['R_aa']/1e3\n",
    "# R_aa_hm = dfprog_f['R_aa_hm']/1e3\n",
    "R_awl = dfprog_f['R_awl']/1e3\n",
    "R_tot = dfprog_f['R_tot']\n",
    "eff_h = dfprog_f['eff_h']\n",
    "eff_tot = dfprog_f['eff_tot']\n",
    "P_b = dfprog_f['P_b']\n",
    "FOC = dfprog_f['FOC']\n",
    "\n",
    "\n",
    "\n",
    "fig, axes = plt.subplots(nrows=4, ncols=3, figsize=(10, 15))\n",
    "\n",
    "axes[0, 0].hist(stw,bins=25,color='black')\n",
    "axes[0, 0].set_title(r'Speed Thorugh Water $[STW]$', fontsize=fs)\n",
    "axes[0, 0].grid(True,linestyle = '--', linewidth = 0.5)\n",
    "\n",
    "axes[0, 1].hist(R_f,bins=25,color='black')\n",
    "axes[0, 1].set_title(r'Frictional Resistance $[kN]$', fontsize=fs)\n",
    "axes[0, 1].grid(True,linestyle = '--', linewidth = 0.5)\n",
    "\n",
    "axes[0, 2].hist(R_app,bins=25,color='black')\n",
    "axes[0, 2].set_title(r'Appendage Resistance $[kN]$', fontsize=fs)\n",
    "axes[0, 2].grid(True,linestyle = '--', linewidth = 0.5)\n",
    "\n",
    "axes[1, 0].hist(R_w,bins=25,color='black')\n",
    "axes[1, 0].set_title(r'Wave Making-Breaking Resistance $[kN]$', fontsize=fs)\n",
    "axes[1, 0].grid(True,linestyle = '--', linewidth = 0.5)\n",
    "\n",
    "axes[1, 1].hist(R_b  ,bins=25,color='black')\n",
    "axes[1, 1].set_title(r'Bulbous Bow Resistance $[kN]$', fontsize=fs)\n",
    "axes[1, 1].grid(True,linestyle = '--', linewidth = 0.5)\n",
    "\n",
    "axes[1, 2].hist(R_a,bins=25,color='black')\n",
    "axes[1, 2].set_title(r'Correlation Resistance $[kN]$', fontsize=fs)\n",
    "axes[1, 2].grid(True,linestyle = '--', linewidth = 0.5)\n",
    "\n",
    "axes[2, 0].hist(R_aa,bins=25,color='black')\n",
    "axes[2, 0].set_title(r'Wind Resistance $[kN]$', fontsize=fs)\n",
    "axes[2, 0].grid(True,linestyle = '--', linewidth = 0.5)\n",
    "\n",
    "# axes[2, 0].hist(R_aa_hm,bins=25,color='black')\n",
    "# axes[2, 0].set_title(r'Wind Resistance $[kN]$', fontsize=fs)\n",
    "# axes[2, 0].grid(True,linestyle = '--', linewidth = 0.5)\n",
    "\n",
    "axes[2, 1].hist(R_awl,bins=25,color='black')\n",
    "axes[2, 1].set_title(r'Wave Resistance STAWAVE-1 $[kN]$', fontsize=fs)\n",
    "axes[2, 1].grid(True,linestyle = '--', linewidth = 0.5)\n",
    "\n",
    "axes[2, 2].hist(R_tr,bins=25,color='black')\n",
    "axes[2, 2].set_title(r'Transom Resistance $[kN]$', fontsize=fs)\n",
    "axes[2, 2].grid(True,linestyle = '--', linewidth = 0.5)\n",
    "\n",
    "axes[3, 0].hist(R_tot,bins=25,color='black')\n",
    "axes[3, 0].set_title(r'Total Resistance $[kN]$', fontsize=fs)\n",
    "axes[3, 0].grid(True,linestyle = '--', linewidth = 0.5)\n",
    "\n",
    "# axes[3, 0].hist(eff_h,bins=25,color='black')\n",
    "# axes[3, 0].set_title(r'Hull Efficiency $[-]$', fontsize=fs)\n",
    "# axes[3, 0].grid(True,linestyle = '--', linewidth = 0.5)\n",
    "\n",
    "axes[3, 1].hist(eff_tot,bins=25,color='black')\n",
    "axes[3, 1].set_title(r'Total Efficiency $[-]$', fontsize=fs)\n",
    "axes[3, 1].grid(True,linestyle = '--', linewidth = 0.5)\n",
    "\n",
    "axes[3, 2].hist(P_b,bins=25,color='black')\n",
    "axes[3, 2].set_title(r'Power $[kW]$', fontsize=fs)\n",
    "axes[3, 2].grid(True,linestyle = '--', linewidth = 0.5)\n",
    "\n",
    "# axes[4, 1].hist(FOC,bins=25,color='black')\n",
    "# axes[4, 1].set_title(r'Fuel Consumption $[t/h]$', fontsize=fs)\n",
    "# axes[4, 1].grid(True,linestyle = '--', linewidth = 0.5)\n",
    "\n",
    "fig.subplots_adjust(hspace=0.4)\n",
    "plt.show()"
   ]
  },
  {
   "cell_type": "code",
   "execution_count": 401,
   "metadata": {},
   "outputs": [],
   "source": [
    "def foc_fun(stw,T_dyn,windspeed,truewindir,H_s,truewavedir):\n",
    "    # Ship Information, that are readily available in ship specification\n",
    "    loa = 158 # ship overall length\n",
    "    lwl = 144.8 # ship waterline length, m\n",
    "    lpp = 0.97*lwl # ship perpendicular length , m, according to information\n",
    "    B = 24.5 # Ship breadth, m\n",
    "    depth = 13.8 # Ship depth. m\n",
    "    T_n = 5.85 # Nominal max draught , m\n",
    "    # T_n = 5.7 # Nominal design draught , m\n",
    "    dwt = 5110 # ship dead weight , t\n",
    "    V_n = 17.7 # ship design speed, knots\n",
    "\n",
    "    # Environmental Constants\n",
    "\n",
    "    g = 9.805 # gravity, kg/ms^2 \n",
    "    rho_sea = 1025 # kg/m3\n",
    "    nu_sea = 0.00000118 # Dynamic viscosity of sea m^2/s\n",
    "    rho_air = 1.25 # density air \n",
    "\n",
    "    # Any other additional ship parameters beyond here are approximated based on literature review.\n",
    "\n",
    "    # Convert STW to m/s, stw with only current correction\n",
    "\n",
    "    stw_ms = stw / 1.94384\n",
    "\n",
    "    # Switch between actual and predicted here \n",
    "    # Calculation for Block coefficient,C_b, according to Schneekluth and Bertram 1998\n",
    "    # Then Froude number is required\n",
    "\n",
    "    V_n = 17.7/1.94384\n",
    "    Fr_n = V_n / math.sqrt(g*lpp)\n",
    "    print(f\"Froude Number {Fr_n:0.4f}\")\n",
    "\n",
    "    C_b = -4.22 + 27.8*math.sqrt(Fr_n) - 39.1*Fr_n + 46.6*(Fr_n)**3\n",
    "    print(f\"C_b {C_b:0.4f}\")\n",
    "\n",
    "    # calculation for midship section coefficient, C_m according to Jensen from Birk\n",
    "\n",
    "    C_m = 1 / (1+(1-C_b)**3.5)\n",
    "    print(f\"C_m {C_m:0.4f}\")\n",
    "\n",
    "    # prismatic coefficient C_p can be calculated according to Biran\n",
    "\n",
    "    C_p = C_b/C_m \n",
    "    print(f\"C_p {C_p:0.4f}\")\n",
    "\n",
    "    # Displacement calculation according to Barras \n",
    "\n",
    "    dsp = C_b * lwl * B * T_n\n",
    "\n",
    "    print(f\"dsp {dsp:0.4f} m^3\")\n",
    "\n",
    "    # coefficient c14 to account for stern shape according to holtrop mennen\n",
    "\n",
    "    C_stern = 10 # assume u shaped stern\n",
    "    c14 = 1 + 0.011*C_stern \n",
    "    print(f\"c14 {c14:0.4f}\")\n",
    "\n",
    "    # Calculate length of run according to holtrop mennen\n",
    "\n",
    "    # lcb = -2/100 # according to Barras\n",
    "    lcb = -(0.44*Fr_n - 0.094) # according to Guldhammer and Harvald\n",
    "\n",
    "    # L in holtrop mennen is lwl\n",
    "\n",
    "    lr = lwl*(1-C_p+(0.06*C_p*lcb/(4*C_p-1)))\n",
    "    print(f\"lr {lr:0.4f} m\")\n",
    "\n",
    "    # now the (1+k1) can be calculated\n",
    "\n",
    "    k1a = 0.487118*c14*(B/lwl)**1.06806\n",
    "    k1b = (T_dyn/lwl)**0.46106\n",
    "    k1c = (lwl/lr)**0.121563\n",
    "    k1d = (lwl**3/dsp)**0.36486\n",
    "    k1e = (1-C_p)**-0.604247\n",
    "\n",
    "    k1_const = 0.93 + k1a*k1b*k1c*k1d*k1e\n",
    "    print(f\"k1_const {k1_const.mean():0.4f}\")\n",
    "\n",
    "    # Calculate Reynold number and Coefficient of Friction C_f. Here, the C_f will be dynamic and depend on the velocity of the ship\n",
    "\n",
    "    Re =( stw_ms * lwl ) / nu_sea\n",
    "    C_f = 0.075 / (np.log10(Re-2)**2)\n",
    "\n",
    "    print(f\"Mean Reynold Number {Re.mean():0.2f}\")\n",
    "    print(f\"Mean Coefficient of friction {C_f.mean():0.6f}\")\n",
    "    \n",
    "    # Calculate the appendage area of bare hull S_bh\n",
    "    # Formula according to Holtrop Mennen\n",
    "\n",
    "    # Calculate the waterplane area coefficient \n",
    "    # Formula according to Schneekluth and Bertram\n",
    "\n",
    "    C_wp = (1+2*C_b)/3\n",
    "    print(f\"C_wp {C_wp:0.4f}\")\n",
    "\n",
    "    # Calculate transverse bulb area A_bt, Transom area A_t and immersed midship section area A_m according to Kim 2019\n",
    "\n",
    "    # dfprog['A_m'] = B*dfprog['draught']*C_m\n",
    "    A_m = dsp/(lpp*C_p)\n",
    "    A_t = 0.051 * A_m\n",
    "    A_bt = 0.085*A_m # From approximation of Kracht78, Similar to Charcalis\n",
    "    print(f\"A_m {A_m:0.2f} m^2\")\n",
    "    print(f\"A_t {A_t:0.2f} m^2\")\n",
    "    print(f\"A_bt {A_bt:0.2f} m^2\")\n",
    "\n",
    "    sbh_a = lwl*(2*T_dyn+B)*math.sqrt(C_m)\n",
    "    sbh_b = 0.453\n",
    "    sbh_c = 0.4425*C_b\n",
    "    sbh_d = 0.2862*C_m\n",
    "    sbh_e = 0.003467*(B/T_dyn)\n",
    "    sbh_f = 0.3696*C_wp\n",
    "    sbh_g = 2.38*A_bt/C_b\n",
    "\n",
    "    S_bh = sbh_a*(sbh_b+sbh_c-sbh_d+sbh_e+sbh_f)+sbh_g\n",
    "\n",
    "    print(f\"S_bh {S_bh.mean():0.2f} m^2\")\n",
    "\n",
    "    # Calculate R_f\n",
    "\n",
    "    R_f = 0.5 * rho_sea * stw_ms**2 * C_f * S_bh * k1_const\n",
    "\n",
    "    print(f\"Mean STW {stw.mean():0.2f} kt\")\n",
    "    print(f\"Frictional Resistance {R_f.mean():0.2f} N\")\n",
    "    \n",
    "    # Calculate resistance due to appendage\n",
    "\n",
    "    # Assume S_app\n",
    "    # Taken from Holtrop Mennen worked example\n",
    "    # S_app = 50 # m^2 \n",
    "\n",
    "    # Calculation of appendage area according to Hollenbach method, the formula is for twin screw ship\n",
    "\n",
    "    # Lower limit\n",
    "    S_app_lo = S_bh.mean()*(0.028+0.01*math.exp(-(lpp*T_n)/1000))\n",
    "\n",
    "    # Upper limit\n",
    "    S_app_hi = S_bh.mean()*(0.0325+0.045*math.exp(-(lpp*T_n)/1000))\n",
    "\n",
    "    print(f\"S_app between {S_app_lo:.02f} and {S_app_hi:.02f} according to Hollenbach\")\n",
    "\n",
    "    # The following appendage area are scaled from the picture of the ship\n",
    "    # Constant k here means (1+k_2) !\n",
    "\n",
    "    D_shaft = 0.55 # m, approx\n",
    "    l_shaft = 13.54 # m, approx\n",
    "\n",
    "    S_app_shaft = math.pi * D_shaft * l_shaft\n",
    "    k2_shaft = 2   \n",
    "\n",
    "    h_rudder = 4.06 #m, approx\n",
    "    B_rudder = 1.99 #m, approx\n",
    "    S_app_rudder = 2 * h_rudder * B_rudder #m, two side\n",
    "    k2_rudder = 3\n",
    "\n",
    "    h_skeg = 4.41 #m, approx\n",
    "    l_skeg = 26.23 #m, approx\n",
    "    S_app_skeg =  h_skeg * l_skeg #two side\n",
    "    k2_skeg = 0.75\n",
    "\n",
    "    S_app = S_app_shaft + S_app_rudder + S_app_skeg\n",
    "\n",
    "    k2_const = (k2_shaft*S_app_shaft + k2_rudder*S_app_rudder + k2_skeg*S_app_skeg)/S_app\n",
    "\n",
    "    print(f\"Wetted area of hull is {S_bh.mean():0.2f}\")\n",
    "    print(f\"(1+k2) equivalent {k2_const:0.2f}\")\n",
    "    print(f\"Total Appendage area is {S_app:0.2f}\")\n",
    "    # from holtrop mennen, take case of twin screw\n",
    "    # k2_const = 2.8\n",
    "\n",
    "    # Add resistance due to Bow Thrusters\n",
    "\n",
    "    d_th = 2.15 #m, approx\n",
    "\n",
    "    # Use formula from Hollenach\n",
    "    C_dth = 0.003 + 0.003*((10*d_th/T_n)-1)\n",
    "    # C_dth = 0.003 # The picture shows that the thruster are fairly parallel to midship area\n",
    "    # There are two bow thruster in this ship\n",
    "    R_th = rho_sea*stw_ms**2*math.pi*d_th**2*C_dth\n",
    "    print(f\"Friction due to bow thrusters {R_th.mean():0.2f} N\")\n",
    "\n",
    "    R_app = (0.5 * rho_sea * stw_ms**2 * C_f * S_app *k2_const) + 2*R_th\n",
    "    print(f\"Mean STW {stw.mean():0.2f} kt\")\n",
    "    print(f\"Appendage Friction {R_app.mean():0.2f} N\")\n",
    "\n",
    "    # Calculate wave-making and wave-breaking resistance\n",
    "\n",
    "    print(\"Ratio check to ensure correct formula is used for Holtrop Mennen\")\n",
    "    print(f\"B/lwl = {B/lwl:0.2f}\")\n",
    "    print(f\"lwl^3/displacemt = {lwl**3/dsp:0.2f}\")\n",
    "    print(f\"C_p = {C_p:0.4f}\")\n",
    "\n",
    "\n",
    "    c7 = B/lwl\n",
    "    T_fwd = T_dyn # See reasoning from Rakke16 \n",
    "    h_b = 0.6*T_n # must not exceed 0.6 T_f, here T_n = T_f (design), reasong and coefficient value taken from Rakke\n",
    "\n",
    "    # All formulas here are listed by Holtrop Mennen\n",
    "\n",
    "    c3 = 0.56 * A_bt**1.5 / (B*T_dyn*(0.31*np.sqrt(A_bt)+T_fwd-h_b))\n",
    "    c2 = np.exp(-1.89*np.sqrt(c3))\n",
    "    c5 = 1 - 0.8*(A_t/(B*T_dyn*C_m))\n",
    "    lambda_const = (1.446 * C_p) - 0.03*(lwl/B)\n",
    "    c16 = 8.07981*C_p - 13.8673*C_p**2 + 6.984388*C_p**3\n",
    "    m_1 = 0.0140407 * (lwl/T_dyn) - 1.75254*(dsp**(1/3)/lwl) -  4.79323*(B/lwl) - c16\n",
    "    c15 = -1.69385\n",
    "\n",
    "    # Use dynamic Froude here to refect the actual resistance due to ship movement \n",
    "\n",
    "    Fr_n_dyn = stw_ms / math.sqrt(g*lpp)\n",
    "    # Updated formula use m_4\n",
    "    m4 = 0.4 * c15 * np.exp(-0.034*Fr_n_dyn **-3.29)\n",
    "\n",
    "    i_e = 1 + 89*math.exp(-(lwl/B)**0.80856*(1-C_wp)**0.30484*(1-C_p-0.0225*lcb)**0.6367*(lr/B)**0.34574*((100*dsp)/lwl**3)**0.16302)\n",
    "    c1 = 2223105 * c7**3.78613 * (T_dyn/B)**1.07961*(90-i_e)**-1.37565\n",
    "    d = -0.9\n",
    "\n",
    "    # Use updated formula with m4\n",
    "\n",
    "    R_w = c1*c2*c5*dsp*g*rho_sea*np.exp(m_1*Fr_n_dyn **d+m4*np.cos(lambda_const*Fr_n_dyn **-2))\n",
    "\n",
    "    print(f\"Mean STW {stw.mean():0.2f} kt\")\n",
    "    print(f\"Wave resistance {R_w.mean():0.2f} N\")\n",
    "\n",
    "    # Calculate Resistance due to Bulbous Bow\n",
    "    # Calculate effect of forward sinkage h_f and local wave height at bow h_w\n",
    "\n",
    "    h_f = C_p * C_m * (136-316-3*Fr_n_dyn)*Fr_n_dyn**3\n",
    "    h_w = (i_e * stw_ms **2) / (400*g)\n",
    "\n",
    "    P_b = 0.56*np.sqrt(A_bt)/(T_fwd-1.5*h_b)\n",
    "    Fn_i = stw_ms / np.sqrt(g*(T_fwd-h_b-0.25*np.sqrt(A_bt))+0.15*stw_ms**2)\n",
    "    # Updated Fn_i\n",
    "    # Fn_i = stw_ms / np.sqrt(g*(T_fwd-h_b-0.25*np.sqrt(A_bt)+h_f+h_w))\n",
    "    R_b = 0.11 * np.exp(-3*P_b**-2)*Fn_i**3*A_bt**1.5*rho_sea*g/(1+Fn_i**2)\n",
    "    # Update R_b\n",
    "    # dfprog['R_b'] = 0.11 * rho_sea * g * np.sqrt(dfprog['A_bt'])**3 * ((dfprog['Fn_i']**3)/(1 + dfprog['Fn_i']**2)) * np.exp(-3*P_b**-2)\n",
    "\n",
    "    print(f\"Emergence of bulb Pb {P_b.mean():0.4f}\")\n",
    "    print(f\"Immersion Froude number Fn_i {Fn_i.mean():0.2f}\")\n",
    "    print(f\"Mean STW {stw.mean():0.2f} kt\")\n",
    "    print(f\"Resistance due to bulbous bow {R_b.mean():0.2f} N\")    \n",
    "\n",
    "    #Calculate Transom Resistance \n",
    "\n",
    "    Fn_tr = stw_ms / np.sqrt(2*g*A_t/(B+(B*C_wp)))\n",
    "    print(f\"Froude for Transom {Fn_tr.mean():0.4f}\")\n",
    "\n",
    "    # Use condition to calculate Froude due to transom\n",
    "\n",
    "    cond_Fn_tr = [Fn_tr < 5 ]\n",
    "    cond_c6 = [0.2*(1-0.2*Fn_tr)]\n",
    "\n",
    "    c6 = np.select(cond_Fn_tr,cond_c6,0)\n",
    "    R_tr = 0.5*rho_sea*10**2*A_t*c6\n",
    "    print(f\"Mean STW {stw.mean():0.2f} kt\")\n",
    "    print(f\"Resistance due to transom {R_tr.mean():0.2f} N\")\n",
    "\n",
    "    # Model ship correlation resistance\n",
    "\n",
    "    print(\"Ratio check to ensure correct formula is used for Holtrop Mennen\")\n",
    "\n",
    "    cond_Tf_lwl = [(T_fwd/lwl) <= 0.04 ]\n",
    "    cond_c4 = [T_fwd/lwl]\n",
    "    c4 = np.select(cond_Tf_lwl,cond_c4,0.04)\n",
    "\n",
    "    C_a = 0.00546*(lwl+100)**-0.16 - 0.002 + 0.003*math.sqrt(lwl/7.5)*C_b**4*c2*(0.04-c4)\n",
    "\n",
    "    R_a = 0.5*rho_sea*stw_ms**2*C_a*(S_bh+S_app)\n",
    "\n",
    "    print(f\"C_a {C_a.mean()}\")\n",
    "    print(f\"Mean STW {stw.mean():0.2f} kt\")\n",
    "    print(f\"Correlation allowance resistance {R_a.mean():0.2f} N\")\n",
    "\n",
    "    # Calculate Additional Resistance, consist of wind resistance and wave resistance\n",
    "    # Calculate Apparent velocities and Apparent Angle \n",
    "\n",
    "    V_aw = np.sqrt(windspeed**2 + stw_ms**2 + 2*windspeed*stw_ms*np.cos(np.deg2rad(truewindir)))\n",
    "\n",
    "    awa_c1 = (windspeed/V_aw)*np.sin(np.deg2rad(truewindir))\n",
    "\n",
    "    # Epsilon is Apparent Wind Angle AWA\n",
    "\n",
    "    epsilon = np.rad2deg(np.arcsin(awa_c1))\n",
    "\n",
    "    # Values and method from Blendermann\n",
    "\n",
    "    C_DlAf = 0.45\n",
    "    A_f = 325.3\n",
    "    A_l = 2125.8\n",
    "    C_Dt = 0.9\n",
    "    delta = 0.8\n",
    "    C_Dl = C_DlAf * A_f / A_l\n",
    "    L_bwl = 43.75 # m, acquired from picture\n",
    "\n",
    "    Raa_const1 = (rho_air/2) * V_aw**2 * A_l * C_Dl\n",
    "    Raa_const2 = np.cos(np.deg2rad(epsilon))\n",
    "    Raa_const3 = 1 - (delta/2) * ((1-(C_Dl/C_Dt))*(np.sin(np.deg2rad(2*epsilon)))**2)\n",
    "\n",
    "    R_aa = Raa_const1 * Raa_const2 / Raa_const3 \n",
    "\n",
    "    print(f\"Mean wind resistance Blendermann {R_aa.mean():0.2f}N\")\n",
    "\n",
    "    # Calculate Wave Resistance according to STAWAVE-1\n",
    "\n",
    "    Rawl = 1/16 * rho_sea * g * H_s**2 * math.sqrt(B/L_bwl)\n",
    "\n",
    "    condwave = [truewavedir<=45]\n",
    "    choicewave = [Rawl]\n",
    "\n",
    "    R_awl = np.select(condwave,choicewave,0)\n",
    "\n",
    "    print(f\"Mean wave resistance STAWAVE-1 {R_awl.mean():0.2f} N\")\n",
    "\n",
    "    # Calculate Efficiencies\n",
    "\n",
    "    # Diameter value for ship estimated from Bertram \n",
    "\n",
    "    # D = 0.215*16 #m \n",
    "    # Revised D, 08.07.23\n",
    "    D = 4 # m, from flyer\n",
    "\n",
    "    # Update C_v formula\n",
    "\n",
    "    C_v = (k1_const*R_f + R_app + R_a) / (0.5*rho_sea*stw_ms**2*(S_bh+S_app))\n",
    "    w = 0.3095 * C_b + 10*C_v*C_b - (0.23*D)/np.sqrt(B*T_dyn) \n",
    "    t = 0.325*C_b - 0.1885*D/np.sqrt(B*T_dyn)\n",
    "    eff_h = (1-t) / (1-w)\n",
    "    eff_r = 0.9737 + 0.111*(C_p - 0.225*lcb) - 0.06325*lcb\n",
    "    eff_s = 0.99 # Set according to holtrop mennen and man\n",
    "    eff_o = 0.75 # Approximation from Wageningen Line from Breslin94, since Holtrop perform their measurement in Wageningen basin \n",
    "\n",
    "    eff_tot = eff_h* eff_r* eff_s*eff_o # consider sea margin\n",
    "\n",
    "    print(f\"Total Efficiency {eff_tot.mean():0.3f}\")\n",
    "\n",
    "    # Calculate power and FOC\n",
    "\n",
    "    P_b = (R_tot * stw_ms)/eff_tot # in kW\n",
    "    SFOC = 169.4 # g/kWh, taken from datasheet Waertsilla 8V31\n",
    "    FOC = (P_b * SFOC)/1e6 # get FOC t/h\n",
    "\n",
    "    print(f\"Average Power {P_b.mean():0.3f} kW\")\n",
    "    print(f\"Max Power {P_b.max():0.3f} kW\")\n",
    "    print(f\"Average Fuel Consumption per hour {FOC.mean():0.3f} T\")\n",
    "\n",
    "    return R_f,R_app,R_w,R_b,R_tr,R_a,R_aa,R_awl,eff_tot,P_b,FOC\n"
   ]
  },
  {
   "cell_type": "code",
   "execution_count": 402,
   "metadata": {},
   "outputs": [
    {
     "name": "stdout",
     "output_type": "stream",
     "text": [
      "Froude Number 0.2454\n",
      "C_b 0.6451\n",
      "C_m 0.9741\n",
      "C_p 0.6623\n",
      "dsp 13388.8120 m^3\n",
      "c14 1.1100\n",
      "lr 48.8488 m\n",
      "k1_const 1.2102\n",
      "Mean Reynold Number 1077795622.42\n",
      "Mean Coefficient of friction 0.000921\n",
      "C_wp 0.7634\n",
      "A_m 143.93 m^2\n",
      "A_t 7.34 m^2\n",
      "A_bt 12.23 m^2\n",
      "S_bh 3843.36 m^2\n",
      "Mean STW 17.07 kt\n",
      "Frictional Resistance 172804.08 N\n",
      "S_app between 124.51 and 200.96 according to Hollenbach\n",
      "Wetted area of hull is 3843.36\n",
      "(1+k2) equivalent 1.17\n",
      "Total Appendage area is 155.23\n",
      "Friction due to bow thrusters 12976.09 N\n",
      "Mean STW 17.07 kt\n",
      "Appendage Friction 32711.78 N\n",
      "Ratio check to ensure correct formula is used for Holtrop Mennen\n",
      "B/lwl = 0.17\n",
      "lwl^3/displacemt = 226.76\n",
      "C_p = 0.6623\n",
      "Mean STW 17.07 kt\n",
      "Wave resistance 94957.17 N\n",
      "Emergence of bulb Pb 21.1421\n",
      "Immersion Froude number Fn_i 1.93\n",
      "Mean STW 17.07 kt\n",
      "Resistance due to bulbous bow 70469.63 N\n",
      "Froude for Transom 4.8119\n",
      "Mean STW 17.07 kt\n",
      "Resistance due to transom 4865.31 N\n",
      "Ratio check to ensure correct formula is used for Holtrop Mennen\n",
      "C_a 0.0002694806327505775\n",
      "Mean STW 17.07 kt\n",
      "Correlation allowance resistance 43665.77 N\n",
      "Mean wind resistance Blendermann 11578.97N\n",
      "Mean wave resistance STAWAVE-1 109.71 N\n",
      "Total Efficiency 0.767\n",
      "Average Power 4946.055 kW\n",
      "Max Power 9155.525 kW\n",
      "Average Fuel Consumption per hour 0.838 T\n"
     ]
    }
   ],
   "source": [
    "Rf_pred,R_app_pred,R_w_pred,R_b_pred,R_tr_pred,R_a_pred,R_aa_pred,R_awl_pred,eff_tot_pred,P_b_pred,FOC_pred = foc_fun(dfprog['stw_pred'],dfprog['draught'],dfprog['windspeed'],dfprog['truewinddir'],dfprog['windwaveswellheight'],dfprog['truewavedir'])"
   ]
  },
  {
   "cell_type": "code",
   "execution_count": 403,
   "metadata": {},
   "outputs": [
    {
     "name": "stdout",
     "output_type": "stream",
     "text": [
      "Froude Number 0.2454\n",
      "C_b 0.6451\n",
      "C_m 0.9741\n",
      "C_p 0.6623\n",
      "dsp 13388.8120 m^3\n",
      "c14 1.1100\n",
      "lr 48.8488 m\n",
      "k1_const 1.2102\n",
      "Mean Reynold Number 1077483596.01\n",
      "Mean Coefficient of friction 0.000921\n",
      "C_wp 0.7634\n",
      "A_m 143.93 m^2\n",
      "A_t 7.34 m^2\n",
      "A_bt 12.23 m^2\n",
      "S_bh 3843.36 m^2\n",
      "Mean STW 17.07 kt\n",
      "Frictional Resistance 172734.25 N\n",
      "S_app between 124.51 and 200.96 according to Hollenbach\n",
      "Wetted area of hull is 3843.36\n",
      "(1+k2) equivalent 1.17\n",
      "Total Appendage area is 155.23\n",
      "Friction due to bow thrusters 12970.65 N\n",
      "Mean STW 17.07 kt\n",
      "Appendage Friction 32698.15 N\n",
      "Ratio check to ensure correct formula is used for Holtrop Mennen\n",
      "B/lwl = 0.17\n",
      "lwl^3/displacemt = 226.76\n",
      "C_p = 0.6623\n",
      "Mean STW 17.07 kt\n",
      "Wave resistance 94940.03 N\n",
      "Emergence of bulb Pb 21.1421\n",
      "Immersion Froude number Fn_i 1.93\n",
      "Mean STW 17.07 kt\n",
      "Resistance due to bulbous bow 70449.62 N\n",
      "Froude for Transom 4.8105\n",
      "Mean STW 17.07 kt\n",
      "Resistance due to transom 4894.77 N\n",
      "Ratio check to ensure correct formula is used for Holtrop Mennen\n",
      "C_a 0.0002694806327505775\n",
      "Mean STW 17.07 kt\n",
      "Correlation allowance resistance 43647.50 N\n",
      "Mean wind resistance Blendermann 11590.99N\n",
      "Mean wave resistance STAWAVE-1 109.71 N\n",
      "Total Efficiency 0.767\n",
      "Average Power 4944.536 kW\n",
      "Max Power 9220.399 kW\n",
      "Average Fuel Consumption per hour 0.838 T\n"
     ]
    }
   ],
   "source": [
    "Rf_pred_rf,R_app_pred_rf,R_w_pred_rf,R_b_pred_rf,R_tr_pred_rf,R_a_pred_rf,R_aa_pred_rf,R_awl_pred_rf,eff_tot_pred_rf,P_b_pred_rf,FOC_pred_rf = foc_fun(dfprog['stw_pred_rf'],dfprog['draught'],dfprog['windspeed'],dfprog['truewinddir'],dfprog['windwaveswellheight'],dfprog['truewavedir'])"
   ]
  },
  {
   "cell_type": "code",
   "execution_count": 404,
   "metadata": {},
   "outputs": [
    {
     "name": "stdout",
     "output_type": "stream",
     "text": [
      "Froude Number 0.2454\n",
      "C_b 0.6451\n",
      "C_m 0.9741\n",
      "C_p 0.6623\n",
      "dsp 13388.8120 m^3\n",
      "c14 1.1100\n",
      "lr 48.8488 m\n",
      "k1_const 1.2102\n",
      "Mean Reynold Number 1077316067.19\n",
      "Mean Coefficient of friction 0.000921\n",
      "C_wp 0.7634\n",
      "A_m 143.93 m^2\n",
      "A_t 7.34 m^2\n",
      "A_bt 12.23 m^2\n",
      "S_bh 3843.36 m^2\n",
      "Mean STW 17.07 kt\n",
      "Frictional Resistance 172790.91 N\n",
      "S_app between 124.51 and 200.96 according to Hollenbach\n",
      "Wetted area of hull is 3843.36\n",
      "(1+k2) equivalent 1.17\n",
      "Total Appendage area is 155.23\n",
      "Friction due to bow thrusters 12975.95 N\n",
      "Mean STW 17.07 kt\n",
      "Appendage Friction 32711.10 N\n",
      "Ratio check to ensure correct formula is used for Holtrop Mennen\n",
      "B/lwl = 0.17\n",
      "lwl^3/displacemt = 226.76\n",
      "C_p = 0.6623\n",
      "Mean STW 17.07 kt\n",
      "Wave resistance 95071.17 N\n",
      "Emergence of bulb Pb 21.1421\n",
      "Immersion Froude number Fn_i 1.93\n",
      "Mean STW 17.07 kt\n",
      "Resistance due to bulbous bow 70400.21 N\n",
      "Froude for Transom 4.8098\n",
      "Mean STW 17.07 kt\n",
      "Resistance due to transom 4880.85 N\n",
      "Ratio check to ensure correct formula is used for Holtrop Mennen\n",
      "C_a 0.0002694806327505775\n",
      "Mean STW 17.07 kt\n",
      "Correlation allowance resistance 43665.10 N\n",
      "Mean wind resistance Blendermann 11552.65N\n",
      "Mean wave resistance STAWAVE-1 109.71 N\n",
      "Total Efficiency 0.767\n",
      "Average Power 4940.359 kW\n",
      "Max Power 9572.471 kW\n",
      "Average Fuel Consumption per hour 0.837 T\n"
     ]
    }
   ],
   "source": [
    "Rf_pred_dt,R_app_pred_dt,R_w_pred_dt,R_b_pred_dt,R_tr_pred_dt,R_a_pred_dt,R_aa_pred_dt,R_awl_pred_dt,eff_tot_pred_dt,P_b_pred_dt,FOC_pred_dt = foc_fun(dfprog['stw_pred_dt'],dfprog['draught'],dfprog['windspeed'],dfprog['truewinddir'],dfprog['windwaveswellheight'],dfprog['truewavedir'])"
   ]
  },
  {
   "cell_type": "code",
   "execution_count": 405,
   "metadata": {},
   "outputs": [
    {
     "name": "stdout",
     "output_type": "stream",
     "text": [
      "Froude Number 0.2454\n",
      "C_b 0.6451\n",
      "C_m 0.9741\n",
      "C_p 0.6623\n",
      "dsp 13388.8120 m^3\n",
      "c14 1.1100\n",
      "lr 48.8488 m\n",
      "k1_const 1.2102\n",
      "Mean Reynold Number 1075366288.43\n",
      "Mean Coefficient of friction 0.000921\n",
      "C_wp 0.7634\n",
      "A_m 143.93 m^2\n",
      "A_t 7.34 m^2\n",
      "A_bt 12.23 m^2\n",
      "S_bh 3843.36 m^2\n",
      "Mean STW 17.03 kt\n",
      "Frictional Resistance 171454.93 N\n",
      "S_app between 124.51 and 200.96 according to Hollenbach\n",
      "Wetted area of hull is 3843.36\n",
      "(1+k2) equivalent 1.17\n",
      "Total Appendage area is 155.23\n",
      "Friction due to bow thrusters 12866.67 N\n",
      "Mean STW 17.03 kt\n",
      "Appendage Friction 32440.69 N\n",
      "Ratio check to ensure correct formula is used for Holtrop Mennen\n",
      "B/lwl = 0.17\n",
      "lwl^3/displacemt = 226.76\n",
      "C_p = 0.6623\n",
      "Mean STW 17.03 kt\n",
      "Wave resistance 89904.32 N\n",
      "Emergence of bulb Pb 21.1421\n",
      "Immersion Froude number Fn_i 1.93\n",
      "Mean STW 17.03 kt\n",
      "Resistance due to bulbous bow 70546.17 N\n",
      "Froude for Transom 4.8011\n",
      "Mean STW 17.03 kt\n",
      "Resistance due to transom 4031.66 N\n",
      "Ratio check to ensure correct formula is used for Holtrop Mennen\n",
      "C_a 0.0002694806327505775\n",
      "Mean STW 17.03 kt\n",
      "Correlation allowance resistance 43296.37 N\n",
      "Mean wind resistance Blendermann 11613.30N\n",
      "Mean wave resistance STAWAVE-1 109.71 N\n",
      "Total Efficiency 0.767\n",
      "Average Power 4864.383 kW\n",
      "Max Power 9383.828 kW\n",
      "Average Fuel Consumption per hour 0.824 T\n"
     ]
    }
   ],
   "source": [
    "Rf_pred_mlr,R_app_pred_mlr,R_w_pred_mlr,R_b_pred_mlr,R_tr_pred_mlr,R_a_pred_mlr,R_aa_pred_mlr,R_awl_pred_mlr,eff_tot_pred_mlr,P_b_pred_mlr,FOC_pred_mlr = foc_fun(dfprog['stw_pred_mlr'],dfprog['draught'],dfprog['windspeed'],dfprog['truewinddir'],dfprog['windwaveswellheight'],dfprog['truewavedir'])"
   ]
  },
  {
   "cell_type": "code",
   "execution_count": 406,
   "metadata": {},
   "outputs": [
    {
     "name": "stdout",
     "output_type": "stream",
     "text": [
      "Froude Number 0.2454\n",
      "C_b 0.6451\n",
      "C_m 0.9741\n",
      "C_p 0.6623\n",
      "dsp 13388.8120 m^3\n",
      "c14 1.1100\n",
      "lr 48.8488 m\n",
      "k1_const 1.2102\n",
      "Mean Reynold Number 1104352782.16\n",
      "Mean Coefficient of friction 0.000919\n",
      "C_wp 0.7634\n",
      "A_m 143.93 m^2\n",
      "A_t 7.34 m^2\n",
      "A_bt 12.23 m^2\n",
      "S_bh 3843.36 m^2\n",
      "Mean STW 17.49 kt\n",
      "Frictional Resistance 181741.13 N\n",
      "S_app between 124.51 and 200.96 according to Hollenbach\n",
      "Wetted area of hull is 3843.36\n",
      "(1+k2) equivalent 1.17\n",
      "Total Appendage area is 155.23\n",
      "Friction due to bow thrusters 13688.21 N\n",
      "Mean STW 17.49 kt\n",
      "Appendage Friction 34486.04 N\n",
      "Ratio check to ensure correct formula is used for Holtrop Mennen\n",
      "B/lwl = 0.17\n",
      "lwl^3/displacemt = 226.76\n",
      "C_p = 0.6623\n",
      "Mean STW 17.49 kt\n",
      "Wave resistance 119769.89 N\n",
      "Emergence of bulb Pb 21.1421\n",
      "Immersion Froude number Fn_i 1.94\n",
      "Mean STW 17.49 kt\n",
      "Resistance due to bulbous bow 71285.14 N\n",
      "Froude for Transom 4.9305\n",
      "Mean STW 17.49 kt\n",
      "Resistance due to transom 4951.12 N\n",
      "Ratio check to ensure correct formula is used for Holtrop Mennen\n",
      "C_a 0.0002694806327505775\n",
      "Mean STW 17.49 kt\n",
      "Correlation allowance resistance 46061.38 N\n",
      "Mean wind resistance Blendermann 12026.31N\n",
      "Mean wave resistance STAWAVE-1 109.71 N\n",
      "Total Efficiency 0.767\n",
      "Average Power 5122.272 kW\n",
      "Max Power 11293.168 kW\n",
      "Average Fuel Consumption per hour 0.868 T\n"
     ]
    }
   ],
   "source": [
    "Rf_act,R_app_act,R_w_act,R_b_act,R_tr_act,R_a_act,R_aa_act,R_awl_act,eff_tot_act,P_b_act,FOC_act = foc_fun(dfprog['stw_act'],dfprog['draught'],dfprog['windspeed'],dfprog['truewinddir'],dfprog['windwaveswellheight'],dfprog['truewavedir'])"
   ]
  },
  {
   "cell_type": "code",
   "execution_count": 407,
   "metadata": {},
   "outputs": [
    {
     "name": "stderr",
     "output_type": "stream",
     "text": [
      "C:\\Users\\Wafi\\AppData\\Local\\Temp\\ipykernel_20112\\1008389953.py:6: UserWarning: You passed a edgecolor/edgecolors ('grey') for an unfilled marker ('x').  Matplotlib is ignoring the edgecolor in favor of the facecolor.  This behavior may change in the future.\n",
      "  plt.scatter(dfprog['stw_pred_rf'],P_b_pred_rf,c='black',edgecolors='grey',marker='x',label=rf\"RFR\")\n"
     ]
    },
    {
     "data": {
      "image/png": "[encoded data removed]",
      "text/plain": [
       "<Figure size 640x480 with 1 Axes>"
      ]
     },
     "metadata": {},
     "output_type": "display_data"
    }
   ],
   "source": [
    "slow_steam = 0.2*9760\n",
    "normal = 0.65*9760\n",
    "max_Pb = 9760\n",
    "\n",
    "plt.scatter(dfprog['stw_act'],P_b_act,edgecolors='black',c='grey',label=rf\"Actual\")\n",
    "plt.scatter(dfprog['stw_pred_rf'],P_b_pred_rf,c='black',edgecolors='grey',marker='x',label=rf\"RFR\")\n",
    "# plt.scatter(dfprog['stw_pred_dt'],P_b_pred_dt,c='orange',edgecolors='black',marker='+')\n",
    "# plt.scatter(dfprog['stw_pred_mlr'],P_b_pred_mlr,edgecolors='black',marker='^',facecolors='none')\n",
    "# plt.scatter(dfprog['stw_pred'],P_b_pred,c='#1f77b4',edgecolors='black')\n",
    "# plt.scatter(dfprog['stw_act'],P_b_act,edgecolors='black',c='grey',label=rf\"Actual\")\n",
    "plt.scatter(dfprog['stw_pred'],P_b_pred,edgecolors='black',c='grey',marker='^',label=rf\"ETR\")\n",
    "# plt.scatter(dfprog['stw_act'],P_b_act,edgecolors='black',c='orange')\n",
    "# Here: add a new tick with the required value\n",
    "plt.axhline(y=slow_steam,linestyle = 'dotted',c='k')\n",
    "plt.axhline(y=normal,linestyle = 'dotted',c='k')\n",
    "plt.axhline(y=max_Pb,linestyle = 'dotted',c='k')\n",
    "plt.text(6.1,2100,'Slow Steaming',rotation=360)\n",
    "plt.text(6.1,6444,'Normal Crusing',rotation=360)\n",
    "plt.text(10.1,9900,'Max Power',rotation=360)\n",
    "plt.xlim(6,22)\n",
    "plt.xlabel(r'Speed Through Water [$STW$]', fontsize=13)\n",
    "plt.ylabel(r'Power [$kW$]', fontsize=13)\n",
    "plt.grid(linestyle = '--', linewidth = 0.5)\n",
    "plt.legend()\n",
    "plt.show()"
   ]
  },
  {
   "cell_type": "code",
   "execution_count": 408,
   "metadata": {},
   "outputs": [],
   "source": [
    "stw_pred = dfprog['stw_pred']\n",
    "stw_act = dfprog['stw_act']"
   ]
  },
  {
   "cell_type": "code",
   "execution_count": 409,
   "metadata": {},
   "outputs": [
    {
     "name": "stdout",
     "output_type": "stream",
     "text": [
      "[ 4.03298387e-01 -1.55462094e+01  2.36192075e+02 -1.45883848e+03\n",
      "  3.42129754e+03]\n",
      "[ 3.52648117e-01 -1.40401298e+01  2.20756039e+02 -1.40028001e+03\n",
      "  3.36196431e+03]\n"
     ]
    },
    {
     "data": {
      "image/png": "[encoded data removed]",
      "text/plain": [
       "<Figure size 640x480 with 1 Axes>"
      ]
     },
     "metadata": {},
     "output_type": "display_data"
    }
   ],
   "source": [
    "Xp = stw_pred_et\n",
    "Yp = P_b_pred\n",
    "\n",
    "Xa = stw_act\n",
    "Ya = P_b_act\n",
    "\n",
    "coefs_pred = np.polyfit(Xp, Yp, 4)\n",
    "coefs_act = np.polyfit(Xa, Ya, 4)\n",
    "\n",
    "print(coefs_pred)\n",
    "print(coefs_act)\n",
    "\n",
    "p_pred = np.poly1d(coefs_pred)\n",
    "p_act = np.poly1d(coefs_act)\n",
    "\n",
    "plt.scatter(Xp, Yp,marker='x',linewidths=.5,c='gray',label = 'Predicted STW',s=12 )\n",
    "plt.scatter(Xa, Ya,marker='o',linewidths=.8,edgecolors='gray',c='darkgray', label = 'Actual STW',s=12 )\n",
    "\n",
    "sorted_pred= np.sort(Xp)\n",
    "sorted_act= np.sort(Xa)\n",
    "\n",
    "plt.plot(sorted_pred, p_pred(sorted_pred), linestyle = '-',color = 'b',\n",
    "         label=rf'$y = {coefs_pred[0]:.1f}x^4 {coefs_pred[1]:.1f}x^3 + {coefs_pred[2]:.1f}x^2 {coefs_pred[3]:.1f}x + {coefs_pred[4]:.1f}$') #p(X) evaluates the polynomial at X\n",
    "plt.plot(sorted_act, p_act(sorted_act), linestyle = \"-.\" , color = 'red',\n",
    "         label=rf'$y = {coefs_act[0]:.1f}x^4 {coefs_act[1]:.1f}x^3 + {coefs_act[2]:.1f}x^2 {coefs_act[3]:.1f}x + {coefs_act[4]:.1f}$') #p(X) evaluates the polynomial at X\n",
    "plt.title(\"Predicted vs Actual\")\n",
    "plt.xlabel(r'STW [$knots$]', fontsize=13)\n",
    "plt.ylabel(r'Power [$kW$]', fontsize=13)\n",
    "\n",
    "plt.axhline(y=slow_steam,linestyle = 'dotted',c='k')\n",
    "plt.axhline(y=normal,linestyle = 'dotted',c='k')\n",
    "plt.axhline(y=max_Pb,linestyle = 'dotted',c='k')\n",
    "\n",
    "plt.text(6.1,2100,'Slow Steaming',rotation=360)\n",
    "plt.text(6.1,6500,'Normal Crusing',rotation=360)\n",
    "plt.text(6.1,9900,'Max Power',rotation=360)\n",
    "\n",
    "\n",
    "plt.xlim(6,20)\n",
    "# plt.ylim(200,5000)\n",
    "plt.grid(linestyle = '--', linewidth = 0.5)\n",
    "plt.legend(bbox_to_anchor=(0,-.4),loc=\"lower left\")\n",
    "plt.show()\n"
   ]
  },
  {
   "cell_type": "code",
   "execution_count": 410,
   "metadata": {},
   "outputs": [],
   "source": [
    "def evaluate_FOC(model,FOC_act,FOC_pred):\n",
    "    from sklearn.metrics import mean_squared_error,mean_absolute_percentage_error,r2_score,explained_variance_score,median_absolute_error,mean_absolute_error\n",
    "    \n",
    "    Rsquared_FOC = r2_score(FOC_act,FOC_pred)\n",
    "    expVar_FOC = explained_variance_score(FOC_act,FOC_pred)\n",
    "    MAE_FOC = mean_absolute_error(FOC_act,FOC_pred)\n",
    "    RMSE_FOC = math.sqrt(mean_squared_error(FOC_act, FOC_pred))\n",
    "    MAD_FOC = median_absolute_error(FOC_act,FOC_pred)\n",
    "    MAPE_FOC = mean_absolute_percentage_error(FOC_act, FOC_pred)\n",
    "    \n",
    "\n",
    "    print(f\"Model Performance of {model}\")\n",
    "    print(f\"R^2 {Rsquared_FOC:0.4f}\")\n",
    "    print(f\"Explained Variance {expVar_FOC:0.4f}\")\n",
    "    print(f\"MSE {MAE_FOC:0.4f} T/h\")    \n",
    "    print(f\"RMSE FOC {RMSE_FOC:0.4f} T/h\")\n",
    "    print(f\"MAD {MAD_FOC:0.4f} T/h\")    \n",
    "    print(f\"MAPE FOC {MAPE_FOC:0.4f} %\")\n"
   ]
  },
  {
   "cell_type": "code",
   "execution_count": 411,
   "metadata": {},
   "outputs": [
    {
     "name": "stdout",
     "output_type": "stream",
     "text": [
      "Model Performance of ETR\n",
      "R^2 0.9734\n",
      "Explained Variance 0.9795\n",
      "MSE 0.0419 T/h\n",
      "RMSE FOC 0.0623 T/h\n",
      "MAD 0.0257 T/h\n",
      "MAPE FOC 0.0471 %\n"
     ]
    }
   ],
   "source": [
    "evaluate_FOC('ETR',FOC_act,FOC_pred)"
   ]
  },
  {
   "cell_type": "code",
   "execution_count": 412,
   "metadata": {},
   "outputs": [
    {
     "name": "stdout",
     "output_type": "stream",
     "text": [
      "Model Performance of RFR\n",
      "R^2 0.9725\n",
      "Explained Variance 0.9787\n",
      "MSE 0.0420 T/h\n",
      "RMSE FOC 0.0633 T/h\n",
      "MAD 0.0261 T/h\n",
      "MAPE FOC 0.0478 %\n"
     ]
    }
   ],
   "source": [
    "evaluate_FOC('RFR',FOC_act,FOC_pred_rf)"
   ]
  },
  {
   "cell_type": "code",
   "execution_count": 413,
   "metadata": {},
   "outputs": [
    {
     "name": "stdout",
     "output_type": "stream",
     "text": [
      "Model Performance of DTR\n",
      "R^2 0.9691\n",
      "Explained Variance 0.9756\n",
      "MSE 0.0457 T/h\n",
      "RMSE FOC 0.0671 T/h\n",
      "MAD 0.0292 T/h\n",
      "MAPE FOC 0.0524 %\n"
     ]
    }
   ],
   "source": [
    "evaluate_FOC('DTR',FOC_act,FOC_pred_dt)"
   ]
  },
  {
   "cell_type": "code",
   "execution_count": 414,
   "metadata": {},
   "outputs": [
    {
     "name": "stdout",
     "output_type": "stream",
     "text": [
      "Model Performance of MLR\n",
      "R^2 0.9412\n",
      "Explained Variance 0.9543\n",
      "MSE 0.0701 T/h\n",
      "RMSE FOC 0.0926 T/h\n",
      "MAD 0.0576 T/h\n",
      "MAPE FOC 0.0853 %\n"
     ]
    }
   ],
   "source": [
    "evaluate_FOC('MLR',FOC_act,FOC_pred_mlr)"
   ]
  }
 ],
 "metadata": {
  "kernelspec": {
   "display_name": "Python 3",
   "language": "python",
   "name": "python3"
  },
  "language_info": {
   "codemirror_mode": {
    "name": "ipython",
    "version": 3
   },
   "file_extension": ".py",
   "mimetype": "text/x-python",
   "name": "python",
   "nbconvert_exporter": "python",
   "pygments_lexer": "ipython3",
   "version": "3.9.15"
  },
  "orig_nbformat": 4
 },
 "nbformat": 4,
 "nbformat_minor": 2
}
