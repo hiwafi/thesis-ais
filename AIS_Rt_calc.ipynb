{
 "cells": [
  {
   "cell_type": "code",
   "execution_count": 248,
   "metadata": {},
   "outputs": [],
   "source": [
    "import numpy as np\n",
    "import math\n",
    "\n",
    "\n",
    "# List of basic ship information\n",
    "\n",
    "loa = 158 # ship overall length\n",
    "lwl = 144.8 # ship waterline length, m\n",
    "lpp = 0.97*lwl # ship perpendicular length , m, according to information\n",
    "B = 24.5 # Ship B, m\n",
    "depth = 13.8 # Ship depth. m\n",
    "T_n = 5.85 # Nominal max draught , m\n",
    "dwt = 5110 # ship dead weight , t\n",
    "V_n = 17.7 # ship design speed, knots\n",
    "\n",
    "#list of constants\n",
    "\n",
    "g = 9.805 # gravity, kg/ms^2 \n",
    "rho_sea = 1025 # kg/m3\n",
    "nu_sea = 0.00000118 # Dynamic viscosity of sea m^2/s"
   ]
  },
  {
   "cell_type": "code",
   "execution_count": 249,
   "metadata": {},
   "outputs": [
    {
     "name": "stdout",
     "output_type": "stream",
     "text": [
      "Froude Number 0.2454\n",
      "C_b 0.6451\n"
     ]
    }
   ],
   "source": [
    "# Calculation for C_b according to Schneekluth and Bertram 1998\n",
    "# first calculate froude number Fn\n",
    "V_n = 17.7/1.94384\n",
    "Fr_n = V_n / math.sqrt(g*lpp)\n",
    "print(f\"Froude Number {Fr_n:0.4f}\")\n",
    "C_b = -4.22 + 27.8*math.sqrt(Fr_n) - 39.1*Fr_n + 46.6*(Fr_n)**3\n",
    "print(f\"C_b {C_b:0.4f}\")\n"
   ]
  },
  {
   "cell_type": "code",
   "execution_count": 250,
   "metadata": {},
   "outputs": [
    {
     "name": "stdout",
     "output_type": "stream",
     "text": [
      "C_m 0.9808\n",
      "C_p 0.2454\n"
     ]
    }
   ],
   "source": [
    "# calculation for C_m according to charchalis 2017\n",
    "\n",
    "C_m = 0.977 + 0.085*(C_b-0.6)\n",
    "print(f\"C_m {C_m:0.4f}\")\n",
    "\n",
    "# prismatic coefficient C_p can be calculated\n",
    "\n",
    "C_p = C_b/C_m \n",
    "print(f\"C_p {Fr_n:0.4f}\")\n"
   ]
  },
  {
   "cell_type": "code",
   "execution_count": 251,
   "metadata": {},
   "outputs": [
    {
     "name": "stdout",
     "output_type": "stream",
     "text": [
      "dsp 14600.0000 m^3\n"
     ]
    }
   ],
   "source": [
    "# Displacement calculation according to barras\n",
    "# Use approximate value cd=0.35 according to Barras\n",
    "\n",
    "dsp = dwt/0.35 # m^3\n",
    "print(f\"dsp {dsp:0.4f} m^3\")\n"
   ]
  },
  {
   "cell_type": "code",
   "execution_count": 252,
   "metadata": {},
   "outputs": [
    {
     "name": "stdout",
     "output_type": "stream",
     "text": [
      "c14 1.1100\n"
     ]
    }
   ],
   "source": [
    "# coefficient c14 to account for stern shape according to holtrop mennen\n",
    "\n",
    "C_stern = 10 # assume u shaped stern\n",
    "c14 = 1 + 0.011*C_stern \n",
    "print(f\"c14 {c14:0.4f}\")\n"
   ]
  },
  {
   "cell_type": "code",
   "execution_count": 253,
   "metadata": {},
   "outputs": [
    {
     "name": "stdout",
     "output_type": "stream",
     "text": [
      "lr 49.4890 m\n"
     ]
    }
   ],
   "source": [
    "# Calculate length of run according to holtrop mennen\n",
    "\n",
    "lcb = -2/100 # ratio lcb wrt to amidship ford, value from barras\n",
    "# L in holtrop mennen is lwl\n",
    "lr = lwl*(1-C_p+(0.06*C_p*lcb/(4*C_p-1)))\n",
    "print(f\"lr {lr:0.4f} m\")\n"
   ]
  },
  {
   "cell_type": "code",
   "execution_count": 254,
   "metadata": {},
   "outputs": [
    {
     "name": "stdout",
     "output_type": "stream",
     "text": [
      "k1_const 1.2119\n"
     ]
    }
   ],
   "source": [
    "# now the (1+k1) can be calculated\n",
    "\n",
    "k1a = 0.487118*c14*(B/lwl)**1.06806\n",
    "k1b = (T_n/lwl)**0.46106\n",
    "k1c = (lwl/lr)**0.121563\n",
    "k1d = (lwl**3/dsp)**0.36486\n",
    "k1e = (1-C_p)**-0.604247\n",
    "\n",
    "k1_const = 0.93 + k1a*k1b*k1c*k1d*k1e\n",
    "\n",
    "print(f\"k1_const {k1_const:0.4f}\")\n"
   ]
  },
  {
   "cell_type": "code",
   "execution_count": 255,
   "metadata": {},
   "outputs": [
    {
     "name": "stdout",
     "output_type": "stream",
     "text": [
      "0    1.073186e+09\n",
      "1    1.136314e+09\n",
      "2    1.199443e+09\n",
      "3    1.262572e+09\n",
      "4    1.325700e+09\n",
      "Name: Re, dtype: float64\n",
      "0    0.000920\n",
      "1    0.000915\n",
      "2    0.000910\n",
      "3    0.000905\n",
      "4    0.000901\n",
      "Name: cf, dtype: float64\n",
      "C_wp 0.7634\n",
      "11.24627236597615\n",
      "A_bt 11.2463 m^2\n",
      "S_bh 3958.0019 m^2\n",
      "0    172913.623194\n",
      "1    192793.359170\n",
      "2    213700.189821\n",
      "3    235629.204829\n",
      "4    258575.778420\n",
      "Name: R_f, dtype: float64\n"
     ]
    }
   ],
   "source": [
    "# we can then calculate R_f\n",
    "import pandas as pd\n",
    "import numpy as np\n",
    "# use v mean = 10 for Reynold\n",
    "\n",
    "v_dummy = [17,18,19,20,21]\n",
    "v_dummy_df = pd.DataFrame(v_dummy,columns=['dummy_vel'])\n",
    "v_dummy_df['dummy_vel_ms'] = v_dummy_df['dummy_vel'] / 1.94384\n",
    "v_dummy_df['Re'] =( v_dummy_df['dummy_vel_ms'] * lwl ) / nu_sea\n",
    "v_dummy_df['cf'] = 0.075 / (np.log10(v_dummy_df['Re']-2)**2)\n",
    "print(v_dummy_df['Re'])\n",
    "print(v_dummy_df['cf'])\n",
    "\n",
    "# calculate appendage area of bare hull S_bh\n",
    "\n",
    "# first calculate C_wp acc. to schneekluth and bertram\n",
    "C_wp = (1+2*C_b)/3\n",
    "print(f\"C_wp {C_wp:0.4f}\")\n",
    "\n",
    "# A_bt according to kim\n",
    "\n",
    "A_m = B*T_n*C_m\n",
    "A_t = 0.051 * A_m\n",
    "A_bt = 0.08*A_m\n",
    "print(A_bt)\n",
    "\n",
    "print(f\"A_bt {A_bt:0.4f} m^2\")\n",
    "\n",
    "sbh_a = lwl*(2*T_n+B)*math.sqrt(C_m)\n",
    "sbh_b = 0.453\n",
    "sbh_c = 0.4425*C_b\n",
    "sbh_d = 0.2862*C_m\n",
    "sbh_e = 0.003467*(B/T_n)\n",
    "sbh_f = 0.3696*C_wp\n",
    "sbh_g = 2.38*A_bt/C_b\n",
    "\n",
    "S_bh = sbh_a*(sbh_b+sbh_c-sbh_d+sbh_e+sbh_f)+sbh_g\n",
    "print(f\"S_bh {S_bh:0.4f} m^2\")\n",
    "\n",
    "v_dummy_df['R_f'] = 0.5 * rho_sea * (v_dummy_df['dummy_vel_ms'])**2 * v_dummy_df['cf'] * S_bh * k1_const\n",
    "print(v_dummy_df['R_f'])\n",
    "\n"
   ]
  },
  {
   "cell_type": "code",
   "execution_count": 256,
   "metadata": {},
   "outputs": [
    {
     "name": "stdout",
     "output_type": "stream",
     "text": [
      "0    5046.840273\n",
      "1    5627.071317\n",
      "2    6237.280235\n",
      "3    6877.323709\n",
      "4    7547.066726\n",
      "Name: Rapp, dtype: float64\n"
     ]
    }
   ],
   "source": [
    "# Now resistance due to appendage\n",
    "# Assume Sapp\n",
    "\n",
    "S_app = 50 # m^2 \n",
    "# from holtrop mennen\n",
    "k2_const = 2.8\n",
    "\n",
    "v_dummy_df['Rapp'] = 0.5 * rho_sea * (v_dummy_df['dummy_vel_ms'])**2 * (v_dummy_df['cf']) * S_app *k2_const\n",
    "print(v_dummy_df['Rapp'])\n"
   ]
  },
  {
   "cell_type": "code",
   "execution_count": 257,
   "metadata": {},
   "outputs": [
    {
     "name": "stdout",
     "output_type": "stream",
     "text": [
      "0.1691988950276243\n",
      "5.910204081632654\n",
      "207.94708164383565\n"
     ]
    }
   ],
   "source": [
    "print(B/lwl)\n",
    "print(lwl/B)\n",
    "print(lwl**3/dsp)"
   ]
  },
  {
   "cell_type": "code",
   "execution_count": 258,
   "metadata": {},
   "outputs": [
    {
     "name": "stdout",
     "output_type": "stream",
     "text": [
      "0.04360273752148408\n",
      "0.6739118418119685\n",
      "0.9592\n",
      "0.7737872716316899\n",
      "1.302542119617646\n",
      "-2.061826835604456\n",
      "-0.13919818956744992\n",
      "19.867152251684907\n",
      "1.6394657947130131\n",
      "0    91773.557081\n",
      "1    91773.557081\n",
      "2    91773.557081\n",
      "3    91773.557081\n",
      "4    91773.557081\n",
      "Name: R_w, dtype: float64\n"
     ]
    }
   ],
   "source": [
    "# calculate wave resistance\n",
    "c7 = B/lwl\n",
    "T_fwd = T_n # assume !\n",
    "h_b = 0.6*T_fwd\n",
    "c3 = 0.56 * A_bt**1.5 / (B*T_n*(0.31*math.sqrt(A_bt)+T_fwd-h_b))\n",
    "print(c3)\n",
    "c2 = math.exp(-1.89*math.sqrt(c3))\n",
    "print(c2)\n",
    "c5 = 1 - 0.8*(A_t/(B*T_n*C_m))\n",
    "print(c5)\n",
    "lambda_const = (1.446 * C_p) - 0.03*(lwl/B)\n",
    "print(lambda_const)\n",
    "c16 = 8.07981*C_p - 13.8673*C_p**2 + 6.984388*C_p**3\n",
    "print(c16)\n",
    "m_1 = 0.0140407 * (lwl/T_n) - 1.75254*(dsp**(1/3)/lwl) -  4.79323*(B/lwl) - c16\n",
    "print(m_1)\n",
    "c15 = -1.69385\n",
    "m_2 = c15 * C_p**2 * math.exp(-0.1*Fr_n**-2)\n",
    "print(m_2)\n",
    "i_e = 1 + 89*math.exp(-(lwl/B)**0.80856*(1-C_wp)**0.30484*(1-C_p-0.0225*lcb)**0.6367*(lr/B)**0.34574*((100*dsp)/lwl**3)**0.16302)\n",
    "print(i_e)\n",
    "c1 = 2223105 * c7**3.78613 * (T_n/B)**1.07961*(90-i_e)**-1.37565\n",
    "print(c1)\n",
    "d = -0.9\n",
    "\n",
    "v_dummy_df['R_w'] = c1*c2*c5*dsp*g*rho_sea*math.exp(m_1*Fr_n**d+m_2*math.cos(lambda_const*Fr_n**-2))\n",
    "print(v_dummy_df['R_w'])"
   ]
  },
  {
   "cell_type": "code",
   "execution_count": 259,
   "metadata": {},
   "outputs": [
    {
     "name": "stdout",
     "output_type": "stream",
     "text": [
      "11.24627236597615\n",
      "5.85\n"
     ]
    }
   ],
   "source": [
    "print(A_bt)\n",
    "print(T_fwd)"
   ]
  },
  {
   "cell_type": "code",
   "execution_count": 260,
   "metadata": {},
   "outputs": [
    {
     "name": "stdout",
     "output_type": "stream",
     "text": [
      "3.210232295573174\n",
      "0    39665.078556\n",
      "1    41570.874930\n",
      "2    43333.796507\n",
      "3    44963.748566\n",
      "4    46470.525453\n",
      "Name: R_b, dtype: float64\n"
     ]
    }
   ],
   "source": [
    "# resistance due to bulbous bow\n",
    "# use V = 10 m/s\n",
    "\n",
    "P_b = 0.56*math.sqrt(A_bt)/(T_fwd-1.5*h_b)\n",
    "print(P_b)\n",
    "v_dummy_df['F_ni'] = v_dummy_df['dummy_vel_ms'] / np.sqrt(g*(T_fwd-h_b-0.25*math.sqrt(A_bt))+0.15*v_dummy_df['dummy_vel_ms']**2)\n",
    "v_dummy_df['R_b'] = 0.11 * np.exp(-3*P_b**-2)*v_dummy_df['F_ni']**3*A_bt**1.5*rho_sea*g/(1+v_dummy_df['F_ni']**2)\n",
    "print(v_dummy_df['R_b'])"
   ]
  },
  {
   "cell_type": "code",
   "execution_count": 261,
   "metadata": {},
   "outputs": [
    {
     "name": "stdout",
     "output_type": "stream",
     "text": [
      "5.5434260311174\n",
      "R_tr = 0.0000 N\n"
     ]
    }
   ],
   "source": [
    "#Calculate Transom Resistance \n",
    "# use v = 10\n",
    "\n",
    "F_nT = 10 / math.sqrt(2*g*A_t/(B+B*C_wp))\n",
    "print(F_nT)\n",
    "c6 = 0\n",
    "R_tr = 0.5*rho_sea*10**2*A_t*c6\n",
    "print(f\"R_tr = {R_tr:0.4f} N\")"
   ]
  },
  {
   "cell_type": "code",
   "execution_count": 262,
   "metadata": {},
   "outputs": [
    {
     "name": "stdout",
     "output_type": "stream",
     "text": [
      "0.04040055248618784\n",
      "0.00043852165454709695\n",
      "0     68035.836645\n",
      "1     76275.470840\n",
      "2     84985.941276\n",
      "3     94167.247951\n",
      "4    103819.390866\n",
      "Name: R_a, dtype: float64\n"
     ]
    }
   ],
   "source": [
    "# Model ship correlation resistance\n",
    "\n",
    "c4 = T_fwd/lwl\n",
    "print(c4)\n",
    "# since c4>0.04, use c4 as c4 = 0.04\n",
    "c4 = 0.04\n",
    "ca = 0.006*(lwl+100)**-0.16 - 0.00205 + 0.003*math.sqrt(lwl/7.5)*C_b**4*c2*(0.04-c4)\n",
    "print(ca)\n",
    "v_dummy_df['R_a'] = 0.5*rho_sea*v_dummy_df['dummy_vel_ms']**2*S_bh*ca\n",
    "print(v_dummy_df['R_a'])\n"
   ]
  },
  {
   "cell_type": "code",
   "execution_count": 263,
   "metadata": {},
   "outputs": [],
   "source": [
    "# Calculate Rtot\n",
    "\n",
    "v_dummy_df['R_tot'] = v_dummy_df['R_f'] + v_dummy_df['Rapp'] + v_dummy_df['R_w'] + v_dummy_df['R_b'] + v_dummy_df['R_a'] # in kN"
   ]
  },
  {
   "cell_type": "code",
   "execution_count": 264,
   "metadata": {},
   "outputs": [
    {
     "data": {
      "text/html": [
       "<div>\n",
       "<style scoped>\n",
       "    .dataframe tbody tr th:only-of-type {\n",
       "        vertical-align: middle;\n",
       "    }\n",
       "\n",
       "    .dataframe tbody tr th {\n",
       "        vertical-align: top;\n",
       "    }\n",
       "\n",
       "    .dataframe thead th {\n",
       "        text-align: right;\n",
       "    }\n",
       "</style>\n",
       "<table border=\"1\" class=\"dataframe\">\n",
       "  <thead>\n",
       "    <tr style=\"text-align: right;\">\n",
       "      <th></th>\n",
       "      <th>dummy_vel</th>\n",
       "      <th>dummy_vel_ms</th>\n",
       "      <th>Re</th>\n",
       "      <th>cf</th>\n",
       "      <th>R_f</th>\n",
       "      <th>Rapp</th>\n",
       "      <th>R_w</th>\n",
       "      <th>F_ni</th>\n",
       "      <th>R_b</th>\n",
       "      <th>R_a</th>\n",
       "      <th>R_tot</th>\n",
       "    </tr>\n",
       "  </thead>\n",
       "  <tbody>\n",
       "    <tr>\n",
       "      <th>0</th>\n",
       "      <td>17</td>\n",
       "      <td>8.745576</td>\n",
       "      <td>1.073186e+09</td>\n",
       "      <td>0.000920</td>\n",
       "      <td>172913.623194</td>\n",
       "      <td>5046.840273</td>\n",
       "      <td>91773.557081</td>\n",
       "      <td>1.708717</td>\n",
       "      <td>39665.078556</td>\n",
       "      <td>68035.836645</td>\n",
       "      <td>377.434936</td>\n",
       "    </tr>\n",
       "    <tr>\n",
       "      <th>1</th>\n",
       "      <td>18</td>\n",
       "      <td>9.260021</td>\n",
       "      <td>1.136314e+09</td>\n",
       "      <td>0.000915</td>\n",
       "      <td>192793.359170</td>\n",
       "      <td>5627.071317</td>\n",
       "      <td>91773.557081</td>\n",
       "      <td>1.763078</td>\n",
       "      <td>41570.874930</td>\n",
       "      <td>76275.470840</td>\n",
       "      <td>408.040333</td>\n",
       "    </tr>\n",
       "    <tr>\n",
       "      <th>2</th>\n",
       "      <td>19</td>\n",
       "      <td>9.774467</td>\n",
       "      <td>1.199443e+09</td>\n",
       "      <td>0.000910</td>\n",
       "      <td>213700.189821</td>\n",
       "      <td>6237.280235</td>\n",
       "      <td>91773.557081</td>\n",
       "      <td>1.813374</td>\n",
       "      <td>43333.796507</td>\n",
       "      <td>84985.941276</td>\n",
       "      <td>440.030765</td>\n",
       "    </tr>\n",
       "    <tr>\n",
       "      <th>3</th>\n",
       "      <td>20</td>\n",
       "      <td>10.288913</td>\n",
       "      <td>1.262572e+09</td>\n",
       "      <td>0.000905</td>\n",
       "      <td>235629.204829</td>\n",
       "      <td>6877.323709</td>\n",
       "      <td>91773.557081</td>\n",
       "      <td>1.859904</td>\n",
       "      <td>44963.748566</td>\n",
       "      <td>94167.247951</td>\n",
       "      <td>473.411082</td>\n",
       "    </tr>\n",
       "    <tr>\n",
       "      <th>4</th>\n",
       "      <td>21</td>\n",
       "      <td>10.803358</td>\n",
       "      <td>1.325700e+09</td>\n",
       "      <td>0.000901</td>\n",
       "      <td>258575.778420</td>\n",
       "      <td>7547.066726</td>\n",
       "      <td>91773.557081</td>\n",
       "      <td>1.902950</td>\n",
       "      <td>46470.525453</td>\n",
       "      <td>103819.390866</td>\n",
       "      <td>508.186319</td>\n",
       "    </tr>\n",
       "  </tbody>\n",
       "</table>\n",
       "</div>"
      ],
      "text/plain": [
       "   dummy_vel  dummy_vel_ms            Re        cf            R_f  \\\n",
       "0         17      8.745576  1.073186e+09  0.000920  172913.623194   \n",
       "1         18      9.260021  1.136314e+09  0.000915  192793.359170   \n",
       "2         19      9.774467  1.199443e+09  0.000910  213700.189821   \n",
       "3         20     10.288913  1.262572e+09  0.000905  235629.204829   \n",
       "4         21     10.803358  1.325700e+09  0.000901  258575.778420   \n",
       "\n",
       "          Rapp           R_w      F_ni           R_b            R_a  \\\n",
       "0  5046.840273  91773.557081  1.708717  39665.078556   68035.836645   \n",
       "1  5627.071317  91773.557081  1.763078  41570.874930   76275.470840   \n",
       "2  6237.280235  91773.557081  1.813374  43333.796507   84985.941276   \n",
       "3  6877.323709  91773.557081  1.859904  44963.748566   94167.247951   \n",
       "4  7547.066726  91773.557081  1.902950  46470.525453  103819.390866   \n",
       "\n",
       "        R_tot  \n",
       "0  377.434936  \n",
       "1  408.040333  \n",
       "2  440.030765  \n",
       "3  473.411082  \n",
       "4  508.186319  "
      ]
     },
     "execution_count": 264,
     "metadata": {},
     "output_type": "execute_result"
    }
   ],
   "source": [
    "v_dummy_df.head()"
   ]
  },
  {
   "cell_type": "code",
   "execution_count": 265,
   "metadata": {},
   "outputs": [],
   "source": [
    "v_dummy_df2=v_dummy_df.drop(['cf','Re','F_ni'],axis=1)"
   ]
  },
  {
   "cell_type": "code",
   "execution_count": 266,
   "metadata": {},
   "outputs": [
    {
     "name": "stdout",
     "output_type": "stream",
     "text": [
      "3.44\n",
      "0.6451363786295532\n",
      "1.2118857645707746\n",
      "24.5\n",
      "5.85\n",
      "0    0.986099\n",
      "1    0.986053\n",
      "2    0.986011\n",
      "3    0.985971\n",
      "4    0.985933\n",
      "Name: eff_h, dtype: float64\n",
      "0    1.048474\n",
      "1    1.048474\n",
      "2    1.048474\n",
      "3    1.048474\n",
      "4    1.048474\n",
      "Name: eff_r, dtype: float64\n"
     ]
    },
    {
     "data": {
      "text/html": [
       "<div>\n",
       "<style scoped>\n",
       "    .dataframe tbody tr th:only-of-type {\n",
       "        vertical-align: middle;\n",
       "    }\n",
       "\n",
       "    .dataframe tbody tr th {\n",
       "        vertical-align: top;\n",
       "    }\n",
       "\n",
       "    .dataframe thead th {\n",
       "        text-align: right;\n",
       "    }\n",
       "</style>\n",
       "<table border=\"1\" class=\"dataframe\">\n",
       "  <thead>\n",
       "    <tr style=\"text-align: right;\">\n",
       "      <th></th>\n",
       "      <th>dummy_vel</th>\n",
       "      <th>dummy_vel_ms</th>\n",
       "      <th>R_f</th>\n",
       "      <th>Rapp</th>\n",
       "      <th>R_w</th>\n",
       "      <th>R_b</th>\n",
       "      <th>R_a</th>\n",
       "      <th>R_tot</th>\n",
       "      <th>eff_tot</th>\n",
       "      <th>P_b</th>\n",
       "    </tr>\n",
       "  </thead>\n",
       "  <tbody>\n",
       "    <tr>\n",
       "      <th>0</th>\n",
       "      <td>17</td>\n",
       "      <td>8.745576</td>\n",
       "      <td>172913.623194</td>\n",
       "      <td>5046.840273</td>\n",
       "      <td>91773.557081</td>\n",
       "      <td>39665.078556</td>\n",
       "      <td>68035.836645</td>\n",
       "      <td>377.434936</td>\n",
       "      <td>0.767670</td>\n",
       "      <td>4.299878</td>\n",
       "    </tr>\n",
       "    <tr>\n",
       "      <th>1</th>\n",
       "      <td>18</td>\n",
       "      <td>9.260021</td>\n",
       "      <td>192793.359170</td>\n",
       "      <td>5627.071317</td>\n",
       "      <td>91773.557081</td>\n",
       "      <td>41570.874930</td>\n",
       "      <td>76275.470840</td>\n",
       "      <td>408.040333</td>\n",
       "      <td>0.767634</td>\n",
       "      <td>4.922216</td>\n",
       "    </tr>\n",
       "    <tr>\n",
       "      <th>2</th>\n",
       "      <td>19</td>\n",
       "      <td>9.774467</td>\n",
       "      <td>213700.189821</td>\n",
       "      <td>6237.280235</td>\n",
       "      <td>91773.557081</td>\n",
       "      <td>43333.796507</td>\n",
       "      <td>84985.941276</td>\n",
       "      <td>440.030765</td>\n",
       "      <td>0.767601</td>\n",
       "      <td>5.603256</td>\n",
       "    </tr>\n",
       "    <tr>\n",
       "      <th>3</th>\n",
       "      <td>20</td>\n",
       "      <td>10.288913</td>\n",
       "      <td>235629.204829</td>\n",
       "      <td>6877.323709</td>\n",
       "      <td>91773.557081</td>\n",
       "      <td>44963.748566</td>\n",
       "      <td>94167.247951</td>\n",
       "      <td>473.411082</td>\n",
       "      <td>0.767570</td>\n",
       "      <td>6.345851</td>\n",
       "    </tr>\n",
       "    <tr>\n",
       "      <th>4</th>\n",
       "      <td>21</td>\n",
       "      <td>10.803358</td>\n",
       "      <td>258575.778420</td>\n",
       "      <td>7547.066726</td>\n",
       "      <td>91773.557081</td>\n",
       "      <td>46470.525453</td>\n",
       "      <td>103819.390866</td>\n",
       "      <td>508.186319</td>\n",
       "      <td>0.767541</td>\n",
       "      <td>7.152870</td>\n",
       "    </tr>\n",
       "  </tbody>\n",
       "</table>\n",
       "</div>"
      ],
      "text/plain": [
       "   dummy_vel  dummy_vel_ms            R_f         Rapp           R_w  \\\n",
       "0         17      8.745576  172913.623194  5046.840273  91773.557081   \n",
       "1         18      9.260021  192793.359170  5627.071317  91773.557081   \n",
       "2         19      9.774467  213700.189821  6237.280235  91773.557081   \n",
       "3         20     10.288913  235629.204829  6877.323709  91773.557081   \n",
       "4         21     10.803358  258575.778420  7547.066726  91773.557081   \n",
       "\n",
       "            R_b            R_a       R_tot   eff_tot       P_b  \n",
       "0  39665.078556   68035.836645  377.434936  0.767670  4.299878  \n",
       "1  41570.874930   76275.470840  408.040333  0.767634  4.922216  \n",
       "2  43333.796507   84985.941276  440.030765  0.767601  5.603256  \n",
       "3  44963.748566   94167.247951  473.411082  0.767570  6.345851  \n",
       "4  46470.525453  103819.390866  508.186319  0.767541  7.152870  "
      ]
     },
     "execution_count": 266,
     "metadata": {},
     "output_type": "execute_result"
    }
   ],
   "source": [
    "# Calculate Efficiencies\n",
    "\n",
    "# First n_h\n",
    "# Approximate diameter size from Bertram\n",
    "\n",
    "D = 0.215*16 #m\n",
    "# D = 8\n",
    "print(D)\n",
    "print(C_b)\n",
    "print(k1_const)\n",
    "print(B)\n",
    "print(T_n)\n",
    "\n",
    "v_dummy_df['cv'] = k1_const*v_dummy_df['cf'] + ca\n",
    "# print(v_dummy_df['cv'])\n",
    "v_dummy_df['w'] = 0.3095 * C_b + 10*v_dummy_df['cv']*C_b - (0.23*D)/math.sqrt(B*T_n) \n",
    "# print(v_dummy_df['w'])\n",
    "v_dummy_df['t'] = 0.325*C_b - 0.1885*D/math.sqrt(B*T_n)\n",
    "# print(v_dummy_df['t'])\n",
    "v_dummy_df['eff_h'] = (1-v_dummy_df['t']) / (1-v_dummy_df['w'])\n",
    "print(v_dummy_df['eff_h'])\n",
    "\n",
    "# Then n_r\n",
    "v_dummy_df['eff_r'] = 0.9737 + 0.111*(C_p - 0.225*lcb) - 0.06325*lcb\n",
    "print(v_dummy_df['eff_r'])\n",
    "\n",
    "v_dummy_df['eff_s'] = 0.99 # Set according to holtrop mennen and man\n",
    "v_dummy_df['eff_o'] = 0.75 # Approx wageningen kristensen\n",
    "\n",
    "v_dummy_df2['eff_tot'] = v_dummy_df['eff_h']* v_dummy_df['eff_r']* v_dummy_df['eff_s']*v_dummy_df['eff_o']\n",
    "# print(v_dummy_df2)\n",
    "v_dummy_df2['P_b'] = (v_dummy_df2['R_tot']/1e3 * v_dummy_df2['dummy_vel_ms'])/v_dummy_df2['eff_tot'] # in kW\n",
    "v_dummy_df2.head()\n",
    "# Unit P_b is KW"
   ]
  },
  {
   "cell_type": "code",
   "execution_count": 267,
   "metadata": {},
   "outputs": [
    {
     "data": {
      "text/html": [
       "<div>\n",
       "<style scoped>\n",
       "    .dataframe tbody tr th:only-of-type {\n",
       "        vertical-align: middle;\n",
       "    }\n",
       "\n",
       "    .dataframe tbody tr th {\n",
       "        vertical-align: top;\n",
       "    }\n",
       "\n",
       "    .dataframe thead th {\n",
       "        text-align: right;\n",
       "    }\n",
       "</style>\n",
       "<table border=\"1\" class=\"dataframe\">\n",
       "  <thead>\n",
       "    <tr style=\"text-align: right;\">\n",
       "      <th></th>\n",
       "      <th>dummy_vel</th>\n",
       "      <th>dummy_vel_ms</th>\n",
       "      <th>R_f</th>\n",
       "      <th>Rapp</th>\n",
       "      <th>R_w</th>\n",
       "      <th>R_b</th>\n",
       "      <th>R_a</th>\n",
       "      <th>R_tot</th>\n",
       "      <th>eff_tot</th>\n",
       "      <th>P_b</th>\n",
       "      <th>FOC/h</th>\n",
       "    </tr>\n",
       "  </thead>\n",
       "  <tbody>\n",
       "    <tr>\n",
       "      <th>0</th>\n",
       "      <td>17</td>\n",
       "      <td>8.745576</td>\n",
       "      <td>172913.623194</td>\n",
       "      <td>5046.840273</td>\n",
       "      <td>91773.557081</td>\n",
       "      <td>39665.078556</td>\n",
       "      <td>68035.836645</td>\n",
       "      <td>377.434936</td>\n",
       "      <td>0.767670</td>\n",
       "      <td>4.299878</td>\n",
       "      <td>0.000728</td>\n",
       "    </tr>\n",
       "    <tr>\n",
       "      <th>1</th>\n",
       "      <td>18</td>\n",
       "      <td>9.260021</td>\n",
       "      <td>192793.359170</td>\n",
       "      <td>5627.071317</td>\n",
       "      <td>91773.557081</td>\n",
       "      <td>41570.874930</td>\n",
       "      <td>76275.470840</td>\n",
       "      <td>408.040333</td>\n",
       "      <td>0.767634</td>\n",
       "      <td>4.922216</td>\n",
       "      <td>0.000834</td>\n",
       "    </tr>\n",
       "    <tr>\n",
       "      <th>2</th>\n",
       "      <td>19</td>\n",
       "      <td>9.774467</td>\n",
       "      <td>213700.189821</td>\n",
       "      <td>6237.280235</td>\n",
       "      <td>91773.557081</td>\n",
       "      <td>43333.796507</td>\n",
       "      <td>84985.941276</td>\n",
       "      <td>440.030765</td>\n",
       "      <td>0.767601</td>\n",
       "      <td>5.603256</td>\n",
       "      <td>0.000949</td>\n",
       "    </tr>\n",
       "    <tr>\n",
       "      <th>3</th>\n",
       "      <td>20</td>\n",
       "      <td>10.288913</td>\n",
       "      <td>235629.204829</td>\n",
       "      <td>6877.323709</td>\n",
       "      <td>91773.557081</td>\n",
       "      <td>44963.748566</td>\n",
       "      <td>94167.247951</td>\n",
       "      <td>473.411082</td>\n",
       "      <td>0.767570</td>\n",
       "      <td>6.345851</td>\n",
       "      <td>0.001075</td>\n",
       "    </tr>\n",
       "    <tr>\n",
       "      <th>4</th>\n",
       "      <td>21</td>\n",
       "      <td>10.803358</td>\n",
       "      <td>258575.778420</td>\n",
       "      <td>7547.066726</td>\n",
       "      <td>91773.557081</td>\n",
       "      <td>46470.525453</td>\n",
       "      <td>103819.390866</td>\n",
       "      <td>508.186319</td>\n",
       "      <td>0.767541</td>\n",
       "      <td>7.152870</td>\n",
       "      <td>0.001212</td>\n",
       "    </tr>\n",
       "  </tbody>\n",
       "</table>\n",
       "</div>"
      ],
      "text/plain": [
       "   dummy_vel  dummy_vel_ms            R_f         Rapp           R_w  \\\n",
       "0         17      8.745576  172913.623194  5046.840273  91773.557081   \n",
       "1         18      9.260021  192793.359170  5627.071317  91773.557081   \n",
       "2         19      9.774467  213700.189821  6237.280235  91773.557081   \n",
       "3         20     10.288913  235629.204829  6877.323709  91773.557081   \n",
       "4         21     10.803358  258575.778420  7547.066726  91773.557081   \n",
       "\n",
       "            R_b            R_a       R_tot   eff_tot       P_b     FOC/h  \n",
       "0  39665.078556   68035.836645  377.434936  0.767670  4.299878  0.000728  \n",
       "1  41570.874930   76275.470840  408.040333  0.767634  4.922216  0.000834  \n",
       "2  43333.796507   84985.941276  440.030765  0.767601  5.603256  0.000949  \n",
       "3  44963.748566   94167.247951  473.411082  0.767570  6.345851  0.001075  \n",
       "4  46470.525453  103819.390866  508.186319  0.767541  7.152870  0.001212  "
      ]
     },
     "execution_count": 267,
     "metadata": {},
     "output_type": "execute_result"
    }
   ],
   "source": [
    "SFOC = 169.4 # g/kWh\n",
    "v_dummy_df2['FOC/h'] = (v_dummy_df2['P_b'] * SFOC)/1e6 # get FOC t/h\n",
    "v_dummy_df2.head()\n"
   ]
  }
 ],
 "metadata": {
  "kernelspec": {
   "display_name": "geron1",
   "language": "python",
   "name": "python3"
  },
  "language_info": {
   "codemirror_mode": {
    "name": "ipython",
    "version": 3
   },
   "file_extension": ".py",
   "mimetype": "text/x-python",
   "name": "python",
   "nbconvert_exporter": "python",
   "pygments_lexer": "ipython3",
   "version": "3.9.15"
  },
  "orig_nbformat": 4
 },
 "nbformat": 4,
 "nbformat_minor": 2
}
