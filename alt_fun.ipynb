{
 "cells": [
  {
   "attachments": {},
   "cell_type": "markdown",
   "metadata": {},
   "source": [
    "ANN"
   ]
  },
  {
   "cell_type": "code",
   "execution_count": null,
   "metadata": {},
   "outputs": [],
   "source": [
    "# from sklearn.neural_network import MLPRegressor\n",
    "# from sklearn.preprocessing import StandardScaler \n",
    "# ann_regr = MLPRegressor(activation='relu',alpha=10e-8,hidden_layer_sizes=(10,100),random_state=1,early_stopping=False,max_iter=500)\n",
    "# # ann_regr = MLPRegressor(random_state=1,max_iter=500)\n",
    "# # regressor_mlsc = linear_model.LinearRegression()\n",
    "# start_ann = time.time()\n",
    "# # model_ann = TransformedTargetRegressor(regressor= ann_regr,\n",
    "# #                                         transformer = StandardScaler()\n",
    "# #                                         ).fit(x_train,y_train)\n",
    "# model_ann = ann_regr.fit(x_train,y_train)\n",
    "# end_ann = time.time()\n",
    "# print(f\"Training time: {end_ann-start_ann:0.4}s \")"
   ]
  },
  {
   "attachments": {},
   "cell_type": "markdown",
   "metadata": {},
   "source": [
    "Evaluation "
   ]
  },
  {
   "cell_type": "code",
   "execution_count": null,
   "metadata": {},
   "outputs": [],
   "source": [
    "# def evaluate(model, test_features, test_labels):\n",
    "#     from sklearn.metrics import explained_variance_score,mean_absolute_error,mean_squared_error,median_absolute_error\n",
    "\n",
    "#     predictions = model.predict(test_features)\n",
    "#     rsquared = model.score(test_features,test_labels)\n",
    "#     expVar = explained_variance_score(test_labels,predictions)\n",
    "#     MAE = mean_absolute_error(test_labels,predictions)\n",
    "#     MAD = median_absolute_error(test_labels,predictions)\n",
    "#     RMSE = np.sqrt(mean_squared_error(test_labels,predictions))\n",
    "\n",
    "#     print(f\"Model Performance of {model}\")\n",
    "#     print(f\"R^2: {rsquared:0.4f}\")\n",
    "#     print(f\"explained Variance = {expVar:0.4f}\")\n",
    "#     print(f\"MAE = {MAE:0.4f}\")\n",
    "#     print(f\"RMSE = {RMSE:0.4f}\")\n",
    "#     print(f\"MAD = {MAD:0.4f}\\n\")\n",
    "    \n",
    "#     # return rsquared,expVar,MAE,RMSE,MAD,predictions\n",
    "# rf_rsquared,rf_expVar,rf_MAE,rf_RMSE,rf_MAD,y_pred_rfr = evaluate(model_rfr_ftr,x_date,y_date)\n"
   ]
  },
  {
   "attachments": {},
   "cell_type": "markdown",
   "metadata": {},
   "source": [
    "RMSE Error Evaluation"
   ]
  },
  {
   "cell_type": "code",
   "execution_count": null,
   "metadata": {},
   "outputs": [],
   "source": [
    "# score_rf_hpo = cross_val_score(model_rfr_ftr_hpov,x_train,y_train,\n",
    "#                            scoring='r2',cv=10)"
   ]
  },
  {
   "cell_type": "code",
   "execution_count": null,
   "metadata": {},
   "outputs": [],
   "source": [
    "# score_et_hpo = cross_val_score(model_etr_hpov,x_train,y_train,\n",
    "#                            scoring='r2',cv=10)"
   ]
  },
  {
   "cell_type": "code",
   "execution_count": null,
   "metadata": {},
   "outputs": [],
   "source": [
    "# score_dt_hpo = cross_val_score(model_dtr_hpov,x_train,y_train,\n",
    "#                            scoring='r2',cv=10)"
   ]
  },
  {
   "cell_type": "code",
   "execution_count": null,
   "metadata": {},
   "outputs": [],
   "source": [
    "# from sklearn.model_selection import cross_val_score\n",
    "\n",
    "# score_rf = cross_val_score(model_rfr_ftr,x_train,y_train,\n",
    "#                            scoring='r2',cv=10)"
   ]
  },
  {
   "cell_type": "code",
   "execution_count": null,
   "metadata": {},
   "outputs": [],
   "source": [
    "# score_et = cross_val_score(model_etr,x_train,y_train,\n",
    "#                            scoring='r2',cv=10)"
   ]
  },
  {
   "cell_type": "code",
   "execution_count": null,
   "metadata": {},
   "outputs": [],
   "source": [
    "# score_dt = cross_val_score(model_dtr,x_train,y_train,\n",
    "#                            scoring='r2',cv=10)"
   ]
  },
  {
   "cell_type": "code",
   "execution_count": null,
   "metadata": {},
   "outputs": [],
   "source": [
    "# score_mlr = cross_val_score(model_mlr,x_train,y_train,\n",
    "#                            scoring='r2',cv=10)"
   ]
  },
  {
   "cell_type": "code",
   "execution_count": null,
   "metadata": {},
   "outputs": [],
   "source": [
    "# r_sqr = score_rf.mean()\n",
    "# print(r_sqr)"
   ]
  },
  {
   "attachments": {},
   "cell_type": "markdown",
   "metadata": {},
   "source": [
    "PLOTS\n"
   ]
  },
  {
   "attachments": {},
   "cell_type": "markdown",
   "metadata": {},
   "source": [
    "Pred vs Actual"
   ]
  },
  {
   "cell_type": "code",
   "execution_count": null,
   "metadata": {},
   "outputs": [],
   "source": [
    "# plt.figure(figsize=(10,10))\n",
    "# plt.scatter(y_test, y_predicted, c='crimson')\n",
    "# # plt.yscale('log')\n",
    "# # plt.xscale('log')\n",
    "\n",
    "# p1 = max(max(y_predicted), max(y_test))\n",
    "# p2 = min(min(y_predicted), min(y_test))\n",
    "# plt.plot([p1, p2], [p1, p2], 'b-')\n",
    "# plt.xlabel('True Values', fontsize=15)\n",
    "# plt.ylabel('Predictions', fontsize=15)\n",
    "# plt.axis('equal')\n",
    "# plt.show()"
   ]
  },
  {
   "attachments": {},
   "cell_type": "markdown",
   "metadata": {},
   "source": [
    "Depth vs n estimator plot"
   ]
  },
  {
   "cell_type": "code",
   "execution_count": null,
   "metadata": {},
   "outputs": [],
   "source": [
    "# # explore random forest number of trees effect on performance\n",
    "# from numpy import mean\n",
    "# from numpy import std\n",
    "# from sklearn.datasets import make_classification\n",
    "# from sklearn.model_selection import cross_val_score\n",
    "# from sklearn.model_selection import RepeatedStratifiedKFold\n",
    "# from sklearn.ensemble import RandomForestClassifier\n",
    "# from matplotlib import pyplot\n",
    "\n",
    "# # get the dataset\n",
    "# # def get_dataset():\n",
    "# # \tX, y = make_classification(n_samples=1000, n_features=20, n_informative=15, n_redundant=5, random_state=3)\n",
    "# # \treturn X, y\n",
    "\n",
    "# # get a list of models to evaluate\n",
    "# def get_models():\n",
    "# \tmodels_m2 = dict()\n",
    "# \t# define number of trees to consider\n",
    "# \t# n_trees = [1,2,3,4,5,10,50,100,250,500,750,1000]\n",
    "# \tn_trees = [1,2,3,4,5,6,7,8,9,10,100,200,300,400,500,600,700,800,900,1000]\n",
    "\n",
    "# \tfor n in n_trees:\n",
    "# \t\t# models[str(n)] = RandomForestRegressor(n_estimators=n)\n",
    "# \t\tmodels_m2[str(n)] = RandomForestRegressor(n_estimators=n,max_depth=1)\n",
    "# \treturn models_m2\n",
    "\n",
    "# # get a list of models to evaluate\n",
    "# def get_models6():\n",
    "# \tmodels_m6 = dict()\n",
    "# \t# define number of trees to consider\n",
    "# \t# n_trees = [1,2,3,4,5,10,50,100,250,500,750,1000]\n",
    "# \tn_trees = [1,2,3,4,5,6,7,8,9,10,100,200,300,400,500,600,700,800,900,1000]\n",
    "\n",
    "# \tfor n in n_trees:\n",
    "# \t\t# models[str(n)] = RandomForestRegressor(n_estimators=n)\n",
    "# \t\tmodels_m6[str(n)] = RandomForestRegressor(n_estimators=n,max_depth=6)\n",
    "# \treturn models_m6\n",
    "\n",
    "\n",
    "# # evaluate a given model using cross-validation\n",
    "# def evaluate_model(model, X, y):\n",
    "# \t# define the evaluation procedure\n",
    "# \t# cv = RepeatedStratifiedKFold(n_splits=10, n_repeats=3, random_state=1)\n",
    "# \t# evaluate the model and collect the results\n",
    "# \tscores = cross_val_score(model, X, y, scoring='neg_root_mean_squared_error', cv=10, n_jobs=-1)\n",
    "# \treturn -scores\n",
    "\n",
    "# # # define dataset\n",
    "# # X, y = get_dataset()\n",
    "# # get the models to evaluate\n",
    "# # models = get_models()\n",
    "# models_m2 = get_models()\n",
    "# models_m6 = get_models6()\n",
    "# # evaluate the models and store results\n",
    "# results, names = list(), list()\n",
    "# for name, model_m2 in models_m2.items():\n",
    "# \t# evaluate the model\n",
    "# \tscores = evaluate_model(model_m2, x_date, y_date)\n",
    "# \t# store the results\n",
    "# \tresults.append(scores)\n",
    "# \tnames.append(name)\n",
    "# \t# summarize the performance along the way\n",
    "# \tprint('>%s %.3f (%.3f)' % (name, mean(scores), std(scores)))\n",
    "\n",
    "# results6, names6 = list(), list()\n",
    "# for name6, model_m6 in models_m6.items():\n",
    "# \t# evaluate the model\n",
    "# \tscores6 = evaluate_model(model_m6, x_date, y_date)\n",
    "# \t# store the results\n",
    "# \tresults6.append(scores6)\n",
    "# \tnames6.append(name6)\n",
    "# \t# summarize the performance along the way\n",
    "# \tprint('>%s %.3f (%.3f)' % (name6, mean(scores6), std(scores6)))\n",
    "\n",
    "\n",
    "# # plot model performance for comparison\n",
    "# # pyplot.boxplot(results, labels=names, showmeans=True)\n",
    "# # pyplot.show()\n",
    "\n",
    "# a = np.mean(results,axis=1)\n",
    "# b = np.mean(results6,axis=1)\n",
    "# min_error = np.min(a)\n",
    "# min_error6 = np.min(b)\n",
    "# print(min_error)\n",
    "\n",
    "# plt.plot(names,a,\"b.-\")\n",
    "# bst_n_estimators = np.argmin(a) \n",
    "# print(bst_n_estimators)\n",
    "# # plt.plot([bst_n_estimators, bst_n_estimators], [0, min_error], \"k--\",linewidth=1)\n",
    "# # plt.plot([-1, 12], [min_error, min_error], \"k--\",linewidth=1)\n",
    "# # plt.plot(bst_n_estimators, min_error, \"ko\",linewidth = 1)\n",
    "# # plt.text(bst_n_estimators, min_error*1.2, \"Minimum\", ha=\"center\", fontsize=12)\n",
    "\n",
    "\n",
    "# plt.plot(names,b,\"r.-\")\n",
    "# bst_n_estimators6 = np.argmin(b) \n",
    "# print(bst_n_estimators6)\n",
    "# # plt.plot([bst_n_estimators6, bst_n_estimators6], [0, min_error6], \"k--\",linewidth=1)\n",
    "# # plt.plot([-1, 12], [min_error6, min_error6], \"k--\",linewidth=1)\n",
    "# # plt.plot(bst_n_estimators6, min_error6, \"ko\",linewidth = 1)\n",
    "# # plt.text(bst_n_estimators6, min_error6*1.2, \"Minimum\", ha=\"center\", fontsize=12)\n",
    "\n",
    "# # plt.plot([names, max_score], \"k--\")\n",
    "# # plt.plot(names, max_score, \"ko\")\n",
    "# # plt.axis([0, 12, 0, 1])\n",
    "# plt.grid(linestyle = '--', linewidth = 0.5)\n",
    "# # plt.xlim(0,12-1)\n",
    "# plt.xlim([0,1000])\n",
    "# # plt.ylim(0,3)\n",
    "# plt.xlabel(\"Number of Trees\")\n",
    "# plt.ylabel(\"RMSE\")\n",
    "# plt.title(\"Validation error\", fontsize=13)\n",
    "# plt.show()"
   ]
  },
  {
   "cell_type": "code",
   "execution_count": null,
   "metadata": {},
   "outputs": [],
   "source": [
    "# from sklearn import tree\n",
    "\n",
    "# # def tree_visualization(width,height,model_type):\n",
    "# #     fn=x_train.columns\n",
    "# #     fig, axes = plt.subplots(figsize = (width,height), dpi=800)\n",
    "# #     tree.plot_tree(model_type.estimators_[0],\n",
    "# #                max_depth=3,\n",
    "# #                fontsize=2,\n",
    "# #                feature_names = fn);\n",
    "# #     plt.show()\n",
    "# #     #fig.savefig('rf_individualtree.png')\n",
    "\n",
    "# # tree_visualization(5.5,3,model_rfr_ftr)"
   ]
  },
  {
   "cell_type": "code",
   "execution_count": null,
   "metadata": {},
   "outputs": [],
   "source": [
    "# # Hist plot depreciated\n",
    "# import matplotlib.pyplot as plt\n",
    "# plt.rcParams.update(plt.rcParamsDefault)\n",
    "# plt.rcParams.update({\n",
    "#     \"text.usetex\": True,\n",
    "#     \"font.family\": \"serif\",\n",
    "# })\n",
    "# df_ship2.hist(bins=50,figsize=(15,10))\n",
    "# plt.show()"
   ]
  },
  {
   "attachments": {},
   "cell_type": "markdown",
   "metadata": {},
   "source": [
    "FROM JUNE AIS"
   ]
  },
  {
   "cell_type": "code",
   "execution_count": null,
   "metadata": {},
   "outputs": [],
   "source": [
    "# from sklearn.model_selection import cross_val_score\n",
    "\n",
    "# score_rf = cross_val_score(model_rfr_ftr,x_date,y_date,\n",
    "#                            scoring='r2',cv=10)\n",
    "# score_et = cross_val_score(model_etr,x_date,y_date,\n",
    "#                            scoring='r2',cv=10)\n",
    "# score_dt = cross_val_score(model_dtr_ftr,x_date,y_date,\n",
    "#                            scoring='r2',cv=10)\n",
    "# score_mlr = cross_val_score(model_mlr_ftr,x_date,y_date,\n",
    "#                            scoring='r2',cv=10)"
   ]
  },
  {
   "cell_type": "code",
   "execution_count": null,
   "metadata": {},
   "outputs": [],
   "source": [
    "# score_rfopt = cross_val_score(model_rfr_hpov,x_date,y_date,\n",
    "#                            scoring='r2',cv=10)\n",
    "# score_etopt = cross_val_score(model_etr_hpov,x_date,y_date,\n",
    "#                            scoring='r2',cv=10)\n",
    "# score_dtopt = cross_val_score(model_dtr_hpov,x_date,y_date,\n",
    "#                            scoring='r2',cv=10)"
   ]
  },
  {
   "attachments": {},
   "cell_type": "markdown",
   "metadata": {},
   "source": [
    "RMSE evaluations"
   ]
  },
  {
   "cell_type": "code",
   "execution_count": null,
   "metadata": {},
   "outputs": [],
   "source": [
    "# rmse_rf = cross_val_score(model_rfr_ftr,x_date,y_date,\n",
    "#                            scoring='neg_root_mean_squared_error',cv=10)\n",
    "# rmse_et = cross_val_score(model_etr,x_date,y_date,\n",
    "#                            scoring='neg_root_mean_squared_error',cv=10)\n",
    "# rmse_dt = cross_val_score(model_dtr_ftr,x_date,y_date,\n",
    "#                            scoring='neg_root_mean_squared_error',cv=10)\n",
    "# rmse_rfopt = cross_val_score(model_rfr_hpov,x_date,y_date,\n",
    "#                            scoring='neg_root_mean_squared_error',cv=10)\n",
    "# rmse_etopt = cross_val_score(model_etr_hpov,x_date,y_date,\n",
    "#                            scoring='neg_root_mean_squared_error',cv=10)\n",
    "# rmse_dtopt = cross_val_score(model_dtr_hpov,x_date,y_date,\n",
    "#                            scoring='neg_root_mean_squared_error',cv=10)Check STW and SOG\n",
    "# Keep this part for SOG and STW check\n",
    "\n",
    "# df[\"vgms\"] = df[\"SOG\"]/1.9438\n",
    "# rad_gamma = np.deg2rad(df[\"True North Current Direction\"])\n",
    "# rad_cog = np.deg2rad(df[\"COG\"])\n",
    "# df[\"vgx\"] = df[\"vgms\"] * np.sin(rad_cog)\n",
    "# df[\"vcx\"] = df[\"Current Speed\"] * np.sin(rad_gamma)\n",
    "# df[\"stw_x\"] = (df[\"vgx\"] - df[\"vcx\"])\n",
    "# df[\"vgy\"] = df[\"vgms\"] * np.cos(rad_cog)\n",
    "# df[\"vcy\"] = df[\"Current Speed\"] * np.cos(rad_gamma)\n",
    "# df[\"stw_y\"] = (df[\"vgy\"] - df[\"vcy\"])\n",
    "# df[\"vwms_a\"] = np.sqrt(df[\"stw_x\"]**2 + df[\"stw_y\"]**2)\n",
    "# df[\"stw_act\"] = df[\"vwms_a\"]*1.9438\n",
    "\n",
    "# dfsog= df[df[\"SOG\"] > df[\"stw_act\"] ]\n",
    "# dfsog.head(n=10)\n",
    "# dfsog.to_csv(\"SOG_june_update.csv\")\n",
    "\n",
    "# dfstw= df[df[\"SOG\"] < df[\"stw_act\"] ]\n",
    "# dfstw.head(n=10)\n",
    "# dfstw.to_csv(\"STW_june_update.csv\")\n"
   ]
  },
  {
   "cell_type": "code",
   "execution_count": null,
   "metadata": {},
   "outputs": [],
   "source": [
    "# from sklearn.preprocessing import PolynomialFeatures\n",
    "# from sklearn.linear_model import LinearRegression\n",
    "# import scipy.stats as stats\n",
    "# import matplotlib.pyplot as plt\n",
    "\n",
    "# stw = dfprog.stw_act\n",
    "# foc = dfprog.foc_act_d\n",
    "\n",
    "# stw = stw.to_numpy()\n",
    "# foc = foc.to_numpy()\n",
    "\n",
    "# #specify degree of 3 for polynomial regression model\n",
    "# #include bias=False means don't force y-intercept to equal zero\n",
    "# poly = PolynomialFeatures(degree=2, include_bias=False)\n",
    "\n",
    "# #reshape data to work properly with sklearn\n",
    "# poly_features = poly.fit_transform(stw.reshape(-1,1))\n",
    "# # poly_features = lat\n",
    "\n",
    "\n",
    "# #fit polynomial regression model\n",
    "# poly_reg_model = LinearRegression()\n",
    "# poly_reg_model.fit(poly_features, stw)\n",
    "\n",
    "# #display model coefficients\n",
    "# print(poly_reg_model.intercept_, poly_reg_model.coef_)\n",
    "\n",
    "# y_predicted = label_predict(poly_reg_model,poly_features)\n",
    "# y_line \n",
    "\n",
    "# #create scatterplot of x vs. y\n",
    "# plt.scatter(stw, foc)\n",
    "# # myline = np.linspace(55.1, 55.36, 100)\n",
    "\n",
    "# # add line to show fitted polynomial regression model\n",
    "# # plt.plot(poly_features, y_predicted, color='purple')\n",
    "# plt.show()"
   ]
  },
  {
   "attachments": {},
   "cell_type": "markdown",
   "metadata": {},
   "source": [
    "Optimize Single Day Journey"
   ]
  },
  {
   "cell_type": "code",
   "execution_count": null,
   "metadata": {},
   "outputs": [
    {
     "data": {
      "text/html": [
       "<div>\n",
       "<style scoped>\n",
       "    .dataframe tbody tr th:only-of-type {\n",
       "        vertical-align: middle;\n",
       "    }\n",
       "\n",
       "    .dataframe tbody tr th {\n",
       "        vertical-align: top;\n",
       "    }\n",
       "\n",
       "    .dataframe thead th {\n",
       "        text-align: right;\n",
       "    }\n",
       "</style>\n",
       "<table border=\"1\" class=\"dataframe\">\n",
       "  <thead>\n",
       "    <tr style=\"text-align: right;\">\n",
       "      <th></th>\n",
       "      <th>LON</th>\n",
       "      <th>LAT</th>\n",
       "      <th>Temperature above oceans</th>\n",
       "      <th>Max wave height</th>\n",
       "      <th>Swell period</th>\n",
       "      <th>Wind wave period</th>\n",
       "      <th>Wave period</th>\n",
       "      <th>Sea surface temperature</th>\n",
       "      <th>Combined wind waves and swell height</th>\n",
       "      <th>Swell height</th>\n",
       "      <th>...</th>\n",
       "      <th>Heading</th>\n",
       "      <th>True Wind Direction</th>\n",
       "      <th>True Current Direction</th>\n",
       "      <th>True Swell Direction</th>\n",
       "      <th>True Wind Wave Direction</th>\n",
       "      <th>True Wave Direction</th>\n",
       "      <th>Current Speed</th>\n",
       "      <th>Wind Speed</th>\n",
       "      <th>True North Wind Direction</th>\n",
       "      <th>True North Current Direction</th>\n",
       "    </tr>\n",
       "  </thead>\n",
       "  <tbody>\n",
       "    <tr>\n",
       "      <th>3366</th>\n",
       "      <td>12.502284</td>\n",
       "      <td>55.364255</td>\n",
       "      <td>286.756592</td>\n",
       "      <td>0.297299</td>\n",
       "      <td>2.591049</td>\n",
       "      <td>1.998207</td>\n",
       "      <td>2.277267</td>\n",
       "      <td>285.455322</td>\n",
       "      <td>0.175097</td>\n",
       "      <td>0.117767</td>\n",
       "      <td>...</td>\n",
       "      <td>122.774138</td>\n",
       "      <td>11.914514</td>\n",
       "      <td>95.460852</td>\n",
       "      <td>163.227965</td>\n",
       "      <td>166.394957</td>\n",
       "      <td>165.232451</td>\n",
       "      <td>0.235814</td>\n",
       "      <td>4.739036</td>\n",
       "      <td>314.688652</td>\n",
       "      <td>27.313286</td>\n",
       "    </tr>\n",
       "    <tr>\n",
       "      <th>119</th>\n",
       "      <td>12.963169</td>\n",
       "      <td>55.245259</td>\n",
       "      <td>275.823975</td>\n",
       "      <td>3.358080</td>\n",
       "      <td>6.738089</td>\n",
       "      <td>4.925452</td>\n",
       "      <td>5.291555</td>\n",
       "      <td>278.661621</td>\n",
       "      <td>1.759765</td>\n",
       "      <td>0.743164</td>\n",
       "      <td>...</td>\n",
       "      <td>100.782313</td>\n",
       "      <td>100.989288</td>\n",
       "      <td>164.871808</td>\n",
       "      <td>15.554049</td>\n",
       "      <td>66.843493</td>\n",
       "      <td>57.268527</td>\n",
       "      <td>0.144914</td>\n",
       "      <td>10.248966</td>\n",
       "      <td>21.771601</td>\n",
       "      <td>184.345879</td>\n",
       "    </tr>\n",
       "    <tr>\n",
       "      <th>120</th>\n",
       "      <td>13.553184</td>\n",
       "      <td>55.190532</td>\n",
       "      <td>275.924011</td>\n",
       "      <td>3.578120</td>\n",
       "      <td>7.185143</td>\n",
       "      <td>5.342444</td>\n",
       "      <td>5.697814</td>\n",
       "      <td>278.936035</td>\n",
       "      <td>1.950242</td>\n",
       "      <td>0.841925</td>\n",
       "      <td>...</td>\n",
       "      <td>96.934816</td>\n",
       "      <td>108.737155</td>\n",
       "      <td>153.650411</td>\n",
       "      <td>11.071672</td>\n",
       "      <td>60.455881</td>\n",
       "      <td>51.313932</td>\n",
       "      <td>0.246220</td>\n",
       "      <td>11.364678</td>\n",
       "      <td>25.671971</td>\n",
       "      <td>199.414773</td>\n",
       "    </tr>\n",
       "    <tr>\n",
       "      <th>121</th>\n",
       "      <td>14.073991</td>\n",
       "      <td>55.143902</td>\n",
       "      <td>276.285034</td>\n",
       "      <td>4.184914</td>\n",
       "      <td>7.260825</td>\n",
       "      <td>5.460486</td>\n",
       "      <td>6.126474</td>\n",
       "      <td>279.209961</td>\n",
       "      <td>2.189788</td>\n",
       "      <td>0.933936</td>\n",
       "      <td>...</td>\n",
       "      <td>97.525758</td>\n",
       "      <td>114.910729</td>\n",
       "      <td>153.031589</td>\n",
       "      <td>16.281358</td>\n",
       "      <td>57.086511</td>\n",
       "      <td>46.894106</td>\n",
       "      <td>0.284315</td>\n",
       "      <td>12.666946</td>\n",
       "      <td>32.436488</td>\n",
       "      <td>199.442652</td>\n",
       "    </tr>\n",
       "    <tr>\n",
       "      <th>122</th>\n",
       "      <td>14.564450</td>\n",
       "      <td>55.096648</td>\n",
       "      <td>277.189484</td>\n",
       "      <td>4.908680</td>\n",
       "      <td>6.808745</td>\n",
       "      <td>6.225745</td>\n",
       "      <td>6.284671</td>\n",
       "      <td>279.216553</td>\n",
       "      <td>2.565230</td>\n",
       "      <td>0.723303</td>\n",
       "      <td>...</td>\n",
       "      <td>106.941521</td>\n",
       "      <td>123.568984</td>\n",
       "      <td>153.643227</td>\n",
       "      <td>69.175152</td>\n",
       "      <td>55.507286</td>\n",
       "      <td>56.527939</td>\n",
       "      <td>0.300428</td>\n",
       "      <td>13.386999</td>\n",
       "      <td>50.510505</td>\n",
       "      <td>189.415252</td>\n",
       "    </tr>\n",
       "  </tbody>\n",
       "</table>\n",
       "<p>5 rows × 24 columns</p>\n",
       "</div>"
      ],
      "text/plain": [
       "            LON        LAT  Temperature above oceans  Max wave height  \\\n",
       "3366  12.502284  55.364255                286.756592         0.297299   \n",
       "119   12.963169  55.245259                275.823975         3.358080   \n",
       "120   13.553184  55.190532                275.924011         3.578120   \n",
       "121   14.073991  55.143902                276.285034         4.184914   \n",
       "122   14.564450  55.096648                277.189484         4.908680   \n",
       "\n",
       "      Swell period  Wind wave period  Wave period  Sea surface temperature  \\\n",
       "3366      2.591049          1.998207     2.277267               285.455322   \n",
       "119       6.738089          4.925452     5.291555               278.661621   \n",
       "120       7.185143          5.342444     5.697814               278.936035   \n",
       "121       7.260825          5.460486     6.126474               279.209961   \n",
       "122       6.808745          6.225745     6.284671               279.216553   \n",
       "\n",
       "      Combined wind waves and swell height  Swell height  ...     Heading  \\\n",
       "3366                              0.175097      0.117767  ...  122.774138   \n",
       "119                               1.759765      0.743164  ...  100.782313   \n",
       "120                               1.950242      0.841925  ...   96.934816   \n",
       "121                               2.189788      0.933936  ...   97.525758   \n",
       "122                               2.565230      0.723303  ...  106.941521   \n",
       "\n",
       "      True Wind Direction  True Current Direction  True Swell Direction  \\\n",
       "3366            11.914514               95.460852            163.227965   \n",
       "119            100.989288              164.871808             15.554049   \n",
       "120            108.737155              153.650411             11.071672   \n",
       "121            114.910729              153.031589             16.281358   \n",
       "122            123.568984              153.643227             69.175152   \n",
       "\n",
       "      True Wind Wave Direction  True Wave Direction  Current Speed  \\\n",
       "3366                166.394957           165.232451       0.235814   \n",
       "119                  66.843493            57.268527       0.144914   \n",
       "120                  60.455881            51.313932       0.246220   \n",
       "121                  57.086511            46.894106       0.284315   \n",
       "122                  55.507286            56.527939       0.300428   \n",
       "\n",
       "      Wind Speed  True North Wind Direction  True North Current Direction  \n",
       "3366    4.739036                 314.688652                     27.313286  \n",
       "119    10.248966                  21.771601                    184.345879  \n",
       "120    11.364678                  25.671971                    199.414773  \n",
       "121    12.666946                  32.436488                    199.442652  \n",
       "122    13.386999                  50.510505                    189.415252  \n",
       "\n",
       "[5 rows x 24 columns]"
      ]
     },
     "metadata": {},
     "output_type": "display_data"
    }
   ],
   "source": [
    "ga_df = dfone6.drop(['Unnamed: 0','Time','Air density above oceans',\n",
    "                    'Surface pressure','Width','Length'],axis=1)\n",
    "ga_df.head(n=5)"
   ]
  },
  {
   "cell_type": "code",
   "execution_count": null,
   "metadata": {},
   "outputs": [],
   "source": [
    "ga_df = ga_df.rename({'Max wave height': 'waveheight', 'Draught': 'draught',\n",
    "                           'SOG': 'sog', 'Wind Speed': 'windspeed', \n",
    "                           'True Wind Direction': 'truewinddir','Temperature above oceans' : 'oceantemperature',\n",
    "                           'COG': 'cog', 'Current Speed' : 'curspeed','True Wave Direction' : 'truewavedir',\n",
    "                            'Swell period': 'swellperiod','Wind wave period': 'windwaveperiod','Sea surface temperature': 'surftemp',\n",
    "                            'Combined wind waves and swell height': 'windwaveswellheight','Swell height': 'swellheight','Wind wave height': 'windwaveheight',\n",
    "                            'Heading': 'heading','True Current Direction': 'truecurrentdir','True Swell Direction': 'trueswelldir',\n",
    "                            'True Wind Wave Direction': 'truewindwavedir','Wave period': 'waveperiod',\n",
    "                            'True North Wind Direction' : 'truenorthwinddir' , 'True North Current Direction' : 'truenorthcurrentdir'\n",
    "                           }, axis=1) "
   ]
  },
  {
   "cell_type": "code",
   "execution_count": null,
   "metadata": {},
   "outputs": [],
   "source": [
    "# ga_df = ga_df[['oceantemperature','waveheight','swellperiod','windwaveperiod','waveperiod','surftemp','windwaveswellheight','swellheight','windwaveheight','draught','sog','cog','heading','windspeed','curspeed','truewinddir','truecurrentdir','trueswelldir','truewindwavedir','truewavedir', 'truenorthwinddir' , 'truenorthcurrentdir']]"
   ]
  },
  {
   "cell_type": "code",
   "execution_count": null,
   "metadata": {},
   "outputs": [
    {
     "data": {
      "image/png": "[encoded data removed]",
      "text/plain": [
       "<Figure size 640x480 with 1 Axes>"
      ]
     },
     "metadata": {},
     "output_type": "display_data"
    }
   ],
   "source": [
    "import scipy.stats as stats\n",
    "import matplotlib.pyplot as plt\n",
    "\n",
    "lat = ga_df.LAT\n",
    "sog = ga_df.sog\n",
    "\n",
    "#create scatterplot\n",
    "plt.scatter(lat, sog)\n",
    "plt.show()\n",
    "\n",
    "lat = lat.to_numpy()\n",
    "sog = sog.to_numpy()\n",
    "\n"
   ]
  },
  {
   "cell_type": "code",
   "execution_count": null,
   "metadata": {},
   "outputs": [
    {
     "data": {
      "image/png": "[encoded data removed]",
      "text/plain": [
       "<Figure size 640x480 with 1 Axes>"
      ]
     },
     "metadata": {},
     "output_type": "display_data"
    }
   ],
   "source": [
    "# from scipy.signal import savgol_filter,savgol_coeffs\n",
    "\n",
    "# yhat = savgol_filter(sog, 5, 3) # window size 5, polynomial order 3\n",
    "# a = savgol_coeffs(5,3)\n",
    "# plt.show()\n",
    "\n",
    "# plt.plot(lat,sog)\n",
    "# plt.plot(lat,yhat, color='red')\n",
    "# plt.show()\n"
   ]
  },
  {
   "cell_type": "code",
   "execution_count": null,
   "metadata": {},
   "outputs": [
    {
     "name": "stdout",
     "output_type": "stream",
     "text": [
      "-687550.3830086426 [24889.51503468  -225.24529356]\n"
     ]
    }
   ],
   "source": [
    "from sklearn.preprocessing import PolynomialFeatures\n",
    "from sklearn.linear_model import LinearRegression\n",
    "\n",
    "#specify degree of 3 for polynomial regression model\n",
    "#include bias=False means don't force y-intercept to equal zero\n",
    "poly = PolynomialFeatures(degree=2, include_bias=False)\n",
    "\n",
    "#reshape data to work properly with sklearn\n",
    "poly_features = poly.fit_transform(lat.reshape(-1, 1))\n",
    "# poly_features = lat\n",
    "\n",
    "\n",
    "#fit polynomial regression model\n",
    "poly_reg_model = LinearRegression()\n",
    "poly_reg_model.fit(poly_features, sog)\n",
    "\n",
    "#display model coefficients\n",
    "print(poly_reg_model.intercept_, poly_reg_model.coef_)"
   ]
  },
  {
   "cell_type": "code",
   "execution_count": null,
   "metadata": {},
   "outputs": [
    {
     "data": {
      "image/png": "[encoded data removed]",
      "text/plain": [
       "<Figure size 640x480 with 1 Axes>"
      ]
     },
     "metadata": {},
     "output_type": "display_data"
    }
   ],
   "source": [
    "#use model to make predictions on response variable\n",
    "myline = np.linspace(55.1, 55.36, 100)\n",
    "poly_features2 = poly.fit_transform(myline.reshape(-1, 1))\n",
    "y_predicted = label_predict(poly_reg_model,poly_features2)\n",
    "\n",
    "\n",
    "#create scatterplot of x vs. y\n",
    "plt.scatter(lat, sog)\n",
    "myline = np.linspace(55.1, 55.36, 100)\n",
    "\n",
    "# add line to show fitted polynomial regression model\n",
    "plt.plot(myline, y_predicted, color='purple')\n",
    "plt.show()"
   ]
  },
  {
   "attachments": {},
   "cell_type": "markdown",
   "metadata": {},
   "source": [
    "HPO"
   ]
  },
  {
   "cell_type": "code",
   "execution_count": null,
   "metadata": {},
   "outputs": [],
   "source": [
    "# from pprint import pprint\n",
    "# pprint(model_rfr_ftr.get_params())"
   ]
  },
  {
   "cell_type": "code",
   "execution_count": null,
   "metadata": {},
   "outputs": [],
   "source": [
    "# from sklearn.model_selection import RandomizedSearchCV\n",
    "# # Number of trees in random forest\n",
    "# n_estimators = [int(x) for x in np.linspace(start = 10, stop = 300, num = 10)]\n",
    "# # Number of features to consider at every split\n",
    "# max_features = [int(x) for x in np.linspace(1, 12, num = 11)]\n",
    "# # Maximum number of levels in tree\n",
    "# max_depth = [int(x) for x in np.linspace(10, 200, num = 10)]\n",
    "# max_depth.append(None)\n",
    "# # Minimum number of samples required to split a node\n",
    "# min_samples_split = [2, 5, 10]\n",
    "# # Minimum number of samples required at each leaf node\n",
    "# min_samples_leaf = [1, 2, 4]\n",
    "# # Method of selecting samples for training each tree\n",
    "# bootstrap = [True, False]# Create the random grid\n",
    "# random_grid = {'n_estimators': n_estimators,\n",
    "#                'max_features': max_features,\n",
    "#                'max_depth': max_depth,\n",
    "#                'min_samples_split': min_samples_split,\n",
    "#                'min_samples_leaf': min_samples_leaf,\n",
    "#                'bootstrap': bootstrap}\n",
    "# pprint(random_grid)"
   ]
  },
  {
   "cell_type": "code",
   "execution_count": null,
   "metadata": {},
   "outputs": [],
   "source": [
    "# rf_random = RandomizedSearchCV(estimator = model_rfr_hpov, param_distributions = random_grid, n_iter = 100, cv = 5, verbose=2, random_state=42, n_jobs = -1)# Fit the random search model\n",
    "# rf_random.fit(x_date, y_date)"
   ]
  },
  {
   "cell_type": "code",
   "execution_count": null,
   "metadata": {},
   "outputs": [],
   "source": [
    "# rf_random.best_params_"
   ]
  },
  {
   "cell_type": "code",
   "execution_count": null,
   "metadata": {},
   "outputs": [],
   "source": [
    "# def evaluate(model, test_features, test_labels):\n",
    "#     from sklearn.metrics import explained_variance_score,mean_absolute_error,mean_squared_error,median_absolute_error\n",
    "\n",
    "#     predictions = model.predict(test_features)\n",
    "#     rsquared = model.score(test_features,test_labels)\n",
    "#     expVar = explained_variance_score(test_labels,predictions)\n",
    "#     MAE = mean_absolute_error(test_labels,predictions)\n",
    "#     MAD = median_absolute_error(test_labels,predictions)\n",
    "#     RMSE = np.sqrt(mean_squared_error(test_labels,predictions))\n",
    "\n",
    "#     print(f\"Model Performance of {model}\")\n",
    "#     print(f\"R^2: {rsquared:0.4f}\")\n",
    "#     print(f\"explained Variance = {expVar:0.4f}\")\n",
    "#     print(f\"MAE = {MAE:0.4f}\")\n",
    "#     print(f\"RMSE = {RMSE:0.4f}\")\n",
    "#     print(f\"MAD = {MAD:0.4f}\\n\")\n",
    "    \n",
    "#     return rsquared,expVar,MAE,RMSE,MAD\n",
    "\n",
    "# base_model = model_rfr_hpov\n",
    "# base_model.fit(x_date, y_date)\n",
    "# rsquared_base,expVar_base,MAE_base,RMSE_base,MAD_base = evaluate(base_model, x_date, y_date)\n",
    "\n",
    "# best_random = rf_random.best_estimator_\n",
    "# rsquared_random,expVar_random,MAE_random,RMSE_random,MAD_random = evaluate(best_random, x_date, y_date)\n",
    "# print('Improvement of Rsquared {:0.3f}%.'.format( 100 * (rsquared_random - rsquared_base) / rsquared_base))\n",
    "# print('Improvement of explainedVariance {:0.3f}%.'.format( 100 * (expVar_random - expVar_base) / expVar_base))\n",
    "# print('Improvement of MAE {:0.3f}%.'.format( 100 * (MAE_base - MAE_random) / MAE_base)) # MAE is other way around since best score is 0\n",
    "# print('Improvement of RMSE {:0.3f}%.'.format( 100 * (RMSE_base - RMSE_random) / RMSE_base)) # RMSE is other way around since best score is 0\n",
    "# print('Improvement of MAD {:0.3f}%.'.format( 100 * (MAD_base - MAD_random) / MAD_base)) # MAD is other way around since best score is 0"
   ]
  },
  {
   "cell_type": "code",
   "execution_count": null,
   "metadata": {},
   "outputs": [],
   "source": [
    "# # fit a second degree polynomial to the economic data\n",
    "# from numpy import arange\n",
    "# from scipy.optimize import curve_fit\n",
    "\n",
    "# plt.figure(figsize=(10,10))\n",
    "\n",
    "# # define the true objective function\n",
    "# def objective(x, a, b, c):\n",
    "# \treturn a * x + b * x**2 + c\n",
    "\n",
    "# # choose the input and output variables\n",
    "# x, y = dfprog.stw_act, dfprog.foc_act_d\n",
    "# x2, y2 = dfprog.stw_pred, dfprog.foc_pred_d\n",
    "# # curve fit\n",
    "# popt, _ = curve_fit(objective, x, y)\n",
    "# popt2, _ = curve_fit(objective, x2, y2)\n",
    "\n",
    "# # summarize the parameter values\n",
    "# a, b, c = popt\n",
    "# print('y = %.5f * x + %.5f * x^2 + %.5f' % (a, b, c))\n",
    "# a2, b2, c2 = popt2\n",
    "# print('y = %.5f * x + %.5f * x^2 + %.5f' % (a2, b2, c2))\n",
    "# # plot input vs output\n",
    "# # plt.scatter(x, y)\n",
    "# # plt.scatter(x2, y2)\n",
    "# # define a sequence of inputs between the smallest and largest known inputs\n",
    "# x_line = arange(min(x), max(x), 1)\n",
    "# x_line2 = arange(min(x), max(x), 1)\n",
    "# # calculate the output for the range\n",
    "# y_line = objective(x_line, a, b, c)\n",
    "# y_line2 = objective(x_line2, a2, b2, c2)\n",
    "# # create a line plot for the mapping function\n",
    "# plt.plot(x_line, y_line, color='red')\n",
    "# plt\t.plot(x_line2, y_line2, color='green')\n",
    "# plt.xlabel('STW', fontsize=15)\n",
    "# plt.ylabel('FOC', fontsize=15)\n",
    "# plt.show()"
   ]
  }
 ],
 "metadata": {
  "language_info": {
   "name": "python"
  },
  "orig_nbformat": 4
 },
 "nbformat": 4,
 "nbformat_minor": 2
}
