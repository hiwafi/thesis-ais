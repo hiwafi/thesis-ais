{
 "cells": [
  {
   "attachments": {},
   "cell_type": "markdown",
   "metadata": {},
   "source": [
    "Evaluation "
   ]
  },
  {
   "cell_type": "code",
   "execution_count": null,
   "metadata": {},
   "outputs": [],
   "source": [
    "# def evaluate(model, test_features, test_labels):\n",
    "#     from sklearn.metrics import explained_variance_score,mean_absolute_error,mean_squared_error,median_absolute_error\n",
    "\n",
    "#     predictions = model.predict(test_features)\n",
    "#     rsquared = model.score(test_features,test_labels)\n",
    "#     expVar = explained_variance_score(test_labels,predictions)\n",
    "#     MAE = mean_absolute_error(test_labels,predictions)\n",
    "#     MAD = median_absolute_error(test_labels,predictions)\n",
    "#     RMSE = np.sqrt(mean_squared_error(test_labels,predictions))\n",
    "\n",
    "#     print(f\"Model Performance of {model}\")\n",
    "#     print(f\"R^2: {rsquared:0.4f}\")\n",
    "#     print(f\"explained Variance = {expVar:0.4f}\")\n",
    "#     print(f\"MAE = {MAE:0.4f}\")\n",
    "#     print(f\"RMSE = {RMSE:0.4f}\")\n",
    "#     print(f\"MAD = {MAD:0.4f}\\n\")\n",
    "    \n",
    "#     # return rsquared,expVar,MAE,RMSE,MAD,predictions\n",
    "# rf_rsquared,rf_expVar,rf_MAE,rf_RMSE,rf_MAD,y_pred_rfr = evaluate(model_rfr_ftr,x_date,y_date)\n"
   ]
  },
  {
   "attachments": {},
   "cell_type": "markdown",
   "metadata": {},
   "source": [
    "RMSE Error Evaluation"
   ]
  },
  {
   "cell_type": "code",
   "execution_count": null,
   "metadata": {},
   "outputs": [],
   "source": [
    "# score_rf_hpo = cross_val_score(model_rfr_ftr_hpov,x_train,y_train,\n",
    "#                            scoring='r2',cv=10)"
   ]
  },
  {
   "cell_type": "code",
   "execution_count": null,
   "metadata": {},
   "outputs": [],
   "source": [
    "# score_et_hpo = cross_val_score(model_etr_hpov,x_train,y_train,\n",
    "#                            scoring='r2',cv=10)"
   ]
  },
  {
   "cell_type": "code",
   "execution_count": null,
   "metadata": {},
   "outputs": [],
   "source": [
    "# score_dt_hpo = cross_val_score(model_dtr_hpov,x_train,y_train,\n",
    "#                            scoring='r2',cv=10)"
   ]
  },
  {
   "cell_type": "code",
   "execution_count": null,
   "metadata": {},
   "outputs": [],
   "source": [
    "# from sklearn.model_selection import cross_val_score\n",
    "\n",
    "# score_rf = cross_val_score(model_rfr_ftr,x_train,y_train,\n",
    "#                            scoring='r2',cv=10)"
   ]
  },
  {
   "cell_type": "code",
   "execution_count": null,
   "metadata": {},
   "outputs": [],
   "source": [
    "# score_et = cross_val_score(model_etr,x_train,y_train,\n",
    "#                            scoring='r2',cv=10)"
   ]
  },
  {
   "cell_type": "code",
   "execution_count": null,
   "metadata": {},
   "outputs": [],
   "source": [
    "# score_dt = cross_val_score(model_dtr,x_train,y_train,\n",
    "#                            scoring='r2',cv=10)"
   ]
  },
  {
   "cell_type": "code",
   "execution_count": null,
   "metadata": {},
   "outputs": [],
   "source": [
    "# score_mlr = cross_val_score(model_mlr,x_train,y_train,\n",
    "#                            scoring='r2',cv=10)"
   ]
  },
  {
   "cell_type": "code",
   "execution_count": null,
   "metadata": {},
   "outputs": [],
   "source": [
    "# r_sqr = score_rf.mean()\n",
    "# print(r_sqr)"
   ]
  },
  {
   "attachments": {},
   "cell_type": "markdown",
   "metadata": {},
   "source": [
    "PLOTS\n"
   ]
  },
  {
   "attachments": {},
   "cell_type": "markdown",
   "metadata": {},
   "source": [
    "Pred vs Actual"
   ]
  },
  {
   "cell_type": "code",
   "execution_count": null,
   "metadata": {},
   "outputs": [],
   "source": [
    "# plt.figure(figsize=(10,10))\n",
    "# plt.scatter(y_test, y_predicted, c='crimson')\n",
    "# # plt.yscale('log')\n",
    "# # plt.xscale('log')\n",
    "\n",
    "# p1 = max(max(y_predicted), max(y_test))\n",
    "# p2 = min(min(y_predicted), min(y_test))\n",
    "# plt.plot([p1, p2], [p1, p2], 'b-')\n",
    "# plt.xlabel('True Values', fontsize=15)\n",
    "# plt.ylabel('Predictions', fontsize=15)\n",
    "# plt.axis('equal')\n",
    "# plt.show()"
   ]
  },
  {
   "attachments": {},
   "cell_type": "markdown",
   "metadata": {},
   "source": [
    "FROM JUNE AIS"
   ]
  },
  {
   "cell_type": "code",
   "execution_count": null,
   "metadata": {},
   "outputs": [],
   "source": [
    "# from sklearn.model_selection import cross_val_score\n",
    "\n",
    "# score_rf = cross_val_score(model_rfr_ftr,x_date,y_date,\n",
    "#                            scoring='r2',cv=10)\n",
    "# score_et = cross_val_score(model_etr,x_date,y_date,\n",
    "#                            scoring='r2',cv=10)\n",
    "# score_dt = cross_val_score(model_dtr_ftr,x_date,y_date,\n",
    "#                            scoring='r2',cv=10)\n",
    "# score_mlr = cross_val_score(model_mlr_ftr,x_date,y_date,\n",
    "#                            scoring='r2',cv=10)"
   ]
  },
  {
   "cell_type": "code",
   "execution_count": null,
   "metadata": {},
   "outputs": [],
   "source": [
    "# score_rfopt = cross_val_score(model_rfr_hpov,x_date,y_date,\n",
    "#                            scoring='r2',cv=10)\n",
    "# score_etopt = cross_val_score(model_etr_hpov,x_date,y_date,\n",
    "#                            scoring='r2',cv=10)\n",
    "# score_dtopt = cross_val_score(model_dtr_hpov,x_date,y_date,\n",
    "#                            scoring='r2',cv=10)"
   ]
  },
  {
   "attachments": {},
   "cell_type": "markdown",
   "metadata": {},
   "source": [
    "RMSE evaluations"
   ]
  },
  {
   "cell_type": "code",
   "execution_count": null,
   "metadata": {},
   "outputs": [],
   "source": [
    "# rmse_rf = cross_val_score(model_rfr_ftr,x_date,y_date,\n",
    "#                            scoring='neg_root_mean_squared_error',cv=10)\n",
    "# rmse_et = cross_val_score(model_etr,x_date,y_date,\n",
    "#                            scoring='neg_root_mean_squared_error',cv=10)\n",
    "# rmse_dt = cross_val_score(model_dtr_ftr,x_date,y_date,\n",
    "#                            scoring='neg_root_mean_squared_error',cv=10)\n",
    "# rmse_rfopt = cross_val_score(model_rfr_hpov,x_date,y_date,\n",
    "#                            scoring='neg_root_mean_squared_error',cv=10)\n",
    "# rmse_etopt = cross_val_score(model_etr_hpov,x_date,y_date,\n",
    "#                            scoring='neg_root_mean_squared_error',cv=10)\n",
    "# rmse_dtopt = cross_val_score(model_dtr_hpov,x_date,y_date,\n",
    "#                            scoring='neg_root_mean_squared_error',cv=10)Check STW and SOG\n",
    "# Keep this part for SOG and STW check\n",
    "\n",
    "# df[\"vgms\"] = df[\"SOG\"]/1.9438\n",
    "# rad_gamma = np.deg2rad(df[\"True North Current Direction\"])\n",
    "# rad_cog = np.deg2rad(df[\"COG\"])\n",
    "# df[\"vgx\"] = df[\"vgms\"] * np.sin(rad_cog)\n",
    "# df[\"vcx\"] = df[\"Current Speed\"] * np.sin(rad_gamma)\n",
    "# df[\"stw_x\"] = (df[\"vgx\"] - df[\"vcx\"])\n",
    "# df[\"vgy\"] = df[\"vgms\"] * np.cos(rad_cog)\n",
    "# df[\"vcy\"] = df[\"Current Speed\"] * np.cos(rad_gamma)\n",
    "# df[\"stw_y\"] = (df[\"vgy\"] - df[\"vcy\"])\n",
    "# df[\"vwms_a\"] = np.sqrt(df[\"stw_x\"]**2 + df[\"stw_y\"]**2)\n",
    "# df[\"stw_act\"] = df[\"vwms_a\"]*1.9438\n",
    "\n",
    "# dfsog= df[df[\"SOG\"] > df[\"stw_act\"] ]\n",
    "# dfsog.head(n=10)\n",
    "# dfsog.to_csv(\"SOG_june_update.csv\")\n",
    "\n",
    "# dfstw= df[df[\"SOG\"] < df[\"stw_act\"] ]\n",
    "# dfstw.head(n=10)\n",
    "# dfstw.to_csv(\"STW_june_update.csv\")\n"
   ]
  }
 ],
 "metadata": {
  "language_info": {
   "name": "python"
  },
  "orig_nbformat": 4
 },
 "nbformat": 4,
 "nbformat_minor": 2
}
