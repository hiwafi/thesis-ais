{
 "cells": [
  {
   "cell_type": "code",
   "execution_count": 1,
   "metadata": {},
   "outputs": [],
   "source": [
    "import numpy as np\n",
    "import math\n",
    "import pandas as pd\n",
    "\n",
    "# List of basic ship information\n",
    "\n",
    "loa = 158 # ship overall length\n",
    "lwl = 144.8 # ship waterline length, m\n",
    "lpp = 0.97*lwl # ship perpendicular length , m, according to information\n",
    "B = 24.5 # Ship B, m\n",
    "depth = 13.8 # Ship depth. m\n",
    "T_n = 5.85 # Nominal max draught , m\n",
    "dwt = 5110 # ship dead weight , t\n",
    "V_n = 17.7 # ship design speed, knots\n",
    "\n",
    "#list of constants\n",
    "\n",
    "g = 9.805 # gravity, kg/ms^2 \n",
    "rho_sea = 1025 # kg/m3\n",
    "nu_sea = 0.00000118 # Dynamic viscosity of sea m^2/s"
   ]
  },
  {
   "cell_type": "code",
   "execution_count": 2,
   "metadata": {},
   "outputs": [],
   "source": [
    "v_dummy = [4,15,16,17.7,18,19]\n",
    "v_dummy_df = pd.DataFrame(v_dummy,columns=['dummy_vel'])\n",
    "v_dummy_df['dummy_vel_ms'] = v_dummy_df['dummy_vel'] / 1.94384"
   ]
  },
  {
   "cell_type": "code",
   "execution_count": 3,
   "metadata": {},
   "outputs": [
    {
     "name": "stdout",
     "output_type": "stream",
     "text": [
      "Froude Number 0.2454\n",
      "C_b 0.6451\n"
     ]
    }
   ],
   "source": [
    "# Calculation for C_b according to Schneekluth and Bertram 1998\n",
    "# first calculate froude number Fn\n",
    "V_n = 17.7/1.94384\n",
    "Fr_n = V_n / math.sqrt(g*lpp)\n",
    "print(f\"Froude Number {Fr_n:0.4f}\")\n",
    "C_b = -4.22 + 27.8*math.sqrt(Fr_n) - 39.1*Fr_n + 46.6*(Fr_n)**3\n",
    "print(f\"C_b {C_b:0.4f}\")\n"
   ]
  },
  {
   "cell_type": "code",
   "execution_count": 4,
   "metadata": {},
   "outputs": [
    {
     "name": "stdout",
     "output_type": "stream",
     "text": [
      "C_m 0.9808\n",
      "C_p 0.2454\n"
     ]
    }
   ],
   "source": [
    "# calculation for C_m according to charchalis 2017\n",
    "\n",
    "C_m = 0.977 + 0.085*(C_b-0.6)\n",
    "print(f\"C_m {C_m:0.4f}\")\n",
    "\n",
    "# prismatic coefficient C_p can be calculated\n",
    "\n",
    "C_p = C_b/C_m \n",
    "print(f\"C_p {Fr_n:0.4f}\")\n"
   ]
  },
  {
   "cell_type": "code",
   "execution_count": 5,
   "metadata": {},
   "outputs": [
    {
     "name": "stdout",
     "output_type": "stream",
     "text": [
      "dsp 14600.0000 m^3\n"
     ]
    }
   ],
   "source": [
    "# Displacement calculation according to barras\n",
    "# Use approximate value cd=0.35 according to Barras\n",
    "\n",
    "dsp = dwt/0.35 # m^3\n",
    "print(f\"dsp {dsp:0.4f} m^3\")\n"
   ]
  },
  {
   "cell_type": "code",
   "execution_count": 6,
   "metadata": {},
   "outputs": [
    {
     "name": "stdout",
     "output_type": "stream",
     "text": [
      "c14 1.1100\n"
     ]
    }
   ],
   "source": [
    "# coefficient c14 to account for stern shape according to holtrop mennen\n",
    "\n",
    "C_stern = 10 # assume u shaped stern\n",
    "c14 = 1 + 0.011*C_stern \n",
    "print(f\"c14 {c14:0.4f}\")\n"
   ]
  },
  {
   "cell_type": "code",
   "execution_count": 7,
   "metadata": {},
   "outputs": [
    {
     "name": "stdout",
     "output_type": "stream",
     "text": [
      "lr 49.4890 m\n"
     ]
    }
   ],
   "source": [
    "# Calculate length of run according to holtrop mennen\n",
    "\n",
    "lcb = -2/100 # ratio lcb wrt to amidship ford, value from barras\n",
    "# L in holtrop mennen is lwl\n",
    "lr = lwl*(1-C_p+(0.06*C_p*lcb/(4*C_p-1)))\n",
    "print(f\"lr {lr:0.4f} m\")\n"
   ]
  },
  {
   "cell_type": "code",
   "execution_count": 8,
   "metadata": {},
   "outputs": [
    {
     "name": "stdout",
     "output_type": "stream",
     "text": [
      "k1_const 1.2119\n"
     ]
    }
   ],
   "source": [
    "# now the (1+k1) can be calculated\n",
    "\n",
    "k1a = 0.487118*c14*(B/lwl)**1.06806\n",
    "k1b = (T_n/lwl)**0.46106\n",
    "k1c = (lwl/lr)**0.121563\n",
    "k1d = (lwl**3/dsp)**0.36486\n",
    "k1e = (1-C_p)**-0.604247\n",
    "\n",
    "k1_const = 0.93 + k1a*k1b*k1c*k1d*k1e\n",
    "\n",
    "print(f\"k1_const {k1_const:0.4f}\")\n"
   ]
  },
  {
   "cell_type": "code",
   "execution_count": 9,
   "metadata": {},
   "outputs": [
    {
     "name": "stdout",
     "output_type": "stream",
     "text": [
      "0    2.525143e+08\n",
      "1    9.469287e+08\n",
      "2    1.010057e+09\n",
      "3    1.117376e+09\n",
      "4    1.136314e+09\n",
      "5    1.199443e+09\n",
      "Name: Re, dtype: float64\n",
      "0    0.001062\n",
      "1    0.000931\n",
      "2    0.000925\n",
      "3    0.000916\n",
      "4    0.000915\n",
      "5    0.000910\n",
      "Name: C_f, dtype: float64\n",
      "C_wp 0.7634\n",
      "11.24627236597615\n",
      "A_bt 11.2463 m^2\n",
      "S_bh 3958.0019 m^2\n",
      "0     11058.515982\n",
      "1    136256.715808\n",
      "2    154066.211728\n",
      "3    186721.361999\n",
      "4    192793.359170\n",
      "5    213700.189821\n",
      "Name: R_f, dtype: float64\n"
     ]
    }
   ],
   "source": [
    "# we can then calculate R_f\n",
    "import pandas as pd\n",
    "import numpy as np\n",
    "# use v mean = 10 for Reynold\n",
    "\n",
    "\n",
    "v_dummy_df['Re'] =( v_dummy_df['dummy_vel_ms'] * lwl ) / nu_sea\n",
    "v_dummy_df['C_f'] = 0.075 / (np.log10(v_dummy_df['Re']-2)**2)\n",
    "print(v_dummy_df['Re'])\n",
    "print(v_dummy_df['C_f'])\n",
    "\n",
    "# calculate appendage area of bare hull S_bh\n",
    "\n",
    "# first calculate C_wp acc. to schneekluth and bertram\n",
    "C_wp = (1+2*C_b)/3\n",
    "print(f\"C_wp {C_wp:0.4f}\")\n",
    "\n",
    "# A_bt according to kim\n",
    "\n",
    "A_m = B*T_n*C_m\n",
    "A_t = 0.051 * A_m\n",
    "A_bt = 0.08*A_m\n",
    "print(A_bt)\n",
    "\n",
    "print(f\"A_bt {A_bt:0.4f} m^2\")\n",
    "\n",
    "sbh_a = lwl*(2*T_n+B)*math.sqrt(C_m)\n",
    "sbh_b = 0.453\n",
    "sbh_c = 0.4425*C_b\n",
    "sbh_d = 0.2862*C_m\n",
    "sbh_e = 0.003467*(B/T_n)\n",
    "sbh_f = 0.3696*C_wp\n",
    "sbh_g = 2.38*A_bt/C_b\n",
    "\n",
    "S_bh = sbh_a*(sbh_b+sbh_c-sbh_d+sbh_e+sbh_f)+sbh_g\n",
    "print(f\"S_bh {S_bh:0.4f} m^2\")\n",
    "\n",
    "v_dummy_df['R_f'] = 0.5 * rho_sea * (v_dummy_df['dummy_vel_ms'])**2 * v_dummy_df['C_f'] * S_bh * k1_const\n",
    "print(v_dummy_df['R_f'])\n",
    "\n"
   ]
  },
  {
   "cell_type": "code",
   "execution_count": 10,
   "metadata": {},
   "outputs": [
    {
     "name": "stdout",
     "output_type": "stream",
     "text": [
      "0     322.765568\n",
      "1    3976.932922\n",
      "2    4496.739746\n",
      "3    5449.847572\n",
      "4    5627.071317\n",
      "5    6237.280235\n",
      "Name: R_app, dtype: float64\n"
     ]
    }
   ],
   "source": [
    "# Now resistance due to appendage\n",
    "# Assume Sapp\n",
    "\n",
    "S_app = 50 # m^2 \n",
    "# from holtrop mennen\n",
    "k2_const = 2.8\n",
    "\n",
    "v_dummy_df['R_app'] = 0.5 * rho_sea * (v_dummy_df['dummy_vel_ms'])**2 * (v_dummy_df['C_f']) * S_app *k2_const\n",
    "print(v_dummy_df['R_app'])\n"
   ]
  },
  {
   "cell_type": "code",
   "execution_count": 11,
   "metadata": {},
   "outputs": [
    {
     "name": "stdout",
     "output_type": "stream",
     "text": [
      "0.1691988950276243\n",
      "5.910204081632654\n",
      "207.94708164383565\n"
     ]
    }
   ],
   "source": [
    "print(B/lwl)\n",
    "print(lwl/B)\n",
    "print(lwl**3/dsp)"
   ]
  },
  {
   "cell_type": "code",
   "execution_count": 12,
   "metadata": {},
   "outputs": [
    {
     "name": "stdout",
     "output_type": "stream",
     "text": [
      "0.04360273752148408\n",
      "0.6739118418119685\n",
      "0.9592\n",
      "0.7737872716316899\n",
      "1.302542119617646\n",
      "-2.061826835604456\n",
      "0   -5.501476e-15\n",
      "1   -7.253964e-02\n",
      "2   -9.598494e-02\n",
      "3   -1.391982e-01\n",
      "4   -1.470545e-01\n",
      "5   -1.733676e-01\n",
      "Name: m_2, dtype: float64\n",
      "19.867152251684907\n",
      "1.6394657947130131\n",
      "0         0.000126\n",
      "1     31126.295614\n",
      "2     57638.632784\n",
      "3     91773.557081\n",
      "4    101174.087271\n",
      "5    160252.169767\n",
      "Name: R_w, dtype: float64\n"
     ]
    }
   ],
   "source": [
    "# calculate wave resistance\n",
    "c7 = B/lwl\n",
    "T_fwd = T_n # assume !\n",
    "h_b = 0.6*T_fwd\n",
    "c3 = 0.56 * A_bt**1.5 / (B*T_n*(0.31*math.sqrt(A_bt)+T_fwd-h_b))\n",
    "print(c3)\n",
    "c2 = math.exp(-1.89*math.sqrt(c3))\n",
    "print(c2)\n",
    "c5 = 1 - 0.8*(A_t/(B*T_n*C_m))\n",
    "print(c5)\n",
    "lambda_const = (1.446 * C_p) - 0.03*(lwl/B)\n",
    "print(lambda_const)\n",
    "c16 = 8.07981*C_p - 13.8673*C_p**2 + 6.984388*C_p**3\n",
    "print(c16)\n",
    "m_1 = 0.0140407 * (lwl/T_n) - 1.75254*(dsp**(1/3)/lwl) -  4.79323*(B/lwl) - c16\n",
    "print(m_1)\n",
    "c15 = -1.69385\n",
    "# Use dynamic Froude here\n",
    "v_dummy_df['Fr_n'] = v_dummy_df['dummy_vel_ms'] / math.sqrt(g*lpp)\n",
    "v_dummy_df['m_2'] = c15 * C_p**2 * np.exp(-0.1*v_dummy_df['Fr_n']**-2)\n",
    "print(v_dummy_df['m_2'])\n",
    "i_e = 1 + 89*math.exp(-(lwl/B)**0.80856*(1-C_wp)**0.30484*(1-C_p-0.0225*lcb)**0.6367*(lr/B)**0.34574*((100*dsp)/lwl**3)**0.16302)\n",
    "print(i_e)\n",
    "c1 = 2223105 * c7**3.78613 * (T_n/B)**1.07961*(90-i_e)**-1.37565\n",
    "print(c1)\n",
    "d = -0.9\n",
    "\n",
    "v_dummy_df['R_w'] = c1*c2*c5*dsp*g*rho_sea*np.exp(m_1*v_dummy_df['Fr_n']**d+v_dummy_df['m_2']*np.cos(lambda_const*v_dummy_df['Fr_n']**-2))\n",
    "print(v_dummy_df['R_w'])"
   ]
  },
  {
   "cell_type": "code",
   "execution_count": 13,
   "metadata": {},
   "outputs": [
    {
     "name": "stdout",
     "output_type": "stream",
     "text": [
      "11.24627236597615\n",
      "5.85\n"
     ]
    }
   ],
   "source": [
    "print(A_bt)\n",
    "print(T_fwd)"
   ]
  },
  {
   "cell_type": "code",
   "execution_count": 14,
   "metadata": {},
   "outputs": [
    {
     "name": "stdout",
     "output_type": "stream",
     "text": [
      "3.210232295573174\n",
      "0     3536.521258\n",
      "1    35386.872486\n",
      "2    37606.727441\n",
      "3    41014.586372\n",
      "4    41570.874930\n",
      "5    43333.796507\n",
      "Name: R_b, dtype: float64\n"
     ]
    }
   ],
   "source": [
    "# resistance due to bulbous bow\n",
    "# use V = 10 m/s\n",
    "\n",
    "P_b = 0.56*math.sqrt(A_bt)/(T_fwd-1.5*h_b)\n",
    "print(P_b)\n",
    "v_dummy_df['F_ni'] = v_dummy_df['dummy_vel_ms'] / np.sqrt(g*(T_fwd-h_b-0.25*math.sqrt(A_bt))+0.15*v_dummy_df['dummy_vel_ms']**2)\n",
    "v_dummy_df['R_b'] = 0.11 * np.exp(-3*P_b**-2)*v_dummy_df['F_ni']**3*A_bt**1.5*rho_sea*g/(1+v_dummy_df['F_ni']**2)\n",
    "print(v_dummy_df['R_b'])"
   ]
  },
  {
   "cell_type": "code",
   "execution_count": 15,
   "metadata": {},
   "outputs": [
    {
     "name": "stdout",
     "output_type": "stream",
     "text": [
      "5.5434260311174\n",
      "R_tr = 0.0000 N\n"
     ]
    }
   ],
   "source": [
    "#Calculate Transom Resistance \n",
    "# use v = 10\n",
    "\n",
    "F_nT = 10 / math.sqrt(2*g*A_t/(B+B*C_wp))\n",
    "print(F_nT)\n",
    "c6 = 0\n",
    "R_tr = 0.5*rho_sea*10**2*A_t*c6\n",
    "print(f\"R_tr = {R_tr:0.4f} N\")"
   ]
  },
  {
   "cell_type": "code",
   "execution_count": 16,
   "metadata": {},
   "outputs": [
    {
     "name": "stdout",
     "output_type": "stream",
     "text": [
      "0.04040055248618784\n",
      "0.00043852165454709695\n",
      "0     3766.689918\n",
      "1    52969.076972\n",
      "2    60267.038689\n",
      "3    73754.142776\n",
      "4    76275.470840\n",
      "5    84985.941276\n",
      "Name: R_a, dtype: float64\n"
     ]
    }
   ],
   "source": [
    "# Model ship correlation resistance\n",
    "\n",
    "c4 = T_fwd/lwl\n",
    "print(c4)\n",
    "# since c4>0.04, use c4 as c4 = 0.04\n",
    "c4 = 0.04\n",
    "C_a = 0.006*(lwl+100)**-0.16 - 0.00205 + 0.003*math.sqrt(lwl/7.5)*C_b**4*c2*(0.04-c4)\n",
    "print(C_a)\n",
    "v_dummy_df['R_a'] = 0.5*rho_sea*v_dummy_df['dummy_vel_ms']**2*S_bh*C_a\n",
    "print(v_dummy_df['R_a'])\n"
   ]
  },
  {
   "cell_type": "code",
   "execution_count": 17,
   "metadata": {},
   "outputs": [],
   "source": [
    "# Calculate Rtot\n",
    "\n",
    "v_dummy_df['R_tot'] = v_dummy_df['R_f'] + v_dummy_df['R_app'] + v_dummy_df['R_w'] + v_dummy_df['R_b'] + v_dummy_df['R_a'] "
   ]
  },
  {
   "cell_type": "code",
   "execution_count": 18,
   "metadata": {},
   "outputs": [
    {
     "data": {
      "text/html": [
       "<div>\n",
       "<style scoped>\n",
       "    .dataframe tbody tr th:only-of-type {\n",
       "        vertical-align: middle;\n",
       "    }\n",
       "\n",
       "    .dataframe tbody tr th {\n",
       "        vertical-align: top;\n",
       "    }\n",
       "\n",
       "    .dataframe thead th {\n",
       "        text-align: right;\n",
       "    }\n",
       "</style>\n",
       "<table border=\"1\" class=\"dataframe\">\n",
       "  <thead>\n",
       "    <tr style=\"text-align: right;\">\n",
       "      <th></th>\n",
       "      <th>dummy_vel</th>\n",
       "      <th>dummy_vel_ms</th>\n",
       "      <th>Re</th>\n",
       "      <th>C_f</th>\n",
       "      <th>R_f</th>\n",
       "      <th>R_app</th>\n",
       "      <th>Fr_n</th>\n",
       "      <th>m_2</th>\n",
       "      <th>R_w</th>\n",
       "      <th>F_ni</th>\n",
       "      <th>R_b</th>\n",
       "      <th>R_a</th>\n",
       "      <th>R_tot</th>\n",
       "    </tr>\n",
       "  </thead>\n",
       "  <tbody>\n",
       "    <tr>\n",
       "      <th>0</th>\n",
       "      <td>4.0</td>\n",
       "      <td>2.057783</td>\n",
       "      <td>2.525143e+08</td>\n",
       "      <td>0.001062</td>\n",
       "      <td>11058.515982</td>\n",
       "      <td>322.765568</td>\n",
       "      <td>0.055451</td>\n",
       "      <td>-5.501476e-15</td>\n",
       "      <td>0.000126</td>\n",
       "      <td>0.525080</td>\n",
       "      <td>3536.521258</td>\n",
       "      <td>3766.689918</td>\n",
       "      <td>18684.492851</td>\n",
       "    </tr>\n",
       "    <tr>\n",
       "      <th>1</th>\n",
       "      <td>15.0</td>\n",
       "      <td>7.716685</td>\n",
       "      <td>9.469287e+08</td>\n",
       "      <td>0.000931</td>\n",
       "      <td>136256.715808</td>\n",
       "      <td>3976.932922</td>\n",
       "      <td>0.207939</td>\n",
       "      <td>-7.253964e-02</td>\n",
       "      <td>31126.295614</td>\n",
       "      <td>1.586593</td>\n",
       "      <td>35386.872486</td>\n",
       "      <td>52969.076972</td>\n",
       "      <td>259715.893803</td>\n",
       "    </tr>\n",
       "    <tr>\n",
       "      <th>2</th>\n",
       "      <td>16.0</td>\n",
       "      <td>8.231130</td>\n",
       "      <td>1.010057e+09</td>\n",
       "      <td>0.000925</td>\n",
       "      <td>154066.211728</td>\n",
       "      <td>4496.739746</td>\n",
       "      <td>0.221802</td>\n",
       "      <td>-9.598494e-02</td>\n",
       "      <td>57638.632784</td>\n",
       "      <td>1.649991</td>\n",
       "      <td>37606.727441</td>\n",
       "      <td>60267.038689</td>\n",
       "      <td>314075.350387</td>\n",
       "    </tr>\n",
       "    <tr>\n",
       "      <th>3</th>\n",
       "      <td>17.7</td>\n",
       "      <td>9.105688</td>\n",
       "      <td>1.117376e+09</td>\n",
       "      <td>0.000916</td>\n",
       "      <td>186721.361999</td>\n",
       "      <td>5449.847572</td>\n",
       "      <td>0.245368</td>\n",
       "      <td>-1.391982e-01</td>\n",
       "      <td>91773.557081</td>\n",
       "      <td>1.747210</td>\n",
       "      <td>41014.586372</td>\n",
       "      <td>73754.142776</td>\n",
       "      <td>398713.495800</td>\n",
       "    </tr>\n",
       "    <tr>\n",
       "      <th>4</th>\n",
       "      <td>18.0</td>\n",
       "      <td>9.260021</td>\n",
       "      <td>1.136314e+09</td>\n",
       "      <td>0.000915</td>\n",
       "      <td>192793.359170</td>\n",
       "      <td>5627.071317</td>\n",
       "      <td>0.249527</td>\n",
       "      <td>-1.470545e-01</td>\n",
       "      <td>101174.087271</td>\n",
       "      <td>1.763078</td>\n",
       "      <td>41570.874930</td>\n",
       "      <td>76275.470840</td>\n",
       "      <td>417440.863529</td>\n",
       "    </tr>\n",
       "  </tbody>\n",
       "</table>\n",
       "</div>"
      ],
      "text/plain": [
       "   dummy_vel  dummy_vel_ms            Re       C_f            R_f  \\\n",
       "0        4.0      2.057783  2.525143e+08  0.001062   11058.515982   \n",
       "1       15.0      7.716685  9.469287e+08  0.000931  136256.715808   \n",
       "2       16.0      8.231130  1.010057e+09  0.000925  154066.211728   \n",
       "3       17.7      9.105688  1.117376e+09  0.000916  186721.361999   \n",
       "4       18.0      9.260021  1.136314e+09  0.000915  192793.359170   \n",
       "\n",
       "         R_app      Fr_n           m_2            R_w      F_ni           R_b  \\\n",
       "0   322.765568  0.055451 -5.501476e-15       0.000126  0.525080   3536.521258   \n",
       "1  3976.932922  0.207939 -7.253964e-02   31126.295614  1.586593  35386.872486   \n",
       "2  4496.739746  0.221802 -9.598494e-02   57638.632784  1.649991  37606.727441   \n",
       "3  5449.847572  0.245368 -1.391982e-01   91773.557081  1.747210  41014.586372   \n",
       "4  5627.071317  0.249527 -1.470545e-01  101174.087271  1.763078  41570.874930   \n",
       "\n",
       "            R_a          R_tot  \n",
       "0   3766.689918   18684.492851  \n",
       "1  52969.076972  259715.893803  \n",
       "2  60267.038689  314075.350387  \n",
       "3  73754.142776  398713.495800  \n",
       "4  76275.470840  417440.863529  "
      ]
     },
     "execution_count": 18,
     "metadata": {},
     "output_type": "execute_result"
    }
   ],
   "source": [
    "v_dummy_df.head()"
   ]
  },
  {
   "cell_type": "code",
   "execution_count": 19,
   "metadata": {},
   "outputs": [],
   "source": [
    "v_dummy_df2=v_dummy_df.drop(['C_f','Re','F_ni'],axis=1)"
   ]
  },
  {
   "cell_type": "code",
   "execution_count": 20,
   "metadata": {},
   "outputs": [
    {
     "name": "stdout",
     "output_type": "stream",
     "text": [
      "3.44\n",
      "0.6451363786295532\n",
      "1.2118857645707746\n",
      "24.5\n",
      "5.85\n",
      "0    0.987385\n",
      "1    0.986199\n",
      "2    0.986147\n",
      "3    0.986067\n",
      "4    0.986053\n",
      "5    0.986011\n",
      "Name: eff_h, dtype: float64\n",
      "0    1.048474\n",
      "1    1.048474\n",
      "2    1.048474\n",
      "3    1.048474\n",
      "4    1.048474\n",
      "5    1.048474\n",
      "Name: eff_r, dtype: float64\n"
     ]
    },
    {
     "data": {
      "text/html": [
       "<div>\n",
       "<style scoped>\n",
       "    .dataframe tbody tr th:only-of-type {\n",
       "        vertical-align: middle;\n",
       "    }\n",
       "\n",
       "    .dataframe tbody tr th {\n",
       "        vertical-align: top;\n",
       "    }\n",
       "\n",
       "    .dataframe thead th {\n",
       "        text-align: right;\n",
       "    }\n",
       "</style>\n",
       "<table border=\"1\" class=\"dataframe\">\n",
       "  <thead>\n",
       "    <tr style=\"text-align: right;\">\n",
       "      <th></th>\n",
       "      <th>dummy_vel</th>\n",
       "      <th>dummy_vel_ms</th>\n",
       "      <th>R_f</th>\n",
       "      <th>R_app</th>\n",
       "      <th>Fr_n</th>\n",
       "      <th>m_2</th>\n",
       "      <th>R_w</th>\n",
       "      <th>R_b</th>\n",
       "      <th>R_a</th>\n",
       "      <th>R_tot</th>\n",
       "      <th>eff_tot</th>\n",
       "      <th>P_b</th>\n",
       "    </tr>\n",
       "  </thead>\n",
       "  <tbody>\n",
       "    <tr>\n",
       "      <th>0</th>\n",
       "      <td>4.0</td>\n",
       "      <td>2.057783</td>\n",
       "      <td>11058.515982</td>\n",
       "      <td>322.765568</td>\n",
       "      <td>0.055451</td>\n",
       "      <td>-5.501476e-15</td>\n",
       "      <td>0.000126</td>\n",
       "      <td>3536.521258</td>\n",
       "      <td>3766.689918</td>\n",
       "      <td>18684.492851</td>\n",
       "      <td>0.768671</td>\n",
       "      <td>50.019606</td>\n",
       "    </tr>\n",
       "    <tr>\n",
       "      <th>1</th>\n",
       "      <td>15.0</td>\n",
       "      <td>7.716685</td>\n",
       "      <td>136256.715808</td>\n",
       "      <td>3976.932922</td>\n",
       "      <td>0.207939</td>\n",
       "      <td>-7.253964e-02</td>\n",
       "      <td>31126.295614</td>\n",
       "      <td>35386.872486</td>\n",
       "      <td>52969.076972</td>\n",
       "      <td>259715.893803</td>\n",
       "      <td>0.767748</td>\n",
       "      <td>2610.421250</td>\n",
       "    </tr>\n",
       "    <tr>\n",
       "      <th>2</th>\n",
       "      <td>16.0</td>\n",
       "      <td>8.231130</td>\n",
       "      <td>154066.211728</td>\n",
       "      <td>4496.739746</td>\n",
       "      <td>0.221802</td>\n",
       "      <td>-9.598494e-02</td>\n",
       "      <td>57638.632784</td>\n",
       "      <td>37606.727441</td>\n",
       "      <td>60267.038689</td>\n",
       "      <td>314075.350387</td>\n",
       "      <td>0.767707</td>\n",
       "      <td>3367.422321</td>\n",
       "    </tr>\n",
       "    <tr>\n",
       "      <th>3</th>\n",
       "      <td>17.7</td>\n",
       "      <td>9.105688</td>\n",
       "      <td>186721.361999</td>\n",
       "      <td>5449.847572</td>\n",
       "      <td>0.245368</td>\n",
       "      <td>-1.391982e-01</td>\n",
       "      <td>91773.557081</td>\n",
       "      <td>41014.586372</td>\n",
       "      <td>73754.142776</td>\n",
       "      <td>398713.495800</td>\n",
       "      <td>0.767645</td>\n",
       "      <td>4729.480269</td>\n",
       "    </tr>\n",
       "    <tr>\n",
       "      <th>4</th>\n",
       "      <td>18.0</td>\n",
       "      <td>9.260021</td>\n",
       "      <td>192793.359170</td>\n",
       "      <td>5627.071317</td>\n",
       "      <td>0.249527</td>\n",
       "      <td>-1.470545e-01</td>\n",
       "      <td>101174.087271</td>\n",
       "      <td>41570.874930</td>\n",
       "      <td>76275.470840</td>\n",
       "      <td>417440.863529</td>\n",
       "      <td>0.767634</td>\n",
       "      <td>5035.615174</td>\n",
       "    </tr>\n",
       "  </tbody>\n",
       "</table>\n",
       "</div>"
      ],
      "text/plain": [
       "   dummy_vel  dummy_vel_ms            R_f        R_app      Fr_n  \\\n",
       "0        4.0      2.057783   11058.515982   322.765568  0.055451   \n",
       "1       15.0      7.716685  136256.715808  3976.932922  0.207939   \n",
       "2       16.0      8.231130  154066.211728  4496.739746  0.221802   \n",
       "3       17.7      9.105688  186721.361999  5449.847572  0.245368   \n",
       "4       18.0      9.260021  192793.359170  5627.071317  0.249527   \n",
       "\n",
       "            m_2            R_w           R_b           R_a          R_tot  \\\n",
       "0 -5.501476e-15       0.000126   3536.521258   3766.689918   18684.492851   \n",
       "1 -7.253964e-02   31126.295614  35386.872486  52969.076972  259715.893803   \n",
       "2 -9.598494e-02   57638.632784  37606.727441  60267.038689  314075.350387   \n",
       "3 -1.391982e-01   91773.557081  41014.586372  73754.142776  398713.495800   \n",
       "4 -1.470545e-01  101174.087271  41570.874930  76275.470840  417440.863529   \n",
       "\n",
       "    eff_tot          P_b  \n",
       "0  0.768671    50.019606  \n",
       "1  0.767748  2610.421250  \n",
       "2  0.767707  3367.422321  \n",
       "3  0.767645  4729.480269  \n",
       "4  0.767634  5035.615174  "
      ]
     },
     "execution_count": 20,
     "metadata": {},
     "output_type": "execute_result"
    }
   ],
   "source": [
    "# Calculate Efficiencies\n",
    "\n",
    "# First n_h\n",
    "# Approximate diameter size from Bertram\n",
    "\n",
    "D = 0.215*16 #m\n",
    "# D = 8\n",
    "print(D)\n",
    "print(C_b)\n",
    "print(k1_const)\n",
    "print(B)\n",
    "print(T_n)\n",
    "\n",
    "v_dummy_df['C_v'] = k1_const*v_dummy_df['C_f'] + C_a\n",
    "# print(v_dummy_df['C_v'])\n",
    "v_dummy_df['w'] = 0.3095 * C_b + 10*v_dummy_df['C_v']*C_b - (0.23*D)/math.sqrt(B*T_n) \n",
    "# print(v_dummy_df['w'])\n",
    "v_dummy_df['t'] = 0.325*C_b - 0.1885*D/math.sqrt(B*T_n)\n",
    "# print(v_dummy_df['t'])\n",
    "v_dummy_df['eff_h'] = (1-v_dummy_df['t']) / (1-v_dummy_df['w'])\n",
    "print(v_dummy_df['eff_h'])\n",
    "\n",
    "# Then n_r\n",
    "v_dummy_df['eff_r'] = 0.9737 + 0.111*(C_p - 0.225*lcb) - 0.06325*lcb\n",
    "print(v_dummy_df['eff_r'])\n",
    "\n",
    "v_dummy_df['eff_s'] = 0.99 # Set according to holtrop mennen and man\n",
    "v_dummy_df['eff_o'] = 0.75 # Approx wageningen kristensen\n",
    "\n",
    "v_dummy_df2['eff_tot'] = v_dummy_df['eff_h']* v_dummy_df['eff_r']* v_dummy_df['eff_s']*v_dummy_df['eff_o']\n",
    "# print(v_dummy_df2)\n",
    "v_dummy_df2['P_b'] = (v_dummy_df2['R_tot']/1e3 * v_dummy_df2['dummy_vel_ms'])/(v_dummy_df2['eff_tot']*0.85) # in kW\n",
    "v_dummy_df2.head()\n",
    "# Unit P_b is KW"
   ]
  },
  {
   "cell_type": "code",
   "execution_count": 21,
   "metadata": {},
   "outputs": [
    {
     "data": {
      "text/html": [
       "<div>\n",
       "<style scoped>\n",
       "    .dataframe tbody tr th:only-of-type {\n",
       "        vertical-align: middle;\n",
       "    }\n",
       "\n",
       "    .dataframe tbody tr th {\n",
       "        vertical-align: top;\n",
       "    }\n",
       "\n",
       "    .dataframe thead th {\n",
       "        text-align: right;\n",
       "    }\n",
       "</style>\n",
       "<table border=\"1\" class=\"dataframe\">\n",
       "  <thead>\n",
       "    <tr style=\"text-align: right;\">\n",
       "      <th></th>\n",
       "      <th>dummy_vel</th>\n",
       "      <th>dummy_vel_ms</th>\n",
       "      <th>R_f</th>\n",
       "      <th>R_app</th>\n",
       "      <th>Fr_n</th>\n",
       "      <th>m_2</th>\n",
       "      <th>R_w</th>\n",
       "      <th>R_b</th>\n",
       "      <th>R_a</th>\n",
       "      <th>R_tot</th>\n",
       "      <th>eff_tot</th>\n",
       "      <th>P_b</th>\n",
       "      <th>FOC</th>\n",
       "    </tr>\n",
       "  </thead>\n",
       "  <tbody>\n",
       "    <tr>\n",
       "      <th>0</th>\n",
       "      <td>4.0</td>\n",
       "      <td>2.057783</td>\n",
       "      <td>11058.515982</td>\n",
       "      <td>322.765568</td>\n",
       "      <td>0.055451</td>\n",
       "      <td>-5.501476e-15</td>\n",
       "      <td>0.000126</td>\n",
       "      <td>3536.521258</td>\n",
       "      <td>3766.689918</td>\n",
       "      <td>18684.492851</td>\n",
       "      <td>0.768671</td>\n",
       "      <td>50.019606</td>\n",
       "      <td>0.008473</td>\n",
       "    </tr>\n",
       "    <tr>\n",
       "      <th>1</th>\n",
       "      <td>15.0</td>\n",
       "      <td>7.716685</td>\n",
       "      <td>136256.715808</td>\n",
       "      <td>3976.932922</td>\n",
       "      <td>0.207939</td>\n",
       "      <td>-7.253964e-02</td>\n",
       "      <td>31126.295614</td>\n",
       "      <td>35386.872486</td>\n",
       "      <td>52969.076972</td>\n",
       "      <td>259715.893803</td>\n",
       "      <td>0.767748</td>\n",
       "      <td>2610.421250</td>\n",
       "      <td>0.442205</td>\n",
       "    </tr>\n",
       "    <tr>\n",
       "      <th>2</th>\n",
       "      <td>16.0</td>\n",
       "      <td>8.231130</td>\n",
       "      <td>154066.211728</td>\n",
       "      <td>4496.739746</td>\n",
       "      <td>0.221802</td>\n",
       "      <td>-9.598494e-02</td>\n",
       "      <td>57638.632784</td>\n",
       "      <td>37606.727441</td>\n",
       "      <td>60267.038689</td>\n",
       "      <td>314075.350387</td>\n",
       "      <td>0.767707</td>\n",
       "      <td>3367.422321</td>\n",
       "      <td>0.570441</td>\n",
       "    </tr>\n",
       "    <tr>\n",
       "      <th>3</th>\n",
       "      <td>17.7</td>\n",
       "      <td>9.105688</td>\n",
       "      <td>186721.361999</td>\n",
       "      <td>5449.847572</td>\n",
       "      <td>0.245368</td>\n",
       "      <td>-1.391982e-01</td>\n",
       "      <td>91773.557081</td>\n",
       "      <td>41014.586372</td>\n",
       "      <td>73754.142776</td>\n",
       "      <td>398713.495800</td>\n",
       "      <td>0.767645</td>\n",
       "      <td>4729.480269</td>\n",
       "      <td>0.801174</td>\n",
       "    </tr>\n",
       "    <tr>\n",
       "      <th>4</th>\n",
       "      <td>18.0</td>\n",
       "      <td>9.260021</td>\n",
       "      <td>192793.359170</td>\n",
       "      <td>5627.071317</td>\n",
       "      <td>0.249527</td>\n",
       "      <td>-1.470545e-01</td>\n",
       "      <td>101174.087271</td>\n",
       "      <td>41570.874930</td>\n",
       "      <td>76275.470840</td>\n",
       "      <td>417440.863529</td>\n",
       "      <td>0.767634</td>\n",
       "      <td>5035.615174</td>\n",
       "      <td>0.853033</td>\n",
       "    </tr>\n",
       "  </tbody>\n",
       "</table>\n",
       "</div>"
      ],
      "text/plain": [
       "   dummy_vel  dummy_vel_ms            R_f        R_app      Fr_n  \\\n",
       "0        4.0      2.057783   11058.515982   322.765568  0.055451   \n",
       "1       15.0      7.716685  136256.715808  3976.932922  0.207939   \n",
       "2       16.0      8.231130  154066.211728  4496.739746  0.221802   \n",
       "3       17.7      9.105688  186721.361999  5449.847572  0.245368   \n",
       "4       18.0      9.260021  192793.359170  5627.071317  0.249527   \n",
       "\n",
       "            m_2            R_w           R_b           R_a          R_tot  \\\n",
       "0 -5.501476e-15       0.000126   3536.521258   3766.689918   18684.492851   \n",
       "1 -7.253964e-02   31126.295614  35386.872486  52969.076972  259715.893803   \n",
       "2 -9.598494e-02   57638.632784  37606.727441  60267.038689  314075.350387   \n",
       "3 -1.391982e-01   91773.557081  41014.586372  73754.142776  398713.495800   \n",
       "4 -1.470545e-01  101174.087271  41570.874930  76275.470840  417440.863529   \n",
       "\n",
       "    eff_tot          P_b       FOC  \n",
       "0  0.768671    50.019606  0.008473  \n",
       "1  0.767748  2610.421250  0.442205  \n",
       "2  0.767707  3367.422321  0.570441  \n",
       "3  0.767645  4729.480269  0.801174  \n",
       "4  0.767634  5035.615174  0.853033  "
      ]
     },
     "execution_count": 21,
     "metadata": {},
     "output_type": "execute_result"
    }
   ],
   "source": [
    "SFOC = 169.4 # g/kWh\n",
    "v_dummy_df2['FOC'] = (v_dummy_df2['P_b'] * SFOC)/1e6 # get FOC t/h\n",
    "v_dummy_df2.head()\n"
   ]
  }
 ],
 "metadata": {
  "kernelspec": {
   "display_name": "geron1",
   "language": "python",
   "name": "python3"
  },
  "language_info": {
   "codemirror_mode": {
    "name": "ipython",
    "version": 3
   },
   "file_extension": ".py",
   "mimetype": "text/x-python",
   "name": "python",
   "nbconvert_exporter": "python",
   "pygments_lexer": "ipython3",
   "version": "3.9.15"
  },
  "orig_nbformat": 4
 },
 "nbformat": 4,
 "nbformat_minor": 2
}
