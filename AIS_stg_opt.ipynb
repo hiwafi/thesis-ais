{
 "cells": [
  {
   "attachments": {},
   "cell_type": "markdown",
   "metadata": {},
   "source": [
    "To perform hyperparameter optimization, use this script !<br>\n",
    "Data preprocessing :\n",
    "<br>\n",
    "Two data sources will be imported <br>\n",
    "-\"AIS_weather_h_rename_copy.csv\" will be used to replace the information for true current direction and true wind direction <br>\n",
    "-The resulting dataframe will be merged with the dataframe from the \"AIS_weather_H_ok2_copy.csv\" <br>\n",
    "-The data of the journey between Ronne and Sassnitz will be omitted <br>\n",
    "-The threshold for the ships manouvering speed will be 5kt (Abebe) <br>"
   ]
  },
  {
   "cell_type": "code",
   "execution_count": 1,
   "metadata": {},
   "outputs": [],
   "source": [
    "import pandas as pd\n",
    "from matplotlib import pyplot\n",
    "import numpy as np\n",
    "import seaborn as sns\n",
    "import numpy as np\n",
    "import matplotlib.pyplot as plt\n",
    "import math\n",
    "import datetime\n",
    "import pickle\n",
    "import joblib\n",
    "\n",
    "dfmain = pd.read_csv(\"AIS_weather_H_ok2_copy.csv\",parse_dates=[\"Time\"])\n",
    "dfmain = dfmain[dfmain['LAT'] > 55.04 ]\n",
    "\n",
    "dfpre = pd.read_csv(\"AIS_weather_h_rename_copy.csv\",parse_dates=[\"Time\"])\n",
    "dfpre = dfpre[dfpre['LAT'] > 55.04 ]\n",
    "\n"
   ]
  },
  {
   "cell_type": "code",
   "execution_count": 2,
   "metadata": {},
   "outputs": [
    {
     "name": "stdout",
     "output_type": "stream",
     "text": [
      "<class 'pandas.core.frame.DataFrame'>\n",
      "Int64Index: 7453 entries, 0 to 7995\n",
      "Data columns (total 27 columns):\n",
      " #   Column                                Non-Null Count  Dtype         \n",
      "---  ------                                --------------  -----         \n",
      " 0   Time                                  7453 non-null   datetime64[ns]\n",
      " 1   LON                                   7453 non-null   float64       \n",
      " 2   LAT                                   7453 non-null   float64       \n",
      " 3   Eastward wind                         7453 non-null   float64       \n",
      " 4   Northward wind                        7453 non-null   float64       \n",
      " 5   Temperature above oceans              7453 non-null   float64       \n",
      " 6   Air density above oceans              7337 non-null   float64       \n",
      " 7   Max wave height                       6274 non-null   float64       \n",
      " 8   Swell direction                       6274 non-null   float64       \n",
      " 9   Wind wave direction                   6274 non-null   float64       \n",
      " 10  Swell period                          6274 non-null   float64       \n",
      " 11  Wind wave period                      6274 non-null   float64       \n",
      " 12  Wave direction                        6274 non-null   float64       \n",
      " 13  Wave period                           6274 non-null   float64       \n",
      " 14  Sea surface temperature               7318 non-null   float64       \n",
      " 15  Combined wind waves and swell height  6274 non-null   float64       \n",
      " 16  Swell height                          6274 non-null   float64       \n",
      " 17  Wind wave height                      6274 non-null   float64       \n",
      " 18  Surface pressure                      7453 non-null   float64       \n",
      " 19  Eastward current                      5941 non-null   float64       \n",
      " 20  Northward current                     5941 non-null   float64       \n",
      " 21  Draught                               7453 non-null   float64       \n",
      " 22  Width                                 7453 non-null   int64         \n",
      " 23  Length                                7453 non-null   int64         \n",
      " 24  SOG                                   7453 non-null   float64       \n",
      " 25  COG                                   7453 non-null   float64       \n",
      " 26  Heading                               7453 non-null   float64       \n",
      "dtypes: datetime64[ns](1), float64(24), int64(2)\n",
      "memory usage: 1.6 MB\n"
     ]
    }
   ],
   "source": [
    "dfpre.info()"
   ]
  },
  {
   "cell_type": "code",
   "execution_count": 3,
   "metadata": {},
   "outputs": [
    {
     "data": {
      "text/html": [
       "<div>\n",
       "<style scoped>\n",
       "    .dataframe tbody tr th:only-of-type {\n",
       "        vertical-align: middle;\n",
       "    }\n",
       "\n",
       "    .dataframe tbody tr th {\n",
       "        vertical-align: top;\n",
       "    }\n",
       "\n",
       "    .dataframe thead th {\n",
       "        text-align: right;\n",
       "    }\n",
       "</style>\n",
       "<table border=\"1\" class=\"dataframe\">\n",
       "  <thead>\n",
       "    <tr style=\"text-align: right;\">\n",
       "      <th></th>\n",
       "      <th>eastwind</th>\n",
       "      <th>northwind</th>\n",
       "      <th>eastcurrent</th>\n",
       "      <th>northcurrent</th>\n",
       "      <th>sog</th>\n",
       "      <th>cog</th>\n",
       "    </tr>\n",
       "  </thead>\n",
       "  <tbody>\n",
       "    <tr>\n",
       "      <th>0</th>\n",
       "      <td>2.267688</td>\n",
       "      <td>6.741482</td>\n",
       "      <td>0.113690</td>\n",
       "      <td>0.044994</td>\n",
       "      <td>0.0</td>\n",
       "      <td>358.9</td>\n",
       "    </tr>\n",
       "    <tr>\n",
       "      <th>1</th>\n",
       "      <td>1.782681</td>\n",
       "      <td>6.410275</td>\n",
       "      <td>0.113690</td>\n",
       "      <td>0.044994</td>\n",
       "      <td>0.0</td>\n",
       "      <td>358.9</td>\n",
       "    </tr>\n",
       "    <tr>\n",
       "      <th>2</th>\n",
       "      <td>1.154659</td>\n",
       "      <td>6.385135</td>\n",
       "      <td>0.083984</td>\n",
       "      <td>0.054000</td>\n",
       "      <td>0.0</td>\n",
       "      <td>358.9</td>\n",
       "    </tr>\n",
       "    <tr>\n",
       "      <th>3</th>\n",
       "      <td>0.348801</td>\n",
       "      <td>6.094659</td>\n",
       "      <td>0.083984</td>\n",
       "      <td>0.054000</td>\n",
       "      <td>0.0</td>\n",
       "      <td>358.9</td>\n",
       "    </tr>\n",
       "    <tr>\n",
       "      <th>4</th>\n",
       "      <td>-0.593128</td>\n",
       "      <td>6.153186</td>\n",
       "      <td>0.083984</td>\n",
       "      <td>0.054000</td>\n",
       "      <td>0.0</td>\n",
       "      <td>358.9</td>\n",
       "    </tr>\n",
       "  </tbody>\n",
       "</table>\n",
       "</div>"
      ],
      "text/plain": [
       "   eastwind  northwind  eastcurrent  northcurrent  sog    cog\n",
       "0  2.267688   6.741482     0.113690      0.044994  0.0  358.9\n",
       "1  1.782681   6.410275     0.113690      0.044994  0.0  358.9\n",
       "2  1.154659   6.385135     0.083984      0.054000  0.0  358.9\n",
       "3  0.348801   6.094659     0.083984      0.054000  0.0  358.9\n",
       "4 -0.593128   6.153186     0.083984      0.054000  0.0  358.9"
      ]
     },
     "execution_count": 3,
     "metadata": {},
     "output_type": "execute_result"
    }
   ],
   "source": [
    "dfpre = dfpre.drop(dfpre.columns[[0,1,2,5,6,7,8,9,10,11,12,13,14,15,16,17,18,21,22,23,26]],axis=1)\n",
    "dfpre = dfpre.rename({'Eastward wind': 'eastwind', 'Northward wind': 'northwind',\n",
    "                           'Eastward current': 'eastcurrent', 'Northward current': 'northcurrent',\n",
    "                           'SOG':'sog','COG':'cog','Heading':'heading'},axis=1) \n",
    "dfpre.head(n=5)"
   ]
  },
  {
   "cell_type": "code",
   "execution_count": 4,
   "metadata": {},
   "outputs": [
    {
     "data": {
      "text/html": [
       "<style>#sk-container-id-1 {color: black;background-color: white;}#sk-container-id-1 pre{padding: 0;}#sk-container-id-1 div.sk-toggleable {background-color: white;}#sk-container-id-1 label.sk-toggleable__label {cursor: pointer;display: block;width: 100%;margin-bottom: 0;padding: 0.3em;box-sizing: border-box;text-align: center;}#sk-container-id-1 label.sk-toggleable__label-arrow:before {content: \"▸\";float: left;margin-right: 0.25em;color: #696969;}#sk-container-id-1 label.sk-toggleable__label-arrow:hover:before {color: black;}#sk-container-id-1 div.sk-estimator:hover label.sk-toggleable__label-arrow:before {color: black;}#sk-container-id-1 div.sk-toggleable__content {max-height: 0;max-width: 0;overflow: hidden;text-align: left;background-color: #f0f8ff;}#sk-container-id-1 div.sk-toggleable__content pre {margin: 0.2em;color: black;border-radius: 0.25em;background-color: #f0f8ff;}#sk-container-id-1 input.sk-toggleable__control:checked~div.sk-toggleable__content {max-height: 200px;max-width: 100%;overflow: auto;}#sk-container-id-1 input.sk-toggleable__control:checked~label.sk-toggleable__label-arrow:before {content: \"▾\";}#sk-container-id-1 div.sk-estimator input.sk-toggleable__control:checked~label.sk-toggleable__label {background-color: #d4ebff;}#sk-container-id-1 div.sk-label input.sk-toggleable__control:checked~label.sk-toggleable__label {background-color: #d4ebff;}#sk-container-id-1 input.sk-hidden--visually {border: 0;clip: rect(1px 1px 1px 1px);clip: rect(1px, 1px, 1px, 1px);height: 1px;margin: -1px;overflow: hidden;padding: 0;position: absolute;width: 1px;}#sk-container-id-1 div.sk-estimator {font-family: monospace;background-color: #f0f8ff;border: 1px dotted black;border-radius: 0.25em;box-sizing: border-box;margin-bottom: 0.5em;}#sk-container-id-1 div.sk-estimator:hover {background-color: #d4ebff;}#sk-container-id-1 div.sk-parallel-item::after {content: \"\";width: 100%;border-bottom: 1px solid gray;flex-grow: 1;}#sk-container-id-1 div.sk-label:hover label.sk-toggleable__label {background-color: #d4ebff;}#sk-container-id-1 div.sk-serial::before {content: \"\";position: absolute;border-left: 1px solid gray;box-sizing: border-box;top: 0;bottom: 0;left: 50%;z-index: 0;}#sk-container-id-1 div.sk-serial {display: flex;flex-direction: column;align-items: center;background-color: white;padding-right: 0.2em;padding-left: 0.2em;position: relative;}#sk-container-id-1 div.sk-item {position: relative;z-index: 1;}#sk-container-id-1 div.sk-parallel {display: flex;align-items: stretch;justify-content: center;background-color: white;position: relative;}#sk-container-id-1 div.sk-item::before, #sk-container-id-1 div.sk-parallel-item::before {content: \"\";position: absolute;border-left: 1px solid gray;box-sizing: border-box;top: 0;bottom: 0;left: 50%;z-index: -1;}#sk-container-id-1 div.sk-parallel-item {display: flex;flex-direction: column;z-index: 1;position: relative;background-color: white;}#sk-container-id-1 div.sk-parallel-item:first-child::after {align-self: flex-end;width: 50%;}#sk-container-id-1 div.sk-parallel-item:last-child::after {align-self: flex-start;width: 50%;}#sk-container-id-1 div.sk-parallel-item:only-child::after {width: 0;}#sk-container-id-1 div.sk-dashed-wrapped {border: 1px dashed gray;margin: 0 0.4em 0.5em 0.4em;box-sizing: border-box;padding-bottom: 0.4em;background-color: white;}#sk-container-id-1 div.sk-label label {font-family: monospace;font-weight: bold;display: inline-block;line-height: 1.2em;}#sk-container-id-1 div.sk-label-container {text-align: center;}#sk-container-id-1 div.sk-container {/* jupyter's `normalize.less` sets `[hidden] { display: none; }` but bootstrap.min.css set `[hidden] { display: none !important; }` so we also need the `!important` here to be able to override the default hidden behavior on the sphinx rendered scikit-learn.org. See: https://github.com/scikit-learn/scikit-learn/issues/21755 */display: inline-block !important;position: relative;}#sk-container-id-1 div.sk-text-repr-fallback {display: none;}</style><div id=\"sk-container-id-1\" class=\"sk-top-container\"><div class=\"sk-text-repr-fallback\"><pre>KNNImputer(n_neighbors=50)</pre><b>In a Jupyter environment, please rerun this cell to show the HTML representation or trust the notebook. <br />On GitHub, the HTML representation is unable to render, please try loading this page with nbviewer.org.</b></div><div class=\"sk-container\" hidden><div class=\"sk-item\"><div class=\"sk-estimator sk-toggleable\"><input class=\"sk-toggleable__control sk-hidden--visually\" id=\"sk-estimator-id-1\" type=\"checkbox\" checked><label for=\"sk-estimator-id-1\" class=\"sk-toggleable__label sk-toggleable__label-arrow\">KNNImputer</label><div class=\"sk-toggleable__content\"><pre>KNNImputer(n_neighbors=50)</pre></div></div></div></div></div>"
      ],
      "text/plain": [
       "KNNImputer(n_neighbors=50)"
      ]
     },
     "execution_count": 4,
     "metadata": {},
     "output_type": "execute_result"
    }
   ],
   "source": [
    "from sklearn.impute import KNNImputer\n",
    "\n",
    "imputer = KNNImputer(n_neighbors=50)\n",
    "imputer.fit(dfpre)"
   ]
  },
  {
   "cell_type": "code",
   "execution_count": 5,
   "metadata": {},
   "outputs": [],
   "source": [
    "x_pre = imputer.transform(dfpre)"
   ]
  },
  {
   "cell_type": "code",
   "execution_count": 6,
   "metadata": {},
   "outputs": [],
   "source": [
    "dfpre = pd.DataFrame(x_pre, columns=dfpre.columns, index=dfpre.index)"
   ]
  },
  {
   "cell_type": "code",
   "execution_count": 7,
   "metadata": {},
   "outputs": [],
   "source": [
    "# Calculate the True North wind direction\n",
    "\n",
    "condwind = [(dfpre['eastwind']>0) & (dfpre['northwind']<0),\n",
    "            (dfpre['eastwind']<0) & (dfpre['northwind']>0),\n",
    "            (dfpre['eastwind']>0) & (dfpre['northwind']>0)]\n",
    "\n",
    "choicewind = [360 - np.abs(np.rad2deg(np.arctan(dfpre[\"eastwind\"]/dfpre[\"northwind\"]))),\n",
    "              180 - np.abs(np.rad2deg(np.arctan(dfpre[\"eastwind\"]/dfpre[\"northwind\"]))),\n",
    "              270 - np.abs(np.rad2deg(np.arctan(dfpre[\"eastwind\"]/dfpre[\"northwind\"])))]\n",
    "\n",
    "dfpre[\"True North Wind Direction\"] = np.select(condwind, choicewind, \n",
    "                                                np.abs(np.rad2deg(np.arctan(dfpre[\"eastwind\"]/dfpre[\"northwind\"]))))"
   ]
  },
  {
   "cell_type": "code",
   "execution_count": 8,
   "metadata": {},
   "outputs": [],
   "source": [
    "# Calculate the True North current direction\n",
    "\n",
    "condcurr = [(dfpre['eastcurrent']<0) & (dfpre['northcurrent']>0),\n",
    "            (dfpre['eastcurrent']>0) & (dfpre['northcurrent']<0),\n",
    "            (dfpre['eastcurrent']<0) & (dfpre['northcurrent']<0)]\n",
    "\n",
    "choicecurr = [360 - np.abs(np.rad2deg(np.arctan(dfpre[\"eastcurrent\"]/dfpre[\"northcurrent\"]))),\n",
    "              180 - np.abs(np.rad2deg(np.arctan(dfpre[\"eastcurrent\"]/dfpre[\"northcurrent\"]))),\n",
    "              270 - np.abs(np.rad2deg(np.arctan(dfpre[\"eastcurrent\"]/dfpre[\"northcurrent\"])))]\n",
    "\n",
    "dfpre[\"True North Current Direction\"] = np.select(condcurr, choicecurr, \n",
    "                                                np.abs(np.rad2deg(np.arctan(dfpre[\"eastcurrent\"]/dfpre[\"northcurrent\"]))))"
   ]
  },
  {
   "cell_type": "code",
   "execution_count": 9,
   "metadata": {},
   "outputs": [],
   "source": [
    "dfpre[\"Current Speed\"] = np.sqrt(dfpre[\"eastcurrent\"]**2 + dfpre[\"northcurrent\"]**2)\n",
    "dfpre[\"Wind Speed\"] = np.sqrt(dfpre[\"eastwind\"]**2 + dfpre[\"northwind\"]**2)"
   ]
  },
  {
   "cell_type": "code",
   "execution_count": 10,
   "metadata": {},
   "outputs": [],
   "source": [
    "# dfpre[\"True North Wind Direction\"] = 180 +  np.rad2deg(np.arctan(dfpre[\"eastwind\"]/dfpre[\"northwind\"]))"
   ]
  },
  {
   "cell_type": "code",
   "execution_count": 11,
   "metadata": {},
   "outputs": [],
   "source": [
    "# dfpre[\"True North Current Direction\"] = np.rad2deg(np.arctan(dfpre[\"eastcurrent\"]/dfpre[\"northcurrent\"]))"
   ]
  },
  {
   "cell_type": "code",
   "execution_count": 12,
   "metadata": {},
   "outputs": [
    {
     "data": {
      "text/html": [
       "<div>\n",
       "<style scoped>\n",
       "    .dataframe tbody tr th:only-of-type {\n",
       "        vertical-align: middle;\n",
       "    }\n",
       "\n",
       "    .dataframe tbody tr th {\n",
       "        vertical-align: top;\n",
       "    }\n",
       "\n",
       "    .dataframe thead th {\n",
       "        text-align: right;\n",
       "    }\n",
       "</style>\n",
       "<table border=\"1\" class=\"dataframe\">\n",
       "  <thead>\n",
       "    <tr style=\"text-align: right;\">\n",
       "      <th></th>\n",
       "      <th>eastwind</th>\n",
       "      <th>northwind</th>\n",
       "      <th>eastcurrent</th>\n",
       "      <th>northcurrent</th>\n",
       "      <th>sog</th>\n",
       "      <th>cog</th>\n",
       "      <th>True North Wind Direction</th>\n",
       "      <th>True North Current Direction</th>\n",
       "      <th>Current Speed</th>\n",
       "      <th>Wind Speed</th>\n",
       "    </tr>\n",
       "  </thead>\n",
       "  <tbody>\n",
       "    <tr>\n",
       "      <th>count</th>\n",
       "      <td>7453.000000</td>\n",
       "      <td>7453.000000</td>\n",
       "      <td>7453.000000</td>\n",
       "      <td>7453.000000</td>\n",
       "      <td>7453.000000</td>\n",
       "      <td>7453.000000</td>\n",
       "      <td>7453.000000</td>\n",
       "      <td>7453.000000</td>\n",
       "      <td>7453.000000</td>\n",
       "      <td>7453.000000</td>\n",
       "    </tr>\n",
       "    <tr>\n",
       "      <th>mean</th>\n",
       "      <td>1.976344</td>\n",
       "      <td>0.379926</td>\n",
       "      <td>0.019228</td>\n",
       "      <td>0.004214</td>\n",
       "      <td>8.870751</td>\n",
       "      <td>242.699284</td>\n",
       "      <td>198.585961</td>\n",
       "      <td>150.634332</td>\n",
       "      <td>0.096788</td>\n",
       "      <td>6.513813</td>\n",
       "    </tr>\n",
       "    <tr>\n",
       "      <th>std</th>\n",
       "      <td>5.296850</td>\n",
       "      <td>4.429899</td>\n",
       "      <td>0.089903</td>\n",
       "      <td>0.074041</td>\n",
       "      <td>8.619512</td>\n",
       "      <td>108.555287</td>\n",
       "      <td>92.310964</td>\n",
       "      <td>100.306234</td>\n",
       "      <td>0.067697</td>\n",
       "      <td>3.048934</td>\n",
       "    </tr>\n",
       "    <tr>\n",
       "      <th>min</th>\n",
       "      <td>-15.216397</td>\n",
       "      <td>-12.824582</td>\n",
       "      <td>-0.491010</td>\n",
       "      <td>-0.404690</td>\n",
       "      <td>-0.009130</td>\n",
       "      <td>-0.134241</td>\n",
       "      <td>0.052191</td>\n",
       "      <td>0.102997</td>\n",
       "      <td>0.000735</td>\n",
       "      <td>0.193221</td>\n",
       "    </tr>\n",
       "    <tr>\n",
       "      <th>25%</th>\n",
       "      <td>-1.756650</td>\n",
       "      <td>-2.534061</td>\n",
       "      <td>-0.021486</td>\n",
       "      <td>-0.033055</td>\n",
       "      <td>0.000000</td>\n",
       "      <td>124.116508</td>\n",
       "      <td>139.632096</td>\n",
       "      <td>73.919853</td>\n",
       "      <td>0.047447</td>\n",
       "      <td>4.149883</td>\n",
       "    </tr>\n",
       "    <tr>\n",
       "      <th>50%</th>\n",
       "      <td>2.294543</td>\n",
       "      <td>0.385690</td>\n",
       "      <td>0.025485</td>\n",
       "      <td>0.003718</td>\n",
       "      <td>6.953578</td>\n",
       "      <td>283.216008</td>\n",
       "      <td>205.028650</td>\n",
       "      <td>121.289202</td>\n",
       "      <td>0.079148</td>\n",
       "      <td>6.285080</td>\n",
       "    </tr>\n",
       "    <tr>\n",
       "      <th>75%</th>\n",
       "      <td>5.838650</td>\n",
       "      <td>3.339456</td>\n",
       "      <td>0.062644</td>\n",
       "      <td>0.039626</td>\n",
       "      <td>18.014436</td>\n",
       "      <td>346.200000</td>\n",
       "      <td>275.302728</td>\n",
       "      <td>227.423990</td>\n",
       "      <td>0.128444</td>\n",
       "      <td>8.525129</td>\n",
       "    </tr>\n",
       "    <tr>\n",
       "      <th>max</th>\n",
       "      <td>16.338177</td>\n",
       "      <td>14.519458</td>\n",
       "      <td>0.522374</td>\n",
       "      <td>0.364966</td>\n",
       "      <td>21.070514</td>\n",
       "      <td>359.728115</td>\n",
       "      <td>359.892603</td>\n",
       "      <td>359.958291</td>\n",
       "      <td>0.525174</td>\n",
       "      <td>16.760001</td>\n",
       "    </tr>\n",
       "  </tbody>\n",
       "</table>\n",
       "</div>"
      ],
      "text/plain": [
       "          eastwind    northwind  eastcurrent  northcurrent          sog  \\\n",
       "count  7453.000000  7453.000000  7453.000000   7453.000000  7453.000000   \n",
       "mean      1.976344     0.379926     0.019228      0.004214     8.870751   \n",
       "std       5.296850     4.429899     0.089903      0.074041     8.619512   \n",
       "min     -15.216397   -12.824582    -0.491010     -0.404690    -0.009130   \n",
       "25%      -1.756650    -2.534061    -0.021486     -0.033055     0.000000   \n",
       "50%       2.294543     0.385690     0.025485      0.003718     6.953578   \n",
       "75%       5.838650     3.339456     0.062644      0.039626    18.014436   \n",
       "max      16.338177    14.519458     0.522374      0.364966    21.070514   \n",
       "\n",
       "               cog  True North Wind Direction  True North Current Direction  \\\n",
       "count  7453.000000                7453.000000                   7453.000000   \n",
       "mean    242.699284                 198.585961                    150.634332   \n",
       "std     108.555287                  92.310964                    100.306234   \n",
       "min      -0.134241                   0.052191                      0.102997   \n",
       "25%     124.116508                 139.632096                     73.919853   \n",
       "50%     283.216008                 205.028650                    121.289202   \n",
       "75%     346.200000                 275.302728                    227.423990   \n",
       "max     359.728115                 359.892603                    359.958291   \n",
       "\n",
       "       Current Speed   Wind Speed  \n",
       "count    7453.000000  7453.000000  \n",
       "mean        0.096788     6.513813  \n",
       "std         0.067697     3.048934  \n",
       "min         0.000735     0.193221  \n",
       "25%         0.047447     4.149883  \n",
       "50%         0.079148     6.285080  \n",
       "75%         0.128444     8.525129  \n",
       "max         0.525174    16.760001  "
      ]
     },
     "execution_count": 12,
     "metadata": {},
     "output_type": "execute_result"
    }
   ],
   "source": [
    "dfpre.describe()"
   ]
  },
  {
   "cell_type": "code",
   "execution_count": 13,
   "metadata": {},
   "outputs": [],
   "source": [
    "dfpre = dfpre.drop(['eastwind','northwind','eastcurrent','northcurrent','sog','cog'],axis=1)"
   ]
  },
  {
   "cell_type": "code",
   "execution_count": 14,
   "metadata": {},
   "outputs": [],
   "source": [
    "dfmain = dfmain.drop(['Wind Speed','Current Speed'],axis=1)"
   ]
  },
  {
   "cell_type": "code",
   "execution_count": 15,
   "metadata": {},
   "outputs": [
    {
     "data": {
      "text/html": [
       "<div>\n",
       "<style scoped>\n",
       "    .dataframe tbody tr th:only-of-type {\n",
       "        vertical-align: middle;\n",
       "    }\n",
       "\n",
       "    .dataframe tbody tr th {\n",
       "        vertical-align: top;\n",
       "    }\n",
       "\n",
       "    .dataframe thead th {\n",
       "        text-align: right;\n",
       "    }\n",
       "</style>\n",
       "<table border=\"1\" class=\"dataframe\">\n",
       "  <thead>\n",
       "    <tr style=\"text-align: right;\">\n",
       "      <th></th>\n",
       "      <th>Unnamed: 0</th>\n",
       "      <th>Time</th>\n",
       "      <th>LON</th>\n",
       "      <th>LAT</th>\n",
       "      <th>Temperature above oceans</th>\n",
       "      <th>Air density above oceans</th>\n",
       "      <th>Max wave height</th>\n",
       "      <th>Swell period</th>\n",
       "      <th>Wind wave period</th>\n",
       "      <th>Wave period</th>\n",
       "      <th>...</th>\n",
       "      <th>Heading</th>\n",
       "      <th>True Wind Direction</th>\n",
       "      <th>True Current Direction</th>\n",
       "      <th>True Swell Direction</th>\n",
       "      <th>True Wind Wave Direction</th>\n",
       "      <th>True Wave Direction</th>\n",
       "      <th>True North Wind Direction</th>\n",
       "      <th>True North Current Direction</th>\n",
       "      <th>Current Speed</th>\n",
       "      <th>Wind Speed</th>\n",
       "    </tr>\n",
       "  </thead>\n",
       "  <tbody>\n",
       "    <tr>\n",
       "      <th>0</th>\n",
       "      <td>0</td>\n",
       "      <td>2021-01-01 00:00:00</td>\n",
       "      <td>14.689663</td>\n",
       "      <td>55.098452</td>\n",
       "      <td>277.311035</td>\n",
       "      <td>1.259323</td>\n",
       "      <td>1.893614</td>\n",
       "      <td>4.818881</td>\n",
       "      <td>3.818459</td>\n",
       "      <td>4.154329</td>\n",
       "      <td>...</td>\n",
       "      <td>174.0</td>\n",
       "      <td>155.408180</td>\n",
       "      <td>105.591753</td>\n",
       "      <td>22.854050</td>\n",
       "      <td>22.749664</td>\n",
       "      <td>22.610062</td>\n",
       "      <td>251.408180</td>\n",
       "      <td>68.408246</td>\n",
       "      <td>0.122270</td>\n",
       "      <td>7.112664</td>\n",
       "    </tr>\n",
       "    <tr>\n",
       "      <th>1</th>\n",
       "      <td>1</td>\n",
       "      <td>2021-01-01 01:00:00</td>\n",
       "      <td>14.689659</td>\n",
       "      <td>55.098451</td>\n",
       "      <td>277.328369</td>\n",
       "      <td>1.259985</td>\n",
       "      <td>1.752303</td>\n",
       "      <td>4.755800</td>\n",
       "      <td>3.470216</td>\n",
       "      <td>4.130580</td>\n",
       "      <td>...</td>\n",
       "      <td>174.0</td>\n",
       "      <td>158.458891</td>\n",
       "      <td>105.591753</td>\n",
       "      <td>26.122772</td>\n",
       "      <td>19.152008</td>\n",
       "      <td>22.209274</td>\n",
       "      <td>254.458891</td>\n",
       "      <td>68.408246</td>\n",
       "      <td>0.122270</td>\n",
       "      <td>6.653538</td>\n",
       "    </tr>\n",
       "    <tr>\n",
       "      <th>2</th>\n",
       "      <td>2</td>\n",
       "      <td>2021-01-01 02:00:00</td>\n",
       "      <td>14.689648</td>\n",
       "      <td>55.098468</td>\n",
       "      <td>277.390625</td>\n",
       "      <td>1.260244</td>\n",
       "      <td>1.619775</td>\n",
       "      <td>4.645083</td>\n",
       "      <td>3.259682</td>\n",
       "      <td>4.083755</td>\n",
       "      <td>...</td>\n",
       "      <td>174.0</td>\n",
       "      <td>163.749663</td>\n",
       "      <td>116.740448</td>\n",
       "      <td>28.498383</td>\n",
       "      <td>12.424912</td>\n",
       "      <td>20.857971</td>\n",
       "      <td>259.749663</td>\n",
       "      <td>57.259552</td>\n",
       "      <td>0.099846</td>\n",
       "      <td>6.488697</td>\n",
       "    </tr>\n",
       "    <tr>\n",
       "      <th>3</th>\n",
       "      <td>3</td>\n",
       "      <td>2021-01-01 03:00:00</td>\n",
       "      <td>14.689646</td>\n",
       "      <td>55.098471</td>\n",
       "      <td>277.411377</td>\n",
       "      <td>1.260148</td>\n",
       "      <td>1.518736</td>\n",
       "      <td>4.588384</td>\n",
       "      <td>3.177906</td>\n",
       "      <td>4.010502</td>\n",
       "      <td>...</td>\n",
       "      <td>174.0</td>\n",
       "      <td>170.724504</td>\n",
       "      <td>116.740448</td>\n",
       "      <td>29.956985</td>\n",
       "      <td>6.725922</td>\n",
       "      <td>18.732071</td>\n",
       "      <td>266.724504</td>\n",
       "      <td>57.259552</td>\n",
       "      <td>0.099846</td>\n",
       "      <td>6.104632</td>\n",
       "    </tr>\n",
       "    <tr>\n",
       "      <th>4</th>\n",
       "      <td>4</td>\n",
       "      <td>2021-01-01 04:00:00</td>\n",
       "      <td>14.689644</td>\n",
       "      <td>55.098462</td>\n",
       "      <td>277.430664</td>\n",
       "      <td>1.260634</td>\n",
       "      <td>1.455034</td>\n",
       "      <td>4.528841</td>\n",
       "      <td>3.281654</td>\n",
       "      <td>3.913362</td>\n",
       "      <td>...</td>\n",
       "      <td>174.0</td>\n",
       "      <td>179.505940</td>\n",
       "      <td>116.740448</td>\n",
       "      <td>34.486298</td>\n",
       "      <td>3.761627</td>\n",
       "      <td>15.731430</td>\n",
       "      <td>174.494060</td>\n",
       "      <td>57.259552</td>\n",
       "      <td>0.099846</td>\n",
       "      <td>6.181707</td>\n",
       "    </tr>\n",
       "  </tbody>\n",
       "</table>\n",
       "<p>5 rows × 30 columns</p>\n",
       "</div>"
      ],
      "text/plain": [
       "   Unnamed: 0                Time        LON        LAT  \\\n",
       "0           0 2021-01-01 00:00:00  14.689663  55.098452   \n",
       "1           1 2021-01-01 01:00:00  14.689659  55.098451   \n",
       "2           2 2021-01-01 02:00:00  14.689648  55.098468   \n",
       "3           3 2021-01-01 03:00:00  14.689646  55.098471   \n",
       "4           4 2021-01-01 04:00:00  14.689644  55.098462   \n",
       "\n",
       "   Temperature above oceans  Air density above oceans  Max wave height  \\\n",
       "0                277.311035                  1.259323         1.893614   \n",
       "1                277.328369                  1.259985         1.752303   \n",
       "2                277.390625                  1.260244         1.619775   \n",
       "3                277.411377                  1.260148         1.518736   \n",
       "4                277.430664                  1.260634         1.455034   \n",
       "\n",
       "   Swell period  Wind wave period  Wave period  ...  Heading  \\\n",
       "0      4.818881          3.818459     4.154329  ...    174.0   \n",
       "1      4.755800          3.470216     4.130580  ...    174.0   \n",
       "2      4.645083          3.259682     4.083755  ...    174.0   \n",
       "3      4.588384          3.177906     4.010502  ...    174.0   \n",
       "4      4.528841          3.281654     3.913362  ...    174.0   \n",
       "\n",
       "   True Wind Direction  True Current Direction  True Swell Direction  \\\n",
       "0           155.408180              105.591753             22.854050   \n",
       "1           158.458891              105.591753             26.122772   \n",
       "2           163.749663              116.740448             28.498383   \n",
       "3           170.724504              116.740448             29.956985   \n",
       "4           179.505940              116.740448             34.486298   \n",
       "\n",
       "   True Wind Wave Direction  True Wave Direction  True North Wind Direction  \\\n",
       "0                 22.749664            22.610062                 251.408180   \n",
       "1                 19.152008            22.209274                 254.458891   \n",
       "2                 12.424912            20.857971                 259.749663   \n",
       "3                  6.725922            18.732071                 266.724504   \n",
       "4                  3.761627            15.731430                 174.494060   \n",
       "\n",
       "   True North Current Direction  Current Speed  Wind Speed  \n",
       "0                     68.408246       0.122270    7.112664  \n",
       "1                     68.408246       0.122270    6.653538  \n",
       "2                     57.259552       0.099846    6.488697  \n",
       "3                     57.259552       0.099846    6.104632  \n",
       "4                     57.259552       0.099846    6.181707  \n",
       "\n",
       "[5 rows x 30 columns]"
      ]
     },
     "execution_count": 15,
     "metadata": {},
     "output_type": "execute_result"
    }
   ],
   "source": [
    "df = pd.concat([dfmain,dfpre],axis=1)\n",
    "df.head()"
   ]
  },
  {
   "cell_type": "code",
   "execution_count": 16,
   "metadata": {},
   "outputs": [],
   "source": [
    "# SOG threshold according to Abebe\n",
    "df = df[df['SOG'] > 5 ]"
   ]
  },
  {
   "cell_type": "code",
   "execution_count": 17,
   "metadata": {},
   "outputs": [],
   "source": [
    "# Exclude data for the month of June to check the model's forecasting performance \n",
    "dfdate6 = df[df['Time'].dt.strftime('%Y-%m') == '2021-06']\n",
    "df = df[df['Time'].dt.strftime('%Y-%m') != '2021-06']"
   ]
  },
  {
   "cell_type": "code",
   "execution_count": 18,
   "metadata": {},
   "outputs": [],
   "source": [
    "# Temporary export\n",
    "# df.to_csv(\"AIS_sog_threshold.csv\")"
   ]
  },
  {
   "cell_type": "code",
   "execution_count": 19,
   "metadata": {},
   "outputs": [],
   "source": [
    "# Temporary export\n",
    "# df.to_csv(\"AIS_impute_check.csv\")"
   ]
  },
  {
   "attachments": {},
   "cell_type": "markdown",
   "metadata": {},
   "source": [
    "Data Analysis before modelling "
   ]
  },
  {
   "cell_type": "code",
   "execution_count": 20,
   "metadata": {},
   "outputs": [
    {
     "data": {
      "text/html": [
       "<div>\n",
       "<style scoped>\n",
       "    .dataframe tbody tr th:only-of-type {\n",
       "        vertical-align: middle;\n",
       "    }\n",
       "\n",
       "    .dataframe tbody tr th {\n",
       "        vertical-align: top;\n",
       "    }\n",
       "\n",
       "    .dataframe thead th {\n",
       "        text-align: right;\n",
       "    }\n",
       "</style>\n",
       "<table border=\"1\" class=\"dataframe\">\n",
       "  <thead>\n",
       "    <tr style=\"text-align: right;\">\n",
       "      <th></th>\n",
       "      <th>Temperature above oceans</th>\n",
       "      <th>Max wave height</th>\n",
       "      <th>Swell period</th>\n",
       "      <th>Wind wave period</th>\n",
       "      <th>Wave period</th>\n",
       "      <th>Sea surface temperature</th>\n",
       "      <th>Combined wind waves and swell height</th>\n",
       "      <th>Swell height</th>\n",
       "      <th>Wind wave height</th>\n",
       "      <th>Draught</th>\n",
       "      <th>...</th>\n",
       "      <th>Heading</th>\n",
       "      <th>True Wind Direction</th>\n",
       "      <th>True Current Direction</th>\n",
       "      <th>True Swell Direction</th>\n",
       "      <th>True Wind Wave Direction</th>\n",
       "      <th>True Wave Direction</th>\n",
       "      <th>True North Wind Direction</th>\n",
       "      <th>True North Current Direction</th>\n",
       "      <th>Current Speed</th>\n",
       "      <th>Wind Speed</th>\n",
       "    </tr>\n",
       "  </thead>\n",
       "  <tbody>\n",
       "    <tr>\n",
       "      <th>8</th>\n",
       "      <td>276.900391</td>\n",
       "      <td>1.661038</td>\n",
       "      <td>4.291309</td>\n",
       "      <td>3.667458</td>\n",
       "      <td>3.757862</td>\n",
       "      <td>279.699585</td>\n",
       "      <td>0.865413</td>\n",
       "      <td>0.323892</td>\n",
       "      <td>0.801956</td>\n",
       "      <td>5.017723</td>\n",
       "      <td>...</td>\n",
       "      <td>269.900574</td>\n",
       "      <td>91.133175</td>\n",
       "      <td>143.029898</td>\n",
       "      <td>82.454986</td>\n",
       "      <td>91.138748</td>\n",
       "      <td>90.495209</td>\n",
       "      <td>268.966251</td>\n",
       "      <td>52.930471</td>\n",
       "      <td>0.104064</td>\n",
       "      <td>7.648595</td>\n",
       "    </tr>\n",
       "    <tr>\n",
       "      <th>9</th>\n",
       "      <td>276.705566</td>\n",
       "      <td>1.501637</td>\n",
       "      <td>4.187211</td>\n",
       "      <td>3.145607</td>\n",
       "      <td>3.803910</td>\n",
       "      <td>279.820312</td>\n",
       "      <td>0.785675</td>\n",
       "      <td>0.452440</td>\n",
       "      <td>0.578049</td>\n",
       "      <td>5.019207</td>\n",
       "      <td>...</td>\n",
       "      <td>300.130435</td>\n",
       "      <td>68.884377</td>\n",
       "      <td>96.351303</td>\n",
       "      <td>134.548587</td>\n",
       "      <td>115.015200</td>\n",
       "      <td>120.971331</td>\n",
       "      <td>260.985188</td>\n",
       "      <td>36.481737</td>\n",
       "      <td>0.104050</td>\n",
       "      <td>6.700397</td>\n",
       "    </tr>\n",
       "    <tr>\n",
       "      <th>10</th>\n",
       "      <td>276.309815</td>\n",
       "      <td>1.235528</td>\n",
       "      <td>4.012717</td>\n",
       "      <td>2.120399</td>\n",
       "      <td>3.819602</td>\n",
       "      <td>NaN</td>\n",
       "      <td>0.654636</td>\n",
       "      <td>0.556525</td>\n",
       "      <td>0.236435</td>\n",
       "      <td>5.019664</td>\n",
       "      <td>...</td>\n",
       "      <td>230.117302</td>\n",
       "      <td>129.989203</td>\n",
       "      <td>174.697284</td>\n",
       "      <td>59.296837</td>\n",
       "      <td>47.905998</td>\n",
       "      <td>52.498604</td>\n",
       "      <td>269.893495</td>\n",
       "      <td>44.814586</td>\n",
       "      <td>0.092759</td>\n",
       "      <td>4.089472</td>\n",
       "    </tr>\n",
       "    <tr>\n",
       "      <th>11</th>\n",
       "      <td>276.399902</td>\n",
       "      <td>1.204397</td>\n",
       "      <td>4.020009</td>\n",
       "      <td>2.090308</td>\n",
       "      <td>3.820546</td>\n",
       "      <td>NaN</td>\n",
       "      <td>0.638782</td>\n",
       "      <td>0.555405</td>\n",
       "      <td>0.226181</td>\n",
       "      <td>5.019009</td>\n",
       "      <td>...</td>\n",
       "      <td>178.653615</td>\n",
       "      <td>170.879672</td>\n",
       "      <td>107.951765</td>\n",
       "      <td>8.221531</td>\n",
       "      <td>10.314571</td>\n",
       "      <td>1.236454</td>\n",
       "      <td>262.226057</td>\n",
       "      <td>70.701850</td>\n",
       "      <td>0.093128</td>\n",
       "      <td>3.821501</td>\n",
       "    </tr>\n",
       "    <tr>\n",
       "      <th>12</th>\n",
       "      <td>277.134033</td>\n",
       "      <td>1.275907</td>\n",
       "      <td>4.095175</td>\n",
       "      <td>3.029945</td>\n",
       "      <td>3.815268</td>\n",
       "      <td>279.820312</td>\n",
       "      <td>0.674081</td>\n",
       "      <td>0.598373</td>\n",
       "      <td>0.263031</td>\n",
       "      <td>5.020452</td>\n",
       "      <td>...</td>\n",
       "      <td>125.446296</td>\n",
       "      <td>102.327505</td>\n",
       "      <td>72.665715</td>\n",
       "      <td>47.977150</td>\n",
       "      <td>68.470208</td>\n",
       "      <td>54.270195</td>\n",
       "      <td>246.881208</td>\n",
       "      <td>52.780582</td>\n",
       "      <td>0.086621</td>\n",
       "      <td>5.479353</td>\n",
       "    </tr>\n",
       "  </tbody>\n",
       "</table>\n",
       "<p>5 rows × 22 columns</p>\n",
       "</div>"
      ],
      "text/plain": [
       "    Temperature above oceans  Max wave height  Swell period  Wind wave period  \\\n",
       "8                 276.900391         1.661038      4.291309          3.667458   \n",
       "9                 276.705566         1.501637      4.187211          3.145607   \n",
       "10                276.309815         1.235528      4.012717          2.120399   \n",
       "11                276.399902         1.204397      4.020009          2.090308   \n",
       "12                277.134033         1.275907      4.095175          3.029945   \n",
       "\n",
       "    Wave period  Sea surface temperature  \\\n",
       "8      3.757862               279.699585   \n",
       "9      3.803910               279.820312   \n",
       "10     3.819602                      NaN   \n",
       "11     3.820546                      NaN   \n",
       "12     3.815268               279.820312   \n",
       "\n",
       "    Combined wind waves and swell height  Swell height  Wind wave height  \\\n",
       "8                               0.865413      0.323892          0.801956   \n",
       "9                               0.785675      0.452440          0.578049   \n",
       "10                              0.654636      0.556525          0.236435   \n",
       "11                              0.638782      0.555405          0.226181   \n",
       "12                              0.674081      0.598373          0.263031   \n",
       "\n",
       "     Draught  ...     Heading  True Wind Direction  True Current Direction  \\\n",
       "8   5.017723  ...  269.900574            91.133175              143.029898   \n",
       "9   5.019207  ...  300.130435            68.884377               96.351303   \n",
       "10  5.019664  ...  230.117302           129.989203              174.697284   \n",
       "11  5.019009  ...  178.653615           170.879672              107.951765   \n",
       "12  5.020452  ...  125.446296           102.327505               72.665715   \n",
       "\n",
       "    True Swell Direction  True Wind Wave Direction  True Wave Direction  \\\n",
       "8              82.454986                 91.138748            90.495209   \n",
       "9             134.548587                115.015200           120.971331   \n",
       "10             59.296837                 47.905998            52.498604   \n",
       "11              8.221531                 10.314571             1.236454   \n",
       "12             47.977150                 68.470208            54.270195   \n",
       "\n",
       "    True North Wind Direction  True North Current Direction  Current Speed  \\\n",
       "8                  268.966251                     52.930471       0.104064   \n",
       "9                  260.985188                     36.481737       0.104050   \n",
       "10                 269.893495                     44.814586       0.092759   \n",
       "11                 262.226057                     70.701850       0.093128   \n",
       "12                 246.881208                     52.780582       0.086621   \n",
       "\n",
       "    Wind Speed  \n",
       "8     7.648595  \n",
       "9     6.700397  \n",
       "10    4.089472  \n",
       "11    3.821501  \n",
       "12    5.479353  \n",
       "\n",
       "[5 rows x 22 columns]"
      ]
     },
     "execution_count": 20,
     "metadata": {},
     "output_type": "execute_result"
    }
   ],
   "source": [
    "df_ship = df.drop(['Unnamed: 0','Time','LON','LAT','Air density above oceans',\n",
    "                    'Surface pressure','Width','Length'],axis=1)\n",
    "df_ship.head(n=5)"
   ]
  },
  {
   "cell_type": "code",
   "execution_count": 21,
   "metadata": {},
   "outputs": [],
   "source": [
    "df_ship2 = df_ship.rename({'Max wave height': 'waveheight', 'Draught': 'draught',\n",
    "                           'SOG': 'sog', 'Wind Speed': 'windspeed', \n",
    "                           'True Wind Direction': 'truewinddir','Temperature above oceans' : 'oceantemperature',\n",
    "                           'COG': 'cog', 'Current Speed' : 'curspeed','True Wave Direction' : 'truewavedir',\n",
    "                            'Swell period': 'swellperiod','Wind wave period': 'windwaveperiod','Sea surface temperature': 'surftemp',\n",
    "                            'Combined wind waves and swell height': 'windwaveswellheight','Swell height': 'swellheight','Wind wave height': 'windwaveheight',\n",
    "                            'Heading': 'heading','True Current Direction': 'truecurrentdir','True Swell Direction': 'trueswelldir',\n",
    "                            'True Wind Wave Direction': 'truewindwavedir','Wave period': 'waveperiod',\n",
    "                            'True North Wind Direction' : 'truenorthwinddir' , 'True North Current Direction' : 'truenorthcurrentdir'\n",
    "                           }, axis=1) "
   ]
  },
  {
   "cell_type": "code",
   "execution_count": 22,
   "metadata": {},
   "outputs": [],
   "source": [
    "df_ship2 = df_ship2[['oceantemperature','waveheight','swellperiod','windwaveperiod','waveperiod','surftemp','windwaveswellheight','swellheight','windwaveheight','draught','sog','cog','heading','windspeed','curspeed','truewinddir','truecurrentdir','trueswelldir','truewindwavedir','truewavedir', 'truenorthwinddir' , 'truenorthcurrentdir']]"
   ]
  },
  {
   "cell_type": "code",
   "execution_count": 23,
   "metadata": {},
   "outputs": [],
   "source": [
    "# Scaling script if necessary\n",
    "\n",
    "# from sklearn.preprocessing import StandardScaler\n",
    "# scaler = StandardScaler()\n",
    "# df_ship2 = pd.DataFrame(scaler.fit_transform(df_ship2),columns=df_ship2.columns)\n"
   ]
  },
  {
   "cell_type": "code",
   "execution_count": 24,
   "metadata": {},
   "outputs": [],
   "source": [
    "# import matplotlib.pyplot as plt\n",
    "# plt.rcParams.update(plt.rcParamsDefault)\n",
    "# df_ship2.hist(bins=50,figsize=(20,15))\n",
    "# plt.show()"
   ]
  },
  {
   "cell_type": "code",
   "execution_count": 25,
   "metadata": {},
   "outputs": [],
   "source": [
    "# df_ship2['curspeed'].hist(bins=50)\n",
    "# plt.show()"
   ]
  },
  {
   "cell_type": "code",
   "execution_count": 26,
   "metadata": {},
   "outputs": [],
   "source": [
    "# hhstats = df_ship2.describe()\n",
    "# print(hhstats)"
   ]
  },
  {
   "attachments": {},
   "cell_type": "markdown",
   "metadata": {},
   "source": [
    "Feature Selection"
   ]
  },
  {
   "cell_type": "code",
   "execution_count": 27,
   "metadata": {},
   "outputs": [],
   "source": [
    "# corr_matrix = df_ship2.corr()\n",
    "# print(corr_matrix[\"sog\"])"
   ]
  },
  {
   "cell_type": "code",
   "execution_count": 28,
   "metadata": {},
   "outputs": [],
   "source": [
    "# dfship_corr = df_ship2.drop(df_ship2.columns[[0,5,15,16,17,18,19,20,21]],axis=1)\n",
    "# dfship_corr.head()"
   ]
  },
  {
   "cell_type": "code",
   "execution_count": 29,
   "metadata": {},
   "outputs": [],
   "source": [
    "# def correlation_heatmap(df,fontsize):\n",
    "#     correlations = df.corr()\n",
    "\n",
    "#     fig, ax = plt.subplots(figsize=(10,10))\n",
    "#     sns.set(font_scale = fontsize)\n",
    "#     sns.heatmap(correlations, vmax=1.0, center=0, fmt='.2f',\n",
    "#                 square=True, linewidths=.5, annot=True, cbar_kws={\"shrink\": .70})\n",
    "#     plt.show();\n",
    "    \n",
    "# correlation_heatmap(df_ship2,0.5)"
   ]
  },
  {
   "attachments": {},
   "cell_type": "markdown",
   "metadata": {},
   "source": [
    "Scientific Justification of HCF:\n",
    "\n",
    "According to Bitner Gregersen, the wind wave swell height is equal to the square root of the square of swell wave and wind wave. Therefore SWH and WWH is to be dropped.<br>\n",
    "According to Mori, through wave spectrum, the maximum wave height can be approximated, therefore max wave height can be dropped as well <br>\n",
    "According to Torsetshaugen, The type of dominating wave (Wind wave/Swell) can be predicted from the significant through an equation which include the significant wave height and a certain threshold, therefore, it is decided that the wind wave period, swell period and consequently the true wind wave direction and true swell direction is to be dropped."
   ]
  },
  {
   "cell_type": "code",
   "execution_count": 30,
   "metadata": {},
   "outputs": [],
   "source": [
    "df_ship2 = df_ship2.drop(['waveheight','swellheight','windwaveheight',\n",
    "                        'windwaveperiod','swellperiod',\n",
    "                        'truewindwavedir','trueswelldir',\n",
    "                        'truenorthcurrentdir','truenorthwinddir'],axis=1)\n",
    "# correlation_heatmap(df_ship2,.6)"
   ]
  },
  {
   "cell_type": "code",
   "execution_count": 31,
   "metadata": {},
   "outputs": [],
   "source": [
    "# dfship_corrftf = dfship_corr.drop(['waveheight','swellheight','windwaveheight'],axis=1)\n",
    "\n",
    "# correlation_heatmap(dfship_corrftf,1)"
   ]
  },
  {
   "cell_type": "code",
   "execution_count": 32,
   "metadata": {},
   "outputs": [],
   "source": [
    "# import matplotlib.pyplot as plt\n",
    "# plt.rcParams.update(plt.rcParamsDefault)\n",
    "# df_ship2.hist(bins=50,figsize=(20,15))\n",
    "# plt.show()"
   ]
  },
  {
   "cell_type": "code",
   "execution_count": 33,
   "metadata": {},
   "outputs": [],
   "source": [
    "# from pandas.plotting import scatter_matrix\n",
    "\n",
    "# # attributes = df_ship2.columns\n",
    "\n",
    "# scatter_matrix(dfship_corrftf,figsize=(25,25))"
   ]
  },
  {
   "cell_type": "code",
   "execution_count": 34,
   "metadata": {},
   "outputs": [],
   "source": [
    "# df_ship2.info()"
   ]
  },
  {
   "attachments": {},
   "cell_type": "markdown",
   "metadata": {},
   "source": [
    "Imputing using KNN so that the Random Forest Regressor may function <br>\n",
    "RFR cannot accept nan values <br>\n",
    "Imputed data is then transformed"
   ]
  },
  {
   "cell_type": "code",
   "execution_count": 35,
   "metadata": {},
   "outputs": [
    {
     "data": {
      "text/html": [
       "<style>#sk-container-id-2 {color: black;background-color: white;}#sk-container-id-2 pre{padding: 0;}#sk-container-id-2 div.sk-toggleable {background-color: white;}#sk-container-id-2 label.sk-toggleable__label {cursor: pointer;display: block;width: 100%;margin-bottom: 0;padding: 0.3em;box-sizing: border-box;text-align: center;}#sk-container-id-2 label.sk-toggleable__label-arrow:before {content: \"▸\";float: left;margin-right: 0.25em;color: #696969;}#sk-container-id-2 label.sk-toggleable__label-arrow:hover:before {color: black;}#sk-container-id-2 div.sk-estimator:hover label.sk-toggleable__label-arrow:before {color: black;}#sk-container-id-2 div.sk-toggleable__content {max-height: 0;max-width: 0;overflow: hidden;text-align: left;background-color: #f0f8ff;}#sk-container-id-2 div.sk-toggleable__content pre {margin: 0.2em;color: black;border-radius: 0.25em;background-color: #f0f8ff;}#sk-container-id-2 input.sk-toggleable__control:checked~div.sk-toggleable__content {max-height: 200px;max-width: 100%;overflow: auto;}#sk-container-id-2 input.sk-toggleable__control:checked~label.sk-toggleable__label-arrow:before {content: \"▾\";}#sk-container-id-2 div.sk-estimator input.sk-toggleable__control:checked~label.sk-toggleable__label {background-color: #d4ebff;}#sk-container-id-2 div.sk-label input.sk-toggleable__control:checked~label.sk-toggleable__label {background-color: #d4ebff;}#sk-container-id-2 input.sk-hidden--visually {border: 0;clip: rect(1px 1px 1px 1px);clip: rect(1px, 1px, 1px, 1px);height: 1px;margin: -1px;overflow: hidden;padding: 0;position: absolute;width: 1px;}#sk-container-id-2 div.sk-estimator {font-family: monospace;background-color: #f0f8ff;border: 1px dotted black;border-radius: 0.25em;box-sizing: border-box;margin-bottom: 0.5em;}#sk-container-id-2 div.sk-estimator:hover {background-color: #d4ebff;}#sk-container-id-2 div.sk-parallel-item::after {content: \"\";width: 100%;border-bottom: 1px solid gray;flex-grow: 1;}#sk-container-id-2 div.sk-label:hover label.sk-toggleable__label {background-color: #d4ebff;}#sk-container-id-2 div.sk-serial::before {content: \"\";position: absolute;border-left: 1px solid gray;box-sizing: border-box;top: 0;bottom: 0;left: 50%;z-index: 0;}#sk-container-id-2 div.sk-serial {display: flex;flex-direction: column;align-items: center;background-color: white;padding-right: 0.2em;padding-left: 0.2em;position: relative;}#sk-container-id-2 div.sk-item {position: relative;z-index: 1;}#sk-container-id-2 div.sk-parallel {display: flex;align-items: stretch;justify-content: center;background-color: white;position: relative;}#sk-container-id-2 div.sk-item::before, #sk-container-id-2 div.sk-parallel-item::before {content: \"\";position: absolute;border-left: 1px solid gray;box-sizing: border-box;top: 0;bottom: 0;left: 50%;z-index: -1;}#sk-container-id-2 div.sk-parallel-item {display: flex;flex-direction: column;z-index: 1;position: relative;background-color: white;}#sk-container-id-2 div.sk-parallel-item:first-child::after {align-self: flex-end;width: 50%;}#sk-container-id-2 div.sk-parallel-item:last-child::after {align-self: flex-start;width: 50%;}#sk-container-id-2 div.sk-parallel-item:only-child::after {width: 0;}#sk-container-id-2 div.sk-dashed-wrapped {border: 1px dashed gray;margin: 0 0.4em 0.5em 0.4em;box-sizing: border-box;padding-bottom: 0.4em;background-color: white;}#sk-container-id-2 div.sk-label label {font-family: monospace;font-weight: bold;display: inline-block;line-height: 1.2em;}#sk-container-id-2 div.sk-label-container {text-align: center;}#sk-container-id-2 div.sk-container {/* jupyter's `normalize.less` sets `[hidden] { display: none; }` but bootstrap.min.css set `[hidden] { display: none !important; }` so we also need the `!important` here to be able to override the default hidden behavior on the sphinx rendered scikit-learn.org. See: https://github.com/scikit-learn/scikit-learn/issues/21755 */display: inline-block !important;position: relative;}#sk-container-id-2 div.sk-text-repr-fallback {display: none;}</style><div id=\"sk-container-id-2\" class=\"sk-top-container\"><div class=\"sk-text-repr-fallback\"><pre>KNNImputer(n_neighbors=50)</pre><b>In a Jupyter environment, please rerun this cell to show the HTML representation or trust the notebook. <br />On GitHub, the HTML representation is unable to render, please try loading this page with nbviewer.org.</b></div><div class=\"sk-container\" hidden><div class=\"sk-item\"><div class=\"sk-estimator sk-toggleable\"><input class=\"sk-toggleable__control sk-hidden--visually\" id=\"sk-estimator-id-2\" type=\"checkbox\" checked><label for=\"sk-estimator-id-2\" class=\"sk-toggleable__label sk-toggleable__label-arrow\">KNNImputer</label><div class=\"sk-toggleable__content\"><pre>KNNImputer(n_neighbors=50)</pre></div></div></div></div></div>"
      ],
      "text/plain": [
       "KNNImputer(n_neighbors=50)"
      ]
     },
     "execution_count": 35,
     "metadata": {},
     "output_type": "execute_result"
    }
   ],
   "source": [
    "import numpy as np\n",
    "from sklearn.impute import KNNImputer\n",
    "\n",
    "imputer = KNNImputer(n_neighbors=50)\n",
    "imputer.fit(df_ship2)\n"
   ]
  },
  {
   "cell_type": "code",
   "execution_count": 36,
   "metadata": {},
   "outputs": [],
   "source": [
    "X = imputer.transform(df_ship2)"
   ]
  },
  {
   "cell_type": "code",
   "execution_count": 37,
   "metadata": {},
   "outputs": [],
   "source": [
    "df_ship2tr = pd.DataFrame(X, columns=df_ship2.columns, index=df_ship2.index)"
   ]
  },
  {
   "cell_type": "code",
   "execution_count": 38,
   "metadata": {},
   "outputs": [
    {
     "name": "stdout",
     "output_type": "stream",
     "text": [
      "<class 'pandas.core.frame.DataFrame'>\n",
      "Int64Index: 3506 entries, 8 to 7976\n",
      "Data columns (total 13 columns):\n",
      " #   Column               Non-Null Count  Dtype  \n",
      "---  ------               --------------  -----  \n",
      " 0   oceantemperature     3506 non-null   float64\n",
      " 1   waveperiod           3506 non-null   float64\n",
      " 2   surftemp             3506 non-null   float64\n",
      " 3   windwaveswellheight  3506 non-null   float64\n",
      " 4   draught              3506 non-null   float64\n",
      " 5   sog                  3506 non-null   float64\n",
      " 6   cog                  3506 non-null   float64\n",
      " 7   heading              3506 non-null   float64\n",
      " 8   windspeed            3506 non-null   float64\n",
      " 9   curspeed             3506 non-null   float64\n",
      " 10  truewinddir          3506 non-null   float64\n",
      " 11  truecurrentdir       3506 non-null   float64\n",
      " 12  truewavedir          3506 non-null   float64\n",
      "dtypes: float64(13)\n",
      "memory usage: 383.5 KB\n",
      "None\n"
     ]
    }
   ],
   "source": [
    "print(df_ship2tr.info())"
   ]
  },
  {
   "attachments": {},
   "cell_type": "markdown",
   "metadata": {},
   "source": [
    "Data Split for training and test data"
   ]
  },
  {
   "cell_type": "code",
   "execution_count": 39,
   "metadata": {},
   "outputs": [],
   "source": [
    "# Implement the Random forest, but first, data is to be split into training and validation data\n",
    "\n",
    "from sklearn.model_selection import train_test_split\n",
    "\n",
    "# Dropping some feature can be done here to (possibly) increase the model's performance \n",
    "\n",
    "x_train,x_test,y_train,y_test = train_test_split(df_ship2tr.drop(['sog']\n",
    "                                                                 ,axis=1)\n",
    "                                                                ,df_ship2tr.sog,test_size=0.2,random_state=42)\n"
   ]
  },
  {
   "cell_type": "code",
   "execution_count": 40,
   "metadata": {},
   "outputs": [
    {
     "name": "stdout",
     "output_type": "stream",
     "text": [
      "Amount of the x training dataset is: 2804\n"
     ]
    }
   ],
   "source": [
    "print(\"Amount of the x training dataset is:\",len(x_train))"
   ]
  },
  {
   "cell_type": "code",
   "execution_count": 41,
   "metadata": {},
   "outputs": [
    {
     "name": "stdout",
     "output_type": "stream",
     "text": [
      "Amount of the test dataset is 702\n"
     ]
    }
   ],
   "source": [
    "print(\"Amount of the test dataset is\",len(x_test))"
   ]
  },
  {
   "attachments": {},
   "cell_type": "markdown",
   "metadata": {},
   "source": [
    "Modelling using Random Forest Regressor "
   ]
  },
  {
   "cell_type": "code",
   "execution_count": 42,
   "metadata": {},
   "outputs": [
    {
     "data": {
      "text/html": [
       "<style>#sk-container-id-3 {color: black;background-color: white;}#sk-container-id-3 pre{padding: 0;}#sk-container-id-3 div.sk-toggleable {background-color: white;}#sk-container-id-3 label.sk-toggleable__label {cursor: pointer;display: block;width: 100%;margin-bottom: 0;padding: 0.3em;box-sizing: border-box;text-align: center;}#sk-container-id-3 label.sk-toggleable__label-arrow:before {content: \"▸\";float: left;margin-right: 0.25em;color: #696969;}#sk-container-id-3 label.sk-toggleable__label-arrow:hover:before {color: black;}#sk-container-id-3 div.sk-estimator:hover label.sk-toggleable__label-arrow:before {color: black;}#sk-container-id-3 div.sk-toggleable__content {max-height: 0;max-width: 0;overflow: hidden;text-align: left;background-color: #f0f8ff;}#sk-container-id-3 div.sk-toggleable__content pre {margin: 0.2em;color: black;border-radius: 0.25em;background-color: #f0f8ff;}#sk-container-id-3 input.sk-toggleable__control:checked~div.sk-toggleable__content {max-height: 200px;max-width: 100%;overflow: auto;}#sk-container-id-3 input.sk-toggleable__control:checked~label.sk-toggleable__label-arrow:before {content: \"▾\";}#sk-container-id-3 div.sk-estimator input.sk-toggleable__control:checked~label.sk-toggleable__label {background-color: #d4ebff;}#sk-container-id-3 div.sk-label input.sk-toggleable__control:checked~label.sk-toggleable__label {background-color: #d4ebff;}#sk-container-id-3 input.sk-hidden--visually {border: 0;clip: rect(1px 1px 1px 1px);clip: rect(1px, 1px, 1px, 1px);height: 1px;margin: -1px;overflow: hidden;padding: 0;position: absolute;width: 1px;}#sk-container-id-3 div.sk-estimator {font-family: monospace;background-color: #f0f8ff;border: 1px dotted black;border-radius: 0.25em;box-sizing: border-box;margin-bottom: 0.5em;}#sk-container-id-3 div.sk-estimator:hover {background-color: #d4ebff;}#sk-container-id-3 div.sk-parallel-item::after {content: \"\";width: 100%;border-bottom: 1px solid gray;flex-grow: 1;}#sk-container-id-3 div.sk-label:hover label.sk-toggleable__label {background-color: #d4ebff;}#sk-container-id-3 div.sk-serial::before {content: \"\";position: absolute;border-left: 1px solid gray;box-sizing: border-box;top: 0;bottom: 0;left: 50%;z-index: 0;}#sk-container-id-3 div.sk-serial {display: flex;flex-direction: column;align-items: center;background-color: white;padding-right: 0.2em;padding-left: 0.2em;position: relative;}#sk-container-id-3 div.sk-item {position: relative;z-index: 1;}#sk-container-id-3 div.sk-parallel {display: flex;align-items: stretch;justify-content: center;background-color: white;position: relative;}#sk-container-id-3 div.sk-item::before, #sk-container-id-3 div.sk-parallel-item::before {content: \"\";position: absolute;border-left: 1px solid gray;box-sizing: border-box;top: 0;bottom: 0;left: 50%;z-index: -1;}#sk-container-id-3 div.sk-parallel-item {display: flex;flex-direction: column;z-index: 1;position: relative;background-color: white;}#sk-container-id-3 div.sk-parallel-item:first-child::after {align-self: flex-end;width: 50%;}#sk-container-id-3 div.sk-parallel-item:last-child::after {align-self: flex-start;width: 50%;}#sk-container-id-3 div.sk-parallel-item:only-child::after {width: 0;}#sk-container-id-3 div.sk-dashed-wrapped {border: 1px dashed gray;margin: 0 0.4em 0.5em 0.4em;box-sizing: border-box;padding-bottom: 0.4em;background-color: white;}#sk-container-id-3 div.sk-label label {font-family: monospace;font-weight: bold;display: inline-block;line-height: 1.2em;}#sk-container-id-3 div.sk-label-container {text-align: center;}#sk-container-id-3 div.sk-container {/* jupyter's `normalize.less` sets `[hidden] { display: none; }` but bootstrap.min.css set `[hidden] { display: none !important; }` so we also need the `!important` here to be able to override the default hidden behavior on the sphinx rendered scikit-learn.org. See: https://github.com/scikit-learn/scikit-learn/issues/21755 */display: inline-block !important;position: relative;}#sk-container-id-3 div.sk-text-repr-fallback {display: none;}</style><div id=\"sk-container-id-3\" class=\"sk-top-container\"><div class=\"sk-text-repr-fallback\"><pre>RandomForestRegressor(random_state=42)</pre><b>In a Jupyter environment, please rerun this cell to show the HTML representation or trust the notebook. <br />On GitHub, the HTML representation is unable to render, please try loading this page with nbviewer.org.</b></div><div class=\"sk-container\" hidden><div class=\"sk-item\"><div class=\"sk-estimator sk-toggleable\"><input class=\"sk-toggleable__control sk-hidden--visually\" id=\"sk-estimator-id-3\" type=\"checkbox\" checked><label for=\"sk-estimator-id-3\" class=\"sk-toggleable__label sk-toggleable__label-arrow\">RandomForestRegressor</label><div class=\"sk-toggleable__content\"><pre>RandomForestRegressor(random_state=42)</pre></div></div></div></div></div>"
      ],
      "text/plain": [
       "RandomForestRegressor(random_state=42)"
      ]
     },
     "execution_count": 42,
     "metadata": {},
     "output_type": "execute_result"
    }
   ],
   "source": [
    "from sklearn.ensemble import RandomForestRegressor\n",
    "model_rfr_ftr = RandomForestRegressor(random_state=42)\n",
    "model_rfr_ftr.fit(x_train,y_train)"
   ]
  },
  {
   "cell_type": "code",
   "execution_count": 43,
   "metadata": {},
   "outputs": [],
   "source": [
    "# from sklearn.ensemble import RandomForestRegressor\n",
    "# model_rfr_ftr_hpo = RandomForestRegressor(n_estimators=230,\n",
    "#                                   max_features=9,\n",
    "#                                   random_state=42, \n",
    "#                                   )\n",
    "# model_rfr_ftr_hpo.fit(x_train,y_train)"
   ]
  },
  {
   "cell_type": "code",
   "execution_count": 44,
   "metadata": {},
   "outputs": [
    {
     "data": {
      "text/html": [
       "<style>#sk-container-id-4 {color: black;background-color: white;}#sk-container-id-4 pre{padding: 0;}#sk-container-id-4 div.sk-toggleable {background-color: white;}#sk-container-id-4 label.sk-toggleable__label {cursor: pointer;display: block;width: 100%;margin-bottom: 0;padding: 0.3em;box-sizing: border-box;text-align: center;}#sk-container-id-4 label.sk-toggleable__label-arrow:before {content: \"▸\";float: left;margin-right: 0.25em;color: #696969;}#sk-container-id-4 label.sk-toggleable__label-arrow:hover:before {color: black;}#sk-container-id-4 div.sk-estimator:hover label.sk-toggleable__label-arrow:before {color: black;}#sk-container-id-4 div.sk-toggleable__content {max-height: 0;max-width: 0;overflow: hidden;text-align: left;background-color: #f0f8ff;}#sk-container-id-4 div.sk-toggleable__content pre {margin: 0.2em;color: black;border-radius: 0.25em;background-color: #f0f8ff;}#sk-container-id-4 input.sk-toggleable__control:checked~div.sk-toggleable__content {max-height: 200px;max-width: 100%;overflow: auto;}#sk-container-id-4 input.sk-toggleable__control:checked~label.sk-toggleable__label-arrow:before {content: \"▾\";}#sk-container-id-4 div.sk-estimator input.sk-toggleable__control:checked~label.sk-toggleable__label {background-color: #d4ebff;}#sk-container-id-4 div.sk-label input.sk-toggleable__control:checked~label.sk-toggleable__label {background-color: #d4ebff;}#sk-container-id-4 input.sk-hidden--visually {border: 0;clip: rect(1px 1px 1px 1px);clip: rect(1px, 1px, 1px, 1px);height: 1px;margin: -1px;overflow: hidden;padding: 0;position: absolute;width: 1px;}#sk-container-id-4 div.sk-estimator {font-family: monospace;background-color: #f0f8ff;border: 1px dotted black;border-radius: 0.25em;box-sizing: border-box;margin-bottom: 0.5em;}#sk-container-id-4 div.sk-estimator:hover {background-color: #d4ebff;}#sk-container-id-4 div.sk-parallel-item::after {content: \"\";width: 100%;border-bottom: 1px solid gray;flex-grow: 1;}#sk-container-id-4 div.sk-label:hover label.sk-toggleable__label {background-color: #d4ebff;}#sk-container-id-4 div.sk-serial::before {content: \"\";position: absolute;border-left: 1px solid gray;box-sizing: border-box;top: 0;bottom: 0;left: 50%;z-index: 0;}#sk-container-id-4 div.sk-serial {display: flex;flex-direction: column;align-items: center;background-color: white;padding-right: 0.2em;padding-left: 0.2em;position: relative;}#sk-container-id-4 div.sk-item {position: relative;z-index: 1;}#sk-container-id-4 div.sk-parallel {display: flex;align-items: stretch;justify-content: center;background-color: white;position: relative;}#sk-container-id-4 div.sk-item::before, #sk-container-id-4 div.sk-parallel-item::before {content: \"\";position: absolute;border-left: 1px solid gray;box-sizing: border-box;top: 0;bottom: 0;left: 50%;z-index: -1;}#sk-container-id-4 div.sk-parallel-item {display: flex;flex-direction: column;z-index: 1;position: relative;background-color: white;}#sk-container-id-4 div.sk-parallel-item:first-child::after {align-self: flex-end;width: 50%;}#sk-container-id-4 div.sk-parallel-item:last-child::after {align-self: flex-start;width: 50%;}#sk-container-id-4 div.sk-parallel-item:only-child::after {width: 0;}#sk-container-id-4 div.sk-dashed-wrapped {border: 1px dashed gray;margin: 0 0.4em 0.5em 0.4em;box-sizing: border-box;padding-bottom: 0.4em;background-color: white;}#sk-container-id-4 div.sk-label label {font-family: monospace;font-weight: bold;display: inline-block;line-height: 1.2em;}#sk-container-id-4 div.sk-label-container {text-align: center;}#sk-container-id-4 div.sk-container {/* jupyter's `normalize.less` sets `[hidden] { display: none; }` but bootstrap.min.css set `[hidden] { display: none !important; }` so we also need the `!important` here to be able to override the default hidden behavior on the sphinx rendered scikit-learn.org. See: https://github.com/scikit-learn/scikit-learn/issues/21755 */display: inline-block !important;position: relative;}#sk-container-id-4 div.sk-text-repr-fallback {display: none;}</style><div id=\"sk-container-id-4\" class=\"sk-top-container\"><div class=\"sk-text-repr-fallback\"><pre>RandomForestRegressor(bootstrap=False, max_depth=136, max_features=9,\n",
       "                      min_samples_split=5, n_estimators=267, random_state=42)</pre><b>In a Jupyter environment, please rerun this cell to show the HTML representation or trust the notebook. <br />On GitHub, the HTML representation is unable to render, please try loading this page with nbviewer.org.</b></div><div class=\"sk-container\" hidden><div class=\"sk-item\"><div class=\"sk-estimator sk-toggleable\"><input class=\"sk-toggleable__control sk-hidden--visually\" id=\"sk-estimator-id-4\" type=\"checkbox\" checked><label for=\"sk-estimator-id-4\" class=\"sk-toggleable__label sk-toggleable__label-arrow\">RandomForestRegressor</label><div class=\"sk-toggleable__content\"><pre>RandomForestRegressor(bootstrap=False, max_depth=136, max_features=9,\n",
       "                      min_samples_split=5, n_estimators=267, random_state=42)</pre></div></div></div></div></div>"
      ],
      "text/plain": [
       "RandomForestRegressor(bootstrap=False, max_depth=136, max_features=9,\n",
       "                      min_samples_split=5, n_estimators=267, random_state=42)"
      ]
     },
     "execution_count": 44,
     "metadata": {},
     "output_type": "execute_result"
    }
   ],
   "source": [
    "from sklearn.ensemble import RandomForestRegressor\n",
    "model_rfr_ftr_hpov = RandomForestRegressor(n_estimators = 267,\n",
    "                                            min_samples_split = 5,\n",
    "                                            #min_samples_leaf = 2,\n",
    "                                            max_features = 9,\n",
    "                                            max_depth=136,\n",
    "                                            bootstrap=False,\n",
    "                                            random_state=42)\n",
    "model_rfr_ftr_hpov.fit(x_train,y_train)"
   ]
  },
  {
   "attachments": {},
   "cell_type": "markdown",
   "metadata": {},
   "source": [
    "ETR TRAINING"
   ]
  },
  {
   "cell_type": "code",
   "execution_count": 45,
   "metadata": {},
   "outputs": [
    {
     "data": {
      "text/html": [
       "<style>#sk-container-id-5 {color: black;background-color: white;}#sk-container-id-5 pre{padding: 0;}#sk-container-id-5 div.sk-toggleable {background-color: white;}#sk-container-id-5 label.sk-toggleable__label {cursor: pointer;display: block;width: 100%;margin-bottom: 0;padding: 0.3em;box-sizing: border-box;text-align: center;}#sk-container-id-5 label.sk-toggleable__label-arrow:before {content: \"▸\";float: left;margin-right: 0.25em;color: #696969;}#sk-container-id-5 label.sk-toggleable__label-arrow:hover:before {color: black;}#sk-container-id-5 div.sk-estimator:hover label.sk-toggleable__label-arrow:before {color: black;}#sk-container-id-5 div.sk-toggleable__content {max-height: 0;max-width: 0;overflow: hidden;text-align: left;background-color: #f0f8ff;}#sk-container-id-5 div.sk-toggleable__content pre {margin: 0.2em;color: black;border-radius: 0.25em;background-color: #f0f8ff;}#sk-container-id-5 input.sk-toggleable__control:checked~div.sk-toggleable__content {max-height: 200px;max-width: 100%;overflow: auto;}#sk-container-id-5 input.sk-toggleable__control:checked~label.sk-toggleable__label-arrow:before {content: \"▾\";}#sk-container-id-5 div.sk-estimator input.sk-toggleable__control:checked~label.sk-toggleable__label {background-color: #d4ebff;}#sk-container-id-5 div.sk-label input.sk-toggleable__control:checked~label.sk-toggleable__label {background-color: #d4ebff;}#sk-container-id-5 input.sk-hidden--visually {border: 0;clip: rect(1px 1px 1px 1px);clip: rect(1px, 1px, 1px, 1px);height: 1px;margin: -1px;overflow: hidden;padding: 0;position: absolute;width: 1px;}#sk-container-id-5 div.sk-estimator {font-family: monospace;background-color: #f0f8ff;border: 1px dotted black;border-radius: 0.25em;box-sizing: border-box;margin-bottom: 0.5em;}#sk-container-id-5 div.sk-estimator:hover {background-color: #d4ebff;}#sk-container-id-5 div.sk-parallel-item::after {content: \"\";width: 100%;border-bottom: 1px solid gray;flex-grow: 1;}#sk-container-id-5 div.sk-label:hover label.sk-toggleable__label {background-color: #d4ebff;}#sk-container-id-5 div.sk-serial::before {content: \"\";position: absolute;border-left: 1px solid gray;box-sizing: border-box;top: 0;bottom: 0;left: 50%;z-index: 0;}#sk-container-id-5 div.sk-serial {display: flex;flex-direction: column;align-items: center;background-color: white;padding-right: 0.2em;padding-left: 0.2em;position: relative;}#sk-container-id-5 div.sk-item {position: relative;z-index: 1;}#sk-container-id-5 div.sk-parallel {display: flex;align-items: stretch;justify-content: center;background-color: white;position: relative;}#sk-container-id-5 div.sk-item::before, #sk-container-id-5 div.sk-parallel-item::before {content: \"\";position: absolute;border-left: 1px solid gray;box-sizing: border-box;top: 0;bottom: 0;left: 50%;z-index: -1;}#sk-container-id-5 div.sk-parallel-item {display: flex;flex-direction: column;z-index: 1;position: relative;background-color: white;}#sk-container-id-5 div.sk-parallel-item:first-child::after {align-self: flex-end;width: 50%;}#sk-container-id-5 div.sk-parallel-item:last-child::after {align-self: flex-start;width: 50%;}#sk-container-id-5 div.sk-parallel-item:only-child::after {width: 0;}#sk-container-id-5 div.sk-dashed-wrapped {border: 1px dashed gray;margin: 0 0.4em 0.5em 0.4em;box-sizing: border-box;padding-bottom: 0.4em;background-color: white;}#sk-container-id-5 div.sk-label label {font-family: monospace;font-weight: bold;display: inline-block;line-height: 1.2em;}#sk-container-id-5 div.sk-label-container {text-align: center;}#sk-container-id-5 div.sk-container {/* jupyter's `normalize.less` sets `[hidden] { display: none; }` but bootstrap.min.css set `[hidden] { display: none !important; }` so we also need the `!important` here to be able to override the default hidden behavior on the sphinx rendered scikit-learn.org. See: https://github.com/scikit-learn/scikit-learn/issues/21755 */display: inline-block !important;position: relative;}#sk-container-id-5 div.sk-text-repr-fallback {display: none;}</style><div id=\"sk-container-id-5\" class=\"sk-top-container\"><div class=\"sk-text-repr-fallback\"><pre>ExtraTreesRegressor(random_state=42)</pre><b>In a Jupyter environment, please rerun this cell to show the HTML representation or trust the notebook. <br />On GitHub, the HTML representation is unable to render, please try loading this page with nbviewer.org.</b></div><div class=\"sk-container\" hidden><div class=\"sk-item\"><div class=\"sk-estimator sk-toggleable\"><input class=\"sk-toggleable__control sk-hidden--visually\" id=\"sk-estimator-id-5\" type=\"checkbox\" checked><label for=\"sk-estimator-id-5\" class=\"sk-toggleable__label sk-toggleable__label-arrow\">ExtraTreesRegressor</label><div class=\"sk-toggleable__content\"><pre>ExtraTreesRegressor(random_state=42)</pre></div></div></div></div></div>"
      ],
      "text/plain": [
       "ExtraTreesRegressor(random_state=42)"
      ]
     },
     "execution_count": 45,
     "metadata": {},
     "output_type": "execute_result"
    }
   ],
   "source": [
    "from sklearn.ensemble import ExtraTreesRegressor\n",
    "\n",
    "model_etr = ExtraTreesRegressor(random_state=42,\n",
    "                                )\n",
    "model_etr.fit(x_train,y_train)"
   ]
  },
  {
   "cell_type": "code",
   "execution_count": 46,
   "metadata": {},
   "outputs": [
    {
     "data": {
      "text/html": [
       "<style>#sk-container-id-6 {color: black;background-color: white;}#sk-container-id-6 pre{padding: 0;}#sk-container-id-6 div.sk-toggleable {background-color: white;}#sk-container-id-6 label.sk-toggleable__label {cursor: pointer;display: block;width: 100%;margin-bottom: 0;padding: 0.3em;box-sizing: border-box;text-align: center;}#sk-container-id-6 label.sk-toggleable__label-arrow:before {content: \"▸\";float: left;margin-right: 0.25em;color: #696969;}#sk-container-id-6 label.sk-toggleable__label-arrow:hover:before {color: black;}#sk-container-id-6 div.sk-estimator:hover label.sk-toggleable__label-arrow:before {color: black;}#sk-container-id-6 div.sk-toggleable__content {max-height: 0;max-width: 0;overflow: hidden;text-align: left;background-color: #f0f8ff;}#sk-container-id-6 div.sk-toggleable__content pre {margin: 0.2em;color: black;border-radius: 0.25em;background-color: #f0f8ff;}#sk-container-id-6 input.sk-toggleable__control:checked~div.sk-toggleable__content {max-height: 200px;max-width: 100%;overflow: auto;}#sk-container-id-6 input.sk-toggleable__control:checked~label.sk-toggleable__label-arrow:before {content: \"▾\";}#sk-container-id-6 div.sk-estimator input.sk-toggleable__control:checked~label.sk-toggleable__label {background-color: #d4ebff;}#sk-container-id-6 div.sk-label input.sk-toggleable__control:checked~label.sk-toggleable__label {background-color: #d4ebff;}#sk-container-id-6 input.sk-hidden--visually {border: 0;clip: rect(1px 1px 1px 1px);clip: rect(1px, 1px, 1px, 1px);height: 1px;margin: -1px;overflow: hidden;padding: 0;position: absolute;width: 1px;}#sk-container-id-6 div.sk-estimator {font-family: monospace;background-color: #f0f8ff;border: 1px dotted black;border-radius: 0.25em;box-sizing: border-box;margin-bottom: 0.5em;}#sk-container-id-6 div.sk-estimator:hover {background-color: #d4ebff;}#sk-container-id-6 div.sk-parallel-item::after {content: \"\";width: 100%;border-bottom: 1px solid gray;flex-grow: 1;}#sk-container-id-6 div.sk-label:hover label.sk-toggleable__label {background-color: #d4ebff;}#sk-container-id-6 div.sk-serial::before {content: \"\";position: absolute;border-left: 1px solid gray;box-sizing: border-box;top: 0;bottom: 0;left: 50%;z-index: 0;}#sk-container-id-6 div.sk-serial {display: flex;flex-direction: column;align-items: center;background-color: white;padding-right: 0.2em;padding-left: 0.2em;position: relative;}#sk-container-id-6 div.sk-item {position: relative;z-index: 1;}#sk-container-id-6 div.sk-parallel {display: flex;align-items: stretch;justify-content: center;background-color: white;position: relative;}#sk-container-id-6 div.sk-item::before, #sk-container-id-6 div.sk-parallel-item::before {content: \"\";position: absolute;border-left: 1px solid gray;box-sizing: border-box;top: 0;bottom: 0;left: 50%;z-index: -1;}#sk-container-id-6 div.sk-parallel-item {display: flex;flex-direction: column;z-index: 1;position: relative;background-color: white;}#sk-container-id-6 div.sk-parallel-item:first-child::after {align-self: flex-end;width: 50%;}#sk-container-id-6 div.sk-parallel-item:last-child::after {align-self: flex-start;width: 50%;}#sk-container-id-6 div.sk-parallel-item:only-child::after {width: 0;}#sk-container-id-6 div.sk-dashed-wrapped {border: 1px dashed gray;margin: 0 0.4em 0.5em 0.4em;box-sizing: border-box;padding-bottom: 0.4em;background-color: white;}#sk-container-id-6 div.sk-label label {font-family: monospace;font-weight: bold;display: inline-block;line-height: 1.2em;}#sk-container-id-6 div.sk-label-container {text-align: center;}#sk-container-id-6 div.sk-container {/* jupyter's `normalize.less` sets `[hidden] { display: none; }` but bootstrap.min.css set `[hidden] { display: none !important; }` so we also need the `!important` here to be able to override the default hidden behavior on the sphinx rendered scikit-learn.org. See: https://github.com/scikit-learn/scikit-learn/issues/21755 */display: inline-block !important;position: relative;}#sk-container-id-6 div.sk-text-repr-fallback {display: none;}</style><div id=\"sk-container-id-6\" class=\"sk-top-container\"><div class=\"sk-text-repr-fallback\"><pre>ExtraTreesRegressor(n_estimators=400, random_state=42)</pre><b>In a Jupyter environment, please rerun this cell to show the HTML representation or trust the notebook. <br />On GitHub, the HTML representation is unable to render, please try loading this page with nbviewer.org.</b></div><div class=\"sk-container\" hidden><div class=\"sk-item\"><div class=\"sk-estimator sk-toggleable\"><input class=\"sk-toggleable__control sk-hidden--visually\" id=\"sk-estimator-id-6\" type=\"checkbox\" checked><label for=\"sk-estimator-id-6\" class=\"sk-toggleable__label sk-toggleable__label-arrow\">ExtraTreesRegressor</label><div class=\"sk-toggleable__content\"><pre>ExtraTreesRegressor(n_estimators=400, random_state=42)</pre></div></div></div></div></div>"
      ],
      "text/plain": [
       "ExtraTreesRegressor(n_estimators=400, random_state=42)"
      ]
     },
     "execution_count": 46,
     "metadata": {},
     "output_type": "execute_result"
    }
   ],
   "source": [
    "from sklearn.ensemble import ExtraTreesRegressor\n",
    "\n",
    "model_etr_hpo = ExtraTreesRegressor(random_state=42,\n",
    "                                n_estimators=400)\n",
    "model_etr_hpo.fit(x_train,y_train)"
   ]
  },
  {
   "attachments": {},
   "cell_type": "markdown",
   "metadata": {},
   "source": [
    "Modelling using Decision Tree Regressor"
   ]
  },
  {
   "cell_type": "code",
   "execution_count": 47,
   "metadata": {},
   "outputs": [
    {
     "data": {
      "text/html": [
       "<style>#sk-container-id-7 {color: black;background-color: white;}#sk-container-id-7 pre{padding: 0;}#sk-container-id-7 div.sk-toggleable {background-color: white;}#sk-container-id-7 label.sk-toggleable__label {cursor: pointer;display: block;width: 100%;margin-bottom: 0;padding: 0.3em;box-sizing: border-box;text-align: center;}#sk-container-id-7 label.sk-toggleable__label-arrow:before {content: \"▸\";float: left;margin-right: 0.25em;color: #696969;}#sk-container-id-7 label.sk-toggleable__label-arrow:hover:before {color: black;}#sk-container-id-7 div.sk-estimator:hover label.sk-toggleable__label-arrow:before {color: black;}#sk-container-id-7 div.sk-toggleable__content {max-height: 0;max-width: 0;overflow: hidden;text-align: left;background-color: #f0f8ff;}#sk-container-id-7 div.sk-toggleable__content pre {margin: 0.2em;color: black;border-radius: 0.25em;background-color: #f0f8ff;}#sk-container-id-7 input.sk-toggleable__control:checked~div.sk-toggleable__content {max-height: 200px;max-width: 100%;overflow: auto;}#sk-container-id-7 input.sk-toggleable__control:checked~label.sk-toggleable__label-arrow:before {content: \"▾\";}#sk-container-id-7 div.sk-estimator input.sk-toggleable__control:checked~label.sk-toggleable__label {background-color: #d4ebff;}#sk-container-id-7 div.sk-label input.sk-toggleable__control:checked~label.sk-toggleable__label {background-color: #d4ebff;}#sk-container-id-7 input.sk-hidden--visually {border: 0;clip: rect(1px 1px 1px 1px);clip: rect(1px, 1px, 1px, 1px);height: 1px;margin: -1px;overflow: hidden;padding: 0;position: absolute;width: 1px;}#sk-container-id-7 div.sk-estimator {font-family: monospace;background-color: #f0f8ff;border: 1px dotted black;border-radius: 0.25em;box-sizing: border-box;margin-bottom: 0.5em;}#sk-container-id-7 div.sk-estimator:hover {background-color: #d4ebff;}#sk-container-id-7 div.sk-parallel-item::after {content: \"\";width: 100%;border-bottom: 1px solid gray;flex-grow: 1;}#sk-container-id-7 div.sk-label:hover label.sk-toggleable__label {background-color: #d4ebff;}#sk-container-id-7 div.sk-serial::before {content: \"\";position: absolute;border-left: 1px solid gray;box-sizing: border-box;top: 0;bottom: 0;left: 50%;z-index: 0;}#sk-container-id-7 div.sk-serial {display: flex;flex-direction: column;align-items: center;background-color: white;padding-right: 0.2em;padding-left: 0.2em;position: relative;}#sk-container-id-7 div.sk-item {position: relative;z-index: 1;}#sk-container-id-7 div.sk-parallel {display: flex;align-items: stretch;justify-content: center;background-color: white;position: relative;}#sk-container-id-7 div.sk-item::before, #sk-container-id-7 div.sk-parallel-item::before {content: \"\";position: absolute;border-left: 1px solid gray;box-sizing: border-box;top: 0;bottom: 0;left: 50%;z-index: -1;}#sk-container-id-7 div.sk-parallel-item {display: flex;flex-direction: column;z-index: 1;position: relative;background-color: white;}#sk-container-id-7 div.sk-parallel-item:first-child::after {align-self: flex-end;width: 50%;}#sk-container-id-7 div.sk-parallel-item:last-child::after {align-self: flex-start;width: 50%;}#sk-container-id-7 div.sk-parallel-item:only-child::after {width: 0;}#sk-container-id-7 div.sk-dashed-wrapped {border: 1px dashed gray;margin: 0 0.4em 0.5em 0.4em;box-sizing: border-box;padding-bottom: 0.4em;background-color: white;}#sk-container-id-7 div.sk-label label {font-family: monospace;font-weight: bold;display: inline-block;line-height: 1.2em;}#sk-container-id-7 div.sk-label-container {text-align: center;}#sk-container-id-7 div.sk-container {/* jupyter's `normalize.less` sets `[hidden] { display: none; }` but bootstrap.min.css set `[hidden] { display: none !important; }` so we also need the `!important` here to be able to override the default hidden behavior on the sphinx rendered scikit-learn.org. See: https://github.com/scikit-learn/scikit-learn/issues/21755 */display: inline-block !important;position: relative;}#sk-container-id-7 div.sk-text-repr-fallback {display: none;}</style><div id=\"sk-container-id-7\" class=\"sk-top-container\"><div class=\"sk-text-repr-fallback\"><pre>DecisionTreeRegressor()</pre><b>In a Jupyter environment, please rerun this cell to show the HTML representation or trust the notebook. <br />On GitHub, the HTML representation is unable to render, please try loading this page with nbviewer.org.</b></div><div class=\"sk-container\" hidden><div class=\"sk-item\"><div class=\"sk-estimator sk-toggleable\"><input class=\"sk-toggleable__control sk-hidden--visually\" id=\"sk-estimator-id-7\" type=\"checkbox\" checked><label for=\"sk-estimator-id-7\" class=\"sk-toggleable__label sk-toggleable__label-arrow\">DecisionTreeRegressor</label><div class=\"sk-toggleable__content\"><pre>DecisionTreeRegressor()</pre></div></div></div></div></div>"
      ],
      "text/plain": [
       "DecisionTreeRegressor()"
      ]
     },
     "execution_count": 47,
     "metadata": {},
     "output_type": "execute_result"
    }
   ],
   "source": [
    "from sklearn.tree import DecisionTreeRegressor\n",
    "model_dtr = DecisionTreeRegressor()\n",
    "model_dtr.fit(x_train,y_train)"
   ]
  },
  {
   "cell_type": "code",
   "execution_count": 48,
   "metadata": {},
   "outputs": [
    {
     "data": {
      "text/html": [
       "<style>#sk-container-id-8 {color: black;background-color: white;}#sk-container-id-8 pre{padding: 0;}#sk-container-id-8 div.sk-toggleable {background-color: white;}#sk-container-id-8 label.sk-toggleable__label {cursor: pointer;display: block;width: 100%;margin-bottom: 0;padding: 0.3em;box-sizing: border-box;text-align: center;}#sk-container-id-8 label.sk-toggleable__label-arrow:before {content: \"▸\";float: left;margin-right: 0.25em;color: #696969;}#sk-container-id-8 label.sk-toggleable__label-arrow:hover:before {color: black;}#sk-container-id-8 div.sk-estimator:hover label.sk-toggleable__label-arrow:before {color: black;}#sk-container-id-8 div.sk-toggleable__content {max-height: 0;max-width: 0;overflow: hidden;text-align: left;background-color: #f0f8ff;}#sk-container-id-8 div.sk-toggleable__content pre {margin: 0.2em;color: black;border-radius: 0.25em;background-color: #f0f8ff;}#sk-container-id-8 input.sk-toggleable__control:checked~div.sk-toggleable__content {max-height: 200px;max-width: 100%;overflow: auto;}#sk-container-id-8 input.sk-toggleable__control:checked~label.sk-toggleable__label-arrow:before {content: \"▾\";}#sk-container-id-8 div.sk-estimator input.sk-toggleable__control:checked~label.sk-toggleable__label {background-color: #d4ebff;}#sk-container-id-8 div.sk-label input.sk-toggleable__control:checked~label.sk-toggleable__label {background-color: #d4ebff;}#sk-container-id-8 input.sk-hidden--visually {border: 0;clip: rect(1px 1px 1px 1px);clip: rect(1px, 1px, 1px, 1px);height: 1px;margin: -1px;overflow: hidden;padding: 0;position: absolute;width: 1px;}#sk-container-id-8 div.sk-estimator {font-family: monospace;background-color: #f0f8ff;border: 1px dotted black;border-radius: 0.25em;box-sizing: border-box;margin-bottom: 0.5em;}#sk-container-id-8 div.sk-estimator:hover {background-color: #d4ebff;}#sk-container-id-8 div.sk-parallel-item::after {content: \"\";width: 100%;border-bottom: 1px solid gray;flex-grow: 1;}#sk-container-id-8 div.sk-label:hover label.sk-toggleable__label {background-color: #d4ebff;}#sk-container-id-8 div.sk-serial::before {content: \"\";position: absolute;border-left: 1px solid gray;box-sizing: border-box;top: 0;bottom: 0;left: 50%;z-index: 0;}#sk-container-id-8 div.sk-serial {display: flex;flex-direction: column;align-items: center;background-color: white;padding-right: 0.2em;padding-left: 0.2em;position: relative;}#sk-container-id-8 div.sk-item {position: relative;z-index: 1;}#sk-container-id-8 div.sk-parallel {display: flex;align-items: stretch;justify-content: center;background-color: white;position: relative;}#sk-container-id-8 div.sk-item::before, #sk-container-id-8 div.sk-parallel-item::before {content: \"\";position: absolute;border-left: 1px solid gray;box-sizing: border-box;top: 0;bottom: 0;left: 50%;z-index: -1;}#sk-container-id-8 div.sk-parallel-item {display: flex;flex-direction: column;z-index: 1;position: relative;background-color: white;}#sk-container-id-8 div.sk-parallel-item:first-child::after {align-self: flex-end;width: 50%;}#sk-container-id-8 div.sk-parallel-item:last-child::after {align-self: flex-start;width: 50%;}#sk-container-id-8 div.sk-parallel-item:only-child::after {width: 0;}#sk-container-id-8 div.sk-dashed-wrapped {border: 1px dashed gray;margin: 0 0.4em 0.5em 0.4em;box-sizing: border-box;padding-bottom: 0.4em;background-color: white;}#sk-container-id-8 div.sk-label label {font-family: monospace;font-weight: bold;display: inline-block;line-height: 1.2em;}#sk-container-id-8 div.sk-label-container {text-align: center;}#sk-container-id-8 div.sk-container {/* jupyter's `normalize.less` sets `[hidden] { display: none; }` but bootstrap.min.css set `[hidden] { display: none !important; }` so we also need the `!important` here to be able to override the default hidden behavior on the sphinx rendered scikit-learn.org. See: https://github.com/scikit-learn/scikit-learn/issues/21755 */display: inline-block !important;position: relative;}#sk-container-id-8 div.sk-text-repr-fallback {display: none;}</style><div id=\"sk-container-id-8\" class=\"sk-top-container\"><div class=\"sk-text-repr-fallback\"><pre>DecisionTreeRegressor(max_depth=90, max_features=12, min_samples_leaf=9,\n",
       "                      min_samples_split=10)</pre><b>In a Jupyter environment, please rerun this cell to show the HTML representation or trust the notebook. <br />On GitHub, the HTML representation is unable to render, please try loading this page with nbviewer.org.</b></div><div class=\"sk-container\" hidden><div class=\"sk-item\"><div class=\"sk-estimator sk-toggleable\"><input class=\"sk-toggleable__control sk-hidden--visually\" id=\"sk-estimator-id-8\" type=\"checkbox\" checked><label for=\"sk-estimator-id-8\" class=\"sk-toggleable__label sk-toggleable__label-arrow\">DecisionTreeRegressor</label><div class=\"sk-toggleable__content\"><pre>DecisionTreeRegressor(max_depth=90, max_features=12, min_samples_leaf=9,\n",
       "                      min_samples_split=10)</pre></div></div></div></div></div>"
      ],
      "text/plain": [
       "DecisionTreeRegressor(max_depth=90, max_features=12, min_samples_leaf=9,\n",
       "                      min_samples_split=10)"
      ]
     },
     "execution_count": 48,
     "metadata": {},
     "output_type": "execute_result"
    }
   ],
   "source": [
    "from sklearn.tree import DecisionTreeRegressor\n",
    "model_dtr_hpov = DecisionTreeRegressor(min_samples_split=10,\n",
    "                                  min_samples_leaf=9,\n",
    "                                  max_features=12,\n",
    "                                  max_depth=90)\n",
    "model_dtr_hpov.fit(x_train,y_train)"
   ]
  },
  {
   "attachments": {},
   "cell_type": "markdown",
   "metadata": {},
   "source": [
    "Modelling using Multiple Linear Regression"
   ]
  },
  {
   "cell_type": "code",
   "execution_count": 49,
   "metadata": {},
   "outputs": [
    {
     "data": {
      "text/html": [
       "<style>#sk-container-id-9 {color: black;background-color: white;}#sk-container-id-9 pre{padding: 0;}#sk-container-id-9 div.sk-toggleable {background-color: white;}#sk-container-id-9 label.sk-toggleable__label {cursor: pointer;display: block;width: 100%;margin-bottom: 0;padding: 0.3em;box-sizing: border-box;text-align: center;}#sk-container-id-9 label.sk-toggleable__label-arrow:before {content: \"▸\";float: left;margin-right: 0.25em;color: #696969;}#sk-container-id-9 label.sk-toggleable__label-arrow:hover:before {color: black;}#sk-container-id-9 div.sk-estimator:hover label.sk-toggleable__label-arrow:before {color: black;}#sk-container-id-9 div.sk-toggleable__content {max-height: 0;max-width: 0;overflow: hidden;text-align: left;background-color: #f0f8ff;}#sk-container-id-9 div.sk-toggleable__content pre {margin: 0.2em;color: black;border-radius: 0.25em;background-color: #f0f8ff;}#sk-container-id-9 input.sk-toggleable__control:checked~div.sk-toggleable__content {max-height: 200px;max-width: 100%;overflow: auto;}#sk-container-id-9 input.sk-toggleable__control:checked~label.sk-toggleable__label-arrow:before {content: \"▾\";}#sk-container-id-9 div.sk-estimator input.sk-toggleable__control:checked~label.sk-toggleable__label {background-color: #d4ebff;}#sk-container-id-9 div.sk-label input.sk-toggleable__control:checked~label.sk-toggleable__label {background-color: #d4ebff;}#sk-container-id-9 input.sk-hidden--visually {border: 0;clip: rect(1px 1px 1px 1px);clip: rect(1px, 1px, 1px, 1px);height: 1px;margin: -1px;overflow: hidden;padding: 0;position: absolute;width: 1px;}#sk-container-id-9 div.sk-estimator {font-family: monospace;background-color: #f0f8ff;border: 1px dotted black;border-radius: 0.25em;box-sizing: border-box;margin-bottom: 0.5em;}#sk-container-id-9 div.sk-estimator:hover {background-color: #d4ebff;}#sk-container-id-9 div.sk-parallel-item::after {content: \"\";width: 100%;border-bottom: 1px solid gray;flex-grow: 1;}#sk-container-id-9 div.sk-label:hover label.sk-toggleable__label {background-color: #d4ebff;}#sk-container-id-9 div.sk-serial::before {content: \"\";position: absolute;border-left: 1px solid gray;box-sizing: border-box;top: 0;bottom: 0;left: 50%;z-index: 0;}#sk-container-id-9 div.sk-serial {display: flex;flex-direction: column;align-items: center;background-color: white;padding-right: 0.2em;padding-left: 0.2em;position: relative;}#sk-container-id-9 div.sk-item {position: relative;z-index: 1;}#sk-container-id-9 div.sk-parallel {display: flex;align-items: stretch;justify-content: center;background-color: white;position: relative;}#sk-container-id-9 div.sk-item::before, #sk-container-id-9 div.sk-parallel-item::before {content: \"\";position: absolute;border-left: 1px solid gray;box-sizing: border-box;top: 0;bottom: 0;left: 50%;z-index: -1;}#sk-container-id-9 div.sk-parallel-item {display: flex;flex-direction: column;z-index: 1;position: relative;background-color: white;}#sk-container-id-9 div.sk-parallel-item:first-child::after {align-self: flex-end;width: 50%;}#sk-container-id-9 div.sk-parallel-item:last-child::after {align-self: flex-start;width: 50%;}#sk-container-id-9 div.sk-parallel-item:only-child::after {width: 0;}#sk-container-id-9 div.sk-dashed-wrapped {border: 1px dashed gray;margin: 0 0.4em 0.5em 0.4em;box-sizing: border-box;padding-bottom: 0.4em;background-color: white;}#sk-container-id-9 div.sk-label label {font-family: monospace;font-weight: bold;display: inline-block;line-height: 1.2em;}#sk-container-id-9 div.sk-label-container {text-align: center;}#sk-container-id-9 div.sk-container {/* jupyter's `normalize.less` sets `[hidden] { display: none; }` but bootstrap.min.css set `[hidden] { display: none !important; }` so we also need the `!important` here to be able to override the default hidden behavior on the sphinx rendered scikit-learn.org. See: https://github.com/scikit-learn/scikit-learn/issues/21755 */display: inline-block !important;position: relative;}#sk-container-id-9 div.sk-text-repr-fallback {display: none;}</style><div id=\"sk-container-id-9\" class=\"sk-top-container\"><div class=\"sk-text-repr-fallback\"><pre>LinearRegression()</pre><b>In a Jupyter environment, please rerun this cell to show the HTML representation or trust the notebook. <br />On GitHub, the HTML representation is unable to render, please try loading this page with nbviewer.org.</b></div><div class=\"sk-container\" hidden><div class=\"sk-item\"><div class=\"sk-estimator sk-toggleable\"><input class=\"sk-toggleable__control sk-hidden--visually\" id=\"sk-estimator-id-9\" type=\"checkbox\" checked><label for=\"sk-estimator-id-9\" class=\"sk-toggleable__label sk-toggleable__label-arrow\">LinearRegression</label><div class=\"sk-toggleable__content\"><pre>LinearRegression()</pre></div></div></div></div></div>"
      ],
      "text/plain": [
       "LinearRegression()"
      ]
     },
     "execution_count": 49,
     "metadata": {},
     "output_type": "execute_result"
    }
   ],
   "source": [
    "from sklearn import linear_model\n",
    "model_mlr = linear_model.LinearRegression()\n",
    "model_mlr.fit(x_train,y_train)"
   ]
  },
  {
   "attachments": {},
   "cell_type": "markdown",
   "metadata": {},
   "source": [
    "Model Evaluation"
   ]
  },
  {
   "cell_type": "code",
   "execution_count": 50,
   "metadata": {},
   "outputs": [],
   "source": [
    "# import os\n",
    "# from graphviz import Source\n",
    "# from sklearn.tree import export_graphviz\n",
    "\n",
    "# # Where to save the figures\n",
    "# PROJECT_ROOT_DIR = \".\"\n",
    "# CHAPTER_ID = \"decision_trees\"\n",
    "# IMAGES_PATH = os.path.join(PROJECT_ROOT_DIR, \"images\", CHAPTER_ID)\n",
    "# os.makedirs(IMAGES_PATH, exist_ok=True)\n",
    "\n",
    "# def save_fig(fig_id, tight_layout=True, fig_extension=\"png\", resolution=300):\n",
    "#     path = os.path.join(IMAGES_PATH, fig_id + \".\" + fig_extension)\n",
    "#     print(\"Saving figure\", fig_id)\n",
    "#     if tight_layout:\n",
    "#         plt.tight_layout()\n",
    "#     plt.savefig(path, format=fig_extension, dpi=resolution)\n",
    "\n",
    "# dot_data = export_graphviz(\n",
    "#         model_dtr,\n",
    "#         out_file=os.path.join(IMAGES_PATH, \"regression_tree.dot\"),\n",
    "#         feature_names=x_train.columns.values.tolist(),\n",
    "#         rounded=True,\n",
    "#         filled=True\n",
    "#     )\n",
    "\n",
    "# Source.from_file(os.path.join(IMAGES_PATH, \"regression_tree.dot\"))\n",
    "\n",
    "# # save_fig(\"reg_tree\")\n",
    "# # graph.format = \"png\"\n",
    "# # graph.render(\"file_name\")"
   ]
  },
  {
   "cell_type": "code",
   "execution_count": 51,
   "metadata": {},
   "outputs": [],
   "source": [
    "# from sklearn.tree import DecisionTreeClassifier\n",
    "# from sklearn import tree\n",
    "# import graphviz\n",
    "\n",
    "# dot_data = tree.export_graphviz(model_rfr_ftr.estimators_[5], \n",
    "#                   feature_names=x_train.columns.values.tolist(),  \n",
    "#                 #   class_names=class_names,  \n",
    "#                   filled=True, rounded=True,  \n",
    "#                   special_characters=True,\n",
    "#                    out_file=None,\n",
    "#                    max_depth=3,\n",
    "#                            )\n",
    "\n",
    "# # os.system('dot -Tpng tree.dot -o tree.png')\n",
    "# graph = graphviz.Source(dot_data)\n",
    "# graph\n",
    "# graph.format = \"png\"\n",
    "# graph.render(\"file_name\")\n"
   ]
  },
  {
   "cell_type": "code",
   "execution_count": 52,
   "metadata": {},
   "outputs": [],
   "source": [
    "# from sklearn import tree\n",
    "\n",
    "# def tree_visualization(width,height,model_type):\n",
    "#     fn=x_train.columns\n",
    "#     fig, axes = plt.subplots(figsize = (width,height), dpi=800)\n",
    "#     tree.plot_tree(model_type.estimators_[0],\n",
    "#                max_depth=3,\n",
    "#                fontsize=8,\n",
    "#                feature_names = fn);\n",
    "#     plt.show()\n",
    "#     #fig.savefig('rf_individualtree.png')\n",
    "\n",
    "# tree_visualization(25,5,model_rfr_ftr)"
   ]
  },
  {
   "cell_type": "code",
   "execution_count": 53,
   "metadata": {},
   "outputs": [],
   "source": [
    "# def model_importance(model_type):\n",
    "#     mod_imp = model_type.feature_importances_\n",
    "#     df_mod_imp = pd.DataFrame(mod_imp,index= x_train.columns,columns=[\"Importance\"])\n",
    "#     print(df_mod_imp)\n",
    "\n",
    "# model_importance(model_rfr_ftr_hpo)"
   ]
  },
  {
   "attachments": {},
   "cell_type": "markdown",
   "metadata": {},
   "source": [
    "Evaluation of RFR"
   ]
  },
  {
   "cell_type": "code",
   "execution_count": 54,
   "metadata": {},
   "outputs": [
    {
     "name": "stdout",
     "output_type": "stream",
     "text": [
      "R^2 score (Indicate model fit. Best Score = 1): 0.9340421345767507\n",
      "Explained Variance EV (Indicate amount of variance in model. Best Score = 1): 0.9340701423612987\n",
      "Mean Absolute Error MAE (Indicate how much error a model makes in its prediction. Best Score = 0): 0.5559795060840313\n",
      "Root Mean Square Error RMSE (Same as MAE, more sensitive to outlier. Best Score = 0): 0.6966207896294225\n",
      "Median Absolute Error MAD (Check robustness against outlier. Best Score = 1): 0.39489171261500644\n"
     ]
    }
   ],
   "source": [
    "def predict_y(x_test,model_type):\n",
    "    y_predicted = model_type.predict(x_test)\n",
    "    return y_predicted\n",
    "\n",
    "def display_scores(x_test,y_test,model_type):\n",
    "    from sklearn.metrics import explained_variance_score,mean_absolute_error,mean_squared_error,median_absolute_error\n",
    "    y_predicted = model_type.predict(x_test)\n",
    "    print(\"R^2 score (Indicate model fit. Best Score = 1):\", model_type.score(x_test,y_test))\n",
    "    print(\"Explained Variance EV (Indicate amount of variance in model. Best Score = 1):\", explained_variance_score(y_test,y_predicted))\n",
    "    print(\"Mean Absolute Error MAE (Indicate how much error a model makes in its prediction. Best Score = 0):\", mean_absolute_error(y_test,y_predicted))\n",
    "    print(\"Root Mean Square Error RMSE (Same as MAE, more sensitive to outlier. Best Score = 0):\", mean_squared_error(y_test,y_predicted))\n",
    "    print(\"Median Absolute Error MAD (Check robustness against outlier. Best Score = 1):\", median_absolute_error(y_test,y_predicted))\n",
    "\n",
    "y_predicted = predict_y(x_test,model_rfr_ftr)\n",
    "display_scores(x_test,y_test,model_rfr_ftr)\n"
   ]
  },
  {
   "attachments": {},
   "cell_type": "markdown",
   "metadata": {},
   "source": [
    "Evaluation of model with FTR + HPO"
   ]
  },
  {
   "cell_type": "code",
   "execution_count": 55,
   "metadata": {},
   "outputs": [],
   "source": [
    "# y_predicted = predict_y(x_test,model_rfr_ftr_hpo)\n",
    "# display_scores(x_test,y_test,model_rfr_ftr_hpo)"
   ]
  },
  {
   "attachments": {},
   "cell_type": "markdown",
   "metadata": {},
   "source": [
    "Evaluation of DTR"
   ]
  },
  {
   "cell_type": "code",
   "execution_count": 56,
   "metadata": {},
   "outputs": [
    {
     "name": "stdout",
     "output_type": "stream",
     "text": [
      "R^2 score (Indicate model fit. Best Score = 1): 0.8420356717512965\n",
      "Explained Variance EV (Indicate amount of variance in model. Best Score = 1): 0.8420759210288846\n",
      "Mean Absolute Error MAE (Indicate how much error a model makes in its prediction. Best Score = 0): 0.827116590042735\n",
      "Root Mean Square Error RMSE (Same as MAE, more sensitive to outlier. Best Score = 0): 1.6683565238468903\n",
      "Median Absolute Error MAD (Check robustness against outlier. Best Score = 1): 0.5682537199999995\n"
     ]
    }
   ],
   "source": [
    "y_predicted = predict_y(x_test,model_dtr)\n",
    "display_scores(x_test,y_test,model_dtr)"
   ]
  },
  {
   "attachments": {},
   "cell_type": "markdown",
   "metadata": {},
   "source": [
    "Evaluation of MLR "
   ]
  },
  {
   "cell_type": "code",
   "execution_count": 57,
   "metadata": {},
   "outputs": [
    {
     "name": "stdout",
     "output_type": "stream",
     "text": [
      "R^2 score (Indicate model fit. Best Score = 1): 0.6914633407031769\n",
      "Explained Variance EV (Indicate amount of variance in model. Best Score = 1): 0.6917394037209408\n",
      "Mean Absolute Error MAE (Indicate how much error a model makes in its prediction. Best Score = 0): 1.1377420210807339\n",
      "Root Mean Square Error RMSE (Same as MAE, more sensitive to outlier. Best Score = 0): 3.2586417078502947\n",
      "Median Absolute Error MAD (Check robustness against outlier. Best Score = 1): 0.8999923853753895\n"
     ]
    }
   ],
   "source": [
    "y_predicted = predict_y(x_test,model_mlr)\n",
    "display_scores(x_test,y_test,model_mlr)"
   ]
  },
  {
   "cell_type": "code",
   "execution_count": 58,
   "metadata": {},
   "outputs": [
    {
     "name": "stdout",
     "output_type": "stream",
     "text": [
      "                     Coefficients\n",
      "oceantemperature         0.061496\n",
      "waveperiod               0.507579\n",
      "surftemp                -0.068183\n",
      "windwaveswellheight     -1.036950\n",
      "draught                  2.082740\n",
      "cog                     -0.115683\n",
      "heading                  0.116384\n",
      "windspeed                0.094528\n",
      "curspeed                -0.634448\n",
      "truewinddir             -0.000977\n",
      "truecurrentdir          -0.000352\n",
      "truewavedir             -0.000443\n"
     ]
    }
   ],
   "source": [
    "cdf = pd.DataFrame(model_mlr.coef_, x_test.columns, columns=['Coefficients'])\n",
    "print(cdf)"
   ]
  },
  {
   "attachments": {},
   "cell_type": "markdown",
   "metadata": {},
   "source": [
    "Saving model to local directory"
   ]
  },
  {
   "cell_type": "code",
   "execution_count": 59,
   "metadata": {},
   "outputs": [],
   "source": [
    "# Saving the model to local directory\n",
    "\n",
    "# filename = 'savemodel_rfr_ftr.sav'\n",
    "# joblib.dump(model_rfr_ftr,filename)\n",
    "\n",
    "# filename = 'savemodel_rfr_ftr_hpo.sav'\n",
    "# joblib.dump(model_rfr_ftr_hpo,filename)\n",
    "\n",
    "# filename = 'savemodel_rfr_ftr_hpov.sav'\n",
    "# joblib.dump(model_rfr_ftr_hpov,filename)\n",
    "\n",
    "# filename = 'savemodel_dtr_ftr.sav'\n",
    "# joblib.dump(model_dtr,filename)\n",
    "\n",
    "# filename = 'savemodel_dtr_ftr_hpov.sav'\n",
    "# joblib.dump(model_dtr_hpov,filename)\n",
    "\n",
    "# filename = 'savemodel_mlr_ftr.sav'\n",
    "# joblib.dump(model_mlr,filename)"
   ]
  },
  {
   "attachments": {},
   "cell_type": "markdown",
   "metadata": {},
   "source": [
    "HPO pre evaluation"
   ]
  },
  {
   "attachments": {},
   "cell_type": "markdown",
   "metadata": {},
   "source": [
    "Hyperparameter Optimization"
   ]
  },
  {
   "cell_type": "code",
   "execution_count": 60,
   "metadata": {},
   "outputs": [],
   "source": [
    "import matplotlib.pyplot as plt"
   ]
  },
  {
   "attachments": {},
   "cell_type": "markdown",
   "metadata": {},
   "source": [
    "Feature HPO"
   ]
  },
  {
   "cell_type": "code",
   "execution_count": 61,
   "metadata": {},
   "outputs": [],
   "source": [
    "# explore random forest number of features effect on performance, v2 optimised for comparison plot between decision tree and random forest\n",
    "def feature_curve(x,y,regressor,regname):\n",
    "\tfrom numpy import mean\n",
    "\tfrom numpy import std\n",
    "\tfrom sklearn.model_selection import cross_val_score\n",
    "\tfrom sklearn.model_selection import KFold\n",
    "\n",
    "\tplt.rcParams.update({\n",
    "\t\"text.usetex\": True,\n",
    "\t\"font.family\": \"serif\",\n",
    "\t\"font.serif\": \"bookman\",\n",
    "\t})\n",
    "\n",
    "\t# get a list of models to evaluate\n",
    "\tdef get_modelsftr():\n",
    "\t\tmodels_ftr = dict()\n",
    "\t\t# explore number of features from 1 to 13\n",
    "\t\tfor n in range(1,13):\n",
    "\t\t\tif regressor == 'dt':\n",
    "\t\t\t\tmodels_ftr[str(n)] = DecisionTreeRegressor(max_features=n)\n",
    "\t\t\telif regressor == 'rf':\n",
    "\t\t\t\tmodels_ftr[str(n)] = RandomForestRegressor(max_features=n)\n",
    "\t\t\telif regressor == 'et':\n",
    "\t\t\t\tmodels_ftr[str(n)] = ExtraTreesRegressor(max_features=n)\t\n",
    "\t\treturn models_ftr\n",
    "\n",
    "\t# evaluate a given model using cross-validation\n",
    "\tdef evaluate_model(model, x, y):\n",
    "\t\t# define the evaluation procedure\n",
    "\t\tcv = KFold(n_splits=10, shuffle=True, random_state=1)\n",
    "\t\t# evaluate the model and collect the results\n",
    "\t\tscores = cross_val_score(model, x, y, scoring='neg_root_mean_squared_error', cv=cv, n_jobs=-1)\n",
    "\t\t# negative scores due to scoring mechanism of sklearn\n",
    "\t\treturn -scores\n",
    "\n",
    "\t# get the models to evaluate\n",
    "\tmodels_ftr = get_modelsftr()\n",
    "\t# evaluate the models and store results\n",
    "\tresults_ftr, names_ftr = list(), list()\n",
    "\tfor name, model in models_ftr.items():\n",
    "\t\t# evaluate the model\n",
    "\t\tscores_ftr = evaluate_model(model, x, y)\n",
    "\t\t# store the results\n",
    "\t\tresults_ftr.append(scores_ftr)\n",
    "\t\tnames_ftr.append(name)\n",
    "\t\t# summarize the performance along the way\n",
    "\t\tprint('>%s %.3f (%.3f)' % (name, mean(scores_ftr), std(scores_ftr)))\n",
    "\t\n",
    "\t# Calculate mean for the x value of the plot\n",
    "\n",
    "\tmean_ftr = np.mean(results_ftr,axis=1)\n",
    "\tmin_error_ftr = np.min(mean_ftr)\n",
    "\n",
    "\tprint(f\"The minimum RMSE obtained is {min_error_ftr:.3f}\")\n",
    "\t\n",
    "\tplt.plot(names_ftr,mean_ftr,\"b.-\")\n",
    "\tplt.grid(linestyle = '--', linewidth = 0.5)\n",
    "\t# plt.xlim(0,12-1)\n",
    "\tplt.ylim(0,5)\n",
    "\tplt.xlabel(r\"Number of features\",fontsize=13)\n",
    "\tplt.ylabel(r\"RMSE [knots]\",fontsize=13)\n",
    "\tplt.title(rf\"{regname}\", fontsize=14)\n",
    "\tplt.boxplot(results_ftr, labels=names_ftr,positions=range(len(names_ftr)), showmeans=True)"
   ]
  },
  {
   "cell_type": "code",
   "execution_count": 62,
   "metadata": {},
   "outputs": [
    {
     "name": "stdout",
     "output_type": "stream",
     "text": [
      ">1 3.040 (0.544)\n",
      ">2 2.453 (0.602)\n",
      ">3 1.981 (0.538)\n",
      ">4 1.877 (0.336)\n",
      ">5 2.225 (0.680)\n",
      ">6 1.962 (0.488)\n",
      ">7 1.971 (0.704)\n",
      ">8 1.580 (0.394)\n",
      ">9 1.453 (0.243)\n",
      ">10 2.111 (0.689)\n",
      ">11 1.938 (0.702)\n",
      ">12 1.863 (0.678)\n",
      "The minimum RMSE obtained is 1.453\n",
      ">1 1.859 (0.402)\n",
      ">2 1.539 (0.356)\n",
      ">3 1.402 (0.341)\n",
      ">4 1.313 (0.284)\n",
      ">5 1.256 (0.304)\n",
      ">6 1.224 (0.265)\n",
      ">7 1.198 (0.264)\n",
      ">8 1.210 (0.253)\n",
      ">9 1.194 (0.236)\n",
      ">10 1.190 (0.230)\n",
      ">11 1.228 (0.256)\n",
      ">12 1.240 (0.265)\n",
      "The minimum RMSE obtained is 1.190\n",
      ">1 1.854 (0.340)\n",
      ">2 1.485 (0.216)\n",
      ">3 1.301 (0.194)\n",
      ">4 1.199 (0.191)\n",
      ">5 1.123 (0.176)\n",
      ">6 1.047 (0.175)\n",
      ">7 1.006 (0.152)\n",
      ">8 0.978 (0.163)\n",
      ">9 0.951 (0.169)\n",
      ">10 0.946 (0.166)\n",
      ">11 0.931 (0.170)\n",
      ">12 0.920 (0.187)\n",
      "The minimum RMSE obtained is 0.920\n"
     ]
    },
    {
     "data": {
      "image/png": "[encoded data removed]",
      "text/plain": [
       "<Figure size 1000x400 with 3 Axes>"
      ]
     },
     "metadata": {},
     "output_type": "display_data"
    }
   ],
   "source": [
    "fig, axes = plt.subplots(ncols=3, figsize=(10, 4), sharey=True)\n",
    "plt.sca(axes[0])\n",
    "feature_curve(x_test,y_test,regressor='dt',regname='DecisionTreeRegressor')\n",
    "plt.sca(axes[1])\n",
    "feature_curve(x_test,y_test,regressor='rf',regname='RandomForestRegressor')\n",
    "plt.ylabel(\"\")\n",
    "plt.sca(axes[2])\n",
    "feature_curve(x_test,y_test,regressor='et',regname='ExtraTreeRegressor')\n",
    "plt.ylabel(\"\")\n",
    "plt.show()"
   ]
  },
  {
   "attachments": {},
   "cell_type": "markdown",
   "metadata": {},
   "source": [
    "Leaf HPO"
   ]
  },
  {
   "cell_type": "code",
   "execution_count": 63,
   "metadata": {},
   "outputs": [],
   "source": [
    "# Instead , we will invesitagte the effect of setting the minimal samples leaf\n",
    "def leaf_curve(x,y,regressor,regname):\n",
    "\tfrom numpy import mean\n",
    "\tfrom numpy import std\n",
    "\tfrom sklearn.model_selection import cross_val_score\n",
    "\n",
    "\tplt.rcParams.update({\n",
    "\t\"text.usetex\": True,\n",
    "\t\"font.family\": \"serif\",\n",
    "\t\"font.serif\": \"bookman\",\n",
    "\t})\n",
    "\n",
    "\t# get a list of models to evaluate\n",
    "\tdef get_models_leaf():\n",
    "\t\tmodels_leaf = dict()\n",
    "\t\t# define number of trees to consider\n",
    "\t\tn_samples_leaf = [1,2,3,4,5,6,7,8,9,10,50]\n",
    "\t\tfor n in n_samples_leaf:\n",
    "\t\t\tif regressor == 'dt':\n",
    "\t\t\t\tmodels_leaf[str(n)] = DecisionTreeRegressor(min_samples_leaf = n)\n",
    "\t\t\tif regressor == 'rf':\n",
    "\t\t\t\tmodels_leaf[str(n)] = RandomForestRegressor(min_samples_leaf = n)\n",
    "\t\t\tif regressor == 'et':\n",
    "\t\t\t\tmodels_leaf[str(n)] = ExtraTreesRegressor(min_samples_leaf = n)\n",
    "\t\treturn models_leaf\n",
    "\n",
    "\t# evaluate a given model using cross-validation\n",
    "\tdef evaluate_model(model, x, y):\n",
    "\t\tscores = cross_val_score(model, x, y, scoring='neg_root_mean_squared_error', cv=10, n_jobs=-1)\n",
    "\t\treturn -scores\n",
    "\n",
    "\t# # define dataset\n",
    "\t# get the models to evaluate\n",
    "\tmodels_leaf = get_models_leaf()\n",
    "\n",
    "\t# evaluate the models and store results\n",
    "\tresults_leaf, names_leaf = list(), list()\n",
    "\tfor name, model in models_leaf.items():\n",
    "\t\t# evaluate the model\n",
    "\t\tscores_leaf = evaluate_model(model, x, y)\n",
    "\t\t# store the results\n",
    "\t\tresults_leaf.append(scores_leaf)\n",
    "\t\tnames_leaf.append(name)\n",
    "\t\t# summarize the performance along the way\n",
    "\t\tprint('>%s %.3f (%.3f)' % (name, mean(scores_leaf), std(scores_leaf)))\n",
    "\n",
    "\n",
    "\tmean_leaf = np.mean(results_leaf,axis=1)\n",
    "\tmin_error_leaf = np.min(mean_leaf)\n",
    "\tprint(min_error_leaf)\n",
    "\tbst_n_estimators_leaf = np.argmin(mean_leaf)\n",
    "\tprint(f\"The minimum RMSE obtained is {min_error_leaf:.3f}\")\n",
    "\tplt.plot(names_leaf,mean_leaf,\"b.-\")\n",
    "\tplt.grid(linestyle = '--', linewidth = 0.5)\n",
    "\t# plt.xlim(0,12-1)\n",
    "\tplt.ylim(0,5)\n",
    "\tplt.xlabel(r\"Number of Samples in Leaf\",fontsize=13)\n",
    "\tplt.ylabel(r\"RMSE [knots]\",fontsize=13)\n",
    "\tplt.title(rf\"{regname}\", fontsize=14)\n",
    "\tplt.boxplot(results_leaf, labels=names_leaf,positions=range(len(names_leaf)), showmeans=True)"
   ]
  },
  {
   "cell_type": "code",
   "execution_count": 64,
   "metadata": {},
   "outputs": [
    {
     "name": "stdout",
     "output_type": "stream",
     "text": [
      ">1 1.901 (0.500)\n",
      ">2 1.717 (0.433)\n",
      ">3 1.641 (0.452)\n",
      ">4 1.560 (0.358)\n",
      ">5 1.629 (0.421)\n",
      ">6 1.646 (0.401)\n",
      ">7 1.677 (0.393)\n",
      ">8 1.733 (0.498)\n",
      ">9 1.708 (0.477)\n",
      ">10 1.763 (0.419)\n",
      ">50 2.450 (0.336)\n",
      "1.559603700690746\n",
      "The minimum RMSE obtained is 1.560\n",
      ">1 1.189 (0.232)\n",
      ">2 1.163 (0.218)\n",
      ">3 1.195 (0.227)\n",
      ">4 1.226 (0.230)\n",
      ">5 1.253 (0.225)\n",
      ">6 1.294 (0.227)\n",
      ">7 1.320 (0.208)\n",
      ">8 1.337 (0.209)\n",
      ">9 1.386 (0.228)\n",
      ">10 1.424 (0.206)\n",
      ">50 2.319 (0.239)\n",
      "1.163006617683796\n",
      "The minimum RMSE obtained is 1.163\n",
      ">1 0.935 (0.203)\n",
      ">2 0.935 (0.207)\n",
      ">3 0.988 (0.203)\n",
      ">4 1.094 (0.221)\n",
      ">5 1.161 (0.224)\n",
      ">6 1.225 (0.243)\n",
      ">7 1.273 (0.244)\n",
      ">8 1.311 (0.235)\n",
      ">9 1.340 (0.239)\n",
      ">10 1.371 (0.234)\n",
      ">50 2.327 (0.390)\n",
      "0.9348718652639952\n",
      "The minimum RMSE obtained is 0.935\n"
     ]
    },
    {
     "data": {
      "image/png": "[encoded data removed]",
      "text/plain": [
       "<Figure size 1000x400 with 3 Axes>"
      ]
     },
     "metadata": {},
     "output_type": "display_data"
    }
   ],
   "source": [
    "fig, axes = plt.subplots(ncols=3, figsize=(10, 4), sharey=True)\n",
    "plt.sca(axes[0])\n",
    "leaf_curve(x_test,y_test,regressor='dt',regname='DecisionTreeRegressor')\n",
    "plt.sca(axes[1])\n",
    "leaf_curve(x_test,y_test,regressor='rf',regname='RandomForestRegressor')\n",
    "plt.ylabel(\"\")\n",
    "plt.sca(axes[2])\n",
    "leaf_curve(x_test,y_test,regressor='et',regname='ExtraTreeRegressor')\n",
    "plt.ylabel(\"\")\n",
    "plt.show()"
   ]
  },
  {
   "attachments": {},
   "cell_type": "markdown",
   "metadata": {},
   "source": [
    "Number of Trees HPO (Irrelevant for DT)"
   ]
  },
  {
   "cell_type": "code",
   "execution_count": 65,
   "metadata": {},
   "outputs": [],
   "source": [
    "# explore random forest and extra tree number of trees effect on performance\n",
    "def trees_curve(x,y,regressor,regname):\n",
    "\tfrom numpy import mean\n",
    "\tfrom numpy import std\n",
    "\tfrom sklearn.model_selection import cross_val_score\n",
    "\n",
    "\tplt.rcParams.update({\n",
    "\t\"text.usetex\": True,\n",
    "\t\"font.family\": \"serif\",\n",
    "\t\"font.serif\": \"bookman\",\n",
    "\t})\n",
    "\n",
    "\t# get a list of models to evaluate\n",
    "\tdef get_models_tree():\n",
    "\t\tmodels_tree = dict()\n",
    "\t\t# define number of trees to consider\n",
    "\t\tn_trees = [1,10,100,200,300,400,500,600,700,800,900,1000]\n",
    "\t\tfor n in n_trees:\n",
    "\t\t\tif regressor == 'rf':\n",
    "\t\t\t\tmodels_tree[str(n)] = RandomForestRegressor(n_estimators = n)\n",
    "\t\t\telif regressor == 'et':\n",
    "\t\t\t\tmodels_tree[str(n)] = ExtraTreesRegressor(n_estimators = n)\t\n",
    "\t\treturn models_tree\n",
    "\n",
    "\t# evaluate a given model using cross-validation\n",
    "\tdef evaluate_model(model_tree, x, y):\n",
    "\t\tscores = cross_val_score(model, x, y, scoring='neg_root_mean_squared_error', cv=10, n_jobs=-1)\n",
    "\t\treturn -scores\n",
    "\n",
    "\t# # define dataset\n",
    "\t# get the models to evaluate\n",
    "\tmodels_tree = get_models_tree()\n",
    "\n",
    "\t# evaluate the models and store results\n",
    "\tresults_tree, names_tree = list(), list()\n",
    "\tfor name, model in models_tree.items():\n",
    "\t\t# evaluate the model\n",
    "\t\tscores_tree = evaluate_model(model, x, y)\n",
    "\t\t# store the results\n",
    "\t\tresults_tree.append(scores_tree)\n",
    "\t\tnames_tree.append(name)\n",
    "\t\t# summarize the performance along the way\n",
    "\t\tprint('>%s %.3f (%.3f)' % (name, mean(scores_tree), std(scores_tree)))\n",
    "\n",
    "\n",
    "\tmean_tree = np.mean(results_tree,axis=1)\n",
    "\tmin_error_tree = np.min(mean_tree)\n",
    "\tprint(min_error_tree)\n",
    "\tprint(f\"The minimum RMSE obtained is {min_error_tree:.3f}\")\n",
    "\tplt.plot(names_tree,mean_tree,\"b.-\")\n",
    "\tplt.grid(linestyle = '--', linewidth = 0.5)\n",
    "\t# plt.xlim(0,12-1)\n",
    "\tplt.ylim(0,5)\n",
    "\tplt.xlabel(r\"Number of Trees\", fontsize=13)\n",
    "\tplt.ylabel(r\"RMSE [knots]\", fontsize=13)\n",
    "\tplt.title(rf\"{regname}\", fontsize=14)\n",
    "\tpyplot.boxplot(results_tree, labels=names_tree, showmeans=True,positions=range(len(names_tree)))\n"
   ]
  },
  {
   "cell_type": "code",
   "execution_count": 66,
   "metadata": {},
   "outputs": [
    {
     "name": "stdout",
     "output_type": "stream",
     "text": [
      ">1 1.649 (0.364)\n",
      ">10 1.258 (0.263)\n",
      ">100 1.207 (0.227)\n",
      ">200 1.188 (0.234)\n",
      ">300 1.186 (0.222)\n",
      ">400 1.175 (0.231)\n",
      ">500 1.193 (0.238)\n",
      ">600 1.181 (0.230)\n",
      ">700 1.183 (0.226)\n",
      ">800 1.187 (0.229)\n",
      ">900 1.179 (0.224)\n",
      ">1000 1.183 (0.230)\n",
      "1.1746749549644226\n",
      "The minimum RMSE obtained is 1.175\n",
      ">1 1.507 (0.396)\n",
      ">10 1.023 (0.238)\n",
      ">100 0.934 (0.198)\n",
      ">200 0.918 (0.189)\n",
      ">300 0.917 (0.190)\n",
      ">400 0.914 (0.187)\n",
      ">500 0.921 (0.199)\n",
      ">600 0.919 (0.193)\n",
      ">700 0.916 (0.192)\n",
      ">800 0.918 (0.192)\n",
      ">900 0.916 (0.196)\n",
      ">1000 0.917 (0.193)\n",
      "0.9141831082776749\n",
      "The minimum RMSE obtained is 0.914\n"
     ]
    },
    {
     "data": {
      "image/png": "[encoded data removed]",
      "text/plain": [
       "<Figure size 1400x400 with 2 Axes>"
      ]
     },
     "metadata": {},
     "output_type": "display_data"
    }
   ],
   "source": [
    "fig, axes = plt.subplots(ncols=2, figsize=(14, 4), sharey=True)\n",
    "plt.sca(axes[0])\n",
    "trees_curve(x_test,y_test,regressor='rf',regname='RandomForestRegressor')\n",
    "plt.sca(axes[1])\n",
    "trees_curve(x_test,y_test,regressor='et',regname='ExtraTreeRegressor')\n",
    "plt.ylabel(\"\")\n",
    "plt.show()"
   ]
  },
  {
   "attachments": {},
   "cell_type": "markdown",
   "metadata": {},
   "source": [
    "Depth HPO"
   ]
  },
  {
   "cell_type": "code",
   "execution_count": 67,
   "metadata": {},
   "outputs": [],
   "source": [
    "# explore tree based , tree depth. effect on performance\n",
    "def depth_curve(x,y,regressor,regname):\n",
    "\tfrom numpy import mean\n",
    "\tfrom numpy import std\n",
    "\tfrom sklearn.model_selection import cross_val_score\n",
    "\tfrom sklearn.model_selection import KFold\n",
    "\n",
    "\t# Parameter to plot in nice latex font\n",
    "\n",
    "\tplt.rcParams.update({\n",
    "\t\"text.usetex\": True,\n",
    "\t\"font.family\": \"serif\",\n",
    "\t\"font.serif\": \"bookman\",\n",
    "\t})\n",
    "\n",
    "\t# get a list of models to evaluate\n",
    "\tdef get_models_dp():\n",
    "\t\tmodels_dp = dict()\n",
    "\t\t# consider tree depths from 1 to 7 and None=full\n",
    "\t\tdepths = [1,2,3,4,5,6,7,8,9,10,100] + [None]\n",
    "\t\tfor n in depths:\n",
    "\t\t\tif regressor == 'dt':\n",
    "\t\t\t\tmodels_dp[str(n)] = DecisionTreeRegressor(max_depth=n)\n",
    "\t\t\telif regressor == 'rf':\n",
    "\t\t\t\tmodels_dp[str(n)] = RandomForestRegressor(max_depth=n)\n",
    "\t\t\telif regressor == 'et':\n",
    "\t\t\t\tmodels_dp[str(n)] = ExtraTreesRegressor(max_depth=n)\t\n",
    "\t\treturn models_dp\n",
    "\n",
    "\t# evaluate a given model using cross-validation\n",
    "\tdef evaluate_model(model, x, y):\n",
    "\t\t# define the evaluation procedure\n",
    "\t\tcv = KFold(n_splits=10, shuffle=True, random_state=1)\n",
    "\t\t# evaluate the model and collect the results\n",
    "\t\tscores = cross_val_score(model, x, y, scoring='neg_root_mean_squared_error', cv=cv, n_jobs=-1)\n",
    "\t\t# negative scores due to scoring mechanism of sklearn\n",
    "\t\treturn -scores\n",
    "\n",
    "\t# get the models to evaluate\n",
    "\tmodels_dp = get_models_dp()\n",
    "\t# evaluate the models and store results\n",
    "\tresults_dp, names_dp = list(), list()\n",
    "\tfor name, model in models_dp.items():\n",
    "\t\t# evaluate the model\n",
    "\t\tscores_dp = evaluate_model(model, x, y)\n",
    "\t\t# store the results\n",
    "\t\tresults_dp.append(scores_dp)\n",
    "\t\tnames_dp.append(name)\n",
    "\t\t# summarize the performance along the way\n",
    "\t\tprint('>%s %.3f (%.3f)' % (name, mean(scores_dp), std(scores_dp)))\n",
    "\n",
    "\n",
    "\tmean_dp = np.mean(results_dp,axis=1)\n",
    "\tmin_error_dp = np.min(mean_dp)\n",
    "\tprint(min_error_dp)\n",
    "\tbst_n_estimators_dp= np.argmin(mean_dp)\n",
    "\tprint(f\"The minimum RMSE obtained is {min_error_dp:.3f}\")\n",
    "\tplt.plot(names_dp,mean_dp,\"b.-\")\n",
    "\tplt.grid(linestyle = '--', linewidth = 0.5)\n",
    "\tplt.ylim(0,5)\n",
    "\tplt.xlabel(r\"Tree Depth\",fontsize=13)\n",
    "\tplt.ylabel(r\"RMSE [knots]\",fontsize=13)\n",
    "\tplt.title(rf\"{regname}\", fontsize=14)\n",
    "\tplt.boxplot(results_dp, labels=names_dp,positions=range(len(names_dp)), showmeans=True)"
   ]
  },
  {
   "cell_type": "code",
   "execution_count": 68,
   "metadata": {},
   "outputs": [
    {
     "name": "stdout",
     "output_type": "stream",
     "text": [
      ">1 3.090 (0.522)\n",
      ">2 3.055 (0.475)\n",
      ">3 2.432 (0.530)\n",
      ">4 2.076 (0.668)\n",
      ">5 1.891 (0.645)\n",
      ">6 1.841 (0.767)\n",
      ">7 1.756 (0.639)\n",
      ">8 1.734 (0.630)\n",
      ">9 1.862 (0.738)\n",
      ">10 1.880 (0.632)\n",
      ">100 1.933 (0.578)\n",
      ">None 1.839 (0.633)\n",
      "1.7342541249188343\n",
      "The minimum RMSE obtained is 1.734\n",
      ">1 3.010 (0.517)\n",
      ">2 2.496 (0.414)\n",
      ">3 1.875 (0.393)\n",
      ">4 1.530 (0.345)\n",
      ">5 1.363 (0.270)\n",
      ">6 1.319 (0.277)\n",
      ">7 1.248 (0.256)\n",
      ">8 1.242 (0.263)\n",
      ">9 1.251 (0.264)\n",
      ">10 1.235 (0.235)\n",
      ">100 1.245 (0.251)\n",
      ">None 1.247 (0.236)\n",
      "1.2354539156738555\n",
      "The minimum RMSE obtained is 1.235\n",
      ">1 3.044 (0.561)\n",
      ">2 2.340 (0.413)\n",
      ">3 1.700 (0.241)\n",
      ">4 1.365 (0.216)\n",
      ">5 1.193 (0.210)\n",
      ">6 1.104 (0.208)\n",
      ">7 1.034 (0.204)\n",
      ">8 0.970 (0.168)\n",
      ">9 0.966 (0.200)\n",
      ">10 0.938 (0.178)\n",
      ">100 0.932 (0.179)\n",
      ">None 0.921 (0.167)\n",
      "0.9210382493320004\n",
      "The minimum RMSE obtained is 0.921\n"
     ]
    },
    {
     "data": {
      "image/png": "[encoded data removed]",
      "text/plain": [
       "<Figure size 1500x400 with 3 Axes>"
      ]
     },
     "metadata": {},
     "output_type": "display_data"
    }
   ],
   "source": [
    "fig, axes = plt.subplots(ncols=3, figsize=(15, 4), sharey=True)\n",
    "plt.sca(axes[0])\n",
    "depth_curve(x_test,y_test,regressor='dt',regname='DecisionTreeRegressor')\n",
    "plt.sca(axes[1])\n",
    "depth_curve(x_test,y_test,regressor='rf',regname='RandomForestRegressor')\n",
    "plt.ylabel(\"\")\n",
    "plt.sca(axes[2])\n",
    "depth_curve(x_test,y_test,regressor='et',regname='ExtraTreeRegressor')\n",
    "plt.ylabel(\"\")\n",
    "plt.show()"
   ]
  },
  {
   "attachments": {},
   "cell_type": "markdown",
   "metadata": {},
   "source": [
    "Min sample split HPO"
   ]
  },
  {
   "cell_type": "code",
   "execution_count": 75,
   "metadata": {},
   "outputs": [],
   "source": [
    "# explore tree based , tree depth. effect on performance\n",
    "def split_curve(x,y,regressor,regname):\n",
    "\tfrom numpy import mean\n",
    "\tfrom numpy import std\n",
    "\tfrom sklearn.model_selection import cross_val_score\n",
    "\tfrom sklearn.model_selection import KFold\n",
    "\n",
    "\t# Parameter to plot in nice latex font\n",
    "\n",
    "\tplt.rcParams.update({\n",
    "\t\"text.usetex\": True,\n",
    "\t\"font.family\": \"serif\",\n",
    "\t\"font.serif\": \"bookman\",\n",
    "\t})\n",
    "\n",
    "\t# get a list of models to evaluate\n",
    "\tdef get_models_sp():\n",
    "\t\tmodels_sp = dict()\n",
    "\t\t# consider tree depths from 1 to 7 and None=full\n",
    "\t\tsplit = [2,3,4,5,6,7,8,9,10,20,30,40,50]\n",
    "\t\tfor n in split:\n",
    "\t\t\tif regressor == 'dt':\n",
    "\t\t\t\tmodels_sp[str(n)] = DecisionTreeRegressor(min_samples_split=n)\n",
    "\t\t\telif regressor == 'rf':\n",
    "\t\t\t\tmodels_sp[str(n)] = RandomForestRegressor(min_samples_split=n)\n",
    "\t\t\telif regressor == 'et':\n",
    "\t\t\t\tmodels_sp[str(n)] = ExtraTreesRegressor(min_samples_split=n)\t\n",
    "\t\treturn models_sp\n",
    "\n",
    "\t# evaluate a given model using cross-validation\n",
    "\tdef evaluate_model(model, x, y):\n",
    "\t\t# define the evaluation procedure\n",
    "\t\tcv = KFold(n_splits=10, shuffle=True, random_state=1)\n",
    "\t\t# evaluate the model and collect the results\n",
    "\t\tscores = cross_val_score(model, x, y, scoring='neg_root_mean_squared_error', cv=cv, n_jobs=-1)\n",
    "\t\t# negative scores due to scoring mechanism of sklearn\n",
    "\t\treturn -scores\n",
    "\n",
    "\t# get the models to evaluate\n",
    "\tmodels_sp = get_models_sp()\n",
    "\t# evaluate the models and store results\n",
    "\tresults_sp, names_sp = list(), list()\n",
    "\tfor name, model in models_sp.items():\n",
    "\t\t# evaluate the model\n",
    "\t\tscores_sp = evaluate_model(model, x, y)\n",
    "\t\t# store the results\n",
    "\t\tresults_sp.append(scores_sp)\n",
    "\t\tnames_sp.append(name)\n",
    "\t\t# summarize the performance along the way\n",
    "\t\tprint('>%s %.3f (%.3f)' % (name, mean(scores_sp), std(scores_sp)))\n",
    "\n",
    "\n",
    "\tmean_sp = np.mean(results_sp,axis=1)\n",
    "\tmin_error_sp = np.min(mean_sp)\n",
    "\tprint(min_error_sp)\n",
    "\tbst_n_estimators_sp= np.argmin(mean_sp)\n",
    "\tprint(f\"The minimum RMSE obtained is {min_error_sp:.3f}\")\n",
    "\tplt.plot(names_sp,mean_sp,\"b.-\")\n",
    "\tplt.grid(linestyle = '--', linewidth = 0.5)\n",
    "\tplt.ylim(0,5)\n",
    "\tplt.xlabel(r\"Minimum Sample to split \",fontsize=13)\n",
    "\tplt.ylabel(r\"RMSE [knots]\",fontsize=13)\n",
    "\tplt.title(rf\"{regname}\", fontsize=14)\n",
    "\tplt.boxplot(results_sp, labels=names_sp,positions=range(len(names_sp)), showmeans=True)"
   ]
  },
  {
   "cell_type": "code",
   "execution_count": 76,
   "metadata": {},
   "outputs": [
    {
     "name": "stdout",
     "output_type": "stream",
     "text": [
      ">2 1.920 (0.615)\n",
      ">3 1.879 (0.623)\n",
      ">4 1.867 (0.565)\n",
      ">5 1.931 (0.606)\n",
      ">6 1.843 (0.674)\n",
      ">7 1.823 (0.658)\n",
      ">8 1.777 (0.645)\n",
      ">9 1.800 (0.657)\n",
      ">10 1.733 (0.562)\n",
      ">20 1.730 (0.584)\n",
      ">30 1.765 (0.558)\n",
      ">40 2.072 (0.613)\n",
      ">50 2.117 (0.608)\n",
      "1.7296162721322665\n",
      "The minimum RMSE obtained is 1.730\n"
     ]
    },
    {
     "name": "stdout",
     "output_type": "stream",
     "text": [
      ">2 1.230 (0.266)\n",
      ">3 1.241 (0.246)\n",
      ">4 1.260 (0.244)\n",
      ">5 1.241 (0.215)\n",
      ">6 1.245 (0.242)\n",
      ">7 1.234 (0.258)\n",
      ">8 1.238 (0.251)\n",
      ">9 1.240 (0.253)\n",
      ">10 1.264 (0.241)\n",
      ">20 1.314 (0.253)\n",
      ">30 1.455 (0.253)\n",
      ">40 1.621 (0.276)\n",
      ">50 1.796 (0.359)\n",
      "1.2299319341959536\n",
      "The minimum RMSE obtained is 1.230\n",
      ">2 0.931 (0.174)\n",
      ">3 0.928 (0.191)\n",
      ">4 0.932 (0.172)\n",
      ">5 0.942 (0.184)\n",
      ">6 0.938 (0.169)\n",
      ">7 0.946 (0.183)\n",
      ">8 0.940 (0.196)\n",
      ">9 0.957 (0.192)\n",
      ">10 0.955 (0.184)\n",
      ">20 0.979 (0.190)\n",
      ">30 1.024 (0.210)\n",
      ">40 1.054 (0.221)\n",
      ">50 1.113 (0.225)\n",
      "0.9279101509901541\n",
      "The minimum RMSE obtained is 0.928\n"
     ]
    },
    {
     "data": {
      "image/png": "[encoded data removed]",
      "text/plain": [
       "<Figure size 1500x400 with 3 Axes>"
      ]
     },
     "metadata": {},
     "output_type": "display_data"
    }
   ],
   "source": [
    "fig, axes = plt.subplots(ncols=3, figsize=(15, 4), sharey=True)\n",
    "plt.sca(axes[0])\n",
    "split_curve(x_test,y_test,regressor='dt',regname='DecisionTreeRegressor')\n",
    "plt.sca(axes[1])\n",
    "split_curve(x_test,y_test,regressor='rf',regname='RandomForestRegressor')\n",
    "plt.ylabel(\"\")\n",
    "plt.sca(axes[2])\n",
    "split_curve(x_test,y_test,regressor='et',regname='ExtraTreeRegressor')\n",
    "plt.ylabel(\"\")\n",
    "plt.show()"
   ]
  },
  {
   "cell_type": "code",
   "execution_count": 77,
   "metadata": {},
   "outputs": [],
   "source": [
    "# from pprint import pprint\n",
    "# pprint(model_rfr_ftr.get_params())"
   ]
  },
  {
   "cell_type": "code",
   "execution_count": 78,
   "metadata": {},
   "outputs": [],
   "source": [
    "# from sklearn.model_selection import RandomizedSearchCV\n",
    "# # Number of trees in random forest\n",
    "# n_estimators = [100,200,300,400,500,600,700,800,900,1000]\n",
    "# # Number of features to consider at every split\n",
    "# max_features = [6,7,8,9,10,11,12]\n",
    "# # Maximum number of levels in tree\n",
    "# max_depth = [int(x) for x in np.linspace(10, 200, num = 20)]\n",
    "# max_depth.append(None)\n",
    "# # Minimum number of samples required to split a node\n",
    "# min_samples_split = [2, 5, 10]\n",
    "# # Minimum number of samples required at each leaf node\n",
    "# min_samples_leaf = [1, 2, 3,4,5,6,7,8,9,10]\n",
    "# # Method of selecting samples for training each tree\n",
    "# # bootstrap = [True]# Create the random grid\n",
    "# random_grid = {'n_estimators': n_estimators,\n",
    "#                'max_features': max_features,\n",
    "#                'max_depth': max_depth,\n",
    "#                'min_samples_split': min_samples_split,\n",
    "#                'min_samples_leaf': min_samples_leaf}\n",
    "# pprint(random_grid)"
   ]
  },
  {
   "cell_type": "code",
   "execution_count": 80,
   "metadata": {},
   "outputs": [],
   "source": [
    "# Use the random grid to search for best hyperparameters\n",
    "# First create the base model to tune\n",
    "# rf = RandomForestRegressor()\n",
    "# Random search of parameters, using 3 fold cross validation, \n",
    "# search across 100 different combinations, and use all available cores\n",
    "# rf_random = RandomizedSearchCV(estimator = model_rfr_ftr, param_distributions = random_grid, n_iter = 100, cv = 5, verbose=2, random_state=42,n_jobs=-1)# Fit the random search model\n",
    "# rf_random.fit(x_train, y_train)"
   ]
  },
  {
   "cell_type": "code",
   "execution_count": 81,
   "metadata": {},
   "outputs": [],
   "source": [
    "# rf_random.best_params_"
   ]
  },
  {
   "cell_type": "code",
   "execution_count": 82,
   "metadata": {},
   "outputs": [],
   "source": [
    "# def evaluate(model, test_features, test_labels):\n",
    "#     from sklearn.metrics import explained_variance_score,mean_absolute_error,mean_squared_error,median_absolute_error\n",
    "\n",
    "#     predictions = model.predict(test_features)\n",
    "#     rsquared = model.score(test_features,test_labels)\n",
    "#     expVar = explained_variance_score(test_labels,predictions)\n",
    "#     MAE = mean_absolute_error(test_labels,predictions)\n",
    "#     MAD = median_absolute_error(test_labels,predictions)\n",
    "#     RMSE = np.sqrt(mean_squared_error(test_labels,predictions))\n",
    "\n",
    "#     print(f\"Model Performance of {model}\")\n",
    "#     print(f\"R^2: {rsquared:0.4f}\")\n",
    "#     print(f\"explained Variance = {expVar:0.4f}\")\n",
    "#     print(f\"MAE = {MAE:0.4f}\")\n",
    "#     print(f\"RMSE = {RMSE:0.4f}\")\n",
    "#     print(f\"MAD = {MAD:0.4f}\\n\")\n",
    "    \n",
    "#     return rsquared,expVar,MAE,RMSE,MAD\n",
    "\n",
    "# base_model = model_rfr_ftr\n",
    "# base_model.fit(x_train, y_train)\n",
    "# rsquared_base,expVar_base,MAE_base,RMSE_base,MAD_base = evaluate(base_model, x_test, y_test)\n",
    "\n",
    "# best_random = rf_random.best_estimator_\n",
    "# rsquared_random,expVar_random,MAE_random,RMSE_random,MAD_random = evaluate(best_random, x_test, y_test)\n",
    "# print('Improvement of Rsquared {:0.3f}%.'.format( 100 * (rsquared_random - rsquared_base) / rsquared_base))\n",
    "# print('Improvement of explainedVariance {:0.3f}%.'.format( 100 * (expVar_random - expVar_base) / expVar_base))\n",
    "# print('Improvement of MAE {:0.3f}%.'.format( 100 * (MAE_base - MAE_random) / MAE_base)) # MAE is other way around since best score is 0\n",
    "# print('Improvement of RMSE {:0.3f}%.'.format( 100 * (RMSE_base - RMSE_random) / RMSE_base)) # RMSE is other way around since best score is 0\n",
    "# print('Improvement of MAD {:0.3f}%.'.format( 100 * (MAD_base - MAD_random) / MAD_base)) # MAD is other way around since best score is 0"
   ]
  },
  {
   "attachments": {},
   "cell_type": "markdown",
   "metadata": {},
   "source": [
    "HPO for DTR test data"
   ]
  },
  {
   "cell_type": "code",
   "execution_count": 83,
   "metadata": {},
   "outputs": [],
   "source": [
    "# # Number of trees in random forest\n",
    "# # Number of features to consider at every split\n",
    "# max_features = [int(x) for x in np.linspace(1, 12, num = 11)]\n",
    "# # Maximum number of levels in tree\n",
    "# max_depth = [1,2,3,4,5,6,7,8,9,10,100]\n",
    "# max_depth.append(None)\n",
    "# # max_depth = [None]\n",
    "# # Minimum number of samples required to split a node\n",
    "# min_samples_split = [2, 3,4,5,6,7,8,9,10]\n",
    "# # Minimum number of samples required at each leaf node\n",
    "# min_samples_leaf = [1,2,3,4,5,6,7,8,9,10]\n",
    "# random_grid_dtr = {'max_features': max_features,\n",
    "#                'max_depth': max_depth,\n",
    "#                'min_samples_split': min_samples_split,\n",
    "#                'min_samples_leaf': min_samples_leaf,}\n",
    "# pprint(random_grid_dtr)"
   ]
  },
  {
   "cell_type": "code",
   "execution_count": 84,
   "metadata": {},
   "outputs": [],
   "source": [
    "# dt_random = RandomizedSearchCV(estimator = model_dtr, param_distributions = random_grid_dtr, n_iter = 100, cv = 5, verbose=2, random_state=42,n_jobs=-1)# Fit the dt search model\n",
    "# dt_random.fit(x_train, y_train)"
   ]
  },
  {
   "cell_type": "code",
   "execution_count": 85,
   "metadata": {},
   "outputs": [],
   "source": [
    "# dt_random.best_params_"
   ]
  },
  {
   "cell_type": "code",
   "execution_count": 86,
   "metadata": {},
   "outputs": [],
   "source": [
    "# base_model = model_dtr\n",
    "# base_model.fit(x_train, y_train)\n",
    "# rsquared_base,expVar_base,MAE_base,RMSE_base,MAD_base = evaluate(base_model, x_test, y_test)\n",
    "\n",
    "# best_random = dt_random.best_estimator_\n",
    "# rsquared_random,expVar_random,MAE_random,RMSE_base,MAD_random = evaluate(best_random, x_test, y_test)\n",
    "# print('Improvement of Rsquared {:0.3f}%.'.format( 100 * (rsquared_random - rsquared_base) / rsquared_base))\n",
    "# print('Improvement of explainedVariance {:0.3f}%.'.format( 100 * (expVar_random - expVar_base) / expVar_base))\n",
    "# print('Improvement of MAE {:0.3f}%.'.format( 100 * (MAE_base - MAE_random) / MAE_base)) # MAE is other way around since best score is 0\n",
    "# print('Improvement of RMSE {:0.3f}%.'.format( 100 * (RMSE_base - RMSE_random) / RMSE_base)) # RMSE is other way around since best score is 0\n",
    "# print('Improvement of MAD {:0.3f}%.'.format( 100 * (MAD_base - MAD_random) / MAD_base)) # MAD is other way around since best score is 0"
   ]
  },
  {
   "attachments": {},
   "cell_type": "markdown",
   "metadata": {},
   "source": [
    "ETR"
   ]
  },
  {
   "cell_type": "code",
   "execution_count": 87,
   "metadata": {},
   "outputs": [],
   "source": [
    "# from pprint import pprint\n",
    "# pprint(model_etr.get_params())"
   ]
  },
  {
   "cell_type": "code",
   "execution_count": 88,
   "metadata": {},
   "outputs": [],
   "source": [
    "# from sklearn.model_selection import RandomizedSearchCV\n",
    "# # Number of trees in random forest\n",
    "# n_estimators = [100,200,300,400,500,600,700,800,900,1000]\n",
    "# # n_estimators = [int(x) for x in np.linspace(start = 100, stop = 1000, num = 10)]\n",
    "# # Number of features to consider at every split\n",
    "# max_features = [int(x) for x in np.linspace(1, 12, num = 11)]\n",
    "# # Maximum number of levels in tree\n",
    "# max_depth = [int(x) for x in np.linspace(10, 200, num = 20)]\n",
    "# max_depth.append(None)\n",
    "# # Minimum number of samples required to split a node\n",
    "# min_samples_split = [1,2,3,4,5,6,7,8,9,10]\n",
    "# # Minimum number of samples required at each leaf node\n",
    "# min_samples_leaf = [1, 2, 3,4,5,6,7,8,9,10]\n",
    "# # Method of selecting samples for training each tree\n",
    "# # bootstrap = [True]# Create the random grid\n",
    "# random_grid = {'n_estimators': n_estimators,\n",
    "#                'max_features': max_features,\n",
    "#                'max_depth': max_depth,\n",
    "#                'min_samples_split': min_samples_split,\n",
    "#                'min_samples_leaf': min_samples_leaf}\n",
    "#                #'bootstrap': bootstrap}\n",
    "# pprint(random_grid)"
   ]
  },
  {
   "cell_type": "code",
   "execution_count": 89,
   "metadata": {},
   "outputs": [],
   "source": [
    "# # Random search of parameters, using 3 fold cross validation, \n",
    "# # search across 100 different combinations, and use all available cores\n",
    "# et_random = RandomizedSearchCV(estimator = model_etr, param_distributions = random_grid, n_iter = 100, cv = 5, verbose=2, random_state=1,n_jobs=-1)# Fit the random search model\n",
    "# et_random.fit(x_train, y_train)"
   ]
  },
  {
   "cell_type": "code",
   "execution_count": 90,
   "metadata": {},
   "outputs": [],
   "source": [
    "# et_random.best_params_"
   ]
  },
  {
   "cell_type": "code",
   "execution_count": 91,
   "metadata": {},
   "outputs": [],
   "source": [
    "# def evaluate(model, test_features, test_labels):\n",
    "#     from sklearn.metrics import explained_variance_score,mean_absolute_error,mean_squared_error,median_absolute_error\n",
    "\n",
    "#     predictions = model.predict(test_features)\n",
    "#     rsquared = model.score(test_features,test_labels)\n",
    "#     expVar = explained_variance_score(test_labels,predictions)\n",
    "#     MAE = mean_absolute_error(test_labels,predictions)\n",
    "#     MAD = median_absolute_error(test_labels,predictions)\n",
    "#     RMSE = np.sqrt(mean_squared_error(test_labels,predictions))\n",
    "\n",
    "#     print(f\"Model Performance of {model}\")\n",
    "#     print(f\"R^2: {rsquared:0.4f}\")\n",
    "#     print(f\"explained Variance = {expVar:0.4f}\")\n",
    "#     print(f\"MAE = {MAE:0.4f}\")\n",
    "#     print(f\"RMSE = {RMSE:0.4f}\")\n",
    "#     print(f\"MAD = {MAD:0.4f}\\n\")\n",
    "    \n",
    "#     return rsquared,expVar,MAE,RMSE,MAD\n",
    "\n",
    "# base_model = model_etr\n",
    "# base_model.fit(x_train, y_train)\n",
    "# rsquared_base,expVar_base,MAE_base,RMSE_base,MAD_base = evaluate(base_model, x_test, y_test)\n",
    "\n",
    "# best_random = rf_random.best_estimator_\n",
    "# rsquared_random,expVar_random,MAE_random,RMSE_random,MAD_random = evaluate(best_random, x_test, y_test)\n",
    "# print('Improvement of Rsquared {:0.3f}%.'.format( 100 * (rsquared_random - rsquared_base) / rsquared_base))\n",
    "# print('Improvement of explainedVariance {:0.3f}%.'.format( 100 * (expVar_random - expVar_base) / expVar_base))\n",
    "# print('Improvement of MAE {:0.3f}%.'.format( 100 * (MAE_base - MAE_random) / MAE_base)) # MAE is other way around since best score is 0\n",
    "# print('Improvement of RMSE {:0.3f}%.'.format( 100 * (RMSE_base - RMSE_random) / RMSE_base)) # RMSE is other way around since best score is 0\n",
    "# print('Improvement of MAD {:0.3f}%.'.format( 100 * (MAD_base - MAD_random) / MAD_base)) # MAD is other way around since best score is 0"
   ]
  },
  {
   "attachments": {},
   "cell_type": "markdown",
   "metadata": {},
   "source": [
    "HPO for validation data "
   ]
  },
  {
   "cell_type": "code",
   "execution_count": 92,
   "metadata": {},
   "outputs": [],
   "source": [
    "# dfdate6 = dfdate6.drop(['Unnamed: 0','Time','LON','LAT','Air density above oceans',\n",
    "# 'Surface pressure','Width','Length'],axis=1)\n",
    "# dfdate6.head(n=5)"
   ]
  },
  {
   "cell_type": "code",
   "execution_count": 93,
   "metadata": {},
   "outputs": [],
   "source": [
    "# dfdate6= dfdate6.rename({'Max wave height': 'waveheight', 'Draught': 'draught',\n",
    "#                            'SOG': 'sog', 'Wind Speed': 'windspeed', \n",
    "#                            'True Wind Direction': 'truewinddir','Temperature above oceans' : 'oceantemperature',\n",
    "#                            'COG': 'cog', 'Current Speed' : 'curspeed','True Wave Direction' : 'truewavedir',\n",
    "#                             'Swell period': 'swellperiod','Wind wave period': 'windwaveperiod','Sea surface temperature': 'surftemp',\n",
    "#                             'Combined wind waves and swell height': 'windwaveswellheight','Swell height': 'swellheight','Wind wave height': 'windwaveheight',\n",
    "#                             'Heading': 'heading','True Current Direction': 'truecurrentdir','True Swell Direction': 'trueswelldir',\n",
    "#                             'True Wind Wave Direction': 'truewindwavedir','Wave period': 'waveperiod',\n",
    "#                             'True North Wind Direction' : 'truenorthwinddir' , 'True North Current Direction' : 'truenorthcurrentdir'\n",
    "#                            }, axis=1) "
   ]
  },
  {
   "cell_type": "code",
   "execution_count": 94,
   "metadata": {},
   "outputs": [],
   "source": [
    "# import numpy as np\n",
    "# from sklearn.impute import KNNImputer\n",
    "\n",
    "# imputer = KNNImputer(n_neighbors=50)"
   ]
  },
  {
   "cell_type": "code",
   "execution_count": 95,
   "metadata": {},
   "outputs": [],
   "source": [
    "# dfdate6 = dfdate6[['oceantemperature','waveperiod','surftemp','windwaveswellheight','draught','sog','cog','heading','windspeed','curspeed','truewinddir','truecurrentdir','truewavedir', 'truenorthwinddir' , 'truenorthcurrentdir']]\n"
   ]
  },
  {
   "cell_type": "code",
   "execution_count": 96,
   "metadata": {},
   "outputs": [],
   "source": [
    "# imputer.fit(dfdate6)"
   ]
  },
  {
   "cell_type": "code",
   "execution_count": 97,
   "metadata": {},
   "outputs": [],
   "source": [
    "# xdate = imputer.transform(dfdate6)"
   ]
  },
  {
   "cell_type": "code",
   "execution_count": 98,
   "metadata": {},
   "outputs": [],
   "source": [
    "# dfdate6tr = pd.DataFrame(xdate, columns=dfdate6.columns, index=dfdate6.index)"
   ]
  },
  {
   "cell_type": "code",
   "execution_count": 99,
   "metadata": {},
   "outputs": [],
   "source": [
    "# # x_date = dfdate6tr.drop(['sog','truenorthcurrentdir','truenorthwinddir'],axis=1)\n",
    "# # y_date = dfdate6tr.sog\n",
    "\n",
    "# x_date = dfdate6tr.drop(['sog','truewinddir','truecurrentdir'],axis=1)\n",
    "# y_date = dfdate6tr.sog"
   ]
  },
  {
   "attachments": {},
   "cell_type": "markdown",
   "metadata": {},
   "source": [
    "ETR HPO Validation Data"
   ]
  },
  {
   "cell_type": "code",
   "execution_count": 100,
   "metadata": {},
   "outputs": [],
   "source": [
    "# from pprint import pprint\n",
    "# pprint(model_etr.get_params())"
   ]
  },
  {
   "cell_type": "code",
   "execution_count": 101,
   "metadata": {},
   "outputs": [],
   "source": [
    "# from sklearn.model_selection import RandomizedSearchCV\n",
    "# # Number of trees in random forest\n",
    "# n_estimators = [100,200,300,400,500,600,700,800,900,1000]\n",
    "# # n_estimators = [int(x) for x in np.linspace(start = 100, stop = 1000, num = 10)]\n",
    "# # Number of features to consider at every split\n",
    "# max_features = [int(x) for x in np.linspace(1, 12, num = 11)]\n",
    "# # Maximum number of levels in tree\n",
    "# max_depth = [int(x) for x in np.linspace(10, 200, num = 20)]\n",
    "# max_depth.append(None)\n",
    "# # max_depth = [None]\n",
    "# # Minimum number of samples required to split a node\n",
    "# min_samples_split = [1,2,3,4,5,6,7,8,9,10]\n",
    "# # Minimum number of samples required at each leaf node\n",
    "# min_samples_leaf = [1, 2, 3,4,5,6,7,8,9,10]\n",
    "# # Method of selecting samples for training each tree\n",
    "# # bootstrap = [True]# Create the random grid\n",
    "# random_grid = {'n_estimators': n_estimators,\n",
    "#                #'max_features': max_features,\n",
    "#                'max_depth': max_depth,\n",
    "#                'min_samples_split': min_samples_split,\n",
    "#                'min_samples_leaf': min_samples_leaf}\n",
    "#                #'bootstrap': bootstrap}\n",
    "# pprint(random_grid)"
   ]
  },
  {
   "cell_type": "code",
   "execution_count": 102,
   "metadata": {},
   "outputs": [],
   "source": [
    "# # Random search of parameters, using 3 fold cross validation, \n",
    "# # search across 100 different combinations, and use all available cores\n",
    "# etr_random = RandomizedSearchCV(estimator = model_etr, param_distributions = random_grid, n_iter = 100, cv = 5, verbose=2, random_state=1,n_jobs=-1)# Fit the random search model\n",
    "# etr_random.fit(x_date, y_date)"
   ]
  },
  {
   "cell_type": "code",
   "execution_count": 103,
   "metadata": {},
   "outputs": [],
   "source": [
    "# def evaluate(model, test_features, test_labels):\n",
    "#     from sklearn.metrics import explained_variance_score,mean_absolute_error,mean_squared_error,median_absolute_error\n",
    "\n",
    "#     predictions = model.predict(test_features)\n",
    "#     rsquared = model.score(test_features,test_labels)\n",
    "#     expVar = explained_variance_score(test_labels,predictions)\n",
    "#     MAE = mean_absolute_error(test_labels,predictions)\n",
    "#     MAD = median_absolute_error(test_labels,predictions)\n",
    "#     RMSE = np.sqrt(mean_squared_error(test_labels,predictions))\n",
    "\n",
    "#     print(f\"Model Performance of {model}\")\n",
    "#     print(f\"R^2: {rsquared:0.4f}\")\n",
    "#     print(f\"explained Variance = {expVar:0.4f}\")\n",
    "#     print(f\"MAE = {MAE:0.4f}\")\n",
    "#     print(f\"RMSE = {RMSE:0.4f}\")\n",
    "#     print(f\"MAD = {MAD:0.4f}\\n\")\n",
    "    \n",
    "#     return rsquared,expVar,MAE,RMSE,MAD\n",
    "# base_model = model_etr\n",
    "# base_model.fit(x_train, y_train)\n",
    "# rsquared_base,expVar_base,MAE_base,RMSE_base,MAD_base = evaluate(base_model, x_date, y_date)\n",
    "\n",
    "# etr_best_random = etr_random.best_estimator_\n",
    "# rsquared_random,expVar_random,MAE_random,RMSE_random,MAD_random = evaluate(etr_best_random, x_date, y_date)\n",
    "# print('Improvement of Rsquared {:0.3f}%.'.format( 100 * (rsquared_random - rsquared_base) / rsquared_base))\n",
    "# print('Improvement of explainedVariance {:0.3f}%.'.format( 100 * (expVar_random - expVar_base) / expVar_base))\n",
    "# print('Improvement of MAE {:0.3f}%.'.format( 100 * (MAE_base - MAE_random) / MAE_base)) # MAE is other way around since best score is 0\n",
    "# print('Improvement of RMSE {:0.3f}%.'.format( 100 * (RMSE_base - RMSE_random) / RMSE_base)) # RMSE is other way around since best score is 0\n",
    "# print('Improvement of MAD {:0.3f}%.'.format( 100 * (MAD_base - MAD_random) / MAD_base)) # MAD is other way around since best score is 0"
   ]
  },
  {
   "attachments": {},
   "cell_type": "markdown",
   "metadata": {},
   "source": [
    "RFR HPO Validation"
   ]
  },
  {
   "cell_type": "code",
   "execution_count": 104,
   "metadata": {},
   "outputs": [],
   "source": [
    "# from sklearn.model_selection import RandomizedSearchCV\n",
    "# # Number of trees in random forest\n",
    "# n_estimators = [100,200,300,400,500,600,700,800,900,1000]\n",
    "# # n_estimators = [int(x) for x in np.linspace(start = 100, stop = 1000, num = 10)]\n",
    "# # Number of features to consider at every split\n",
    "# max_features = [int(x) for x in np.linspace(1, 12, num = 11)]\n",
    "# # Maximum number of levels in tree\n",
    "# max_depth = [int(x) for x in np.linspace(10, 200, num = 20)]\n",
    "# max_depth.append(None)\n",
    "# # max_depth = [None]\n",
    "# # Minimum number of samples required to split a node\n",
    "# min_samples_split = [1,2,3,4,5,6,7,8,9,10]\n",
    "# # Minimum number of samples required at each leaf node\n",
    "# min_samples_leaf = [1, 2, 3,4,5,6,7,8,9,10]\n",
    "# # Method of selecting samples for training each tree\n",
    "# # bootstrap = [True]# Create the random grid\n",
    "# random_grid = {'n_estimators': n_estimators,\n",
    "#                #'max_features': max_features,\n",
    "#                'max_depth': max_depth,\n",
    "#                'min_samples_split': min_samples_split,\n",
    "#                'min_samples_leaf': min_samples_leaf}\n",
    "#                #'bootstrap': bootstrap}\n",
    "# pprint(random_grid)"
   ]
  },
  {
   "cell_type": "code",
   "execution_count": 105,
   "metadata": {},
   "outputs": [],
   "source": [
    "# rf_random = RandomizedSearchCV(estimator = model_rfr_ftr, param_distributions = random_grid, n_iter = 100, cv = 5, verbose=2, random_state=42,n_jobs=-1)# Fit the random search model\n",
    "# rf_random.fit(x_date, y_date)"
   ]
  },
  {
   "cell_type": "code",
   "execution_count": 106,
   "metadata": {},
   "outputs": [],
   "source": [
    "# rf_random.best_params_"
   ]
  },
  {
   "cell_type": "code",
   "execution_count": 107,
   "metadata": {},
   "outputs": [],
   "source": [
    "# def evaluate(model, test_features, test_labels):\n",
    "#     from sklearn.metrics import explained_variance_score,mean_absolute_error,mean_squared_error,median_absolute_error\n",
    "\n",
    "#     predictions = model.predict(test_features)\n",
    "#     rsquared = model.score(test_features,test_labels)\n",
    "#     expVar = explained_variance_score(test_labels,predictions)\n",
    "#     MAE = mean_absolute_error(test_labels,predictions)\n",
    "#     MAD = median_absolute_error(test_labels,predictions)\n",
    "#     RMSE = np.sqrt(mean_squared_error(test_labels,predictions))\n",
    "\n",
    "#     print(f\"Model Performance of {model}\")\n",
    "#     print(f\"R^2: {rsquared:0.4f}\")\n",
    "#     print(f\"explained Variance = {expVar:0.4f}\")\n",
    "#     print(f\"MAE = {MAE:0.4f}\")\n",
    "#     print(f\"RMSE = {RMSE:0.4f}\")\n",
    "#     print(f\"MAD = {MAD:0.4f}\\n\")\n",
    "    \n",
    "#     return rsquared,expVar,MAE,RMSE,MAD\n",
    "\n",
    "# base_model = model_rfr_ftr\n",
    "# base_model.fit(x_date, y_date)\n",
    "# rsquared_base,expVar_base,MAE_base,RMSE_base,MAD_base = evaluate(base_model, x_date, y_date)\n",
    "\n",
    "# best_random = rf_random.best_estimator_\n",
    "# # best_random = model_rfr_ftr_hpov\n",
    "# rsquared_random,expVar_random,MAE_random,RMSE_random,MAD_random = evaluate(best_random, x_date, y_date)\n",
    "# print('Improvement of Rsquared {:0.3f}%.'.format( 100 * (rsquared_random - rsquared_base) / rsquared_base))\n",
    "# print('Improvement of explainedVariance {:0.3f}%.'.format( 100 * (expVar_random - expVar_base) / expVar_base))\n",
    "# print('Improvement of MAE {:0.3f}%.'.format( 100 * (MAE_base - MAE_random) / MAE_base)) # MAE is other way around since best score is 0\n",
    "# print('Improvement of RMSE {:0.3f}%.'.format( 100 * (RMSE_base - RMSE_random) / RMSE_base)) # RMSE is other way around since best score is 0\n",
    "# print('Improvement of MAD {:0.3f}%.'.format( 100 * (MAD_base - MAD_random) / MAD_base)) # MAD is other way around since best score is 0"
   ]
  },
  {
   "attachments": {},
   "cell_type": "markdown",
   "metadata": {},
   "source": [
    "DTR HPO Validation data "
   ]
  },
  {
   "cell_type": "code",
   "execution_count": 108,
   "metadata": {},
   "outputs": [],
   "source": [
    "# # Number of trees in random forest\n",
    "# # Number of features to consider at every split\n",
    "# max_features = [int(x) for x in np.linspace(1, 12, num = 11)]\n",
    "# # Maximum number of levels in tree\n",
    "# max_depth = [int(x) for x in np.linspace(10, 200, num = 20)]\n",
    "# max_depth.append(None)\n",
    "# # max_depth = [None]\n",
    "# # Minimum number of samples required to split a node\n",
    "# min_samples_split = [1,2,3,4, 5,6,7,8,9, 10]\n",
    "# # Minimum number of samples required at each leaf node\n",
    "# min_samples_leaf = [1, 2,3,4,5,6,7,8,9,10]\n",
    "# random_grid_dtr = {'max_features': max_features,\n",
    "#                'max_depth': max_depth,\n",
    "#                'min_samples_split': min_samples_split,\n",
    "#                'min_samples_leaf': min_samples_leaf,}\n",
    "# pprint(random_grid_dtr)"
   ]
  },
  {
   "cell_type": "code",
   "execution_count": 109,
   "metadata": {},
   "outputs": [],
   "source": [
    "# dt_random = RandomizedSearchCV(estimator = model_dtr, param_distributions = random_grid_dtr, n_iter = 100, cv = 5, verbose=2, random_state=42,n_jobs=-1)# Fit the dt search model\n",
    "# dt_random.fit(x_date, y_date)"
   ]
  },
  {
   "cell_type": "code",
   "execution_count": 110,
   "metadata": {},
   "outputs": [],
   "source": [
    "# dt_random.best_params_"
   ]
  },
  {
   "cell_type": "code",
   "execution_count": 111,
   "metadata": {},
   "outputs": [],
   "source": [
    "# base_model = model_dtr\n",
    "# base_model.fit(x_train, y_train)\n",
    "# rsquared_base,expVar_base,MAE_base,RMSE_base,MAD_base = evaluate(base_model, x_date, y_date)\n",
    "\n",
    "# best_random = dt_random.best_estimator_\n",
    "# rsquared_random,expVar_random,MAE_random,RMSE_base,MAD_random = evaluate(best_random, x_date, y_date)\n",
    "# print('Improvement of Rsquared {:0.3f}%.'.format( 100 * (rsquared_random - rsquared_base) / rsquared_base))\n",
    "# print('Improvement of explainedVariance {:0.3f}%.'.format( 100 * (expVar_random - expVar_base) / expVar_base))\n",
    "# print('Improvement of MAE {:0.3f}%.'.format( 100 * (MAE_base - MAE_random) / MAE_base)) # MAE is other way around since best score is 0\n",
    "# print('Improvement of RMSE {:0.3f}%.'.format( 100 * (RMSE_base - RMSE_random) / RMSE_base)) # RMSE is other way around since best score is 0\n",
    "# print('Improvement of MAD {:0.3f}%.'.format( 100 * (MAD_base - MAD_random) / MAD_base)) # MAD is other way around since best score is 0"
   ]
  },
  {
   "cell_type": "code",
   "execution_count": 112,
   "metadata": {},
   "outputs": [],
   "source": [
    "# print(dt_random.best_estimator_)"
   ]
  }
 ],
 "metadata": {
  "kernelspec": {
   "display_name": "geron1",
   "language": "python",
   "name": "python3"
  },
  "language_info": {
   "codemirror_mode": {
    "name": "ipython",
    "version": 3
   },
   "file_extension": ".py",
   "mimetype": "text/x-python",
   "name": "python",
   "nbconvert_exporter": "python",
   "pygments_lexer": "ipython3",
   "version": "3.9.15"
  },
  "orig_nbformat": 4
 },
 "nbformat": 4,
 "nbformat_minor": 2
}
