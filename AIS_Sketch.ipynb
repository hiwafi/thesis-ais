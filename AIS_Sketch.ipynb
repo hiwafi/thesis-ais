{
 "cells": [
  {
   "cell_type": "code",
   "execution_count": 1,
   "metadata": {},
   "outputs": [
    {
     "data": {
      "text/html": [
       "<div>\n",
       "<style scoped>\n",
       "    .dataframe tbody tr th:only-of-type {\n",
       "        vertical-align: middle;\n",
       "    }\n",
       "\n",
       "    .dataframe tbody tr th {\n",
       "        vertical-align: top;\n",
       "    }\n",
       "\n",
       "    .dataframe thead th {\n",
       "        text-align: right;\n",
       "    }\n",
       "</style>\n",
       "<table border=\"1\" class=\"dataframe\">\n",
       "  <thead>\n",
       "    <tr style=\"text-align: right;\">\n",
       "      <th></th>\n",
       "      <th>Unnamed: 0</th>\n",
       "      <th>Time</th>\n",
       "      <th>LON</th>\n",
       "      <th>LAT</th>\n",
       "      <th>Temperature above oceans [K]</th>\n",
       "      <th>Air density above oceans [kg/m^3]</th>\n",
       "      <th>Max wave height [m]</th>\n",
       "      <th>Swell period [deg]</th>\n",
       "      <th>Wind wave period [s]</th>\n",
       "      <th>Wave period [s]</th>\n",
       "      <th>...</th>\n",
       "      <th>SOG [knot]</th>\n",
       "      <th>COG [deg]</th>\n",
       "      <th>Heading [deg]</th>\n",
       "      <th>Wind Speed [m/s]</th>\n",
       "      <th>Current Speed [m/s]</th>\n",
       "      <th>True Wind Direction [deg]</th>\n",
       "      <th>True Current Direction [deg]</th>\n",
       "      <th>True Swell Direction [deg]</th>\n",
       "      <th>True Wind Wave Direction [deg]</th>\n",
       "      <th>True Wave Direction [deg]</th>\n",
       "    </tr>\n",
       "  </thead>\n",
       "  <tbody>\n",
       "    <tr>\n",
       "      <th>0</th>\n",
       "      <td>0</td>\n",
       "      <td>01/01/2021 00:00</td>\n",
       "      <td>14.689663</td>\n",
       "      <td>55.098452</td>\n",
       "      <td>277.311035</td>\n",
       "      <td>1.259323</td>\n",
       "      <td>1.893614</td>\n",
       "      <td>4.818881</td>\n",
       "      <td>3.818459</td>\n",
       "      <td>4.154329</td>\n",
       "      <td>...</td>\n",
       "      <td>0.0</td>\n",
       "      <td>358.9</td>\n",
       "      <td>174.0</td>\n",
       "      <td>7.112664</td>\n",
       "      <td>0.122270</td>\n",
       "      <td>155.408180</td>\n",
       "      <td>105.591753</td>\n",
       "      <td>22.854050</td>\n",
       "      <td>22.749664</td>\n",
       "      <td>22.610062</td>\n",
       "    </tr>\n",
       "    <tr>\n",
       "      <th>1</th>\n",
       "      <td>1</td>\n",
       "      <td>01/01/2021 01:00</td>\n",
       "      <td>14.689659</td>\n",
       "      <td>55.098451</td>\n",
       "      <td>277.328369</td>\n",
       "      <td>1.259985</td>\n",
       "      <td>1.752303</td>\n",
       "      <td>4.755800</td>\n",
       "      <td>3.470216</td>\n",
       "      <td>4.130580</td>\n",
       "      <td>...</td>\n",
       "      <td>0.0</td>\n",
       "      <td>358.9</td>\n",
       "      <td>174.0</td>\n",
       "      <td>6.653538</td>\n",
       "      <td>0.122270</td>\n",
       "      <td>158.458891</td>\n",
       "      <td>105.591753</td>\n",
       "      <td>26.122772</td>\n",
       "      <td>19.152008</td>\n",
       "      <td>22.209274</td>\n",
       "    </tr>\n",
       "    <tr>\n",
       "      <th>2</th>\n",
       "      <td>2</td>\n",
       "      <td>01/01/2021 02:00</td>\n",
       "      <td>14.689648</td>\n",
       "      <td>55.098468</td>\n",
       "      <td>277.390625</td>\n",
       "      <td>1.260244</td>\n",
       "      <td>1.619775</td>\n",
       "      <td>4.645083</td>\n",
       "      <td>3.259682</td>\n",
       "      <td>4.083755</td>\n",
       "      <td>...</td>\n",
       "      <td>0.0</td>\n",
       "      <td>358.9</td>\n",
       "      <td>174.0</td>\n",
       "      <td>6.488697</td>\n",
       "      <td>0.099846</td>\n",
       "      <td>163.749663</td>\n",
       "      <td>116.740448</td>\n",
       "      <td>28.498383</td>\n",
       "      <td>12.424912</td>\n",
       "      <td>20.857971</td>\n",
       "    </tr>\n",
       "    <tr>\n",
       "      <th>3</th>\n",
       "      <td>3</td>\n",
       "      <td>01/01/2021 03:00</td>\n",
       "      <td>14.689646</td>\n",
       "      <td>55.098471</td>\n",
       "      <td>277.411377</td>\n",
       "      <td>1.260148</td>\n",
       "      <td>1.518736</td>\n",
       "      <td>4.588384</td>\n",
       "      <td>3.177906</td>\n",
       "      <td>4.010502</td>\n",
       "      <td>...</td>\n",
       "      <td>0.0</td>\n",
       "      <td>358.9</td>\n",
       "      <td>174.0</td>\n",
       "      <td>6.104632</td>\n",
       "      <td>0.099846</td>\n",
       "      <td>170.724504</td>\n",
       "      <td>116.740448</td>\n",
       "      <td>29.956985</td>\n",
       "      <td>6.725922</td>\n",
       "      <td>18.732071</td>\n",
       "    </tr>\n",
       "    <tr>\n",
       "      <th>4</th>\n",
       "      <td>4</td>\n",
       "      <td>01/01/2021 04:00</td>\n",
       "      <td>14.689644</td>\n",
       "      <td>55.098462</td>\n",
       "      <td>277.430664</td>\n",
       "      <td>1.260634</td>\n",
       "      <td>1.455034</td>\n",
       "      <td>4.528841</td>\n",
       "      <td>3.281654</td>\n",
       "      <td>3.913362</td>\n",
       "      <td>...</td>\n",
       "      <td>0.0</td>\n",
       "      <td>358.9</td>\n",
       "      <td>174.0</td>\n",
       "      <td>6.181707</td>\n",
       "      <td>0.099846</td>\n",
       "      <td>179.505940</td>\n",
       "      <td>116.740448</td>\n",
       "      <td>34.486298</td>\n",
       "      <td>3.761627</td>\n",
       "      <td>15.731430</td>\n",
       "    </tr>\n",
       "  </tbody>\n",
       "</table>\n",
       "<p>5 rows × 28 columns</p>\n",
       "</div>"
      ],
      "text/plain": [
       "   Unnamed: 0              Time        LON        LAT  \\\n",
       "0           0  01/01/2021 00:00  14.689663  55.098452   \n",
       "1           1  01/01/2021 01:00  14.689659  55.098451   \n",
       "2           2  01/01/2021 02:00  14.689648  55.098468   \n",
       "3           3  01/01/2021 03:00  14.689646  55.098471   \n",
       "4           4  01/01/2021 04:00  14.689644  55.098462   \n",
       "\n",
       "   Temperature above oceans [K]  Air density above oceans [kg/m^3]  \\\n",
       "0                    277.311035                           1.259323   \n",
       "1                    277.328369                           1.259985   \n",
       "2                    277.390625                           1.260244   \n",
       "3                    277.411377                           1.260148   \n",
       "4                    277.430664                           1.260634   \n",
       "\n",
       "   Max wave height [m]  Swell period [deg]  Wind wave period [s]  \\\n",
       "0             1.893614            4.818881              3.818459   \n",
       "1             1.752303            4.755800              3.470216   \n",
       "2             1.619775            4.645083              3.259682   \n",
       "3             1.518736            4.588384              3.177906   \n",
       "4             1.455034            4.528841              3.281654   \n",
       "\n",
       "   Wave period [s]  ...  SOG [knot]  COG [deg]  Heading [deg]  \\\n",
       "0         4.154329  ...         0.0      358.9          174.0   \n",
       "1         4.130580  ...         0.0      358.9          174.0   \n",
       "2         4.083755  ...         0.0      358.9          174.0   \n",
       "3         4.010502  ...         0.0      358.9          174.0   \n",
       "4         3.913362  ...         0.0      358.9          174.0   \n",
       "\n",
       "   Wind Speed [m/s]  Current Speed [m/s]  True Wind Direction [deg]  \\\n",
       "0          7.112664             0.122270                 155.408180   \n",
       "1          6.653538             0.122270                 158.458891   \n",
       "2          6.488697             0.099846                 163.749663   \n",
       "3          6.104632             0.099846                 170.724504   \n",
       "4          6.181707             0.099846                 179.505940   \n",
       "\n",
       "   True Current Direction [deg]  True Swell Direction [deg]  \\\n",
       "0                    105.591753                   22.854050   \n",
       "1                    105.591753                   26.122772   \n",
       "2                    116.740448                   28.498383   \n",
       "3                    116.740448                   29.956985   \n",
       "4                    116.740448                   34.486298   \n",
       "\n",
       "   True Wind Wave Direction [deg]  True Wave Direction [deg]  \n",
       "0                       22.749664                  22.610062  \n",
       "1                       19.152008                  22.209274  \n",
       "2                       12.424912                  20.857971  \n",
       "3                        6.725922                  18.732071  \n",
       "4                        3.761627                  15.731430  \n",
       "\n",
       "[5 rows x 28 columns]"
      ]
     },
     "execution_count": 1,
     "metadata": {},
     "output_type": "execute_result"
    }
   ],
   "source": [
    "import pandas as pd\n",
    "from matplotlib import pyplot\n",
    "df = pd.read_csv(\"AIS_Clean_001.csv\")\n",
    "df.head(n=5)\n",
    "\n",
    "# This is test command to check git \n",
    "# this is test command to check merge main to laptopver I guess"
   ]
  },
  {
   "cell_type": "code",
   "execution_count": 2,
   "metadata": {},
   "outputs": [
    {
     "data": {
      "text/html": [
       "<div>\n",
       "<style scoped>\n",
       "    .dataframe tbody tr th:only-of-type {\n",
       "        vertical-align: middle;\n",
       "    }\n",
       "\n",
       "    .dataframe tbody tr th {\n",
       "        vertical-align: top;\n",
       "    }\n",
       "\n",
       "    .dataframe thead th {\n",
       "        text-align: right;\n",
       "    }\n",
       "</style>\n",
       "<table border=\"1\" class=\"dataframe\">\n",
       "  <thead>\n",
       "    <tr style=\"text-align: right;\">\n",
       "      <th></th>\n",
       "      <th>Max wave height [m]</th>\n",
       "      <th>Draught [m]</th>\n",
       "      <th>SOG [knot]</th>\n",
       "      <th>Wind Speed [m/s]</th>\n",
       "      <th>True Wind Direction [deg]</th>\n",
       "    </tr>\n",
       "  </thead>\n",
       "  <tbody>\n",
       "    <tr>\n",
       "      <th>0</th>\n",
       "      <td>1.893614</td>\n",
       "      <td>5.026295</td>\n",
       "      <td>0.0</td>\n",
       "      <td>7.112664</td>\n",
       "      <td>155.408180</td>\n",
       "    </tr>\n",
       "    <tr>\n",
       "      <th>1</th>\n",
       "      <td>1.752303</td>\n",
       "      <td>5.013148</td>\n",
       "      <td>0.0</td>\n",
       "      <td>6.653538</td>\n",
       "      <td>158.458891</td>\n",
       "    </tr>\n",
       "    <tr>\n",
       "      <th>2</th>\n",
       "      <td>1.619775</td>\n",
       "      <td>5.021913</td>\n",
       "      <td>0.0</td>\n",
       "      <td>6.488697</td>\n",
       "      <td>163.749663</td>\n",
       "    </tr>\n",
       "    <tr>\n",
       "      <th>3</th>\n",
       "      <td>1.518736</td>\n",
       "      <td>5.007304</td>\n",
       "      <td>0.0</td>\n",
       "      <td>6.104632</td>\n",
       "      <td>170.724504</td>\n",
       "    </tr>\n",
       "    <tr>\n",
       "      <th>4</th>\n",
       "      <td>1.455034</td>\n",
       "      <td>5.007889</td>\n",
       "      <td>0.0</td>\n",
       "      <td>6.181707</td>\n",
       "      <td>179.505940</td>\n",
       "    </tr>\n",
       "  </tbody>\n",
       "</table>\n",
       "</div>"
      ],
      "text/plain": [
       "   Max wave height [m]  Draught [m]  SOG [knot]  Wind Speed [m/s]  \\\n",
       "0             1.893614     5.026295         0.0          7.112664   \n",
       "1             1.752303     5.013148         0.0          6.653538   \n",
       "2             1.619775     5.021913         0.0          6.488697   \n",
       "3             1.518736     5.007304         0.0          6.104632   \n",
       "4             1.455034     5.007889         0.0          6.181707   \n",
       "\n",
       "   True Wind Direction [deg]  \n",
       "0                 155.408180  \n",
       "1                 158.458891  \n",
       "2                 163.749663  \n",
       "3                 170.724504  \n",
       "4                 179.505940  "
      ]
     },
     "execution_count": 2,
     "metadata": {},
     "output_type": "execute_result"
    }
   ],
   "source": [
    "# Master Drop, vary from here \n",
    "#df_ship = df.drop(['Unnamed: 0','Time','LON','LAT','Temperature above oceans [K]','Air density above oceans [kg/m^3]','Max wave height [m]',\n",
    "#'Swell period [deg]','Wind wave period [s]','Wave period [s]','Sea surface temperature [K]','Combined wind waves and swell height [m]','Swell height [m]',\n",
    "#'Wind wave height [m]','Surface pressure [Pa]','Draught [m]','Width [m]','Length [m]','SOG [knot]','COG [deg]','Heading [deg]','Wind Speed [m/s]','Current Speed [m/s]'\n",
    "#,'True Wind Direction [deg]','True Current Direction [deg]','True Swell Direction [deg]','True Wind Wave Direction [deg]','True Wave Direction [deg]'],axis=1)\n",
    "#df_ship.head(n=5)\n",
    "\n",
    "df_ship = df.drop(['Unnamed: 0','Time','LON','LAT','Temperature above oceans [K]','Air density above oceans [kg/m^3]',\n",
    "'Swell period [deg]','Wind wave period [s]','Wave period [s]','Sea surface temperature [K]','Combined wind waves and swell height [m]','Swell height [m]',\n",
    "'Wind wave height [m]','Surface pressure [Pa]','Width [m]','Length [m]','COG [deg]','Heading [deg]','Current Speed [m/s]'\n",
    ",'True Current Direction [deg]','True Swell Direction [deg]','True Wind Wave Direction [deg]','True Wave Direction [deg]'],axis=1)\n",
    "df_ship.head(n=5)"
   ]
  },
  {
   "cell_type": "code",
   "execution_count": 3,
   "metadata": {},
   "outputs": [
    {
     "data": {
      "text/plain": [
       "True"
      ]
     },
     "execution_count": 3,
     "metadata": {},
     "output_type": "execute_result"
    }
   ],
   "source": [
    "df_ship['Max wave height [m]'].isnull().values.any()"
   ]
  },
  {
   "cell_type": "code",
   "execution_count": 4,
   "metadata": {},
   "outputs": [
    {
     "data": {
      "text/plain": [
       "False"
      ]
     },
     "execution_count": 4,
     "metadata": {},
     "output_type": "execute_result"
    }
   ],
   "source": [
    "df_ship['Draught [m]'].isnull().values.any()"
   ]
  },
  {
   "cell_type": "code",
   "execution_count": 5,
   "metadata": {},
   "outputs": [
    {
     "data": {
      "text/plain": [
       "False"
      ]
     },
     "execution_count": 5,
     "metadata": {},
     "output_type": "execute_result"
    }
   ],
   "source": [
    "df_ship['SOG [knot]'].isnull().values.any()"
   ]
  },
  {
   "cell_type": "code",
   "execution_count": 6,
   "metadata": {},
   "outputs": [
    {
     "data": {
      "text/plain": [
       "False"
      ]
     },
     "execution_count": 6,
     "metadata": {},
     "output_type": "execute_result"
    }
   ],
   "source": [
    "df_ship['Wind Speed [m/s]'].isnull().values.any()"
   ]
  },
  {
   "cell_type": "code",
   "execution_count": 7,
   "metadata": {},
   "outputs": [
    {
     "data": {
      "text/plain": [
       "False"
      ]
     },
     "execution_count": 7,
     "metadata": {},
     "output_type": "execute_result"
    }
   ],
   "source": [
    "df_ship['True Wind Direction [deg]'].isnull().values.any()"
   ]
  },
  {
   "cell_type": "code",
   "execution_count": 8,
   "metadata": {},
   "outputs": [
    {
     "data": {
      "text/html": [
       "<div>\n",
       "<style scoped>\n",
       "    .dataframe tbody tr th:only-of-type {\n",
       "        vertical-align: middle;\n",
       "    }\n",
       "\n",
       "    .dataframe tbody tr th {\n",
       "        vertical-align: top;\n",
       "    }\n",
       "\n",
       "    .dataframe thead th {\n",
       "        text-align: right;\n",
       "    }\n",
       "</style>\n",
       "<table border=\"1\" class=\"dataframe\">\n",
       "  <thead>\n",
       "    <tr style=\"text-align: right;\">\n",
       "      <th></th>\n",
       "      <th>Max wave height [m]</th>\n",
       "      <th>Draught [m]</th>\n",
       "      <th>SOG [knot]</th>\n",
       "      <th>Wind Speed [m/s]</th>\n",
       "      <th>True Wind Direction [deg]</th>\n",
       "    </tr>\n",
       "  </thead>\n",
       "  <tbody>\n",
       "    <tr>\n",
       "      <th>19</th>\n",
       "      <td>NaN</td>\n",
       "      <td>5.021508</td>\n",
       "      <td>17.132163</td>\n",
       "      <td>2.114903</td>\n",
       "      <td>132.389674</td>\n",
       "    </tr>\n",
       "    <tr>\n",
       "      <th>20</th>\n",
       "      <td>NaN</td>\n",
       "      <td>5.017637</td>\n",
       "      <td>13.247561</td>\n",
       "      <td>1.355415</td>\n",
       "      <td>162.040942</td>\n",
       "    </tr>\n",
       "    <tr>\n",
       "      <th>21</th>\n",
       "      <td>NaN</td>\n",
       "      <td>5.018809</td>\n",
       "      <td>0.000000</td>\n",
       "      <td>1.201698</td>\n",
       "      <td>47.531006</td>\n",
       "    </tr>\n",
       "    <tr>\n",
       "      <th>22</th>\n",
       "      <td>NaN</td>\n",
       "      <td>5.021336</td>\n",
       "      <td>0.645104</td>\n",
       "      <td>1.369772</td>\n",
       "      <td>39.151627</td>\n",
       "    </tr>\n",
       "    <tr>\n",
       "      <th>45</th>\n",
       "      <td>NaN</td>\n",
       "      <td>5.289814</td>\n",
       "      <td>2.646829</td>\n",
       "      <td>2.579900</td>\n",
       "      <td>100.017118</td>\n",
       "    </tr>\n",
       "    <tr>\n",
       "      <th>...</th>\n",
       "      <td>...</td>\n",
       "      <td>...</td>\n",
       "      <td>...</td>\n",
       "      <td>...</td>\n",
       "      <td>...</td>\n",
       "    </tr>\n",
       "    <tr>\n",
       "      <th>7404</th>\n",
       "      <td>NaN</td>\n",
       "      <td>5.199688</td>\n",
       "      <td>8.630372</td>\n",
       "      <td>4.962771</td>\n",
       "      <td>103.131107</td>\n",
       "    </tr>\n",
       "    <tr>\n",
       "      <th>7424</th>\n",
       "      <td>NaN</td>\n",
       "      <td>5.109646</td>\n",
       "      <td>17.635782</td>\n",
       "      <td>6.850325</td>\n",
       "      <td>150.653268</td>\n",
       "    </tr>\n",
       "    <tr>\n",
       "      <th>7426</th>\n",
       "      <td>NaN</td>\n",
       "      <td>5.108047</td>\n",
       "      <td>2.543046</td>\n",
       "      <td>7.015732</td>\n",
       "      <td>83.878543</td>\n",
       "    </tr>\n",
       "    <tr>\n",
       "      <th>7427</th>\n",
       "      <td>NaN</td>\n",
       "      <td>5.109370</td>\n",
       "      <td>0.000000</td>\n",
       "      <td>7.135836</td>\n",
       "      <td>48.906867</td>\n",
       "    </tr>\n",
       "    <tr>\n",
       "      <th>7428</th>\n",
       "      <td>NaN</td>\n",
       "      <td>5.084934</td>\n",
       "      <td>8.978287</td>\n",
       "      <td>7.261386</td>\n",
       "      <td>40.311822</td>\n",
       "    </tr>\n",
       "  </tbody>\n",
       "</table>\n",
       "<p>1179 rows × 5 columns</p>\n",
       "</div>"
      ],
      "text/plain": [
       "      Max wave height [m]  Draught [m]  SOG [knot]  Wind Speed [m/s]  \\\n",
       "19                    NaN     5.021508   17.132163          2.114903   \n",
       "20                    NaN     5.017637   13.247561          1.355415   \n",
       "21                    NaN     5.018809    0.000000          1.201698   \n",
       "22                    NaN     5.021336    0.645104          1.369772   \n",
       "45                    NaN     5.289814    2.646829          2.579900   \n",
       "...                   ...          ...         ...               ...   \n",
       "7404                  NaN     5.199688    8.630372          4.962771   \n",
       "7424                  NaN     5.109646   17.635782          6.850325   \n",
       "7426                  NaN     5.108047    2.543046          7.015732   \n",
       "7427                  NaN     5.109370    0.000000          7.135836   \n",
       "7428                  NaN     5.084934    8.978287          7.261386   \n",
       "\n",
       "      True Wind Direction [deg]  \n",
       "19                   132.389674  \n",
       "20                   162.040942  \n",
       "21                    47.531006  \n",
       "22                    39.151627  \n",
       "45                   100.017118  \n",
       "...                         ...  \n",
       "7404                 103.131107  \n",
       "7424                 150.653268  \n",
       "7426                  83.878543  \n",
       "7427                  48.906867  \n",
       "7428                  40.311822  \n",
       "\n",
       "[1179 rows x 5 columns]"
      ]
     },
     "execution_count": 8,
     "metadata": {},
     "output_type": "execute_result"
    }
   ],
   "source": [
    "df_ship[df_ship['Max wave height [m]'].isna()]"
   ]
  },
  {
   "cell_type": "code",
   "execution_count": 9,
   "metadata": {},
   "outputs": [],
   "source": [
    "df_ship2 = df_ship.rename({'Max wave height [m]': 'waveheight', 'Draught [m]': 'draught',\n",
    "                           'SOG [knot]': 'sog', 'Wind Speed [m/s]': 'windspeed', \n",
    "                           'True Wind Direction [deg]': 'truewinddir'}, axis=1) "
   ]
  },
  {
   "cell_type": "code",
   "execution_count": 10,
   "metadata": {},
   "outputs": [
    {
     "data": {
      "text/html": [
       "<div>\n",
       "<style scoped>\n",
       "    .dataframe tbody tr th:only-of-type {\n",
       "        vertical-align: middle;\n",
       "    }\n",
       "\n",
       "    .dataframe tbody tr th {\n",
       "        vertical-align: top;\n",
       "    }\n",
       "\n",
       "    .dataframe thead th {\n",
       "        text-align: right;\n",
       "    }\n",
       "</style>\n",
       "<table border=\"1\" class=\"dataframe\">\n",
       "  <thead>\n",
       "    <tr style=\"text-align: right;\">\n",
       "      <th></th>\n",
       "      <th>waveheight</th>\n",
       "      <th>draught</th>\n",
       "      <th>sog</th>\n",
       "      <th>windspeed</th>\n",
       "      <th>truewinddir</th>\n",
       "    </tr>\n",
       "  </thead>\n",
       "  <tbody>\n",
       "    <tr>\n",
       "      <th>0</th>\n",
       "      <td>1.893614</td>\n",
       "      <td>5.026295</td>\n",
       "      <td>0.0</td>\n",
       "      <td>7.112664</td>\n",
       "      <td>155.408180</td>\n",
       "    </tr>\n",
       "    <tr>\n",
       "      <th>1</th>\n",
       "      <td>1.752303</td>\n",
       "      <td>5.013148</td>\n",
       "      <td>0.0</td>\n",
       "      <td>6.653538</td>\n",
       "      <td>158.458891</td>\n",
       "    </tr>\n",
       "    <tr>\n",
       "      <th>2</th>\n",
       "      <td>1.619775</td>\n",
       "      <td>5.021913</td>\n",
       "      <td>0.0</td>\n",
       "      <td>6.488697</td>\n",
       "      <td>163.749663</td>\n",
       "    </tr>\n",
       "    <tr>\n",
       "      <th>3</th>\n",
       "      <td>1.518736</td>\n",
       "      <td>5.007304</td>\n",
       "      <td>0.0</td>\n",
       "      <td>6.104632</td>\n",
       "      <td>170.724504</td>\n",
       "    </tr>\n",
       "    <tr>\n",
       "      <th>4</th>\n",
       "      <td>1.455034</td>\n",
       "      <td>5.007889</td>\n",
       "      <td>0.0</td>\n",
       "      <td>6.181707</td>\n",
       "      <td>179.505940</td>\n",
       "    </tr>\n",
       "  </tbody>\n",
       "</table>\n",
       "</div>"
      ],
      "text/plain": [
       "   waveheight   draught  sog  windspeed  truewinddir\n",
       "0    1.893614  5.026295  0.0   7.112664   155.408180\n",
       "1    1.752303  5.013148  0.0   6.653538   158.458891\n",
       "2    1.619775  5.021913  0.0   6.488697   163.749663\n",
       "3    1.518736  5.007304  0.0   6.104632   170.724504\n",
       "4    1.455034  5.007889  0.0   6.181707   179.505940"
      ]
     },
     "execution_count": 10,
     "metadata": {},
     "output_type": "execute_result"
    }
   ],
   "source": [
    "df_ship2.head(n=5)"
   ]
  },
  {
   "cell_type": "code",
   "execution_count": 11,
   "metadata": {},
   "outputs": [
    {
     "data": {
      "text/html": [
       "<div>\n",
       "<style scoped>\n",
       "    .dataframe tbody tr th:only-of-type {\n",
       "        vertical-align: middle;\n",
       "    }\n",
       "\n",
       "    .dataframe tbody tr th {\n",
       "        vertical-align: top;\n",
       "    }\n",
       "\n",
       "    .dataframe thead th {\n",
       "        text-align: right;\n",
       "    }\n",
       "</style>\n",
       "<table border=\"1\" class=\"dataframe\">\n",
       "  <thead>\n",
       "    <tr style=\"text-align: right;\">\n",
       "      <th></th>\n",
       "      <th>waveheight</th>\n",
       "      <th>draught</th>\n",
       "      <th>sog</th>\n",
       "      <th>windspeed</th>\n",
       "      <th>truewinddir</th>\n",
       "    </tr>\n",
       "  </thead>\n",
       "  <tbody>\n",
       "    <tr>\n",
       "      <th>0</th>\n",
       "      <td>1.893614</td>\n",
       "      <td>5.026295</td>\n",
       "      <td>0.000000</td>\n",
       "      <td>7.112664</td>\n",
       "      <td>155.408180</td>\n",
       "    </tr>\n",
       "    <tr>\n",
       "      <th>1</th>\n",
       "      <td>1.752303</td>\n",
       "      <td>5.013148</td>\n",
       "      <td>0.000000</td>\n",
       "      <td>6.653538</td>\n",
       "      <td>158.458891</td>\n",
       "    </tr>\n",
       "    <tr>\n",
       "      <th>2</th>\n",
       "      <td>1.619775</td>\n",
       "      <td>5.021913</td>\n",
       "      <td>0.000000</td>\n",
       "      <td>6.488697</td>\n",
       "      <td>163.749663</td>\n",
       "    </tr>\n",
       "    <tr>\n",
       "      <th>3</th>\n",
       "      <td>1.518736</td>\n",
       "      <td>5.007304</td>\n",
       "      <td>0.000000</td>\n",
       "      <td>6.104632</td>\n",
       "      <td>170.724504</td>\n",
       "    </tr>\n",
       "    <tr>\n",
       "      <th>4</th>\n",
       "      <td>1.455034</td>\n",
       "      <td>5.007889</td>\n",
       "      <td>0.000000</td>\n",
       "      <td>6.181707</td>\n",
       "      <td>179.505940</td>\n",
       "    </tr>\n",
       "    <tr>\n",
       "      <th>5</th>\n",
       "      <td>1.449675</td>\n",
       "      <td>5.016434</td>\n",
       "      <td>0.000000</td>\n",
       "      <td>7.010625</td>\n",
       "      <td>176.640877</td>\n",
       "    </tr>\n",
       "    <tr>\n",
       "      <th>6</th>\n",
       "      <td>1.518332</td>\n",
       "      <td>5.021130</td>\n",
       "      <td>0.000000</td>\n",
       "      <td>7.710115</td>\n",
       "      <td>176.708409</td>\n",
       "    </tr>\n",
       "    <tr>\n",
       "      <th>7</th>\n",
       "      <td>1.623140</td>\n",
       "      <td>5.014087</td>\n",
       "      <td>0.000000</td>\n",
       "      <td>8.037884</td>\n",
       "      <td>179.497847</td>\n",
       "    </tr>\n",
       "    <tr>\n",
       "      <th>8</th>\n",
       "      <td>1.661038</td>\n",
       "      <td>5.017723</td>\n",
       "      <td>14.578394</td>\n",
       "      <td>7.648595</td>\n",
       "      <td>91.133175</td>\n",
       "    </tr>\n",
       "    <tr>\n",
       "      <th>9</th>\n",
       "      <td>1.501637</td>\n",
       "      <td>5.019207</td>\n",
       "      <td>18.148696</td>\n",
       "      <td>6.700397</td>\n",
       "      <td>68.884377</td>\n",
       "    </tr>\n",
       "  </tbody>\n",
       "</table>\n",
       "</div>"
      ],
      "text/plain": [
       "   waveheight   draught        sog  windspeed  truewinddir\n",
       "0    1.893614  5.026295   0.000000   7.112664   155.408180\n",
       "1    1.752303  5.013148   0.000000   6.653538   158.458891\n",
       "2    1.619775  5.021913   0.000000   6.488697   163.749663\n",
       "3    1.518736  5.007304   0.000000   6.104632   170.724504\n",
       "4    1.455034  5.007889   0.000000   6.181707   179.505940\n",
       "5    1.449675  5.016434   0.000000   7.010625   176.640877\n",
       "6    1.518332  5.021130   0.000000   7.710115   176.708409\n",
       "7    1.623140  5.014087   0.000000   8.037884   179.497847\n",
       "8    1.661038  5.017723  14.578394   7.648595    91.133175\n",
       "9    1.501637  5.019207  18.148696   6.700397    68.884377"
      ]
     },
     "execution_count": 11,
     "metadata": {},
     "output_type": "execute_result"
    }
   ],
   "source": [
    "# Replace NaN value with the median \n",
    "df_ship2.waveheight = df_ship2.waveheight.fillna(df_ship2.waveheight.mean())\n",
    "df_ship2.head(n=10)"
   ]
  },
  {
   "cell_type": "code",
   "execution_count": 12,
   "metadata": {},
   "outputs": [
    {
     "data": {
      "text/plain": [
       "False"
      ]
     },
     "execution_count": 12,
     "metadata": {},
     "output_type": "execute_result"
    }
   ],
   "source": [
    "df_ship2['waveheight'].isnull().values.any()"
   ]
  },
  {
   "cell_type": "code",
   "execution_count": 13,
   "metadata": {},
   "outputs": [
    {
     "data": {
      "text/html": [
       "<div>\n",
       "<style scoped>\n",
       "    .dataframe tbody tr th:only-of-type {\n",
       "        vertical-align: middle;\n",
       "    }\n",
       "\n",
       "    .dataframe tbody tr th {\n",
       "        vertical-align: top;\n",
       "    }\n",
       "\n",
       "    .dataframe thead th {\n",
       "        text-align: right;\n",
       "    }\n",
       "</style>\n",
       "<table border=\"1\" class=\"dataframe\">\n",
       "  <thead>\n",
       "    <tr style=\"text-align: right;\">\n",
       "      <th></th>\n",
       "      <th>waveheight</th>\n",
       "      <th>draught</th>\n",
       "      <th>sog</th>\n",
       "      <th>windspeed</th>\n",
       "      <th>truewinddir</th>\n",
       "      <th>sog_cat</th>\n",
       "    </tr>\n",
       "  </thead>\n",
       "  <tbody>\n",
       "    <tr>\n",
       "      <th>0</th>\n",
       "      <td>1.893614</td>\n",
       "      <td>5.026295</td>\n",
       "      <td>0.000000</td>\n",
       "      <td>7.112664</td>\n",
       "      <td>155.408180</td>\n",
       "      <td>28</td>\n",
       "    </tr>\n",
       "    <tr>\n",
       "      <th>1</th>\n",
       "      <td>1.752303</td>\n",
       "      <td>5.013148</td>\n",
       "      <td>0.000000</td>\n",
       "      <td>6.653538</td>\n",
       "      <td>158.458891</td>\n",
       "      <td>28</td>\n",
       "    </tr>\n",
       "    <tr>\n",
       "      <th>2</th>\n",
       "      <td>1.619775</td>\n",
       "      <td>5.021913</td>\n",
       "      <td>0.000000</td>\n",
       "      <td>6.488697</td>\n",
       "      <td>163.749663</td>\n",
       "      <td>28</td>\n",
       "    </tr>\n",
       "    <tr>\n",
       "      <th>3</th>\n",
       "      <td>1.518736</td>\n",
       "      <td>5.007304</td>\n",
       "      <td>0.000000</td>\n",
       "      <td>6.104632</td>\n",
       "      <td>170.724504</td>\n",
       "      <td>28</td>\n",
       "    </tr>\n",
       "    <tr>\n",
       "      <th>4</th>\n",
       "      <td>1.455034</td>\n",
       "      <td>5.007889</td>\n",
       "      <td>0.000000</td>\n",
       "      <td>6.181707</td>\n",
       "      <td>179.505940</td>\n",
       "      <td>28</td>\n",
       "    </tr>\n",
       "    <tr>\n",
       "      <th>5</th>\n",
       "      <td>1.449675</td>\n",
       "      <td>5.016434</td>\n",
       "      <td>0.000000</td>\n",
       "      <td>7.010625</td>\n",
       "      <td>176.640877</td>\n",
       "      <td>28</td>\n",
       "    </tr>\n",
       "    <tr>\n",
       "      <th>6</th>\n",
       "      <td>1.518332</td>\n",
       "      <td>5.021130</td>\n",
       "      <td>0.000000</td>\n",
       "      <td>7.710115</td>\n",
       "      <td>176.708409</td>\n",
       "      <td>28</td>\n",
       "    </tr>\n",
       "    <tr>\n",
       "      <th>7</th>\n",
       "      <td>1.623140</td>\n",
       "      <td>5.014087</td>\n",
       "      <td>0.000000</td>\n",
       "      <td>8.037884</td>\n",
       "      <td>179.497847</td>\n",
       "      <td>28</td>\n",
       "    </tr>\n",
       "    <tr>\n",
       "      <th>8</th>\n",
       "      <td>1.661038</td>\n",
       "      <td>5.017723</td>\n",
       "      <td>14.578394</td>\n",
       "      <td>7.648595</td>\n",
       "      <td>91.133175</td>\n",
       "      <td>1516</td>\n",
       "    </tr>\n",
       "    <tr>\n",
       "      <th>9</th>\n",
       "      <td>1.501637</td>\n",
       "      <td>5.019207</td>\n",
       "      <td>18.148696</td>\n",
       "      <td>6.700397</td>\n",
       "      <td>68.884377</td>\n",
       "      <td>3088</td>\n",
       "    </tr>\n",
       "  </tbody>\n",
       "</table>\n",
       "</div>"
      ],
      "text/plain": [
       "   waveheight   draught        sog  windspeed  truewinddir  sog_cat\n",
       "0    1.893614  5.026295   0.000000   7.112664   155.408180       28\n",
       "1    1.752303  5.013148   0.000000   6.653538   158.458891       28\n",
       "2    1.619775  5.021913   0.000000   6.488697   163.749663       28\n",
       "3    1.518736  5.007304   0.000000   6.104632   170.724504       28\n",
       "4    1.455034  5.007889   0.000000   6.181707   179.505940       28\n",
       "5    1.449675  5.016434   0.000000   7.010625   176.640877       28\n",
       "6    1.518332  5.021130   0.000000   7.710115   176.708409       28\n",
       "7    1.623140  5.014087   0.000000   8.037884   179.497847       28\n",
       "8    1.661038  5.017723  14.578394   7.648595    91.133175     1516\n",
       "9    1.501637  5.019207  18.148696   6.700397    68.884377     3088"
      ]
     },
     "execution_count": 13,
     "metadata": {},
     "output_type": "execute_result"
    }
   ],
   "source": [
    "# Convert SOG to categorical \n",
    "\n",
    "from sklearn.preprocessing import LabelEncoder\n",
    "# LabelEncoder to categorize non binary data\n",
    "df_ship2['sog_cat'] = LabelEncoder().fit_transform(df_ship2['sog'])\n",
    "# See if new categorized column for sex is created\n",
    "df_ship2.head(n=10) "
   ]
  },
  {
   "cell_type": "code",
   "execution_count": 14,
   "metadata": {},
   "outputs": [],
   "source": [
    "# Drop the sog and sog_cat\n",
    "\n",
    "df_ship3 = df_ship2.drop(['sog','sog_cat'],axis=1)\n",
    "df_ship3.head(n=10)\n",
    "# sog_cat is target variable\n",
    "target = df_ship2.sog_cat"
   ]
  },
  {
   "cell_type": "code",
   "execution_count": 15,
   "metadata": {},
   "outputs": [],
   "source": [
    "# Implement the Random forest, but first, data is to be split into training and validation data\n",
    "\n",
    "from sklearn.model_selection import train_test_split\n",
    "\n",
    "#x_train,x_test,y_train,y_test = train_test_split(df_ship2,target,test_size=0.2)\n",
    "#x_train,x_test,y_train,y_test = train_test_split(df_ship2.drop(['sog'],axis=1),df_ship2.sog_cat,test_size=0.2)\n",
    "# Try with regressor \n",
    "x_train,x_test,y_train,y_test = train_test_split(df_ship2.drop(['sog_cat','sog'],axis=1),df_ship2.sog,test_size=0.2)\n"
   ]
  },
  {
   "cell_type": "code",
   "execution_count": 16,
   "metadata": {},
   "outputs": [
    {
     "data": {
      "text/html": [
       "<div>\n",
       "<style scoped>\n",
       "    .dataframe tbody tr th:only-of-type {\n",
       "        vertical-align: middle;\n",
       "    }\n",
       "\n",
       "    .dataframe tbody tr th {\n",
       "        vertical-align: top;\n",
       "    }\n",
       "\n",
       "    .dataframe thead th {\n",
       "        text-align: right;\n",
       "    }\n",
       "</style>\n",
       "<table border=\"1\" class=\"dataframe\">\n",
       "  <thead>\n",
       "    <tr style=\"text-align: right;\">\n",
       "      <th></th>\n",
       "      <th>waveheight</th>\n",
       "      <th>draught</th>\n",
       "      <th>windspeed</th>\n",
       "      <th>truewinddir</th>\n",
       "    </tr>\n",
       "  </thead>\n",
       "  <tbody>\n",
       "    <tr>\n",
       "      <th>5843</th>\n",
       "      <td>1.601278</td>\n",
       "      <td>5.374018</td>\n",
       "      <td>7.680568</td>\n",
       "      <td>46.287692</td>\n",
       "    </tr>\n",
       "    <tr>\n",
       "      <th>5708</th>\n",
       "      <td>0.476033</td>\n",
       "      <td>5.654373</td>\n",
       "      <td>2.862742</td>\n",
       "      <td>155.336286</td>\n",
       "    </tr>\n",
       "    <tr>\n",
       "      <th>3948</th>\n",
       "      <td>0.394193</td>\n",
       "      <td>5.291627</td>\n",
       "      <td>2.034248</td>\n",
       "      <td>95.694953</td>\n",
       "    </tr>\n",
       "    <tr>\n",
       "      <th>2450</th>\n",
       "      <td>0.902739</td>\n",
       "      <td>5.278734</td>\n",
       "      <td>7.162337</td>\n",
       "      <td>80.777220</td>\n",
       "    </tr>\n",
       "    <tr>\n",
       "      <th>5183</th>\n",
       "      <td>0.256197</td>\n",
       "      <td>5.017995</td>\n",
       "      <td>3.063061</td>\n",
       "      <td>128.943869</td>\n",
       "    </tr>\n",
       "    <tr>\n",
       "      <th>...</th>\n",
       "      <td>...</td>\n",
       "      <td>...</td>\n",
       "      <td>...</td>\n",
       "      <td>...</td>\n",
       "    </tr>\n",
       "    <tr>\n",
       "      <th>5912</th>\n",
       "      <td>1.601278</td>\n",
       "      <td>5.330389</td>\n",
       "      <td>4.296531</td>\n",
       "      <td>155.104124</td>\n",
       "    </tr>\n",
       "    <tr>\n",
       "      <th>7140</th>\n",
       "      <td>0.804213</td>\n",
       "      <td>5.382882</td>\n",
       "      <td>6.635580</td>\n",
       "      <td>16.153045</td>\n",
       "    </tr>\n",
       "    <tr>\n",
       "      <th>2277</th>\n",
       "      <td>1.113553</td>\n",
       "      <td>5.110923</td>\n",
       "      <td>6.329594</td>\n",
       "      <td>25.784711</td>\n",
       "    </tr>\n",
       "    <tr>\n",
       "      <th>6072</th>\n",
       "      <td>1.972801</td>\n",
       "      <td>5.378039</td>\n",
       "      <td>9.608067</td>\n",
       "      <td>41.909208</td>\n",
       "    </tr>\n",
       "    <tr>\n",
       "      <th>4332</th>\n",
       "      <td>1.514050</td>\n",
       "      <td>5.199717</td>\n",
       "      <td>5.890200</td>\n",
       "      <td>165.356965</td>\n",
       "    </tr>\n",
       "  </tbody>\n",
       "</table>\n",
       "<p>5962 rows × 4 columns</p>\n",
       "</div>"
      ],
      "text/plain": [
       "      waveheight   draught  windspeed  truewinddir\n",
       "5843    1.601278  5.374018   7.680568    46.287692\n",
       "5708    0.476033  5.654373   2.862742   155.336286\n",
       "3948    0.394193  5.291627   2.034248    95.694953\n",
       "2450    0.902739  5.278734   7.162337    80.777220\n",
       "5183    0.256197  5.017995   3.063061   128.943869\n",
       "...          ...       ...        ...          ...\n",
       "5912    1.601278  5.330389   4.296531   155.104124\n",
       "7140    0.804213  5.382882   6.635580    16.153045\n",
       "2277    1.113553  5.110923   6.329594    25.784711\n",
       "6072    1.972801  5.378039   9.608067    41.909208\n",
       "4332    1.514050  5.199717   5.890200   165.356965\n",
       "\n",
       "[5962 rows x 4 columns]"
      ]
     },
     "execution_count": 16,
     "metadata": {},
     "output_type": "execute_result"
    }
   ],
   "source": [
    "x_train"
   ]
  },
  {
   "cell_type": "code",
   "execution_count": 17,
   "metadata": {},
   "outputs": [
    {
     "data": {
      "text/plain": [
       "5843     0.000000\n",
       "5708    19.714057\n",
       "3948    18.946447\n",
       "2450     0.000000\n",
       "5183    16.195111\n",
       "          ...    \n",
       "5912     6.329353\n",
       "7140    17.722078\n",
       "2277     0.000000\n",
       "6072    17.727419\n",
       "4332    18.677143\n",
       "Name: sog, Length: 5962, dtype: float64"
      ]
     },
     "execution_count": 17,
     "metadata": {},
     "output_type": "execute_result"
    }
   ],
   "source": [
    "y_train"
   ]
  },
  {
   "cell_type": "code",
   "execution_count": 18,
   "metadata": {},
   "outputs": [
    {
     "data": {
      "text/plain": [
       "5962"
      ]
     },
     "execution_count": 18,
     "metadata": {},
     "output_type": "execute_result"
    }
   ],
   "source": [
    "len(x_train)\n"
   ]
  },
  {
   "cell_type": "code",
   "execution_count": 19,
   "metadata": {},
   "outputs": [
    {
     "data": {
      "text/plain": [
       "1491"
      ]
     },
     "execution_count": 19,
     "metadata": {},
     "output_type": "execute_result"
    }
   ],
   "source": [
    "len(x_test)"
   ]
  },
  {
   "cell_type": "code",
   "execution_count": 20,
   "metadata": {},
   "outputs": [
    {
     "data": {
      "text/html": [
       "<style>#sk-container-id-1 {color: black;background-color: white;}#sk-container-id-1 pre{padding: 0;}#sk-container-id-1 div.sk-toggleable {background-color: white;}#sk-container-id-1 label.sk-toggleable__label {cursor: pointer;display: block;width: 100%;margin-bottom: 0;padding: 0.3em;box-sizing: border-box;text-align: center;}#sk-container-id-1 label.sk-toggleable__label-arrow:before {content: \"▸\";float: left;margin-right: 0.25em;color: #696969;}#sk-container-id-1 label.sk-toggleable__label-arrow:hover:before {color: black;}#sk-container-id-1 div.sk-estimator:hover label.sk-toggleable__label-arrow:before {color: black;}#sk-container-id-1 div.sk-toggleable__content {max-height: 0;max-width: 0;overflow: hidden;text-align: left;background-color: #f0f8ff;}#sk-container-id-1 div.sk-toggleable__content pre {margin: 0.2em;color: black;border-radius: 0.25em;background-color: #f0f8ff;}#sk-container-id-1 input.sk-toggleable__control:checked~div.sk-toggleable__content {max-height: 200px;max-width: 100%;overflow: auto;}#sk-container-id-1 input.sk-toggleable__control:checked~label.sk-toggleable__label-arrow:before {content: \"▾\";}#sk-container-id-1 div.sk-estimator input.sk-toggleable__control:checked~label.sk-toggleable__label {background-color: #d4ebff;}#sk-container-id-1 div.sk-label input.sk-toggleable__control:checked~label.sk-toggleable__label {background-color: #d4ebff;}#sk-container-id-1 input.sk-hidden--visually {border: 0;clip: rect(1px 1px 1px 1px);clip: rect(1px, 1px, 1px, 1px);height: 1px;margin: -1px;overflow: hidden;padding: 0;position: absolute;width: 1px;}#sk-container-id-1 div.sk-estimator {font-family: monospace;background-color: #f0f8ff;border: 1px dotted black;border-radius: 0.25em;box-sizing: border-box;margin-bottom: 0.5em;}#sk-container-id-1 div.sk-estimator:hover {background-color: #d4ebff;}#sk-container-id-1 div.sk-parallel-item::after {content: \"\";width: 100%;border-bottom: 1px solid gray;flex-grow: 1;}#sk-container-id-1 div.sk-label:hover label.sk-toggleable__label {background-color: #d4ebff;}#sk-container-id-1 div.sk-serial::before {content: \"\";position: absolute;border-left: 1px solid gray;box-sizing: border-box;top: 0;bottom: 0;left: 50%;z-index: 0;}#sk-container-id-1 div.sk-serial {display: flex;flex-direction: column;align-items: center;background-color: white;padding-right: 0.2em;padding-left: 0.2em;position: relative;}#sk-container-id-1 div.sk-item {position: relative;z-index: 1;}#sk-container-id-1 div.sk-parallel {display: flex;align-items: stretch;justify-content: center;background-color: white;position: relative;}#sk-container-id-1 div.sk-item::before, #sk-container-id-1 div.sk-parallel-item::before {content: \"\";position: absolute;border-left: 1px solid gray;box-sizing: border-box;top: 0;bottom: 0;left: 50%;z-index: -1;}#sk-container-id-1 div.sk-parallel-item {display: flex;flex-direction: column;z-index: 1;position: relative;background-color: white;}#sk-container-id-1 div.sk-parallel-item:first-child::after {align-self: flex-end;width: 50%;}#sk-container-id-1 div.sk-parallel-item:last-child::after {align-self: flex-start;width: 50%;}#sk-container-id-1 div.sk-parallel-item:only-child::after {width: 0;}#sk-container-id-1 div.sk-dashed-wrapped {border: 1px dashed gray;margin: 0 0.4em 0.5em 0.4em;box-sizing: border-box;padding-bottom: 0.4em;background-color: white;}#sk-container-id-1 div.sk-label label {font-family: monospace;font-weight: bold;display: inline-block;line-height: 1.2em;}#sk-container-id-1 div.sk-label-container {text-align: center;}#sk-container-id-1 div.sk-container {/* jupyter's `normalize.less` sets `[hidden] { display: none; }` but bootstrap.min.css set `[hidden] { display: none !important; }` so we also need the `!important` here to be able to override the default hidden behavior on the sphinx rendered scikit-learn.org. See: https://github.com/scikit-learn/scikit-learn/issues/21755 */display: inline-block !important;position: relative;}#sk-container-id-1 div.sk-text-repr-fallback {display: none;}</style><div id=\"sk-container-id-1\" class=\"sk-top-container\"><div class=\"sk-text-repr-fallback\"><pre>RandomForestRegressor()</pre><b>In a Jupyter environment, please rerun this cell to show the HTML representation or trust the notebook. <br />On GitHub, the HTML representation is unable to render, please try loading this page with nbviewer.org.</b></div><div class=\"sk-container\" hidden><div class=\"sk-item\"><div class=\"sk-estimator sk-toggleable\"><input class=\"sk-toggleable__control sk-hidden--visually\" id=\"sk-estimator-id-1\" type=\"checkbox\" checked><label for=\"sk-estimator-id-1\" class=\"sk-toggleable__label sk-toggleable__label-arrow\">RandomForestRegressor</label><div class=\"sk-toggleable__content\"><pre>RandomForestRegressor()</pre></div></div></div></div></div>"
      ],
      "text/plain": [
       "RandomForestRegressor()"
      ]
     },
     "execution_count": 20,
     "metadata": {},
     "output_type": "execute_result"
    }
   ],
   "source": [
    "#from sklearn.ensemble import RandomForestClassifier\n",
    "#model = RandomForestClassifier(n_estimators=100)\n",
    "## default value for tree estimator is n = 10\n",
    "#model.fit(x_train,y_train)\n",
    "\n",
    "from sklearn.ensemble import RandomForestRegressor\n",
    "model = RandomForestRegressor()\n",
    "model.fit(x_train,y_train)\n",
    "\n",
    "#from sklearn.linear_model import LinearRegression\n",
    "#model = LinearRegression\n",
    "#model.fit(x_train,y_train)"
   ]
  },
  {
   "cell_type": "code",
   "execution_count": 21,
   "metadata": {},
   "outputs": [
    {
     "data": {
      "text/plain": [
       "0.4312027817285744"
      ]
     },
     "execution_count": 21,
     "metadata": {},
     "output_type": "execute_result"
    }
   ],
   "source": [
    "model.score(x_test,y_test)\n",
    "# r^2 score"
   ]
  },
  {
   "cell_type": "code",
   "execution_count": 22,
   "metadata": {},
   "outputs": [],
   "source": [
    "y_predicted = model.predict(x_test)"
   ]
  },
  {
   "cell_type": "code",
   "execution_count": 23,
   "metadata": {},
   "outputs": [
    {
     "data": {
      "text/plain": [
       "0.43223972327496885"
      ]
     },
     "execution_count": 23,
     "metadata": {},
     "output_type": "execute_result"
    }
   ],
   "source": [
    "# Application for evaluation metrics, starting with explained variance\n",
    "\n",
    "from sklearn.metrics import explained_variance_score\n",
    "explained_variance_score(y_test,y_predicted)\n",
    "# Best value is 1 "
   ]
  },
  {
   "cell_type": "code",
   "execution_count": 24,
   "metadata": {},
   "outputs": [
    {
     "data": {
      "text/plain": [
       "5.146865667207023"
      ]
     },
     "execution_count": 24,
     "metadata": {},
     "output_type": "execute_result"
    }
   ],
   "source": [
    "from sklearn.metrics import mean_absolute_error\n",
    "mean_absolute_error(y_test,y_predicted)\n",
    "# Best value is 0"
   ]
  },
  {
   "cell_type": "code",
   "execution_count": 25,
   "metadata": {},
   "outputs": [
    {
     "data": {
      "text/plain": [
       "41.98747702448658"
      ]
     },
     "execution_count": 25,
     "metadata": {},
     "output_type": "execute_result"
    }
   ],
   "source": [
    "from sklearn.metrics import mean_squared_error\n",
    "mean_squared_error(y_test,y_predicted)\n",
    "# Best value is 0"
   ]
  },
  {
   "cell_type": "code",
   "execution_count": 26,
   "metadata": {},
   "outputs": [
    {
     "ename": "ValueError",
     "evalue": "Mean Squared Logarithmic Error cannot be used when targets contain negative values.",
     "output_type": "error",
     "traceback": [
      "\u001b[1;31m---------------------------------------------------------------------------\u001b[0m",
      "\u001b[1;31mValueError\u001b[0m                                Traceback (most recent call last)",
      "Cell \u001b[1;32mIn[26], line 2\u001b[0m\n\u001b[0;32m      1\u001b[0m \u001b[39mfrom\u001b[39;00m \u001b[39msklearn\u001b[39;00m\u001b[39m.\u001b[39;00m\u001b[39mmetrics\u001b[39;00m \u001b[39mimport\u001b[39;00m mean_squared_log_error\n\u001b[1;32m----> 2\u001b[0m mean_squared_log_error(y_test,y_predicted)\n",
      "File \u001b[1;32mc:\\Users\\Wafi\\anaconda3\\envs\\geron1\\lib\\site-packages\\sklearn\\metrics\\_regression.py:525\u001b[0m, in \u001b[0;36mmean_squared_log_error\u001b[1;34m(y_true, y_pred, sample_weight, multioutput, squared)\u001b[0m\n\u001b[0;32m    522\u001b[0m check_consistent_length(y_true, y_pred, sample_weight)\n\u001b[0;32m    524\u001b[0m \u001b[39mif\u001b[39;00m (y_true \u001b[39m<\u001b[39m \u001b[39m0\u001b[39m)\u001b[39m.\u001b[39many() \u001b[39mor\u001b[39;00m (y_pred \u001b[39m<\u001b[39m \u001b[39m0\u001b[39m)\u001b[39m.\u001b[39many():\n\u001b[1;32m--> 525\u001b[0m     \u001b[39mraise\u001b[39;00m \u001b[39mValueError\u001b[39;00m(\n\u001b[0;32m    526\u001b[0m         \u001b[39m\"\u001b[39m\u001b[39mMean Squared Logarithmic Error cannot be used when \u001b[39m\u001b[39m\"\u001b[39m\n\u001b[0;32m    527\u001b[0m         \u001b[39m\"\u001b[39m\u001b[39mtargets contain negative values.\u001b[39m\u001b[39m\"\u001b[39m\n\u001b[0;32m    528\u001b[0m     )\n\u001b[0;32m    530\u001b[0m \u001b[39mreturn\u001b[39;00m mean_squared_error(\n\u001b[0;32m    531\u001b[0m     np\u001b[39m.\u001b[39mlog1p(y_true),\n\u001b[0;32m    532\u001b[0m     np\u001b[39m.\u001b[39mlog1p(y_pred),\n\u001b[1;32m   (...)\u001b[0m\n\u001b[0;32m    535\u001b[0m     squared\u001b[39m=\u001b[39msquared,\n\u001b[0;32m    536\u001b[0m )\n",
      "\u001b[1;31mValueError\u001b[0m: Mean Squared Logarithmic Error cannot be used when targets contain negative values."
     ]
    }
   ],
   "source": [
    "from sklearn.metrics import mean_squared_log_error\n",
    "mean_squared_log_error(y_test,y_predicted)\n",
    "# It cannot functions when negative values are present "
   ]
  },
  {
   "cell_type": "code",
   "execution_count": 27,
   "metadata": {},
   "outputs": [
    {
     "data": {
      "text/plain": [
       "4.19679232522"
      ]
     },
     "execution_count": 27,
     "metadata": {},
     "output_type": "execute_result"
    }
   ],
   "source": [
    "from sklearn.metrics import median_absolute_error\n",
    "median_absolute_error(y_test,y_predicted)\n",
    "# Best value is 0"
   ]
  },
  {
   "cell_type": "code",
   "execution_count": null,
   "metadata": {},
   "outputs": [],
   "source": []
  }
 ],
 "metadata": {
  "kernelspec": {
   "display_name": "geron1",
   "language": "python",
   "name": "python3"
  },
  "language_info": {
   "codemirror_mode": {
    "name": "ipython",
    "version": 3
   },
   "file_extension": ".py",
   "mimetype": "text/x-python",
   "name": "python",
   "nbconvert_exporter": "python",
   "pygments_lexer": "ipython3",
   "version": "3.9.15"
  },
  "orig_nbformat": 4
 },
 "nbformat": 4,
 "nbformat_minor": 2
}
