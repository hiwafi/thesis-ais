{
 "cells": [
  {
   "cell_type": "code",
   "execution_count": 274,
   "metadata": {},
   "outputs": [
    {
     "data": {
      "text/html": [
       "<div>\n",
       "<style scoped>\n",
       "    .dataframe tbody tr th:only-of-type {\n",
       "        vertical-align: middle;\n",
       "    }\n",
       "\n",
       "    .dataframe tbody tr th {\n",
       "        vertical-align: top;\n",
       "    }\n",
       "\n",
       "    .dataframe thead th {\n",
       "        text-align: right;\n",
       "    }\n",
       "</style>\n",
       "<table border=\"1\" class=\"dataframe\">\n",
       "  <thead>\n",
       "    <tr style=\"text-align: right;\">\n",
       "      <th></th>\n",
       "      <th>Unnamed: 0</th>\n",
       "      <th>Time</th>\n",
       "      <th>LON</th>\n",
       "      <th>LAT</th>\n",
       "      <th>Temperature above oceans [K]</th>\n",
       "      <th>Air density above oceans [kg/m^3]</th>\n",
       "      <th>Max wave height [m]</th>\n",
       "      <th>Swell period [deg]</th>\n",
       "      <th>Wind wave period [s]</th>\n",
       "      <th>Wave period [s]</th>\n",
       "      <th>...</th>\n",
       "      <th>SOG [knot]</th>\n",
       "      <th>COG [deg]</th>\n",
       "      <th>Heading [deg]</th>\n",
       "      <th>Wind Speed [m/s]</th>\n",
       "      <th>Current Speed [m/s]</th>\n",
       "      <th>True Wind Direction [deg]</th>\n",
       "      <th>True Current Direction [deg]</th>\n",
       "      <th>True Swell Direction [deg]</th>\n",
       "      <th>True Wind Wave Direction [deg]</th>\n",
       "      <th>True Wave Direction [deg]</th>\n",
       "    </tr>\n",
       "  </thead>\n",
       "  <tbody>\n",
       "    <tr>\n",
       "      <th>0</th>\n",
       "      <td>0</td>\n",
       "      <td>01/01/2021 00:00</td>\n",
       "      <td>14.689663</td>\n",
       "      <td>55.098452</td>\n",
       "      <td>277.311035</td>\n",
       "      <td>1.259323</td>\n",
       "      <td>1.893614</td>\n",
       "      <td>4.818881</td>\n",
       "      <td>3.818459</td>\n",
       "      <td>4.154329</td>\n",
       "      <td>...</td>\n",
       "      <td>0.0</td>\n",
       "      <td>358.9</td>\n",
       "      <td>174.0</td>\n",
       "      <td>7.112664</td>\n",
       "      <td>0.122270</td>\n",
       "      <td>155.408180</td>\n",
       "      <td>105.591753</td>\n",
       "      <td>22.854050</td>\n",
       "      <td>22.749664</td>\n",
       "      <td>22.610062</td>\n",
       "    </tr>\n",
       "    <tr>\n",
       "      <th>1</th>\n",
       "      <td>1</td>\n",
       "      <td>01/01/2021 01:00</td>\n",
       "      <td>14.689659</td>\n",
       "      <td>55.098451</td>\n",
       "      <td>277.328369</td>\n",
       "      <td>1.259985</td>\n",
       "      <td>1.752303</td>\n",
       "      <td>4.755800</td>\n",
       "      <td>3.470216</td>\n",
       "      <td>4.130580</td>\n",
       "      <td>...</td>\n",
       "      <td>0.0</td>\n",
       "      <td>358.9</td>\n",
       "      <td>174.0</td>\n",
       "      <td>6.653538</td>\n",
       "      <td>0.122270</td>\n",
       "      <td>158.458891</td>\n",
       "      <td>105.591753</td>\n",
       "      <td>26.122772</td>\n",
       "      <td>19.152008</td>\n",
       "      <td>22.209274</td>\n",
       "    </tr>\n",
       "    <tr>\n",
       "      <th>2</th>\n",
       "      <td>2</td>\n",
       "      <td>01/01/2021 02:00</td>\n",
       "      <td>14.689648</td>\n",
       "      <td>55.098468</td>\n",
       "      <td>277.390625</td>\n",
       "      <td>1.260244</td>\n",
       "      <td>1.619775</td>\n",
       "      <td>4.645083</td>\n",
       "      <td>3.259682</td>\n",
       "      <td>4.083755</td>\n",
       "      <td>...</td>\n",
       "      <td>0.0</td>\n",
       "      <td>358.9</td>\n",
       "      <td>174.0</td>\n",
       "      <td>6.488697</td>\n",
       "      <td>0.099846</td>\n",
       "      <td>163.749663</td>\n",
       "      <td>116.740448</td>\n",
       "      <td>28.498383</td>\n",
       "      <td>12.424912</td>\n",
       "      <td>20.857971</td>\n",
       "    </tr>\n",
       "    <tr>\n",
       "      <th>3</th>\n",
       "      <td>3</td>\n",
       "      <td>01/01/2021 03:00</td>\n",
       "      <td>14.689646</td>\n",
       "      <td>55.098471</td>\n",
       "      <td>277.411377</td>\n",
       "      <td>1.260148</td>\n",
       "      <td>1.518736</td>\n",
       "      <td>4.588384</td>\n",
       "      <td>3.177906</td>\n",
       "      <td>4.010502</td>\n",
       "      <td>...</td>\n",
       "      <td>0.0</td>\n",
       "      <td>358.9</td>\n",
       "      <td>174.0</td>\n",
       "      <td>6.104632</td>\n",
       "      <td>0.099846</td>\n",
       "      <td>170.724504</td>\n",
       "      <td>116.740448</td>\n",
       "      <td>29.956985</td>\n",
       "      <td>6.725922</td>\n",
       "      <td>18.732071</td>\n",
       "    </tr>\n",
       "    <tr>\n",
       "      <th>4</th>\n",
       "      <td>4</td>\n",
       "      <td>01/01/2021 04:00</td>\n",
       "      <td>14.689644</td>\n",
       "      <td>55.098462</td>\n",
       "      <td>277.430664</td>\n",
       "      <td>1.260634</td>\n",
       "      <td>1.455034</td>\n",
       "      <td>4.528841</td>\n",
       "      <td>3.281654</td>\n",
       "      <td>3.913362</td>\n",
       "      <td>...</td>\n",
       "      <td>0.0</td>\n",
       "      <td>358.9</td>\n",
       "      <td>174.0</td>\n",
       "      <td>6.181707</td>\n",
       "      <td>0.099846</td>\n",
       "      <td>179.505940</td>\n",
       "      <td>116.740448</td>\n",
       "      <td>34.486298</td>\n",
       "      <td>3.761627</td>\n",
       "      <td>15.731430</td>\n",
       "    </tr>\n",
       "  </tbody>\n",
       "</table>\n",
       "<p>5 rows × 28 columns</p>\n",
       "</div>"
      ],
      "text/plain": [
       "   Unnamed: 0              Time        LON        LAT  \\\n",
       "0           0  01/01/2021 00:00  14.689663  55.098452   \n",
       "1           1  01/01/2021 01:00  14.689659  55.098451   \n",
       "2           2  01/01/2021 02:00  14.689648  55.098468   \n",
       "3           3  01/01/2021 03:00  14.689646  55.098471   \n",
       "4           4  01/01/2021 04:00  14.689644  55.098462   \n",
       "\n",
       "   Temperature above oceans [K]  Air density above oceans [kg/m^3]  \\\n",
       "0                    277.311035                           1.259323   \n",
       "1                    277.328369                           1.259985   \n",
       "2                    277.390625                           1.260244   \n",
       "3                    277.411377                           1.260148   \n",
       "4                    277.430664                           1.260634   \n",
       "\n",
       "   Max wave height [m]  Swell period [deg]  Wind wave period [s]  \\\n",
       "0             1.893614            4.818881              3.818459   \n",
       "1             1.752303            4.755800              3.470216   \n",
       "2             1.619775            4.645083              3.259682   \n",
       "3             1.518736            4.588384              3.177906   \n",
       "4             1.455034            4.528841              3.281654   \n",
       "\n",
       "   Wave period [s]  ...  SOG [knot]  COG [deg]  Heading [deg]  \\\n",
       "0         4.154329  ...         0.0      358.9          174.0   \n",
       "1         4.130580  ...         0.0      358.9          174.0   \n",
       "2         4.083755  ...         0.0      358.9          174.0   \n",
       "3         4.010502  ...         0.0      358.9          174.0   \n",
       "4         3.913362  ...         0.0      358.9          174.0   \n",
       "\n",
       "   Wind Speed [m/s]  Current Speed [m/s]  True Wind Direction [deg]  \\\n",
       "0          7.112664             0.122270                 155.408180   \n",
       "1          6.653538             0.122270                 158.458891   \n",
       "2          6.488697             0.099846                 163.749663   \n",
       "3          6.104632             0.099846                 170.724504   \n",
       "4          6.181707             0.099846                 179.505940   \n",
       "\n",
       "   True Current Direction [deg]  True Swell Direction [deg]  \\\n",
       "0                    105.591753                   22.854050   \n",
       "1                    105.591753                   26.122772   \n",
       "2                    116.740448                   28.498383   \n",
       "3                    116.740448                   29.956985   \n",
       "4                    116.740448                   34.486298   \n",
       "\n",
       "   True Wind Wave Direction [deg]  True Wave Direction [deg]  \n",
       "0                       22.749664                  22.610062  \n",
       "1                       19.152008                  22.209274  \n",
       "2                       12.424912                  20.857971  \n",
       "3                        6.725922                  18.732071  \n",
       "4                        3.761627                  15.731430  \n",
       "\n",
       "[5 rows x 28 columns]"
      ]
     },
     "execution_count": 274,
     "metadata": {},
     "output_type": "execute_result"
    }
   ],
   "source": [
    "import pandas as pd\n",
    "from matplotlib import pyplot\n",
    "df = pd.read_csv(\"AIS_Clean_001.csv\")\n",
    "# AIS clean 002 is only heading from west to easr (hopefully better model due to the similar heading)\n",
    "#df = pd.read_csv(\"AIS_Clean_002.csv\")\n",
    "df.head(n=5)"
   ]
  },
  {
   "cell_type": "code",
   "execution_count": 275,
   "metadata": {},
   "outputs": [
    {
     "data": {
      "text/html": [
       "<div>\n",
       "<style scoped>\n",
       "    .dataframe tbody tr th:only-of-type {\n",
       "        vertical-align: middle;\n",
       "    }\n",
       "\n",
       "    .dataframe tbody tr th {\n",
       "        vertical-align: top;\n",
       "    }\n",
       "\n",
       "    .dataframe thead th {\n",
       "        text-align: right;\n",
       "    }\n",
       "</style>\n",
       "<table border=\"1\" class=\"dataframe\">\n",
       "  <thead>\n",
       "    <tr style=\"text-align: right;\">\n",
       "      <th></th>\n",
       "      <th>Temperature above oceans [K]</th>\n",
       "      <th>Max wave height [m]</th>\n",
       "      <th>Draught [m]</th>\n",
       "      <th>SOG [knot]</th>\n",
       "      <th>COG [deg]</th>\n",
       "      <th>Wind Speed [m/s]</th>\n",
       "      <th>Current Speed [m/s]</th>\n",
       "      <th>True Wind Direction [deg]</th>\n",
       "      <th>True Wave Direction [deg]</th>\n",
       "    </tr>\n",
       "  </thead>\n",
       "  <tbody>\n",
       "    <tr>\n",
       "      <th>0</th>\n",
       "      <td>277.311035</td>\n",
       "      <td>1.893614</td>\n",
       "      <td>5.026295</td>\n",
       "      <td>0.0</td>\n",
       "      <td>358.9</td>\n",
       "      <td>7.112664</td>\n",
       "      <td>0.122270</td>\n",
       "      <td>155.408180</td>\n",
       "      <td>22.610062</td>\n",
       "    </tr>\n",
       "    <tr>\n",
       "      <th>1</th>\n",
       "      <td>277.328369</td>\n",
       "      <td>1.752303</td>\n",
       "      <td>5.013148</td>\n",
       "      <td>0.0</td>\n",
       "      <td>358.9</td>\n",
       "      <td>6.653538</td>\n",
       "      <td>0.122270</td>\n",
       "      <td>158.458891</td>\n",
       "      <td>22.209274</td>\n",
       "    </tr>\n",
       "    <tr>\n",
       "      <th>2</th>\n",
       "      <td>277.390625</td>\n",
       "      <td>1.619775</td>\n",
       "      <td>5.021913</td>\n",
       "      <td>0.0</td>\n",
       "      <td>358.9</td>\n",
       "      <td>6.488697</td>\n",
       "      <td>0.099846</td>\n",
       "      <td>163.749663</td>\n",
       "      <td>20.857971</td>\n",
       "    </tr>\n",
       "    <tr>\n",
       "      <th>3</th>\n",
       "      <td>277.411377</td>\n",
       "      <td>1.518736</td>\n",
       "      <td>5.007304</td>\n",
       "      <td>0.0</td>\n",
       "      <td>358.9</td>\n",
       "      <td>6.104632</td>\n",
       "      <td>0.099846</td>\n",
       "      <td>170.724504</td>\n",
       "      <td>18.732071</td>\n",
       "    </tr>\n",
       "    <tr>\n",
       "      <th>4</th>\n",
       "      <td>277.430664</td>\n",
       "      <td>1.455034</td>\n",
       "      <td>5.007889</td>\n",
       "      <td>0.0</td>\n",
       "      <td>358.9</td>\n",
       "      <td>6.181707</td>\n",
       "      <td>0.099846</td>\n",
       "      <td>179.505940</td>\n",
       "      <td>15.731430</td>\n",
       "    </tr>\n",
       "  </tbody>\n",
       "</table>\n",
       "</div>"
      ],
      "text/plain": [
       "   Temperature above oceans [K]  Max wave height [m]  Draught [m]  SOG [knot]  \\\n",
       "0                    277.311035             1.893614     5.026295         0.0   \n",
       "1                    277.328369             1.752303     5.013148         0.0   \n",
       "2                    277.390625             1.619775     5.021913         0.0   \n",
       "3                    277.411377             1.518736     5.007304         0.0   \n",
       "4                    277.430664             1.455034     5.007889         0.0   \n",
       "\n",
       "   COG [deg]  Wind Speed [m/s]  Current Speed [m/s]  \\\n",
       "0      358.9          7.112664             0.122270   \n",
       "1      358.9          6.653538             0.122270   \n",
       "2      358.9          6.488697             0.099846   \n",
       "3      358.9          6.104632             0.099846   \n",
       "4      358.9          6.181707             0.099846   \n",
       "\n",
       "   True Wind Direction [deg]  True Wave Direction [deg]  \n",
       "0                 155.408180                  22.610062  \n",
       "1                 158.458891                  22.209274  \n",
       "2                 163.749663                  20.857971  \n",
       "3                 170.724504                  18.732071  \n",
       "4                 179.505940                  15.731430  "
      ]
     },
     "execution_count": 275,
     "metadata": {},
     "output_type": "execute_result"
    }
   ],
   "source": [
    "# Master Drop, vary from here \n",
    "#df_ship = df.drop(['Unnamed: 0','Time','LON','LAT','Temperature above oceans [K]','Air density above oceans [kg/m^3]','Max wave height [m]',\n",
    "#'Swell period [deg]','Wind wave period [s]','Wave period [s]','Sea surface temperature [K]','Combined wind waves and swell height [m]','Swell height [m]',\n",
    "#'Wind wave height [m]','Surface pressure [Pa]','Draught [m]','Width [m]','Length [m]','SOG [knot]','COG [deg]','Heading [deg]','Wind Speed [m/s]','Current Speed [m/s]'\n",
    "#,'True Wind Direction [deg]','True Current Direction [deg]','True Swell Direction [deg]','True Wind Wave Direction [deg]','True Wave Direction [deg]'],axis=1)\n",
    "#df_ship.head(n=5)\n",
    "\n",
    "# According to slide from pak Uri \n",
    "df_ship = df.drop(['Unnamed: 0','Time','LON','LAT','Air density above oceans [kg/m^3]',\n",
    "'Swell period [deg]','Wind wave period [s]','Wave period [s]','Sea surface temperature [K]','Combined wind waves and swell height [m]','Swell height [m]',\n",
    "'Wind wave height [m]','Surface pressure [Pa]','Width [m]','Length [m]','COG [deg]','Heading [deg]','Current Speed [m/s]'\n",
    ",'True Current Direction [deg]','True Swell Direction [deg]','True Wind Wave Direction [deg]','True Wave Direction [deg]'],axis=1)\n",
    "df_ship.head(n=5)\n",
    "\n",
    "# Try to follow feature from Abebe\n",
    "df_ship = df.drop(['Unnamed: 0','Time','LON','LAT','Air density above oceans [kg/m^3]',\n",
    "'Swell period [deg]','Wind wave period [s]','Wave period [s]','Sea surface temperature [K]','Combined wind waves and swell height [m]','Swell height [m]',\n",
    "'Wind wave height [m]','Surface pressure [Pa]','Width [m]','Length [m]','Heading [deg]'\n",
    ",'True Current Direction [deg]','True Swell Direction [deg]','True Wind Wave Direction [deg]'],axis=1)\n",
    "df_ship.head(n=5)"
   ]
  },
  {
   "cell_type": "code",
   "execution_count": 276,
   "metadata": {},
   "outputs": [
    {
     "data": {
      "text/plain": [
       "False"
      ]
     },
     "execution_count": 276,
     "metadata": {},
     "output_type": "execute_result"
    }
   ],
   "source": [
    "df_ship['Temperature above oceans [K]'].isnull().values.any()"
   ]
  },
  {
   "cell_type": "code",
   "execution_count": 277,
   "metadata": {},
   "outputs": [
    {
     "data": {
      "text/plain": [
       "True"
      ]
     },
     "execution_count": 277,
     "metadata": {},
     "output_type": "execute_result"
    }
   ],
   "source": [
    "df_ship['Max wave height [m]'].isnull().values.any()"
   ]
  },
  {
   "cell_type": "code",
   "execution_count": 278,
   "metadata": {},
   "outputs": [
    {
     "data": {
      "text/plain": [
       "False"
      ]
     },
     "execution_count": 278,
     "metadata": {},
     "output_type": "execute_result"
    }
   ],
   "source": [
    "df_ship['Draught [m]'].isnull().values.any()"
   ]
  },
  {
   "cell_type": "code",
   "execution_count": 279,
   "metadata": {},
   "outputs": [
    {
     "data": {
      "text/plain": [
       "False"
      ]
     },
     "execution_count": 279,
     "metadata": {},
     "output_type": "execute_result"
    }
   ],
   "source": [
    "df_ship['SOG [knot]'].isnull().values.any()"
   ]
  },
  {
   "cell_type": "code",
   "execution_count": 280,
   "metadata": {},
   "outputs": [
    {
     "data": {
      "text/plain": [
       "False"
      ]
     },
     "execution_count": 280,
     "metadata": {},
     "output_type": "execute_result"
    }
   ],
   "source": [
    "df_ship['Wind Speed [m/s]'].isnull().values.any()"
   ]
  },
  {
   "cell_type": "code",
   "execution_count": 281,
   "metadata": {},
   "outputs": [
    {
     "data": {
      "text/plain": [
       "False"
      ]
     },
     "execution_count": 281,
     "metadata": {},
     "output_type": "execute_result"
    }
   ],
   "source": [
    "df_ship['True Wind Direction [deg]'].isnull().values.any()"
   ]
  },
  {
   "cell_type": "code",
   "execution_count": 282,
   "metadata": {},
   "outputs": [
    {
     "data": {
      "text/html": [
       "<div>\n",
       "<style scoped>\n",
       "    .dataframe tbody tr th:only-of-type {\n",
       "        vertical-align: middle;\n",
       "    }\n",
       "\n",
       "    .dataframe tbody tr th {\n",
       "        vertical-align: top;\n",
       "    }\n",
       "\n",
       "    .dataframe thead th {\n",
       "        text-align: right;\n",
       "    }\n",
       "</style>\n",
       "<table border=\"1\" class=\"dataframe\">\n",
       "  <thead>\n",
       "    <tr style=\"text-align: right;\">\n",
       "      <th></th>\n",
       "      <th>Temperature above oceans [K]</th>\n",
       "      <th>Max wave height [m]</th>\n",
       "      <th>Draught [m]</th>\n",
       "      <th>SOG [knot]</th>\n",
       "      <th>COG [deg]</th>\n",
       "      <th>Wind Speed [m/s]</th>\n",
       "      <th>Current Speed [m/s]</th>\n",
       "      <th>True Wind Direction [deg]</th>\n",
       "      <th>True Wave Direction [deg]</th>\n",
       "    </tr>\n",
       "  </thead>\n",
       "  <tbody>\n",
       "    <tr>\n",
       "      <th>19</th>\n",
       "      <td>275.542969</td>\n",
       "      <td>NaN</td>\n",
       "      <td>5.021508</td>\n",
       "      <td>17.132163</td>\n",
       "      <td>299.264957</td>\n",
       "      <td>2.114903</td>\n",
       "      <td>0.195875</td>\n",
       "      <td>132.389674</td>\n",
       "      <td>NaN</td>\n",
       "    </tr>\n",
       "    <tr>\n",
       "      <th>20</th>\n",
       "      <td>274.836182</td>\n",
       "      <td>NaN</td>\n",
       "      <td>5.017637</td>\n",
       "      <td>13.247561</td>\n",
       "      <td>288.164788</td>\n",
       "      <td>1.355415</td>\n",
       "      <td>0.016704</td>\n",
       "      <td>162.040942</td>\n",
       "      <td>NaN</td>\n",
       "    </tr>\n",
       "    <tr>\n",
       "      <th>21</th>\n",
       "      <td>274.617920</td>\n",
       "      <td>NaN</td>\n",
       "      <td>5.018809</td>\n",
       "      <td>0.000000</td>\n",
       "      <td>291.200000</td>\n",
       "      <td>1.201698</td>\n",
       "      <td>0.016704</td>\n",
       "      <td>47.531006</td>\n",
       "      <td>NaN</td>\n",
       "    </tr>\n",
       "    <tr>\n",
       "      <th>22</th>\n",
       "      <td>274.843750</td>\n",
       "      <td>NaN</td>\n",
       "      <td>5.021336</td>\n",
       "      <td>0.645104</td>\n",
       "      <td>275.850790</td>\n",
       "      <td>1.369772</td>\n",
       "      <td>0.016704</td>\n",
       "      <td>39.151627</td>\n",
       "      <td>NaN</td>\n",
       "    </tr>\n",
       "    <tr>\n",
       "      <th>45</th>\n",
       "      <td>273.274658</td>\n",
       "      <td>NaN</td>\n",
       "      <td>5.289814</td>\n",
       "      <td>2.646829</td>\n",
       "      <td>277.199392</td>\n",
       "      <td>2.579900</td>\n",
       "      <td>0.016704</td>\n",
       "      <td>100.017118</td>\n",
       "      <td>NaN</td>\n",
       "    </tr>\n",
       "    <tr>\n",
       "      <th>...</th>\n",
       "      <td>...</td>\n",
       "      <td>...</td>\n",
       "      <td>...</td>\n",
       "      <td>...</td>\n",
       "      <td>...</td>\n",
       "      <td>...</td>\n",
       "      <td>...</td>\n",
       "      <td>...</td>\n",
       "      <td>...</td>\n",
       "    </tr>\n",
       "    <tr>\n",
       "      <th>7404</th>\n",
       "      <td>275.603027</td>\n",
       "      <td>NaN</td>\n",
       "      <td>5.199688</td>\n",
       "      <td>8.630372</td>\n",
       "      <td>172.469415</td>\n",
       "      <td>4.962771</td>\n",
       "      <td>0.241199</td>\n",
       "      <td>103.131107</td>\n",
       "      <td>NaN</td>\n",
       "    </tr>\n",
       "    <tr>\n",
       "      <th>7424</th>\n",
       "      <td>280.566650</td>\n",
       "      <td>NaN</td>\n",
       "      <td>5.109646</td>\n",
       "      <td>17.635782</td>\n",
       "      <td>284.133254</td>\n",
       "      <td>6.850325</td>\n",
       "      <td>0.016704</td>\n",
       "      <td>150.653268</td>\n",
       "      <td>NaN</td>\n",
       "    </tr>\n",
       "    <tr>\n",
       "      <th>7426</th>\n",
       "      <td>281.394287</td>\n",
       "      <td>NaN</td>\n",
       "      <td>5.108047</td>\n",
       "      <td>2.543046</td>\n",
       "      <td>286.642250</td>\n",
       "      <td>7.015732</td>\n",
       "      <td>0.062753</td>\n",
       "      <td>83.878543</td>\n",
       "      <td>NaN</td>\n",
       "    </tr>\n",
       "    <tr>\n",
       "      <th>7427</th>\n",
       "      <td>280.814209</td>\n",
       "      <td>NaN</td>\n",
       "      <td>5.109370</td>\n",
       "      <td>0.000000</td>\n",
       "      <td>296.700000</td>\n",
       "      <td>7.135836</td>\n",
       "      <td>0.162801</td>\n",
       "      <td>48.906867</td>\n",
       "      <td>NaN</td>\n",
       "    </tr>\n",
       "    <tr>\n",
       "      <th>7428</th>\n",
       "      <td>280.854492</td>\n",
       "      <td>NaN</td>\n",
       "      <td>5.084934</td>\n",
       "      <td>8.978287</td>\n",
       "      <td>173.651804</td>\n",
       "      <td>7.261386</td>\n",
       "      <td>0.065278</td>\n",
       "      <td>40.311822</td>\n",
       "      <td>NaN</td>\n",
       "    </tr>\n",
       "  </tbody>\n",
       "</table>\n",
       "<p>1179 rows × 9 columns</p>\n",
       "</div>"
      ],
      "text/plain": [
       "      Temperature above oceans [K]  Max wave height [m]  Draught [m]  \\\n",
       "19                      275.542969                  NaN     5.021508   \n",
       "20                      274.836182                  NaN     5.017637   \n",
       "21                      274.617920                  NaN     5.018809   \n",
       "22                      274.843750                  NaN     5.021336   \n",
       "45                      273.274658                  NaN     5.289814   \n",
       "...                            ...                  ...          ...   \n",
       "7404                    275.603027                  NaN     5.199688   \n",
       "7424                    280.566650                  NaN     5.109646   \n",
       "7426                    281.394287                  NaN     5.108047   \n",
       "7427                    280.814209                  NaN     5.109370   \n",
       "7428                    280.854492                  NaN     5.084934   \n",
       "\n",
       "      SOG [knot]   COG [deg]  Wind Speed [m/s]  Current Speed [m/s]  \\\n",
       "19     17.132163  299.264957          2.114903             0.195875   \n",
       "20     13.247561  288.164788          1.355415             0.016704   \n",
       "21      0.000000  291.200000          1.201698             0.016704   \n",
       "22      0.645104  275.850790          1.369772             0.016704   \n",
       "45      2.646829  277.199392          2.579900             0.016704   \n",
       "...          ...         ...               ...                  ...   \n",
       "7404    8.630372  172.469415          4.962771             0.241199   \n",
       "7424   17.635782  284.133254          6.850325             0.016704   \n",
       "7426    2.543046  286.642250          7.015732             0.062753   \n",
       "7427    0.000000  296.700000          7.135836             0.162801   \n",
       "7428    8.978287  173.651804          7.261386             0.065278   \n",
       "\n",
       "      True Wind Direction [deg]  True Wave Direction [deg]  \n",
       "19                   132.389674                        NaN  \n",
       "20                   162.040942                        NaN  \n",
       "21                    47.531006                        NaN  \n",
       "22                    39.151627                        NaN  \n",
       "45                   100.017118                        NaN  \n",
       "...                         ...                        ...  \n",
       "7404                 103.131107                        NaN  \n",
       "7424                 150.653268                        NaN  \n",
       "7426                  83.878543                        NaN  \n",
       "7427                  48.906867                        NaN  \n",
       "7428                  40.311822                        NaN  \n",
       "\n",
       "[1179 rows x 9 columns]"
      ]
     },
     "execution_count": 282,
     "metadata": {},
     "output_type": "execute_result"
    }
   ],
   "source": [
    "df_ship[df_ship['Max wave height [m]'].isna()]"
   ]
  },
  {
   "cell_type": "code",
   "execution_count": 283,
   "metadata": {},
   "outputs": [],
   "source": [
    "df_ship2 = df_ship.rename({'Max wave height [m]': 'waveheight', 'Draught [m]': 'draught',\n",
    "                           'SOG [knot]': 'sog', 'Wind Speed [m/s]': 'windspeed', \n",
    "                           'True Wind Direction [deg]': 'truewinddir','Temperature above oceans [K]' : 'temperature',\n",
    "                           'COG [deg]': 'cog', 'Current Speed [m/s]' : 'curspeed','True Wave Direction [deg]' : 'truewavedir' \n",
    "                           }, axis=1) "
   ]
  },
  {
   "cell_type": "code",
   "execution_count": 284,
   "metadata": {},
   "outputs": [
    {
     "data": {
      "text/html": [
       "<div>\n",
       "<style scoped>\n",
       "    .dataframe tbody tr th:only-of-type {\n",
       "        vertical-align: middle;\n",
       "    }\n",
       "\n",
       "    .dataframe tbody tr th {\n",
       "        vertical-align: top;\n",
       "    }\n",
       "\n",
       "    .dataframe thead th {\n",
       "        text-align: right;\n",
       "    }\n",
       "</style>\n",
       "<table border=\"1\" class=\"dataframe\">\n",
       "  <thead>\n",
       "    <tr style=\"text-align: right;\">\n",
       "      <th></th>\n",
       "      <th>temperature</th>\n",
       "      <th>waveheight</th>\n",
       "      <th>draught</th>\n",
       "      <th>sog</th>\n",
       "      <th>cog</th>\n",
       "      <th>windspeed</th>\n",
       "      <th>curspeed</th>\n",
       "      <th>truewinddir</th>\n",
       "      <th>truewavedir</th>\n",
       "    </tr>\n",
       "  </thead>\n",
       "  <tbody>\n",
       "    <tr>\n",
       "      <th>0</th>\n",
       "      <td>277.311035</td>\n",
       "      <td>1.893614</td>\n",
       "      <td>5.026295</td>\n",
       "      <td>0.0</td>\n",
       "      <td>358.9</td>\n",
       "      <td>7.112664</td>\n",
       "      <td>0.122270</td>\n",
       "      <td>155.408180</td>\n",
       "      <td>22.610062</td>\n",
       "    </tr>\n",
       "    <tr>\n",
       "      <th>1</th>\n",
       "      <td>277.328369</td>\n",
       "      <td>1.752303</td>\n",
       "      <td>5.013148</td>\n",
       "      <td>0.0</td>\n",
       "      <td>358.9</td>\n",
       "      <td>6.653538</td>\n",
       "      <td>0.122270</td>\n",
       "      <td>158.458891</td>\n",
       "      <td>22.209274</td>\n",
       "    </tr>\n",
       "    <tr>\n",
       "      <th>2</th>\n",
       "      <td>277.390625</td>\n",
       "      <td>1.619775</td>\n",
       "      <td>5.021913</td>\n",
       "      <td>0.0</td>\n",
       "      <td>358.9</td>\n",
       "      <td>6.488697</td>\n",
       "      <td>0.099846</td>\n",
       "      <td>163.749663</td>\n",
       "      <td>20.857971</td>\n",
       "    </tr>\n",
       "    <tr>\n",
       "      <th>3</th>\n",
       "      <td>277.411377</td>\n",
       "      <td>1.518736</td>\n",
       "      <td>5.007304</td>\n",
       "      <td>0.0</td>\n",
       "      <td>358.9</td>\n",
       "      <td>6.104632</td>\n",
       "      <td>0.099846</td>\n",
       "      <td>170.724504</td>\n",
       "      <td>18.732071</td>\n",
       "    </tr>\n",
       "    <tr>\n",
       "      <th>4</th>\n",
       "      <td>277.430664</td>\n",
       "      <td>1.455034</td>\n",
       "      <td>5.007889</td>\n",
       "      <td>0.0</td>\n",
       "      <td>358.9</td>\n",
       "      <td>6.181707</td>\n",
       "      <td>0.099846</td>\n",
       "      <td>179.505940</td>\n",
       "      <td>15.731430</td>\n",
       "    </tr>\n",
       "  </tbody>\n",
       "</table>\n",
       "</div>"
      ],
      "text/plain": [
       "   temperature  waveheight   draught  sog    cog  windspeed  curspeed  \\\n",
       "0   277.311035    1.893614  5.026295  0.0  358.9   7.112664  0.122270   \n",
       "1   277.328369    1.752303  5.013148  0.0  358.9   6.653538  0.122270   \n",
       "2   277.390625    1.619775  5.021913  0.0  358.9   6.488697  0.099846   \n",
       "3   277.411377    1.518736  5.007304  0.0  358.9   6.104632  0.099846   \n",
       "4   277.430664    1.455034  5.007889  0.0  358.9   6.181707  0.099846   \n",
       "\n",
       "   truewinddir  truewavedir  \n",
       "0   155.408180    22.610062  \n",
       "1   158.458891    22.209274  \n",
       "2   163.749663    20.857971  \n",
       "3   170.724504    18.732071  \n",
       "4   179.505940    15.731430  "
      ]
     },
     "execution_count": 284,
     "metadata": {},
     "output_type": "execute_result"
    }
   ],
   "source": [
    "df_ship2.head(n=5)"
   ]
  },
  {
   "cell_type": "code",
   "execution_count": 285,
   "metadata": {},
   "outputs": [
    {
     "data": {
      "text/plain": [
       "False"
      ]
     },
     "execution_count": 285,
     "metadata": {},
     "output_type": "execute_result"
    }
   ],
   "source": [
    "df_ship2['temperature'].isnull().values.any()"
   ]
  },
  {
   "cell_type": "code",
   "execution_count": 286,
   "metadata": {},
   "outputs": [
    {
     "data": {
      "text/plain": [
       "True"
      ]
     },
     "execution_count": 286,
     "metadata": {},
     "output_type": "execute_result"
    }
   ],
   "source": [
    "df_ship2['waveheight'].isnull().values.any()"
   ]
  },
  {
   "cell_type": "code",
   "execution_count": 287,
   "metadata": {},
   "outputs": [
    {
     "data": {
      "text/plain": [
       "False"
      ]
     },
     "execution_count": 287,
     "metadata": {},
     "output_type": "execute_result"
    }
   ],
   "source": [
    "df_ship2['draught'].isnull().values.any()"
   ]
  },
  {
   "cell_type": "code",
   "execution_count": 288,
   "metadata": {},
   "outputs": [
    {
     "data": {
      "text/plain": [
       "False"
      ]
     },
     "execution_count": 288,
     "metadata": {},
     "output_type": "execute_result"
    }
   ],
   "source": [
    "df_ship2['sog'].isnull().values.any()\n"
   ]
  },
  {
   "cell_type": "code",
   "execution_count": 289,
   "metadata": {},
   "outputs": [
    {
     "data": {
      "text/plain": [
       "False"
      ]
     },
     "execution_count": 289,
     "metadata": {},
     "output_type": "execute_result"
    }
   ],
   "source": [
    "df_ship2['cog'].isnull().values.any()\n"
   ]
  },
  {
   "cell_type": "code",
   "execution_count": 290,
   "metadata": {},
   "outputs": [
    {
     "data": {
      "text/plain": [
       "False"
      ]
     },
     "execution_count": 290,
     "metadata": {},
     "output_type": "execute_result"
    }
   ],
   "source": [
    "df_ship2['windspeed'].isnull().values.any()"
   ]
  },
  {
   "cell_type": "code",
   "execution_count": 291,
   "metadata": {},
   "outputs": [
    {
     "data": {
      "text/plain": [
       "False"
      ]
     },
     "execution_count": 291,
     "metadata": {},
     "output_type": "execute_result"
    }
   ],
   "source": [
    "df_ship2['curspeed'].isnull().values.any()"
   ]
  },
  {
   "cell_type": "code",
   "execution_count": 292,
   "metadata": {},
   "outputs": [
    {
     "data": {
      "text/plain": [
       "False"
      ]
     },
     "execution_count": 292,
     "metadata": {},
     "output_type": "execute_result"
    }
   ],
   "source": [
    "df_ship2['truewinddir'].isnull().values.any()"
   ]
  },
  {
   "cell_type": "code",
   "execution_count": 293,
   "metadata": {},
   "outputs": [
    {
     "data": {
      "text/plain": [
       "True"
      ]
     },
     "execution_count": 293,
     "metadata": {},
     "output_type": "execute_result"
    }
   ],
   "source": [
    "df_ship2['truewavedir'].isnull().values.any()"
   ]
  },
  {
   "cell_type": "code",
   "execution_count": 294,
   "metadata": {},
   "outputs": [
    {
     "data": {
      "text/html": [
       "<div>\n",
       "<style scoped>\n",
       "    .dataframe tbody tr th:only-of-type {\n",
       "        vertical-align: middle;\n",
       "    }\n",
       "\n",
       "    .dataframe tbody tr th {\n",
       "        vertical-align: top;\n",
       "    }\n",
       "\n",
       "    .dataframe thead th {\n",
       "        text-align: right;\n",
       "    }\n",
       "</style>\n",
       "<table border=\"1\" class=\"dataframe\">\n",
       "  <thead>\n",
       "    <tr style=\"text-align: right;\">\n",
       "      <th></th>\n",
       "      <th>temperature</th>\n",
       "      <th>waveheight</th>\n",
       "      <th>draught</th>\n",
       "      <th>sog</th>\n",
       "      <th>cog</th>\n",
       "      <th>windspeed</th>\n",
       "      <th>curspeed</th>\n",
       "      <th>truewinddir</th>\n",
       "      <th>truewavedir</th>\n",
       "    </tr>\n",
       "  </thead>\n",
       "  <tbody>\n",
       "    <tr>\n",
       "      <th>0</th>\n",
       "      <td>277.311035</td>\n",
       "      <td>1.893614</td>\n",
       "      <td>5.026295</td>\n",
       "      <td>0.000000</td>\n",
       "      <td>358.900000</td>\n",
       "      <td>7.112664</td>\n",
       "      <td>0.122270</td>\n",
       "      <td>155.408180</td>\n",
       "      <td>22.610062</td>\n",
       "    </tr>\n",
       "    <tr>\n",
       "      <th>1</th>\n",
       "      <td>277.328369</td>\n",
       "      <td>1.752303</td>\n",
       "      <td>5.013148</td>\n",
       "      <td>0.000000</td>\n",
       "      <td>358.900000</td>\n",
       "      <td>6.653538</td>\n",
       "      <td>0.122270</td>\n",
       "      <td>158.458891</td>\n",
       "      <td>22.209274</td>\n",
       "    </tr>\n",
       "    <tr>\n",
       "      <th>2</th>\n",
       "      <td>277.390625</td>\n",
       "      <td>1.619775</td>\n",
       "      <td>5.021913</td>\n",
       "      <td>0.000000</td>\n",
       "      <td>358.900000</td>\n",
       "      <td>6.488697</td>\n",
       "      <td>0.099846</td>\n",
       "      <td>163.749663</td>\n",
       "      <td>20.857971</td>\n",
       "    </tr>\n",
       "    <tr>\n",
       "      <th>3</th>\n",
       "      <td>277.411377</td>\n",
       "      <td>1.518736</td>\n",
       "      <td>5.007304</td>\n",
       "      <td>0.000000</td>\n",
       "      <td>358.900000</td>\n",
       "      <td>6.104632</td>\n",
       "      <td>0.099846</td>\n",
       "      <td>170.724504</td>\n",
       "      <td>18.732071</td>\n",
       "    </tr>\n",
       "    <tr>\n",
       "      <th>4</th>\n",
       "      <td>277.430664</td>\n",
       "      <td>1.455034</td>\n",
       "      <td>5.007889</td>\n",
       "      <td>0.000000</td>\n",
       "      <td>358.900000</td>\n",
       "      <td>6.181707</td>\n",
       "      <td>0.099846</td>\n",
       "      <td>179.505940</td>\n",
       "      <td>15.731430</td>\n",
       "    </tr>\n",
       "    <tr>\n",
       "      <th>5</th>\n",
       "      <td>277.389648</td>\n",
       "      <td>1.449675</td>\n",
       "      <td>5.016434</td>\n",
       "      <td>0.000000</td>\n",
       "      <td>358.900000</td>\n",
       "      <td>7.010625</td>\n",
       "      <td>0.110275</td>\n",
       "      <td>176.640877</td>\n",
       "      <td>11.748291</td>\n",
       "    </tr>\n",
       "    <tr>\n",
       "      <th>6</th>\n",
       "      <td>277.320557</td>\n",
       "      <td>1.518332</td>\n",
       "      <td>5.021130</td>\n",
       "      <td>0.000000</td>\n",
       "      <td>358.900000</td>\n",
       "      <td>7.710115</td>\n",
       "      <td>0.110275</td>\n",
       "      <td>176.708409</td>\n",
       "      <td>7.536240</td>\n",
       "    </tr>\n",
       "    <tr>\n",
       "      <th>7</th>\n",
       "      <td>277.155518</td>\n",
       "      <td>1.623140</td>\n",
       "      <td>5.014087</td>\n",
       "      <td>0.000000</td>\n",
       "      <td>358.900000</td>\n",
       "      <td>8.037884</td>\n",
       "      <td>0.110275</td>\n",
       "      <td>179.497847</td>\n",
       "      <td>4.786667</td>\n",
       "    </tr>\n",
       "    <tr>\n",
       "      <th>8</th>\n",
       "      <td>276.900391</td>\n",
       "      <td>1.661038</td>\n",
       "      <td>5.017723</td>\n",
       "      <td>14.578394</td>\n",
       "      <td>299.573513</td>\n",
       "      <td>7.648595</td>\n",
       "      <td>0.104064</td>\n",
       "      <td>91.133175</td>\n",
       "      <td>90.495209</td>\n",
       "    </tr>\n",
       "    <tr>\n",
       "      <th>9</th>\n",
       "      <td>276.705566</td>\n",
       "      <td>1.501637</td>\n",
       "      <td>5.019207</td>\n",
       "      <td>18.148696</td>\n",
       "      <td>302.274508</td>\n",
       "      <td>6.700397</td>\n",
       "      <td>0.104050</td>\n",
       "      <td>68.884377</td>\n",
       "      <td>120.971331</td>\n",
       "    </tr>\n",
       "  </tbody>\n",
       "</table>\n",
       "</div>"
      ],
      "text/plain": [
       "   temperature  waveheight   draught        sog         cog  windspeed  \\\n",
       "0   277.311035    1.893614  5.026295   0.000000  358.900000   7.112664   \n",
       "1   277.328369    1.752303  5.013148   0.000000  358.900000   6.653538   \n",
       "2   277.390625    1.619775  5.021913   0.000000  358.900000   6.488697   \n",
       "3   277.411377    1.518736  5.007304   0.000000  358.900000   6.104632   \n",
       "4   277.430664    1.455034  5.007889   0.000000  358.900000   6.181707   \n",
       "5   277.389648    1.449675  5.016434   0.000000  358.900000   7.010625   \n",
       "6   277.320557    1.518332  5.021130   0.000000  358.900000   7.710115   \n",
       "7   277.155518    1.623140  5.014087   0.000000  358.900000   8.037884   \n",
       "8   276.900391    1.661038  5.017723  14.578394  299.573513   7.648595   \n",
       "9   276.705566    1.501637  5.019207  18.148696  302.274508   6.700397   \n",
       "\n",
       "   curspeed  truewinddir  truewavedir  \n",
       "0  0.122270   155.408180    22.610062  \n",
       "1  0.122270   158.458891    22.209274  \n",
       "2  0.099846   163.749663    20.857971  \n",
       "3  0.099846   170.724504    18.732071  \n",
       "4  0.099846   179.505940    15.731430  \n",
       "5  0.110275   176.640877    11.748291  \n",
       "6  0.110275   176.708409     7.536240  \n",
       "7  0.110275   179.497847     4.786667  \n",
       "8  0.104064    91.133175    90.495209  \n",
       "9  0.104050    68.884377   120.971331  "
      ]
     },
     "execution_count": 294,
     "metadata": {},
     "output_type": "execute_result"
    }
   ],
   "source": [
    "# Replace NaN value with the median \n",
    "df_ship2.waveheight = df_ship2.waveheight.fillna(df_ship2.waveheight.mean())\n",
    "df_ship2.truewavedir = df_ship2.truewavedir.fillna(df_ship2.truewavedir.mean())\n",
    "df_ship2.head(n=10)"
   ]
  },
  {
   "cell_type": "code",
   "execution_count": 295,
   "metadata": {},
   "outputs": [
    {
     "data": {
      "text/plain": [
       "False"
      ]
     },
     "execution_count": 295,
     "metadata": {},
     "output_type": "execute_result"
    }
   ],
   "source": [
    "df_ship2['waveheight'].isnull().values.any()\n",
    "df_ship2['truewavedir'].isnull().values.any()"
   ]
  },
  {
   "cell_type": "code",
   "execution_count": 296,
   "metadata": {},
   "outputs": [
    {
     "name": "stdout",
     "output_type": "stream",
     "text": [
      "Pearsons correlation waveheight and sog: PearsonRResult(statistic=-0.14826450202589594, pvalue=6.742298755015192e-38)\n",
      "Pearsons correlation draught and sog: PearsonRResult(statistic=0.1306928913643334, pvalue=9.368821938487787e-30)\n",
      "Pearsons correlation windspeed and sog: PearsonRResult(statistic=-0.019329860758003137, pvalue=0.09518923413224391)\n",
      "Pearsons correlation truewinddir and sog: PearsonRResult(statistic=0.011424634796928342, pvalue=0.3240525707434022)\n"
     ]
    }
   ],
   "source": [
    "from scipy.stats import pearsonr\n",
    "corr_1 = pearsonr(df_ship2['waveheight'],df_ship2['sog'])\n",
    "corr_2 = pearsonr(df_ship2['draught'],df_ship2['sog'])\n",
    "corr_3 = pearsonr(df_ship2['windspeed'],df_ship2['sog'])\n",
    "corr_4 = pearsonr(df_ship2['truewinddir'],df_ship2['sog']) \n",
    "print('Pearsons correlation waveheight and sog:', corr_1)\n",
    "print('Pearsons correlation draught and sog:', corr_2)\n",
    "print('Pearsons correlation windspeed and sog:', corr_3)\n",
    "print('Pearsons correlation truewinddir and sog:', corr_4)\n",
    "\n",
    "# Pearsons regression shows that there is almost no correlation between these variables \n",
    "# p values are greater than the 5% confidence interval, hence the null hypothesis cannot be rejceted ( no significant correlation betweem the varaiables)\n",
    "\n"
   ]
  },
  {
   "cell_type": "code",
   "execution_count": 297,
   "metadata": {},
   "outputs": [],
   "source": [
    "# Implement the Random forest, but first, data is to be split into training and validation data\n",
    "\n",
    "from sklearn.model_selection import train_test_split\n",
    "\n",
    "#x_train,x_test,y_train,y_test = train_test_split(df_ship2,target,test_size=0.2)\n",
    "#x_train,x_test,y_train,y_test = train_test_split(df_ship2.drop(['sog'],axis=1),df_ship2.sog_cat,test_size=0.2)\n",
    "# Try with regressor \n",
    "x_train,x_test,y_train,y_test = train_test_split(df_ship2.drop(['sog'],axis=1),df_ship2.sog,test_size=0.2)\n"
   ]
  },
  {
   "cell_type": "code",
   "execution_count": 298,
   "metadata": {},
   "outputs": [
    {
     "data": {
      "text/html": [
       "<div>\n",
       "<style scoped>\n",
       "    .dataframe tbody tr th:only-of-type {\n",
       "        vertical-align: middle;\n",
       "    }\n",
       "\n",
       "    .dataframe tbody tr th {\n",
       "        vertical-align: top;\n",
       "    }\n",
       "\n",
       "    .dataframe thead th {\n",
       "        text-align: right;\n",
       "    }\n",
       "</style>\n",
       "<table border=\"1\" class=\"dataframe\">\n",
       "  <thead>\n",
       "    <tr style=\"text-align: right;\">\n",
       "      <th></th>\n",
       "      <th>temperature</th>\n",
       "      <th>waveheight</th>\n",
       "      <th>draught</th>\n",
       "      <th>cog</th>\n",
       "      <th>windspeed</th>\n",
       "      <th>curspeed</th>\n",
       "      <th>truewinddir</th>\n",
       "      <th>truewavedir</th>\n",
       "    </tr>\n",
       "  </thead>\n",
       "  <tbody>\n",
       "    <tr>\n",
       "      <th>1855</th>\n",
       "      <td>278.104981</td>\n",
       "      <td>0.857375</td>\n",
       "      <td>5.469345</td>\n",
       "      <td>99.729138</td>\n",
       "      <td>6.150542</td>\n",
       "      <td>0.040104</td>\n",
       "      <td>32.941435</td>\n",
       "      <td>122.901291</td>\n",
       "    </tr>\n",
       "    <tr>\n",
       "      <th>4947</th>\n",
       "      <td>287.801758</td>\n",
       "      <td>1.601278</td>\n",
       "      <td>4.942535</td>\n",
       "      <td>188.948679</td>\n",
       "      <td>5.139331</td>\n",
       "      <td>0.016704</td>\n",
       "      <td>78.173197</td>\n",
       "      <td>89.391779</td>\n",
       "    </tr>\n",
       "    <tr>\n",
       "      <th>5676</th>\n",
       "      <td>286.402100</td>\n",
       "      <td>2.063581</td>\n",
       "      <td>4.981272</td>\n",
       "      <td>3.100000</td>\n",
       "      <td>7.062728</td>\n",
       "      <td>0.194862</td>\n",
       "      <td>147.141810</td>\n",
       "      <td>8.870041</td>\n",
       "    </tr>\n",
       "    <tr>\n",
       "      <th>5964</th>\n",
       "      <td>286.771240</td>\n",
       "      <td>3.535138</td>\n",
       "      <td>5.380060</td>\n",
       "      <td>99.055294</td>\n",
       "      <td>11.477322</td>\n",
       "      <td>0.061448</td>\n",
       "      <td>45.402334</td>\n",
       "      <td>133.449869</td>\n",
       "    </tr>\n",
       "    <tr>\n",
       "      <th>1317</th>\n",
       "      <td>276.547119</td>\n",
       "      <td>1.342162</td>\n",
       "      <td>4.842559</td>\n",
       "      <td>354.400000</td>\n",
       "      <td>7.324249</td>\n",
       "      <td>0.115477</td>\n",
       "      <td>56.156787</td>\n",
       "      <td>115.510790</td>\n",
       "    </tr>\n",
       "    <tr>\n",
       "      <th>...</th>\n",
       "      <td>...</td>\n",
       "      <td>...</td>\n",
       "      <td>...</td>\n",
       "      <td>...</td>\n",
       "      <td>...</td>\n",
       "      <td>...</td>\n",
       "      <td>...</td>\n",
       "      <td>...</td>\n",
       "    </tr>\n",
       "    <tr>\n",
       "      <th>1241</th>\n",
       "      <td>279.843750</td>\n",
       "      <td>1.207572</td>\n",
       "      <td>5.199734</td>\n",
       "      <td>97.940491</td>\n",
       "      <td>7.236032</td>\n",
       "      <td>0.123194</td>\n",
       "      <td>43.011426</td>\n",
       "      <td>140.070025</td>\n",
       "    </tr>\n",
       "    <tr>\n",
       "      <th>2595</th>\n",
       "      <td>278.361084</td>\n",
       "      <td>0.428347</td>\n",
       "      <td>5.199794</td>\n",
       "      <td>349.900000</td>\n",
       "      <td>0.539243</td>\n",
       "      <td>0.049767</td>\n",
       "      <td>155.005867</td>\n",
       "      <td>170.985626</td>\n",
       "    </tr>\n",
       "    <tr>\n",
       "      <th>4932</th>\n",
       "      <td>288.421875</td>\n",
       "      <td>1.354020</td>\n",
       "      <td>5.289721</td>\n",
       "      <td>101.983634</td>\n",
       "      <td>7.001692</td>\n",
       "      <td>0.016704</td>\n",
       "      <td>124.285979</td>\n",
       "      <td>49.165751</td>\n",
       "    </tr>\n",
       "    <tr>\n",
       "      <th>6008</th>\n",
       "      <td>281.792969</td>\n",
       "      <td>0.529077</td>\n",
       "      <td>5.290342</td>\n",
       "      <td>303.466985</td>\n",
       "      <td>3.661250</td>\n",
       "      <td>0.192673</td>\n",
       "      <td>151.215860</td>\n",
       "      <td>10.742042</td>\n",
       "    </tr>\n",
       "    <tr>\n",
       "      <th>3819</th>\n",
       "      <td>292.463623</td>\n",
       "      <td>0.273136</td>\n",
       "      <td>5.380472</td>\n",
       "      <td>273.436587</td>\n",
       "      <td>3.484549</td>\n",
       "      <td>0.073533</td>\n",
       "      <td>142.557700</td>\n",
       "      <td>35.387924</td>\n",
       "    </tr>\n",
       "  </tbody>\n",
       "</table>\n",
       "<p>5962 rows × 8 columns</p>\n",
       "</div>"
      ],
      "text/plain": [
       "      temperature  waveheight   draught         cog  windspeed  curspeed  \\\n",
       "1855   278.104981    0.857375  5.469345   99.729138   6.150542  0.040104   \n",
       "4947   287.801758    1.601278  4.942535  188.948679   5.139331  0.016704   \n",
       "5676   286.402100    2.063581  4.981272    3.100000   7.062728  0.194862   \n",
       "5964   286.771240    3.535138  5.380060   99.055294  11.477322  0.061448   \n",
       "1317   276.547119    1.342162  4.842559  354.400000   7.324249  0.115477   \n",
       "...           ...         ...       ...         ...        ...       ...   \n",
       "1241   279.843750    1.207572  5.199734   97.940491   7.236032  0.123194   \n",
       "2595   278.361084    0.428347  5.199794  349.900000   0.539243  0.049767   \n",
       "4932   288.421875    1.354020  5.289721  101.983634   7.001692  0.016704   \n",
       "6008   281.792969    0.529077  5.290342  303.466985   3.661250  0.192673   \n",
       "3819   292.463623    0.273136  5.380472  273.436587   3.484549  0.073533   \n",
       "\n",
       "      truewinddir  truewavedir  \n",
       "1855    32.941435   122.901291  \n",
       "4947    78.173197    89.391779  \n",
       "5676   147.141810     8.870041  \n",
       "5964    45.402334   133.449869  \n",
       "1317    56.156787   115.510790  \n",
       "...           ...          ...  \n",
       "1241    43.011426   140.070025  \n",
       "2595   155.005867   170.985626  \n",
       "4932   124.285979    49.165751  \n",
       "6008   151.215860    10.742042  \n",
       "3819   142.557700    35.387924  \n",
       "\n",
       "[5962 rows x 8 columns]"
      ]
     },
     "execution_count": 298,
     "metadata": {},
     "output_type": "execute_result"
    }
   ],
   "source": [
    "x_train"
   ]
  },
  {
   "cell_type": "code",
   "execution_count": 299,
   "metadata": {},
   "outputs": [
    {
     "data": {
      "text/plain": [
       "1855    19.558970\n",
       "4947     7.159106\n",
       "5676     0.000297\n",
       "5964    18.561759\n",
       "1317     0.000000\n",
       "          ...    \n",
       "1241    19.755514\n",
       "2595     0.000000\n",
       "4932    18.182139\n",
       "6008    16.086718\n",
       "3819    18.808142\n",
       "Name: sog, Length: 5962, dtype: float64"
      ]
     },
     "execution_count": 299,
     "metadata": {},
     "output_type": "execute_result"
    }
   ],
   "source": [
    "y_train"
   ]
  },
  {
   "cell_type": "code",
   "execution_count": 300,
   "metadata": {},
   "outputs": [
    {
     "data": {
      "text/plain": [
       "5962"
      ]
     },
     "execution_count": 300,
     "metadata": {},
     "output_type": "execute_result"
    }
   ],
   "source": [
    "len(x_train)\n"
   ]
  },
  {
   "cell_type": "code",
   "execution_count": 301,
   "metadata": {},
   "outputs": [
    {
     "data": {
      "text/plain": [
       "1491"
      ]
     },
     "execution_count": 301,
     "metadata": {},
     "output_type": "execute_result"
    }
   ],
   "source": [
    "len(x_test)"
   ]
  },
  {
   "cell_type": "code",
   "execution_count": 302,
   "metadata": {},
   "outputs": [
    {
     "data": {
      "text/html": [
       "<style>#sk-container-id-6 {color: black;background-color: white;}#sk-container-id-6 pre{padding: 0;}#sk-container-id-6 div.sk-toggleable {background-color: white;}#sk-container-id-6 label.sk-toggleable__label {cursor: pointer;display: block;width: 100%;margin-bottom: 0;padding: 0.3em;box-sizing: border-box;text-align: center;}#sk-container-id-6 label.sk-toggleable__label-arrow:before {content: \"▸\";float: left;margin-right: 0.25em;color: #696969;}#sk-container-id-6 label.sk-toggleable__label-arrow:hover:before {color: black;}#sk-container-id-6 div.sk-estimator:hover label.sk-toggleable__label-arrow:before {color: black;}#sk-container-id-6 div.sk-toggleable__content {max-height: 0;max-width: 0;overflow: hidden;text-align: left;background-color: #f0f8ff;}#sk-container-id-6 div.sk-toggleable__content pre {margin: 0.2em;color: black;border-radius: 0.25em;background-color: #f0f8ff;}#sk-container-id-6 input.sk-toggleable__control:checked~div.sk-toggleable__content {max-height: 200px;max-width: 100%;overflow: auto;}#sk-container-id-6 input.sk-toggleable__control:checked~label.sk-toggleable__label-arrow:before {content: \"▾\";}#sk-container-id-6 div.sk-estimator input.sk-toggleable__control:checked~label.sk-toggleable__label {background-color: #d4ebff;}#sk-container-id-6 div.sk-label input.sk-toggleable__control:checked~label.sk-toggleable__label {background-color: #d4ebff;}#sk-container-id-6 input.sk-hidden--visually {border: 0;clip: rect(1px 1px 1px 1px);clip: rect(1px, 1px, 1px, 1px);height: 1px;margin: -1px;overflow: hidden;padding: 0;position: absolute;width: 1px;}#sk-container-id-6 div.sk-estimator {font-family: monospace;background-color: #f0f8ff;border: 1px dotted black;border-radius: 0.25em;box-sizing: border-box;margin-bottom: 0.5em;}#sk-container-id-6 div.sk-estimator:hover {background-color: #d4ebff;}#sk-container-id-6 div.sk-parallel-item::after {content: \"\";width: 100%;border-bottom: 1px solid gray;flex-grow: 1;}#sk-container-id-6 div.sk-label:hover label.sk-toggleable__label {background-color: #d4ebff;}#sk-container-id-6 div.sk-serial::before {content: \"\";position: absolute;border-left: 1px solid gray;box-sizing: border-box;top: 0;bottom: 0;left: 50%;z-index: 0;}#sk-container-id-6 div.sk-serial {display: flex;flex-direction: column;align-items: center;background-color: white;padding-right: 0.2em;padding-left: 0.2em;position: relative;}#sk-container-id-6 div.sk-item {position: relative;z-index: 1;}#sk-container-id-6 div.sk-parallel {display: flex;align-items: stretch;justify-content: center;background-color: white;position: relative;}#sk-container-id-6 div.sk-item::before, #sk-container-id-6 div.sk-parallel-item::before {content: \"\";position: absolute;border-left: 1px solid gray;box-sizing: border-box;top: 0;bottom: 0;left: 50%;z-index: -1;}#sk-container-id-6 div.sk-parallel-item {display: flex;flex-direction: column;z-index: 1;position: relative;background-color: white;}#sk-container-id-6 div.sk-parallel-item:first-child::after {align-self: flex-end;width: 50%;}#sk-container-id-6 div.sk-parallel-item:last-child::after {align-self: flex-start;width: 50%;}#sk-container-id-6 div.sk-parallel-item:only-child::after {width: 0;}#sk-container-id-6 div.sk-dashed-wrapped {border: 1px dashed gray;margin: 0 0.4em 0.5em 0.4em;box-sizing: border-box;padding-bottom: 0.4em;background-color: white;}#sk-container-id-6 div.sk-label label {font-family: monospace;font-weight: bold;display: inline-block;line-height: 1.2em;}#sk-container-id-6 div.sk-label-container {text-align: center;}#sk-container-id-6 div.sk-container {/* jupyter's `normalize.less` sets `[hidden] { display: none; }` but bootstrap.min.css set `[hidden] { display: none !important; }` so we also need the `!important` here to be able to override the default hidden behavior on the sphinx rendered scikit-learn.org. See: https://github.com/scikit-learn/scikit-learn/issues/21755 */display: inline-block !important;position: relative;}#sk-container-id-6 div.sk-text-repr-fallback {display: none;}</style><div id=\"sk-container-id-6\" class=\"sk-top-container\"><div class=\"sk-text-repr-fallback\"><pre>RandomForestRegressor()</pre><b>In a Jupyter environment, please rerun this cell to show the HTML representation or trust the notebook. <br />On GitHub, the HTML representation is unable to render, please try loading this page with nbviewer.org.</b></div><div class=\"sk-container\" hidden><div class=\"sk-item\"><div class=\"sk-estimator sk-toggleable\"><input class=\"sk-toggleable__control sk-hidden--visually\" id=\"sk-estimator-id-6\" type=\"checkbox\" checked><label for=\"sk-estimator-id-6\" class=\"sk-toggleable__label sk-toggleable__label-arrow\">RandomForestRegressor</label><div class=\"sk-toggleable__content\"><pre>RandomForestRegressor()</pre></div></div></div></div></div>"
      ],
      "text/plain": [
       "RandomForestRegressor()"
      ]
     },
     "execution_count": 302,
     "metadata": {},
     "output_type": "execute_result"
    }
   ],
   "source": [
    "#from sklearn.ensemble import RandomForestClassifier\n",
    "#model = RandomForestClassifier(n_estimators=100)\n",
    "## default value for tree estimator is n = 10\n",
    "#model.fit(x_train,y_train)\n",
    "\n",
    "from sklearn.ensemble import RandomForestRegressor\n",
    "model = RandomForestRegressor()\n",
    "model.fit(x_train,y_train)\n",
    "\n",
    "#from sklearn.linear_model import LinearRegression\n",
    "#model = LinearRegression\n",
    "#model.fit(x_train,y_train)"
   ]
  },
  {
   "cell_type": "code",
   "execution_count": 303,
   "metadata": {},
   "outputs": [
    {
     "data": {
      "text/plain": [
       "0.9344192627309206"
      ]
     },
     "execution_count": 303,
     "metadata": {},
     "output_type": "execute_result"
    }
   ],
   "source": [
    "model.score(x_test,y_test)\n",
    "# r^2 score"
   ]
  },
  {
   "cell_type": "code",
   "execution_count": 304,
   "metadata": {},
   "outputs": [],
   "source": [
    "y_predicted = model.predict(x_test)"
   ]
  },
  {
   "cell_type": "code",
   "execution_count": 305,
   "metadata": {},
   "outputs": [
    {
     "data": {
      "text/plain": [
       "0.9344326875026301"
      ]
     },
     "execution_count": 305,
     "metadata": {},
     "output_type": "execute_result"
    }
   ],
   "source": [
    "# Application for evaluation metrics, starting with explained variance\n",
    "\n",
    "from sklearn.metrics import explained_variance_score\n",
    "explained_variance_score(y_test,y_predicted)\n",
    "# Best value is 1 "
   ]
  },
  {
   "cell_type": "code",
   "execution_count": 306,
   "metadata": {},
   "outputs": [
    {
     "data": {
      "text/plain": [
       "0.8806016280760361"
      ]
     },
     "execution_count": 306,
     "metadata": {},
     "output_type": "execute_result"
    }
   ],
   "source": [
    "from sklearn.metrics import mean_absolute_error\n",
    "mean_absolute_error(y_test,y_predicted)\n",
    "# Best value is 0"
   ]
  },
  {
   "cell_type": "code",
   "execution_count": 307,
   "metadata": {},
   "outputs": [
    {
     "data": {
      "text/plain": [
       "4.858621630782042"
      ]
     },
     "execution_count": 307,
     "metadata": {},
     "output_type": "execute_result"
    }
   ],
   "source": [
    "from sklearn.metrics import mean_squared_error\n",
    "mean_squared_error(y_test,y_predicted)\n",
    "# Best value is 0"
   ]
  },
  {
   "cell_type": "code",
   "execution_count": 308,
   "metadata": {},
   "outputs": [
    {
     "data": {
      "text/plain": [
       "0.24889728960000923"
      ]
     },
     "execution_count": 308,
     "metadata": {},
     "output_type": "execute_result"
    }
   ],
   "source": [
    "from sklearn.metrics import median_absolute_error\n",
    "median_absolute_error(y_test,y_predicted)\n",
    "# Best value is 0"
   ]
  },
  {
   "cell_type": "code",
   "execution_count": 309,
   "metadata": {},
   "outputs": [],
   "source": [
    "#from sklearn.metrics import confusion_matrix\n",
    "#cm = confusion_matrix(y_test,y_predicted)\n",
    "#cm\n",
    "# with random forest regressor is error, since cm does not support continuous data"
   ]
  }
 ],
 "metadata": {
  "kernelspec": {
   "display_name": "geron1",
   "language": "python",
   "name": "python3"
  },
  "language_info": {
   "codemirror_mode": {
    "name": "ipython",
    "version": 3
   },
   "file_extension": ".py",
   "mimetype": "text/x-python",
   "name": "python",
   "nbconvert_exporter": "python",
   "pygments_lexer": "ipython3",
   "version": "3.9.15"
  },
  "orig_nbformat": 4
 },
 "nbformat": 4,
 "nbformat_minor": 2
}
