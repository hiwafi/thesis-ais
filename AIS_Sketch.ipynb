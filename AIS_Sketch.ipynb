{
 "cells": [
  {
   "cell_type": "code",
   "execution_count": 238,
   "metadata": {},
   "outputs": [
    {
     "data": {
      "text/html": [
       "<div>\n",
       "<style scoped>\n",
       "    .dataframe tbody tr th:only-of-type {\n",
       "        vertical-align: middle;\n",
       "    }\n",
       "\n",
       "    .dataframe tbody tr th {\n",
       "        vertical-align: top;\n",
       "    }\n",
       "\n",
       "    .dataframe thead th {\n",
       "        text-align: right;\n",
       "    }\n",
       "</style>\n",
       "<table border=\"1\" class=\"dataframe\">\n",
       "  <thead>\n",
       "    <tr style=\"text-align: right;\">\n",
       "      <th></th>\n",
       "      <th>Unnamed: 0</th>\n",
       "      <th>Time</th>\n",
       "      <th>LON</th>\n",
       "      <th>LAT</th>\n",
       "      <th>Temperature above oceans [K]</th>\n",
       "      <th>Air density above oceans [kg/m^3]</th>\n",
       "      <th>Max wave height [m]</th>\n",
       "      <th>Swell period [deg]</th>\n",
       "      <th>Wind wave period [s]</th>\n",
       "      <th>Wave period [s]</th>\n",
       "      <th>...</th>\n",
       "      <th>SOG [knot]</th>\n",
       "      <th>COG [deg]</th>\n",
       "      <th>Heading [deg]</th>\n",
       "      <th>Wind Speed [m/s]</th>\n",
       "      <th>Current Speed [m/s]</th>\n",
       "      <th>True Wind Direction [deg]</th>\n",
       "      <th>True Current Direction [deg]</th>\n",
       "      <th>True Swell Direction [deg]</th>\n",
       "      <th>True Wind Wave Direction [deg]</th>\n",
       "      <th>True Wave Direction [deg]</th>\n",
       "    </tr>\n",
       "  </thead>\n",
       "  <tbody>\n",
       "    <tr>\n",
       "      <th>0</th>\n",
       "      <td>0</td>\n",
       "      <td>01/01/2021 00:00</td>\n",
       "      <td>14.689663</td>\n",
       "      <td>55.098452</td>\n",
       "      <td>277.311035</td>\n",
       "      <td>1.259323</td>\n",
       "      <td>1.893614</td>\n",
       "      <td>4.818881</td>\n",
       "      <td>3.818459</td>\n",
       "      <td>4.154329</td>\n",
       "      <td>...</td>\n",
       "      <td>0.0</td>\n",
       "      <td>358.9</td>\n",
       "      <td>174.0</td>\n",
       "      <td>7.112664</td>\n",
       "      <td>0.122270</td>\n",
       "      <td>155.408180</td>\n",
       "      <td>105.591753</td>\n",
       "      <td>22.854050</td>\n",
       "      <td>22.749664</td>\n",
       "      <td>22.610062</td>\n",
       "    </tr>\n",
       "    <tr>\n",
       "      <th>1</th>\n",
       "      <td>1</td>\n",
       "      <td>01/01/2021 01:00</td>\n",
       "      <td>14.689659</td>\n",
       "      <td>55.098451</td>\n",
       "      <td>277.328369</td>\n",
       "      <td>1.259985</td>\n",
       "      <td>1.752303</td>\n",
       "      <td>4.755800</td>\n",
       "      <td>3.470216</td>\n",
       "      <td>4.130580</td>\n",
       "      <td>...</td>\n",
       "      <td>0.0</td>\n",
       "      <td>358.9</td>\n",
       "      <td>174.0</td>\n",
       "      <td>6.653538</td>\n",
       "      <td>0.122270</td>\n",
       "      <td>158.458891</td>\n",
       "      <td>105.591753</td>\n",
       "      <td>26.122772</td>\n",
       "      <td>19.152008</td>\n",
       "      <td>22.209274</td>\n",
       "    </tr>\n",
       "    <tr>\n",
       "      <th>2</th>\n",
       "      <td>2</td>\n",
       "      <td>01/01/2021 02:00</td>\n",
       "      <td>14.689648</td>\n",
       "      <td>55.098468</td>\n",
       "      <td>277.390625</td>\n",
       "      <td>1.260244</td>\n",
       "      <td>1.619775</td>\n",
       "      <td>4.645083</td>\n",
       "      <td>3.259682</td>\n",
       "      <td>4.083755</td>\n",
       "      <td>...</td>\n",
       "      <td>0.0</td>\n",
       "      <td>358.9</td>\n",
       "      <td>174.0</td>\n",
       "      <td>6.488697</td>\n",
       "      <td>0.099846</td>\n",
       "      <td>163.749663</td>\n",
       "      <td>116.740448</td>\n",
       "      <td>28.498383</td>\n",
       "      <td>12.424912</td>\n",
       "      <td>20.857971</td>\n",
       "    </tr>\n",
       "    <tr>\n",
       "      <th>3</th>\n",
       "      <td>3</td>\n",
       "      <td>01/01/2021 03:00</td>\n",
       "      <td>14.689646</td>\n",
       "      <td>55.098471</td>\n",
       "      <td>277.411377</td>\n",
       "      <td>1.260148</td>\n",
       "      <td>1.518736</td>\n",
       "      <td>4.588384</td>\n",
       "      <td>3.177906</td>\n",
       "      <td>4.010502</td>\n",
       "      <td>...</td>\n",
       "      <td>0.0</td>\n",
       "      <td>358.9</td>\n",
       "      <td>174.0</td>\n",
       "      <td>6.104632</td>\n",
       "      <td>0.099846</td>\n",
       "      <td>170.724504</td>\n",
       "      <td>116.740448</td>\n",
       "      <td>29.956985</td>\n",
       "      <td>6.725922</td>\n",
       "      <td>18.732071</td>\n",
       "    </tr>\n",
       "    <tr>\n",
       "      <th>4</th>\n",
       "      <td>4</td>\n",
       "      <td>01/01/2021 04:00</td>\n",
       "      <td>14.689644</td>\n",
       "      <td>55.098462</td>\n",
       "      <td>277.430664</td>\n",
       "      <td>1.260634</td>\n",
       "      <td>1.455034</td>\n",
       "      <td>4.528841</td>\n",
       "      <td>3.281654</td>\n",
       "      <td>3.913362</td>\n",
       "      <td>...</td>\n",
       "      <td>0.0</td>\n",
       "      <td>358.9</td>\n",
       "      <td>174.0</td>\n",
       "      <td>6.181707</td>\n",
       "      <td>0.099846</td>\n",
       "      <td>179.505940</td>\n",
       "      <td>116.740448</td>\n",
       "      <td>34.486298</td>\n",
       "      <td>3.761627</td>\n",
       "      <td>15.731430</td>\n",
       "    </tr>\n",
       "  </tbody>\n",
       "</table>\n",
       "<p>5 rows × 28 columns</p>\n",
       "</div>"
      ],
      "text/plain": [
       "   Unnamed: 0              Time        LON        LAT  \\\n",
       "0           0  01/01/2021 00:00  14.689663  55.098452   \n",
       "1           1  01/01/2021 01:00  14.689659  55.098451   \n",
       "2           2  01/01/2021 02:00  14.689648  55.098468   \n",
       "3           3  01/01/2021 03:00  14.689646  55.098471   \n",
       "4           4  01/01/2021 04:00  14.689644  55.098462   \n",
       "\n",
       "   Temperature above oceans [K]  Air density above oceans [kg/m^3]  \\\n",
       "0                    277.311035                           1.259323   \n",
       "1                    277.328369                           1.259985   \n",
       "2                    277.390625                           1.260244   \n",
       "3                    277.411377                           1.260148   \n",
       "4                    277.430664                           1.260634   \n",
       "\n",
       "   Max wave height [m]  Swell period [deg]  Wind wave period [s]  \\\n",
       "0             1.893614            4.818881              3.818459   \n",
       "1             1.752303            4.755800              3.470216   \n",
       "2             1.619775            4.645083              3.259682   \n",
       "3             1.518736            4.588384              3.177906   \n",
       "4             1.455034            4.528841              3.281654   \n",
       "\n",
       "   Wave period [s]  ...  SOG [knot]  COG [deg]  Heading [deg]  \\\n",
       "0         4.154329  ...         0.0      358.9          174.0   \n",
       "1         4.130580  ...         0.0      358.9          174.0   \n",
       "2         4.083755  ...         0.0      358.9          174.0   \n",
       "3         4.010502  ...         0.0      358.9          174.0   \n",
       "4         3.913362  ...         0.0      358.9          174.0   \n",
       "\n",
       "   Wind Speed [m/s]  Current Speed [m/s]  True Wind Direction [deg]  \\\n",
       "0          7.112664             0.122270                 155.408180   \n",
       "1          6.653538             0.122270                 158.458891   \n",
       "2          6.488697             0.099846                 163.749663   \n",
       "3          6.104632             0.099846                 170.724504   \n",
       "4          6.181707             0.099846                 179.505940   \n",
       "\n",
       "   True Current Direction [deg]  True Swell Direction [deg]  \\\n",
       "0                    105.591753                   22.854050   \n",
       "1                    105.591753                   26.122772   \n",
       "2                    116.740448                   28.498383   \n",
       "3                    116.740448                   29.956985   \n",
       "4                    116.740448                   34.486298   \n",
       "\n",
       "   True Wind Wave Direction [deg]  True Wave Direction [deg]  \n",
       "0                       22.749664                  22.610062  \n",
       "1                       19.152008                  22.209274  \n",
       "2                       12.424912                  20.857971  \n",
       "3                        6.725922                  18.732071  \n",
       "4                        3.761627                  15.731430  \n",
       "\n",
       "[5 rows x 28 columns]"
      ]
     },
     "execution_count": 238,
     "metadata": {},
     "output_type": "execute_result"
    }
   ],
   "source": [
    "import pandas as pd\n",
    "from matplotlib import pyplot\n",
    "df = pd.read_csv(\"AIS_Clean_001.csv\")\n",
    "# AIS clean 002 is only heading from west to easr (hopefully better model due to the similar heading)\n",
    "#df = pd.read_csv(\"AIS_Clean_002.csv\")\n",
    "df.head(n=5)"
   ]
  },
  {
   "cell_type": "code",
   "execution_count": 239,
   "metadata": {},
   "outputs": [
    {
     "data": {
      "text/html": [
       "<div>\n",
       "<style scoped>\n",
       "    .dataframe tbody tr th:only-of-type {\n",
       "        vertical-align: middle;\n",
       "    }\n",
       "\n",
       "    .dataframe tbody tr th {\n",
       "        vertical-align: top;\n",
       "    }\n",
       "\n",
       "    .dataframe thead th {\n",
       "        text-align: right;\n",
       "    }\n",
       "</style>\n",
       "<table border=\"1\" class=\"dataframe\">\n",
       "  <thead>\n",
       "    <tr style=\"text-align: right;\">\n",
       "      <th></th>\n",
       "      <th>Temperature above oceans [K]</th>\n",
       "      <th>Max wave height [m]</th>\n",
       "      <th>Draught [m]</th>\n",
       "      <th>SOG [knot]</th>\n",
       "      <th>COG [deg]</th>\n",
       "      <th>Wind Speed [m/s]</th>\n",
       "      <th>Current Speed [m/s]</th>\n",
       "      <th>True Wind Direction [deg]</th>\n",
       "      <th>True Wave Direction [deg]</th>\n",
       "    </tr>\n",
       "  </thead>\n",
       "  <tbody>\n",
       "    <tr>\n",
       "      <th>0</th>\n",
       "      <td>277.311035</td>\n",
       "      <td>1.893614</td>\n",
       "      <td>5.026295</td>\n",
       "      <td>0.0</td>\n",
       "      <td>358.9</td>\n",
       "      <td>7.112664</td>\n",
       "      <td>0.122270</td>\n",
       "      <td>155.408180</td>\n",
       "      <td>22.610062</td>\n",
       "    </tr>\n",
       "    <tr>\n",
       "      <th>1</th>\n",
       "      <td>277.328369</td>\n",
       "      <td>1.752303</td>\n",
       "      <td>5.013148</td>\n",
       "      <td>0.0</td>\n",
       "      <td>358.9</td>\n",
       "      <td>6.653538</td>\n",
       "      <td>0.122270</td>\n",
       "      <td>158.458891</td>\n",
       "      <td>22.209274</td>\n",
       "    </tr>\n",
       "    <tr>\n",
       "      <th>2</th>\n",
       "      <td>277.390625</td>\n",
       "      <td>1.619775</td>\n",
       "      <td>5.021913</td>\n",
       "      <td>0.0</td>\n",
       "      <td>358.9</td>\n",
       "      <td>6.488697</td>\n",
       "      <td>0.099846</td>\n",
       "      <td>163.749663</td>\n",
       "      <td>20.857971</td>\n",
       "    </tr>\n",
       "    <tr>\n",
       "      <th>3</th>\n",
       "      <td>277.411377</td>\n",
       "      <td>1.518736</td>\n",
       "      <td>5.007304</td>\n",
       "      <td>0.0</td>\n",
       "      <td>358.9</td>\n",
       "      <td>6.104632</td>\n",
       "      <td>0.099846</td>\n",
       "      <td>170.724504</td>\n",
       "      <td>18.732071</td>\n",
       "    </tr>\n",
       "    <tr>\n",
       "      <th>4</th>\n",
       "      <td>277.430664</td>\n",
       "      <td>1.455034</td>\n",
       "      <td>5.007889</td>\n",
       "      <td>0.0</td>\n",
       "      <td>358.9</td>\n",
       "      <td>6.181707</td>\n",
       "      <td>0.099846</td>\n",
       "      <td>179.505940</td>\n",
       "      <td>15.731430</td>\n",
       "    </tr>\n",
       "  </tbody>\n",
       "</table>\n",
       "</div>"
      ],
      "text/plain": [
       "   Temperature above oceans [K]  Max wave height [m]  Draught [m]  SOG [knot]  \\\n",
       "0                    277.311035             1.893614     5.026295         0.0   \n",
       "1                    277.328369             1.752303     5.013148         0.0   \n",
       "2                    277.390625             1.619775     5.021913         0.0   \n",
       "3                    277.411377             1.518736     5.007304         0.0   \n",
       "4                    277.430664             1.455034     5.007889         0.0   \n",
       "\n",
       "   COG [deg]  Wind Speed [m/s]  Current Speed [m/s]  \\\n",
       "0      358.9          7.112664             0.122270   \n",
       "1      358.9          6.653538             0.122270   \n",
       "2      358.9          6.488697             0.099846   \n",
       "3      358.9          6.104632             0.099846   \n",
       "4      358.9          6.181707             0.099846   \n",
       "\n",
       "   True Wind Direction [deg]  True Wave Direction [deg]  \n",
       "0                 155.408180                  22.610062  \n",
       "1                 158.458891                  22.209274  \n",
       "2                 163.749663                  20.857971  \n",
       "3                 170.724504                  18.732071  \n",
       "4                 179.505940                  15.731430  "
      ]
     },
     "execution_count": 239,
     "metadata": {},
     "output_type": "execute_result"
    }
   ],
   "source": [
    "# Master Drop, vary from here \n",
    "#df_ship = df.drop(['Unnamed: 0','Time','LON','LAT','Temperature above oceans [K]','Air density above oceans [kg/m^3]','Max wave height [m]',\n",
    "#'Swell period [deg]','Wind wave period [s]','Wave period [s]','Sea surface temperature [K]','Combined wind waves and swell height [m]','Swell height [m]',\n",
    "#'Wind wave height [m]','Surface pressure [Pa]','Draught [m]','Width [m]','Length [m]','SOG [knot]','COG [deg]','Heading [deg]','Wind Speed [m/s]','Current Speed [m/s]'\n",
    "#,'True Wind Direction [deg]','True Current Direction [deg]','True Swell Direction [deg]','True Wind Wave Direction [deg]','True Wave Direction [deg]'],axis=1)\n",
    "#df_ship.head(n=5)\n",
    "\n",
    "# According to slide from pak Uri \n",
    "df_ship = df.drop(['Unnamed: 0','Time','LON','LAT','Air density above oceans [kg/m^3]',\n",
    "'Swell period [deg]','Wind wave period [s]','Wave period [s]','Sea surface temperature [K]','Combined wind waves and swell height [m]','Swell height [m]',\n",
    "'Wind wave height [m]','Surface pressure [Pa]','Width [m]','Length [m]','COG [deg]','Heading [deg]','Current Speed [m/s]'\n",
    ",'True Current Direction [deg]','True Swell Direction [deg]','True Wind Wave Direction [deg]','True Wave Direction [deg]'],axis=1)\n",
    "df_ship.head(n=5)\n",
    "\n",
    "# Try to follow feature from Abebe\n",
    "df_ship = df.drop(['Unnamed: 0','Time','LON','LAT','Air density above oceans [kg/m^3]',\n",
    "'Swell period [deg]','Wind wave period [s]','Wave period [s]','Sea surface temperature [K]','Combined wind waves and swell height [m]','Swell height [m]',\n",
    "'Wind wave height [m]','Surface pressure [Pa]','Width [m]','Length [m]','Heading [deg]'\n",
    ",'True Current Direction [deg]','True Swell Direction [deg]','True Wind Wave Direction [deg]'],axis=1)\n",
    "df_ship.head(n=5)"
   ]
  },
  {
   "cell_type": "code",
   "execution_count": 240,
   "metadata": {},
   "outputs": [
    {
     "data": {
      "text/plain": [
       "False"
      ]
     },
     "execution_count": 240,
     "metadata": {},
     "output_type": "execute_result"
    }
   ],
   "source": [
    "df_ship['Temperature above oceans [K]'].isnull().values.any()"
   ]
  },
  {
   "cell_type": "code",
   "execution_count": 241,
   "metadata": {},
   "outputs": [
    {
     "data": {
      "text/plain": [
       "True"
      ]
     },
     "execution_count": 241,
     "metadata": {},
     "output_type": "execute_result"
    }
   ],
   "source": [
    "df_ship['Max wave height [m]'].isnull().values.any()"
   ]
  },
  {
   "cell_type": "code",
   "execution_count": 242,
   "metadata": {},
   "outputs": [
    {
     "data": {
      "text/plain": [
       "False"
      ]
     },
     "execution_count": 242,
     "metadata": {},
     "output_type": "execute_result"
    }
   ],
   "source": [
    "df_ship['Draught [m]'].isnull().values.any()"
   ]
  },
  {
   "cell_type": "code",
   "execution_count": 243,
   "metadata": {},
   "outputs": [
    {
     "data": {
      "text/plain": [
       "False"
      ]
     },
     "execution_count": 243,
     "metadata": {},
     "output_type": "execute_result"
    }
   ],
   "source": [
    "df_ship['SOG [knot]'].isnull().values.any()"
   ]
  },
  {
   "cell_type": "code",
   "execution_count": 244,
   "metadata": {},
   "outputs": [
    {
     "data": {
      "text/plain": [
       "False"
      ]
     },
     "execution_count": 244,
     "metadata": {},
     "output_type": "execute_result"
    }
   ],
   "source": [
    "df_ship['Wind Speed [m/s]'].isnull().values.any()"
   ]
  },
  {
   "cell_type": "code",
   "execution_count": 245,
   "metadata": {},
   "outputs": [
    {
     "data": {
      "text/plain": [
       "False"
      ]
     },
     "execution_count": 245,
     "metadata": {},
     "output_type": "execute_result"
    }
   ],
   "source": [
    "df_ship['True Wind Direction [deg]'].isnull().values.any()"
   ]
  },
  {
   "cell_type": "code",
   "execution_count": 246,
   "metadata": {},
   "outputs": [
    {
     "data": {
      "text/html": [
       "<div>\n",
       "<style scoped>\n",
       "    .dataframe tbody tr th:only-of-type {\n",
       "        vertical-align: middle;\n",
       "    }\n",
       "\n",
       "    .dataframe tbody tr th {\n",
       "        vertical-align: top;\n",
       "    }\n",
       "\n",
       "    .dataframe thead th {\n",
       "        text-align: right;\n",
       "    }\n",
       "</style>\n",
       "<table border=\"1\" class=\"dataframe\">\n",
       "  <thead>\n",
       "    <tr style=\"text-align: right;\">\n",
       "      <th></th>\n",
       "      <th>Temperature above oceans [K]</th>\n",
       "      <th>Max wave height [m]</th>\n",
       "      <th>Draught [m]</th>\n",
       "      <th>SOG [knot]</th>\n",
       "      <th>COG [deg]</th>\n",
       "      <th>Wind Speed [m/s]</th>\n",
       "      <th>Current Speed [m/s]</th>\n",
       "      <th>True Wind Direction [deg]</th>\n",
       "      <th>True Wave Direction [deg]</th>\n",
       "    </tr>\n",
       "  </thead>\n",
       "  <tbody>\n",
       "    <tr>\n",
       "      <th>12</th>\n",
       "      <td>274.617920</td>\n",
       "      <td>NaN</td>\n",
       "      <td>5.018809</td>\n",
       "      <td>0.000000</td>\n",
       "      <td>291.200000</td>\n",
       "      <td>1.201698</td>\n",
       "      <td>0.016704</td>\n",
       "      <td>47.531006</td>\n",
       "      <td>NaN</td>\n",
       "    </tr>\n",
       "    <tr>\n",
       "      <th>13</th>\n",
       "      <td>274.843750</td>\n",
       "      <td>NaN</td>\n",
       "      <td>5.021336</td>\n",
       "      <td>0.645104</td>\n",
       "      <td>275.850790</td>\n",
       "      <td>1.369772</td>\n",
       "      <td>0.016704</td>\n",
       "      <td>39.151627</td>\n",
       "      <td>NaN</td>\n",
       "    </tr>\n",
       "    <tr>\n",
       "      <th>31</th>\n",
       "      <td>273.274658</td>\n",
       "      <td>NaN</td>\n",
       "      <td>5.289814</td>\n",
       "      <td>2.646829</td>\n",
       "      <td>277.199392</td>\n",
       "      <td>2.579900</td>\n",
       "      <td>0.016704</td>\n",
       "      <td>100.017118</td>\n",
       "      <td>NaN</td>\n",
       "    </tr>\n",
       "    <tr>\n",
       "      <th>32</th>\n",
       "      <td>273.542481</td>\n",
       "      <td>NaN</td>\n",
       "      <td>5.293987</td>\n",
       "      <td>0.000000</td>\n",
       "      <td>281.400000</td>\n",
       "      <td>2.613073</td>\n",
       "      <td>0.016704</td>\n",
       "      <td>141.740800</td>\n",
       "      <td>NaN</td>\n",
       "    </tr>\n",
       "    <tr>\n",
       "      <th>33</th>\n",
       "      <td>273.721924</td>\n",
       "      <td>NaN</td>\n",
       "      <td>5.163580</td>\n",
       "      <td>5.789542</td>\n",
       "      <td>194.950688</td>\n",
       "      <td>2.260253</td>\n",
       "      <td>0.016704</td>\n",
       "      <td>141.504327</td>\n",
       "      <td>NaN</td>\n",
       "    </tr>\n",
       "    <tr>\n",
       "      <th>...</th>\n",
       "      <td>...</td>\n",
       "      <td>...</td>\n",
       "      <td>...</td>\n",
       "      <td>...</td>\n",
       "      <td>...</td>\n",
       "      <td>...</td>\n",
       "      <td>...</td>\n",
       "      <td>...</td>\n",
       "      <td>...</td>\n",
       "    </tr>\n",
       "    <tr>\n",
       "      <th>5591</th>\n",
       "      <td>275.476074</td>\n",
       "      <td>NaN</td>\n",
       "      <td>5.199712</td>\n",
       "      <td>0.000000</td>\n",
       "      <td>293.900000</td>\n",
       "      <td>4.278287</td>\n",
       "      <td>0.309195</td>\n",
       "      <td>106.562091</td>\n",
       "      <td>NaN</td>\n",
       "    </tr>\n",
       "    <tr>\n",
       "      <th>5592</th>\n",
       "      <td>275.603027</td>\n",
       "      <td>NaN</td>\n",
       "      <td>5.199688</td>\n",
       "      <td>8.630372</td>\n",
       "      <td>172.469415</td>\n",
       "      <td>4.962771</td>\n",
       "      <td>0.241199</td>\n",
       "      <td>103.131107</td>\n",
       "      <td>NaN</td>\n",
       "    </tr>\n",
       "    <tr>\n",
       "      <th>5609</th>\n",
       "      <td>281.394287</td>\n",
       "      <td>NaN</td>\n",
       "      <td>5.108047</td>\n",
       "      <td>2.543046</td>\n",
       "      <td>286.642250</td>\n",
       "      <td>7.015732</td>\n",
       "      <td>0.062753</td>\n",
       "      <td>83.878543</td>\n",
       "      <td>NaN</td>\n",
       "    </tr>\n",
       "    <tr>\n",
       "      <th>5610</th>\n",
       "      <td>280.814209</td>\n",
       "      <td>NaN</td>\n",
       "      <td>5.109370</td>\n",
       "      <td>0.000000</td>\n",
       "      <td>296.700000</td>\n",
       "      <td>7.135836</td>\n",
       "      <td>0.162801</td>\n",
       "      <td>48.906867</td>\n",
       "      <td>NaN</td>\n",
       "    </tr>\n",
       "    <tr>\n",
       "      <th>5611</th>\n",
       "      <td>280.854492</td>\n",
       "      <td>NaN</td>\n",
       "      <td>5.084934</td>\n",
       "      <td>8.978287</td>\n",
       "      <td>173.651804</td>\n",
       "      <td>7.261386</td>\n",
       "      <td>0.065278</td>\n",
       "      <td>40.311822</td>\n",
       "      <td>NaN</td>\n",
       "    </tr>\n",
       "  </tbody>\n",
       "</table>\n",
       "<p>1064 rows × 9 columns</p>\n",
       "</div>"
      ],
      "text/plain": [
       "      Temperature above oceans [K]  Max wave height [m]  Draught [m]  \\\n",
       "12                      274.617920                  NaN     5.018809   \n",
       "13                      274.843750                  NaN     5.021336   \n",
       "31                      273.274658                  NaN     5.289814   \n",
       "32                      273.542481                  NaN     5.293987   \n",
       "33                      273.721924                  NaN     5.163580   \n",
       "...                            ...                  ...          ...   \n",
       "5591                    275.476074                  NaN     5.199712   \n",
       "5592                    275.603027                  NaN     5.199688   \n",
       "5609                    281.394287                  NaN     5.108047   \n",
       "5610                    280.814209                  NaN     5.109370   \n",
       "5611                    280.854492                  NaN     5.084934   \n",
       "\n",
       "      SOG [knot]   COG [deg]  Wind Speed [m/s]  Current Speed [m/s]  \\\n",
       "12      0.000000  291.200000          1.201698             0.016704   \n",
       "13      0.645104  275.850790          1.369772             0.016704   \n",
       "31      2.646829  277.199392          2.579900             0.016704   \n",
       "32      0.000000  281.400000          2.613073             0.016704   \n",
       "33      5.789542  194.950688          2.260253             0.016704   \n",
       "...          ...         ...               ...                  ...   \n",
       "5591    0.000000  293.900000          4.278287             0.309195   \n",
       "5592    8.630372  172.469415          4.962771             0.241199   \n",
       "5609    2.543046  286.642250          7.015732             0.062753   \n",
       "5610    0.000000  296.700000          7.135836             0.162801   \n",
       "5611    8.978287  173.651804          7.261386             0.065278   \n",
       "\n",
       "      True Wind Direction [deg]  True Wave Direction [deg]  \n",
       "12                    47.531006                        NaN  \n",
       "13                    39.151627                        NaN  \n",
       "31                   100.017118                        NaN  \n",
       "32                   141.740800                        NaN  \n",
       "33                   141.504327                        NaN  \n",
       "...                         ...                        ...  \n",
       "5591                 106.562091                        NaN  \n",
       "5592                 103.131107                        NaN  \n",
       "5609                  83.878543                        NaN  \n",
       "5610                  48.906867                        NaN  \n",
       "5611                  40.311822                        NaN  \n",
       "\n",
       "[1064 rows x 9 columns]"
      ]
     },
     "execution_count": 246,
     "metadata": {},
     "output_type": "execute_result"
    }
   ],
   "source": [
    "df_ship[df_ship['Max wave height [m]'].isna()]"
   ]
  },
  {
   "cell_type": "code",
   "execution_count": 247,
   "metadata": {},
   "outputs": [],
   "source": [
    "df_ship2 = df_ship.rename({'Max wave height [m]': 'waveheight', 'Draught [m]': 'draught',\n",
    "                           'SOG [knot]': 'sog', 'Wind Speed [m/s]': 'windspeed', \n",
    "                           'True Wind Direction [deg]': 'truewinddir','Temperature above oceans [K]' : 'temperature',\n",
    "                           'COG [deg]': 'cog', 'Current Speed [m/s]' : 'curspeed','True Wave Direction [deg]' : 'truewavedir' \n",
    "                           }, axis=1) "
   ]
  },
  {
   "cell_type": "code",
   "execution_count": 248,
   "metadata": {},
   "outputs": [
    {
     "data": {
      "text/html": [
       "<div>\n",
       "<style scoped>\n",
       "    .dataframe tbody tr th:only-of-type {\n",
       "        vertical-align: middle;\n",
       "    }\n",
       "\n",
       "    .dataframe tbody tr th {\n",
       "        vertical-align: top;\n",
       "    }\n",
       "\n",
       "    .dataframe thead th {\n",
       "        text-align: right;\n",
       "    }\n",
       "</style>\n",
       "<table border=\"1\" class=\"dataframe\">\n",
       "  <thead>\n",
       "    <tr style=\"text-align: right;\">\n",
       "      <th></th>\n",
       "      <th>temperature</th>\n",
       "      <th>waveheight</th>\n",
       "      <th>draught</th>\n",
       "      <th>sog</th>\n",
       "      <th>cog</th>\n",
       "      <th>windspeed</th>\n",
       "      <th>curspeed</th>\n",
       "      <th>truewinddir</th>\n",
       "      <th>truewavedir</th>\n",
       "    </tr>\n",
       "  </thead>\n",
       "  <tbody>\n",
       "    <tr>\n",
       "      <th>0</th>\n",
       "      <td>277.311035</td>\n",
       "      <td>1.893614</td>\n",
       "      <td>5.026295</td>\n",
       "      <td>0.0</td>\n",
       "      <td>358.9</td>\n",
       "      <td>7.112664</td>\n",
       "      <td>0.122270</td>\n",
       "      <td>155.408180</td>\n",
       "      <td>22.610062</td>\n",
       "    </tr>\n",
       "    <tr>\n",
       "      <th>1</th>\n",
       "      <td>277.328369</td>\n",
       "      <td>1.752303</td>\n",
       "      <td>5.013148</td>\n",
       "      <td>0.0</td>\n",
       "      <td>358.9</td>\n",
       "      <td>6.653538</td>\n",
       "      <td>0.122270</td>\n",
       "      <td>158.458891</td>\n",
       "      <td>22.209274</td>\n",
       "    </tr>\n",
       "    <tr>\n",
       "      <th>2</th>\n",
       "      <td>277.390625</td>\n",
       "      <td>1.619775</td>\n",
       "      <td>5.021913</td>\n",
       "      <td>0.0</td>\n",
       "      <td>358.9</td>\n",
       "      <td>6.488697</td>\n",
       "      <td>0.099846</td>\n",
       "      <td>163.749663</td>\n",
       "      <td>20.857971</td>\n",
       "    </tr>\n",
       "    <tr>\n",
       "      <th>3</th>\n",
       "      <td>277.411377</td>\n",
       "      <td>1.518736</td>\n",
       "      <td>5.007304</td>\n",
       "      <td>0.0</td>\n",
       "      <td>358.9</td>\n",
       "      <td>6.104632</td>\n",
       "      <td>0.099846</td>\n",
       "      <td>170.724504</td>\n",
       "      <td>18.732071</td>\n",
       "    </tr>\n",
       "    <tr>\n",
       "      <th>4</th>\n",
       "      <td>277.430664</td>\n",
       "      <td>1.455034</td>\n",
       "      <td>5.007889</td>\n",
       "      <td>0.0</td>\n",
       "      <td>358.9</td>\n",
       "      <td>6.181707</td>\n",
       "      <td>0.099846</td>\n",
       "      <td>179.505940</td>\n",
       "      <td>15.731430</td>\n",
       "    </tr>\n",
       "  </tbody>\n",
       "</table>\n",
       "</div>"
      ],
      "text/plain": [
       "   temperature  waveheight   draught  sog    cog  windspeed  curspeed  \\\n",
       "0   277.311035    1.893614  5.026295  0.0  358.9   7.112664  0.122270   \n",
       "1   277.328369    1.752303  5.013148  0.0  358.9   6.653538  0.122270   \n",
       "2   277.390625    1.619775  5.021913  0.0  358.9   6.488697  0.099846   \n",
       "3   277.411377    1.518736  5.007304  0.0  358.9   6.104632  0.099846   \n",
       "4   277.430664    1.455034  5.007889  0.0  358.9   6.181707  0.099846   \n",
       "\n",
       "   truewinddir  truewavedir  \n",
       "0   155.408180    22.610062  \n",
       "1   158.458891    22.209274  \n",
       "2   163.749663    20.857971  \n",
       "3   170.724504    18.732071  \n",
       "4   179.505940    15.731430  "
      ]
     },
     "execution_count": 248,
     "metadata": {},
     "output_type": "execute_result"
    }
   ],
   "source": [
    "df_ship2.head(n=5)"
   ]
  },
  {
   "cell_type": "code",
   "execution_count": 249,
   "metadata": {},
   "outputs": [
    {
     "data": {
      "text/plain": [
       "False"
      ]
     },
     "execution_count": 249,
     "metadata": {},
     "output_type": "execute_result"
    }
   ],
   "source": [
    "df_ship2['temperature'].isnull().values.any()"
   ]
  },
  {
   "cell_type": "code",
   "execution_count": 250,
   "metadata": {},
   "outputs": [
    {
     "data": {
      "text/plain": [
       "True"
      ]
     },
     "execution_count": 250,
     "metadata": {},
     "output_type": "execute_result"
    }
   ],
   "source": [
    "df_ship2['waveheight'].isnull().values.any()"
   ]
  },
  {
   "cell_type": "code",
   "execution_count": 251,
   "metadata": {},
   "outputs": [
    {
     "data": {
      "text/plain": [
       "False"
      ]
     },
     "execution_count": 251,
     "metadata": {},
     "output_type": "execute_result"
    }
   ],
   "source": [
    "df_ship2['draught'].isnull().values.any()"
   ]
  },
  {
   "cell_type": "code",
   "execution_count": 252,
   "metadata": {},
   "outputs": [
    {
     "data": {
      "text/plain": [
       "False"
      ]
     },
     "execution_count": 252,
     "metadata": {},
     "output_type": "execute_result"
    }
   ],
   "source": [
    "df_ship2['sog'].isnull().values.any()\n"
   ]
  },
  {
   "cell_type": "code",
   "execution_count": 253,
   "metadata": {},
   "outputs": [
    {
     "data": {
      "text/plain": [
       "False"
      ]
     },
     "execution_count": 253,
     "metadata": {},
     "output_type": "execute_result"
    }
   ],
   "source": [
    "df_ship2['cog'].isnull().values.any()\n"
   ]
  },
  {
   "cell_type": "code",
   "execution_count": 254,
   "metadata": {},
   "outputs": [
    {
     "data": {
      "text/plain": [
       "False"
      ]
     },
     "execution_count": 254,
     "metadata": {},
     "output_type": "execute_result"
    }
   ],
   "source": [
    "df_ship2['windspeed'].isnull().values.any()"
   ]
  },
  {
   "cell_type": "code",
   "execution_count": 255,
   "metadata": {},
   "outputs": [
    {
     "data": {
      "text/plain": [
       "False"
      ]
     },
     "execution_count": 255,
     "metadata": {},
     "output_type": "execute_result"
    }
   ],
   "source": [
    "df_ship2['curspeed'].isnull().values.any()"
   ]
  },
  {
   "cell_type": "code",
   "execution_count": 256,
   "metadata": {},
   "outputs": [
    {
     "data": {
      "text/plain": [
       "False"
      ]
     },
     "execution_count": 256,
     "metadata": {},
     "output_type": "execute_result"
    }
   ],
   "source": [
    "df_ship2['truewinddir'].isnull().values.any()"
   ]
  },
  {
   "cell_type": "code",
   "execution_count": 257,
   "metadata": {},
   "outputs": [
    {
     "data": {
      "text/plain": [
       "True"
      ]
     },
     "execution_count": 257,
     "metadata": {},
     "output_type": "execute_result"
    }
   ],
   "source": [
    "df_ship2['truewavedir'].isnull().values.any()"
   ]
  },
  {
   "cell_type": "code",
   "execution_count": 258,
   "metadata": {},
   "outputs": [
    {
     "data": {
      "text/html": [
       "<div>\n",
       "<style scoped>\n",
       "    .dataframe tbody tr th:only-of-type {\n",
       "        vertical-align: middle;\n",
       "    }\n",
       "\n",
       "    .dataframe tbody tr th {\n",
       "        vertical-align: top;\n",
       "    }\n",
       "\n",
       "    .dataframe thead th {\n",
       "        text-align: right;\n",
       "    }\n",
       "</style>\n",
       "<table border=\"1\" class=\"dataframe\">\n",
       "  <thead>\n",
       "    <tr style=\"text-align: right;\">\n",
       "      <th></th>\n",
       "      <th>temperature</th>\n",
       "      <th>waveheight</th>\n",
       "      <th>draught</th>\n",
       "      <th>sog</th>\n",
       "      <th>cog</th>\n",
       "      <th>windspeed</th>\n",
       "      <th>curspeed</th>\n",
       "      <th>truewinddir</th>\n",
       "      <th>truewavedir</th>\n",
       "    </tr>\n",
       "  </thead>\n",
       "  <tbody>\n",
       "    <tr>\n",
       "      <th>0</th>\n",
       "      <td>277.311035</td>\n",
       "      <td>1.893614</td>\n",
       "      <td>5.026295</td>\n",
       "      <td>0.000000</td>\n",
       "      <td>358.900000</td>\n",
       "      <td>7.112664</td>\n",
       "      <td>0.122270</td>\n",
       "      <td>155.408180</td>\n",
       "      <td>22.610062</td>\n",
       "    </tr>\n",
       "    <tr>\n",
       "      <th>1</th>\n",
       "      <td>277.328369</td>\n",
       "      <td>1.752303</td>\n",
       "      <td>5.013148</td>\n",
       "      <td>0.000000</td>\n",
       "      <td>358.900000</td>\n",
       "      <td>6.653538</td>\n",
       "      <td>0.122270</td>\n",
       "      <td>158.458891</td>\n",
       "      <td>22.209274</td>\n",
       "    </tr>\n",
       "    <tr>\n",
       "      <th>2</th>\n",
       "      <td>277.390625</td>\n",
       "      <td>1.619775</td>\n",
       "      <td>5.021913</td>\n",
       "      <td>0.000000</td>\n",
       "      <td>358.900000</td>\n",
       "      <td>6.488697</td>\n",
       "      <td>0.099846</td>\n",
       "      <td>163.749663</td>\n",
       "      <td>20.857971</td>\n",
       "    </tr>\n",
       "    <tr>\n",
       "      <th>3</th>\n",
       "      <td>277.411377</td>\n",
       "      <td>1.518736</td>\n",
       "      <td>5.007304</td>\n",
       "      <td>0.000000</td>\n",
       "      <td>358.900000</td>\n",
       "      <td>6.104632</td>\n",
       "      <td>0.099846</td>\n",
       "      <td>170.724504</td>\n",
       "      <td>18.732071</td>\n",
       "    </tr>\n",
       "    <tr>\n",
       "      <th>4</th>\n",
       "      <td>277.430664</td>\n",
       "      <td>1.455034</td>\n",
       "      <td>5.007889</td>\n",
       "      <td>0.000000</td>\n",
       "      <td>358.900000</td>\n",
       "      <td>6.181707</td>\n",
       "      <td>0.099846</td>\n",
       "      <td>179.505940</td>\n",
       "      <td>15.731430</td>\n",
       "    </tr>\n",
       "    <tr>\n",
       "      <th>5</th>\n",
       "      <td>277.389648</td>\n",
       "      <td>1.449675</td>\n",
       "      <td>5.016434</td>\n",
       "      <td>0.000000</td>\n",
       "      <td>358.900000</td>\n",
       "      <td>7.010625</td>\n",
       "      <td>0.110275</td>\n",
       "      <td>176.640877</td>\n",
       "      <td>11.748291</td>\n",
       "    </tr>\n",
       "    <tr>\n",
       "      <th>6</th>\n",
       "      <td>277.320557</td>\n",
       "      <td>1.518332</td>\n",
       "      <td>5.021130</td>\n",
       "      <td>0.000000</td>\n",
       "      <td>358.900000</td>\n",
       "      <td>7.710115</td>\n",
       "      <td>0.110275</td>\n",
       "      <td>176.708409</td>\n",
       "      <td>7.536240</td>\n",
       "    </tr>\n",
       "    <tr>\n",
       "      <th>7</th>\n",
       "      <td>277.155518</td>\n",
       "      <td>1.623140</td>\n",
       "      <td>5.014087</td>\n",
       "      <td>0.000000</td>\n",
       "      <td>358.900000</td>\n",
       "      <td>8.037884</td>\n",
       "      <td>0.110275</td>\n",
       "      <td>179.497847</td>\n",
       "      <td>4.786667</td>\n",
       "    </tr>\n",
       "    <tr>\n",
       "      <th>8</th>\n",
       "      <td>276.399902</td>\n",
       "      <td>1.204397</td>\n",
       "      <td>5.019009</td>\n",
       "      <td>11.252112</td>\n",
       "      <td>117.003285</td>\n",
       "      <td>3.821501</td>\n",
       "      <td>0.093128</td>\n",
       "      <td>170.879672</td>\n",
       "      <td>1.236454</td>\n",
       "    </tr>\n",
       "    <tr>\n",
       "      <th>9</th>\n",
       "      <td>277.134033</td>\n",
       "      <td>1.275907</td>\n",
       "      <td>5.020452</td>\n",
       "      <td>18.119627</td>\n",
       "      <td>125.829385</td>\n",
       "      <td>5.479353</td>\n",
       "      <td>0.086621</td>\n",
       "      <td>102.327505</td>\n",
       "      <td>54.270195</td>\n",
       "    </tr>\n",
       "  </tbody>\n",
       "</table>\n",
       "</div>"
      ],
      "text/plain": [
       "   temperature  waveheight   draught        sog         cog  windspeed  \\\n",
       "0   277.311035    1.893614  5.026295   0.000000  358.900000   7.112664   \n",
       "1   277.328369    1.752303  5.013148   0.000000  358.900000   6.653538   \n",
       "2   277.390625    1.619775  5.021913   0.000000  358.900000   6.488697   \n",
       "3   277.411377    1.518736  5.007304   0.000000  358.900000   6.104632   \n",
       "4   277.430664    1.455034  5.007889   0.000000  358.900000   6.181707   \n",
       "5   277.389648    1.449675  5.016434   0.000000  358.900000   7.010625   \n",
       "6   277.320557    1.518332  5.021130   0.000000  358.900000   7.710115   \n",
       "7   277.155518    1.623140  5.014087   0.000000  358.900000   8.037884   \n",
       "8   276.399902    1.204397  5.019009  11.252112  117.003285   3.821501   \n",
       "9   277.134033    1.275907  5.020452  18.119627  125.829385   5.479353   \n",
       "\n",
       "   curspeed  truewinddir  truewavedir  \n",
       "0  0.122270   155.408180    22.610062  \n",
       "1  0.122270   158.458891    22.209274  \n",
       "2  0.099846   163.749663    20.857971  \n",
       "3  0.099846   170.724504    18.732071  \n",
       "4  0.099846   179.505940    15.731430  \n",
       "5  0.110275   176.640877    11.748291  \n",
       "6  0.110275   176.708409     7.536240  \n",
       "7  0.110275   179.497847     4.786667  \n",
       "8  0.093128   170.879672     1.236454  \n",
       "9  0.086621   102.327505    54.270195  "
      ]
     },
     "execution_count": 258,
     "metadata": {},
     "output_type": "execute_result"
    }
   ],
   "source": [
    "# Replace NaN value with the median \n",
    "df_ship2.waveheight = df_ship2.waveheight.fillna(df_ship2.waveheight.mean())\n",
    "df_ship2.truewavedir = df_ship2.truewavedir.fillna(df_ship2.truewavedir.mean())\n",
    "df_ship2.head(n=10)"
   ]
  },
  {
   "cell_type": "code",
   "execution_count": 259,
   "metadata": {},
   "outputs": [
    {
     "data": {
      "text/plain": [
       "False"
      ]
     },
     "execution_count": 259,
     "metadata": {},
     "output_type": "execute_result"
    }
   ],
   "source": [
    "df_ship2['waveheight'].isnull().values.any()\n",
    "df_ship2['truewavedir'].isnull().values.any()"
   ]
  },
  {
   "cell_type": "code",
   "execution_count": 260,
   "metadata": {},
   "outputs": [
    {
     "name": "stdout",
     "output_type": "stream",
     "text": [
      "Pearsons correlation waveheight and sog: PearsonRResult(statistic=-0.1521735987361328, pvalue=1.5052198036592983e-30)\n",
      "Pearsons correlation draught and sog: PearsonRResult(statistic=0.11671876905696363, pvalue=1.4879159942712113e-18)\n",
      "Pearsons correlation windspeed and sog: PearsonRResult(statistic=-0.041396703041803096, pvalue=0.0018808415266617078)\n",
      "Pearsons correlation truewinddir and sog: PearsonRResult(statistic=-0.16628105136461735, pvalue=3.162912009194145e-36)\n"
     ]
    }
   ],
   "source": [
    "from scipy.stats import pearsonr\n",
    "corr_1 = pearsonr(df_ship2['waveheight'],df_ship2['sog'])\n",
    "corr_2 = pearsonr(df_ship2['draught'],df_ship2['sog'])\n",
    "corr_3 = pearsonr(df_ship2['windspeed'],df_ship2['sog'])\n",
    "corr_4 = pearsonr(df_ship2['truewinddir'],df_ship2['sog']) \n",
    "print('Pearsons correlation waveheight and sog:', corr_1)\n",
    "print('Pearsons correlation draught and sog:', corr_2)\n",
    "print('Pearsons correlation windspeed and sog:', corr_3)\n",
    "print('Pearsons correlation truewinddir and sog:', corr_4)\n",
    "\n",
    "# Pearsons regression shows that there is almost no correlation between these variables \n",
    "# p values are greater than the 5% confidence interval, hence the null hypothesis cannot be rejceted ( no significant correlation betweem the varaiables)\n",
    "\n"
   ]
  },
  {
   "cell_type": "code",
   "execution_count": 261,
   "metadata": {},
   "outputs": [],
   "source": [
    "# Implement the Random forest, but first, data is to be split into training and validation data\n",
    "\n",
    "from sklearn.model_selection import train_test_split\n",
    "\n",
    "#x_train,x_test,y_train,y_test = train_test_split(df_ship2,target,test_size=0.2)\n",
    "#x_train,x_test,y_train,y_test = train_test_split(df_ship2.drop(['sog'],axis=1),df_ship2.sog_cat,test_size=0.2)\n",
    "# Try with regressor \n",
    "x_train,x_test,y_train,y_test = train_test_split(df_ship2.drop(['sog'],axis=1),df_ship2.sog,test_size=0.2)\n"
   ]
  },
  {
   "cell_type": "code",
   "execution_count": 262,
   "metadata": {},
   "outputs": [
    {
     "data": {
      "text/html": [
       "<div>\n",
       "<style scoped>\n",
       "    .dataframe tbody tr th:only-of-type {\n",
       "        vertical-align: middle;\n",
       "    }\n",
       "\n",
       "    .dataframe tbody tr th {\n",
       "        vertical-align: top;\n",
       "    }\n",
       "\n",
       "    .dataframe thead th {\n",
       "        text-align: right;\n",
       "    }\n",
       "</style>\n",
       "<table border=\"1\" class=\"dataframe\">\n",
       "  <thead>\n",
       "    <tr style=\"text-align: right;\">\n",
       "      <th></th>\n",
       "      <th>temperature</th>\n",
       "      <th>waveheight</th>\n",
       "      <th>draught</th>\n",
       "      <th>cog</th>\n",
       "      <th>windspeed</th>\n",
       "      <th>curspeed</th>\n",
       "      <th>truewinddir</th>\n",
       "      <th>truewavedir</th>\n",
       "    </tr>\n",
       "  </thead>\n",
       "  <tbody>\n",
       "    <tr>\n",
       "      <th>197</th>\n",
       "      <td>276.503174</td>\n",
       "      <td>2.725080</td>\n",
       "      <td>5.199650</td>\n",
       "      <td>103.576457</td>\n",
       "      <td>10.056273</td>\n",
       "      <td>0.284423</td>\n",
       "      <td>11.379707</td>\n",
       "      <td>167.683181</td>\n",
       "    </tr>\n",
       "    <tr>\n",
       "      <th>4037</th>\n",
       "      <td>284.643310</td>\n",
       "      <td>1.658198</td>\n",
       "      <td>5.091351</td>\n",
       "      <td>240.613390</td>\n",
       "      <td>4.551574</td>\n",
       "      <td>0.016704</td>\n",
       "      <td>135.953346</td>\n",
       "      <td>93.548067</td>\n",
       "    </tr>\n",
       "    <tr>\n",
       "      <th>4575</th>\n",
       "      <td>283.980957</td>\n",
       "      <td>1.020074</td>\n",
       "      <td>5.377384</td>\n",
       "      <td>126.027588</td>\n",
       "      <td>6.478422</td>\n",
       "      <td>0.194966</td>\n",
       "      <td>85.613196</td>\n",
       "      <td>99.391393</td>\n",
       "    </tr>\n",
       "    <tr>\n",
       "      <th>5514</th>\n",
       "      <td>271.780273</td>\n",
       "      <td>1.494530</td>\n",
       "      <td>4.839484</td>\n",
       "      <td>97.622105</td>\n",
       "      <td>5.663030</td>\n",
       "      <td>0.043077</td>\n",
       "      <td>46.115702</td>\n",
       "      <td>99.019216</td>\n",
       "    </tr>\n",
       "    <tr>\n",
       "      <th>4271</th>\n",
       "      <td>287.302246</td>\n",
       "      <td>1.432701</td>\n",
       "      <td>5.110801</td>\n",
       "      <td>356.000000</td>\n",
       "      <td>5.257495</td>\n",
       "      <td>0.112326</td>\n",
       "      <td>74.863342</td>\n",
       "      <td>19.267472</td>\n",
       "    </tr>\n",
       "    <tr>\n",
       "      <th>...</th>\n",
       "      <td>...</td>\n",
       "      <td>...</td>\n",
       "      <td>...</td>\n",
       "      <td>...</td>\n",
       "      <td>...</td>\n",
       "      <td>...</td>\n",
       "      <td>...</td>\n",
       "      <td>...</td>\n",
       "    </tr>\n",
       "    <tr>\n",
       "      <th>4906</th>\n",
       "      <td>280.621826</td>\n",
       "      <td>2.364604</td>\n",
       "      <td>5.291796</td>\n",
       "      <td>24.878727</td>\n",
       "      <td>9.961083</td>\n",
       "      <td>0.016704</td>\n",
       "      <td>126.372411</td>\n",
       "      <td>56.610519</td>\n",
       "    </tr>\n",
       "    <tr>\n",
       "      <th>5053</th>\n",
       "      <td>278.731934</td>\n",
       "      <td>1.556933</td>\n",
       "      <td>5.200000</td>\n",
       "      <td>356.000000</td>\n",
       "      <td>4.343013</td>\n",
       "      <td>0.072514</td>\n",
       "      <td>98.993053</td>\n",
       "      <td>83.928284</td>\n",
       "    </tr>\n",
       "    <tr>\n",
       "      <th>5183</th>\n",
       "      <td>275.937256</td>\n",
       "      <td>1.658198</td>\n",
       "      <td>5.109694</td>\n",
       "      <td>284.661880</td>\n",
       "      <td>7.914129</td>\n",
       "      <td>0.168801</td>\n",
       "      <td>110.489890</td>\n",
       "      <td>93.548067</td>\n",
       "    </tr>\n",
       "    <tr>\n",
       "      <th>4851</th>\n",
       "      <td>281.037598</td>\n",
       "      <td>1.658198</td>\n",
       "      <td>5.022187</td>\n",
       "      <td>291.300000</td>\n",
       "      <td>4.762128</td>\n",
       "      <td>0.016704</td>\n",
       "      <td>160.562546</td>\n",
       "      <td>93.548067</td>\n",
       "    </tr>\n",
       "    <tr>\n",
       "      <th>3981</th>\n",
       "      <td>289.169922</td>\n",
       "      <td>0.407694</td>\n",
       "      <td>5.019335</td>\n",
       "      <td>125.603739</td>\n",
       "      <td>2.188191</td>\n",
       "      <td>0.108569</td>\n",
       "      <td>31.813729</td>\n",
       "      <td>166.948443</td>\n",
       "    </tr>\n",
       "  </tbody>\n",
       "</table>\n",
       "<p>4508 rows × 8 columns</p>\n",
       "</div>"
      ],
      "text/plain": [
       "      temperature  waveheight   draught         cog  windspeed  curspeed  \\\n",
       "197    276.503174    2.725080  5.199650  103.576457  10.056273  0.284423   \n",
       "4037   284.643310    1.658198  5.091351  240.613390   4.551574  0.016704   \n",
       "4575   283.980957    1.020074  5.377384  126.027588   6.478422  0.194966   \n",
       "5514   271.780273    1.494530  4.839484   97.622105   5.663030  0.043077   \n",
       "4271   287.302246    1.432701  5.110801  356.000000   5.257495  0.112326   \n",
       "...           ...         ...       ...         ...        ...       ...   \n",
       "4906   280.621826    2.364604  5.291796   24.878727   9.961083  0.016704   \n",
       "5053   278.731934    1.556933  5.200000  356.000000   4.343013  0.072514   \n",
       "5183   275.937256    1.658198  5.109694  284.661880   7.914129  0.168801   \n",
       "4851   281.037598    1.658198  5.022187  291.300000   4.762128  0.016704   \n",
       "3981   289.169922    0.407694  5.019335  125.603739   2.188191  0.108569   \n",
       "\n",
       "      truewinddir  truewavedir  \n",
       "197     11.379707   167.683181  \n",
       "4037   135.953346    93.548067  \n",
       "4575    85.613196    99.391393  \n",
       "5514    46.115702    99.019216  \n",
       "4271    74.863342    19.267472  \n",
       "...           ...          ...  \n",
       "4906   126.372411    56.610519  \n",
       "5053    98.993053    83.928284  \n",
       "5183   110.489890    93.548067  \n",
       "4851   160.562546    93.548067  \n",
       "3981    31.813729   166.948443  \n",
       "\n",
       "[4508 rows x 8 columns]"
      ]
     },
     "execution_count": 262,
     "metadata": {},
     "output_type": "execute_result"
    }
   ],
   "source": [
    "x_train"
   ]
  },
  {
   "cell_type": "code",
   "execution_count": 263,
   "metadata": {},
   "outputs": [
    {
     "data": {
      "text/plain": [
       "197     19.416313\n",
       "4037     3.447715\n",
       "4575    17.793466\n",
       "5514    17.746317\n",
       "4271     0.000000\n",
       "          ...    \n",
       "4906     0.397210\n",
       "5053     0.000000\n",
       "5183     2.772650\n",
       "4851     0.000000\n",
       "3981     8.162171\n",
       "Name: sog, Length: 4508, dtype: float64"
      ]
     },
     "execution_count": 263,
     "metadata": {},
     "output_type": "execute_result"
    }
   ],
   "source": [
    "y_train"
   ]
  },
  {
   "cell_type": "code",
   "execution_count": 264,
   "metadata": {},
   "outputs": [
    {
     "data": {
      "text/plain": [
       "4508"
      ]
     },
     "execution_count": 264,
     "metadata": {},
     "output_type": "execute_result"
    }
   ],
   "source": [
    "len(x_train)\n"
   ]
  },
  {
   "cell_type": "code",
   "execution_count": 265,
   "metadata": {},
   "outputs": [
    {
     "data": {
      "text/plain": [
       "1128"
      ]
     },
     "execution_count": 265,
     "metadata": {},
     "output_type": "execute_result"
    }
   ],
   "source": [
    "len(x_test)"
   ]
  },
  {
   "cell_type": "code",
   "execution_count": 266,
   "metadata": {},
   "outputs": [
    {
     "data": {
      "text/html": [
       "<style>#sk-container-id-5 {color: black;background-color: white;}#sk-container-id-5 pre{padding: 0;}#sk-container-id-5 div.sk-toggleable {background-color: white;}#sk-container-id-5 label.sk-toggleable__label {cursor: pointer;display: block;width: 100%;margin-bottom: 0;padding: 0.3em;box-sizing: border-box;text-align: center;}#sk-container-id-5 label.sk-toggleable__label-arrow:before {content: \"▸\";float: left;margin-right: 0.25em;color: #696969;}#sk-container-id-5 label.sk-toggleable__label-arrow:hover:before {color: black;}#sk-container-id-5 div.sk-estimator:hover label.sk-toggleable__label-arrow:before {color: black;}#sk-container-id-5 div.sk-toggleable__content {max-height: 0;max-width: 0;overflow: hidden;text-align: left;background-color: #f0f8ff;}#sk-container-id-5 div.sk-toggleable__content pre {margin: 0.2em;color: black;border-radius: 0.25em;background-color: #f0f8ff;}#sk-container-id-5 input.sk-toggleable__control:checked~div.sk-toggleable__content {max-height: 200px;max-width: 100%;overflow: auto;}#sk-container-id-5 input.sk-toggleable__control:checked~label.sk-toggleable__label-arrow:before {content: \"▾\";}#sk-container-id-5 div.sk-estimator input.sk-toggleable__control:checked~label.sk-toggleable__label {background-color: #d4ebff;}#sk-container-id-5 div.sk-label input.sk-toggleable__control:checked~label.sk-toggleable__label {background-color: #d4ebff;}#sk-container-id-5 input.sk-hidden--visually {border: 0;clip: rect(1px 1px 1px 1px);clip: rect(1px, 1px, 1px, 1px);height: 1px;margin: -1px;overflow: hidden;padding: 0;position: absolute;width: 1px;}#sk-container-id-5 div.sk-estimator {font-family: monospace;background-color: #f0f8ff;border: 1px dotted black;border-radius: 0.25em;box-sizing: border-box;margin-bottom: 0.5em;}#sk-container-id-5 div.sk-estimator:hover {background-color: #d4ebff;}#sk-container-id-5 div.sk-parallel-item::after {content: \"\";width: 100%;border-bottom: 1px solid gray;flex-grow: 1;}#sk-container-id-5 div.sk-label:hover label.sk-toggleable__label {background-color: #d4ebff;}#sk-container-id-5 div.sk-serial::before {content: \"\";position: absolute;border-left: 1px solid gray;box-sizing: border-box;top: 0;bottom: 0;left: 50%;z-index: 0;}#sk-container-id-5 div.sk-serial {display: flex;flex-direction: column;align-items: center;background-color: white;padding-right: 0.2em;padding-left: 0.2em;position: relative;}#sk-container-id-5 div.sk-item {position: relative;z-index: 1;}#sk-container-id-5 div.sk-parallel {display: flex;align-items: stretch;justify-content: center;background-color: white;position: relative;}#sk-container-id-5 div.sk-item::before, #sk-container-id-5 div.sk-parallel-item::before {content: \"\";position: absolute;border-left: 1px solid gray;box-sizing: border-box;top: 0;bottom: 0;left: 50%;z-index: -1;}#sk-container-id-5 div.sk-parallel-item {display: flex;flex-direction: column;z-index: 1;position: relative;background-color: white;}#sk-container-id-5 div.sk-parallel-item:first-child::after {align-self: flex-end;width: 50%;}#sk-container-id-5 div.sk-parallel-item:last-child::after {align-self: flex-start;width: 50%;}#sk-container-id-5 div.sk-parallel-item:only-child::after {width: 0;}#sk-container-id-5 div.sk-dashed-wrapped {border: 1px dashed gray;margin: 0 0.4em 0.5em 0.4em;box-sizing: border-box;padding-bottom: 0.4em;background-color: white;}#sk-container-id-5 div.sk-label label {font-family: monospace;font-weight: bold;display: inline-block;line-height: 1.2em;}#sk-container-id-5 div.sk-label-container {text-align: center;}#sk-container-id-5 div.sk-container {/* jupyter's `normalize.less` sets `[hidden] { display: none; }` but bootstrap.min.css set `[hidden] { display: none !important; }` so we also need the `!important` here to be able to override the default hidden behavior on the sphinx rendered scikit-learn.org. See: https://github.com/scikit-learn/scikit-learn/issues/21755 */display: inline-block !important;position: relative;}#sk-container-id-5 div.sk-text-repr-fallback {display: none;}</style><div id=\"sk-container-id-5\" class=\"sk-top-container\"><div class=\"sk-text-repr-fallback\"><pre>RandomForestRegressor()</pre><b>In a Jupyter environment, please rerun this cell to show the HTML representation or trust the notebook. <br />On GitHub, the HTML representation is unable to render, please try loading this page with nbviewer.org.</b></div><div class=\"sk-container\" hidden><div class=\"sk-item\"><div class=\"sk-estimator sk-toggleable\"><input class=\"sk-toggleable__control sk-hidden--visually\" id=\"sk-estimator-id-5\" type=\"checkbox\" checked><label for=\"sk-estimator-id-5\" class=\"sk-toggleable__label sk-toggleable__label-arrow\">RandomForestRegressor</label><div class=\"sk-toggleable__content\"><pre>RandomForestRegressor()</pre></div></div></div></div></div>"
      ],
      "text/plain": [
       "RandomForestRegressor()"
      ]
     },
     "execution_count": 266,
     "metadata": {},
     "output_type": "execute_result"
    }
   ],
   "source": [
    "#from sklearn.ensemble import RandomForestClassifier\n",
    "#model = RandomForestClassifier(n_estimators=100)\n",
    "## default value for tree estimator is n = 10\n",
    "#model.fit(x_train,y_train)\n",
    "\n",
    "from sklearn.ensemble import RandomForestRegressor\n",
    "model = RandomForestRegressor()\n",
    "model.fit(x_train,y_train)\n",
    "\n",
    "#from sklearn.linear_model import LinearRegression\n",
    "#model = LinearRegression\n",
    "#model.fit(x_train,y_train)"
   ]
  },
  {
   "cell_type": "code",
   "execution_count": 267,
   "metadata": {},
   "outputs": [
    {
     "data": {
      "text/plain": [
       "0.9711204735690139"
      ]
     },
     "execution_count": 267,
     "metadata": {},
     "output_type": "execute_result"
    }
   ],
   "source": [
    "model.score(x_test,y_test)\n",
    "# r^2 score"
   ]
  },
  {
   "cell_type": "code",
   "execution_count": 268,
   "metadata": {},
   "outputs": [],
   "source": [
    "y_predicted = model.predict(x_test)"
   ]
  },
  {
   "cell_type": "code",
   "execution_count": 269,
   "metadata": {},
   "outputs": [
    {
     "data": {
      "text/plain": [
       "0.9712514064249909"
      ]
     },
     "execution_count": 269,
     "metadata": {},
     "output_type": "execute_result"
    }
   ],
   "source": [
    "# Application for evaluation metrics, starting with explained variance\n",
    "\n",
    "from sklearn.metrics import explained_variance_score\n",
    "explained_variance_score(y_test,y_predicted)\n",
    "# Best value is 1 "
   ]
  },
  {
   "cell_type": "code",
   "execution_count": 270,
   "metadata": {},
   "outputs": [
    {
     "data": {
      "text/plain": [
       "0.544699734475798"
      ]
     },
     "execution_count": 270,
     "metadata": {},
     "output_type": "execute_result"
    }
   ],
   "source": [
    "from sklearn.metrics import mean_absolute_error\n",
    "mean_absolute_error(y_test,y_predicted)\n",
    "# Best value is 0"
   ]
  },
  {
   "cell_type": "code",
   "execution_count": 271,
   "metadata": {},
   "outputs": [
    {
     "data": {
      "text/plain": [
       "1.907523146859651"
      ]
     },
     "execution_count": 271,
     "metadata": {},
     "output_type": "execute_result"
    }
   ],
   "source": [
    "from sklearn.metrics import mean_squared_error\n",
    "mean_squared_error(y_test,y_predicted)\n",
    "# Best value is 0"
   ]
  },
  {
   "cell_type": "code",
   "execution_count": 272,
   "metadata": {},
   "outputs": [
    {
     "data": {
      "text/plain": [
       "0.05078646165000455"
      ]
     },
     "execution_count": 272,
     "metadata": {},
     "output_type": "execute_result"
    }
   ],
   "source": [
    "from sklearn.metrics import median_absolute_error\n",
    "median_absolute_error(y_test,y_predicted)\n",
    "# Best value is 0"
   ]
  },
  {
   "cell_type": "code",
   "execution_count": 273,
   "metadata": {},
   "outputs": [],
   "source": [
    "#from sklearn.metrics import confusion_matrix\n",
    "#cm = confusion_matrix(y_test,y_predicted)\n",
    "#cm\n",
    "# with random forest regressor is error, since cm does not support continuous data"
   ]
  }
 ],
 "metadata": {
  "kernelspec": {
   "display_name": "geron1",
   "language": "python",
   "name": "python3"
  },
  "language_info": {
   "codemirror_mode": {
    "name": "ipython",
    "version": 3
   },
   "file_extension": ".py",
   "mimetype": "text/x-python",
   "name": "python",
   "nbconvert_exporter": "python",
   "pygments_lexer": "ipython3",
   "version": "3.9.15"
  },
  "orig_nbformat": 4
 },
 "nbformat": 4,
 "nbformat_minor": 2
}
