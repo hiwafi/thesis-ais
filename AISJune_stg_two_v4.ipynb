{
 "cells": [
  {
   "cell_type": "code",
   "execution_count": null,
   "metadata": {},
   "outputs": [],
   "source": [
    "import pandas as pd\n",
    "# from matplotlib import pyplot\n",
    "import numpy as np\n",
    "import seaborn as sns\n",
    "import math\n",
    "import datetime\n",
    "import pickle\n",
    "import joblib\n",
    "import matplotlib.pyplot as plt\n",
    "\n",
    "plt.rcParams.update({\n",
    "    \"text.usetex\": True,\n",
    "    \"font.family\": \"serif\"\n",
    "})\n",
    "\n",
    "model_rfr_ftr = joblib.load('savemodel_rfr_ftr.sav')\n",
    "# model_rfr_hpo = joblib.load('savemodel_rfr_ftr_hpo.sav')\n",
    "model_rfr_hpov = joblib.load('savemodel_rfr_ftr_hpov.sav')\n",
    "# model_rft = joblib.load('savemodel_rf.sav')\n",
    "\n",
    "\n",
    "model_etr = joblib.load('savemodel_etr.sav')\n",
    "model_etr_hpov = joblib.load('savemodel_etr_hpov.sav')\n",
    "\n",
    "model_dtr_ftr = joblib.load('savemodel_dtr_ftr.sav')\n",
    "model_dtr_hpov = joblib.load('savemodel_dtr_hpov.sav')\n",
    "\n",
    "\n",
    "model_mlr_ftr = joblib.load('savemodel_mlr_ftr.sav')\n",
    "\n",
    "dfmain = pd.read_csv(\"AIS_weather_H_ok2_copy.csv\",parse_dates=[\"Time\"])\n",
    "dfmain = dfmain[dfmain['LAT'] > 55.04 ]\n",
    "\n",
    "dfpre = pd.read_csv(\"AIS_weather_h_rename_copy.csv\",parse_dates=[\"Time\"])\n",
    "dfpre = dfpre[dfpre['LAT'] > 55.04 ]"
   ]
  },
  {
   "cell_type": "code",
   "execution_count": null,
   "metadata": {},
   "outputs": [],
   "source": [
    "# Drop the wind speed and current speed from the original dataset as it contains outlier \n",
    "\n",
    "dfmain = dfmain.drop(['Wind Speed','Current Speed'],axis=1)"
   ]
  },
  {
   "cell_type": "code",
   "execution_count": null,
   "metadata": {},
   "outputs": [],
   "source": [
    "# Drop all dulplicate feature in dataset \"AIS_weather_h_rename_copy.csv\"\n",
    "\n",
    "dfpre = dfpre.drop(dfpre.columns[[0,1,2,5,6,7,8,9,10,11,12,13,14,15,16,17,18,21,22,23,26]],axis=1)\n",
    "dfpre = dfpre.rename({'Eastward wind': 'eastwind', 'Northward wind': 'northwind',\n",
    "                           'Eastward current': 'eastcurrent', 'Northward current': 'northcurrent',\n",
    "                           'SOG':'sog','COG':'cog','Heading':'heading'},axis=1) \n",
    "dfpre.describe()"
   ]
  },
  {
   "cell_type": "markdown",
   "metadata": {},
   "source": [
    "Imputing value in the preprocessed dataset"
   ]
  },
  {
   "cell_type": "code",
   "execution_count": null,
   "metadata": {},
   "outputs": [],
   "source": [
    "from sklearn.impute import KNNImputer\n",
    "\n",
    "imputer = KNNImputer(n_neighbors=50)\n",
    "imputer.fit(dfpre)"
   ]
  },
  {
   "cell_type": "code",
   "execution_count": null,
   "metadata": {},
   "outputs": [],
   "source": [
    "x_pre = imputer.transform(dfpre)"
   ]
  },
  {
   "cell_type": "code",
   "execution_count": null,
   "metadata": {},
   "outputs": [],
   "source": [
    "dfpre = pd.DataFrame(x_pre, columns=dfpre.columns, index=dfpre.index)"
   ]
  },
  {
   "cell_type": "code",
   "execution_count": null,
   "metadata": {},
   "outputs": [],
   "source": [
    "# Calculate current and wind speed\n",
    "\n",
    "dfpre[\"Current Speed\"] = np.sqrt(dfpre[\"eastcurrent\"]**2 + dfpre[\"northcurrent\"]**2)\n",
    "dfpre[\"Wind Speed\"] = np.sqrt(dfpre[\"eastwind\"]**2 + dfpre[\"northwind\"]**2)"
   ]
  },
  {
   "cell_type": "code",
   "execution_count": null,
   "metadata": {},
   "outputs": [],
   "source": [
    "dfpre.describe()"
   ]
  },
  {
   "cell_type": "code",
   "execution_count": null,
   "metadata": {},
   "outputs": [],
   "source": [
    "# Calculate the True North wind direction and split them into quadrants\n",
    "\n",
    "condwind = [(dfpre['eastwind']>0) & (dfpre['northwind']<0),\n",
    "            (dfpre['eastwind']<0) & (dfpre['northwind']>0),\n",
    "            (dfpre['eastwind']>0) & (dfpre['northwind']>0)]\n",
    "\n",
    "choicewind = [360 - np.abs(np.rad2deg(np.arctan(dfpre[\"eastwind\"]/dfpre[\"northwind\"]))),\n",
    "              180 - np.abs(np.rad2deg(np.arctan(dfpre[\"eastwind\"]/dfpre[\"northwind\"]))),\n",
    "              270 - np.abs(np.rad2deg(np.arctan(dfpre[\"eastwind\"]/dfpre[\"northwind\"])))]\n",
    "\n",
    "dfpre[\"True North Wind Direction\"] = np.select(condwind, choicewind, \n",
    "                                                np.abs(np.rad2deg(np.arctan(dfpre[\"eastwind\"]/dfpre[\"northwind\"]))))\n"
   ]
  },
  {
   "cell_type": "code",
   "execution_count": null,
   "metadata": {},
   "outputs": [],
   "source": [
    "# Calculate the True North current direction and split them into quadrants\n",
    "\n",
    "condcurr = [(dfpre['eastcurrent']<0) & (dfpre['northcurrent']>0),\n",
    "            (dfpre['eastcurrent']>0) & (dfpre['northcurrent']<0),\n",
    "            (dfpre['eastcurrent']<0) & (dfpre['northcurrent']<0)]\n",
    "\n",
    "choicecurr = [360 - np.abs(np.rad2deg(np.arctan(dfpre[\"eastcurrent\"]/dfpre[\"northcurrent\"]))),\n",
    "              180 - np.abs(np.rad2deg(np.arctan(dfpre[\"eastcurrent\"]/dfpre[\"northcurrent\"]))),\n",
    "              270 - np.abs(np.rad2deg(np.arctan(dfpre[\"eastcurrent\"]/dfpre[\"northcurrent\"])))]\n",
    "\n",
    "dfpre[\"True North Current Direction\"] = np.select(condcurr, choicecurr, \n",
    "                                                np.abs(np.rad2deg(np.arctan(dfpre[\"eastcurrent\"]/dfpre[\"northcurrent\"]))))"
   ]
  },
  {
   "cell_type": "code",
   "execution_count": null,
   "metadata": {},
   "outputs": [],
   "source": [
    "# Descriptive statistics of the dataset for true north weather direction\n",
    "\n",
    "dfpre = dfpre.drop(['eastwind','northwind','eastcurrent','northcurrent','sog','cog'],axis=1)"
   ]
  },
  {
   "cell_type": "code",
   "execution_count": null,
   "metadata": {},
   "outputs": [],
   "source": [
    "df = pd.concat([dfmain,dfpre],axis=1)\n",
    "df.head()"
   ]
  },
  {
   "cell_type": "code",
   "execution_count": null,
   "metadata": {},
   "outputs": [],
   "source": [
    "# SOG threshold according to Abebe20 and Yan21\n",
    "\n",
    "df = df[df['SOG'] > 5 ]\n",
    "\n",
    "# # Improve model performance ? , reduce skew of the dataset by applying higher threshold\n",
    "\n",
    "# df = df[df['SOG'] > 12 ]"
   ]
  },
  {
   "cell_type": "code",
   "execution_count": null,
   "metadata": {},
   "outputs": [],
   "source": [
    "# Exclude data for the month of June to check the model's forecasting performance \n",
    "\n",
    "from sklearn.model_selection import train_test_split\n",
    "\n",
    "#When performing the split, make sure that the random state is the same as the training script\n",
    "\n",
    "train_set, test_set = train_test_split(df, test_size=0.25, random_state=42)\n",
    "\n",
    "# Summer\n",
    "dfMay = test_set[test_set['Time'].dt.strftime('%Y-%m') == '2021-05']\n",
    "print(f\"length of May dataset {len(dfMay)}\")\n",
    "dfJune = test_set[test_set['Time'].dt.strftime('%Y-%m') == '2021-06']\n",
    "print(f\"length of June dataset {len(dfJune)}\")\n",
    "dfJuly = test_set[test_set['Time'].dt.strftime('%Y-%m') == '2021-07']\n",
    "print(f\"length of July dataset {len(dfJuly)}\")\n",
    "dfAug = test_set[test_set['Time'].dt.strftime('%Y-%m') == '2021-08']\n",
    "print(f\"length of August dataset {len(dfAug)}\")\n",
    "dfSep = test_set[test_set['Time'].dt.strftime('%Y-%m') == '2021-09']\n",
    "print(f\"length of Sept dataset {len(dfSep)}\")\n",
    "dfOct = test_set[test_set['Time'].dt.strftime('%Y-%m') == '2021-10']\n",
    "print(f\"length of Oct dataset {len(dfOct)}\")\n",
    "print(\"#########################################\")\n",
    "# Winter\n",
    "dfNov = test_set[test_set['Time'].dt.strftime('%Y-%m') == '2021-11']\n",
    "print(f\"length of Nov dataset {len(dfNov)}\")\n",
    "dfDec = test_set[test_set['Time'].dt.strftime('%Y-%m') == '2021-12']\n",
    "print(f\"length of Dec dataset {len(dfDec)}\")\n",
    "dfJan = test_set[test_set['Time'].dt.strftime('%Y-%m') == '2021-01']\n",
    "print(f\"length of Jan dataset {len(dfJan)}\")\n",
    "dfFeb = test_set[test_set['Time'].dt.strftime('%Y-%m') == '2021-02']\n",
    "print(f\"length of Feb dataset {len(dfFeb)}\")\n",
    "dfMar = test_set[test_set['Time'].dt.strftime('%Y-%m') == '2021-03']\n",
    "print(f\"length of March dataset {len(dfMar)}\")\n",
    "dfApr = test_set[test_set['Time'].dt.strftime('%Y-%m') == '2021-04']\n",
    "print(f\"length of April dataset {len(dfApr)}\")\n",
    "\n",
    "\n",
    "frames_summer = [dfMay,dfJune,dfJuly,dfAug,dfSep,dfOct]\n",
    "frames_winter = [dfNov,dfDec,dfJan,dfFeb,dfMar,dfApr]\n",
    "\n",
    "dfsummer = pd.concat(frames_summer)\n",
    "dfwinter = pd.concat(frames_winter)\n",
    "dfyear = test_set\n",
    "\n",
    "# df_test_set = dfwinter\n",
    "# df_test_set = dfsummer  \n",
    "# df_test_set= test_set\n",
    "\n"
   ]
  },
  {
   "cell_type": "code",
   "execution_count": null,
   "metadata": {},
   "outputs": [],
   "source": [
    "dfsummer.describe()"
   ]
  },
  {
   "cell_type": "code",
   "execution_count": null,
   "metadata": {},
   "outputs": [],
   "source": [
    "dfwinter.describe()"
   ]
  },
  {
   "cell_type": "code",
   "execution_count": null,
   "metadata": {},
   "outputs": [],
   "source": [
    "dfyear.describe()"
   ]
  },
  {
   "attachments": {},
   "cell_type": "markdown",
   "metadata": {},
   "source": [
    "Exporting File"
   ]
  },
  {
   "cell_type": "code",
   "execution_count": null,
   "metadata": {},
   "outputs": [],
   "source": [
    "# df.to_csv('June_update.csv')"
   ]
  },
  {
   "attachments": {},
   "cell_type": "markdown",
   "metadata": {},
   "source": [
    "Measure performance in Season, data pre processing by dropping unnecessary feature and renaming\n"
   ]
  },
  {
   "cell_type": "code",
   "execution_count": null,
   "metadata": {},
   "outputs": [],
   "source": [
    "# For Summer\n",
    "dfsummer= dfsummer.drop(['Unnamed: 0','Time','LON','LAT','Air density above oceans',\n",
    "'Surface pressure','Width','Length'],axis=1)\n",
    "# For Winter\n",
    "dfwinter= dfwinter.drop(['Unnamed: 0','Time','LON','LAT','Air density above oceans',\n",
    "'Surface pressure','Width','Length'],axis=1)\n",
    "# For the whole year of 2021\n",
    "dfyear= dfyear.drop(['Unnamed: 0','Time','LON','LAT','Air density above oceans',\n",
    "'Surface pressure','Width','Length'],axis=1)\n"
   ]
  },
  {
   "cell_type": "code",
   "execution_count": null,
   "metadata": {},
   "outputs": [],
   "source": [
    "#For Summer\n",
    "dfsummer= dfsummer.rename({'Max wave height': 'waveheight', 'Draught': 'draught',\n",
    "                           'SOG': 'sog', 'Wind Speed': 'windspeed', \n",
    "                           'True Wind Direction': 'truewinddir','Temperature above oceans' : 'oceantemperature',\n",
    "                           'COG': 'cog', 'Current Speed' : 'curspeed','True Wave Direction' : 'truewavedir',\n",
    "                            'Swell period': 'swellperiod','Wind wave period': 'windwaveperiod','Sea surface temperature': 'surftemp',\n",
    "                            'Combined wind waves and swell height': 'windwaveswellheight','Swell height': 'swellheight','Wind wave height': 'windwaveheight',\n",
    "                            'Heading': 'heading','True Current Direction': 'truecurrentdir','True Swell Direction': 'trueswelldir',\n",
    "                            'True Wind Wave Direction': 'truewindwavedir','Wave period': 'waveperiod',\n",
    "                            'True North Wind Direction' : 'truenorthwinddir' , 'True North Current Direction' : 'truenorthcurrentdir'\n",
    "                           }, axis=1) \n",
    "#For Winter\n",
    "dfwinter= dfwinter.rename({'Max wave height': 'waveheight', 'Draught': 'draught',\n",
    "                           'SOG': 'sog', 'Wind Speed': 'windspeed', \n",
    "                           'True Wind Direction': 'truewinddir','Temperature above oceans' : 'oceantemperature',\n",
    "                           'COG': 'cog', 'Current Speed' : 'curspeed','True Wave Direction' : 'truewavedir',\n",
    "                            'Swell period': 'swellperiod','Wind wave period': 'windwaveperiod','Sea surface temperature': 'surftemp',\n",
    "                            'Combined wind waves and swell height': 'windwaveswellheight','Swell height': 'swellheight','Wind wave height': 'windwaveheight',\n",
    "                            'Heading': 'heading','True Current Direction': 'truecurrentdir','True Swell Direction': 'trueswelldir',\n",
    "                            'True Wind Wave Direction': 'truewindwavedir','Wave period': 'waveperiod',\n",
    "                            'True North Wind Direction' : 'truenorthwinddir' , 'True North Current Direction' : 'truenorthcurrentdir'\n",
    "                           }, axis=1) \n",
    "#For the whole year\n",
    "dfyear= dfyear.rename({'Max wave height': 'waveheight', 'Draught': 'draught',\n",
    "                           'SOG': 'sog', 'Wind Speed': 'windspeed', \n",
    "                           'True Wind Direction': 'truewinddir','Temperature above oceans' : 'oceantemperature',\n",
    "                           'COG': 'cog', 'Current Speed' : 'curspeed','True Wave Direction' : 'truewavedir',\n",
    "                            'Swell period': 'swellperiod','Wind wave period': 'windwaveperiod','Sea surface temperature': 'surftemp',\n",
    "                            'Combined wind waves and swell height': 'windwaveswellheight','Swell height': 'swellheight','Wind wave height': 'windwaveheight',\n",
    "                            'Heading': 'heading','True Current Direction': 'truecurrentdir','True Swell Direction': 'trueswelldir',\n",
    "                            'True Wind Wave Direction': 'truewindwavedir','Wave period': 'waveperiod',\n",
    "                            'True North Wind Direction' : 'truenorthwinddir' , 'True North Current Direction' : 'truenorthcurrentdir'\n",
    "                           }, axis=1) "
   ]
  },
  {
   "cell_type": "code",
   "execution_count": null,
   "metadata": {},
   "outputs": [],
   "source": [
    "# Rearrange column to match model \n",
    "# Also dropping the features as described in the main script\n",
    "\n",
    "# For summer \n",
    "dfsummer = dfsummer[['oceantemperature','waveperiod','surftemp','windwaveswellheight','draught','sog','cog','heading','windspeed','curspeed','truewinddir','truecurrentdir','truewavedir', 'truenorthwinddir' , 'truenorthcurrentdir']]\n",
    "# For Winter\n",
    "dfwinter = dfwinter[['oceantemperature','waveperiod','surftemp','windwaveswellheight','draught','sog','cog','heading','windspeed','curspeed','truewinddir','truecurrentdir','truewavedir', 'truenorthwinddir' , 'truenorthcurrentdir']]\n",
    "\n",
    "# For the whole year\n",
    "dfyear = dfyear[['oceantemperature','waveperiod','surftemp','windwaveswellheight','draught','sog','cog','heading','windspeed','curspeed','truewinddir','truecurrentdir','truewavedir', 'truenorthwinddir' , 'truenorthcurrentdir']]\n",
    "\n",
    "\n"
   ]
  },
  {
   "cell_type": "markdown",
   "metadata": {},
   "source": [
    "Imputing to complete the data"
   ]
  },
  {
   "cell_type": "code",
   "execution_count": null,
   "metadata": {},
   "outputs": [],
   "source": [
    "import numpy as np\n",
    "from sklearn.impute import KNNImputer\n",
    "\n",
    "imputer = KNNImputer(n_neighbors=50)\n"
   ]
  },
  {
   "cell_type": "code",
   "execution_count": null,
   "metadata": {},
   "outputs": [],
   "source": [
    "# Impute for different dataframe \n",
    "\n",
    "imputer.fit(dfsummer)\n",
    "imputer.fit(dfwinter)\n",
    "imputer.fit(dfyear)"
   ]
  },
  {
   "cell_type": "code",
   "execution_count": null,
   "metadata": {},
   "outputs": [],
   "source": [
    "xsummer = imputer.transform(dfsummer)\n",
    "xwinter = imputer.transform(dfwinter)\n",
    "xyear = imputer.transform(dfyear)"
   ]
  },
  {
   "cell_type": "code",
   "execution_count": null,
   "metadata": {},
   "outputs": [],
   "source": [
    "df_summer_tr = pd.DataFrame(xsummer, columns=dfsummer.columns, index=dfsummer.index)\n",
    "df_winter_tr = pd.DataFrame(xwinter, columns=dfwinter.columns, index=dfwinter.index)\n",
    "df_year_tr = pd.DataFrame(xyear, columns=dfyear.columns, index=dfyear.index)"
   ]
  },
  {
   "cell_type": "code",
   "execution_count": null,
   "metadata": {},
   "outputs": [],
   "source": [
    "# Summer dataset\n",
    "x_date_s = df_summer_tr.drop(['sog','truenorthcurrentdir','truenorthwinddir'],axis=1)\n",
    "y_date_s = df_summer_tr.sog\n",
    "# winter dataset\n",
    "x_date_w = df_winter_tr.drop(['sog','truenorthcurrentdir','truenorthwinddir'],axis=1)\n",
    "y_date_w = df_winter_tr.sog\n",
    "# Year dataset\n",
    "x_date_yr = df_year_tr.drop(['sog','truenorthcurrentdir','truenorthwinddir'],axis=1)\n",
    "y_date_yr = df_year_tr.sog"
   ]
  },
  {
   "cell_type": "code",
   "execution_count": null,
   "metadata": {},
   "outputs": [],
   "source": [
    "print(f\"Amount of the test dataset is {len(x_date_yr)}\")\n",
    "print(f\"Amount of the summer dataset is {len(x_date_s)}\")\n",
    "print(f\"Amount of the winter dataset is {len(x_date_w)}\")"
   ]
  },
  {
   "cell_type": "code",
   "execution_count": null,
   "metadata": {},
   "outputs": [],
   "source": [
    "# plt.rcParams.update(plt.rcParamsDefault) # Alter default value \n",
    "axes = df_year_tr.hist(bins=50,figsize=(10,50),color='black',grid=True,layout=(11,2))\n",
    "for ax in axes.flatten():\n",
    "    ax.grid(True, linestyle='--', alpha=0.5)\n",
    "plt.show()"
   ]
  },
  {
   "cell_type": "code",
   "execution_count": null,
   "metadata": {},
   "outputs": [],
   "source": [
    "x_date_yr.describe()"
   ]
  },
  {
   "cell_type": "code",
   "execution_count": null,
   "metadata": {},
   "outputs": [],
   "source": [
    "stats_DSyear = x_date_yr.describe().transpose()\n",
    "print(stats_DSyear.to_latex(index=False,\n",
    "\n",
    "                  formatters={\"name\": str.upper},\n",
    "\n",
    "                  float_format=\"{:.2f}\".format,\n",
    "\n",
    "))  "
   ]
  },
  {
   "cell_type": "code",
   "execution_count": null,
   "metadata": {},
   "outputs": [],
   "source": [
    "y_date_yr.describe()"
   ]
  },
  {
   "cell_type": "code",
   "execution_count": null,
   "metadata": {},
   "outputs": [],
   "source": [
    "x_date_s.describe()"
   ]
  },
  {
   "cell_type": "code",
   "execution_count": null,
   "metadata": {},
   "outputs": [],
   "source": [
    "stats_DSsummer = x_date_s.describe().transpose()\n",
    "print(stats_DSsummer.to_latex(index=False,\n",
    "\n",
    "                  formatters={\"name\": str.upper},\n",
    "\n",
    "                  float_format=\"{:.2f}\".format,\n",
    "\n",
    "))  "
   ]
  },
  {
   "cell_type": "code",
   "execution_count": null,
   "metadata": {},
   "outputs": [],
   "source": [
    "y_date_s.describe()"
   ]
  },
  {
   "cell_type": "code",
   "execution_count": null,
   "metadata": {},
   "outputs": [],
   "source": [
    "x_date_w.describe()"
   ]
  },
  {
   "cell_type": "code",
   "execution_count": null,
   "metadata": {},
   "outputs": [],
   "source": [
    "stats_DSwinter = x_date_w.describe().transpose()\n",
    "print(stats_DSwinter.to_latex(index=False,\n",
    "\n",
    "                  formatters={\"name\": str.upper},\n",
    "\n",
    "                  float_format=\"{:.2f}\".format,\n",
    "\n",
    "))  "
   ]
  },
  {
   "cell_type": "code",
   "execution_count": null,
   "metadata": {},
   "outputs": [],
   "source": [
    "y_date_w.describe()"
   ]
  },
  {
   "cell_type": "code",
   "execution_count": null,
   "metadata": {},
   "outputs": [],
   "source": [
    "def evaluate(model, features_x, labels_y):\n",
    "    from sklearn.model_selection import cross_val_score\n",
    "\n",
    "    score_r2 = cross_val_score(model,features_x,labels_y,\n",
    "                           scoring='r2',cv=10)\n",
    "    rsquared = score_r2.mean()\n",
    "    stadev_rsquared = score_r2.std()\n",
    "    max_rsquared = score_r2.max()\n",
    "    min_rsquared = score_r2.min()\n",
    "\n",
    "    score_expVar = cross_val_score(model,features_x,labels_y,\n",
    "                           scoring='explained_variance',cv=10)\n",
    "    expVar = score_expVar.mean()\n",
    "    stadev_expVar = score_expVar.std()\n",
    "    max_expVar = score_expVar.max()\n",
    "    min_expVar = score_expVar.min()\n",
    "\n",
    "    score_MAE = cross_val_score(model,features_x,labels_y,\n",
    "                           scoring='neg_mean_absolute_error',cv=10)\n",
    "    MAE = -score_MAE.mean()\n",
    "    stadev_MAE = score_MAE.std()\n",
    "    max_MAE = -score_MAE.max()\n",
    "    min_MAE = -score_MAE.min()\n",
    "\n",
    "    score_MAD = cross_val_score(model,features_x,labels_y,\n",
    "                           scoring='neg_median_absolute_error',cv=10)\n",
    "    MAD = -score_MAD.mean()\n",
    "    stadev_MAD = score_MAD.std()\n",
    "    max_MAD = -score_MAD.max()\n",
    "    min_MAD = -score_MAD.min()\n",
    "\n",
    "\n",
    "\n",
    "    score_MSE = cross_val_score(model,features_x,labels_y,\n",
    "                           scoring='neg_root_mean_squared_error',cv=10)\n",
    "    score_RMSE = np.sqrt(-score_MSE)\n",
    "    RMSE = score_RMSE.mean()\n",
    "    stadev_RMSE = score_RMSE.std()\n",
    "    max_RMSE = score_RMSE.max()\n",
    "    min_RMSE = score_RMSE.min()\n",
    "\n",
    "\n",
    "    print(f\"Model Performance of {model}\")\n",
    "    print(f\"R^2 = {rsquared:0.4f}, std = {stadev_rsquared:0.4f}, max = {max_rsquared:0.4f}, min = {min_rsquared:0.4f}\")\n",
    "    print(f\"explained Variance = {expVar:0.4f}, std = {stadev_expVar:0.4f}, max = {max_expVar:0.4f}, min = {min_expVar:0.4f}\")\n",
    "    print(f\"MAE = {MAE:0.4f}, std = {stadev_MAE:0.4f}, max = {max_MAE:0.4f}, min = {min_MAE:0.4f}\")\n",
    "    print(f\"RMSE = {RMSE:0.4f}, std = {stadev_RMSE:0.4f}, max = {max_RMSE:0.4f}, min = {min_RMSE:0.4f}\")\n",
    "    print(f\"MAD = {MAD:0.4f}, std = {stadev_MAD:0.4f}, max = {max_MAD:0.4f}, min = {min_MAD:0.4f}\\n\")\n",
    "\n",
    "    return score_r2,score_expVar,score_MAE,score_RMSE,score_MAD    "
   ]
  },
  {
   "attachments": {},
   "cell_type": "markdown",
   "metadata": {},
   "source": [
    "RFR evaluation"
   ]
  },
  {
   "cell_type": "code",
   "execution_count": null,
   "metadata": {},
   "outputs": [],
   "source": [
    "# # Model performance for one year test data\n",
    "\n",
    "# r2_rfo_yr,expVar_rfo_yr,MAE_rfo_yr,RMSE_rfo_yr,MAD_rfo_yr = evaluate(model_rfr_hpov,x_date_yr,y_date_yr)"
   ]
  },
  {
   "cell_type": "code",
   "execution_count": null,
   "metadata": {},
   "outputs": [],
   "source": [
    "# # Model performance for winter test data\n",
    "\n",
    "# r2_rfo_w,expVar_rfo_w,MAE_rfo_w,RMSE_rfo_w,MAD_rfo_w = evaluate(model_rfr_hpov,x_date_w,y_date_w)"
   ]
  },
  {
   "cell_type": "code",
   "execution_count": null,
   "metadata": {},
   "outputs": [],
   "source": [
    "# # Model performance for summer test data\n",
    "\n",
    "# r2_rfo_s,expVar_rfo_s,MAE_rfo_s,RMSE_rfo_s,MAD_rfo_s = evaluate(model_rfr_hpov,x_date_s,y_date_s)"
   ]
  },
  {
   "cell_type": "markdown",
   "metadata": {},
   "source": [
    "ETR evaluation"
   ]
  },
  {
   "cell_type": "code",
   "execution_count": null,
   "metadata": {},
   "outputs": [],
   "source": [
    "# # Model performance for one year test data\n",
    "\n",
    "# r2_eto_yr,expVar_eto_yr,MAE_eto_yr,RMSE_eto_yr,MAD_eto_yr = evaluate(model_etr_hpov,x_date_yr,y_date_yr)"
   ]
  },
  {
   "cell_type": "code",
   "execution_count": null,
   "metadata": {},
   "outputs": [],
   "source": [
    "# # Model performance for winter test data\n",
    "\n",
    "# r2_eto_w,expVar_eto_w,MAE_eto_w,RMSE_eto_w,MAD_eto_w = evaluate(model_etr_hpov,x_date_w,y_date_w)"
   ]
  },
  {
   "cell_type": "code",
   "execution_count": null,
   "metadata": {},
   "outputs": [],
   "source": [
    "# # Model performance for summer test data\n",
    "\n",
    "# r2_eto_s,expVar_eto_s,MAE_eto_s,RMSE_eto_s,MAD_eto_s = evaluate(model_etr_hpov,x_date_s,y_date_s)"
   ]
  },
  {
   "cell_type": "markdown",
   "metadata": {},
   "source": [
    "DT evaluation"
   ]
  },
  {
   "cell_type": "code",
   "execution_count": null,
   "metadata": {},
   "outputs": [],
   "source": [
    "# r2_dto_yr,expVar_dto_yr,MAE_dto_yr,RMSE_dto_yr,MAD_dto_yr = evaluate(model_dtr_hpov,x_date_yr,y_date_yr)"
   ]
  },
  {
   "cell_type": "code",
   "execution_count": null,
   "metadata": {},
   "outputs": [],
   "source": [
    "# r2_dto_w,expVar_dto_w,MAE_dto_w,RMSE_dto_w,MAD_dto_w = evaluate(model_dtr_hpov,x_date_w,y_date_w)"
   ]
  },
  {
   "cell_type": "code",
   "execution_count": null,
   "metadata": {},
   "outputs": [],
   "source": [
    "# r2_dto_s,expVar_dto_s,MAE_dto_s,RMSE_dto_s,MAD_dto_s = evaluate(model_dtr_hpov,x_date_s,y_date_s)"
   ]
  },
  {
   "cell_type": "markdown",
   "metadata": {},
   "source": [
    "ML evaluation"
   ]
  },
  {
   "cell_type": "code",
   "execution_count": null,
   "metadata": {},
   "outputs": [],
   "source": [
    "# r2_mlr_yr,expVar_mlr_yr,MAE_mlr_yr,RMSE_mlr_yr,MAD_mlr_yr = evaluate(model_mlr_ftr,x_date_yr,y_date_yr)"
   ]
  },
  {
   "cell_type": "code",
   "execution_count": null,
   "metadata": {},
   "outputs": [],
   "source": [
    "# r2_mlr_w,expVar_mlr_w,MAE_mlr_w,RMSE_mlr_w,MAD_mlr_w = evaluate(model_mlr_ftr,x_date_w,y_date_w)"
   ]
  },
  {
   "cell_type": "code",
   "execution_count": null,
   "metadata": {},
   "outputs": [],
   "source": [
    "# r2_mlr_s,expVar_mlr_s,MAE_mlr_s,RMSE_mlr_s,MAD_mlr_s = evaluate(model_mlr_ftr,x_date_s,y_date_s)"
   ]
  },
  {
   "cell_type": "code",
   "execution_count": null,
   "metadata": {},
   "outputs": [],
   "source": [
    "def evaluate_SOG(model,x_date,y_date):\n",
    "    from sklearn.metrics import mean_squared_error,mean_absolute_percentage_error,r2_score,explained_variance_score,median_absolute_error,mean_absolute_error\n",
    "    \n",
    "    def label_predict(model,test_features):\n",
    "        predictions = model.predict(test_features)\n",
    "        return predictions\n",
    "    \n",
    "    predictions = label_predict(model,x_date)\n",
    "\n",
    "    Rsquared_SOG = r2_score(y_date,predictions)\n",
    "    expVar_SOG = explained_variance_score(y_date,predictions)\n",
    "    MAE_SOG = mean_absolute_error(y_date,predictions)\n",
    "    RMSE_SOG = np.sqrt(mean_squared_error(y_date, predictions))\n",
    "    MAD_SOG = median_absolute_error(y_date,predictions)\n",
    "    MAPE_SOG = mean_absolute_percentage_error(y_date, predictions)\n",
    "    \n",
    "\n",
    "    print(f\"Model Performance of {model}\")\n",
    "    print(f\"R^2 SOG = {Rsquared_SOG:0.4f}\")\n",
    "    print(f\"Explained Variance SOG = {expVar_SOG:0.4f}\")\n",
    "    print(f\"MSE SOG = {MAE_SOG:0.4f} Knots\")    \n",
    "    print(f\"RMSE SOG = {RMSE_SOG:0.4f} Knots\")\n",
    "    print(f\"MAD SOG = {MAD_SOG:0.4f} Knots\")    \n",
    "    print(f\"MAPE SOG = {MAPE_SOG*100:0.4f} %\")"
   ]
  },
  {
   "cell_type": "markdown",
   "metadata": {},
   "source": [
    "Check absolute performance of the model on test data"
   ]
  },
  {
   "cell_type": "markdown",
   "metadata": {},
   "source": [
    "ETR"
   ]
  },
  {
   "cell_type": "code",
   "execution_count": null,
   "metadata": {},
   "outputs": [],
   "source": [
    "# Year dataset\n",
    "evaluate_SOG(model_etr_hpov,x_date_yr,y_date_yr)"
   ]
  },
  {
   "cell_type": "code",
   "execution_count": null,
   "metadata": {},
   "outputs": [],
   "source": [
    "evaluate_SOG(model_etr_hpov,x_date_w,y_date_w)"
   ]
  },
  {
   "cell_type": "code",
   "execution_count": null,
   "metadata": {},
   "outputs": [],
   "source": [
    "evaluate_SOG(model_etr_hpov,x_date_s,y_date_s)"
   ]
  },
  {
   "cell_type": "markdown",
   "metadata": {},
   "source": [
    "RFR"
   ]
  },
  {
   "cell_type": "code",
   "execution_count": null,
   "metadata": {},
   "outputs": [],
   "source": [
    "evaluate_SOG(model_rfr_hpov,x_date_yr,y_date_yr)"
   ]
  },
  {
   "cell_type": "code",
   "execution_count": null,
   "metadata": {},
   "outputs": [],
   "source": [
    "evaluate_SOG(model_rfr_hpov,x_date_w,y_date_w)"
   ]
  },
  {
   "cell_type": "code",
   "execution_count": null,
   "metadata": {},
   "outputs": [],
   "source": [
    "evaluate_SOG(model_rfr_hpov,x_date_s,y_date_s)"
   ]
  },
  {
   "cell_type": "markdown",
   "metadata": {},
   "source": [
    "DTR\n"
   ]
  },
  {
   "cell_type": "code",
   "execution_count": null,
   "metadata": {},
   "outputs": [],
   "source": [
    "evaluate_SOG(model_dtr_hpov,x_date_yr,y_date_yr)"
   ]
  },
  {
   "cell_type": "code",
   "execution_count": null,
   "metadata": {},
   "outputs": [],
   "source": [
    "evaluate_SOG(model_dtr_hpov,x_date_w,y_date_w)"
   ]
  },
  {
   "cell_type": "code",
   "execution_count": null,
   "metadata": {},
   "outputs": [],
   "source": [
    "evaluate_SOG(model_dtr_hpov,x_date_s,y_date_s)"
   ]
  },
  {
   "cell_type": "markdown",
   "metadata": {},
   "source": [
    "MLR"
   ]
  },
  {
   "cell_type": "code",
   "execution_count": null,
   "metadata": {},
   "outputs": [],
   "source": [
    "evaluate_SOG(model_mlr_ftr,x_date_yr,y_date_yr)"
   ]
  },
  {
   "cell_type": "code",
   "execution_count": null,
   "metadata": {},
   "outputs": [],
   "source": [
    "evaluate_SOG(model_mlr_ftr,x_date_s,y_date_s)"
   ]
  },
  {
   "cell_type": "code",
   "execution_count": null,
   "metadata": {},
   "outputs": [],
   "source": [
    "evaluate_SOG(model_mlr_ftr,x_date_w,y_date_w)"
   ]
  },
  {
   "cell_type": "code",
   "execution_count": null,
   "metadata": {},
   "outputs": [],
   "source": [
    "# fit a y = mx + c for the predicted vs actual  \n",
    "\n",
    "from numpy import arange\n",
    "from scipy.optimize import curve_fit\n",
    "\n",
    "# plt.figure(figsize=(5,5))\n",
    "\n",
    "# define the true objective function\n",
    "def objective(x, a, b ):\n",
    "\treturn a * x + b\n",
    "\n",
    "def label_predict(model,test_features):\n",
    "    predictions = model.predict(test_features)\n",
    "    return predictions\n",
    "\n",
    "def pred_plot(model,modelname,test_feature,test_label):\n",
    "    \n",
    "    plt.rcParams.update({\n",
    "\t\"text.usetex\": True,\n",
    "\t\"font.family\": \"serif\",\n",
    "\t\"font.serif\": \"bookman\",\n",
    "\t})\n",
    "    from sklearn.linear_model import LinearRegression\n",
    "    predict = label_predict(model,test_feature)\n",
    "\n",
    "    from sklearn.metrics import r2_score\n",
    "\n",
    "    print(r2_score(test_label, predict))\n",
    "\n",
    "    # choose the input and output variables\n",
    "    x, y = test_label, predict\n",
    "\n",
    "    reg = LinearRegression().fit(x.values.reshape(-1,1) , y)\n",
    "    b = reg.intercept_\n",
    "    m = reg.coef_[0]\n",
    "    plt.axline(xy1=(0, b), slope=m, label=rf'$y = {m:.3f}x {b:+.3f}$',color = 'r', ls ='--')\n",
    "\n",
    "    # curve fit\n",
    "    popt, _ = curve_fit(objective, x, y)\n",
    "\n",
    "    # summarize the parameter values\n",
    "    a, b = popt\n",
    "    print('y = %.1f * x + %.1f' % (a, b ))\n",
    "\n",
    "    # plot input vs output\n",
    "    \n",
    "    plt.scatter(x, y,edgecolors='black')\n",
    "    \n",
    "    # define a sequence of inputs between the smallest and largest known inputs\n",
    "    \n",
    "    x_line = arange(min(x), max(x), 1)\n",
    "        \n",
    "    # calculate the output for the range\n",
    "    \n",
    "    y_line = objective(x_line, a, b)\n",
    "    \n",
    "    # create a line plot for the mapping function\n",
    "    \n",
    "    # plt.plot(x_line, y_line, color='red')\n",
    "    plt.xlabel(r'Predicted SOG [$kts$]', fontsize=13)\n",
    "    plt.ylabel(r'Actual SOG [$kts$]', fontsize=13)\n",
    "    plt.grid(linestyle = '--', linewidth = 0.5)\n",
    "    plt.title(rf\"{modelname}\", fontsize=14)\n",
    "    plt.xlim(0,25)\n",
    "    plt.ylim(0,25)\n",
    "    plt.legend()\n",
    "\n"
   ]
  },
  {
   "cell_type": "code",
   "execution_count": null,
   "metadata": {},
   "outputs": [],
   "source": [
    "fig, axes = plt.subplots(ncols=3, figsize=(15, 6), sharey=True)\n",
    "plt.sca(axes[0])\n",
    "pred_plot(model_dtr_hpov,'Decision Tree Regressor + HPO',x_date_yr,y_date_yr)\n",
    "plt.sca(axes[1])\n",
    "pred_plot(model_rfr_hpov,'Random Forest Regressor + HPO',x_date_yr,y_date_yr)\n",
    "plt.sca(axes[2])\n",
    "pred_plot(model_etr_hpov,'Extra Tree Regressor + HPO',x_date_yr,y_date_yr)\n",
    "plt.show()"
   ]
  },
  {
   "cell_type": "code",
   "execution_count": null,
   "metadata": {},
   "outputs": [],
   "source": [
    "fig, axes = plt.subplots(ncols=2, figsize=(10, 4), sharey=True)\n",
    "plt.sca(axes[0])\n",
    "pred_plot(model_dtr_ftr,'Decision Tree Regressor',x_date_yr,y_date_yr)\n",
    "plt.sca(axes[1])\n",
    "pred_plot(model_dtr_hpov,'Decision Tree Regressor + HPO',x_date_yr,y_date_yr)\n",
    "plt.ylabel(\"\")\n",
    "plt.show()"
   ]
  },
  {
   "cell_type": "code",
   "execution_count": null,
   "metadata": {},
   "outputs": [],
   "source": [
    "fig, axes = plt.subplots(ncols=2, figsize=(10, 4), sharey=True)\n",
    "plt.sca(axes[0])\n",
    "pred_plot(model_rfr_ftr,'Random Forest Regressor',x_date_yr,y_date_yr)\n",
    "plt.sca(axes[1])\n",
    "pred_plot(model_rfr_hpov,'Random Forest Regressor + HPO',x_date_yr,y_date_yr)\n",
    "plt.ylabel(\"\")\n",
    "plt.show()"
   ]
  },
  {
   "cell_type": "code",
   "execution_count": null,
   "metadata": {},
   "outputs": [],
   "source": [
    "fig, axes = plt.subplots(ncols=2, figsize=(10, 4), sharey=True)\n",
    "plt.sca(axes[0])\n",
    "pred_plot(model_etr,'Extra Trees Regressor',x_date_yr,y_date_yr)\n",
    "plt.sca(axes[1])\n",
    "pred_plot(model_etr_hpov,'Extra Trees Regressor + HPO',x_date_yr,y_date_yr)\n",
    "plt.ylabel(\"\")\n",
    "plt.show()"
   ]
  },
  {
   "attachments": {},
   "cell_type": "markdown",
   "metadata": {},
   "source": [
    "Evaluation using Cross Validation"
   ]
  },
  {
   "cell_type": "code",
   "execution_count": null,
   "metadata": {},
   "outputs": [],
   "source": [
    "# scores_test = [r2_rf,r2_et,r2_dt,r2_mlr]\n",
    "# fig = plt.figure(figsize=(5,3))\n",
    "# # Creating axes instance\n",
    "# # ax = fig.add_axes([0, 0, 1, 1])\n",
    "# fig,ax = plt.subplots()\n",
    "# plt.title(\"Validation Data Model Performance\")\n",
    "# plt.ylabel(\"R-squared\")\n",
    "# plt.xlabel(\"Model\")\n",
    "# plt.yscale('linear')\n",
    "# plt.ylim(0.2,1.0)\n",
    "# plt.boxplot(scores_test,showmeans=True)\n",
    "# plt.grid(axis='y',linestyle = '--', linewidth = 0.5)\n",
    "# ax.set_xticklabels(['RFR', 'ETR',\n",
    "#                     'DTR','MLR'])\n",
    "# plt.show()"
   ]
  },
  {
   "cell_type": "code",
   "execution_count": null,
   "metadata": {},
   "outputs": [],
   "source": [
    "# scores_test = [-RMSE_rf,-RMSE_et,-RMSE_dt,-RMSE_mlr]\n",
    "# fig = plt.figure(figsize=(5,3))\n",
    "# # Creating axes instance\n",
    "# # ax = fig.add_axes([0, 0, 1, 1])\n",
    "# fig,ax = plt.subplots()\n",
    "# plt.title(\"Validation Data Model Performance\")\n",
    "# plt.ylabel(\"RMSE\")\n",
    "# plt.xlabel(\"Model\")\n",
    "# plt.yscale('linear')\n",
    "# plt.ylim(0,1.6)\n",
    "# plt.boxplot(scores_test,showmeans=True)\n",
    "# plt.grid(axis='y',linestyle = '--', linewidth = 0.5)\n",
    "# ax.set_xticklabels(['RFR', 'ETR',\n",
    "#                     'DTR','MLR'])\n",
    "# plt.show()"
   ]
  },
  {
   "attachments": {},
   "cell_type": "markdown",
   "metadata": {},
   "source": [
    "Optimization comparison"
   ]
  },
  {
   "cell_type": "code",
   "execution_count": null,
   "metadata": {},
   "outputs": [],
   "source": [
    "# scores_opt = [r2_rfo_s,r2_rfo_w,r2_eto_s,r2_eto_w,r2_dto_s,r2_dto_w]\n",
    "# fig = plt.figure(figsize=(5,3))\n",
    "# # Creating axes instance\n",
    "# fig,ax = plt.subplots() \n",
    "# plt.title(\"Optimized Model on Test Dataset Performance\")\n",
    "# plt.ylabel(\"R-squared\")\n",
    "# plt.xlabel(\"Model\")\n",
    "# plt.ylim(0.2,1.0)\n",
    "# plt.yscale('linear')\n",
    "# ax.boxplot(scores_opt,showmeans=True)\n",
    "# plt.grid(axis='y',linestyle = '--', linewidth = 0.5)\n",
    "# ax.set_xticklabels([r'$RFR_{sum}$', r'$RFR_{win}$',\n",
    "#                     r'$ETR_{sum}$', r'$ETR_{win}$',\n",
    "#                     r'$DTR_{sum}$',r'$DTR_{win}$'])\n",
    "# plt.show()"
   ]
  },
  {
   "cell_type": "code",
   "execution_count": null,
   "metadata": {},
   "outputs": [],
   "source": [
    "# rmse_opt = [RMSE_rfo_s,RMSE_rfo_w,RMSE_eto_s,RMSE_eto_w,RMSE_dto_s,RMSE_dto_w]\n",
    "# fig = plt.figure(figsize=(5,3))\n",
    "# # Creating axes instance\n",
    "# fig,ax = plt.subplots() \n",
    "# plt.title(\"Optimized Model Performance\")\n",
    "# plt.ylabel(\"RMSE\")\n",
    "# plt.xlabel(\"Model\")\n",
    "# plt.yscale('linear')\n",
    "# plt.ylim(0,2)\n",
    "# ax.boxplot(rmse_opt,showmeans=True)\n",
    "# plt.grid(axis='y',linestyle = '--', linewidth = 0.5)\n",
    "# ax.set_xticklabels([r'$RFR_{sum}$', r'$RFR_{win}$',\n",
    "#                     r'$ETR_{sum}$', r'$ETR_{win}$',\n",
    "#                     r'$DTR_{sum}$',r'$DTR_{win}$'])\n",
    "# plt.show()"
   ]
  },
  {
   "cell_type": "code",
   "execution_count": null,
   "metadata": {},
   "outputs": [],
   "source": [
    "# scores_opt = [r2_rf,r2_rfc,r2_et,r2_etc,r2_dt,r2_dtc]\n",
    "# fig = plt.figure(figsize=(5,3))\n",
    "# # Creating axes instance\n",
    "# fig,ax = plt.subplots() \n",
    "# plt.title(\"Impact of amount of data\")\n",
    "# plt.ylabel(\"R-squared\")\n",
    "# plt.xlabel(\"Model\")\n",
    "# plt.ylim(0.2,1.0)\n",
    "# plt.yscale('linear')\n",
    "# ax.boxplot(scores_opt,showmeans=True)\n",
    "# plt.grid(axis='y',linestyle = '--', linewidth = 0.5)\n",
    "# ax.set_xticklabels([r'RFR', r'$RFR_{6mths}$',\n",
    "#                     r'ETR', r'$ETR_{6mths}$',\n",
    "#                     r'DTR',r'$DTR_{6mths}$'])\n",
    "# plt.show()"
   ]
  },
  {
   "cell_type": "code",
   "execution_count": null,
   "metadata": {},
   "outputs": [],
   "source": [
    "# rmse_opt = [-RMSE_rf,-RMSE_rfc,-RMSE_et,-RMSE_etc,-RMSE_dt,-RMSE_dtc]\n",
    "# fig = plt.figure(figsize=(5,3))\n",
    "# # Creating axes instance\n",
    "# fig,ax = plt.subplots() \n",
    "# plt.title(\"Impact of Amount of Data\")\n",
    "# plt.ylabel(\"RMSE\")\n",
    "# plt.xlabel(\"Model\")\n",
    "# plt.yscale('linear')\n",
    "# plt.ylim(0,1.6)\n",
    "# ax.boxplot(rmse_opt,showmeans=True)\n",
    "# plt.grid(axis='y',linestyle = '--', linewidth = 0.5)\n",
    "# ax.set_xticklabels([r'RFR', r'$RFR_{6mths}$',\n",
    "#                     r'ETR', r'$ETR_{6mths}$',\n",
    "#                     r'DTR',r'$DTR_{6mths}$'])\n",
    "# plt.show()"
   ]
  },
  {
   "cell_type": "code",
   "execution_count": null,
   "metadata": {},
   "outputs": [],
   "source": [
    "# # define the true objective function\n",
    "# def objective(x, a, b, c):\n",
    "# \treturn a * x + b * x**2 + c"
   ]
  },
  {
   "attachments": {},
   "cell_type": "markdown",
   "metadata": {},
   "source": [
    "STW Calculation"
   ]
  },
  {
   "cell_type": "code",
   "execution_count": null,
   "metadata": {},
   "outputs": [],
   "source": [
    "def label_predict(model,test_features):\n",
    "    predictions = model.predict(test_features)\n",
    "    return predictions\n",
    "\n",
    "#Test data\n",
    "\n",
    "# ETR\n",
    "ydate_pred_s = label_predict(model_etr_hpov,x_date_s)\n",
    "ydate_pred_w = label_predict(model_etr_hpov,x_date_w)\n",
    "ydate_pred_yr = label_predict(model_etr_hpov,x_date_yr)\n",
    "\n",
    "# RFR\n",
    "ydate_pred_rf_s = label_predict(model_rfr_hpov,x_date_s)\n",
    "ydate_pred_rf_w = label_predict(model_rfr_hpov,x_date_w)\n",
    "ydate_pred_rf_yr = label_predict(model_rfr_hpov,x_date_yr)\n",
    "\n",
    "\n",
    "# DTR\n",
    "ydate_pred_dt_s = label_predict(model_dtr_hpov,x_date_s)\n",
    "ydate_pred_dt_w = label_predict(model_dtr_hpov,x_date_w)\n",
    "ydate_pred_dt_yr = label_predict(model_dtr_hpov,x_date_yr)\n",
    "\n",
    "# MLR  \n",
    "ydate_pred_mlr_s = label_predict(model_mlr_ftr,x_date_s)\n",
    "ydate_pred_mlr_w = label_predict(model_mlr_ftr,x_date_w)\n",
    "ydate_pred__mlr_yr = label_predict(model_mlr_ftr,x_date_yr)\n",
    "\n",
    "\n",
    "# For actual results\n",
    "\n",
    "# Yearly dataset\n",
    "\n",
    "dfprog_sog_yr = pd.Series(y_date_yr,name=\"sog_act_yr\").to_frame()\n",
    "ydate_pred_yr = label_predict(model_etr_hpov,x_date_yr)\n",
    "ydate_pred_rf_yr = label_predict(model_rfr_hpov,x_date_yr)\n",
    "ydate_pred_dt_yr = label_predict(model_dtr_hpov,x_date_yr)\n",
    "ydate_pred_mlr_yr = label_predict(model_mlr_ftr,x_date_yr)\n",
    "dfprog_sog_yr[\"sog_pred_yr\"] = ydate_pred_yr\n",
    "dfprog_sog_yr[\"sog_pred_rf_yr\"] = ydate_pred_rf_yr\n",
    "dfprog_sog_yr[\"sog_pred_dt_yr\"] = ydate_pred_dt_yr\n",
    "dfprog_sog_yr[\"sog_pred_mlr_yr\"] = ydate_pred_mlr_yr\n",
    "dfprog_sog_yr[\"gamma_yr\"] = df_year_tr[\"truenorthcurrentdir\"]\n",
    "dfprog_sog_yr[\"nwinddir_yr\"] = df_year_tr[\"truenorthwinddir\"]\n",
    "dfprog_yr = pd.concat([x_date_yr,dfprog_sog_yr],axis=1)\n",
    "\n",
    "\n",
    "# Winter dataset\n",
    "dfprog_sog_w = pd.Series(y_date_w,name=\"sog_act_w\").to_frame()\n",
    "ydate_pred_w = label_predict(model_etr_hpov,x_date_w)\n",
    "ydate_pred_rf_w = label_predict(model_rfr_hpov,x_date_w)\n",
    "ydate_pred_dt_w = label_predict(model_dtr_hpov,x_date_w)\n",
    "ydate_pred_mlr_w = label_predict(model_mlr_ftr,x_date_w)\n",
    "dfprog_sog_w[\"sog_pred_w\"] = ydate_pred_w\n",
    "dfprog_sog_w[\"sog_pred_rf_w\"] = ydate_pred_rf_w\n",
    "dfprog_sog_w[\"sog_pred_dt_w\"] = ydate_pred_dt_w\n",
    "dfprog_sog_w[\"sog_pred_mlr_w\"] = ydate_pred_mlr_w\n",
    "dfprog_sog_w[\"gamma_w\"] = df_winter_tr[\"truenorthcurrentdir\"]\n",
    "dfprog_sog_w[\"nwinddir_w\"] = df_winter_tr[\"truenorthwinddir\"]\n",
    "dfprog_w = pd.concat([x_date_w,dfprog_sog_w],axis=1)\n",
    "\n",
    "# Summer Dataset\n",
    "dfprog_sog_s = pd.Series(y_date_s,name=\"sog_act_s\").to_frame()\n",
    "ydate_pred_s = label_predict(model_etr_hpov,x_date_s)\n",
    "ydate_pred_rf_s = label_predict(model_rfr_hpov,x_date_s)\n",
    "ydate_pred_dt_s = label_predict(model_dtr_hpov,x_date_s)\n",
    "ydate_pred_mlr_s = label_predict(model_mlr_ftr,x_date_s)\n",
    "dfprog_sog_s[\"sog_pred_s\"] = ydate_pred_s\n",
    "dfprog_sog_s[\"sog_pred_rf_s\"] = ydate_pred_rf_s\n",
    "dfprog_sog_s[\"sog_pred_dt_s\"] = ydate_pred_dt_s\n",
    "dfprog_sog_s[\"sog_pred_mlr_s\"] = ydate_pred_mlr_s\n",
    "dfprog_sog_s[\"gamma_s\"] = df_summer_tr[\"truenorthcurrentdir\"]\n",
    "dfprog_sog_s[\"nwinddir_s\"] = df_summer_tr[\"truenorthwinddir\"]\n",
    "dfprog_s = pd.concat([x_date_s,dfprog_sog_s],axis=1)\n",
    "\n",
    "\n",
    "\n",
    "\n",
    "# dfprog_sog = pd.Series(y_date_s,name=\"sog_act_s\").to_frame()\n",
    "# dfprog_sog[\"sog_act_w\"] = y_date_w\n",
    "# #ETR\n",
    "# dfprog_sog[\"sog_pred_s\"] = ydate_pred_s\n",
    "# dfprog_sog[\"sog_pred_w\"] = ydate_pred_w\n",
    "# #RFR\n",
    "# dfprog_sog[\"sog_pred_rf_s\"] = ydate_pred_rf_s\n",
    "# dfprog_sog[\"sog_pred_rf_w\"] = ydate_pred_rf_w\n",
    "# #DTR\n",
    "# dfprog_sog[\"sog_pred_dt_s\"] = ydate_pred_dt_s\n",
    "# dfprog_sog[\"sog_pred_dt_s\"] = ydate_pred_dt_s\n",
    "# #MLR one year\n",
    "# dfprog_sog[\"sog_pred_mlr\"] = ydate_pred_mlr\n",
    "# #Current wind direction summer winter\n",
    "# dfprog_sog[\"gamma_s\"] = df_summer_tr[\"truenorthcurrentdir\"]\n",
    "# dfprog_sog[\"gamma_w\"] = df_winter_tr[\"truenorthcurrentdir\"]\n",
    "# dfprog_sog[\"nwinddir_s\"] = df_summer_tr[\"truenorthwinddir\"]\n",
    "# dfprog_sog[\"nwinddir_s\"] = df_summer_tr[\"truenorthwinddir\"]\n",
    "\n",
    "# dfprog = pd.concat([x_date,dfprog_sog],axis=1)\n",
    "# print(dfprog_sog)"
   ]
  },
  {
   "cell_type": "code",
   "execution_count": null,
   "metadata": {},
   "outputs": [],
   "source": [
    "dfprog_yr.describe()"
   ]
  },
  {
   "cell_type": "code",
   "execution_count": null,
   "metadata": {},
   "outputs": [],
   "source": [
    "dfprog_w.info()"
   ]
  },
  {
   "cell_type": "code",
   "execution_count": null,
   "metadata": {},
   "outputs": [],
   "source": [
    "dfprog_w.describe()"
   ]
  },
  {
   "cell_type": "code",
   "execution_count": null,
   "metadata": {},
   "outputs": [],
   "source": [
    "dfprog_s.info()"
   ]
  },
  {
   "cell_type": "code",
   "execution_count": null,
   "metadata": {},
   "outputs": [],
   "source": [
    "dfprog_s.describe()"
   ]
  },
  {
   "cell_type": "code",
   "execution_count": null,
   "metadata": {},
   "outputs": [],
   "source": [
    "print(dfprog_sog_s.describe())\n",
    "print(dfprog_sog_s.describe().transpose().to_latex(index=False,\n",
    "\n",
    "                  formatters={\"name\": str.upper},\n",
    "\n",
    "                  float_format=\"{:.2f}\".format,\n",
    "\n",
    "))  "
   ]
  },
  {
   "cell_type": "code",
   "execution_count": null,
   "metadata": {},
   "outputs": [],
   "source": [
    "# Box plot of predicted results of winter dataset\n",
    "\n",
    "plt.rcParams.update({\n",
    "\t\"text.usetex\": True,\n",
    "\t\"font.family\": \"serif\",\n",
    "\t\"font.serif\": \"bookman\",\n",
    "\t})\n",
    "scores = [dfprog_sog_s['sog_act_s'],dfprog_sog_s['sog_pred_dt_s'],dfprog_sog_s['sog_pred_rf_s'],dfprog_sog_s['sog_pred_s']]\n",
    "fig = plt.figure(figsize=(5,3))\n",
    "# Creating axes instance\n",
    "# ax = fig.add_axes([0, 0, 1, 1])\n",
    "fig,ax = plt.subplots()\n",
    "plt.title(r\"Distribution of SOG for $DS_{summer}$\")\n",
    "plt.ylabel(\"SOG [kn]\")\n",
    "plt.xlabel(\"Model\")\n",
    "plt.yscale('linear')\n",
    "plt.ylim(5,22)\n",
    "plt.boxplot(scores,showmeans=True)\n",
    "plt.grid(axis='y',linestyle = '--', linewidth = 0.5)\n",
    "ax.set_xticklabels(['Actual', 'DTR',\n",
    "                    'RFR', 'ETR'])\n",
    "plt.show()"
   ]
  },
  {
   "cell_type": "code",
   "execution_count": null,
   "metadata": {},
   "outputs": [],
   "source": [
    "print(dfprog_sog_w.describe())\n",
    "print(dfprog_sog_w.describe().transpose().to_latex(index=False,\n",
    "\n",
    "                  formatters={\"name\": str.upper},\n",
    "\n",
    "                  float_format=\"{:.2f}\".format,\n",
    "\n",
    ")) "
   ]
  },
  {
   "cell_type": "code",
   "execution_count": null,
   "metadata": {},
   "outputs": [],
   "source": [
    "# Box plot of predicted results of winter dataset\n",
    "\n",
    "plt.rcParams.update({\n",
    "\t\"text.usetex\": True,\n",
    "\t\"font.family\": \"serif\",\n",
    "\t\"font.serif\": \"bookman\",\n",
    "\t})\n",
    "scores = [dfprog_sog_w['sog_act_w'],dfprog_sog_w['sog_pred_dt_w'],dfprog_sog_w['sog_pred_rf_w'],dfprog_sog_w['sog_pred_w']]\n",
    "fig = plt.figure(figsize=(5,3))\n",
    "# Creating axes instance\n",
    "# ax = fig.add_axes([0, 0, 1, 1])\n",
    "fig,ax = plt.subplots()\n",
    "plt.title(r\"Distribution of SOG for $DS_{winter}$\")\n",
    "plt.ylabel(\"SOG [kn]\")\n",
    "plt.xlabel(\"Model\")\n",
    "plt.yscale('linear')\n",
    "plt.ylim(5,22)\n",
    "plt.boxplot(scores,showmeans=True)\n",
    "plt.grid(axis='y',linestyle = '--', linewidth = 0.5)\n",
    "ax.set_xticklabels(['Actual', 'DTR',\n",
    "                    'RFR', 'ETR'])\n",
    "plt.show()"
   ]
  },
  {
   "cell_type": "code",
   "execution_count": null,
   "metadata": {},
   "outputs": [],
   "source": [
    "print(dfprog_sog_yr.describe())\n",
    "print(dfprog_sog_yr.describe().transpose().to_latex(index=False,\n",
    "\n",
    "                  formatters={\"name\": str.upper},\n",
    "\n",
    "                  float_format=\"{:.2f}\".format,\n",
    "\n",
    ")) "
   ]
  },
  {
   "cell_type": "code",
   "execution_count": null,
   "metadata": {},
   "outputs": [],
   "source": [
    "# Box plot of predicted results of yearly dataset\n",
    "\n",
    "plt.rcParams.update({\n",
    "\t\"text.usetex\": True,\n",
    "\t\"font.family\": \"serif\",\n",
    "\t\"font.serif\": \"bookman\",\n",
    "\t})\n",
    "scores = [dfprog_sog_yr['sog_act_yr'],dfprog_sog_yr['sog_pred_dt_yr'],dfprog_sog_yr['sog_pred_rf_yr'],dfprog_sog_yr['sog_pred_yr']]\n",
    "fig = plt.figure(figsize=(5,3))\n",
    "# Creating axes instance\n",
    "# ax = fig.add_axes([0, 0, 1, 1])\n",
    "fig,ax = plt.subplots()\n",
    "plt.title(r\"Distribution of SOG for $DS_{year}$\")\n",
    "plt.ylabel(\"SOG [kn]\")\n",
    "plt.xlabel(\"Model\")\n",
    "plt.yscale('linear')\n",
    "plt.ylim(5,22)\n",
    "plt.boxplot(scores,showmeans=True)\n",
    "plt.grid(axis='y',linestyle = '--', linewidth = 0.5)\n",
    "ax.set_xticklabels(['Actual', 'DTR',\n",
    "                    'RFR', 'ETR'])\n",
    "plt.show()"
   ]
  },
  {
   "cell_type": "code",
   "execution_count": null,
   "metadata": {},
   "outputs": [],
   "source": [
    "def sog_corr(sog,gamma,heading,current_speed):\n",
    "    # Conversion of predicted SOG to m/s\n",
    "    vgms = sog/1.9438\n",
    "    rad_gamma = np.deg2rad(gamma)\n",
    "    rad_cog = np.deg2rad(heading)\n",
    "    # Calculation of the predicted x-component of SOG\n",
    "\n",
    "    vgx = vgms * np.sin(rad_cog)\n",
    "    vcx = current_speed * np.sin(rad_gamma)\n",
    "    stw_x = vgx - vcx\n",
    "\n",
    "    # Calculation of the predicted y-component of SOG \n",
    "\n",
    "    vgy = vgms * np.cos(rad_cog)\n",
    "    vcy = current_speed * rad_gamma\n",
    "    stw_y = vgy - vcy\n",
    "\n",
    "    vwms_p = np.sqrt(stw_x**2 + stw_y**2)\n",
    "    stw_pred = vwms_p*1.9438\n",
    "\n",
    "    return stw_pred"
   ]
  },
  {
   "cell_type": "code",
   "execution_count": null,
   "metadata": {},
   "outputs": [],
   "source": [
    "# STW conversion Year\n",
    "\n",
    "# Actual\n",
    "stw_act_yr = sog_corr(dfprog_yr['sog_act_yr'],dfprog_yr['gamma_yr'],dfprog_yr['heading'],dfprog_yr['curspeed'])\n",
    "dfprog_yr['stw_act_yr'] = stw_act_yr\n",
    "# ETR\n",
    "stw_pred_et_yr = sog_corr(dfprog_yr['sog_pred_yr'],dfprog_yr['gamma_yr'],dfprog_yr['heading'],dfprog_yr['curspeed'])\n",
    "dfprog_yr['stw_pred_yr'] = stw_pred_et_yr\n",
    "# RFR\n",
    "stw_pred_rf_yr = sog_corr(dfprog_yr['sog_pred_rf_yr'],dfprog_yr['gamma_yr'],dfprog_yr['heading'],dfprog_yr['curspeed'])\n",
    "dfprog_yr['stw_pred_rf_yr'] = stw_pred_rf_yr\n",
    "# DTR\n",
    "stw_pred_dt_yr = sog_corr(dfprog_yr['sog_pred_dt_yr'],dfprog_yr['gamma_yr'],dfprog_yr['heading'],dfprog_yr['curspeed'])\n",
    "dfprog_yr['stw_pred_dt_yr'] = stw_pred_dt_yr\n",
    "# MLR\n",
    "stw_pred_mlr_yr = sog_corr(dfprog_yr['sog_pred_mlr_yr'],dfprog_yr['gamma_yr'],dfprog_yr['heading'],dfprog_yr['curspeed'])\n",
    "dfprog_yr['stw_pred_mlr_yr'] = stw_pred_mlr_yr\n",
    "\n"
   ]
  },
  {
   "cell_type": "code",
   "execution_count": null,
   "metadata": {},
   "outputs": [],
   "source": [
    "print(dfprog_yr.describe())"
   ]
  },
  {
   "cell_type": "code",
   "execution_count": null,
   "metadata": {},
   "outputs": [],
   "source": [
    "# STW conversion Summer \n",
    "\n",
    "# Actual\n",
    "stw_act_s = sog_corr(dfprog_s['sog_act_s'],dfprog_s['gamma_s'],dfprog_s['heading'],dfprog_s['curspeed'])\n",
    "dfprog_s['stw_act_s'] = stw_act_s\n",
    "# ETR\n",
    "stw_pred_et_s = sog_corr(dfprog_s['sog_pred_s'],dfprog_s['gamma_s'],dfprog_s['heading'],dfprog_s['curspeed'])\n",
    "dfprog_s['stw_pred_s'] = stw_pred_et_s\n",
    "# RFR\n",
    "stw_pred_rf_s = sog_corr(dfprog_s['sog_pred_rf_s'],dfprog_s['gamma_s'],dfprog_s['heading'],dfprog_s['curspeed'])\n",
    "dfprog_s['stw_pred_rf_s'] = stw_pred_rf_s\n",
    "# DTR\n",
    "stw_pred_dt_s = sog_corr(dfprog_s['sog_pred_dt_s'],dfprog_s['gamma_s'],dfprog_s['heading'],dfprog_s['curspeed'])\n",
    "dfprog_s['stw_pred_dt_s'] = stw_pred_dt_s\n",
    "# MLR\n",
    "stw_pred_mlr_s = sog_corr(dfprog_s['sog_pred_mlr_s'],dfprog_s['gamma_s'],dfprog_s['heading'],dfprog_s['curspeed'])\n",
    "dfprog_s['stw_pred_mlr_s'] = stw_pred_mlr_s\n",
    "\n"
   ]
  },
  {
   "cell_type": "code",
   "execution_count": null,
   "metadata": {},
   "outputs": [],
   "source": [
    "print(dfprog_s.describe())"
   ]
  },
  {
   "cell_type": "code",
   "execution_count": null,
   "metadata": {},
   "outputs": [],
   "source": [
    "# STW conversion Winter\n",
    "\n",
    "# Actual\n",
    "stw_act_w = sog_corr(dfprog_w['sog_act_w'],dfprog_w['gamma_w'],dfprog_w['heading'],dfprog_w['curspeed'])\n",
    "dfprog_w['stw_act_w'] = stw_act_w\n",
    "# ETR\n",
    "stw_pred_et_w = sog_corr(dfprog_w['sog_pred_w'],dfprog_w['gamma_w'],dfprog_w['heading'],dfprog_w['curspeed'])\n",
    "dfprog_w['stw_pred_w'] = stw_pred_et_w\n",
    "# RFR\n",
    "stw_pred_rf_w = sog_corr(dfprog_w['sog_pred_rf_w'],dfprog_w['gamma_w'],dfprog_w['heading'],dfprog_w['curspeed'])\n",
    "dfprog_w['stw_pred_rf_w'] = stw_pred_rf_w\n",
    "# DTR\n",
    "stw_pred_dt_w = sog_corr(dfprog_w['sog_pred_dt_w'],dfprog_w['gamma_w'],dfprog_w['heading'],dfprog_w['curspeed'])\n",
    "dfprog_w['stw_pred_dt_w'] = stw_pred_dt_w\n",
    "# MLR\n",
    "stw_pred_mlr_w = sog_corr(dfprog_w['sog_pred_mlr_w'],dfprog_w['gamma_w'],dfprog_w['heading'],dfprog_w['curspeed'])\n",
    "dfprog_w['stw_pred_mlr_w'] = stw_pred_mlr_w"
   ]
  },
  {
   "cell_type": "code",
   "execution_count": null,
   "metadata": {},
   "outputs": [],
   "source": [
    "# # Predicted SOG from RF model\n",
    "\n",
    "# stw_pred_rf = sog_corr(dfprog_sog['sog_pred_rf'],dfprog['gamma'],dfprog['heading'],dfprog['curspeed'])\n",
    "\n",
    "# dfprog['stw_pred_rf'] = stw_pred_rf"
   ]
  },
  {
   "cell_type": "code",
   "execution_count": null,
   "metadata": {},
   "outputs": [],
   "source": [
    "# # Predicted SOG from DT model\n",
    "\n",
    "# stw_pred_dt = sog_corr(dfprog_sog['sog_pred_dt'],dfprog['gamma'],dfprog['heading'],dfprog['curspeed'])\n",
    "\n",
    "# dfprog['stw_pred_dt'] = stw_pred_dt"
   ]
  },
  {
   "cell_type": "code",
   "execution_count": null,
   "metadata": {},
   "outputs": [],
   "source": [
    "# # Predicted SOG from MLR model\n",
    "\n",
    "# stw_pred_mlr = sog_corr(dfprog_sog['sog_pred_mlr'],dfprog['gamma'],dfprog['heading'],dfprog['curspeed'])\n",
    "\n",
    "# dfprog['stw_pred_mlr'] = stw_pred_mlr"
   ]
  },
  {
   "cell_type": "code",
   "execution_count": null,
   "metadata": {},
   "outputs": [],
   "source": [
    "# # Actual SOG\n",
    "\n",
    "# stw_pred_act = sog_corr(dfprog_sog['sog_act'],dfprog['gamma'],dfprog['heading'],dfprog['curspeed'])\n",
    "\n",
    "# dfprog['stw_act'] = stw_pred_act"
   ]
  },
  {
   "cell_type": "code",
   "execution_count": null,
   "metadata": {},
   "outputs": [],
   "source": [
    "# dfprog.describe()"
   ]
  },
  {
   "cell_type": "markdown",
   "metadata": {},
   "source": [
    "Holtrop Mennen FOC function"
   ]
  },
  {
   "cell_type": "code",
   "execution_count": null,
   "metadata": {},
   "outputs": [],
   "source": [
    "def foc_fun(stw,T_dyn,windspeed,truewindir,H_s,truewavedir):\n",
    "    # Ship Information, that are readily available in ship specification\n",
    "    loa = 158 # ship overall length\n",
    "    lwl = 144.8 # ship waterline length, m\n",
    "    lpp = 0.97*lwl # ship perpendicular length , m, according to information\n",
    "    B = 24.5 # Ship breadth, m\n",
    "    depth = 13.8 # Ship depth. m\n",
    "    T_n = 5.85 # Nominal max draught , m\n",
    "    # T_n = 5.7 # Nominal design draught , m\n",
    "    dwt = 5110 # ship dead weight , t\n",
    "    V_n = 17.7 # ship design speed, knots\n",
    "    # V_n = 18 # ship design speed, knots\n",
    "\n",
    "\n",
    "    # Environmental Constants\n",
    "\n",
    "    g = 9.805 # gravity, kg/ms^2 \n",
    "    rho_sea = 1025 # kg/m3\n",
    "    nu_sea = 0.00000118 # Dynamic viscosity of sea m^2/s\n",
    "    rho_air = 1.25 # density air \n",
    "\n",
    "    # Any other additional ship parameters beyond here are approximated based on literature review.\n",
    "\n",
    "    # Convert STW to m/s, stw with only current correction\n",
    "\n",
    "    stw_ms = stw / 1.94384\n",
    "\n",
    "    # Switch between actual and predicted here \n",
    "    # Calculation for Block coefficient,C_b, according to Schneekluth and Bertram 1998\n",
    "    # Then Froude number is required\n",
    "\n",
    "    V_n = 17.7/1.94384\n",
    "    # V_n = 18/1.94384\n",
    "\n",
    "    Fr_n = V_n / math.sqrt(g*lwl)\n",
    "    # print(f\"Froude Number {Fr_n:0.4f}\")\n",
    "\n",
    "    C_b = -4.22 + 27.8*math.sqrt(Fr_n) - 39.1*Fr_n + 46.6*(Fr_n)**3\n",
    "    # print(f\"C_b {C_b:0.4f}\")\n",
    "\n",
    "    # calculation for midship section coefficient, C_m according to Jensen from Birk\n",
    "\n",
    "    C_m = 1 / (1+(1-C_b)**3.5)\n",
    "    # print(f\"C_m {C_m:0.4f}\")\n",
    "\n",
    "    # prismatic coefficient C_p can be calculated according to Biran\n",
    "\n",
    "    C_p = C_b/C_m \n",
    "    # print(f\"C_p {C_p:0.4f}\")\n",
    "\n",
    "    # Displacement calculation according to Barras \n",
    "\n",
    "    dsp = C_b * lwl * B * T_n\n",
    "\n",
    "    # print(f\"dsp {dsp:0.4f} m^3\")\n",
    "\n",
    "    # coefficient c14 to account for stern shape according to holtrop mennen\n",
    "\n",
    "    C_stern = 10 # assume u shaped stern\n",
    "    c14 = 1 + 0.011*C_stern \n",
    "    \n",
    "    # print(f\"c14 {c14:0.4f}\")\n",
    "\n",
    "    # Calculate length of run according to holtrop mennen\n",
    "\n",
    "    # lcb = -2/100 # according to Barras\n",
    "    lcb = -(0.44*Fr_n - 0.094) # according to Guldhammer and Harvald\n",
    "\n",
    "    # print(f\"lcb {lcb:0.4f}\")\n",
    "\n",
    "    # L in holtrop mennen is lwl\n",
    "\n",
    "    lr = lwl*(1-C_p+(0.06*C_p*lcb/(4*C_p-1)))\n",
    "\n",
    "    # print(f\"lr {lr:0.4f} m\")\n",
    "\n",
    "    # now the (1+k1) can be calculated\n",
    "\n",
    "    k1a = 0.487118*c14*(B/lwl)**1.06806\n",
    "    k1b = (T_dyn/lwl)**0.46106\n",
    "    k1c = (lwl/lr)**0.121563\n",
    "    k1d = (lwl**3/dsp)**0.36486\n",
    "    k1e = (1-C_p)**-0.604247\n",
    "\n",
    "    k1_const = 0.93 + k1a*k1b*k1c*k1d*k1e\n",
    "\n",
    "    # print(f\"k1_const {k1_const.mean():0.4f}\")\n",
    "\n",
    "    # Calculate Reynold number and Coefficient of Friction C_f. Here, the C_f will be dynamic and depend on the velocity of the ship\n",
    "\n",
    "    Re =( stw_ms * lwl ) / nu_sea\n",
    "    C_f = 0.075 / (np.log10(Re-2)**2)\n",
    "\n",
    "    # print(f\"Mean Reynold Number {Re.mean():0.2f}\")\n",
    "    # print(f\"Mean Coefficient of friction {C_f.mean():0.6f}\")\n",
    "    \n",
    "    # Calculate the appendage area of bare hull S_bh\n",
    "    # Formula according to Holtrop Mennen\n",
    "\n",
    "    # Calculate the waterplane area coefficient \n",
    "    # Formula according to Schneekluth and Bertram\n",
    "\n",
    "    C_wp = (1+2*C_b)/3\n",
    "    # print(f\"C_wp {C_wp:0.4f}\")\n",
    "\n",
    "    # Calculate transverse bulb area A_bt, Transom area A_t and immersed midship section area A_m according to Kim 2019\n",
    "\n",
    "    # dfprog['A_m'] = B*dfprog['draught']*C_m\n",
    "    # Borrow estimation of Am from Guldahmmer and Harvald\n",
    "    A_m = dsp/(lpp*C_p)\n",
    "    A_t = 0.051 * A_m\n",
    "    A_bt = 0.085*A_m # From approximation of Kracht78, Similar to Charcalis\n",
    "    # print(f\"A_m {A_m:0.2f} m^2\")\n",
    "    # print(f\"A_t {A_t:0.4f} m^2\")\n",
    "    # print(f\"A_bt {A_bt:0.4f} m^2\")\n",
    "\n",
    "    sbh_a = lwl*(2*T_dyn+B)*math.sqrt(C_m)\n",
    "    sbh_b = 0.453\n",
    "    sbh_c = 0.4425*C_b\n",
    "    sbh_d = 0.2862*C_m\n",
    "    sbh_e = 0.003467*(B/T_dyn)\n",
    "    sbh_f = 0.3696*C_wp\n",
    "    sbh_g = 2.38*A_bt/C_b\n",
    "\n",
    "    S_bh = sbh_a*(sbh_b+sbh_c-sbh_d+sbh_e+sbh_f)+sbh_g\n",
    "\n",
    "    # print(f\"S_bh {S_bh.mean():0.4f} m^2\")\n",
    "\n",
    "    # Calculate R_f\n",
    "\n",
    "    R_f = 0.5 * rho_sea * stw_ms**2 * C_f * S_bh * k1_const\n",
    "\n",
    "    # print(f\"Mean STW {stw.mean():0.2f} kt\")\n",
    "    # print(f\"Frictional Resistance {R_f.mean():0.2f} N\")\n",
    "    \n",
    "    # Calculate resistance due to appendage\n",
    "\n",
    "    # Assume S_app\n",
    "    # Taken from Holtrop Mennen worked example\n",
    "    # S_app = 50 # m^2 \n",
    "\n",
    "    # Calculation of appendage area according to Hollenbach method, the formula is for twin screw ship\n",
    "\n",
    "    # Lower limit\n",
    "    S_app_lo = S_bh.mean()*(0.028+0.01*math.exp(-(lpp*T_n)/1000))\n",
    "\n",
    "    # Upper limit\n",
    "    S_app_hi = S_bh.mean()*(0.0325+0.045*math.exp(-(lpp*T_n)/1000))\n",
    "\n",
    "    # print(f\"S_app between {S_app_lo:.02f} and {S_app_hi:.02f} according to Hollenbach\")\n",
    "\n",
    "    # The following appendage area are scaled from the picture of the ship\n",
    "    # Constant k here means (1+k_2) !\n",
    "\n",
    "    D_shaft = 0.55 # m, approx\n",
    "    l_shaft = 13.54 # m, approx\n",
    "\n",
    "    S_app_shaft = 2*math.pi * D_shaft * l_shaft\n",
    "    k2_shaft = 3   \n",
    "\n",
    "    h_rudder = 4.06 #m, approx\n",
    "    B_rudder = 1.99 #m, approx\n",
    "    S_app_rudder = 2 * h_rudder * B_rudder #m, two side\n",
    "    k2_rudder = 3\n",
    "\n",
    "    h_skeg = 4.41 #m, approx\n",
    "    l_skeg = 26.23 #m, approx\n",
    "    S_app_skeg =  h_skeg * l_skeg #two side (triangle)\n",
    "    k2_skeg = 1.5\n",
    "\n",
    "    S_app = S_app_shaft + S_app_rudder + S_app_skeg\n",
    "\n",
    "    k2_const = (k2_shaft*S_app_shaft + k2_rudder*S_app_rudder + k2_skeg*S_app_skeg)/S_app\n",
    "\n",
    "    # print(f\"Wetted area of hull is {S_bh.mean():0.2f}\")\n",
    "    # print(f\"(1+k2) equivalent {k2_const:0.2f}\")\n",
    "    # print(f\"Total Appendage area is {S_app:0.4f}\")\n",
    "    # # from holtrop mennen, take case of twin screw\n",
    "    # k2_const = 2.8\n",
    "\n",
    "    # Add resistance due to Bow Thrusters\n",
    "\n",
    "    d_th = 2.15 #m, approx\n",
    "\n",
    "    # Use formula from Hollenach\n",
    "    C_dth = 0.003 + 0.003*((10*d_th/T_n)-1)\n",
    "    # C_dth = 0.003 # The picture shows that the thruster are fairly parallel to midship area\n",
    "    # There are two bow thruster in this ship\n",
    "    R_th = rho_sea*stw_ms**2*math.pi*d_th**2*C_dth\n",
    "\n",
    "    # print(f\"Friction due to bow thrusters {R_th.mean():0.2f} N\")\n",
    "\n",
    "    R_app = (0.5 * rho_sea * stw_ms**2 * C_f * S_app *k2_const) + 2*R_th\n",
    "\n",
    "    # print(f\"Mean STW {stw.mean():0.2f} kt\")\n",
    "    # print(f\"Appendage Friction {R_app.mean():0.2f} N\")\n",
    "\n",
    "    # Calculate wave-making and wave-breaking resistance\n",
    "\n",
    "    # print(\"Ratio check to ensure correct formula is used for Holtrop Mennen\")\n",
    "    # print(f\"B/lwl = {B/lwl:0.2f}\")\n",
    "    # print(f\"lwl^3/displacemt = {lwl**3/dsp:0.2f}\")\n",
    "    # print(f\"C_p = {C_p:0.4f}\")\n",
    "\n",
    "\n",
    "    c7 = B/lwl\n",
    "    T_fwd = T_dyn # See reasoning from Rakke16 \n",
    "    h_b = 0.6*T_n # must not exceed 0.6 T_f, here T_n = T_f (design), reasong and coefficient value taken from Rakke\n",
    "    \n",
    "    # print(f\"h_B {h_b:0.4f}\")\n",
    "\n",
    "    # All formulas here are listed by Holtrop Mennen\n",
    "\n",
    "    c3 = 0.56 * A_bt**1.5 / (B*T_dyn*(0.31*np.sqrt(A_bt)+T_fwd-h_b))\n",
    "    c2 = np.exp(-1.89*np.sqrt(c3))\n",
    "    c5 = 1 - 0.8*(A_t/(B*T_dyn*C_m))\n",
    "    lambda_const = (1.446 * C_p) - 0.03*(lwl/B)\n",
    "    c16 = 8.07981*C_p - 13.8673*C_p**2 + 6.984388*C_p**3\n",
    "    m_1 = 0.0140407 * (lwl/T_dyn) - 1.75254*(dsp**(1/3)/lwl) -  4.79323*(B/lwl) - c16\n",
    "    c15 = -1.69385\n",
    "\n",
    "    # Use dynamic Froude here to refect the actual resistance due to ship movement \n",
    "\n",
    "    Fr_n_dyn = stw_ms / math.sqrt(g*lwl)\n",
    "    # Updated formula use m_4\n",
    "    m4 = 0.4 * c15 * np.exp(-0.034*Fr_n_dyn **-3.29)\n",
    "\n",
    "    i_e = 1 + 89*math.exp(-(lwl/B)**0.80856*(1-C_wp)**0.30484*(1-C_p-0.0225*lcb)**0.6367*(lr/B)**0.34574*((100*dsp)/lwl**3)**0.16302)\n",
    "    c1 = 2223105 * c7**3.78613 * (T_dyn/B)**1.07961*(90-i_e)**-1.37565\n",
    "    d = -0.9\n",
    "\n",
    "    # print(f\"i_e = {i_e:0.4f}\")\n",
    "\n",
    "    # Use updated formula with m4\n",
    "\n",
    "    R_w = c1*c2*c5*dsp*g*rho_sea*np.exp(m_1*Fr_n_dyn **d+m4*np.cos(lambda_const*Fr_n_dyn **-2))\n",
    "\n",
    "    # print(f\"Mean STW {stw.mean():0.2f} kt\")\n",
    "    # print(f\"Wave resistance {R_w.mean():0.2f} N\")\n",
    "\n",
    "    # Calculate Resistance due to Bulbous Bow\n",
    "    # Calculate effect of forward sinkage h_f and local wave height at bow h_w\n",
    "\n",
    "    P_b = 0.56*np.sqrt(A_bt)/(T_fwd-1.5*h_b)\n",
    "    Fn_i = stw_ms / np.sqrt(g*(T_fwd-h_b-0.25*np.sqrt(A_bt))+0.15*stw_ms**2)\n",
    "    R_b = 0.11 * np.exp(-3*P_b**-2)*Fn_i**3*A_bt**1.5*rho_sea*g/(1+Fn_i**2)\n",
    "\n",
    "    # print(f\"Emergence of bulb Pb {P_b.mean():0.4f}\")\n",
    "    # print(f\"Immersion Froude number Fn_i {Fn_i.mean():0.2f}\")\n",
    "    # print(f\"Mean STW {stw.mean():0.2f} kt\")\n",
    "    # print(f\"Resistance due to bulbous bow {R_b.mean():0.2f} N\")    \n",
    "\n",
    "    #Calculate Transom Resistance \n",
    "\n",
    "    Fn_tr = stw_ms / np.sqrt(2*g*A_t/(B+(B*C_wp)))\n",
    "\n",
    "    # print(f\"Froude for Transom {Fn_tr.mean():0.4f}\")\n",
    "\n",
    "    # Use condition to calculate Froude due to transom\n",
    "\n",
    "    cond_Fn_tr = [Fn_tr < 5 ]\n",
    "    cond_c6 = [0.2*(1-0.2*Fn_tr)]\n",
    "\n",
    "    c6 = np.select(cond_Fn_tr,cond_c6,0)\n",
    "    R_tr = 0.5*rho_sea*10**2*A_t*c6\n",
    "\n",
    "    # print(f\"Mean STW {stw.mean():0.2f} kt\")\n",
    "    # print(f\"Resistance due to transom {R_tr.mean():0.2f} N\")\n",
    "\n",
    "    # Model ship correlation resistance\n",
    "\n",
    "    # print(\"Ratio check to ensure correct formula is used for Holtrop Mennen\")\n",
    "\n",
    "    cond_Tf_lwl = [(T_fwd/lwl) <= 0.04 ]\n",
    "    cond_c4 = [T_fwd/lwl]\n",
    "    c4 = np.select(cond_Tf_lwl,cond_c4,0.04)\n",
    "\n",
    "    C_a = 0.00546*(lwl+100)**-0.16 - 0.002 + 0.003*math.sqrt(lwl/7.5)*C_b**4*c2*(0.04-c4)\n",
    "\n",
    "    R_a = 0.5*rho_sea*stw_ms**2*C_a*(S_bh+S_app)\n",
    "\n",
    "    # print(f\"C_a {C_a.mean()}\")\n",
    "    # print(f\"Mean STW {stw.mean():0.2f} kt\")\n",
    "    # print(f\"Correlation allowance resistance {R_a.mean():0.2f} N\")\n",
    "\n",
    "    # Calculate Additional Resistance, consist of wind resistance and wave resistance\n",
    "    # Calculate Apparent velocities and Apparent Angle \n",
    "\n",
    "    V_aw = np.sqrt(windspeed**2 + stw_ms**2 + 2*windspeed*stw_ms*np.cos(np.deg2rad(truewindir)))\n",
    "\n",
    "    awa_c1 = (windspeed/V_aw)*np.sin(np.deg2rad(truewindir))\n",
    "\n",
    "    # Epsilon is Apparent Wind Angle AWA\n",
    "\n",
    "    epsilon = np.rad2deg(np.arcsin(awa_c1))\n",
    "\n",
    "    # Values and method from Blendermann\n",
    "\n",
    "    C_DlAf = 0.45\n",
    "    A_f = 325.3\n",
    "    A_l = 2125.8\n",
    "    C_Dt = 0.9\n",
    "    delta = 0.8\n",
    "    C_Dl = C_DlAf * A_f / A_l\n",
    "    L_bwl = 43.75 # m, acquired from picture\n",
    "\n",
    "    Raa_const1 = (rho_air/2) * V_aw**2 * A_l * C_Dl\n",
    "    Raa_const2 = np.cos(np.deg2rad(epsilon))\n",
    "    Raa_const3 = 1 - (delta/2) * ((1-(C_Dl/C_Dt))*(np.sin(np.deg2rad(2*epsilon)))**2)\n",
    "\n",
    "    R_aa = Raa_const1 * Raa_const2 / Raa_const3 \n",
    "\n",
    "    # print(f\"Mean wind resistance Blendermann {R_aa.mean():0.2f}N\")\n",
    "\n",
    "    # Calculate Wave Resistance according to STAWAVE-1\n",
    "\n",
    "    Rawl = 1/16 * rho_sea * g * H_s**2 * math.sqrt(B/L_bwl)\n",
    "\n",
    "    condwave = [truewavedir<=45]\n",
    "    choicewave = [Rawl]\n",
    "\n",
    "    R_awl = np.select(condwave,choicewave,0)\n",
    "\n",
    "    # print(f\"Mean wave resistance STAWAVE-1 {R_awl.mean():0.2f} N\")\n",
    "\n",
    "    R_tot = (R_f + R_app + R_w + R_b + R_a + R_tr  + R_aa + R_awl)/1e3 \n",
    "\n",
    "    # Calculate Efficiencies\n",
    "\n",
    "    # Diameter value for ship estimated from Bertram \n",
    "\n",
    "    # D = 0.215*16 #m \n",
    "    # Revised D, 08.07.23\n",
    "    D = 4 # m, from flyer\n",
    "    PD_const = 1.135  # From Bertram\n",
    "\n",
    "    # Update C_v formula\n",
    "\n",
    "    C_v = (k1_const*R_f + R_app + R_a) / (0.5*rho_sea*stw_ms**2*(S_bh+S_app))\n",
    "    w = 0.3095 * C_b + 10*C_v*C_b - (0.23*D)/np.sqrt(B*T_dyn) \n",
    "    t = 0.325*C_b - 0.1885*D/np.sqrt(B*T_dyn)\n",
    "    eff_h = (1-t) / (1-w)\n",
    "    eff_r = 0.9737 + 0.111*(C_p - 0.225*lcb) - 0.06325*PD_const\n",
    "    eff_s = 0.99 # Set according to holtrop mennen and man\n",
    "    eff_o = 0.7 # Approximation from Wageningen Line from Breslin94, since Holtrop perform their measurement in Wageningen basin \n",
    "\n",
    "    eff_tot = eff_h* eff_r* eff_s*eff_o # consider sea margin\n",
    "\n",
    "    # print(f\"Total Efficiency {eff_tot.mean():0.3f}\")\n",
    "\n",
    "    # Calculate power and FOC\n",
    "\n",
    "    P_b = (R_tot * stw_ms)/eff_tot # in kW\n",
    "    SFOC = 169.4 # g/kWh, taken from datasheet Waertsilla 8V31\n",
    "    FOC = (P_b * SFOC)/1e6 # get FOC t/h\n",
    "    FOC_day = FOC * 11 #Per day 11 hour journey\n",
    "\n",
    "    # print(\"Summary of important results\")\n",
    "    \n",
    "    # print(f\"Ship Displacement {dsp:0.4f} m^3\")\n",
    "    # print(f\"Prismatic coefficient C_p {C_p:0.4f}\")\n",
    "    # print(f\"Midship coefficient C_m {C_m:0.4f}\")\n",
    "    # print(f\"Block coefficient C_b {C_b:0.4f}\")\n",
    "    # print(f\"Waterplane area constant C_wp {C_wp:0.4f}\")\n",
    "    # print(f\"Design Froude Number Fr_n {Fr_n:0.4f}\")\n",
    "    # print(f\"Mean STW {stw.mean():0.2f} kt\")\n",
    "    # print(f\"Max STW {stw.max():0.2f} kt\")\n",
    "    # print(f\"Average frictional Resistance R_f {R_f.mean()/1e3:0.3f}kN\")\n",
    "    # print(f\"Average appendage friction R_app {R_app.mean()/1e3:0.3f}kN\")\n",
    "    # print(f\"Average wave making (calm) resistance R_w {R_w.mean()/1e3:0.3f}kN\")\n",
    "    # print(f\"Average bulbous bow resistance R_b {R_b.mean()/1e3:0.3f}kN\")\n",
    "    # print(f\"Average transom resistance R_t {R_tr.mean()/1e3:0.3f}kN\")\n",
    "    # print(f\"Average model correlation resistance R_a {R_a.mean()/1e3:0.3f}kN\")\n",
    "    # print(f\"Average wind resistance (Blendermann) R_aa {R_aa.mean()/1e3:0.3f}kN\")\n",
    "    # print(f\"Average wave resistance R_awl {R_awl.mean()/1e3:0.3f}kN\")\n",
    "    # print(f\"Average total resistance R_tot {R_tot.mean():0.3f}kN\")\n",
    "    # print(f\"Average Total Efficiency {eff_tot.mean():0.3f}\")\n",
    "    # print(f\"Average Power {P_b.mean():0.3f} kW\")\n",
    "    # print(f\"Max Power {P_b.max():0.3f} kW\")\n",
    "    # print(f\"Average Fuel Consumption per hour {FOC.mean():0.3f} T\")\n",
    "    # print(f\"Average Fuel Consumption per day {FOC_day.mean():0.3f} T\")\n",
    "\n",
    "\n",
    "    return R_f,R_app,R_w,R_b,R_tr,R_a,R_aa,R_awl,R_tot,eff_tot,P_b,FOC\n"
   ]
  },
  {
   "cell_type": "markdown",
   "metadata": {},
   "source": [
    "Comparison of Summer and Winter fuel consumption"
   ]
  },
  {
   "cell_type": "markdown",
   "metadata": {},
   "source": [
    "Actual Summer"
   ]
  },
  {
   "cell_type": "code",
   "execution_count": null,
   "metadata": {},
   "outputs": [],
   "source": [
    "Rf_act_s,R_app_act_s,R_w_act_s,R_b_act_s,R_tr_act_s,R_a_act_s,R_aa_act_s,R_awl_act_s,R_tot_act_s,eff_tot_act_s,P_b_act_s,FOC_act_s = foc_fun(dfprog_s['stw_act_s'],dfprog_s['draught'],dfprog_s['windspeed'],dfprog_s['truewinddir'],dfprog_s['windwaveswellheight'],dfprog_s['truewavedir'])"
   ]
  },
  {
   "cell_type": "code",
   "execution_count": null,
   "metadata": {},
   "outputs": [],
   "source": [
    "def stats_HoltropMennen(stw,RFric,RApp,RWave,RBulb,RTrans,RCorr,RWind,RStaWave,RTot,EffTot,Pbrake,FOChr):\n",
    "    WBM_desc_stats = pd.concat([stw,RFric/1e3,RApp/1e3,RWave/1e3,RBulb/1e3,pd.Series(RTrans/1e3),RCorr/1e3,RWind/1e3,pd.Series(RStaWave/1e3),RTot/1e3,EffTot,Pbrake/1e3,FOChr],axis=1)\n",
    "    WBM_HM_desc = pd.DataFrame(WBM_desc_stats)\n",
    "    WBM_HM_desc.columns = ['STW [m/s]','R_F [kN]', 'R_APP [kN]', 'R_W [kN]', 'R_B [kN]', 'R_TR [kN]' ,'R_A [kN]', 'R_AA [kN]' , 'R_AWL [kN]', 'R_TOT [kN]' , 'EFF_TOT [-]' ,'P_B[kW]','FOC [T/h]' ]\n",
    "    # Direct print to LaTex\n",
    "    print(WBM_HM_desc.describe().to_latex(index=False,\n",
    "\n",
    "                  formatters={\"name\": str.upper},\n",
    "\n",
    "                  float_format=\"{:.2f}\".format,\n",
    "    ))\n",
    "    return WBM_HM_desc \n"
   ]
  },
  {
   "cell_type": "code",
   "execution_count": null,
   "metadata": {},
   "outputs": [],
   "source": [
    "WBM_act_s = stats_HoltropMennen(stw_act_s,Rf_act_s,R_app_act_s,R_w_act_s,R_b_act_s,R_tr_act_s,R_a_act_s,R_aa_act_s,R_awl_act_s,R_tot_act_s,eff_tot_act_s,P_b_act_s,FOC_act_s)"
   ]
  },
  {
   "cell_type": "code",
   "execution_count": null,
   "metadata": {},
   "outputs": [],
   "source": [
    "WBM_act_s.describe()"
   ]
  },
  {
   "cell_type": "markdown",
   "metadata": {},
   "source": [
    "Actual Winter"
   ]
  },
  {
   "cell_type": "code",
   "execution_count": null,
   "metadata": {},
   "outputs": [],
   "source": [
    "Rf_act_w,R_app_act_w,R_w_act_w,R_b_act_w,R_tr_act_w,R_a_act_w,R_aa_act_w,R_awl_act_w,R_tot_act_w,eff_tot_act_w,P_b_act_w,FOC_act_w = foc_fun(dfprog_w['stw_act_w'],dfprog_w['draught'],dfprog_w['windspeed'],dfprog_w['truewinddir'],dfprog_w['windwaveswellheight'],dfprog_w['truewavedir'])"
   ]
  },
  {
   "cell_type": "code",
   "execution_count": null,
   "metadata": {},
   "outputs": [],
   "source": [
    "WBM_act_w = stats_HoltropMennen(stw_act_w,Rf_act_w,R_app_act_w,R_w_act_w,R_b_act_w,R_tr_act_w,R_a_act_w,R_aa_act_w,R_awl_act_w,R_tot_act_w,eff_tot_act_w,P_b_act_w,FOC_act_w)"
   ]
  },
  {
   "cell_type": "code",
   "execution_count": null,
   "metadata": {},
   "outputs": [],
   "source": [
    "WBM_act_w.describe()"
   ]
  },
  {
   "cell_type": "markdown",
   "metadata": {},
   "source": [
    "Actual Year"
   ]
  },
  {
   "cell_type": "code",
   "execution_count": null,
   "metadata": {},
   "outputs": [],
   "source": [
    "Rf_act_yr,R_app_act_yr,R_w_act_yr,R_b_act_yr,R_tr_act_yr,R_a_act_yr,R_aa_act_yr,R_awl_act_yr,R_tot_act_yr,eff_tot_act_yr,P_b_act_yr,FOC_act_yr = foc_fun(dfprog_yr['stw_act_yr'],dfprog_yr['draught'],dfprog_yr['windspeed'],dfprog_yr['truewinddir'],dfprog_yr['windwaveswellheight'],dfprog_yr['truewavedir'])"
   ]
  },
  {
   "cell_type": "code",
   "execution_count": null,
   "metadata": {},
   "outputs": [],
   "source": [
    "WBM_act_yr = stats_HoltropMennen(stw_act_yr,Rf_act_yr,R_app_act_yr,R_w_act_yr,R_b_act_yr,R_tr_act_yr,R_a_act_yr,R_aa_act_yr,R_awl_act_yr,R_tot_act_yr,eff_tot_act_yr,P_b_act_yr,FOC_act_yr)"
   ]
  },
  {
   "cell_type": "code",
   "execution_count": null,
   "metadata": {},
   "outputs": [],
   "source": [
    "WBM_act_yr.describe()"
   ]
  },
  {
   "cell_type": "markdown",
   "metadata": {},
   "source": [
    "ETR Year"
   ]
  },
  {
   "cell_type": "code",
   "execution_count": null,
   "metadata": {},
   "outputs": [],
   "source": [
    "Rf_pred_yr,R_app_pred_yr,R_w_pred_yr,R_b_pred_yr,R_tr_pred_yr,R_a_pred_yr,R_aa_pred_yr,R_awl_pred_yr,R_tot_pred_yr,eff_tot_pred_yr,P_b_pred_yr,FOC_pred_yr = foc_fun(dfprog_yr['stw_pred_yr'],dfprog_yr['draught'],dfprog_yr['windspeed'],dfprog_yr['truewinddir'],dfprog_yr['windwaveswellheight'],dfprog_yr['truewavedir'])"
   ]
  },
  {
   "cell_type": "code",
   "execution_count": null,
   "metadata": {},
   "outputs": [],
   "source": [
    "WBM_etr_yr = stats_HoltropMennen(stw_pred_et_yr,Rf_pred_yr,R_app_pred_yr,R_w_pred_yr,R_b_pred_yr,R_tr_pred_yr,R_a_pred_yr,R_aa_pred_yr,R_awl_pred_yr,R_tot_pred_yr,eff_tot_pred_yr,P_b_pred_yr,FOC_pred_yr)"
   ]
  },
  {
   "cell_type": "code",
   "execution_count": null,
   "metadata": {},
   "outputs": [],
   "source": [
    "WBM_etr_yr.describe()"
   ]
  },
  {
   "cell_type": "markdown",
   "metadata": {},
   "source": [
    "ETR summer"
   ]
  },
  {
   "cell_type": "code",
   "execution_count": null,
   "metadata": {},
   "outputs": [],
   "source": [
    "Rf_pred_s,R_app_pred_s,R_w_pred_s,R_b_pred_s,R_tr_pred_s,R_a_pred_s,R_aa_pred_s,R_awl_pred_s,R_tot_pred_s,eff_tot_pred_s,P_b_pred_s,FOC_pred_s = foc_fun(dfprog_s['stw_pred_s'],dfprog_s['draught'],dfprog_s['windspeed'],dfprog_s['truewinddir'],dfprog_s['windwaveswellheight'],dfprog_s['truewavedir'])"
   ]
  },
  {
   "cell_type": "code",
   "execution_count": null,
   "metadata": {},
   "outputs": [],
   "source": [
    "WBM_etr_s = stats_HoltropMennen(stw_pred_et_s,Rf_pred_s,R_app_pred_s,R_w_pred_s,R_b_pred_s,R_tr_pred_s,R_a_pred_s,R_aa_pred_s,R_awl_pred_s,R_tot_pred_s,eff_tot_pred_s,P_b_pred_s,FOC_pred_s)"
   ]
  },
  {
   "cell_type": "code",
   "execution_count": null,
   "metadata": {},
   "outputs": [],
   "source": [
    "WBM_etr_s.describe()"
   ]
  },
  {
   "cell_type": "markdown",
   "metadata": {},
   "source": [
    "ETR winter"
   ]
  },
  {
   "cell_type": "code",
   "execution_count": null,
   "metadata": {},
   "outputs": [],
   "source": [
    "Rf_pred_w,R_app_pred_w,R_w_pred_w,R_b_pred_w,R_tr_pred_w,R_a_pred_w,R_aa_pred_w,R_awl_pred_w,R_tot_pred_w,eff_tot_pred_w,P_b_pred_w,FOC_pred_w = foc_fun(dfprog_w['stw_pred_w'],dfprog_w['draught'],dfprog_w['windspeed'],dfprog_w['truewinddir'],dfprog_w['windwaveswellheight'],dfprog_w['truewavedir'])"
   ]
  },
  {
   "cell_type": "code",
   "execution_count": null,
   "metadata": {},
   "outputs": [],
   "source": [
    "WBM_etr_w = stats_HoltropMennen(stw_pred_et_w,Rf_pred_w,R_app_pred_w,R_w_pred_w,R_b_pred_w,R_tr_pred_w,R_a_pred_w,R_aa_pred_w,R_awl_pred_w,R_tot_pred_w,eff_tot_pred_w,P_b_pred_w,FOC_pred_w)"
   ]
  },
  {
   "cell_type": "code",
   "execution_count": null,
   "metadata": {},
   "outputs": [],
   "source": [
    "WBM_etr_w.describe()"
   ]
  },
  {
   "cell_type": "markdown",
   "metadata": {},
   "source": [
    "RFR year"
   ]
  },
  {
   "cell_type": "code",
   "execution_count": null,
   "metadata": {},
   "outputs": [],
   "source": [
    "Rf_pred_rf_yr,R_app_pred_rf_yr,R_w_pred_rf_yr,R_b_pred_rf_yr,R_tr_pred_rf_yr,R_a_pred_rf_yr,R_aa_pred_rf_yr,R_awl_pred_rf_yr,R_tot_pred_rf_yr,eff_tot_pred_rf_yr,P_b_pred_rf_yr,FOC_pred_rf_yr = foc_fun(dfprog_yr['stw_pred_rf_yr'],dfprog_yr['draught'],dfprog_yr['windspeed'],dfprog_yr['truewinddir'],dfprog_yr['windwaveswellheight'],dfprog_yr['truewavedir'])"
   ]
  },
  {
   "cell_type": "code",
   "execution_count": null,
   "metadata": {},
   "outputs": [],
   "source": [
    "WBM_rfr_yr = stats_HoltropMennen(stw_pred_rf_yr,Rf_pred_rf_yr,R_app_pred_rf_yr,R_w_pred_rf_yr,R_b_pred_rf_yr,R_tr_pred_rf_yr,R_a_pred_rf_yr,R_aa_pred_rf_yr,R_awl_pred_rf_yr,R_tot_pred_rf_yr,eff_tot_pred_rf_yr,P_b_pred_rf_yr,FOC_pred_rf_yr)"
   ]
  },
  {
   "cell_type": "code",
   "execution_count": null,
   "metadata": {},
   "outputs": [],
   "source": [
    "WBM_rfr_yr.describe()"
   ]
  },
  {
   "cell_type": "markdown",
   "metadata": {},
   "source": [
    "RFR Summer\n"
   ]
  },
  {
   "cell_type": "code",
   "execution_count": null,
   "metadata": {},
   "outputs": [],
   "source": [
    "Rf_pred_rf_s,R_app_pred_rf_s,R_w_pred_rf_s,R_b_pred_rf_s,R_tr_pred_rf_s,R_a_pred_rf_s,R_aa_pred_rf_s,R_awl_pred_rf_s,R_tot_pred_rf_s,eff_tot_pred_rf_s,P_b_pred_rf_s,FOC_pred_rf_s = foc_fun(dfprog_s['stw_pred_rf_s'],dfprog_s['draught'],dfprog_s['windspeed'],dfprog_s['truewinddir'],dfprog_s['windwaveswellheight'],dfprog_s['truewavedir'])"
   ]
  },
  {
   "cell_type": "code",
   "execution_count": null,
   "metadata": {},
   "outputs": [],
   "source": [
    "WBM_rfr_s = stats_HoltropMennen(stw_pred_rf_s,Rf_pred_rf_s,R_app_pred_rf_s,R_w_pred_rf_s,R_b_pred_rf_s,R_tr_pred_rf_s,R_a_pred_rf_s,R_aa_pred_rf_s,R_awl_pred_rf_s,R_tot_pred_rf_s,eff_tot_pred_rf_s,P_b_pred_rf_s,FOC_pred_rf_s)"
   ]
  },
  {
   "cell_type": "code",
   "execution_count": null,
   "metadata": {},
   "outputs": [],
   "source": [
    "WBM_rfr_s.describe()"
   ]
  },
  {
   "cell_type": "markdown",
   "metadata": {},
   "source": [
    "RFR winter"
   ]
  },
  {
   "cell_type": "code",
   "execution_count": null,
   "metadata": {},
   "outputs": [],
   "source": [
    "Rf_pred_rf_w,R_app_pred_rf_w,R_w_pred_rf_w,R_b_pred_rf_w,R_tr_pred_rf_w,R_a_pred_rf_w,R_aa_pred_rf_w,R_awl_pred_rf_w,R_tot_pred_rf_w,eff_tot_pred_rf_w,P_b_pred_rf_w,FOC_pred_rf_w = foc_fun(dfprog_w['stw_pred_rf_w'],dfprog_w['draught'],dfprog_w['windspeed'],dfprog_w['truewinddir'],dfprog_w['windwaveswellheight'],dfprog_w['truewavedir'])"
   ]
  },
  {
   "cell_type": "code",
   "execution_count": null,
   "metadata": {},
   "outputs": [],
   "source": [
    "WBM_rfr_w = stats_HoltropMennen(stw_pred_rf_w,Rf_pred_rf_w,R_app_pred_rf_w,R_w_pred_rf_w,R_b_pred_rf_w,R_tr_pred_rf_w,R_a_pred_rf_w,R_aa_pred_rf_w,R_awl_pred_rf_w,R_tot_pred_rf_w,eff_tot_pred_rf_w,P_b_pred_rf_w,FOC_pred_rf_w)"
   ]
  },
  {
   "cell_type": "code",
   "execution_count": null,
   "metadata": {},
   "outputs": [],
   "source": [
    "WBM_rfr_w.describe()"
   ]
  },
  {
   "cell_type": "markdown",
   "metadata": {},
   "source": [
    "DTR Yearly"
   ]
  },
  {
   "cell_type": "code",
   "execution_count": null,
   "metadata": {},
   "outputs": [],
   "source": [
    "Rf_pred_dt_yr,R_app_pred_dt_yr,R_w_pred_dt_yr,R_b_pred_dt_yr,R_tr_pred_dt_yr,R_a_pred_dt_yr,R_aa_pred_dt_yr,R_awl_pred_dt_yr,R_tot_pred_dt_yr,eff_tot_pred_dt_yr,P_b_pred_dt_yr,FOC_pred_dt_yr = foc_fun(dfprog_yr['stw_pred_dt_yr'],dfprog_yr['draught'],dfprog_yr['windspeed'],dfprog_yr['truewinddir'],dfprog_yr['windwaveswellheight'],dfprog_yr['truewavedir'])"
   ]
  },
  {
   "cell_type": "code",
   "execution_count": null,
   "metadata": {},
   "outputs": [],
   "source": [
    "WBM_dtr_yr = stats_HoltropMennen(stw_pred_dt_yr,Rf_pred_dt_yr,R_app_pred_dt_yr,R_w_pred_dt_yr,R_b_pred_dt_yr,R_tr_pred_dt_yr,R_a_pred_dt_yr,R_aa_pred_dt_yr,R_awl_pred_dt_yr,R_tot_pred_dt_yr,eff_tot_pred_dt_yr,P_b_pred_dt_yr,FOC_pred_dt_yr)"
   ]
  },
  {
   "cell_type": "code",
   "execution_count": null,
   "metadata": {},
   "outputs": [],
   "source": [
    "WBM_dtr_yr.describe()"
   ]
  },
  {
   "cell_type": "markdown",
   "metadata": {},
   "source": [
    "DTR summer"
   ]
  },
  {
   "cell_type": "code",
   "execution_count": null,
   "metadata": {},
   "outputs": [],
   "source": [
    "Rf_pred_dt_s,R_app_pred_dt_s,R_w_pred_dt_s,R_b_pred_dt_s,R_tr_pred_dt_s,R_a_pred_dt_s,R_aa_pred_dt_s,R_awl_pred_dt_s,R_tot_pred_dt_s,eff_tot_pred_dt_s,P_b_pred_dt_s,FOC_pred_dt_s = foc_fun(dfprog_s['stw_pred_dt_s'],dfprog_s['draught'],dfprog_s['windspeed'],dfprog_s['truewinddir'],dfprog_s['windwaveswellheight'],dfprog_s['truewavedir'])"
   ]
  },
  {
   "cell_type": "code",
   "execution_count": null,
   "metadata": {},
   "outputs": [],
   "source": [
    "WBM_dtr_s = stats_HoltropMennen(stw_pred_dt_s,Rf_pred_dt_s,R_app_pred_dt_s,R_w_pred_dt_s,R_b_pred_dt_s,R_tr_pred_dt_s,R_a_pred_dt_s,R_aa_pred_dt_s,R_awl_pred_dt_s,R_tot_pred_dt_s,eff_tot_pred_dt_s,P_b_pred_dt_s,FOC_pred_dt_s)"
   ]
  },
  {
   "cell_type": "code",
   "execution_count": null,
   "metadata": {},
   "outputs": [],
   "source": [
    "WBM_dtr_s.describe()"
   ]
  },
  {
   "cell_type": "markdown",
   "metadata": {},
   "source": [
    "DTR Winter"
   ]
  },
  {
   "cell_type": "code",
   "execution_count": null,
   "metadata": {},
   "outputs": [],
   "source": [
    "Rf_pred_dt_w,R_app_pred_dt_w,R_w_pred_dt_w,R_b_pred_dt_w,R_tr_pred_dt_w,R_a_pred_dt_w,R_aa_pred_dt_w,R_awl_pred_dt_w,R_tot_pred_dt_w,eff_tot_pred_dt_w,P_b_pred_dt_w,FOC_pred_dt_w = foc_fun(dfprog_w['stw_pred_dt_w'],dfprog_w['draught'],dfprog_w['windspeed'],dfprog_w['truewinddir'],dfprog_w['windwaveswellheight'],dfprog_w['truewavedir'])"
   ]
  },
  {
   "cell_type": "code",
   "execution_count": null,
   "metadata": {},
   "outputs": [],
   "source": [
    "WBM_dtr_w = stats_HoltropMennen(stw_pred_dt_w,Rf_pred_dt_w,R_app_pred_dt_w,R_w_pred_dt_w,R_b_pred_dt_w,R_tr_pred_dt_w,R_a_pred_dt_w,R_aa_pred_dt_w,R_awl_pred_dt_w,R_tot_pred_dt_w,eff_tot_pred_dt_w,P_b_pred_dt_w,FOC_pred_dt_w)"
   ]
  },
  {
   "cell_type": "code",
   "execution_count": null,
   "metadata": {},
   "outputs": [],
   "source": [
    "WBM_dtr_w.describe()"
   ]
  },
  {
   "cell_type": "markdown",
   "metadata": {},
   "source": [
    "MLR Yearly data"
   ]
  },
  {
   "cell_type": "code",
   "execution_count": null,
   "metadata": {},
   "outputs": [],
   "source": [
    "Rf_pred_mlr_yr,R_app_pred_mlr_yr,R_w_pred_mlr_yr,R_b_pred_mlr_yr,R_tr_pred_mlr_yr,R_a_pred_mlr_yr,R_aa_pred_mlr_yr,R_awl_pred_mlr_yr,R_tot_pred_mlr_yr,eff_tot_pred_mlr_yr,P_b_pred_mlr_yr,FOC_pred_mlr_yr = foc_fun(dfprog_yr['stw_pred_mlr_yr'],dfprog_yr['draught'],dfprog_yr['windspeed'],dfprog_yr['truewinddir'],dfprog_yr['windwaveswellheight'],dfprog_yr['truewavedir'])"
   ]
  },
  {
   "cell_type": "markdown",
   "metadata": {},
   "source": [
    "MLR Summer"
   ]
  },
  {
   "cell_type": "code",
   "execution_count": null,
   "metadata": {},
   "outputs": [],
   "source": [
    "Rf_pred_mlr_s,R_app_pred_mlr_s,R_w_pred_mlr_s,R_b_pred_mlr_s,R_tr_pred_mlr_s,R_a_pred_mlr_s,R_aa_pred_mlr_s,R_awl_pred_mlr_s,R_tot_pred_mlr_s,eff_tot_pred_mlr_s,P_b_pred_mlr_s,FOC_pred_mlr_s = foc_fun(dfprog_s['stw_pred_mlr_s'],dfprog_s['draught'],dfprog_s['windspeed'],dfprog_s['truewinddir'],dfprog_s['windwaveswellheight'],dfprog_s['truewavedir'])"
   ]
  },
  {
   "cell_type": "markdown",
   "metadata": {},
   "source": [
    "MLR Winter"
   ]
  },
  {
   "cell_type": "code",
   "execution_count": null,
   "metadata": {},
   "outputs": [],
   "source": [
    "Rf_pred_mlr_w,R_app_pred_mlr_w,R_w_pred_mlr_w,R_b_pred_mlr_w,R_tr_pred_mlr_w,R_a_pred_mlr_w,R_aa_pred_mlr_w,R_awl_pred_mlr_w,R_tot_pred_mlr_w,eff_tot_pred_mlr_w,P_b_pred_mlr_w,FOC_pred_mlr_w = foc_fun(dfprog_w['stw_pred_mlr_w'],dfprog_w['draught'],dfprog_w['windspeed'],dfprog_w['truewinddir'],dfprog_w['windwaveswellheight'],dfprog_w['truewavedir'])"
   ]
  },
  {
   "cell_type": "markdown",
   "metadata": {},
   "source": [
    "Best fit of results using polynomial regression"
   ]
  },
  {
   "cell_type": "code",
   "execution_count": null,
   "metadata": {},
   "outputs": [],
   "source": [
    "# Function to check possible best fit of polynomial regression\n",
    "\n",
    "def poly_reg_best_fit(STW,FOC):\n",
    "    from sklearn.model_selection import train_test_split\n",
    "    from sklearn.preprocessing import PolynomialFeatures\n",
    "    from sklearn.linear_model import LinearRegression\n",
    "    from sklearn.metrics import mean_squared_error\n",
    "\n",
    "    sorted_Xreg = np.sort(STW)\n",
    "    sorted_Yreg = np.sort(FOC)\n",
    "\n",
    "    Xreg = sorted_Xreg.reshape(-1,1)\n",
    "    Yreg = sorted_Yreg\n",
    "\n",
    "    Xreg_train, Xreg_test, Yreg_train, Yreg_test = train_test_split(Xreg, Yreg, test_size=0.2, random_state=42)\n",
    "\n",
    "    train_errors = []\n",
    "    test_errors = []\n",
    "    coefficients_list = []\n",
    "\n",
    "    # Loop through different orders\n",
    "    for order in range(1, 6):\n",
    "        # Create polynomial features for the current order\n",
    "        poly = PolynomialFeatures(degree=order)\n",
    "        X_poly_train = poly.fit_transform(Xreg_train)\n",
    "        X_poly_test = poly.transform(Xreg_test)\n",
    "\n",
    "        # Fit the linear regression model\n",
    "        model = LinearRegression()\n",
    "        model.fit(X_poly_train, Yreg_train)\n",
    "\n",
    "        # Make predictions on training and test data\n",
    "        y_pred_train = model.predict(X_poly_train)\n",
    "        y_pred_test = model.predict(X_poly_test)\n",
    "\n",
    "        # Calculate mean squared errors for training and test data\n",
    "        train_error = mean_squared_error(Yreg_train, y_pred_train)\n",
    "        test_error = mean_squared_error(Yreg_test, y_pred_test)\n",
    "\n",
    "        # Append the errors to the lists\n",
    "        train_errors.append(train_error)\n",
    "        test_errors.append(test_error)\n",
    "        coefficients_list.append(model.coef_)\n",
    "    \n",
    "    # Find the best model (lowest test error)\n",
    "    best_order = np.argmin(test_errors)\n",
    "    best_coefficients = coefficients_list[best_order]\n",
    "\n",
    "    # Create polynomial features for the best model\n",
    "    poly = PolynomialFeatures(degree=best_order)\n",
    "    X_poly = poly.fit_transform(Xreg)\n",
    "\n",
    "    # Fit the best model on the entire dataset\n",
    "    best_model = LinearRegression()\n",
    "    best_model.fit(X_poly, Yreg)\n",
    "\n",
    "    # Get coefficients of the best model\n",
    "    coefficients = best_model.coef_\n",
    "    intercept = best_model.intercept_\n",
    "\n",
    "    # # Print the polynomial equation\n",
    "    # equation = \"y = {:.4f}\".format(best_model.intercept_)\n",
    "    # for i, coef in enumerate(best_coefficients[1:], 1):\n",
    "    #     equation += \" + {:.4f}x^{}\".format(coef, i)\n",
    "\n",
    "    # print(\"Best Polynomial Equation:\")\n",
    "    # print(equation)\n",
    "\n",
    "    # LaTeX format for polynomial equation\n",
    "    def format_equation(coefficients, intercept):\n",
    "        equation = f\"$y = {intercept:.4f}\"\n",
    "        for i, coef in enumerate(coefficients[1:], 1):\n",
    "            equation += f\" + ({coef:.4f})x^{i}\"\n",
    "        equation += \"$\"\n",
    "        return equation\n",
    "    \n",
    "    # Print the best polynomial equation\n",
    "    equation = format_equation(coefficients, intercept)\n",
    "    print(\"Best Polynomial Equation:\")\n",
    "    print(equation)\n",
    "\n",
    "    # Generate points for plotting the best-fitted line\n",
    "    X_plot = np.linspace(Xreg.min(), Xreg.max(), 100).reshape(-1, 1)\n",
    "    X_plot_poly = poly.transform(X_plot)\n",
    "    y_plot = best_model.predict(X_plot_poly)\n",
    "\n",
    "    # Plot the original data points and the best-fitted line\n",
    "    plt.scatter(Xreg, Yreg,marker='d',linewidths=.8,facecolors='none',edgecolors='blue',label = 'Predicted STW',s=12)\n",
    "    plt.plot(X_plot, y_plot, color='black',label='Regression',linewidth=.8)\n",
    "    plt.xlabel('STW [kn]')\n",
    "    plt.ylabel('FOC [T/h]')\n",
    "    plt.xlim(6,21)\n",
    "    plt.ylim(0,2)\n",
    "    plt.text(6.4, 1.6, equation, bbox=dict(facecolor='white', alpha=0.9))\n",
    "    plt.grid(linestyle = '--', linewidth = 0.5)\n",
    "    plt.legend()\n",
    "    plt.show()\n",
    "\n",
    "    orders = range(1, 6)\n",
    "    plt.plot(orders, train_errors, label='Train Error')\n",
    "    plt.plot(orders, test_errors, label='Test Error',linestyle='-.')\n",
    "    plt.xlabel('Polynomial Order')\n",
    "    plt.ylabel('Mean Squared Error')\n",
    "    plt.grid(linestyle = '--', linewidth = 0.5)\n",
    "    plt.legend()\n",
    "    plt.show()"
   ]
  },
  {
   "cell_type": "code",
   "execution_count": null,
   "metadata": {},
   "outputs": [],
   "source": [
    "poly_reg_best_fit(stw_pred_et_yr,FOC_pred_yr)"
   ]
  },
  {
   "cell_type": "markdown",
   "metadata": {},
   "source": [
    "Absolute model performance"
   ]
  },
  {
   "cell_type": "code",
   "execution_count": null,
   "metadata": {},
   "outputs": [],
   "source": [
    "# This function defines the model performance for the given stw range\n",
    "\n",
    "def evaluate_FOC(model,FOC_act,FOC_pred):\n",
    "    from sklearn.metrics import mean_squared_error,mean_absolute_percentage_error,r2_score,explained_variance_score,median_absolute_error,mean_absolute_error\n",
    "    \n",
    "    Rsquared_FOC = r2_score(FOC_act,FOC_pred)\n",
    "    expVar_FOC = explained_variance_score(FOC_act,FOC_pred)\n",
    "    MAE_FOC = mean_absolute_error(FOC_act,FOC_pred)\n",
    "    RMSE_FOC = np.sqrt(mean_squared_error(FOC_act, FOC_pred))\n",
    "    MAD_FOC = median_absolute_error(FOC_act,FOC_pred)\n",
    "    MAPE_FOC = mean_absolute_percentage_error(FOC_act, FOC_pred)\n",
    "    \n",
    "    n = len(FOC_act)\n",
    "    num_params = model.n_features_in_\n",
    "    aic = n * math.log(mean_squared_error(FOC_act, FOC_pred)) + 2 * num_params\n",
    "\n",
    "    print(f\"Model Performance of {model}\")\n",
    "    print(f\"AIC {aic:0.4f}\")\n",
    "    print(f\"R^2 {Rsquared_FOC:0.4f}\")\n",
    "    print(f\"Explained Variance {expVar_FOC:0.4f}\")\n",
    "    print(f\"MAE {MAE_FOC:0.4f} T/h\")    \n",
    "    print(f\"RMSE FOC {RMSE_FOC:0.4f} T/h\")\n",
    "    print(f\"MAD {MAD_FOC:0.4f} T/h\")    \n",
    "    print(f\"MAPE FOC {MAPE_FOC*100:0.4f} %\")\n"
   ]
  },
  {
   "cell_type": "markdown",
   "metadata": {},
   "source": [
    "ETR"
   ]
  },
  {
   "cell_type": "code",
   "execution_count": null,
   "metadata": {},
   "outputs": [],
   "source": [
    "# Yearly performance \n",
    "\n",
    "evaluate_FOC(model_etr_hpov,FOC_act_yr,FOC_pred_yr)"
   ]
  },
  {
   "cell_type": "code",
   "execution_count": null,
   "metadata": {},
   "outputs": [],
   "source": [
    "evaluate_FOC(model_etr_hpov,FOC_act_s,FOC_pred_s)"
   ]
  },
  {
   "cell_type": "code",
   "execution_count": null,
   "metadata": {},
   "outputs": [],
   "source": [
    "evaluate_FOC(model_etr_hpov,FOC_act_w,FOC_pred_w)"
   ]
  },
  {
   "cell_type": "markdown",
   "metadata": {},
   "source": [
    "RFR"
   ]
  },
  {
   "cell_type": "code",
   "execution_count": null,
   "metadata": {},
   "outputs": [],
   "source": [
    "# On yearly data\n",
    "\n",
    "evaluate_FOC(model_rfr_hpov,FOC_act_yr,FOC_pred_rf_yr)"
   ]
  },
  {
   "cell_type": "code",
   "execution_count": null,
   "metadata": {},
   "outputs": [],
   "source": [
    "evaluate_FOC(model_rfr_hpov,FOC_act_s,FOC_pred_rf_s)"
   ]
  },
  {
   "cell_type": "code",
   "execution_count": null,
   "metadata": {},
   "outputs": [],
   "source": [
    "evaluate_FOC(model_rfr_hpov,FOC_act_w,FOC_pred_rf_w)"
   ]
  },
  {
   "cell_type": "markdown",
   "metadata": {},
   "source": [
    "DTR"
   ]
  },
  {
   "cell_type": "code",
   "execution_count": null,
   "metadata": {},
   "outputs": [],
   "source": [
    "evaluate_FOC(model_dtr_hpov,FOC_act_yr,FOC_pred_dt_yr)"
   ]
  },
  {
   "cell_type": "code",
   "execution_count": null,
   "metadata": {},
   "outputs": [],
   "source": [
    "evaluate_FOC(model_dtr_hpov,FOC_act_s,FOC_pred_dt_s)"
   ]
  },
  {
   "cell_type": "code",
   "execution_count": null,
   "metadata": {},
   "outputs": [],
   "source": [
    "evaluate_FOC(model_dtr_hpov,FOC_act_w,FOC_pred_dt_w)"
   ]
  },
  {
   "cell_type": "markdown",
   "metadata": {},
   "source": [
    "MLR"
   ]
  },
  {
   "cell_type": "code",
   "execution_count": null,
   "metadata": {},
   "outputs": [],
   "source": [
    "#yearly data\n",
    "\n",
    "evaluate_FOC(model_mlr_ftr,FOC_act_yr,FOC_pred_mlr_yr)"
   ]
  },
  {
   "cell_type": "code",
   "execution_count": null,
   "metadata": {},
   "outputs": [],
   "source": [
    "evaluate_FOC(model_mlr_ftr,FOC_act_s,FOC_pred_mlr_s)"
   ]
  },
  {
   "cell_type": "code",
   "execution_count": null,
   "metadata": {},
   "outputs": [],
   "source": [
    "evaluate_FOC(model_mlr_ftr,FOC_act_w,FOC_pred_mlr_w)"
   ]
  },
  {
   "cell_type": "code",
   "execution_count": null,
   "metadata": {},
   "outputs": [],
   "source": [
    "fs = 10\n",
    "\n",
    "plt.rcParams.update(plt.rcParamsDefault)\n",
    "# Parameter to plot in nice latex fonts\n",
    "plt.rcParams.update({\n",
    "\t\"text.usetex\": True,\n",
    "\t\"font.family\": \"serif\",\n",
    "\t\"font.serif\": \"bookman\",\n",
    "\t})\n",
    "\n",
    "\n",
    "stw = stw_act_yr\n",
    "R_f = Rf_act_yr/1e3\n",
    "R_app = R_app_act_yr/1e3\n",
    "R_w = R_w_act_yr/1e3\n",
    "R_b = R_b_act_yr/1e3\n",
    "R_tr = R_tr_act_yr/1e3\n",
    "R_a = R_a_act_yr/1e3\n",
    "R_aa = R_aa_act_yr/1e3\n",
    "# R_aa_hm = dfprog_f['R_aa_hm']/1e3\n",
    "R_awl = R_awl_act_yr/1e3\n",
    "R_tot = R_tot_act_yr\n",
    "# eff_h = dfprog_f['eff_h']\n",
    "eff_tot = eff_tot_act_yr\n",
    "P_b = P_b_act_yr\n",
    "FOC = FOC_act_yr\n",
    "\n",
    "\n",
    "\n",
    "fig, axes = plt.subplots(nrows=4, ncols=3, figsize=(10, 15))\n",
    "\n",
    "axes[0, 0].hist(stw,bins=25,color='black')\n",
    "axes[0, 0].set_title(r'Speed Thorugh Water $[STW]$', fontsize=fs)\n",
    "axes[0, 0].grid(True,linestyle = '--', linewidth = 0.5)\n",
    "\n",
    "axes[0, 1].hist(R_f,bins=25,color='black')\n",
    "axes[0, 1].set_title(r'Frictional Resistance $[kN]$', fontsize=fs)\n",
    "axes[0, 1].grid(True,linestyle = '--', linewidth = 0.5)\n",
    "\n",
    "axes[0, 2].hist(R_app,bins=25,color='black')\n",
    "axes[0, 2].set_title(r'Appendage Resistance $[kN]$', fontsize=fs)\n",
    "axes[0, 2].grid(True,linestyle = '--', linewidth = 0.5)\n",
    "\n",
    "axes[1, 0].hist(R_w,bins=25,color='black')\n",
    "axes[1, 0].set_title(r'Wave Making-Breaking Resistance $[kN]$', fontsize=fs)\n",
    "axes[1, 0].grid(True,linestyle = '--', linewidth = 0.5)\n",
    "\n",
    "axes[1, 1].hist(R_b  ,bins=25,color='black')\n",
    "axes[1, 1].set_title(r'Bulbous Bow Resistance $[kN]$', fontsize=fs)\n",
    "axes[1, 1].grid(True,linestyle = '--', linewidth = 0.5)\n",
    "\n",
    "axes[1, 2].hist(R_a,bins=25,color='black')\n",
    "axes[1, 2].set_title(r'Correlation Resistance $[kN]$', fontsize=fs)\n",
    "axes[1, 2].grid(True,linestyle = '--', linewidth = 0.5)\n",
    "\n",
    "axes[2, 0].hist(R_aa,bins=25,color='black')\n",
    "axes[2, 0].set_title(r'Wind Resistance $[kN]$', fontsize=fs)\n",
    "axes[2, 0].grid(True,linestyle = '--', linewidth = 0.5)\n",
    "\n",
    "# axes[2, 0].hist(R_aa_hm,bins=25,color='black')\n",
    "# axes[2, 0].set_title(r'Wind Resistance $[kN]$', fontsize=fs)\n",
    "# axes[2, 0].grid(True,linestyle = '--', linewidth = 0.5)\n",
    "\n",
    "axes[2, 1].hist(R_awl,bins=25,color='black')\n",
    "axes[2, 1].set_title(r'Wave Resistance STAWAVE-1 $[kN]$', fontsize=fs)\n",
    "axes[2, 1].grid(True,linestyle = '--', linewidth = 0.5)\n",
    "\n",
    "axes[2, 2].hist(R_tr,bins=25,color='black')\n",
    "axes[2, 2].set_title(r'Transom Resistance $[kN]$', fontsize=fs)\n",
    "axes[2, 2].grid(True,linestyle = '--', linewidth = 0.5)\n",
    "\n",
    "axes[3, 0].hist(R_tot,bins=25,color='black')\n",
    "axes[3, 0].set_title(r'Total Resistance $[kN]$', fontsize=fs)\n",
    "axes[3, 0].grid(True,linestyle = '--', linewidth = 0.5)\n",
    "\n",
    "# axes[3, 0].hist(eff_h,bins=25,color='black')\n",
    "# axes[3, 0].set_title(r'Hull Efficiency $[-]$', fontsize=fs)\n",
    "# axes[3, 0].grid(True,linestyle = '--', linewidth = 0.5)\n",
    "\n",
    "axes[3, 1].hist(eff_tot,bins=25,color='black')\n",
    "axes[3, 1].set_title(r'Total Efficiency $[-]$', fontsize=fs)\n",
    "axes[3, 1].grid(True,linestyle = '--', linewidth = 0.5)\n",
    "\n",
    "axes[3, 2].hist(P_b,bins=25,color='black')\n",
    "axes[3, 2].set_title(r'Power $[kW]$', fontsize=fs)\n",
    "axes[3, 2].grid(True,linestyle = '--', linewidth = 0.5)\n",
    "\n",
    "# axes[4, 1].hist(FOC,bins=25,color='black')\n",
    "# axes[4, 1].set_title(r'Fuel Consumption $[t/h]$', fontsize=fs)\n",
    "# axes[4, 1].grid(True,linestyle = '--', linewidth = 0.5)\n",
    "\n",
    "fig.subplots_adjust(hspace=0.4)\n",
    "plt.show()"
   ]
  },
  {
   "cell_type": "code",
   "execution_count": null,
   "metadata": {},
   "outputs": [],
   "source": [
    "def Resistance_plot(RFric,RApp,RWave,RBulb,RTrans,RCorr,RWind,RStaWave,RTot):\n",
    "    rmse_opt = [RFric/1e3,RApp/1e3,RWave/1e3,RBulb/1e3,RTrans/1e3,RCorr/1e3,RWind/1e3,RStaWave/1e3,RTot/1e3]\n",
    "    # fig = plt.figure(figsize=(5,3))\n",
    "    # Creating axes instance\n",
    "    fig,ax = plt.subplots() \n",
    "    plt.title(\"Resistance Encountered by ship\")\n",
    "    plt.ylabel(\"Force [kN]\")\n",
    "    plt.xlabel(\"Resistance Type\")\n",
    "    plt.yscale('linear')\n",
    "    ax.boxplot(rmse_opt,showmeans=True)\n",
    "    plt.grid(axis='y',linestyle = '--', linewidth = 0.5)\n",
    "    ax.set_xticklabels([r'$R_F$', r'$R_{APP}$',\n",
    "                        r'$R_W$', r'$R_{B}$',\n",
    "                        r'$R_{TR}$',r'$R_{A}$',\n",
    "                        r'$R_{AA}$',r'$R_{AWL}$',\n",
    "                        r'$R_{TOT}$'])"
   ]
  },
  {
   "cell_type": "code",
   "execution_count": null,
   "metadata": {},
   "outputs": [],
   "source": [
    "Resistance_plot(Rf_act_yr,R_app_act_yr,R_w_act_yr,R_b_act_yr,R_tr_act_yr,R_a_act_yr,R_aa_act_yr,R_awl_act_yr,R_tot_act_yr)\n",
    "plt.show()"
   ]
  },
  {
   "cell_type": "code",
   "execution_count": null,
   "metadata": {},
   "outputs": [],
   "source": [
    "def FOC_plot_yr(FOC_actual_yr,FOC_ETR_yr,FOC_RFR_yr,FOC_DTR_yr):\n",
    "    rmse_opt = [FOC_actual_yr,FOC_ETR_yr,FOC_RFR_yr,FOC_DTR_yr]\n",
    "    # fig = plt.figure(figsize=(5,3))\n",
    "    # Creating axes instance\n",
    "    fig,ax = plt.subplots() \n",
    "    plt.title(\"FOC comparison for yearly data\")\n",
    "    plt.ylabel(\"FOC [T/h]\")\n",
    "    plt.xlabel(\"Period\")\n",
    "    plt.yscale('linear')\n",
    "    ax.boxplot(rmse_opt,showmeans=True)\n",
    "    plt.grid(axis='y',linestyle = '--', linewidth = 0.5)\n",
    "    ax.set_xticklabels([r'$FOC_{actual}$', r'$FOC_{ETR}$',\n",
    "                        r'$FOC_{RFR}$', r'$FOC_{DTR}$'])"
   ]
  },
  {
   "cell_type": "code",
   "execution_count": null,
   "metadata": {},
   "outputs": [],
   "source": [
    "FOC_plot_yr(FOC_act_yr,FOC_pred_yr,FOC_pred_rf_yr,FOC_pred_dt_yr)\n",
    "plt.show()"
   ]
  }
 ],
 "metadata": {
  "kernelspec": {
   "display_name": "Python 3",
   "language": "python",
   "name": "python3"
  },
  "language_info": {
   "codemirror_mode": {
    "name": "ipython",
    "version": 3
   },
   "file_extension": ".py",
   "mimetype": "text/x-python",
   "name": "python",
   "nbconvert_exporter": "python",
   "pygments_lexer": "ipython3",
   "version": "3.9.15"
  },
  "orig_nbformat": 4
 },
 "nbformat": 4,
 "nbformat_minor": 2
}
