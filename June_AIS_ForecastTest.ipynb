{
 "cells": [
  {
   "cell_type": "code",
   "execution_count": null,
   "metadata": {},
   "outputs": [],
   "source": [
    "import pandas as pd\n",
    "# from matplotlib import pyplot\n",
    "import numpy as np\n",
    "import seaborn as sns\n",
    "import math\n",
    "import datetime\n",
    "import pickle\n",
    "import joblib\n",
    "import matplotlib.pyplot as plt\n",
    "\n",
    "plt.rcParams.update({\n",
    "    \"text.usetex\": True,\n",
    "    \"font.family\": \"serif\"\n",
    "})\n",
    "\n",
    "model_rfr_ftr = joblib.load('savemodel_rfr_ftr.sav')\n",
    "# model_rfr_hpo = joblib.load('savemodel_rfr_ftr_hpo.sav')\n",
    "model_rfr_hpov = joblib.load('savemodel_rfr_ftr_hpov.sav')\n",
    "# model_rft = joblib.load('savemodel_rf.sav')\n",
    "\n",
    "\n",
    "model_etr = joblib.load('savemodel_etr.sav')\n",
    "model_etr_hpov = joblib.load('savemodel_etr_hpov.sav')\n",
    "\n",
    "model_dtr_ftr = joblib.load('savemodel_dtr_ftr.sav')\n",
    "model_dtr_hpov = joblib.load('savemodel_dtr_hpov.sav')\n",
    "\n",
    "\n",
    "model_mlr_ftr = joblib.load('savemodel_mlr_ftr.sav')\n",
    "\n",
    "dfmain = pd.read_csv(\"AIS_weather_H_ok2_copy.csv\",parse_dates=[\"Time\"])\n",
    "dfmain = dfmain[dfmain['LAT'] > 55.04 ]\n",
    "\n",
    "dfpre = pd.read_csv(\"AIS_weather_h_rename_copy.csv\",parse_dates=[\"Time\"])\n",
    "dfpre = dfpre[dfpre['LAT'] > 55.04 ]"
   ]
  },
  {
   "cell_type": "code",
   "execution_count": null,
   "metadata": {},
   "outputs": [],
   "source": [
    "dfmain = dfmain.drop(['Wind Speed','Current Speed'],axis=1)"
   ]
  },
  {
   "cell_type": "code",
   "execution_count": null,
   "metadata": {},
   "outputs": [],
   "source": [
    "dfpre = dfpre.drop(dfpre.columns[[0,1,2,5,6,7,8,9,10,11,12,13,14,15,16,17,18,21,22,23,26]],axis=1)\n",
    "dfpre = dfpre.rename({'Eastward wind': 'eastwind', 'Northward wind': 'northwind',\n",
    "                           'Eastward current': 'eastcurrent', 'Northward current': 'northcurrent',\n",
    "                           'SOG':'sog','COG':'cog','Heading':'heading'},axis=1) \n",
    "dfpre.head(n=5)"
   ]
  },
  {
   "cell_type": "code",
   "execution_count": null,
   "metadata": {},
   "outputs": [],
   "source": [
    "from sklearn.impute import KNNImputer\n",
    "\n",
    "imputer = KNNImputer(n_neighbors=50)\n",
    "imputer.fit(dfpre)"
   ]
  },
  {
   "cell_type": "code",
   "execution_count": null,
   "metadata": {},
   "outputs": [],
   "source": [
    "x_pre = imputer.transform(dfpre)"
   ]
  },
  {
   "cell_type": "code",
   "execution_count": null,
   "metadata": {},
   "outputs": [],
   "source": [
    "dfpre = pd.DataFrame(x_pre, columns=dfpre.columns, index=dfpre.index)"
   ]
  },
  {
   "cell_type": "code",
   "execution_count": null,
   "metadata": {},
   "outputs": [],
   "source": [
    "dfpre[\"Current Speed\"] = np.sqrt(dfpre[\"eastcurrent\"]**2 + dfpre[\"northcurrent\"]**2)\n",
    "dfpre[\"Wind Speed\"] = np.sqrt(dfpre[\"eastwind\"]**2 + dfpre[\"northwind\"]**2)"
   ]
  },
  {
   "cell_type": "code",
   "execution_count": null,
   "metadata": {},
   "outputs": [],
   "source": [
    "dfpre.describe()"
   ]
  },
  {
   "cell_type": "code",
   "execution_count": null,
   "metadata": {},
   "outputs": [],
   "source": [
    "# dfpre[\"True North Wind Direction\"] =  180 +  np.rad2deg(np.arctan((dfpre[\"eastwind\"])/(dfpre[\"northwind\"])))\n",
    "\n",
    "condwind = [(dfpre['eastwind']>0) & (dfpre['northwind']<0),\n",
    "            (dfpre['eastwind']<0) & (dfpre['northwind']>0),\n",
    "            (dfpre['eastwind']>0) & (dfpre['northwind']>0)]\n",
    "\n",
    "choicewind = [360 - np.abs(np.rad2deg(np.arctan(dfpre[\"eastwind\"]/dfpre[\"northwind\"]))),\n",
    "              180 - np.abs(np.rad2deg(np.arctan(dfpre[\"eastwind\"]/dfpre[\"northwind\"]))),\n",
    "              270 - np.abs(np.rad2deg(np.arctan(dfpre[\"eastwind\"]/dfpre[\"northwind\"])))]\n",
    "\n",
    "dfpre[\"True North Wind Direction\"] = np.select(condwind, choicewind, \n",
    "                                                np.abs(np.rad2deg(np.arctan(dfpre[\"eastwind\"]/dfpre[\"northwind\"]))))\n",
    "\n",
    "# dfpre[\"True North Wind Direction\"] = np.where(dfpre[\"True North Wind Direction\"] > 0, 180 + dfpre[\"True North Wind Direction\"] , 180 - dfpre[\"True North Wind Direction\"])\n",
    "\n",
    "# if dfpre[\"True North Wind Direction\"]<0:\n",
    "#     dfpre[\"True North Wind Direction\"] = 180 - dfpre[\"True North Wind Direction\"]\n",
    "# elif dfpre[\"True North Wind Direction\"]>0:\n",
    "#     dfpre[\"True North Wind Direction\"] = 180 - dfpre[\"True North Wind Direction\"]"
   ]
  },
  {
   "cell_type": "code",
   "execution_count": null,
   "metadata": {},
   "outputs": [],
   "source": [
    "# dfpre[\"True North Current Direction\"] = np.rad2deg(np.arctan(dfpre[\"eastcurrent\"]/dfpre[\"northcurrent\"]))\n",
    "\n",
    "# dfpre[\"True North Current Direction\"] = np.rad2deg(np.arctan(dfpre[\"eastcurrent\"]/dfpre[\"northcurrent\"]))\n",
    "\n",
    "\n",
    "# \n",
    "condcurr = [(dfpre['eastcurrent']<0) & (dfpre['northcurrent']>0),\n",
    "            (dfpre['eastcurrent']>0) & (dfpre['northcurrent']<0),\n",
    "            (dfpre['eastcurrent']<0) & (dfpre['northcurrent']<0)]\n",
    "\n",
    "choicecurr = [360 - np.abs(np.rad2deg(np.arctan(dfpre[\"eastcurrent\"]/dfpre[\"northcurrent\"]))),\n",
    "              180 - np.abs(np.rad2deg(np.arctan(dfpre[\"eastcurrent\"]/dfpre[\"northcurrent\"]))),\n",
    "              270 - np.abs(np.rad2deg(np.arctan(dfpre[\"eastcurrent\"]/dfpre[\"northcurrent\"])))]\n",
    "\n",
    "dfpre[\"True North Current Direction\"] = np.select(condcurr, choicecurr, \n",
    "                                                np.abs(np.rad2deg(np.arctan(dfpre[\"eastcurrent\"]/dfpre[\"northcurrent\"]))))"
   ]
  },
  {
   "cell_type": "code",
   "execution_count": null,
   "metadata": {},
   "outputs": [],
   "source": [
    "dfpre = dfpre.drop(['eastwind','northwind','eastcurrent','northcurrent','sog','cog'],axis=1)"
   ]
  },
  {
   "cell_type": "code",
   "execution_count": null,
   "metadata": {},
   "outputs": [],
   "source": [
    "df = pd.concat([dfmain,dfpre],axis=1)\n",
    "df.head()"
   ]
  },
  {
   "cell_type": "code",
   "execution_count": null,
   "metadata": {},
   "outputs": [],
   "source": [
    "# SOG threshold according to Abebe\n",
    "df = df[df['SOG'] > 5 ]"
   ]
  },
  {
   "cell_type": "code",
   "execution_count": null,
   "metadata": {},
   "outputs": [],
   "source": [
    "# Exclude data for the month of June to check the model's forecasting performance \n",
    "\n",
    "dfdate6 = df[df['Time'].dt.strftime('%Y-%m') == '2021-06']\n",
    "df = df[df['Time'].dt.strftime('%Y-%m') != '2021-06']\n",
    "\n",
    "# Extract information of a journey from a single day\n",
    "\n",
    "koege_dep = df[df['Time'].dt.strftime('%Y-%m-%d %H:%M:%S') == '2021-05-31 23:00:00']\n",
    "koege_arr = dfdate6[dfdate6['Time'].dt.strftime('%Y-%m-%d') == '2021-06-01']\n",
    "\n",
    "# Drop the departure time for next trip\n",
    "\n",
    "koege_arr2 = koege_arr.drop(koege_arr.index[14])\n",
    "\n",
    "# To gain information for a single trip from Koege to Ronne\n",
    "\n",
    "ronne_arr = koege_arr.drop(koege_arr.index[4:15])\n",
    "\n",
    "dfday6 = pd.concat([koege_dep,koege_arr2])\n",
    "dfone6 = pd.concat([koege_dep,ronne_arr])\n",
    "\n",
    "# # For Qgis Single Journey\n",
    "# dfday6.to_csv(\"AIS_01_06_21_koegeronne.csv\")"
   ]
  },
  {
   "cell_type": "code",
   "execution_count": null,
   "metadata": {},
   "outputs": [],
   "source": [
    "df.info()"
   ]
  },
  {
   "attachments": {},
   "cell_type": "markdown",
   "metadata": {},
   "source": [
    "Add test data for 3 months into validation data"
   ]
  },
  {
   "cell_type": "code",
   "execution_count": null,
   "metadata": {},
   "outputs": [],
   "source": [
    "# Data Splitting\n",
    "\n",
    "from sklearn.model_selection import train_test_split\n",
    "\n",
    "# Dropping some feature can be done here to (possibly) increase the model's performance \n",
    "x_train,x_test,y_train,y_test = train_test_split(df.drop(['SOG']\n",
    "                                                                 ,axis=1)\n",
    "                                                                ,df.SOG,test_size=0.2,random_state=42)"
   ]
  },
  {
   "cell_type": "code",
   "execution_count": null,
   "metadata": {},
   "outputs": [],
   "source": [
    "df_test = pd.concat([x_test,y_test],axis=1)"
   ]
  },
  {
   "cell_type": "code",
   "execution_count": null,
   "metadata": {},
   "outputs": [],
   "source": [
    "# Extract three months of data from the test datasets\n",
    "\n",
    "dfdate7 = df_test[df_test['Time'].dt.strftime('%Y-%m') == '2021-07']\n",
    "dfdate8 = df_test[df_test['Time'].dt.strftime('%Y-%m') == '2021-08']\n",
    "dfdate9 = df_test[df_test['Time'].dt.strftime('%Y-%m') == '2021-09']\n",
    "\n",
    "# Concatenate 3 months data into df_ship\n",
    "\n",
    "df_months3 = pd.concat([dfdate7,dfdate8,dfdate9])"
   ]
  },
  {
   "cell_type": "code",
   "execution_count": null,
   "metadata": {},
   "outputs": [],
   "source": [
    "df_ship = df_months3.drop(['Unnamed: 0','LON','LAT','Time','Air density above oceans',\n",
    "                    'Surface pressure','Width','Length'],axis=1)\n",
    "df_ship.head(n=5)"
   ]
  },
  {
   "cell_type": "code",
   "execution_count": null,
   "metadata": {},
   "outputs": [],
   "source": [
    "df_ship2 = df_ship.rename({'Max wave height': 'waveheight', 'Draught': 'draught',\n",
    "                           'SOG': 'sog', 'Wind Speed': 'windspeed', \n",
    "                           'True Wind Direction': 'truewinddir','Temperature above oceans' : 'oceantemperature',\n",
    "                           'COG': 'cog', 'Current Speed' : 'curspeed','True Wave Direction' : 'truewavedir',\n",
    "                            'Swell period': 'swellperiod','Wind wave period': 'windwaveperiod','Sea surface temperature': 'surftemp',\n",
    "                            'Combined wind waves and swell height': 'windwaveswellheight','Swell height': 'swellheight','Wind wave height': 'windwaveheight',\n",
    "                            'Heading': 'heading','True Current Direction': 'truecurrentdir','True Swell Direction': 'trueswelldir',\n",
    "                            'True Wind Wave Direction': 'truewindwavedir','Wave period': 'waveperiod',\n",
    "                            'True North Wind Direction' : 'truenorthwinddir' , 'True North Current Direction' : 'truenorthcurrentdir'\n",
    "                           }, axis=1) "
   ]
  },
  {
   "cell_type": "code",
   "execution_count": null,
   "metadata": {},
   "outputs": [],
   "source": [
    "df_ship2 = df_ship2[['oceantemperature','waveheight','swellperiod','windwaveperiod','waveperiod','surftemp','windwaveswellheight','swellheight','windwaveheight','draught','sog','cog','heading','windspeed','curspeed','truewinddir','truecurrentdir','trueswelldir','truewindwavedir','truewavedir', 'truenorthwinddir' , 'truenorthcurrentdir']]"
   ]
  },
  {
   "cell_type": "code",
   "execution_count": null,
   "metadata": {},
   "outputs": [],
   "source": [
    "df_ship2 = df_ship2.drop(['waveheight','swellheight','windwaveheight',\n",
    "                        'windwaveperiod','swellperiod',\n",
    "                        'truewindwavedir','trueswelldir',\n",
    "                        'truecurrentdir','truewinddir'],axis=1)"
   ]
  },
  {
   "cell_type": "code",
   "execution_count": null,
   "metadata": {},
   "outputs": [],
   "source": [
    "import numpy as np\n",
    "from sklearn.impute import KNNImputer\n",
    "\n",
    "imputer = KNNImputer(n_neighbors=50)\n",
    "imputer.fit(df_ship2)\n"
   ]
  },
  {
   "cell_type": "code",
   "execution_count": null,
   "metadata": {},
   "outputs": [],
   "source": [
    "X = imputer.transform(df_ship2)"
   ]
  },
  {
   "cell_type": "code",
   "execution_count": null,
   "metadata": {},
   "outputs": [],
   "source": [
    "df_ship2tr = pd.DataFrame(X, columns=df_ship2.columns, index=df_ship2.index)"
   ]
  },
  {
   "cell_type": "code",
   "execution_count": null,
   "metadata": {},
   "outputs": [],
   "source": [
    "x_months3 = df_ship2tr.drop(['sog'],axis=1)\n",
    "y_months3 = df_ship2tr.sog"
   ]
  },
  {
   "cell_type": "code",
   "execution_count": null,
   "metadata": {},
   "outputs": [],
   "source": [
    "print(\"Amount of the test dataset is:\",len(x_months3))"
   ]
  },
  {
   "attachments": {},
   "cell_type": "markdown",
   "metadata": {},
   "source": [
    "Special Section"
   ]
  },
  {
   "cell_type": "code",
   "execution_count": null,
   "metadata": {},
   "outputs": [],
   "source": [
    "# # Check model performance for one trip\n",
    "# # PLEASE COMMMENT WHEN DONE !!!\n",
    "\n",
    "# dfdate6 = dfone6"
   ]
  },
  {
   "attachments": {},
   "cell_type": "markdown",
   "metadata": {},
   "source": [
    "Exporting File"
   ]
  },
  {
   "cell_type": "code",
   "execution_count": null,
   "metadata": {},
   "outputs": [],
   "source": [
    "# df.to_csv('June_update.csv')"
   ]
  },
  {
   "attachments": {},
   "cell_type": "markdown",
   "metadata": {},
   "source": [
    "Measure performance in one month"
   ]
  },
  {
   "cell_type": "code",
   "execution_count": null,
   "metadata": {},
   "outputs": [],
   "source": [
    "dfdate6 = dfdate6.drop(['Unnamed: 0','Time','LON','LAT','Air density above oceans',\n",
    "'Surface pressure','Width','Length'],axis=1)\n",
    "dfdate6.head(n=5)"
   ]
  },
  {
   "cell_type": "code",
   "execution_count": null,
   "metadata": {},
   "outputs": [],
   "source": [
    "dfdate6= dfdate6.rename({'Max wave height': 'waveheight', 'Draught': 'draught',\n",
    "                           'SOG': 'sog', 'Wind Speed': 'windspeed', \n",
    "                           'True Wind Direction': 'truewinddir','Temperature above oceans' : 'oceantemperature',\n",
    "                           'COG': 'cog', 'Current Speed' : 'curspeed','True Wave Direction' : 'truewavedir',\n",
    "                            'Swell period': 'swellperiod','Wind wave period': 'windwaveperiod','Sea surface temperature': 'surftemp',\n",
    "                            'Combined wind waves and swell height': 'windwaveswellheight','Swell height': 'swellheight','Wind wave height': 'windwaveheight',\n",
    "                            'Heading': 'heading','True Current Direction': 'truecurrentdir','True Swell Direction': 'trueswelldir',\n",
    "                            'True Wind Wave Direction': 'truewindwavedir','Wave period': 'waveperiod',\n",
    "                            'True North Wind Direction' : 'truenorthwinddir' , 'True North Current Direction' : 'truenorthcurrentdir'\n",
    "                           }, axis=1) "
   ]
  },
  {
   "cell_type": "code",
   "execution_count": null,
   "metadata": {},
   "outputs": [],
   "source": [
    "# Rearrange column to match model \n",
    "# Also dropping the features as described in the main script\n",
    "\n",
    "dfdate6 = dfdate6[['oceantemperature','waveperiod','surftemp','windwaveswellheight','draught','sog','cog','heading','windspeed','curspeed','truewinddir','truecurrentdir','truewavedir', 'truenorthwinddir' , 'truenorthcurrentdir']]\n",
    "\n",
    "\n",
    "# dfdate6 = dfdate6[['oceantemperature','waveheight','swellperiod','windwaveperiod','waveperiod','surftemp','windwaveswellheight','swellheight','windwaveheight','draught','sog','cog','heading','windspeed','curspeed','truewinddir','truecurrentdir','trueswelldir','truewindwavedir','truewavedir', 'truenorthwinddir' , 'truenorthcurrentdir']]"
   ]
  },
  {
   "cell_type": "code",
   "execution_count": null,
   "metadata": {},
   "outputs": [],
   "source": [
    "stats2 = dfdate6['curspeed'].value_counts()"
   ]
  },
  {
   "cell_type": "code",
   "execution_count": null,
   "metadata": {},
   "outputs": [],
   "source": [
    "import numpy as np\n",
    "from sklearn.impute import KNNImputer\n",
    "\n",
    "imputer = KNNImputer(n_neighbors=50)\n"
   ]
  },
  {
   "cell_type": "code",
   "execution_count": null,
   "metadata": {},
   "outputs": [],
   "source": [
    "imputer.fit(dfdate6)"
   ]
  },
  {
   "cell_type": "code",
   "execution_count": null,
   "metadata": {},
   "outputs": [],
   "source": [
    "xdate = imputer.transform(dfdate6)"
   ]
  },
  {
   "cell_type": "code",
   "execution_count": null,
   "metadata": {},
   "outputs": [],
   "source": [
    "dfdate6tr = pd.DataFrame(xdate, columns=dfdate6.columns, index=dfdate6.index)"
   ]
  },
  {
   "cell_type": "code",
   "execution_count": null,
   "metadata": {},
   "outputs": [],
   "source": [
    "# x_date = dfdate6tr.drop(['sog','truenorthcurrentdir','truenorthwinddir'],axis=1)\n",
    "# y_date = dfdate6tr.sog\n",
    "\n",
    "x_date = dfdate6tr.drop(['sog','truecurrentdir','truewinddir'],axis=1)\n",
    "y_date = dfdate6tr.sog"
   ]
  },
  {
   "cell_type": "code",
   "execution_count": null,
   "metadata": {},
   "outputs": [],
   "source": [
    "print(f\"Amount of the test dataset is {len(x_date)}\")"
   ]
  },
  {
   "cell_type": "code",
   "execution_count": null,
   "metadata": {},
   "outputs": [],
   "source": [
    "dfdate6.describe()"
   ]
  },
  {
   "attachments": {},
   "cell_type": "markdown",
   "metadata": {},
   "source": [
    "Reverse Modelling Test "
   ]
  },
  {
   "attachments": {},
   "cell_type": "markdown",
   "metadata": {},
   "source": [
    "Concatenate test and validation data "
   ]
  },
  {
   "cell_type": "code",
   "execution_count": null,
   "metadata": {},
   "outputs": [],
   "source": [
    "x_date_c = pd.concat([x_date,x_months3])\n",
    "y_date_c = pd.concat([y_date,y_months3])"
   ]
  },
  {
   "cell_type": "code",
   "execution_count": null,
   "metadata": {},
   "outputs": [],
   "source": [
    "def evaluate(model, features_x, labels_y):\n",
    "    from sklearn.model_selection import cross_val_score\n",
    "\n",
    "    score_r2 = cross_val_score(model,features_x,labels_y,\n",
    "                           scoring='r2',cv=10)\n",
    "    rsquared = score_r2.mean()\n",
    "\n",
    "    score_expVar = cross_val_score(model,features_x,labels_y,\n",
    "                           scoring='explained_variance',cv=10)\n",
    "    expVar = score_expVar.mean()\n",
    "\n",
    "    score_MAE = cross_val_score(model,features_x,labels_y,\n",
    "                           scoring='neg_mean_absolute_error',cv=10)\n",
    "    MAE = -score_MAE.mean()\n",
    "\n",
    "    score_MAD = cross_val_score(model,features_x,labels_y,\n",
    "                           scoring='neg_median_absolute_error',cv=10)\n",
    "    MAD = -score_MAD.mean()\n",
    "\n",
    "    score_RMSE = cross_val_score(model,features_x,labels_y,\n",
    "                           scoring='neg_root_mean_squared_error',cv=10)\n",
    "    RMSE = -score_RMSE.mean()\n",
    "\n",
    "    print(f\"Model Performance of {model}\")\n",
    "    print(f\"R^2: {rsquared:0.4f}\")\n",
    "    print(f\"explained Variance = {expVar:0.4f}\")\n",
    "    print(f\"MAE = {MAE:0.4f}\")\n",
    "    print(f\"RMSE = {RMSE:0.4f}\")\n",
    "    print(f\"MAD = {MAD:0.4f}\\n\")\n",
    "\n",
    "    return score_r2,score_expVar,score_MAE,score_MAD,score_RMSE    "
   ]
  },
  {
   "attachments": {},
   "cell_type": "markdown",
   "metadata": {},
   "source": [
    "RFR evaluation"
   ]
  },
  {
   "cell_type": "code",
   "execution_count": null,
   "metadata": {},
   "outputs": [],
   "source": [
    "r2_rf,expVar_rf,MAE_rf,RMSE_rf,MAD_rf = evaluate(model_rfr_ftr,x_date,y_date)"
   ]
  },
  {
   "attachments": {},
   "cell_type": "markdown",
   "metadata": {},
   "source": [
    "RFR evaluation of June + 3 Months data"
   ]
  },
  {
   "cell_type": "code",
   "execution_count": null,
   "metadata": {},
   "outputs": [],
   "source": [
    "r2_rfc,expVar_rfc,MAE_rfc,RMSE_rfc,MAD_rfc = evaluate(model_rfr_ftr,x_date_c,y_date_c)"
   ]
  },
  {
   "cell_type": "code",
   "execution_count": null,
   "metadata": {},
   "outputs": [],
   "source": [
    "r2_rfo,expVar_rfo,MAE_rfo,RMSE_rfo,MAD_rfo = evaluate(model_rfr_hpov,x_date,y_date)"
   ]
  },
  {
   "cell_type": "code",
   "execution_count": null,
   "metadata": {},
   "outputs": [],
   "source": [
    "r2_et,expVar_et,MAE_et,RMSE_et,MAD_et = evaluate(model_etr,x_date,y_date)"
   ]
  },
  {
   "cell_type": "code",
   "execution_count": null,
   "metadata": {},
   "outputs": [],
   "source": [
    "r2_eto,expVar_eto,MAE_eto,RMSE_eto,MAD_eto = evaluate(model_etr_hpov,x_date,y_date)"
   ]
  },
  {
   "cell_type": "code",
   "execution_count": null,
   "metadata": {},
   "outputs": [],
   "source": [
    "r2_dt,expVar_dt,MAE_dt,RMSE_dt,MAD_dt = evaluate(model_dtr_ftr,x_date,y_date)"
   ]
  },
  {
   "cell_type": "code",
   "execution_count": null,
   "metadata": {},
   "outputs": [],
   "source": [
    "r2_dto,expVar_dto,MAE_dto,RMSE_dto,MAD_dto = evaluate(model_dtr_hpov,x_date,y_date)"
   ]
  },
  {
   "cell_type": "code",
   "execution_count": null,
   "metadata": {},
   "outputs": [],
   "source": [
    "r2_mlr,expVar_mlr,MAE_mlr,RMSE_mlr,MAD_mlr = evaluate(model_mlr_ftr,x_date,y_date)"
   ]
  },
  {
   "cell_type": "code",
   "execution_count": 126,
   "metadata": {},
   "outputs": [],
   "source": [
    "# fit a y = mx + c for the predicted vs actual  \n",
    "\n",
    "from numpy import arange\n",
    "from scipy.optimize import curve_fit\n",
    "\n",
    "# plt.figure(figsize=(5,5))\n",
    "\n",
    "# define the true objective function\n",
    "def objective(x, a, b ):\n",
    "\treturn a * x + b\n",
    "\n",
    "def label_predict(model,test_features):\n",
    "    predictions = model.predict(test_features)\n",
    "    return predictions\n",
    "\n",
    "def pred_plot(model,modelname,test_feature,test_label):\n",
    "    \n",
    "    plt.rcParams.update({\n",
    "\t\"text.usetex\": True,\n",
    "\t\"font.family\": \"serif\",\n",
    "\t\"font.serif\": \"bookman\",\n",
    "\t})\n",
    "    from sklearn.linear_model import LinearRegression\n",
    "    predict = label_predict(model,test_feature)\n",
    "\n",
    "    from sklearn.metrics import r2_score\n",
    "\n",
    "    print(r2_score(test_label, predict))\n",
    "\n",
    "    # choose the input and output variables\n",
    "    x, y = test_label, predict\n",
    "\n",
    "    reg = LinearRegression().fit(x.values.reshape(-1,1) , y)\n",
    "    b = reg.intercept_\n",
    "    m = reg.coef_[0]\n",
    "    plt.axline(xy1=(0, b), slope=m, label=rf'$y = {m:.1f}x {b:+.1f}$',color = 'r', ls ='--')\n",
    "\n",
    "    # curve fit\n",
    "    popt, _ = curve_fit(objective, x, y)\n",
    "\n",
    "    # summarize the parameter values\n",
    "    a, b = popt\n",
    "    print('y = %.1f * x + %.1f' % (a, b ))\n",
    "\n",
    "    # plot input vs output\n",
    "    \n",
    "    plt.scatter(x, y,edgecolors='black')\n",
    "    \n",
    "    # define a sequence of inputs between the smallest and largest known inputs\n",
    "    \n",
    "    x_line = arange(min(x), max(x), 1)\n",
    "        \n",
    "    # calculate the output for the range\n",
    "    \n",
    "    y_line = objective(x_line, a, b)\n",
    "    \n",
    "    # create a line plot for the mapping function\n",
    "    \n",
    "    # plt.plot(x_line, y_line, color='red')\n",
    "    plt.xlabel(r'Predicted SOG [$m/s$]', fontsize=13)\n",
    "    plt.ylabel(r'Actual SOG [$m/s$]', fontsize=13)\n",
    "    plt.grid(linestyle = '--', linewidth = 0.5)\n",
    "    plt.title(rf\"{modelname}\", fontsize=14)\n",
    "    plt.xlim(0,25)\n",
    "    plt.ylim(0,25)\n",
    "    plt.legend()\n",
    "\n"
   ]
  },
  {
   "cell_type": "code",
   "execution_count": 127,
   "metadata": {},
   "outputs": [
    {
     "name": "stdout",
     "output_type": "stream",
     "text": [
      "0.7740099243031933\n",
      "y = 0.86928 * x + 1.85310\n",
      "0.8257225917278368\n",
      "y = 0.85924 * x + 2.06399\n"
     ]
    },
    {
     "data": {
      "image/png": "[encoded data removed]",
      "text/plain": [
       "<Figure size 1000x400 with 2 Axes>"
      ]
     },
     "metadata": {},
     "output_type": "display_data"
    }
   ],
   "source": [
    "fig, axes = plt.subplots(ncols=2, figsize=(10, 4), sharey=True)\n",
    "plt.sca(axes[0])\n",
    "pred_plot(model_dtr_ftr,'Decision Tree Regressor',x_date,y_date)\n",
    "plt.sca(axes[1])\n",
    "pred_plot(model_dtr_hpov,'Decision Tree Regressor + HPO',x_date,y_date)\n",
    "plt.ylabel(\"\")\n",
    "plt.show()"
   ]
  },
  {
   "cell_type": "code",
   "execution_count": 129,
   "metadata": {},
   "outputs": [
    {
     "name": "stdout",
     "output_type": "stream",
     "text": [
      "0.8633935155862622\n",
      "y = 0.84995 * x + 2.19810\n",
      "0.8643296965813405\n",
      "y = 0.84410 * x + 2.30175\n"
     ]
    },
    {
     "data": {
      "image/png": "[encoded data removed]",
      "text/plain": [
       "<Figure size 1000x400 with 2 Axes>"
      ]
     },
     "metadata": {},
     "output_type": "display_data"
    }
   ],
   "source": [
    "fig, axes = plt.subplots(ncols=2, figsize=(10, 4), sharey=True)\n",
    "plt.sca(axes[0])\n",
    "pred_plot(model_rfr_ftr,'Random Forest Regressor',x_date,y_date)\n",
    "plt.sca(axes[1])\n",
    "pred_plot(model_rfr_hpov,'Random Forest Regressor + HPO',x_date,y_date)\n",
    "plt.ylabel(\"\")\n",
    "plt.show()"
   ]
  },
  {
   "cell_type": "code",
   "execution_count": 130,
   "metadata": {},
   "outputs": [
    {
     "name": "stdout",
     "output_type": "stream",
     "text": [
      "0.8745598516545046\n",
      "y = 0.85605 * x + 2.09901\n",
      "0.8699717740444685\n",
      "y = 0.83479 * x + 2.43534\n"
     ]
    },
    {
     "data": {
      "image/png": "[encoded data removed]",
      "text/plain": [
       "<Figure size 1000x400 with 2 Axes>"
      ]
     },
     "metadata": {},
     "output_type": "display_data"
    }
   ],
   "source": [
    "fig, axes = plt.subplots(ncols=2, figsize=(10, 4), sharey=True)\n",
    "plt.sca(axes[0])\n",
    "pred_plot(model_etr,'Extra Trees Regressor',x_date,y_date)\n",
    "plt.sca(axes[1])\n",
    "pred_plot(model_etr_hpov,'Extra Trees Regressor + HPO',x_date,y_date)\n",
    "plt.ylabel(\"\")\n",
    "plt.show()"
   ]
  },
  {
   "attachments": {},
   "cell_type": "markdown",
   "metadata": {},
   "source": [
    "Evaluation using Cross Validation"
   ]
  },
  {
   "cell_type": "code",
   "execution_count": null,
   "metadata": {},
   "outputs": [],
   "source": [
    "scores_test = [r2_rf,r2_et,r2_dt,r2_mlr]\n",
    "fig = plt.figure(figsize=(5,3))\n",
    "# Creating axes instance\n",
    "# ax = fig.add_axes([0, 0, 1, 1])\n",
    "fig,ax = plt.subplots()\n",
    "plt.title(\"Validation Data Model Performance\")\n",
    "plt.ylabel(\"R-squared\")\n",
    "plt.xlabel(\"Model\")\n",
    "plt.yscale('linear')\n",
    "plt.ylim(0.2,1.0)\n",
    "plt.boxplot(scores_test,showmeans=True)\n",
    "plt.grid(axis='y',linestyle = '--', linewidth = 0.5)\n",
    "ax.set_xticklabels(['RFR', 'ETR',\n",
    "                    'DTR','MLR'])\n",
    "plt.show()"
   ]
  },
  {
   "cell_type": "code",
   "execution_count": null,
   "metadata": {},
   "outputs": [],
   "source": [
    "scores_test = [-RMSE_rf,-RMSE_et,-RMSE_dt,-RMSE_mlr]\n",
    "fig = plt.figure(figsize=(5,3))\n",
    "# Creating axes instance\n",
    "# ax = fig.add_axes([0, 0, 1, 1])\n",
    "fig,ax = plt.subplots()\n",
    "plt.title(\"Validation Data Model Performance\")\n",
    "plt.ylabel(\"RMSE\")\n",
    "plt.xlabel(\"Model\")\n",
    "plt.yscale('linear')\n",
    "plt.ylim(0,1.6)\n",
    "plt.boxplot(scores_test,showmeans=True)\n",
    "plt.grid(axis='y',linestyle = '--', linewidth = 0.5)\n",
    "ax.set_xticklabels(['RFR', 'ETR',\n",
    "                    'DTR','MLR'])\n",
    "plt.show()"
   ]
  },
  {
   "attachments": {},
   "cell_type": "markdown",
   "metadata": {},
   "source": [
    "Optimization comparison"
   ]
  },
  {
   "cell_type": "code",
   "execution_count": null,
   "metadata": {},
   "outputs": [],
   "source": [
    "scores_opt = [r2_rf,r2_rfo,r2_et,r2_eto,r2_dt,r2_dto]\n",
    "fig = plt.figure(figsize=(5,3))\n",
    "# Creating axes instance\n",
    "fig,ax = plt.subplots() \n",
    "plt.title(\"Optimized Model on Test Dataset Performance\")\n",
    "plt.ylabel(\"R-squared\")\n",
    "plt.xlabel(\"Model\")\n",
    "plt.ylim(0.2,1.0)\n",
    "plt.yscale('linear')\n",
    "ax.boxplot(scores_opt,showmeans=True)\n",
    "plt.grid(axis='y',linestyle = '--', linewidth = 0.5)\n",
    "ax.set_xticklabels([r'RFR', r'$RFR_{opt}$',\n",
    "                    r'ETR', r'$ETR_{opt}$',\n",
    "                    r'DTR',r'$DTR_{opt}$'])\n",
    "plt.show()"
   ]
  },
  {
   "cell_type": "code",
   "execution_count": null,
   "metadata": {},
   "outputs": [],
   "source": [
    "rmse_opt = [-RMSE_rf,-RMSE_rfo,-RMSE_et,-RMSE_eto,-RMSE_dt,-RMSE_dto]\n",
    "fig = plt.figure(figsize=(5,3))\n",
    "# Creating axes instance\n",
    "fig,ax = plt.subplots() \n",
    "plt.title(\"Optimized Model Performance\")\n",
    "plt.ylabel(\"RMSE\")\n",
    "plt.xlabel(\"Model\")\n",
    "plt.yscale('linear')\n",
    "plt.ylim(1.6,0)\n",
    "ax.boxplot(rmse_opt,showmeans=True)\n",
    "plt.grid(axis='y',linestyle = '--', linewidth = 0.5)\n",
    "ax.set_xticklabels([r'RFR', r'$RFR_{opt}$',\n",
    "                    r'ETR', r'$ETR_{opt}$',\n",
    "                    r'DTR',r'$DTR_{opt}$'])\n",
    "plt.show()"
   ]
  },
  {
   "cell_type": "code",
   "execution_count": null,
   "metadata": {},
   "outputs": [],
   "source": [
    "# define the true objective function\n",
    "def objective(x, a, b, c):\n",
    "\treturn a * x + b * x**2 + c"
   ]
  },
  {
   "cell_type": "code",
   "execution_count": null,
   "metadata": {},
   "outputs": [],
   "source": [
    "# fit a second degree polynomial to the economic data\n",
    "from numpy import arange\n",
    "from scipy.optimize import curve_fit\n",
    "\n",
    "plt.figure(figsize=(10,10))\n",
    "\n",
    "# define the true objective function\n",
    "def objective(x, a, b ):\n",
    "\treturn a * x + b\n",
    "\n",
    "def label_predict(model,test_features):\n",
    "    predictions = model.predict(test_features)\n",
    "    return predictions\n",
    "\n",
    "y = label_predict(model_mlr_ftr,x_date)\n",
    "y2 = label_predict(model_rfr_hpov,x_date)\n",
    "\n",
    "from sklearn.metrics import r2_score\n",
    "\n",
    "print(r2_score(y_date, y))\n",
    "print(r2_score(y_date,y2))\n",
    "\n",
    "# choose the input and output variables\n",
    "x, y = y_date, y\n",
    "x2, y2 = y_date, y2\n",
    "# curve fit\n",
    "popt, _ = curve_fit(objective, x, y)\n",
    "popt2, _ = curve_fit(objective, x2, y2)\n",
    "\n",
    "# summarize the parameter values\n",
    "a, b = popt\n",
    "print('y = %.5f * x + %.5f' % (a, b ))\n",
    "a2, b2 = popt2\n",
    "print('y = %.5f * x + %.5f' % (a2, b2))\n",
    "# plot input vs output\n",
    "plt.scatter(x, y)\n",
    "plt.scatter(x2, y2)\n",
    "# define a sequence of inputs between the smallest and largest known inputs\n",
    "x_line = arange(min(x), max(x), 1)\n",
    "x_line2 = arange(min(x), max(x), 1)\n",
    "# calculate the output for the range\n",
    "y_line = objective(x_line, a, b)\n",
    "y_line2 = objective(x_line2, a2, b2)\n",
    "# create a line plot for the mapping function\n",
    "plt.plot(x_line, y_line, color='red')\n",
    "plt\t.plot(x_line2, y_line2, color='green')\n",
    "plt.xlabel('STWpred', fontsize=15)\n",
    "plt.ylabel('STWact', fontsize=15)\n",
    "plt.show()"
   ]
  },
  {
   "attachments": {},
   "cell_type": "markdown",
   "metadata": {},
   "source": [
    "STW Calculation"
   ]
  },
  {
   "cell_type": "code",
   "execution_count": null,
   "metadata": {},
   "outputs": [],
   "source": [
    "def label_predict(model,test_features):\n",
    "    predictions = model.predict(test_features)\n",
    "    return predictions\n",
    "\n",
    "ydate_pred = label_predict(model_mlr_ftr,x_date)\n",
    " \n",
    "dfprog_sog = pd.Series(y_date,name=\"sog_act\").to_frame()\n",
    "dfprog_sog[\"sog_pred\"] = ydate_pred\n",
    "dfprog_sog[\"gamma\"] = dfdate6tr[\"truenorthcurrentdir\"]\n",
    "dfprog_sog[\"nwinddir\"] = dfdate6tr[\"truenorthwinddir\"]\n",
    "\n",
    "print(dfprog_sog)"
   ]
  },
  {
   "cell_type": "code",
   "execution_count": null,
   "metadata": {},
   "outputs": [],
   "source": [
    "dfprog = pd.concat([x_date,dfprog_sog],axis=1)\n",
    "dfprog.head(n=10)"
   ]
  },
  {
   "cell_type": "code",
   "execution_count": null,
   "metadata": {},
   "outputs": [],
   "source": [
    "# Conversion of predicted SOG to m/s\n",
    "\n",
    "dfprog[\"vgms\"] = dfprog[\"sog_pred\"]/1.9438\n",
    "\n",
    "# Conversion of actual SOG to m/s\n",
    "\n",
    "dfprog[\"vgms_act\"] = dfprog[\"sog_act\"]/1.9438"
   ]
  },
  {
   "cell_type": "code",
   "execution_count": null,
   "metadata": {},
   "outputs": [],
   "source": [
    "# Conversion of the angles to radian\n",
    "\n",
    "rad_gamma = np.deg2rad(dfprog[\"gamma\"])\n",
    "rad_cog = np.deg2rad(dfprog[\"cog\"])"
   ]
  },
  {
   "cell_type": "code",
   "execution_count": null,
   "metadata": {},
   "outputs": [],
   "source": [
    "# Calculation of the predicted x-component of SOG\n",
    "\n",
    "dfprog[\"vgx\"] = dfprog[\"vgms\"] * np.sin(rad_cog)\n",
    "dfprog[\"vcx\"] = dfprog[\"curspeed\"] * np.sin(rad_gamma)\n",
    "dfprog[\"stw_x\"] = (dfprog[\"vgx\"] - dfprog[\"vcx\"])\n",
    "\n",
    "# Calculation of the actual x-component of SOG\n",
    "\n",
    "dfprog[\"vgx_act\"] = dfprog[\"vgms_act\"] * np.sin(rad_cog)\n",
    "dfprog[\"stw_x_act\"] = (dfprog[\"vgx_act\"] - dfprog[\"vcx\"])\n"
   ]
  },
  {
   "cell_type": "code",
   "execution_count": null,
   "metadata": {},
   "outputs": [],
   "source": [
    "# Calculation of the predicted y-component of SOG \n",
    "\n",
    "dfprog[\"vgy\"] = dfprog[\"vgms\"] * np.cos(rad_cog)\n",
    "dfprog[\"vcy\"] = dfprog[\"curspeed\"] * np.cos(rad_gamma)\n",
    "dfprog[\"stw_y\"] = (dfprog[\"vgy\"] - dfprog[\"vcy\"])\n",
    "\n",
    "# Calculation of the actual y-component of SOG\n",
    "\n",
    "dfprog[\"vgy_act\"] = dfprog[\"vgms_act\"] * np.cos(rad_cog)\n",
    "dfprog[\"stw_y_act\"] = (dfprog[\"vgy_act\"] - dfprog[\"vcy\"])\n"
   ]
  },
  {
   "cell_type": "code",
   "execution_count": null,
   "metadata": {},
   "outputs": [],
   "source": [
    "# For the actual data\n",
    "dfprog[\"vwms_a\"] = np.sqrt(dfprog[\"stw_x_act\"]**2 + dfprog[\"stw_y_act\"]**2)\n",
    "dfprog[\"stw_act\"] = dfprog[\"vwms_a\"]*1.9438\n",
    "\n",
    "# For the prediction\n",
    "\n",
    "dfprog[\"vwms_p\"] = np.sqrt(dfprog[\"stw_x\"]**2 + dfprog[\"stw_y\"]**2)\n",
    "dfprog[\"stw_pred\"] = dfprog[\"vwms_p\"]*1.9438\n",
    "\n"
   ]
  },
  {
   "cell_type": "code",
   "execution_count": null,
   "metadata": {},
   "outputs": [],
   "source": [
    "dfprog = dfprog.drop(['vgms','vgx','vcx','stw_x',\n",
    "                      'vgy','vcy','stw_y',\n",
    "                      'vgms_act','vgx_act','stw_x_act',\n",
    "                      'vgy_act','stw_y_act',\n",
    "                      'vwms_p','vwms_a'],axis=1)\n",
    "#df_ship.head(n=5)\n",
    "dfprog.head(n=10)"
   ]
  },
  {
   "cell_type": "code",
   "execution_count": null,
   "metadata": {},
   "outputs": [],
   "source": [
    "dfprog.describe()"
   ]
  },
  {
   "cell_type": "code",
   "execution_count": null,
   "metadata": {},
   "outputs": [],
   "source": [
    "# FOC in T/d\n",
    "dfprog[\"foc_act_d\"] = ((dfprog[\"stw_act\"]/17.7)**3) * 21.14112\n",
    "dfprog[\"foc_pred_d\"] = ((dfprog[\"stw_pred\"]/17.7)**3) * 21.14112\n",
    "\n",
    "# FOC in T/h\n",
    "dfprog[\"foc_act_h\"] = ((dfprog[\"stw_act\"]/17.7)**3) * 0.8808\n",
    "dfprog[\"foc_pred_h\"] = ((dfprog[\"stw_pred\"]/17.7)**3) * 0.8808"
   ]
  },
  {
   "cell_type": "code",
   "execution_count": null,
   "metadata": {},
   "outputs": [],
   "source": [
    "dfprog.head(n=10)"
   ]
  },
  {
   "cell_type": "code",
   "execution_count": null,
   "metadata": {},
   "outputs": [],
   "source": [
    "# df_foc=dfprog.drop(['oceantemperature','waveheight','swellperiod','windwaveperiod','waveperiod',\n",
    "#                     'surftemp','windwaveswellheight','swellheight','windwaveheight','swellheight',\n",
    "#                     'windwaveheight','draught','cog','heading','windspeed','curspeed','truewinddir','truecurrentdir','trueswelldir','truewindwavedir',\n",
    "#                     'truewavedir','gamma','nwinddir'],axis=1)\n",
    "\n",
    "df_foc=dfprog.drop(['oceantemperature','waveperiod',\n",
    "                    'surftemp','windwaveswellheight',\n",
    "                    'draught','cog','heading','windspeed','curspeed',\n",
    "                    'truewavedir'],axis=1)"
   ]
  },
  {
   "cell_type": "code",
   "execution_count": null,
   "metadata": {},
   "outputs": [],
   "source": [
    "import matplotlib.pyplot as plt\n",
    "plt.rcParams.update(plt.rcParamsDefault)\n",
    "df_foc.hist(bins=50,figsize=(20,15))\n",
    "plt.show()"
   ]
  },
  {
   "cell_type": "code",
   "execution_count": null,
   "metadata": {},
   "outputs": [],
   "source": [
    "foc_month = dfprog['foc_pred_d'].mean()\n",
    "foc_month_a = dfprog['foc_act_d'].mean()\n",
    "print(f\"Mean of predicted FOC in a month is {foc_month} T/d\")\n",
    "print(f\"Mean of actual FOC in a month is {foc_month_a} T/d\")"
   ]
  },
  {
   "cell_type": "code",
   "execution_count": null,
   "metadata": {},
   "outputs": [],
   "source": [
    "foc_trip = dfprog['foc_pred_h'].mean() * 4\n",
    "foc_trip_a = dfprog['foc_act_h'].mean() * 4\n",
    "foc_trip_err = foc_trip_a - foc_trip\n",
    "print(f\"Mean of predicted FOC in a 4h trip is {foc_trip} T\")\n",
    "print(f\"Mean of actual FOC in a trip in a 4h trip is {foc_trip_a} T\")\n",
    "print(f\"Error is {foc_trip_err} T\")"
   ]
  },
  {
   "cell_type": "code",
   "execution_count": null,
   "metadata": {},
   "outputs": [],
   "source": [
    "# plt.figure(figsize=(10,10))\n",
    "# plt.scatter(dfprog['stw_pred'], dfprog['stw_act'], c='crimson')\n",
    "# # plt.yscale('log')\n",
    "# # plt.xscale('log')\n",
    "\n",
    "# p1 = max(max(dfprog['stw_pred']), max(dfprog['stw_act']))\n",
    "# p2 = min(min(dfprog['stw_pred']), min(dfprog['stw_act']))\n",
    "# plt.plot([p1, p2], [p1, p2], 'b-')\n",
    "# # plt.xscale('linear')\n",
    "# plt.xlim(0,25)\n",
    "# plt.ylim(0,30)\n",
    "# plt.xlabel('STW', fontsize=15)\n",
    "# plt.ylabel('FOC', fontsize=15)\n",
    "# # plt.axis('equal')\n",
    "# plt.show()"
   ]
  },
  {
   "cell_type": "code",
   "execution_count": null,
   "metadata": {},
   "outputs": [],
   "source": [
    "# define the true objective function\n",
    "def objective(x, a, b, c):\n",
    "\treturn a * x + b * x**2 + c"
   ]
  },
  {
   "cell_type": "code",
   "execution_count": null,
   "metadata": {},
   "outputs": [],
   "source": [
    "# fit a second degree polynomial to the economic data\n",
    "from numpy import arange\n",
    "from scipy.optimize import curve_fit\n",
    "\n",
    "plt.figure(figsize=(10,10))\n",
    "\n",
    "# define the true objective function\n",
    "def objective(x, a, b ):\n",
    "\treturn a * x + b\n",
    "\n",
    "# choose the input and output variables\n",
    "x, y = dfprog.stw_pred, dfprog.stw_act\n",
    "# x2, y2 = dfprog.stw_pred, dfprog.foc_pred_d\n",
    "# curve fit\n",
    "popt, _ = curve_fit(objective, x, y)\n",
    "# popt2, _ = curve_fit(objective, x2, y2)\n",
    "\n",
    "# summarize the parameter values\n",
    "a, b = popt\n",
    "print('y = %.5f * x + %.5f' % (a, b ))\n",
    "# a2, b2, c2 = popt2\n",
    "# print('y = %.5f * x + %.5f * x^2 + %.5f' % (a2, b2, c2))\n",
    "# plot input vs output\n",
    "plt.scatter(x, y)\n",
    "# plt.scatter(x2, y2)\n",
    "# define a sequence of inputs between the smallest and largest known inputs\n",
    "x_line = arange(min(x), max(x), 1)\n",
    "# x_line2 = arange(min(x), max(x), 1)\n",
    "# calculate the output for the range\n",
    "y_line = objective(x_line, a, b)\n",
    "# y_line2 = objective(x_line2, a2, b2, c2)\n",
    "# create a line plot for the mapping function\n",
    "plt.plot(x_line, y_line, color='red')\n",
    "# plt\t.plot(x_line2, y_line2, color='green')\n",
    "plt.xlabel('STWpred', fontsize=15)\n",
    "plt.ylabel('STWact', fontsize=15)\n",
    "plt.show()"
   ]
  },
  {
   "attachments": {},
   "cell_type": "markdown",
   "metadata": {},
   "source": [
    "y = 1.06917 * x + -0.72944\n",
    "\n",
    "linear y = 0.96885 * x + 0.96831\n",
    "\n"
   ]
  }
 ],
 "metadata": {
  "kernelspec": {
   "display_name": "Python 3",
   "language": "python",
   "name": "python3"
  },
  "language_info": {
   "codemirror_mode": {
    "name": "ipython",
    "version": 3
   },
   "file_extension": ".py",
   "mimetype": "text/x-python",
   "name": "python",
   "nbconvert_exporter": "python",
   "pygments_lexer": "ipython3",
   "version": "3.9.15"
  },
  "orig_nbformat": 4
 },
 "nbformat": 4,
 "nbformat_minor": 2
}
